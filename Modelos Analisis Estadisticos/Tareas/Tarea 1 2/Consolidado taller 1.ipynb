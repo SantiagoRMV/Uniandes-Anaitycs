{
 "cells": [
  {
   "cell_type": "markdown",
   "metadata": {
    "nbgrader": {
     "grade": false,
     "grade_id": "header",
     "locked": true,
     "schema_version": 3,
     "solution": false,
     "task": false
    },
    "tags": [
     "{}"
    ]
   },
   "source": [
    "<img src=\"Archivos/miad4.png\" width=900x>\n",
    "\n",
    " # TAREA 1\n",
    "\n",
    "**Departamento de Ingeniería Industrial.**\n",
    "\n",
    "**Maestría en Inteligencia Analítica para la Toma de Decisiones (Analytics).**\n",
    "\n",
    "**Modelos de Análisis Estadístico (MIIA 4100) - 202320.**\n",
    "\n",
    "Por ningún motivo se recibirán entregas posteriores a la hora límite. En caso de no realizar la entrega la nota asignada será 0.\n",
    "\n",
    "Notas: La entrega del taller deberá hacerse en un informe autocontenido incluyendo las **gráficas,interpretación y conclusiones**. Adicionalmente debe entregarse el código utilizado en un archivo ipynb, de considerar necesario comentar todas las partes del codigo que crean necesarias para el entendimiento del codigo.\n",
    "\n",
    "Para todos los literales que lo requieran, se recomienda utilizar una significancia del 5% (confianza del 95%). En caso de utilizar otro nivel de significancia, hacerlo explícito en el informe.\n",
    "\n",
    "______________________________________________________________________\n",
    "\n"
   ]
  },
  {
   "cell_type": "markdown",
   "metadata": {
    "nbgrader": {
     "grade": false,
     "grade_id": "eje-enun",
     "locked": true,
     "schema_version": 3,
     "solution": false,
     "task": false
    }
   },
   "source": [
    "## Ejercicio 1\n",
    "(40%) La base de datos contenida en resultadosicfes.csv tiene información de los \n",
    "resultados obtenidos en 2019, estos resultados muestran todos los departamentos de \n",
    "Colombia, por favor tomar como muestra los resultados de los siguientes 5 departamentos; La \n",
    "Guajira, Valle, Atlántico, Bogotá (la cual en las estadísticas se tiene como departamento) y \n",
    "Huila. El objetivo es realizar un análisis exploratorio de los datos.\n"
   ]
  },
  {
   "cell_type": "markdown",
   "metadata": {
    "nbgrader": {
     "grade": false,
     "grade_id": "eje-enun",
     "locked": true,
     "schema_version": 3,
     "solution": false,
     "task": false
    }
   },
   "source": [
    "a. (20%) Identifique las variables continuas y para CADA UNA de éstas:\n",
    "- Determine cuántos valores perdidos tiene cada una.\n",
    "- Calcule la media, desviación estándar, máximo y mínimo.\n",
    "- Identifique los departamentos donde los estudiantes obtuvieron un puntaje en matemáticas mayor a 55, un puntaje en lectura mayor a 60 y un puntaje en ingles mayor a 70 reemplace estos valores por valores perdidos. En lo que sigue trabaje con estas variables corregidas.<br> \n",
    "- Calcule nuevamente la media, desviación estándar, máximo, mínimo. Compare los resultados con los hallados los 2 literales anteriores y comente. "
   ]
  },
  {
   "cell_type": "code",
   "execution_count": 1,
   "metadata": {},
   "outputs": [],
   "source": [
    "#Importando paquetes\n",
    "import pandas as pd\n",
    "import numpy as np\n",
    "import matplotlib.pyplot as plt"
   ]
  },
  {
   "cell_type": "code",
   "execution_count": 2,
   "metadata": {
    "nbgrader": {
     "grade": false,
     "grade_id": "eje-data",
     "locked": true,
     "schema_version": 3,
     "solution": false,
     "task": false
    },
    "scrolled": false
   },
   "outputs": [
    {
     "data": {
      "text/html": [
       "<div>\n",
       "<style scoped>\n",
       "    .dataframe tbody tr th:only-of-type {\n",
       "        vertical-align: middle;\n",
       "    }\n",
       "\n",
       "    .dataframe tbody tr th {\n",
       "        vertical-align: top;\n",
       "    }\n",
       "\n",
       "    .dataframe thead th {\n",
       "        text-align: right;\n",
       "    }\n",
       "</style>\n",
       "<table border=\"1\" class=\"dataframe\">\n",
       "  <thead>\n",
       "    <tr style=\"text-align: right;\">\n",
       "      <th></th>\n",
       "      <th>ESTU_GENERO</th>\n",
       "      <th>ESTU_DEPTO_RESIDE</th>\n",
       "      <th>FAMI_ESTRATOVIVIENDA</th>\n",
       "      <th>COLE_NATURALEZA</th>\n",
       "      <th>COLE_AREA_UBICACION</th>\n",
       "      <th>COLE_JORNADA</th>\n",
       "      <th>PUNT_LECTURA_CRITICA</th>\n",
       "      <th>PUNT_MATEMATICAS</th>\n",
       "      <th>PUNT_C_NATURALES</th>\n",
       "      <th>PUNT_SOCIALES_CIUDADANAS</th>\n",
       "      <th>PUNT_INGLES</th>\n",
       "      <th>PUNT_GLOBAL</th>\n",
       "      <th>PERCENTIL_GLOBAL</th>\n",
       "    </tr>\n",
       "  </thead>\n",
       "  <tbody>\n",
       "    <tr>\n",
       "      <th>0</th>\n",
       "      <td>M</td>\n",
       "      <td>MAGDALENA</td>\n",
       "      <td>Estrato 3</td>\n",
       "      <td>OFICIAL</td>\n",
       "      <td>URBANO</td>\n",
       "      <td>MAÃ‘ANA</td>\n",
       "      <td>47</td>\n",
       "      <td>48</td>\n",
       "      <td>37</td>\n",
       "      <td>30</td>\n",
       "      <td>54.0</td>\n",
       "      <td>208</td>\n",
       "      <td>25.0</td>\n",
       "    </tr>\n",
       "    <tr>\n",
       "      <th>1</th>\n",
       "      <td>M</td>\n",
       "      <td>BOGOTÃ</td>\n",
       "      <td>Estrato 3</td>\n",
       "      <td>NO OFICIAL</td>\n",
       "      <td>URBANO</td>\n",
       "      <td>COMPLETA</td>\n",
       "      <td>60</td>\n",
       "      <td>65</td>\n",
       "      <td>54</td>\n",
       "      <td>59</td>\n",
       "      <td>63.0</td>\n",
       "      <td>299</td>\n",
       "      <td>83.0</td>\n",
       "    </tr>\n",
       "    <tr>\n",
       "      <th>2</th>\n",
       "      <td>M</td>\n",
       "      <td>BOLIVAR</td>\n",
       "      <td>Estrato 1</td>\n",
       "      <td>OFICIAL</td>\n",
       "      <td>URBANO</td>\n",
       "      <td>MAÃ‘ANA</td>\n",
       "      <td>66</td>\n",
       "      <td>57</td>\n",
       "      <td>41</td>\n",
       "      <td>74</td>\n",
       "      <td>64.0</td>\n",
       "      <td>299</td>\n",
       "      <td>84.0</td>\n",
       "    </tr>\n",
       "    <tr>\n",
       "      <th>3</th>\n",
       "      <td>M</td>\n",
       "      <td>BOGOTÃ</td>\n",
       "      <td>Estrato 3</td>\n",
       "      <td>OFICIAL</td>\n",
       "      <td>URBANO</td>\n",
       "      <td>MAÃ‘ANA</td>\n",
       "      <td>62</td>\n",
       "      <td>54</td>\n",
       "      <td>61</td>\n",
       "      <td>73</td>\n",
       "      <td>53.0</td>\n",
       "      <td>309</td>\n",
       "      <td>88.0</td>\n",
       "    </tr>\n",
       "    <tr>\n",
       "      <th>4</th>\n",
       "      <td>M</td>\n",
       "      <td>BOGOTÃ</td>\n",
       "      <td>Estrato 3</td>\n",
       "      <td>OFICIAL</td>\n",
       "      <td>URBANO</td>\n",
       "      <td>MAÃ‘ANA</td>\n",
       "      <td>63</td>\n",
       "      <td>57</td>\n",
       "      <td>55</td>\n",
       "      <td>57</td>\n",
       "      <td>52.0</td>\n",
       "      <td>288</td>\n",
       "      <td>78.0</td>\n",
       "    </tr>\n",
       "  </tbody>\n",
       "</table>\n",
       "</div>"
      ],
      "text/plain": [
       "  ESTU_GENERO ESTU_DEPTO_RESIDE FAMI_ESTRATOVIVIENDA COLE_NATURALEZA  \\\n",
       "0           M         MAGDALENA            Estrato 3         OFICIAL   \n",
       "1           M           BOGOTÃ            Estrato 3      NO OFICIAL   \n",
       "2           M           BOLIVAR            Estrato 1         OFICIAL   \n",
       "3           M           BOGOTÃ            Estrato 3         OFICIAL   \n",
       "4           M           BOGOTÃ            Estrato 3         OFICIAL   \n",
       "\n",
       "  COLE_AREA_UBICACION COLE_JORNADA  PUNT_LECTURA_CRITICA  PUNT_MATEMATICAS  \\\n",
       "0              URBANO      MAÃ‘ANA                    47                48   \n",
       "1              URBANO     COMPLETA                    60                65   \n",
       "2              URBANO      MAÃ‘ANA                    66                57   \n",
       "3              URBANO      MAÃ‘ANA                    62                54   \n",
       "4              URBANO      MAÃ‘ANA                    63                57   \n",
       "\n",
       "   PUNT_C_NATURALES  PUNT_SOCIALES_CIUDADANAS  PUNT_INGLES  PUNT_GLOBAL  \\\n",
       "0                37                        30         54.0          208   \n",
       "1                54                        59         63.0          299   \n",
       "2                41                        74         64.0          299   \n",
       "3                61                        73         53.0          309   \n",
       "4                55                        57         52.0          288   \n",
       "\n",
       "   PERCENTIL_GLOBAL  \n",
       "0              25.0  \n",
       "1              83.0  \n",
       "2              84.0  \n",
       "3              88.0  \n",
       "4              78.0  "
      ]
     },
     "execution_count": 2,
     "metadata": {},
     "output_type": "execute_result"
    }
   ],
   "source": [
    "# Importando el dataframe\n",
    "data_frame = pd.read_csv('./Archivos/resultadosicfes.csv', sep=';')\n",
    "data_frame.head()"
   ]
  },
  {
   "cell_type": "code",
   "execution_count": 3,
   "metadata": {
    "scrolled": true
   },
   "outputs": [
    {
     "name": "stdout",
     "output_type": "stream",
     "text": [
      "Cantidad de datos perdidos para cada variable continua\n"
     ]
    },
    {
     "data": {
      "text/html": [
       "<div>\n",
       "<style scoped>\n",
       "    .dataframe tbody tr th:only-of-type {\n",
       "        vertical-align: middle;\n",
       "    }\n",
       "\n",
       "    .dataframe tbody tr th {\n",
       "        vertical-align: top;\n",
       "    }\n",
       "\n",
       "    .dataframe thead th {\n",
       "        text-align: right;\n",
       "    }\n",
       "</style>\n",
       "<table border=\"1\" class=\"dataframe\">\n",
       "  <thead>\n",
       "    <tr style=\"text-align: right;\">\n",
       "      <th></th>\n",
       "      <th>0</th>\n",
       "    </tr>\n",
       "    <tr>\n",
       "      <th>Variable</th>\n",
       "      <th></th>\n",
       "    </tr>\n",
       "  </thead>\n",
       "  <tbody>\n",
       "    <tr>\n",
       "      <th>PUNT_LECTURA_CRITICA</th>\n",
       "      <td>0</td>\n",
       "    </tr>\n",
       "    <tr>\n",
       "      <th>PUNT_MATEMATICAS</th>\n",
       "      <td>0</td>\n",
       "    </tr>\n",
       "    <tr>\n",
       "      <th>PUNT_C_NATURALES</th>\n",
       "      <td>0</td>\n",
       "    </tr>\n",
       "    <tr>\n",
       "      <th>PUNT_SOCIALES_CIUDADANAS</th>\n",
       "      <td>0</td>\n",
       "    </tr>\n",
       "    <tr>\n",
       "      <th>PUNT_INGLES</th>\n",
       "      <td>1</td>\n",
       "    </tr>\n",
       "    <tr>\n",
       "      <th>PUNT_GLOBAL</th>\n",
       "      <td>0</td>\n",
       "    </tr>\n",
       "    <tr>\n",
       "      <th>PERCENTIL_GLOBAL</th>\n",
       "      <td>1</td>\n",
       "    </tr>\n",
       "  </tbody>\n",
       "</table>\n",
       "</div>"
      ],
      "text/plain": [
       "                          0\n",
       "Variable                   \n",
       "PUNT_LECTURA_CRITICA      0\n",
       "PUNT_MATEMATICAS          0\n",
       "PUNT_C_NATURALES          0\n",
       "PUNT_SOCIALES_CIUDADANAS  0\n",
       "PUNT_INGLES               1\n",
       "PUNT_GLOBAL               0\n",
       "PERCENTIL_GLOBAL          1"
      ]
     },
     "execution_count": 3,
     "metadata": {},
     "output_type": "execute_result"
    }
   ],
   "source": [
    "#Filtrando por departamentos\n",
    "departamentos = ['LA GUAJIRA','VALLE','ATLANTICO','BOGOTÃ\\x81','HUILA']\n",
    "df_departamentos = data_frame[data_frame['ESTU_DEPTO_RESIDE'].isin(departamentos)]\n",
    "\n",
    "#Obteniendo las variables continuas\n",
    "variables_continuas = []\n",
    "data_types = data_frame.dtypes\n",
    "for columna, dtype in data_types.items():\n",
    "    if dtype != 'object':\n",
    "        variables_continuas.append(columna)\n",
    "\n",
    "#Creando un diccionario que almacena los valores perdidos\n",
    "valores_perdidos = {}\n",
    "for variable in variables_continuas:\n",
    "    valores_perdidos[variable] = None\n",
    "\n",
    "#Agregando los valores perdidos a cada variable\n",
    "for i, variable in enumerate(valores_perdidos):\n",
    "    valor_perdido = df_departamentos[variable].isna()\n",
    "    perdidos = valor_perdido.sum()\n",
    "    valores_perdidos[variable] = perdidos\n",
    "\n",
    "df_valores_perdidos = pd.DataFrame([valores_perdidos]).transpose()\n",
    "df_valores_perdidos.index.name = \"Variable\"\n",
    "print('Cantidad de datos perdidos para cada variable continua')\n",
    "df_valores_perdidos"
   ]
  },
  {
   "cell_type": "code",
   "execution_count": 4,
   "metadata": {
    "scrolled": true
   },
   "outputs": [
    {
     "data": {
      "text/html": [
       "<div>\n",
       "<style scoped>\n",
       "    .dataframe tbody tr th:only-of-type {\n",
       "        vertical-align: middle;\n",
       "    }\n",
       "\n",
       "    .dataframe tbody tr th {\n",
       "        vertical-align: top;\n",
       "    }\n",
       "\n",
       "    .dataframe thead th {\n",
       "        text-align: right;\n",
       "    }\n",
       "</style>\n",
       "<table border=\"1\" class=\"dataframe\">\n",
       "  <thead>\n",
       "    <tr style=\"text-align: right;\">\n",
       "      <th></th>\n",
       "      <th>mean</th>\n",
       "      <th>std</th>\n",
       "      <th>max</th>\n",
       "      <th>min</th>\n",
       "    </tr>\n",
       "  </thead>\n",
       "  <tbody>\n",
       "    <tr>\n",
       "      <th>PUNT_LECTURA_CRITICA</th>\n",
       "      <td>53.380226</td>\n",
       "      <td>10.416497</td>\n",
       "      <td>100.0</td>\n",
       "      <td>0.0</td>\n",
       "    </tr>\n",
       "    <tr>\n",
       "      <th>PUNT_MATEMATICAS</th>\n",
       "      <td>51.817262</td>\n",
       "      <td>11.876710</td>\n",
       "      <td>100.0</td>\n",
       "      <td>0.0</td>\n",
       "    </tr>\n",
       "    <tr>\n",
       "      <th>PUNT_C_NATURALES</th>\n",
       "      <td>49.546606</td>\n",
       "      <td>10.752327</td>\n",
       "      <td>100.0</td>\n",
       "      <td>0.0</td>\n",
       "    </tr>\n",
       "    <tr>\n",
       "      <th>PUNT_SOCIALES_CIUDADANAS</th>\n",
       "      <td>47.635641</td>\n",
       "      <td>12.228414</td>\n",
       "      <td>100.0</td>\n",
       "      <td>0.0</td>\n",
       "    </tr>\n",
       "    <tr>\n",
       "      <th>PUNT_INGLES</th>\n",
       "      <td>50.693926</td>\n",
       "      <td>12.870041</td>\n",
       "      <td>100.0</td>\n",
       "      <td>0.0</td>\n",
       "    </tr>\n",
       "    <tr>\n",
       "      <th>PUNT_GLOBAL</th>\n",
       "      <td>253.013211</td>\n",
       "      <td>51.465233</td>\n",
       "      <td>477.0</td>\n",
       "      <td>0.0</td>\n",
       "    </tr>\n",
       "    <tr>\n",
       "      <th>PERCENTIL_GLOBAL</th>\n",
       "      <td>53.874037</td>\n",
       "      <td>28.723295</td>\n",
       "      <td>100.0</td>\n",
       "      <td>1.0</td>\n",
       "    </tr>\n",
       "  </tbody>\n",
       "</table>\n",
       "</div>"
      ],
      "text/plain": [
       "                                mean        std    max  min\n",
       "PUNT_LECTURA_CRITICA       53.380226  10.416497  100.0  0.0\n",
       "PUNT_MATEMATICAS           51.817262  11.876710  100.0  0.0\n",
       "PUNT_C_NATURALES           49.546606  10.752327  100.0  0.0\n",
       "PUNT_SOCIALES_CIUDADANAS   47.635641  12.228414  100.0  0.0\n",
       "PUNT_INGLES                50.693926  12.870041  100.0  0.0\n",
       "PUNT_GLOBAL               253.013211  51.465233  477.0  0.0\n",
       "PERCENTIL_GLOBAL           53.874037  28.723295  100.0  1.0"
      ]
     },
     "execution_count": 4,
     "metadata": {},
     "output_type": "execute_result"
    }
   ],
   "source": [
    "#Descriptivos de cada variable continua\n",
    "#Creando un diccionario que almacena los estadisticos de cada variable\n",
    "descriptivos = {}\n",
    "for variable in variables_continuas:\n",
    "    descriptivos[variable] = []\n",
    "\n",
    "for i, variable in enumerate(variables_continuas):\n",
    "    datos = df_departamentos[variable].describe().loc[['mean', 'std', 'max', 'min']]\n",
    "    descriptivos[variable] = datos\n",
    "    \n",
    "df_desciptivos = pd.DataFrame(descriptivos).transpose()\n",
    "df_desciptivos"
   ]
  },
  {
   "cell_type": "code",
   "execution_count": 5,
   "metadata": {},
   "outputs": [
    {
     "data": {
      "text/html": [
       "<div>\n",
       "<style scoped>\n",
       "    .dataframe tbody tr th:only-of-type {\n",
       "        vertical-align: middle;\n",
       "    }\n",
       "\n",
       "    .dataframe tbody tr th {\n",
       "        vertical-align: top;\n",
       "    }\n",
       "\n",
       "    .dataframe thead th {\n",
       "        text-align: right;\n",
       "    }\n",
       "</style>\n",
       "<table border=\"1\" class=\"dataframe\">\n",
       "  <thead>\n",
       "    <tr style=\"text-align: right;\">\n",
       "      <th></th>\n",
       "      <th>ESTU_GENERO</th>\n",
       "      <th>ESTU_DEPTO_RESIDE</th>\n",
       "      <th>FAMI_ESTRATOVIVIENDA</th>\n",
       "      <th>COLE_NATURALEZA</th>\n",
       "      <th>COLE_AREA_UBICACION</th>\n",
       "      <th>COLE_JORNADA</th>\n",
       "      <th>PUNT_LECTURA_CRITICA</th>\n",
       "      <th>PUNT_MATEMATICAS</th>\n",
       "      <th>PUNT_C_NATURALES</th>\n",
       "      <th>PUNT_SOCIALES_CIUDADANAS</th>\n",
       "      <th>PUNT_INGLES</th>\n",
       "      <th>PUNT_GLOBAL</th>\n",
       "      <th>PERCENTIL_GLOBAL</th>\n",
       "    </tr>\n",
       "  </thead>\n",
       "  <tbody>\n",
       "    <tr>\n",
       "      <th>1</th>\n",
       "      <td>M</td>\n",
       "      <td>BOGOTÃ</td>\n",
       "      <td>Estrato 3</td>\n",
       "      <td>NO OFICIAL</td>\n",
       "      <td>URBANO</td>\n",
       "      <td>COMPLETA</td>\n",
       "      <td>60</td>\n",
       "      <td>65</td>\n",
       "      <td>54</td>\n",
       "      <td>59</td>\n",
       "      <td>63.0</td>\n",
       "      <td>299</td>\n",
       "      <td>83.0</td>\n",
       "    </tr>\n",
       "    <tr>\n",
       "      <th>3</th>\n",
       "      <td>M</td>\n",
       "      <td>BOGOTÃ</td>\n",
       "      <td>Estrato 3</td>\n",
       "      <td>OFICIAL</td>\n",
       "      <td>URBANO</td>\n",
       "      <td>MAÃ‘ANA</td>\n",
       "      <td>62</td>\n",
       "      <td>54</td>\n",
       "      <td>61</td>\n",
       "      <td>73</td>\n",
       "      <td>53.0</td>\n",
       "      <td>309</td>\n",
       "      <td>88.0</td>\n",
       "    </tr>\n",
       "    <tr>\n",
       "      <th>4</th>\n",
       "      <td>M</td>\n",
       "      <td>BOGOTÃ</td>\n",
       "      <td>Estrato 3</td>\n",
       "      <td>OFICIAL</td>\n",
       "      <td>URBANO</td>\n",
       "      <td>MAÃ‘ANA</td>\n",
       "      <td>63</td>\n",
       "      <td>57</td>\n",
       "      <td>55</td>\n",
       "      <td>57</td>\n",
       "      <td>52.0</td>\n",
       "      <td>288</td>\n",
       "      <td>78.0</td>\n",
       "    </tr>\n",
       "    <tr>\n",
       "      <th>5</th>\n",
       "      <td>M</td>\n",
       "      <td>ATLANTICO</td>\n",
       "      <td>-</td>\n",
       "      <td>NO OFICIAL</td>\n",
       "      <td>URBANO</td>\n",
       "      <td>NOCHE</td>\n",
       "      <td>49</td>\n",
       "      <td>29</td>\n",
       "      <td>41</td>\n",
       "      <td>41</td>\n",
       "      <td>35.0</td>\n",
       "      <td>198</td>\n",
       "      <td>19.0</td>\n",
       "    </tr>\n",
       "    <tr>\n",
       "      <th>6</th>\n",
       "      <td>M</td>\n",
       "      <td>VALLE</td>\n",
       "      <td>Estrato 4</td>\n",
       "      <td>NO OFICIAL</td>\n",
       "      <td>URBANO</td>\n",
       "      <td>MAÃ‘ANA</td>\n",
       "      <td>76</td>\n",
       "      <td>70</td>\n",
       "      <td>70</td>\n",
       "      <td>68</td>\n",
       "      <td>72.0</td>\n",
       "      <td>355</td>\n",
       "      <td>99.0</td>\n",
       "    </tr>\n",
       "    <tr>\n",
       "      <th>...</th>\n",
       "      <td>...</td>\n",
       "      <td>...</td>\n",
       "      <td>...</td>\n",
       "      <td>...</td>\n",
       "      <td>...</td>\n",
       "      <td>...</td>\n",
       "      <td>...</td>\n",
       "      <td>...</td>\n",
       "      <td>...</td>\n",
       "      <td>...</td>\n",
       "      <td>...</td>\n",
       "      <td>...</td>\n",
       "      <td>...</td>\n",
       "    </tr>\n",
       "    <tr>\n",
       "      <th>546193</th>\n",
       "      <td>M</td>\n",
       "      <td>BOGOTÃ</td>\n",
       "      <td>Estrato 3</td>\n",
       "      <td>OFICIAL</td>\n",
       "      <td>URBANO</td>\n",
       "      <td>TARDE</td>\n",
       "      <td>70</td>\n",
       "      <td>66</td>\n",
       "      <td>60</td>\n",
       "      <td>63</td>\n",
       "      <td>61.0</td>\n",
       "      <td>322</td>\n",
       "      <td>92.0</td>\n",
       "    </tr>\n",
       "    <tr>\n",
       "      <th>546195</th>\n",
       "      <td>F</td>\n",
       "      <td>BOGOTÃ</td>\n",
       "      <td>Estrato 2</td>\n",
       "      <td>OFICIAL</td>\n",
       "      <td>URBANO</td>\n",
       "      <td>TARDE</td>\n",
       "      <td>62</td>\n",
       "      <td>53</td>\n",
       "      <td>54</td>\n",
       "      <td>56</td>\n",
       "      <td>49.0</td>\n",
       "      <td>278</td>\n",
       "      <td>73.0</td>\n",
       "    </tr>\n",
       "    <tr>\n",
       "      <th>546202</th>\n",
       "      <td>F</td>\n",
       "      <td>HUILA</td>\n",
       "      <td>Estrato 3</td>\n",
       "      <td>OFICIAL</td>\n",
       "      <td>URBANO</td>\n",
       "      <td>MAÃ‘ANA</td>\n",
       "      <td>100</td>\n",
       "      <td>73</td>\n",
       "      <td>70</td>\n",
       "      <td>72</td>\n",
       "      <td>84.0</td>\n",
       "      <td>396</td>\n",
       "      <td>100.0</td>\n",
       "    </tr>\n",
       "    <tr>\n",
       "      <th>546208</th>\n",
       "      <td>M</td>\n",
       "      <td>BOGOTÃ</td>\n",
       "      <td>Estrato 3</td>\n",
       "      <td>NO OFICIAL</td>\n",
       "      <td>URBANO</td>\n",
       "      <td>COMPLETA</td>\n",
       "      <td>75</td>\n",
       "      <td>73</td>\n",
       "      <td>72</td>\n",
       "      <td>67</td>\n",
       "      <td>74.0</td>\n",
       "      <td>360</td>\n",
       "      <td>99.0</td>\n",
       "    </tr>\n",
       "    <tr>\n",
       "      <th>546211</th>\n",
       "      <td>M</td>\n",
       "      <td>BOGOTÃ</td>\n",
       "      <td>Estrato 3</td>\n",
       "      <td>OFICIAL</td>\n",
       "      <td>URBANO</td>\n",
       "      <td>MAÃ‘ANA</td>\n",
       "      <td>76</td>\n",
       "      <td>73</td>\n",
       "      <td>72</td>\n",
       "      <td>71</td>\n",
       "      <td>74.0</td>\n",
       "      <td>365</td>\n",
       "      <td>99.0</td>\n",
       "    </tr>\n",
       "  </tbody>\n",
       "</table>\n",
       "<p>177347 rows × 13 columns</p>\n",
       "</div>"
      ],
      "text/plain": [
       "       ESTU_GENERO ESTU_DEPTO_RESIDE FAMI_ESTRATOVIVIENDA COLE_NATURALEZA  \\\n",
       "1                M           BOGOTÃ            Estrato 3      NO OFICIAL   \n",
       "3                M           BOGOTÃ            Estrato 3         OFICIAL   \n",
       "4                M           BOGOTÃ            Estrato 3         OFICIAL   \n",
       "5                M         ATLANTICO                    -      NO OFICIAL   \n",
       "6                M             VALLE            Estrato 4      NO OFICIAL   \n",
       "...            ...               ...                  ...             ...   \n",
       "546193           M           BOGOTÃ            Estrato 3         OFICIAL   \n",
       "546195           F           BOGOTÃ            Estrato 2         OFICIAL   \n",
       "546202           F             HUILA            Estrato 3         OFICIAL   \n",
       "546208           M           BOGOTÃ            Estrato 3      NO OFICIAL   \n",
       "546211           M           BOGOTÃ            Estrato 3         OFICIAL   \n",
       "\n",
       "       COLE_AREA_UBICACION COLE_JORNADA  PUNT_LECTURA_CRITICA  \\\n",
       "1                   URBANO     COMPLETA                    60   \n",
       "3                   URBANO      MAÃ‘ANA                    62   \n",
       "4                   URBANO      MAÃ‘ANA                    63   \n",
       "5                   URBANO        NOCHE                    49   \n",
       "6                   URBANO      MAÃ‘ANA                    76   \n",
       "...                    ...          ...                   ...   \n",
       "546193              URBANO        TARDE                    70   \n",
       "546195              URBANO        TARDE                    62   \n",
       "546202              URBANO      MAÃ‘ANA                   100   \n",
       "546208              URBANO     COMPLETA                    75   \n",
       "546211              URBANO      MAÃ‘ANA                    76   \n",
       "\n",
       "        PUNT_MATEMATICAS  PUNT_C_NATURALES  PUNT_SOCIALES_CIUDADANAS  \\\n",
       "1                     65                54                        59   \n",
       "3                     54                61                        73   \n",
       "4                     57                55                        57   \n",
       "5                     29                41                        41   \n",
       "6                     70                70                        68   \n",
       "...                  ...               ...                       ...   \n",
       "546193                66                60                        63   \n",
       "546195                53                54                        56   \n",
       "546202                73                70                        72   \n",
       "546208                73                72                        67   \n",
       "546211                73                72                        71   \n",
       "\n",
       "        PUNT_INGLES  PUNT_GLOBAL  PERCENTIL_GLOBAL  \n",
       "1              63.0          299              83.0  \n",
       "3              53.0          309              88.0  \n",
       "4              52.0          288              78.0  \n",
       "5              35.0          198              19.0  \n",
       "6              72.0          355              99.0  \n",
       "...             ...          ...               ...  \n",
       "546193         61.0          322              92.0  \n",
       "546195         49.0          278              73.0  \n",
       "546202         84.0          396             100.0  \n",
       "546208         74.0          360              99.0  \n",
       "546211         74.0          365              99.0  \n",
       "\n",
       "[177347 rows x 13 columns]"
      ]
     },
     "execution_count": 5,
     "metadata": {},
     "output_type": "execute_result"
    }
   ],
   "source": [
    "df_departamentos"
   ]
  },
  {
   "cell_type": "code",
   "execution_count": 6,
   "metadata": {
    "scrolled": true
   },
   "outputs": [
    {
     "data": {
      "text/html": [
       "<div>\n",
       "<style scoped>\n",
       "    .dataframe tbody tr th:only-of-type {\n",
       "        vertical-align: middle;\n",
       "    }\n",
       "\n",
       "    .dataframe tbody tr th {\n",
       "        vertical-align: top;\n",
       "    }\n",
       "\n",
       "    .dataframe thead th {\n",
       "        text-align: right;\n",
       "    }\n",
       "</style>\n",
       "<table border=\"1\" class=\"dataframe\">\n",
       "  <thead>\n",
       "    <tr style=\"text-align: right;\">\n",
       "      <th></th>\n",
       "      <th>ESTU_GENERO</th>\n",
       "      <th>ESTU_DEPTO_RESIDE</th>\n",
       "      <th>FAMI_ESTRATOVIVIENDA</th>\n",
       "      <th>COLE_NATURALEZA</th>\n",
       "      <th>COLE_AREA_UBICACION</th>\n",
       "      <th>COLE_JORNADA</th>\n",
       "      <th>PUNT_LECTURA_CRITICA</th>\n",
       "      <th>PUNT_MATEMATICAS</th>\n",
       "      <th>PUNT_C_NATURALES</th>\n",
       "      <th>PUNT_SOCIALES_CIUDADANAS</th>\n",
       "      <th>PUNT_INGLES</th>\n",
       "      <th>PUNT_GLOBAL</th>\n",
       "      <th>PERCENTIL_GLOBAL</th>\n",
       "    </tr>\n",
       "  </thead>\n",
       "  <tbody>\n",
       "    <tr>\n",
       "      <th>6</th>\n",
       "      <td>M</td>\n",
       "      <td>VALLE</td>\n",
       "      <td>Estrato 4</td>\n",
       "      <td>NO OFICIAL</td>\n",
       "      <td>URBANO</td>\n",
       "      <td>MAÃ‘ANA</td>\n",
       "      <td>76</td>\n",
       "      <td>70</td>\n",
       "      <td>70</td>\n",
       "      <td>68</td>\n",
       "      <td>72.0</td>\n",
       "      <td>355</td>\n",
       "      <td>99.0</td>\n",
       "    </tr>\n",
       "    <tr>\n",
       "      <th>61</th>\n",
       "      <td>M</td>\n",
       "      <td>ATLANTICO</td>\n",
       "      <td>Estrato 4</td>\n",
       "      <td>NO OFICIAL</td>\n",
       "      <td>URBANO</td>\n",
       "      <td>COMPLETA</td>\n",
       "      <td>62</td>\n",
       "      <td>72</td>\n",
       "      <td>46</td>\n",
       "      <td>67</td>\n",
       "      <td>81.0</td>\n",
       "      <td>316</td>\n",
       "      <td>90.0</td>\n",
       "    </tr>\n",
       "    <tr>\n",
       "      <th>79</th>\n",
       "      <td>M</td>\n",
       "      <td>BOGOTÃ</td>\n",
       "      <td>Estrato 4</td>\n",
       "      <td>NO OFICIAL</td>\n",
       "      <td>URBANO</td>\n",
       "      <td>MAÃ‘ANA</td>\n",
       "      <td>62</td>\n",
       "      <td>56</td>\n",
       "      <td>68</td>\n",
       "      <td>65</td>\n",
       "      <td>82.0</td>\n",
       "      <td>321</td>\n",
       "      <td>92.0</td>\n",
       "    </tr>\n",
       "    <tr>\n",
       "      <th>211</th>\n",
       "      <td>F</td>\n",
       "      <td>ATLANTICO</td>\n",
       "      <td>Estrato 2</td>\n",
       "      <td>OFICIAL</td>\n",
       "      <td>URBANO</td>\n",
       "      <td>MAÃ‘ANA</td>\n",
       "      <td>63</td>\n",
       "      <td>71</td>\n",
       "      <td>69</td>\n",
       "      <td>81</td>\n",
       "      <td>100.0</td>\n",
       "      <td>366</td>\n",
       "      <td>99.0</td>\n",
       "    </tr>\n",
       "    <tr>\n",
       "      <th>352</th>\n",
       "      <td>M</td>\n",
       "      <td>BOGOTÃ</td>\n",
       "      <td>Estrato 3</td>\n",
       "      <td>OFICIAL</td>\n",
       "      <td>URBANO</td>\n",
       "      <td>TARDE</td>\n",
       "      <td>71</td>\n",
       "      <td>56</td>\n",
       "      <td>62</td>\n",
       "      <td>59</td>\n",
       "      <td>76.0</td>\n",
       "      <td>315</td>\n",
       "      <td>90.0</td>\n",
       "    </tr>\n",
       "    <tr>\n",
       "      <th>...</th>\n",
       "      <td>...</td>\n",
       "      <td>...</td>\n",
       "      <td>...</td>\n",
       "      <td>...</td>\n",
       "      <td>...</td>\n",
       "      <td>...</td>\n",
       "      <td>...</td>\n",
       "      <td>...</td>\n",
       "      <td>...</td>\n",
       "      <td>...</td>\n",
       "      <td>...</td>\n",
       "      <td>...</td>\n",
       "      <td>...</td>\n",
       "    </tr>\n",
       "    <tr>\n",
       "      <th>546103</th>\n",
       "      <td>F</td>\n",
       "      <td>BOGOTÃ</td>\n",
       "      <td>Estrato 3</td>\n",
       "      <td>NO OFICIAL</td>\n",
       "      <td>URBANO</td>\n",
       "      <td>COMPLETA</td>\n",
       "      <td>65</td>\n",
       "      <td>75</td>\n",
       "      <td>65</td>\n",
       "      <td>65</td>\n",
       "      <td>75.0</td>\n",
       "      <td>340</td>\n",
       "      <td>96.0</td>\n",
       "    </tr>\n",
       "    <tr>\n",
       "      <th>546141</th>\n",
       "      <td>F</td>\n",
       "      <td>ATLANTICO</td>\n",
       "      <td>Estrato 2</td>\n",
       "      <td>OFICIAL</td>\n",
       "      <td>URBANO</td>\n",
       "      <td>UNICA</td>\n",
       "      <td>70</td>\n",
       "      <td>68</td>\n",
       "      <td>66</td>\n",
       "      <td>71</td>\n",
       "      <td>71.0</td>\n",
       "      <td>345</td>\n",
       "      <td>97.0</td>\n",
       "    </tr>\n",
       "    <tr>\n",
       "      <th>546202</th>\n",
       "      <td>F</td>\n",
       "      <td>HUILA</td>\n",
       "      <td>Estrato 3</td>\n",
       "      <td>OFICIAL</td>\n",
       "      <td>URBANO</td>\n",
       "      <td>MAÃ‘ANA</td>\n",
       "      <td>100</td>\n",
       "      <td>73</td>\n",
       "      <td>70</td>\n",
       "      <td>72</td>\n",
       "      <td>84.0</td>\n",
       "      <td>396</td>\n",
       "      <td>100.0</td>\n",
       "    </tr>\n",
       "    <tr>\n",
       "      <th>546208</th>\n",
       "      <td>M</td>\n",
       "      <td>BOGOTÃ</td>\n",
       "      <td>Estrato 3</td>\n",
       "      <td>NO OFICIAL</td>\n",
       "      <td>URBANO</td>\n",
       "      <td>COMPLETA</td>\n",
       "      <td>75</td>\n",
       "      <td>73</td>\n",
       "      <td>72</td>\n",
       "      <td>67</td>\n",
       "      <td>74.0</td>\n",
       "      <td>360</td>\n",
       "      <td>99.0</td>\n",
       "    </tr>\n",
       "    <tr>\n",
       "      <th>546211</th>\n",
       "      <td>M</td>\n",
       "      <td>BOGOTÃ</td>\n",
       "      <td>Estrato 3</td>\n",
       "      <td>OFICIAL</td>\n",
       "      <td>URBANO</td>\n",
       "      <td>MAÃ‘ANA</td>\n",
       "      <td>76</td>\n",
       "      <td>73</td>\n",
       "      <td>72</td>\n",
       "      <td>71</td>\n",
       "      <td>74.0</td>\n",
       "      <td>365</td>\n",
       "      <td>99.0</td>\n",
       "    </tr>\n",
       "  </tbody>\n",
       "</table>\n",
       "<p>11161 rows × 13 columns</p>\n",
       "</div>"
      ],
      "text/plain": [
       "       ESTU_GENERO ESTU_DEPTO_RESIDE FAMI_ESTRATOVIVIENDA COLE_NATURALEZA  \\\n",
       "6                M             VALLE            Estrato 4      NO OFICIAL   \n",
       "61               M         ATLANTICO            Estrato 4      NO OFICIAL   \n",
       "79               M           BOGOTÃ            Estrato 4      NO OFICIAL   \n",
       "211              F         ATLANTICO            Estrato 2         OFICIAL   \n",
       "352              M           BOGOTÃ            Estrato 3         OFICIAL   \n",
       "...            ...               ...                  ...             ...   \n",
       "546103           F           BOGOTÃ            Estrato 3      NO OFICIAL   \n",
       "546141           F         ATLANTICO            Estrato 2         OFICIAL   \n",
       "546202           F             HUILA            Estrato 3         OFICIAL   \n",
       "546208           M           BOGOTÃ            Estrato 3      NO OFICIAL   \n",
       "546211           M           BOGOTÃ            Estrato 3         OFICIAL   \n",
       "\n",
       "       COLE_AREA_UBICACION COLE_JORNADA  PUNT_LECTURA_CRITICA  \\\n",
       "6                   URBANO      MAÃ‘ANA                    76   \n",
       "61                  URBANO     COMPLETA                    62   \n",
       "79                  URBANO      MAÃ‘ANA                    62   \n",
       "211                 URBANO      MAÃ‘ANA                    63   \n",
       "352                 URBANO        TARDE                    71   \n",
       "...                    ...          ...                   ...   \n",
       "546103              URBANO     COMPLETA                    65   \n",
       "546141              URBANO        UNICA                    70   \n",
       "546202              URBANO      MAÃ‘ANA                   100   \n",
       "546208              URBANO     COMPLETA                    75   \n",
       "546211              URBANO      MAÃ‘ANA                    76   \n",
       "\n",
       "        PUNT_MATEMATICAS  PUNT_C_NATURALES  PUNT_SOCIALES_CIUDADANAS  \\\n",
       "6                     70                70                        68   \n",
       "61                    72                46                        67   \n",
       "79                    56                68                        65   \n",
       "211                   71                69                        81   \n",
       "352                   56                62                        59   \n",
       "...                  ...               ...                       ...   \n",
       "546103                75                65                        65   \n",
       "546141                68                66                        71   \n",
       "546202                73                70                        72   \n",
       "546208                73                72                        67   \n",
       "546211                73                72                        71   \n",
       "\n",
       "        PUNT_INGLES  PUNT_GLOBAL  PERCENTIL_GLOBAL  \n",
       "6              72.0          355              99.0  \n",
       "61             81.0          316              90.0  \n",
       "79             82.0          321              92.0  \n",
       "211           100.0          366              99.0  \n",
       "352            76.0          315              90.0  \n",
       "...             ...          ...               ...  \n",
       "546103         75.0          340              96.0  \n",
       "546141         71.0          345              97.0  \n",
       "546202         84.0          396             100.0  \n",
       "546208         74.0          360              99.0  \n",
       "546211         74.0          365              99.0  \n",
       "\n",
       "[11161 rows x 13 columns]"
      ]
     },
     "execution_count": 6,
     "metadata": {},
     "output_type": "execute_result"
    }
   ],
   "source": [
    "#Identifique los departamentos donde los estudiantes obtuvieron un puntaje en matemáticas mayor a 55, un puntaje en lectura mayor a 60 y un puntaje en ingles mayor a 70 reemplace estos valores por valores perdidos\n",
    "\n",
    "#Puntajes\n",
    "puntaje_matematicas = 55\n",
    "puntaje_lectura = 60\n",
    "puntaje_ingles = 70\n",
    "\n",
    "#Creando filtro y generando nuevo dataframe\n",
    "filtro_matematicas = df_departamentos['PUNT_MATEMATICAS'] > puntaje_matematicas\n",
    "filtro_lectura = df_departamentos['PUNT_LECTURA_CRITICA'] > puntaje_lectura\n",
    "filtro_ingles = df_departamentos['PUNT_INGLES'] > puntaje_ingles\n",
    "\n",
    "df_puntajes = df_departamentos[filtro_matematicas & filtro_lectura & filtro_ingles]\n",
    "df_puntajes"
   ]
  },
  {
   "cell_type": "code",
   "execution_count": 7,
   "metadata": {},
   "outputs": [],
   "source": [
    "df_drop = df_departamentos.drop(df_departamentos[filtro_matematicas&filtro_lectura&filtro_ingles].index, inplace=False)"
   ]
  },
  {
   "cell_type": "code",
   "execution_count": 8,
   "metadata": {},
   "outputs": [
    {
     "data": {
      "text/html": [
       "<div>\n",
       "<style scoped>\n",
       "    .dataframe tbody tr th:only-of-type {\n",
       "        vertical-align: middle;\n",
       "    }\n",
       "\n",
       "    .dataframe tbody tr th {\n",
       "        vertical-align: top;\n",
       "    }\n",
       "\n",
       "    .dataframe thead th {\n",
       "        text-align: right;\n",
       "    }\n",
       "</style>\n",
       "<table border=\"1\" class=\"dataframe\">\n",
       "  <thead>\n",
       "    <tr style=\"text-align: right;\">\n",
       "      <th></th>\n",
       "      <th>ESTU_GENERO</th>\n",
       "      <th>ESTU_DEPTO_RESIDE</th>\n",
       "      <th>FAMI_ESTRATOVIVIENDA</th>\n",
       "      <th>COLE_NATURALEZA</th>\n",
       "      <th>COLE_AREA_UBICACION</th>\n",
       "      <th>COLE_JORNADA</th>\n",
       "      <th>PUNT_LECTURA_CRITICA</th>\n",
       "      <th>PUNT_MATEMATICAS</th>\n",
       "      <th>PUNT_C_NATURALES</th>\n",
       "      <th>PUNT_SOCIALES_CIUDADANAS</th>\n",
       "      <th>PUNT_INGLES</th>\n",
       "      <th>PUNT_GLOBAL</th>\n",
       "      <th>PERCENTIL_GLOBAL</th>\n",
       "    </tr>\n",
       "  </thead>\n",
       "  <tbody>\n",
       "    <tr>\n",
       "      <th>1</th>\n",
       "      <td>M</td>\n",
       "      <td>BOGOTÃ</td>\n",
       "      <td>Estrato 3</td>\n",
       "      <td>NO OFICIAL</td>\n",
       "      <td>URBANO</td>\n",
       "      <td>COMPLETA</td>\n",
       "      <td>60</td>\n",
       "      <td>65</td>\n",
       "      <td>54</td>\n",
       "      <td>59</td>\n",
       "      <td>63.0</td>\n",
       "      <td>299</td>\n",
       "      <td>83.0</td>\n",
       "    </tr>\n",
       "    <tr>\n",
       "      <th>3</th>\n",
       "      <td>M</td>\n",
       "      <td>BOGOTÃ</td>\n",
       "      <td>Estrato 3</td>\n",
       "      <td>OFICIAL</td>\n",
       "      <td>URBANO</td>\n",
       "      <td>MAÃ‘ANA</td>\n",
       "      <td>62</td>\n",
       "      <td>54</td>\n",
       "      <td>61</td>\n",
       "      <td>73</td>\n",
       "      <td>53.0</td>\n",
       "      <td>309</td>\n",
       "      <td>88.0</td>\n",
       "    </tr>\n",
       "    <tr>\n",
       "      <th>4</th>\n",
       "      <td>M</td>\n",
       "      <td>BOGOTÃ</td>\n",
       "      <td>Estrato 3</td>\n",
       "      <td>OFICIAL</td>\n",
       "      <td>URBANO</td>\n",
       "      <td>MAÃ‘ANA</td>\n",
       "      <td>63</td>\n",
       "      <td>57</td>\n",
       "      <td>55</td>\n",
       "      <td>57</td>\n",
       "      <td>52.0</td>\n",
       "      <td>288</td>\n",
       "      <td>78.0</td>\n",
       "    </tr>\n",
       "    <tr>\n",
       "      <th>5</th>\n",
       "      <td>M</td>\n",
       "      <td>ATLANTICO</td>\n",
       "      <td>-</td>\n",
       "      <td>NO OFICIAL</td>\n",
       "      <td>URBANO</td>\n",
       "      <td>NOCHE</td>\n",
       "      <td>49</td>\n",
       "      <td>29</td>\n",
       "      <td>41</td>\n",
       "      <td>41</td>\n",
       "      <td>35.0</td>\n",
       "      <td>198</td>\n",
       "      <td>19.0</td>\n",
       "    </tr>\n",
       "    <tr>\n",
       "      <th>12</th>\n",
       "      <td>M</td>\n",
       "      <td>BOGOTÃ</td>\n",
       "      <td>Estrato 4</td>\n",
       "      <td>NO OFICIAL</td>\n",
       "      <td>URBANO</td>\n",
       "      <td>MAÃ‘ANA</td>\n",
       "      <td>64</td>\n",
       "      <td>56</td>\n",
       "      <td>59</td>\n",
       "      <td>60</td>\n",
       "      <td>68.0</td>\n",
       "      <td>302</td>\n",
       "      <td>85.0</td>\n",
       "    </tr>\n",
       "    <tr>\n",
       "      <th>...</th>\n",
       "      <td>...</td>\n",
       "      <td>...</td>\n",
       "      <td>...</td>\n",
       "      <td>...</td>\n",
       "      <td>...</td>\n",
       "      <td>...</td>\n",
       "      <td>...</td>\n",
       "      <td>...</td>\n",
       "      <td>...</td>\n",
       "      <td>...</td>\n",
       "      <td>...</td>\n",
       "      <td>...</td>\n",
       "      <td>...</td>\n",
       "    </tr>\n",
       "    <tr>\n",
       "      <th>546184</th>\n",
       "      <td>F</td>\n",
       "      <td>VALLE</td>\n",
       "      <td>Estrato 2</td>\n",
       "      <td>NO OFICIAL</td>\n",
       "      <td>URBANO</td>\n",
       "      <td>MAÃ‘ANA</td>\n",
       "      <td>49</td>\n",
       "      <td>41</td>\n",
       "      <td>46</td>\n",
       "      <td>39</td>\n",
       "      <td>41.0</td>\n",
       "      <td>218</td>\n",
       "      <td>32.0</td>\n",
       "    </tr>\n",
       "    <tr>\n",
       "      <th>546185</th>\n",
       "      <td>F</td>\n",
       "      <td>BOGOTÃ</td>\n",
       "      <td>Estrato 3</td>\n",
       "      <td>NO OFICIAL</td>\n",
       "      <td>URBANO</td>\n",
       "      <td>COMPLETA</td>\n",
       "      <td>54</td>\n",
       "      <td>62</td>\n",
       "      <td>49</td>\n",
       "      <td>42</td>\n",
       "      <td>53.0</td>\n",
       "      <td>259</td>\n",
       "      <td>61.0</td>\n",
       "    </tr>\n",
       "    <tr>\n",
       "      <th>546188</th>\n",
       "      <td>M</td>\n",
       "      <td>HUILA</td>\n",
       "      <td>Estrato 2</td>\n",
       "      <td>OFICIAL</td>\n",
       "      <td>RURAL</td>\n",
       "      <td>COMPLETA</td>\n",
       "      <td>65</td>\n",
       "      <td>54</td>\n",
       "      <td>60</td>\n",
       "      <td>61</td>\n",
       "      <td>38.0</td>\n",
       "      <td>292</td>\n",
       "      <td>80.0</td>\n",
       "    </tr>\n",
       "    <tr>\n",
       "      <th>546193</th>\n",
       "      <td>M</td>\n",
       "      <td>BOGOTÃ</td>\n",
       "      <td>Estrato 3</td>\n",
       "      <td>OFICIAL</td>\n",
       "      <td>URBANO</td>\n",
       "      <td>TARDE</td>\n",
       "      <td>70</td>\n",
       "      <td>66</td>\n",
       "      <td>60</td>\n",
       "      <td>63</td>\n",
       "      <td>61.0</td>\n",
       "      <td>322</td>\n",
       "      <td>92.0</td>\n",
       "    </tr>\n",
       "    <tr>\n",
       "      <th>546195</th>\n",
       "      <td>F</td>\n",
       "      <td>BOGOTÃ</td>\n",
       "      <td>Estrato 2</td>\n",
       "      <td>OFICIAL</td>\n",
       "      <td>URBANO</td>\n",
       "      <td>TARDE</td>\n",
       "      <td>62</td>\n",
       "      <td>53</td>\n",
       "      <td>54</td>\n",
       "      <td>56</td>\n",
       "      <td>49.0</td>\n",
       "      <td>278</td>\n",
       "      <td>73.0</td>\n",
       "    </tr>\n",
       "  </tbody>\n",
       "</table>\n",
       "<p>166186 rows × 13 columns</p>\n",
       "</div>"
      ],
      "text/plain": [
       "       ESTU_GENERO ESTU_DEPTO_RESIDE FAMI_ESTRATOVIVIENDA COLE_NATURALEZA  \\\n",
       "1                M           BOGOTÃ            Estrato 3      NO OFICIAL   \n",
       "3                M           BOGOTÃ            Estrato 3         OFICIAL   \n",
       "4                M           BOGOTÃ            Estrato 3         OFICIAL   \n",
       "5                M         ATLANTICO                    -      NO OFICIAL   \n",
       "12               M           BOGOTÃ            Estrato 4      NO OFICIAL   \n",
       "...            ...               ...                  ...             ...   \n",
       "546184           F             VALLE            Estrato 2      NO OFICIAL   \n",
       "546185           F           BOGOTÃ            Estrato 3      NO OFICIAL   \n",
       "546188           M             HUILA            Estrato 2         OFICIAL   \n",
       "546193           M           BOGOTÃ            Estrato 3         OFICIAL   \n",
       "546195           F           BOGOTÃ            Estrato 2         OFICIAL   \n",
       "\n",
       "       COLE_AREA_UBICACION COLE_JORNADA  PUNT_LECTURA_CRITICA  \\\n",
       "1                   URBANO     COMPLETA                    60   \n",
       "3                   URBANO      MAÃ‘ANA                    62   \n",
       "4                   URBANO      MAÃ‘ANA                    63   \n",
       "5                   URBANO        NOCHE                    49   \n",
       "12                  URBANO      MAÃ‘ANA                    64   \n",
       "...                    ...          ...                   ...   \n",
       "546184              URBANO      MAÃ‘ANA                    49   \n",
       "546185              URBANO     COMPLETA                    54   \n",
       "546188               RURAL     COMPLETA                    65   \n",
       "546193              URBANO        TARDE                    70   \n",
       "546195              URBANO        TARDE                    62   \n",
       "\n",
       "        PUNT_MATEMATICAS  PUNT_C_NATURALES  PUNT_SOCIALES_CIUDADANAS  \\\n",
       "1                     65                54                        59   \n",
       "3                     54                61                        73   \n",
       "4                     57                55                        57   \n",
       "5                     29                41                        41   \n",
       "12                    56                59                        60   \n",
       "...                  ...               ...                       ...   \n",
       "546184                41                46                        39   \n",
       "546185                62                49                        42   \n",
       "546188                54                60                        61   \n",
       "546193                66                60                        63   \n",
       "546195                53                54                        56   \n",
       "\n",
       "        PUNT_INGLES  PUNT_GLOBAL  PERCENTIL_GLOBAL  \n",
       "1              63.0          299              83.0  \n",
       "3              53.0          309              88.0  \n",
       "4              52.0          288              78.0  \n",
       "5              35.0          198              19.0  \n",
       "12             68.0          302              85.0  \n",
       "...             ...          ...               ...  \n",
       "546184         41.0          218              32.0  \n",
       "546185         53.0          259              61.0  \n",
       "546188         38.0          292              80.0  \n",
       "546193         61.0          322              92.0  \n",
       "546195         49.0          278              73.0  \n",
       "\n",
       "[166186 rows x 13 columns]"
      ]
     },
     "execution_count": 8,
     "metadata": {},
     "output_type": "execute_result"
    }
   ],
   "source": [
    "df_drop"
   ]
  },
  {
   "cell_type": "code",
   "execution_count": 9,
   "metadata": {},
   "outputs": [
    {
     "data": {
      "text/plain": [
       "ESTU_GENERO                 0\n",
       "ESTU_DEPTO_RESIDE           0\n",
       "FAMI_ESTRATOVIVIENDA        0\n",
       "COLE_NATURALEZA             0\n",
       "COLE_AREA_UBICACION         0\n",
       "COLE_JORNADA                0\n",
       "PUNT_LECTURA_CRITICA        0\n",
       "PUNT_MATEMATICAS            0\n",
       "PUNT_C_NATURALES            0\n",
       "PUNT_SOCIALES_CIUDADANAS    0\n",
       "PUNT_INGLES                 1\n",
       "PUNT_GLOBAL                 0\n",
       "PERCENTIL_GLOBAL            1\n",
       "dtype: int64"
      ]
     },
     "execution_count": 9,
     "metadata": {},
     "output_type": "execute_result"
    }
   ],
   "source": [
    "datos_faltantes = df_drop.isna().sum()\n",
    "datos_faltantes"
   ]
  },
  {
   "cell_type": "code",
   "execution_count": 10,
   "metadata": {},
   "outputs": [
    {
     "data": {
      "text/html": [
       "<div>\n",
       "<style scoped>\n",
       "    .dataframe tbody tr th:only-of-type {\n",
       "        vertical-align: middle;\n",
       "    }\n",
       "\n",
       "    .dataframe tbody tr th {\n",
       "        vertical-align: top;\n",
       "    }\n",
       "\n",
       "    .dataframe thead th {\n",
       "        text-align: right;\n",
       "    }\n",
       "</style>\n",
       "<table border=\"1\" class=\"dataframe\">\n",
       "  <thead>\n",
       "    <tr style=\"text-align: right;\">\n",
       "      <th></th>\n",
       "      <th>0</th>\n",
       "    </tr>\n",
       "  </thead>\n",
       "  <tbody>\n",
       "    <tr>\n",
       "      <th>PUNT_LECTURA_CRITICA</th>\n",
       "      <td>None</td>\n",
       "    </tr>\n",
       "    <tr>\n",
       "      <th>PUNT_MATEMATICAS</th>\n",
       "      <td>None</td>\n",
       "    </tr>\n",
       "    <tr>\n",
       "      <th>PUNT_C_NATURALES</th>\n",
       "      <td>None</td>\n",
       "    </tr>\n",
       "    <tr>\n",
       "      <th>PUNT_SOCIALES_CIUDADANAS</th>\n",
       "      <td>None</td>\n",
       "    </tr>\n",
       "    <tr>\n",
       "      <th>PUNT_INGLES</th>\n",
       "      <td>None</td>\n",
       "    </tr>\n",
       "    <tr>\n",
       "      <th>PUNT_GLOBAL</th>\n",
       "      <td>None</td>\n",
       "    </tr>\n",
       "    <tr>\n",
       "      <th>PERCENTIL_GLOBAL</th>\n",
       "      <td>None</td>\n",
       "    </tr>\n",
       "  </tbody>\n",
       "</table>\n",
       "</div>"
      ],
      "text/plain": [
       "                             0\n",
       "PUNT_LECTURA_CRITICA      None\n",
       "PUNT_MATEMATICAS          None\n",
       "PUNT_C_NATURALES          None\n",
       "PUNT_SOCIALES_CIUDADANAS  None\n",
       "PUNT_INGLES               None\n",
       "PUNT_GLOBAL               None\n",
       "PERCENTIL_GLOBAL          None"
      ]
     },
     "execution_count": 10,
     "metadata": {},
     "output_type": "execute_result"
    }
   ],
   "source": [
    "#Creando un diccionario que almacena los valores perdidos\n",
    "valores_perdidos_puntajes_drop = {}\n",
    "for variable in variables_continuas:\n",
    "    valores_perdidos_puntajes_drop[variable] = None\n",
    "\n",
    "#Agregando los valores perdidos a cada variable\n",
    "for i, variable in enumerate(valores_perdidos_puntajes_drop):\n",
    "    valor_perdido= df_drop[variable].isna()\n",
    "    perdidos = valor_perdido.sum()\n",
    "    valores_perdidos[variable] = perdidos\n",
    "    \n",
    "df_perdidos_puntajes = pd.DataFrame([valores_perdidos_puntajes_drop]).transpose()\n",
    "df_perdidos_puntajes"
   ]
  },
  {
   "cell_type": "code",
   "execution_count": 11,
   "metadata": {
    "scrolled": true
   },
   "outputs": [
    {
     "data": {
      "text/html": [
       "<div>\n",
       "<style scoped>\n",
       "    .dataframe tbody tr th:only-of-type {\n",
       "        vertical-align: middle;\n",
       "    }\n",
       "\n",
       "    .dataframe tbody tr th {\n",
       "        vertical-align: top;\n",
       "    }\n",
       "\n",
       "    .dataframe thead th {\n",
       "        text-align: right;\n",
       "    }\n",
       "</style>\n",
       "<table border=\"1\" class=\"dataframe\">\n",
       "  <thead>\n",
       "    <tr style=\"text-align: right;\">\n",
       "      <th></th>\n",
       "      <th>mean</th>\n",
       "      <th>std</th>\n",
       "      <th>max</th>\n",
       "      <th>min</th>\n",
       "    </tr>\n",
       "  </thead>\n",
       "  <tbody>\n",
       "    <tr>\n",
       "      <th>PUNT_LECTURA_CRITICA</th>\n",
       "      <td>52.314750</td>\n",
       "      <td>9.794356</td>\n",
       "      <td>100.0</td>\n",
       "      <td>0.0</td>\n",
       "    </tr>\n",
       "    <tr>\n",
       "      <th>PUNT_MATEMATICAS</th>\n",
       "      <td>50.604052</td>\n",
       "      <td>11.119918</td>\n",
       "      <td>100.0</td>\n",
       "      <td>0.0</td>\n",
       "    </tr>\n",
       "    <tr>\n",
       "      <th>PUNT_C_NATURALES</th>\n",
       "      <td>48.383691</td>\n",
       "      <td>9.939239</td>\n",
       "      <td>100.0</td>\n",
       "      <td>0.0</td>\n",
       "    </tr>\n",
       "    <tr>\n",
       "      <th>PUNT_SOCIALES_CIUDADANAS</th>\n",
       "      <td>46.331851</td>\n",
       "      <td>11.359774</td>\n",
       "      <td>100.0</td>\n",
       "      <td>0.0</td>\n",
       "    </tr>\n",
       "    <tr>\n",
       "      <th>PUNT_INGLES</th>\n",
       "      <td>48.916545</td>\n",
       "      <td>11.125430</td>\n",
       "      <td>100.0</td>\n",
       "      <td>0.0</td>\n",
       "    </tr>\n",
       "    <tr>\n",
       "      <th>PUNT_GLOBAL</th>\n",
       "      <td>246.854494</td>\n",
       "      <td>46.735324</td>\n",
       "      <td>442.0</td>\n",
       "      <td>0.0</td>\n",
       "    </tr>\n",
       "    <tr>\n",
       "      <th>PERCENTIL_GLOBAL</th>\n",
       "      <td>51.066829</td>\n",
       "      <td>27.456461</td>\n",
       "      <td>100.0</td>\n",
       "      <td>1.0</td>\n",
       "    </tr>\n",
       "  </tbody>\n",
       "</table>\n",
       "</div>"
      ],
      "text/plain": [
       "                                mean        std    max  min\n",
       "PUNT_LECTURA_CRITICA       52.314750   9.794356  100.0  0.0\n",
       "PUNT_MATEMATICAS           50.604052  11.119918  100.0  0.0\n",
       "PUNT_C_NATURALES           48.383691   9.939239  100.0  0.0\n",
       "PUNT_SOCIALES_CIUDADANAS   46.331851  11.359774  100.0  0.0\n",
       "PUNT_INGLES                48.916545  11.125430  100.0  0.0\n",
       "PUNT_GLOBAL               246.854494  46.735324  442.0  0.0\n",
       "PERCENTIL_GLOBAL           51.066829  27.456461  100.0  1.0"
      ]
     },
     "execution_count": 11,
     "metadata": {},
     "output_type": "execute_result"
    }
   ],
   "source": [
    "#Descriptivos de cada variable continua\n",
    "#Creando un diccionario que almacena los estadisticos de cada variable\n",
    "descriptivos_puntajes = {}\n",
    "for variable in variables_continuas:\n",
    "    descriptivos_puntajes[variable] = []\n",
    "\n",
    "for i, variable in enumerate(variables_continuas):\n",
    "    datos = df_drop[variable].describe().loc[['mean', 'std', 'max', 'min']]\n",
    "    descriptivos_puntajes[variable] = datos\n",
    "    \n",
    "df_desciptivos_puntajes = pd.DataFrame(descriptivos_puntajes).transpose()\n",
    "df_desciptivos_puntajes"
   ]
  },
  {
   "cell_type": "code",
   "execution_count": 12,
   "metadata": {
    "scrolled": false
   },
   "outputs": [
    {
     "data": {
      "text/html": [
       "<div>\n",
       "<style scoped>\n",
       "    .dataframe tbody tr th:only-of-type {\n",
       "        vertical-align: middle;\n",
       "    }\n",
       "\n",
       "    .dataframe tbody tr th {\n",
       "        vertical-align: top;\n",
       "    }\n",
       "\n",
       "    .dataframe thead th {\n",
       "        text-align: right;\n",
       "    }\n",
       "</style>\n",
       "<table border=\"1\" class=\"dataframe\">\n",
       "  <thead>\n",
       "    <tr style=\"text-align: right;\">\n",
       "      <th></th>\n",
       "      <th>Media 1</th>\n",
       "      <th>Std 1</th>\n",
       "      <th>Max 1</th>\n",
       "      <th>Min 1</th>\n",
       "      <th>Media 2</th>\n",
       "      <th>Std 2</th>\n",
       "      <th>Max 2</th>\n",
       "      <th>Min 2</th>\n",
       "    </tr>\n",
       "  </thead>\n",
       "  <tbody>\n",
       "    <tr>\n",
       "      <th>PUNT_LECTURA_CRITICA</th>\n",
       "      <td>53.380226</td>\n",
       "      <td>10.416497</td>\n",
       "      <td>100.0</td>\n",
       "      <td>0.0</td>\n",
       "      <td>52.314750</td>\n",
       "      <td>9.794356</td>\n",
       "      <td>100.0</td>\n",
       "      <td>0.0</td>\n",
       "    </tr>\n",
       "    <tr>\n",
       "      <th>PUNT_MATEMATICAS</th>\n",
       "      <td>51.817262</td>\n",
       "      <td>11.876710</td>\n",
       "      <td>100.0</td>\n",
       "      <td>0.0</td>\n",
       "      <td>50.604052</td>\n",
       "      <td>11.119918</td>\n",
       "      <td>100.0</td>\n",
       "      <td>0.0</td>\n",
       "    </tr>\n",
       "    <tr>\n",
       "      <th>PUNT_C_NATURALES</th>\n",
       "      <td>49.546606</td>\n",
       "      <td>10.752327</td>\n",
       "      <td>100.0</td>\n",
       "      <td>0.0</td>\n",
       "      <td>48.383691</td>\n",
       "      <td>9.939239</td>\n",
       "      <td>100.0</td>\n",
       "      <td>0.0</td>\n",
       "    </tr>\n",
       "    <tr>\n",
       "      <th>PUNT_SOCIALES_CIUDADANAS</th>\n",
       "      <td>47.635641</td>\n",
       "      <td>12.228414</td>\n",
       "      <td>100.0</td>\n",
       "      <td>0.0</td>\n",
       "      <td>46.331851</td>\n",
       "      <td>11.359774</td>\n",
       "      <td>100.0</td>\n",
       "      <td>0.0</td>\n",
       "    </tr>\n",
       "    <tr>\n",
       "      <th>PUNT_INGLES</th>\n",
       "      <td>50.693926</td>\n",
       "      <td>12.870041</td>\n",
       "      <td>100.0</td>\n",
       "      <td>0.0</td>\n",
       "      <td>48.916545</td>\n",
       "      <td>11.125430</td>\n",
       "      <td>100.0</td>\n",
       "      <td>0.0</td>\n",
       "    </tr>\n",
       "    <tr>\n",
       "      <th>PUNT_GLOBAL</th>\n",
       "      <td>253.013211</td>\n",
       "      <td>51.465233</td>\n",
       "      <td>477.0</td>\n",
       "      <td>0.0</td>\n",
       "      <td>246.854494</td>\n",
       "      <td>46.735324</td>\n",
       "      <td>442.0</td>\n",
       "      <td>0.0</td>\n",
       "    </tr>\n",
       "    <tr>\n",
       "      <th>PERCENTIL_GLOBAL</th>\n",
       "      <td>53.874037</td>\n",
       "      <td>28.723295</td>\n",
       "      <td>100.0</td>\n",
       "      <td>1.0</td>\n",
       "      <td>51.066829</td>\n",
       "      <td>27.456461</td>\n",
       "      <td>100.0</td>\n",
       "      <td>1.0</td>\n",
       "    </tr>\n",
       "  </tbody>\n",
       "</table>\n",
       "</div>"
      ],
      "text/plain": [
       "                             Media 1      Std 1  Max 1  Min 1     Media 2  \\\n",
       "PUNT_LECTURA_CRITICA       53.380226  10.416497  100.0    0.0   52.314750   \n",
       "PUNT_MATEMATICAS           51.817262  11.876710  100.0    0.0   50.604052   \n",
       "PUNT_C_NATURALES           49.546606  10.752327  100.0    0.0   48.383691   \n",
       "PUNT_SOCIALES_CIUDADANAS   47.635641  12.228414  100.0    0.0   46.331851   \n",
       "PUNT_INGLES                50.693926  12.870041  100.0    0.0   48.916545   \n",
       "PUNT_GLOBAL               253.013211  51.465233  477.0    0.0  246.854494   \n",
       "PERCENTIL_GLOBAL           53.874037  28.723295  100.0    1.0   51.066829   \n",
       "\n",
       "                              Std 2  Max 2  Min 2  \n",
       "PUNT_LECTURA_CRITICA       9.794356  100.0    0.0  \n",
       "PUNT_MATEMATICAS          11.119918  100.0    0.0  \n",
       "PUNT_C_NATURALES           9.939239  100.0    0.0  \n",
       "PUNT_SOCIALES_CIUDADANAS  11.359774  100.0    0.0  \n",
       "PUNT_INGLES               11.125430  100.0    0.0  \n",
       "PUNT_GLOBAL               46.735324  442.0    0.0  \n",
       "PERCENTIL_GLOBAL          27.456461  100.0    1.0  "
      ]
     },
     "execution_count": 12,
     "metadata": {},
     "output_type": "execute_result"
    }
   ],
   "source": [
    "# Compare los resultados con los hallados los 2 literales anteriores y comente. \n",
    "columnas_df_descriptivos = ['Media 1', 'Std 1', 'Max 1', 'Min 1', 'Media 2', 'Std 2', 'Max 2', 'Min 2']\n",
    "data_frame_descriptivos = pd.concat([df_desciptivos, df_desciptivos_puntajes], axis=1)\n",
    "data_frame_descriptivos.columns = columnas_df_descriptivos\n",
    "data_frame_descriptivos\n",
    "\n",
    "##TODO_ incluir columnas de variabilidad"
   ]
  },
  {
   "cell_type": "markdown",
   "metadata": {},
   "source": [
    "Al retirar los estudiantes que cumplen con los puntajes en matematicas mayor a 55, lectura mayor a 60 e ingles 70. No se observa una variación significativa entre los estadisticos de Media y Desviación Estándar (2% en promedio), para la variable de Puntaje Global (PUNT_GLOBAL) si se observa una variabilidad del 8%. Esto puede darse debido a que los estudiantes retirados de la base solo represetan el 6.30% del total después de haber filtrado los departamentos de interés."
   ]
  },
  {
   "cell_type": "markdown",
   "metadata": {
    "nbgrader": {
     "grade": false,
     "grade_id": "eje-task",
     "locked": true,
     "schema_version": 3,
     "solution": false,
     "task": false
    }
   },
   "source": [
    "b. (5%) Compare en una tabla los puntajes de matemáticas, lectura y ciencias naturales, e ilustre gráficamente con gráficas de caja para cada una de las materias. Comente."
   ]
  },
  {
   "cell_type": "code",
   "execution_count": 13,
   "metadata": {
    "nbgrader": {
     "grade": false,
     "grade_id": "eje-sol",
     "locked": true,
     "schema_version": 3,
     "solution": false,
     "task": false
    },
    "scrolled": false
   },
   "outputs": [
    {
     "data": {
      "text/html": [
       "<div>\n",
       "<style scoped>\n",
       "    .dataframe tbody tr th:only-of-type {\n",
       "        vertical-align: middle;\n",
       "    }\n",
       "\n",
       "    .dataframe tbody tr th {\n",
       "        vertical-align: top;\n",
       "    }\n",
       "\n",
       "    .dataframe thead th {\n",
       "        text-align: right;\n",
       "    }\n",
       "</style>\n",
       "<table border=\"1\" class=\"dataframe\">\n",
       "  <thead>\n",
       "    <tr style=\"text-align: right;\">\n",
       "      <th></th>\n",
       "      <th>PUNT_C_NATURALES</th>\n",
       "      <th>PUNT_LECTURA_CRITICA</th>\n",
       "      <th>PUNT_MATEMATICAS</th>\n",
       "    </tr>\n",
       "    <tr>\n",
       "      <th>ESTU_DEPTO_RESIDE</th>\n",
       "      <th></th>\n",
       "      <th></th>\n",
       "      <th></th>\n",
       "    </tr>\n",
       "  </thead>\n",
       "  <tbody>\n",
       "    <tr>\n",
       "      <th>ATLANTICO</th>\n",
       "      <td>46.491359</td>\n",
       "      <td>50.492372</td>\n",
       "      <td>48.268074</td>\n",
       "    </tr>\n",
       "    <tr>\n",
       "      <th>BOGOTÃ</th>\n",
       "      <td>50.420611</td>\n",
       "      <td>54.277963</td>\n",
       "      <td>53.141881</td>\n",
       "    </tr>\n",
       "    <tr>\n",
       "      <th>HUILA</th>\n",
       "      <td>48.836932</td>\n",
       "      <td>51.800309</td>\n",
       "      <td>50.973252</td>\n",
       "    </tr>\n",
       "    <tr>\n",
       "      <th>LA GUAJIRA</th>\n",
       "      <td>42.755337</td>\n",
       "      <td>46.656582</td>\n",
       "      <td>44.458728</td>\n",
       "    </tr>\n",
       "    <tr>\n",
       "      <th>VALLE</th>\n",
       "      <td>46.969106</td>\n",
       "      <td>51.348434</td>\n",
       "      <td>48.692287</td>\n",
       "    </tr>\n",
       "  </tbody>\n",
       "</table>\n",
       "</div>"
      ],
      "text/plain": [
       "                   PUNT_C_NATURALES  PUNT_LECTURA_CRITICA  PUNT_MATEMATICAS\n",
       "ESTU_DEPTO_RESIDE                                                          \n",
       "ATLANTICO                 46.491359             50.492372         48.268074\n",
       "BOGOTÃ                   50.420611             54.277963         53.141881\n",
       "HUILA                     48.836932             51.800309         50.973252\n",
       "LA GUAJIRA                42.755337             46.656582         44.458728\n",
       "VALLE                     46.969106             51.348434         48.692287"
      ]
     },
     "execution_count": 13,
     "metadata": {},
     "output_type": "execute_result"
    }
   ],
   "source": [
    "# Tabla dinamica de la media de los puntajes \n",
    "tabla_dinamica_media = pd.pivot_table(df_drop, values=['PUNT_MATEMATICAS', 'PUNT_C_NATURALES','PUNT_LECTURA_CRITICA'], index='ESTU_DEPTO_RESIDE', aggfunc='mean')\n",
    "tabla_dinamica_media    "
   ]
  },
  {
   "cell_type": "code",
   "execution_count": 14,
   "metadata": {
    "scrolled": true
   },
   "outputs": [
    {
     "data": {
      "text/html": [
       "<div>\n",
       "<style scoped>\n",
       "    .dataframe tbody tr th:only-of-type {\n",
       "        vertical-align: middle;\n",
       "    }\n",
       "\n",
       "    .dataframe tbody tr th {\n",
       "        vertical-align: top;\n",
       "    }\n",
       "\n",
       "    .dataframe thead th {\n",
       "        text-align: right;\n",
       "    }\n",
       "</style>\n",
       "<table border=\"1\" class=\"dataframe\">\n",
       "  <thead>\n",
       "    <tr style=\"text-align: right;\">\n",
       "      <th></th>\n",
       "      <th>PUNT_C_NATURALES</th>\n",
       "      <th>PUNT_LECTURA_CRITICA</th>\n",
       "      <th>PUNT_MATEMATICAS</th>\n",
       "    </tr>\n",
       "    <tr>\n",
       "      <th>ESTU_DEPTO_RESIDE</th>\n",
       "      <th></th>\n",
       "      <th></th>\n",
       "      <th></th>\n",
       "    </tr>\n",
       "  </thead>\n",
       "  <tbody>\n",
       "    <tr>\n",
       "      <th>ATLANTICO</th>\n",
       "      <td>10.169579</td>\n",
       "      <td>10.206510</td>\n",
       "      <td>11.108635</td>\n",
       "    </tr>\n",
       "    <tr>\n",
       "      <th>BOGOTÃ</th>\n",
       "      <td>9.250787</td>\n",
       "      <td>8.993710</td>\n",
       "      <td>10.433994</td>\n",
       "    </tr>\n",
       "    <tr>\n",
       "      <th>HUILA</th>\n",
       "      <td>10.169297</td>\n",
       "      <td>9.795412</td>\n",
       "      <td>11.280765</td>\n",
       "    </tr>\n",
       "    <tr>\n",
       "      <th>LA GUAJIRA</th>\n",
       "      <td>9.523380</td>\n",
       "      <td>10.194932</td>\n",
       "      <td>11.049190</td>\n",
       "    </tr>\n",
       "    <tr>\n",
       "      <th>VALLE</th>\n",
       "      <td>10.056045</td>\n",
       "      <td>9.934516</td>\n",
       "      <td>11.081159</td>\n",
       "    </tr>\n",
       "  </tbody>\n",
       "</table>\n",
       "</div>"
      ],
      "text/plain": [
       "                   PUNT_C_NATURALES  PUNT_LECTURA_CRITICA  PUNT_MATEMATICAS\n",
       "ESTU_DEPTO_RESIDE                                                          \n",
       "ATLANTICO                 10.169579             10.206510         11.108635\n",
       "BOGOTÃ                    9.250787              8.993710         10.433994\n",
       "HUILA                     10.169297              9.795412         11.280765\n",
       "LA GUAJIRA                 9.523380             10.194932         11.049190\n",
       "VALLE                     10.056045              9.934516         11.081159"
      ]
     },
     "execution_count": 14,
     "metadata": {},
     "output_type": "execute_result"
    }
   ],
   "source": [
    "# Tabla dinamica de la desviación estándar de los puntajes \n",
    "tabla_dinamica_std = pd.pivot_table(df_drop, values=['PUNT_MATEMATICAS', 'PUNT_C_NATURALES','PUNT_LECTURA_CRITICA'], index='ESTU_DEPTO_RESIDE', aggfunc='std')\n",
    "tabla_dinamica_std    "
   ]
  },
  {
   "cell_type": "code",
   "execution_count": 15,
   "metadata": {
    "scrolled": false
   },
   "outputs": [
    {
     "data": {
      "image/png": "[encoded data removed]",
      "text/plain": [
       "<Figure size 1000x600 with 1 Axes>"
      ]
     },
     "metadata": {},
     "output_type": "display_data"
    }
   ],
   "source": [
    "plt.figure(figsize=(10, 6))\n",
    "df_drop.boxplot(column=['PUNT_MATEMATICAS', 'PUNT_C_NATURALES','PUNT_LECTURA_CRITICA'])\n",
    "plt.title('Puntajes por Materia')\n",
    "plt.ylabel('Puntaje')\n",
    "plt.xlabel('Materias')\n",
    "plt.show()"
   ]
  },
  {
   "cell_type": "markdown",
   "metadata": {},
   "source": [
    "Los estudiantes presentan un mejor desempeño en la materia de lectura crítica, toda vez que, al oscilar entre minimos de cero y máximo de 100 al igual que las demá materias, tanto su media, como su tercer cuartil son superiores a las demás materias. No obstante, también es la materia con mayor cantidad de estudiantes que obtuvieron datos atípicos por debajo del primer cuartil.\n",
    "\n",
    "Tambien se observa que la dispersión de los puntajes de matemáticas es mayor que en las demás materias, mientras que en Lectura Crítica se observa la menor dispersión."
   ]
  },
  {
   "cell_type": "markdown",
   "metadata": {
    "nbgrader": {
     "grade": false,
     "grade_id": "ej1-enun",
     "locked": true,
     "schema_version": 3,
     "solution": false,
     "task": false
    }
   },
   "source": [
    "c. (5%) Identifique el departamento que tiene los puntajes globales más altos. Identifique el que tiene los mejores puntajes en matemáticas."
   ]
  },
  {
   "cell_type": "code",
   "execution_count": 16,
   "metadata": {
    "nbgrader": {
     "grade": false,
     "grade_id": "ej1-sol",
     "locked": false,
     "schema_version": 3,
     "solution": true,
     "task": false
    },
    "nombre": "Ej1",
    "scrolled": true
   },
   "outputs": [
    {
     "data": {
      "text/html": [
       "<div>\n",
       "<style scoped>\n",
       "    .dataframe tbody tr th:only-of-type {\n",
       "        vertical-align: middle;\n",
       "    }\n",
       "\n",
       "    .dataframe tbody tr th {\n",
       "        vertical-align: top;\n",
       "    }\n",
       "\n",
       "    .dataframe thead tr th {\n",
       "        text-align: left;\n",
       "    }\n",
       "\n",
       "    .dataframe thead tr:last-of-type th {\n",
       "        text-align: right;\n",
       "    }\n",
       "</style>\n",
       "<table border=\"1\" class=\"dataframe\">\n",
       "  <thead>\n",
       "    <tr>\n",
       "      <th></th>\n",
       "      <th colspan=\"8\" halign=\"left\">PUNT_GLOBAL</th>\n",
       "    </tr>\n",
       "    <tr>\n",
       "      <th></th>\n",
       "      <th>count</th>\n",
       "      <th>mean</th>\n",
       "      <th>std</th>\n",
       "      <th>min</th>\n",
       "      <th>25%</th>\n",
       "      <th>50%</th>\n",
       "      <th>75%</th>\n",
       "      <th>max</th>\n",
       "    </tr>\n",
       "    <tr>\n",
       "      <th>ESTU_DEPTO_RESIDE</th>\n",
       "      <th></th>\n",
       "      <th></th>\n",
       "      <th></th>\n",
       "      <th></th>\n",
       "      <th></th>\n",
       "      <th></th>\n",
       "      <th></th>\n",
       "      <th></th>\n",
       "    </tr>\n",
       "  </thead>\n",
       "  <tbody>\n",
       "    <tr>\n",
       "      <th>ATLANTICO</th>\n",
       "      <td>30611.0</td>\n",
       "      <td>236.283297</td>\n",
       "      <td>47.367086</td>\n",
       "      <td>44.0</td>\n",
       "      <td>200.0</td>\n",
       "      <td>233.0</td>\n",
       "      <td>271.0</td>\n",
       "      <td>403.0</td>\n",
       "    </tr>\n",
       "    <tr>\n",
       "      <th>BOGOTÃ</th>\n",
       "      <td>75697.0</td>\n",
       "      <td>258.256761</td>\n",
       "      <td>43.266914</td>\n",
       "      <td>75.0</td>\n",
       "      <td>227.0</td>\n",
       "      <td>260.0</td>\n",
       "      <td>290.0</td>\n",
       "      <td>442.0</td>\n",
       "    </tr>\n",
       "    <tr>\n",
       "      <th>HUILA</th>\n",
       "      <td>13571.0</td>\n",
       "      <td>246.137352</td>\n",
       "      <td>47.118972</td>\n",
       "      <td>21.0</td>\n",
       "      <td>210.0</td>\n",
       "      <td>244.0</td>\n",
       "      <td>281.0</td>\n",
       "      <td>408.0</td>\n",
       "    </tr>\n",
       "    <tr>\n",
       "      <th>LA GUAJIRA</th>\n",
       "      <td>8759.0</td>\n",
       "      <td>216.933326</td>\n",
       "      <td>45.099298</td>\n",
       "      <td>11.0</td>\n",
       "      <td>182.0</td>\n",
       "      <td>211.0</td>\n",
       "      <td>247.0</td>\n",
       "      <td>370.0</td>\n",
       "    </tr>\n",
       "    <tr>\n",
       "      <th>VALLE</th>\n",
       "      <td>37548.0</td>\n",
       "      <td>239.724672</td>\n",
       "      <td>46.628659</td>\n",
       "      <td>0.0</td>\n",
       "      <td>205.0</td>\n",
       "      <td>238.0</td>\n",
       "      <td>273.0</td>\n",
       "      <td>407.0</td>\n",
       "    </tr>\n",
       "  </tbody>\n",
       "</table>\n",
       "</div>"
      ],
      "text/plain": [
       "                  PUNT_GLOBAL                                             \\\n",
       "                        count        mean        std   min    25%    50%   \n",
       "ESTU_DEPTO_RESIDE                                                          \n",
       "ATLANTICO             30611.0  236.283297  47.367086  44.0  200.0  233.0   \n",
       "BOGOTÃ               75697.0  258.256761  43.266914  75.0  227.0  260.0   \n",
       "HUILA                 13571.0  246.137352  47.118972  21.0  210.0  244.0   \n",
       "LA GUAJIRA             8759.0  216.933326  45.099298  11.0  182.0  211.0   \n",
       "VALLE                 37548.0  239.724672  46.628659   0.0  205.0  238.0   \n",
       "\n",
       "                                 \n",
       "                     75%    max  \n",
       "ESTU_DEPTO_RESIDE                \n",
       "ATLANTICO          271.0  403.0  \n",
       "BOGOTÃ            290.0  442.0  \n",
       "HUILA              281.0  408.0  \n",
       "LA GUAJIRA         247.0  370.0  \n",
       "VALLE              273.0  407.0  "
      ]
     },
     "execution_count": 16,
     "metadata": {},
     "output_type": "execute_result"
    }
   ],
   "source": [
    "puntajes_altos = df_drop[['ESTU_DEPTO_RESIDE','PUNT_GLOBAL']]\n",
    "df_puntajes_altos = puntajes_altos.groupby(['ESTU_DEPTO_RESIDE']).describe()\n",
    "df_puntajes_altos"
   ]
  },
  {
   "cell_type": "code",
   "execution_count": 17,
   "metadata": {
    "scrolled": true
   },
   "outputs": [],
   "source": [
    "puntaje_valle = puntajes_altos[puntajes_altos['ESTU_DEPTO_RESIDE']=='VALLE']\n",
    "df_puntaje_valle = puntaje_valle.drop(columns=['ESTU_DEPTO_RESIDE'])\n",
    "\n",
    "puntaje_guajira = puntajes_altos[puntajes_altos['ESTU_DEPTO_RESIDE']=='LA GUAJIRA']\n",
    "df_puntaje_guajira = puntaje_guajira.drop(columns=['ESTU_DEPTO_RESIDE'])\n",
    "\n",
    "puntaje_atlantico = puntajes_altos[puntajes_altos['ESTU_DEPTO_RESIDE']=='ATLANTICO']\n",
    "df_puntaje_atlantico = puntaje_atlantico.drop(columns=['ESTU_DEPTO_RESIDE'])\n",
    "\n",
    "puntaje_bogota = puntajes_altos[puntajes_altos['ESTU_DEPTO_RESIDE']=='BOGOTÃ\\x81']\n",
    "df_puntaje_bogota = puntaje_bogota.drop(columns=['ESTU_DEPTO_RESIDE'])\n",
    "\n",
    "puntaje_huila = puntajes_altos[puntajes_altos['ESTU_DEPTO_RESIDE']=='HUILA']\n",
    "df_puntaje_huila = puntaje_huila.drop(columns=['ESTU_DEPTO_RESIDE'])"
   ]
  },
  {
   "cell_type": "code",
   "execution_count": 18,
   "metadata": {},
   "outputs": [],
   "source": [
    "from sklearn.preprocessing import StandardScaler\n",
    "scaler = StandardScaler()"
   ]
  },
  {
   "cell_type": "code",
   "execution_count": 19,
   "metadata": {},
   "outputs": [],
   "source": [
    "scaler = StandardScaler()\n",
    "\n",
    "df_normalized_1c_valle = pd.DataFrame(scaler.fit_transform(df_puntaje_valle), columns=df_puntaje_valle.columns)\n",
    "df_valle_descriptivos = df_normalized_1c_valle.describe().transpose()\n",
    "\n",
    "df_normalized_1c_guajira = pd.DataFrame(scaler.fit_transform(df_puntaje_guajira), columns=df_puntaje_guajira.columns)\n",
    "df_guajira_descriptivos = df_normalized_1c_guajira.describe().transpose()\n",
    "\n",
    "df_normalized_1c_atlantico = pd.DataFrame(scaler.fit_transform(df_puntaje_atlantico), columns=df_puntaje_atlantico.columns)\n",
    "df_atlantico_descriptivos = df_normalized_1c_atlantico.describe().transpose()\n",
    "\n",
    "df_normalized_1c_bogota = pd.DataFrame(scaler.fit_transform(df_puntaje_bogota), columns=df_puntaje_bogota.columns)\n",
    "df_bogota_descriptivos = df_normalized_1c_bogota.describe().transpose()\n",
    "\n",
    "df_normalized_1c_huila = pd.DataFrame(scaler.fit_transform(df_puntaje_huila), columns=df_puntaje_huila.columns)\n",
    "df_huila_descriptivos = df_normalized_1c_huila.describe().transpose()\n"
   ]
  },
  {
   "cell_type": "code",
   "execution_count": 20,
   "metadata": {
    "scrolled": true
   },
   "outputs": [
    {
     "data": {
      "text/html": [
       "<div>\n",
       "<style scoped>\n",
       "    .dataframe tbody tr th:only-of-type {\n",
       "        vertical-align: middle;\n",
       "    }\n",
       "\n",
       "    .dataframe tbody tr th {\n",
       "        vertical-align: top;\n",
       "    }\n",
       "\n",
       "    .dataframe thead th {\n",
       "        text-align: right;\n",
       "    }\n",
       "</style>\n",
       "<table border=\"1\" class=\"dataframe\">\n",
       "  <thead>\n",
       "    <tr style=\"text-align: right;\">\n",
       "      <th></th>\n",
       "      <th>count</th>\n",
       "      <th>mean</th>\n",
       "      <th>std</th>\n",
       "      <th>min</th>\n",
       "      <th>25%</th>\n",
       "      <th>50%</th>\n",
       "      <th>75%</th>\n",
       "      <th>max</th>\n",
       "    </tr>\n",
       "  </thead>\n",
       "  <tbody>\n",
       "    <tr>\n",
       "      <th>ATLANTICO</th>\n",
       "      <td>30611.0</td>\n",
       "      <td>5.663730e-17</td>\n",
       "      <td>1.000016</td>\n",
       "      <td>-4.059495</td>\n",
       "      <td>-0.766015</td>\n",
       "      <td>-0.069317</td>\n",
       "      <td>0.732941</td>\n",
       "      <td>3.519732</td>\n",
       "    </tr>\n",
       "    <tr>\n",
       "      <th>LA GUAJIRA</th>\n",
       "      <td>8759.0</td>\n",
       "      <td>-1.573756e-16</td>\n",
       "      <td>1.000057</td>\n",
       "      <td>-4.566481</td>\n",
       "      <td>-0.774631</td>\n",
       "      <td>-0.131569</td>\n",
       "      <td>0.666715</td>\n",
       "      <td>3.394186</td>\n",
       "    </tr>\n",
       "    <tr>\n",
       "      <th>HUILA</th>\n",
       "      <td>13571.0</td>\n",
       "      <td>-2.722587e-17</td>\n",
       "      <td>1.000037</td>\n",
       "      <td>-4.778238</td>\n",
       "      <td>-0.766967</td>\n",
       "      <td>-0.045362</td>\n",
       "      <td>0.739913</td>\n",
       "      <td>3.435317</td>\n",
       "    </tr>\n",
       "    <tr>\n",
       "      <th>VALLE</th>\n",
       "      <td>37548.0</td>\n",
       "      <td>6.661102e-17</td>\n",
       "      <td>1.000013</td>\n",
       "      <td>-5.141213</td>\n",
       "      <td>-0.744717</td>\n",
       "      <td>-0.036988</td>\n",
       "      <td>0.713633</td>\n",
       "      <td>3.587441</td>\n",
       "    </tr>\n",
       "    <tr>\n",
       "      <th>BOGOTÃ</th>\n",
       "      <td>75697.0</td>\n",
       "      <td>4.355415e-17</td>\n",
       "      <td>1.000007</td>\n",
       "      <td>-4.235522</td>\n",
       "      <td>-0.722422</td>\n",
       "      <td>0.040291</td>\n",
       "      <td>0.733666</td>\n",
       "      <td>4.246766</td>\n",
       "    </tr>\n",
       "  </tbody>\n",
       "</table>\n",
       "</div>"
      ],
      "text/plain": [
       "              count          mean       std       min       25%       50%  \\\n",
       "ATLANTICO   30611.0  5.663730e-17  1.000016 -4.059495 -0.766015 -0.069317   \n",
       "LA GUAJIRA   8759.0 -1.573756e-16  1.000057 -4.566481 -0.774631 -0.131569   \n",
       "HUILA       13571.0 -2.722587e-17  1.000037 -4.778238 -0.766967 -0.045362   \n",
       "VALLE       37548.0  6.661102e-17  1.000013 -5.141213 -0.744717 -0.036988   \n",
       "BOGOTÃ     75697.0  4.355415e-17  1.000007 -4.235522 -0.722422  0.040291   \n",
       "\n",
       "                 75%       max  \n",
       "ATLANTICO   0.732941  3.519732  \n",
       "LA GUAJIRA  0.666715  3.394186  \n",
       "HUILA       0.739913  3.435317  \n",
       "VALLE       0.713633  3.587441  \n",
       "BOGOTÃ     0.733666  4.246766  "
      ]
     },
     "execution_count": 20,
     "metadata": {},
     "output_type": "execute_result"
    }
   ],
   "source": [
    "puntaje_dep=['ATLANTICO', 'LA GUAJIRA','HUILA','VALLE','BOGOTÃ\\x81']\n",
    "\n",
    "df_puntajes_descriptivos_normalizados = pd.concat([df_atlantico_descriptivos,df_guajira_descriptivos,df_huila_descriptivos,df_valle_descriptivos,df_bogota_descriptivos])\n",
    "df_puntajes_descriptivos_normalizados.index = puntaje_dep\n",
    "df_puntajes_descriptivos_normalizados"
   ]
  },
  {
   "cell_type": "code",
   "execution_count": 21,
   "metadata": {},
   "outputs": [
    {
     "data": {
      "text/html": [
       "<div>\n",
       "<style scoped>\n",
       "    .dataframe tbody tr th:only-of-type {\n",
       "        vertical-align: middle;\n",
       "    }\n",
       "\n",
       "    .dataframe tbody tr th {\n",
       "        vertical-align: top;\n",
       "    }\n",
       "\n",
       "    .dataframe thead tr th {\n",
       "        text-align: left;\n",
       "    }\n",
       "\n",
       "    .dataframe thead tr:last-of-type th {\n",
       "        text-align: right;\n",
       "    }\n",
       "</style>\n",
       "<table border=\"1\" class=\"dataframe\">\n",
       "  <thead>\n",
       "    <tr>\n",
       "      <th></th>\n",
       "      <th colspan=\"8\" halign=\"left\">PUNT_MATEMATICAS</th>\n",
       "    </tr>\n",
       "    <tr>\n",
       "      <th></th>\n",
       "      <th>count</th>\n",
       "      <th>mean</th>\n",
       "      <th>std</th>\n",
       "      <th>min</th>\n",
       "      <th>25%</th>\n",
       "      <th>50%</th>\n",
       "      <th>75%</th>\n",
       "      <th>max</th>\n",
       "    </tr>\n",
       "    <tr>\n",
       "      <th>ESTU_DEPTO_RESIDE</th>\n",
       "      <th></th>\n",
       "      <th></th>\n",
       "      <th></th>\n",
       "      <th></th>\n",
       "      <th></th>\n",
       "      <th></th>\n",
       "      <th></th>\n",
       "      <th></th>\n",
       "    </tr>\n",
       "  </thead>\n",
       "  <tbody>\n",
       "    <tr>\n",
       "      <th>ATLANTICO</th>\n",
       "      <td>30611.0</td>\n",
       "      <td>48.268074</td>\n",
       "      <td>11.108635</td>\n",
       "      <td>15.0</td>\n",
       "      <td>40.0</td>\n",
       "      <td>48.0</td>\n",
       "      <td>56.0</td>\n",
       "      <td>100.0</td>\n",
       "    </tr>\n",
       "    <tr>\n",
       "      <th>BOGOTÃ</th>\n",
       "      <td>75697.0</td>\n",
       "      <td>53.141881</td>\n",
       "      <td>10.433994</td>\n",
       "      <td>16.0</td>\n",
       "      <td>46.0</td>\n",
       "      <td>54.0</td>\n",
       "      <td>61.0</td>\n",
       "      <td>100.0</td>\n",
       "    </tr>\n",
       "    <tr>\n",
       "      <th>HUILA</th>\n",
       "      <td>13571.0</td>\n",
       "      <td>50.973252</td>\n",
       "      <td>11.280765</td>\n",
       "      <td>0.0</td>\n",
       "      <td>43.0</td>\n",
       "      <td>51.0</td>\n",
       "      <td>59.0</td>\n",
       "      <td>100.0</td>\n",
       "    </tr>\n",
       "    <tr>\n",
       "      <th>LA GUAJIRA</th>\n",
       "      <td>8759.0</td>\n",
       "      <td>44.458728</td>\n",
       "      <td>11.049190</td>\n",
       "      <td>0.0</td>\n",
       "      <td>36.0</td>\n",
       "      <td>44.0</td>\n",
       "      <td>52.0</td>\n",
       "      <td>83.0</td>\n",
       "    </tr>\n",
       "    <tr>\n",
       "      <th>VALLE</th>\n",
       "      <td>37548.0</td>\n",
       "      <td>48.692287</td>\n",
       "      <td>11.081159</td>\n",
       "      <td>0.0</td>\n",
       "      <td>41.0</td>\n",
       "      <td>49.0</td>\n",
       "      <td>57.0</td>\n",
       "      <td>100.0</td>\n",
       "    </tr>\n",
       "  </tbody>\n",
       "</table>\n",
       "</div>"
      ],
      "text/plain": [
       "                  PUNT_MATEMATICAS                                          \\\n",
       "                             count       mean        std   min   25%   50%   \n",
       "ESTU_DEPTO_RESIDE                                                            \n",
       "ATLANTICO                  30611.0  48.268074  11.108635  15.0  40.0  48.0   \n",
       "BOGOTÃ                    75697.0  53.141881  10.433994  16.0  46.0  54.0   \n",
       "HUILA                      13571.0  50.973252  11.280765   0.0  43.0  51.0   \n",
       "LA GUAJIRA                  8759.0  44.458728  11.049190   0.0  36.0  44.0   \n",
       "VALLE                      37548.0  48.692287  11.081159   0.0  41.0  49.0   \n",
       "\n",
       "                                \n",
       "                    75%    max  \n",
       "ESTU_DEPTO_RESIDE               \n",
       "ATLANTICO          56.0  100.0  \n",
       "BOGOTÃ            61.0  100.0  \n",
       "HUILA              59.0  100.0  \n",
       "LA GUAJIRA         52.0   83.0  \n",
       "VALLE              57.0  100.0  "
      ]
     },
     "execution_count": 21,
     "metadata": {},
     "output_type": "execute_result"
    }
   ],
   "source": [
    "# Normalizando matematicas 1\n",
    "\n",
    "puntajes_altos_mt = df_drop[['ESTU_DEPTO_RESIDE','PUNT_MATEMATICAS']]\n",
    "df_puntajes_altos_mt = puntajes_altos_mt.groupby(['ESTU_DEPTO_RESIDE']).describe()\n",
    "df_puntajes_altos_mt"
   ]
  },
  {
   "cell_type": "code",
   "execution_count": 22,
   "metadata": {},
   "outputs": [],
   "source": [
    "# NORMALIZANDO MATEMATICAS 2\n",
    "puntaje_valle_mt = puntajes_altos_mt[puntajes_altos_mt['ESTU_DEPTO_RESIDE']=='VALLE']\n",
    "df_puntaje_valle_mt = puntaje_valle_mt.drop(columns=['ESTU_DEPTO_RESIDE'])\n",
    "\n",
    "puntaje_guajira_mt = puntajes_altos_mt[puntajes_altos_mt['ESTU_DEPTO_RESIDE']=='LA GUAJIRA']\n",
    "df_puntaje_guajira_mt = puntaje_guajira_mt.drop(columns=['ESTU_DEPTO_RESIDE'])\n",
    "\n",
    "puntaje_atlantico_mt = puntajes_altos_mt[puntajes_altos_mt['ESTU_DEPTO_RESIDE']=='ATLANTICO']\n",
    "df_puntaje_atlantico_mt = puntaje_atlantico_mt.drop(columns=['ESTU_DEPTO_RESIDE'])\n",
    "\n",
    "puntaje_bogota_mt = puntajes_altos_mt[puntajes_altos_mt['ESTU_DEPTO_RESIDE']=='BOGOTÃ\\x81']\n",
    "df_puntaje_bogota_mt = puntaje_bogota_mt.drop(columns=['ESTU_DEPTO_RESIDE'])\n",
    "\n",
    "puntaje_huila_mt = puntajes_altos_mt[puntajes_altos_mt['ESTU_DEPTO_RESIDE']=='HUILA']\n",
    "df_puntaje_huila_mt = puntaje_huila_mt.drop(columns=['ESTU_DEPTO_RESIDE'])"
   ]
  },
  {
   "cell_type": "code",
   "execution_count": 23,
   "metadata": {},
   "outputs": [],
   "source": [
    "# normalizando matematicas 3\n",
    "\n",
    "scaler = StandardScaler()\n",
    "\n",
    "df_normalized_1c_valle_mt = pd.DataFrame(scaler.fit_transform(df_puntaje_valle_mt), columns=df_puntaje_valle_mt.columns)\n",
    "df_valle_descriptivos_mt = df_normalized_1c_valle_mt.describe().transpose()\n",
    "\n",
    "df_normalized_1c_guajira_mt = pd.DataFrame(scaler.fit_transform(df_puntaje_guajira_mt), columns=df_puntaje_guajira_mt.columns)\n",
    "df_guajira_descriptivos_mt = df_normalized_1c_guajira_mt.describe().transpose()\n",
    "\n",
    "df_normalized_1c_atlantico_mt = pd.DataFrame(scaler.fit_transform(df_puntaje_atlantico_mt), columns=df_puntaje_atlantico_mt.columns)\n",
    "df_atlantico_descriptivos_mt = df_normalized_1c_atlantico_mt.describe().transpose()\n",
    "\n",
    "df_normalized_1c_bogota_mt = pd.DataFrame(scaler.fit_transform(df_puntaje_bogota_mt), columns=df_puntaje_bogota_mt.columns)\n",
    "df_bogota_descriptivos_mt = df_normalized_1c_bogota_mt.describe().transpose()\n",
    "\n",
    "df_normalized_1c_huila_mt = pd.DataFrame(scaler.fit_transform(df_puntaje_huila_mt), columns=df_puntaje_huila_mt.columns)\n",
    "df_huila_descriptivos_mt = df_normalized_1c_huila_mt.describe().transpose()\n"
   ]
  },
  {
   "cell_type": "code",
   "execution_count": 24,
   "metadata": {},
   "outputs": [
    {
     "data": {
      "text/html": [
       "<div>\n",
       "<style scoped>\n",
       "    .dataframe tbody tr th:only-of-type {\n",
       "        vertical-align: middle;\n",
       "    }\n",
       "\n",
       "    .dataframe tbody tr th {\n",
       "        vertical-align: top;\n",
       "    }\n",
       "\n",
       "    .dataframe thead th {\n",
       "        text-align: right;\n",
       "    }\n",
       "</style>\n",
       "<table border=\"1\" class=\"dataframe\">\n",
       "  <thead>\n",
       "    <tr style=\"text-align: right;\">\n",
       "      <th></th>\n",
       "      <th>count</th>\n",
       "      <th>mean</th>\n",
       "      <th>std</th>\n",
       "      <th>min</th>\n",
       "      <th>25%</th>\n",
       "      <th>50%</th>\n",
       "      <th>75%</th>\n",
       "      <th>max</th>\n",
       "    </tr>\n",
       "  </thead>\n",
       "  <tbody>\n",
       "    <tr>\n",
       "      <th>ATLANTICO</th>\n",
       "      <td>30611.0</td>\n",
       "      <td>-2.191213e-16</td>\n",
       "      <td>1.000016</td>\n",
       "      <td>-2.994843</td>\n",
       "      <td>-0.744305</td>\n",
       "      <td>-0.024132</td>\n",
       "      <td>0.696040</td>\n",
       "      <td>4.656987</td>\n",
       "    </tr>\n",
       "    <tr>\n",
       "      <th>LA GUAJIRA</th>\n",
       "      <td>8759.0</td>\n",
       "      <td>-1.168149e-16</td>\n",
       "      <td>1.000057</td>\n",
       "      <td>-4.023939</td>\n",
       "      <td>-0.765596</td>\n",
       "      <td>-0.041519</td>\n",
       "      <td>0.682557</td>\n",
       "      <td>3.488353</td>\n",
       "    </tr>\n",
       "    <tr>\n",
       "      <th>HUILA</th>\n",
       "      <td>13571.0</td>\n",
       "      <td>-2.806358e-16</td>\n",
       "      <td>1.000037</td>\n",
       "      <td>-4.518765</td>\n",
       "      <td>-0.706827</td>\n",
       "      <td>0.002371</td>\n",
       "      <td>0.711569</td>\n",
       "      <td>4.346208</td>\n",
       "    </tr>\n",
       "    <tr>\n",
       "      <th>VALLE</th>\n",
       "      <td>37548.0</td>\n",
       "      <td>8.174988e-17</td>\n",
       "      <td>1.000013</td>\n",
       "      <td>-4.394209</td>\n",
       "      <td>-0.694186</td>\n",
       "      <td>0.027769</td>\n",
       "      <td>0.749725</td>\n",
       "      <td>4.630237</td>\n",
       "    </tr>\n",
       "    <tr>\n",
       "      <th>BOGOTÃ</th>\n",
       "      <td>75697.0</td>\n",
       "      <td>-1.952427e-17</td>\n",
       "      <td>1.000007</td>\n",
       "      <td>-3.559723</td>\n",
       "      <td>-0.684487</td>\n",
       "      <td>0.082243</td>\n",
       "      <td>0.753132</td>\n",
       "      <td>4.490939</td>\n",
       "    </tr>\n",
       "  </tbody>\n",
       "</table>\n",
       "</div>"
      ],
      "text/plain": [
       "              count          mean       std       min       25%       50%  \\\n",
       "ATLANTICO   30611.0 -2.191213e-16  1.000016 -2.994843 -0.744305 -0.024132   \n",
       "LA GUAJIRA   8759.0 -1.168149e-16  1.000057 -4.023939 -0.765596 -0.041519   \n",
       "HUILA       13571.0 -2.806358e-16  1.000037 -4.518765 -0.706827  0.002371   \n",
       "VALLE       37548.0  8.174988e-17  1.000013 -4.394209 -0.694186  0.027769   \n",
       "BOGOTÃ     75697.0 -1.952427e-17  1.000007 -3.559723 -0.684487  0.082243   \n",
       "\n",
       "                 75%       max  \n",
       "ATLANTICO   0.696040  4.656987  \n",
       "LA GUAJIRA  0.682557  3.488353  \n",
       "HUILA       0.711569  4.346208  \n",
       "VALLE       0.749725  4.630237  \n",
       "BOGOTÃ     0.753132  4.490939  "
      ]
     },
     "execution_count": 24,
     "metadata": {},
     "output_type": "execute_result"
    }
   ],
   "source": [
    "# Puntajes descriptivos de normalizado matematicas\n",
    "puntaje_dep_mt=['ATLANTICO', 'LA GUAJIRA','HUILA','VALLE','BOGOTÃ\\x81']\n",
    "\n",
    "df_puntajes_descriptivos_normalizados_mt = pd.concat([df_atlantico_descriptivos_mt,df_guajira_descriptivos_mt,df_huila_descriptivos_mt,df_valle_descriptivos_mt,df_bogota_descriptivos_mt])\n",
    "df_puntajes_descriptivos_normalizados_mt.index = puntaje_dep_mt\n",
    "df_puntajes_descriptivos_normalizados_mt"
   ]
  },
  {
   "cell_type": "code",
   "execution_count": 25,
   "metadata": {
    "scrolled": false
   },
   "outputs": [
    {
     "data": {
      "text/plain": [
       "<function matplotlib.pyplot.hist(x, bins=None, range=None, density=False, weights=None, cumulative=False, bottom=None, histtype='bar', align='mid', orientation='vertical', rwidth=None, log=False, color=None, label=None, stacked=False, *, data=None, **kwargs)>"
      ]
     },
     "execution_count": 25,
     "metadata": {},
     "output_type": "execute_result"
    },
    {
     "data": {
      "image/png": "[encoded data removed]",
      "text/plain": [
       "<Figure size 1200x500 with 1 Axes>"
      ]
     },
     "metadata": {},
     "output_type": "display_data"
    }
   ],
   "source": [
    "# Grafica de normalizados matematicas\n",
    "leyenda_dep=['Bogotá', 'Valle','Atlantico','Huila','La Guajira']\n",
    "plt.figure(figsize=(12, 5))\n",
    "plt.hist(df_normalized_1c_bogota_mt['PUNT_MATEMATICAS'],bins=20, alpha=0.6, color='red')\n",
    "plt.hist(df_normalized_1c_valle_mt['PUNT_MATEMATICAS'], bins=20, alpha=0.6, color='orange')\n",
    "plt.hist(df_normalized_1c_atlantico_mt['PUNT_MATEMATICAS'], bins=20, alpha=0.6, color='green')\n",
    "plt.hist(df_normalized_1c_huila_mt['PUNT_MATEMATICAS'], bins=20, alpha=0.6, color='yellow')\n",
    "plt.hist(df_normalized_1c_guajira_mt['PUNT_MATEMATICAS'], bins=20, alpha=0.6, color='blue')\n",
    "plt.title('Puntajes matemáticas')\n",
    "plt.ylabel('Estudiantes')\n",
    "plt.xlabel('Distribución puntajes normalizados')\n",
    "plt.legend(leyenda_dep)\n",
    "plt.axvline(x=0,color='red',linestyle='--', label='Media normalizada')\n",
    "plt.hist"
   ]
  },
  {
   "cell_type": "code",
   "execution_count": 26,
   "metadata": {},
   "outputs": [],
   "source": [
    "# curtosis y simetria de puntajes matemáticas\n",
    "curtosis_bogota_mt = df_normalized_1c_bogota_mt['PUNT_MATEMATICAS'].kurt()\n",
    "curtosis_valle_mt = df_normalized_1c_valle_mt['PUNT_MATEMATICAS'].kurt()\n",
    "curtosis_altantico_mt = df_normalized_1c_atlantico_mt['PUNT_MATEMATICAS'].kurt()\n",
    "curtosis_huila_mt = df_normalized_1c_huila_mt['PUNT_MATEMATICAS'].kurt()\n",
    "curtosis_guajira_mt = df_normalized_1c_guajira_mt['PUNT_MATEMATICAS'].kurt()\n",
    "\n",
    "from scipy import stats \n",
    "asimetria_bogota_mt = stats.skew(df_normalized_1c_bogota_mt['PUNT_MATEMATICAS'])\n",
    "asimetria_valle_mt = stats.skew(df_normalized_1c_valle_mt['PUNT_MATEMATICAS'])\n",
    "asimetria_altantico_mt = stats.skew(df_normalized_1c_atlantico_mt['PUNT_MATEMATICAS'])\n",
    "asimetria_huila_mt = stats.skew(df_normalized_1c_huila_mt['PUNT_MATEMATICAS'])\n",
    "asimetria_guajira_mt = stats.skew(df_normalized_1c_guajira_mt['PUNT_MATEMATICAS'])"
   ]
  },
  {
   "cell_type": "code",
   "execution_count": 27,
   "metadata": {},
   "outputs": [
    {
     "name": "stdout",
     "output_type": "stream",
     "text": [
      "-0.12957602352322573 -0.3621943776285099 -0.36710577912573106 -0.24889037097948385 -0.35049396375666353\n",
      "-0.21629270709891385 -0.032881538182182535 0.04960355418680233 -0.021278057451344267 0.2132882259030659\n"
     ]
    }
   ],
   "source": [
    "print(curtosis_bogota_mt,curtosis_valle_mt,curtosis_altantico_mt,curtosis_huila_mt,curtosis_guajira_mt)\n",
    "print(asimetria_bogota_mt,asimetria_valle_mt,asimetria_altantico_mt,asimetria_huila_mt,asimetria_guajira_mt)"
   ]
  },
  {
   "cell_type": "markdown",
   "metadata": {},
   "source": [
    "Al observar el comportamiento de los cinco departamentos para las pruebas de matemáticas, los departamentos de Bogotá, Valle y Huila presentan una asimetría negativa, mientras que Atlántico y Guajira es positiva con una media por debajo de la global. Al revisar la prueba de curtosis está presenta un comportamiento leptocurtico para todos los departamentos. Teniendo en cuenta el resultado de asimetria, podemos indicar que Bogotá es el departamento que presenta en promedio un mejor desempeño en esta asignatura. "
   ]
  },
  {
   "cell_type": "code",
   "execution_count": 28,
   "metadata": {},
   "outputs": [
    {
     "data": {
      "text/plain": [
       "<function matplotlib.pyplot.hist(x, bins=None, range=None, density=False, weights=None, cumulative=False, bottom=None, histtype='bar', align='mid', orientation='vertical', rwidth=None, log=False, color=None, label=None, stacked=False, *, data=None, **kwargs)>"
      ]
     },
     "execution_count": 28,
     "metadata": {},
     "output_type": "execute_result"
    },
    {
     "data": {
      "image/png": "[encoded data removed]",
      "text/plain": [
       "<Figure size 1200x500 with 1 Axes>"
      ]
     },
     "metadata": {},
     "output_type": "display_data"
    }
   ],
   "source": [
    "leyenda_dep=['Bogotá', 'Valle','Atlantico','Huila','La Guajira']\n",
    "plt.figure(figsize=(12, 5))\n",
    "plt.hist(df_normalized_1c_bogota['PUNT_GLOBAL'],bins=20, alpha=0.6, color='red')\n",
    "plt.hist(df_normalized_1c_valle['PUNT_GLOBAL'], bins=20, alpha=0.6, color='orange')\n",
    "plt.hist(df_normalized_1c_atlantico['PUNT_GLOBAL'], bins=20, alpha=0.6, color='green')\n",
    "plt.hist(df_normalized_1c_huila['PUNT_GLOBAL'], bins=20, alpha=0.6, color='yellow')\n",
    "plt.hist(df_normalized_1c_guajira['PUNT_GLOBAL'], bins=20, alpha=0.6, color='blue')\n",
    "plt.title('Puntajes Global')\n",
    "plt.ylabel('Estudiantes')\n",
    "plt.xlabel('Distribución puntajes normalizados')\n",
    "plt.legend(leyenda_dep)\n",
    "plt.axvline(x=0,color='red',linestyle='--', label='Media normalizada')\n",
    "plt.hist"
   ]
  },
  {
   "cell_type": "code",
   "execution_count": 29,
   "metadata": {},
   "outputs": [],
   "source": [
    "#Calculando el valor de la curtosis para cada departamento\n",
    "curtosis_bogota = df_normalized_1c_bogota['PUNT_GLOBAL'].kurt()\n",
    "curtosis_valle = df_normalized_1c_valle['PUNT_GLOBAL'].kurt()\n",
    "curtosis_altantico = df_normalized_1c_atlantico['PUNT_GLOBAL'].kurt()\n",
    "curtosis_huila = df_normalized_1c_huila['PUNT_GLOBAL'].kurt()\n",
    "curtosis_guajira = df_normalized_1c_guajira['PUNT_GLOBAL'].kurt()"
   ]
  },
  {
   "cell_type": "code",
   "execution_count": 30,
   "metadata": {
    "scrolled": true
   },
   "outputs": [
    {
     "name": "stdout",
     "output_type": "stream",
     "text": [
      "-0.4871732945299372 -0.5587358711993504 -0.5797593155421659 -0.5664604717643216 -0.26995022497691545\n"
     ]
    }
   ],
   "source": [
    "print(curtosis_bogota,curtosis_valle,curtosis_altantico,curtosis_huila,curtosis_guajira)"
   ]
  },
  {
   "cell_type": "code",
   "execution_count": 31,
   "metadata": {},
   "outputs": [],
   "source": [
    "from scipy import stats "
   ]
  },
  {
   "cell_type": "code",
   "execution_count": 32,
   "metadata": {},
   "outputs": [],
   "source": [
    "#Calculando el valor de la asimetría para cada departamento\n",
    "asimetria_bogota = stats.skew(df_normalized_1c_bogota['PUNT_GLOBAL'])\n",
    "asimetria_valle = stats.skew(df_normalized_1c_valle['PUNT_GLOBAL'])\n",
    "asimetria_altantico = stats.skew(df_normalized_1c_atlantico['PUNT_GLOBAL'])\n",
    "asimetria_huila = stats.skew(df_normalized_1c_huila['PUNT_GLOBAL'])\n",
    "asimetria_guajira = stats.skew(df_normalized_1c_guajira['PUNT_GLOBAL'])"
   ]
  },
  {
   "cell_type": "code",
   "execution_count": 33,
   "metadata": {
    "scrolled": true
   },
   "outputs": [
    {
     "name": "stdout",
     "output_type": "stream",
     "text": [
      "-0.10808235810582142 0.12580814157704498 0.23759913337183208 0.14069853961883463 0.49004592506665107\n"
     ]
    }
   ],
   "source": [
    "print(asimetria_bogota,asimetria_valle,asimetria_altantico,asimetria_huila,asimetria_guajira)"
   ]
  },
  {
   "cell_type": "markdown",
   "metadata": {},
   "source": [
    "La concentración de los datos en cuanto a los puntajes globales para los departamentos Guajira, Huila, Atlantico y Valle estan concentrados por debajo de la media global de 247 con una asimetria positiva (concentración hacia la izquierda de la media). Por otro lado, el departamento de Bogotá cuenta con una asimetria negativa, haciendo de este el departamento con los puntajes globales más altos debido a dicha concentración observada.\n",
    "\n",
    "Basados en el cálculo de la curtosis para los puntajes globales de cada uno de los cinco departamento se puede observar que quienes tienen una mayor concentración de datos hacia la media son Guajira y Bogota (leptocurtica), mientras que los demás tienen una mayor dispersión (platocurtica).\n"
   ]
  },
  {
   "cell_type": "markdown",
   "metadata": {
    "nbgrader": {
     "grade": false,
     "grade_id": "ej1-task",
     "locked": true,
     "schema_version": 3,
     "solution": false,
     "task": false
    }
   },
   "source": [
    "d. (5%) Muestre en una tabla el número de estudiantes que pertenece a colegios oficiales y no oficiales. Ilustre mediante una gráfica. ¿Cree Ud. que los resultados del puntaje global se ven influenciado por el tipo de colegio?"
   ]
  },
  {
   "cell_type": "code",
   "execution_count": 34,
   "metadata": {
    "nbgrader": {
     "grade": true,
     "grade_id": "ej1-test",
     "locked": true,
     "points": 1,
     "schema_version": 3,
     "solution": false,
     "task": false
    },
    "scrolled": true
   },
   "outputs": [
    {
     "name": "stdout",
     "output_type": "stream",
     "text": [
      "Cantidad de estudiantes por tipo de colegio\n"
     ]
    },
    {
     "data": {
      "text/html": [
       "<div>\n",
       "<style scoped>\n",
       "    .dataframe tbody tr th:only-of-type {\n",
       "        vertical-align: middle;\n",
       "    }\n",
       "\n",
       "    .dataframe tbody tr th {\n",
       "        vertical-align: top;\n",
       "    }\n",
       "\n",
       "    .dataframe thead th {\n",
       "        text-align: right;\n",
       "    }\n",
       "</style>\n",
       "<table border=\"1\" class=\"dataframe\">\n",
       "  <thead>\n",
       "    <tr style=\"text-align: right;\">\n",
       "      <th></th>\n",
       "      <th>PUNT_GLOBAL</th>\n",
       "    </tr>\n",
       "    <tr>\n",
       "      <th>COLE_NATURALEZA</th>\n",
       "      <th></th>\n",
       "    </tr>\n",
       "  </thead>\n",
       "  <tbody>\n",
       "    <tr>\n",
       "      <th>NO OFICIAL</th>\n",
       "      <td>50881</td>\n",
       "    </tr>\n",
       "    <tr>\n",
       "      <th>OFICIAL</th>\n",
       "      <td>115305</td>\n",
       "    </tr>\n",
       "  </tbody>\n",
       "</table>\n",
       "</div>"
      ],
      "text/plain": [
       "                 PUNT_GLOBAL\n",
       "COLE_NATURALEZA             \n",
       "NO OFICIAL             50881\n",
       "OFICIAL               115305"
      ]
     },
     "execution_count": 34,
     "metadata": {},
     "output_type": "execute_result"
    }
   ],
   "source": [
    "# Implementa tu respuesta en esta celda\n",
    "df_colegios = df_drop.loc[:,['COLE_NATURALEZA','PUNT_GLOBAL']]\n",
    "df_colegios_count = df_colegios.groupby(['COLE_NATURALEZA']).count()\n",
    "print('Cantidad de estudiantes por tipo de colegio')\n",
    "df_colegios_count"
   ]
  },
  {
   "cell_type": "code",
   "execution_count": 35,
   "metadata": {},
   "outputs": [],
   "source": [
    "#Generando data frames por colegio\n",
    "df_colegios_oficiales = df_colegios[df_colegios['COLE_NATURALEZA']=='OFICIAL']\n",
    "df_colegios_oficiales = df_colegios_oficiales.drop(columns=['COLE_NATURALEZA'])\n",
    "df_colegios_no_oficiales = df_colegios[df_colegios['COLE_NATURALEZA']=='NO OFICIAL']\n",
    "df_colegios_no_oficiales = df_colegios_no_oficiales.drop(columns=['COLE_NATURALEZA'])\n",
    "#Normalizando los data frames por colegio\n",
    "df_normalized_oficiales = pd.DataFrame(scaler.fit_transform(df_colegios_oficiales), columns=df_colegios_oficiales.columns)\n",
    "df_normalized_no_oficiales = pd.DataFrame(scaler.fit_transform(df_colegios_no_oficiales), columns=df_colegios_no_oficiales.columns)"
   ]
  },
  {
   "cell_type": "code",
   "execution_count": 36,
   "metadata": {},
   "outputs": [
    {
     "data": {
      "image/png": "[encoded data removed]",
      "text/plain": [
       "<Figure size 1200x500 with 1 Axes>"
      ]
     },
     "metadata": {},
     "output_type": "display_data"
    }
   ],
   "source": [
    "leyenda_colegios = ['Colegios oficiales','Colegios no oficiales']\n",
    "plt.figure(figsize=(12, 5))\n",
    "plt.hist(df_colegios_oficiales['PUNT_GLOBAL'],bins=20, alpha=0.6, color='red')\n",
    "plt.hist(df_colegios_no_oficiales['PUNT_GLOBAL'], bins=20, alpha=0.6, color='orange')\n",
    "plt.legend(leyenda_colegios)\n",
    "plt.title('Distribución normal colegios')\n",
    "plt.ylabel('Estudiantes')\n",
    "plt.xlabel('Distribución puntajes globales normalizados por colegio')\n",
    "plt.show()"
   ]
  },
  {
   "cell_type": "code",
   "execution_count": 37,
   "metadata": {
    "scrolled": false
   },
   "outputs": [
    {
     "data": {
      "image/png": "[encoded data removed]",
      "text/plain": [
       "<Figure size 1200x500 with 1 Axes>"
      ]
     },
     "metadata": {},
     "output_type": "display_data"
    }
   ],
   "source": [
    "leyenda_colegios = ['Colegios oficiales','Colegios no oficiales']\n",
    "plt.figure(figsize=(12, 5))\n",
    "plt.hist(df_normalized_oficiales['PUNT_GLOBAL'],bins=20, alpha=0.6, color='red')\n",
    "plt.hist(df_normalized_no_oficiales['PUNT_GLOBAL'], bins=20, alpha=0.6, color='orange')\n",
    "plt.legend(leyenda_colegios)\n",
    "plt.title('Distribución normal colegios')\n",
    "plt.ylabel('Estudiantes')\n",
    "plt.xlabel('Distribución puntajes globales normalizados por colegio')\n",
    "plt.axvline(x=0,color='red',linestyle='--', label='Media normalizada')\n",
    "plt.show()"
   ]
  },
  {
   "cell_type": "code",
   "execution_count": 38,
   "metadata": {
    "scrolled": true
   },
   "outputs": [
    {
     "name": "stdout",
     "output_type": "stream",
     "text": [
      "-0.5303034924159578 -0.656325944255792\n"
     ]
    }
   ],
   "source": [
    "#Calculando el valor de la curtosis para cada colegio\n",
    "curtosis_oficial = df_normalized_oficiales['PUNT_GLOBAL'].kurt()\n",
    "curtosis_no_oficial = df_normalized_no_oficiales['PUNT_GLOBAL'].kurt()\n",
    "print(curtosis_oficial,curtosis_no_oficial)"
   ]
  },
  {
   "cell_type": "code",
   "execution_count": 39,
   "metadata": {},
   "outputs": [],
   "source": [
    "# Asimetria\n",
    "asimetria_oficial = stats.skew(df_normalized_oficiales['PUNT_GLOBAL'])\n",
    "asimetria_no_oficial = stats.skew(df_normalized_no_oficiales['PUNT_GLOBAL'])\n",
    "\n",
    "\n"
   ]
  },
  {
   "cell_type": "code",
   "execution_count": 40,
   "metadata": {},
   "outputs": [
    {
     "name": "stdout",
     "output_type": "stream",
     "text": [
      "0.07820275534616597\n",
      "-0.18147952054221705\n"
     ]
    }
   ],
   "source": [
    "print(asimetria_oficial)\n",
    "print(asimetria_no_oficial)"
   ]
  },
  {
   "cell_type": "code",
   "execution_count": 41,
   "metadata": {},
   "outputs": [
    {
     "data": {
      "text/plain": [
       "Text(0.5, 0, 'colegio oficial')"
      ]
     },
     "execution_count": 41,
     "metadata": {},
     "output_type": "execute_result"
    },
    {
     "data": {
      "image/png": "[encoded data removed]",
      "text/plain": [
       "<Figure size 1000x600 with 1 Axes>"
      ]
     },
     "metadata": {},
     "output_type": "display_data"
    }
   ],
   "source": [
    "plt.figure(figsize=(10, 6))\n",
    "df_normalized_oficiales.boxplot(column = 'PUNT_GLOBAL')\n",
    "plt.title('Puntajes colegio oficial')\n",
    "plt.ylabel('Puntaje')\n",
    "plt.xlabel('colegio oficial')\n"
   ]
  },
  {
   "cell_type": "code",
   "execution_count": 42,
   "metadata": {},
   "outputs": [
    {
     "data": {
      "text/plain": [
       "<function matplotlib.pyplot.show(close=None, block=None)>"
      ]
     },
     "execution_count": 42,
     "metadata": {},
     "output_type": "execute_result"
    },
    {
     "data": {
      "image/png": "[encoded data removed]",
      "text/plain": [
       "<Figure size 640x480 with 1 Axes>"
      ]
     },
     "metadata": {},
     "output_type": "display_data"
    }
   ],
   "source": [
    "df_normalized_no_oficiales.boxplot(column = 'PUNT_GLOBAL')\n",
    "plt.title('Puntajes colegio no oficial')\n",
    "plt.ylabel('Puntaje')\n",
    "plt.xlabel('colegio no oficial')\n",
    "plt.show"
   ]
  },
  {
   "cell_type": "code",
   "execution_count": 43,
   "metadata": {},
   "outputs": [
    {
     "name": "stdout",
     "output_type": "stream",
     "text": [
      "0.07820275534616597 -0.18147952054221705\n"
     ]
    }
   ],
   "source": [
    "#Calculando el valor de la asimetría para cada colegio\n",
    "asimetria_oficial = stats.skew(df_normalized_oficiales['PUNT_GLOBAL'])\n",
    "asimetria_no_oficial = stats.skew(df_normalized_no_oficiales['PUNT_GLOBAL'])\n",
    "print(asimetria_oficial,asimetria_no_oficial)"
   ]
  },
  {
   "cell_type": "markdown",
   "metadata": {},
   "source": [
    "Al evaluar el comportamiento normalizado del puntaje global para colegios oficiales y no oficiales, estos últimos especialmente influye de mayor forma en los resultados de los puntajes globales pues aunque son el tipo de colegio con menos representación (30.6%), la concentración de sus resultados (asimetría negativa) hace que tanto el promedio general como la mediana se vean “jalados” hacia la parte derecha de la gráfica de distribución, lo que también se aprecia al comparar las medianas de los tipos de colegios. "
   ]
  },
  {
   "cell_type": "markdown",
   "metadata": {
    "nbgrader": {
     "grade": false,
     "grade_id": "ej2-enun",
     "locked": true,
     "schema_version": 3,
     "solution": false,
     "task": false
    }
   },
   "source": [
    "e. (5%) ¿Cree usted que hay alguna relación entre el puntaje global y el estrato del \n",
    "estudiante? "
   ]
  },
  {
   "cell_type": "code",
   "execution_count": 44,
   "metadata": {
    "nbgrader": {
     "grade": false,
     "grade_id": "ej2-data",
     "locked": true,
     "schema_version": 3,
     "solution": false,
     "task": false
    },
    "scrolled": false
   },
   "outputs": [
    {
     "name": "stdout",
     "output_type": "stream",
     "text": [
      "Cantidad de estudiantes por estrato\n"
     ]
    },
    {
     "data": {
      "text/html": [
       "<div>\n",
       "<style scoped>\n",
       "    .dataframe tbody tr th:only-of-type {\n",
       "        vertical-align: middle;\n",
       "    }\n",
       "\n",
       "    .dataframe tbody tr th {\n",
       "        vertical-align: top;\n",
       "    }\n",
       "\n",
       "    .dataframe thead th {\n",
       "        text-align: right;\n",
       "    }\n",
       "</style>\n",
       "<table border=\"1\" class=\"dataframe\">\n",
       "  <thead>\n",
       "    <tr style=\"text-align: right;\">\n",
       "      <th></th>\n",
       "      <th>PUNT_GLOBAL</th>\n",
       "    </tr>\n",
       "    <tr>\n",
       "      <th>FAMI_ESTRATOVIVIENDA</th>\n",
       "      <th></th>\n",
       "    </tr>\n",
       "  </thead>\n",
       "  <tbody>\n",
       "    <tr>\n",
       "      <th>-</th>\n",
       "      <td>10600</td>\n",
       "    </tr>\n",
       "    <tr>\n",
       "      <th>Estrato 1</th>\n",
       "      <td>37954</td>\n",
       "    </tr>\n",
       "    <tr>\n",
       "      <th>Estrato 2</th>\n",
       "      <td>64313</td>\n",
       "    </tr>\n",
       "    <tr>\n",
       "      <th>Estrato 3</th>\n",
       "      <td>39517</td>\n",
       "    </tr>\n",
       "    <tr>\n",
       "      <th>Estrato 4</th>\n",
       "      <td>7210</td>\n",
       "    </tr>\n",
       "    <tr>\n",
       "      <th>Estrato 5</th>\n",
       "      <td>1834</td>\n",
       "    </tr>\n",
       "    <tr>\n",
       "      <th>Estrato 6</th>\n",
       "      <td>813</td>\n",
       "    </tr>\n",
       "    <tr>\n",
       "      <th>Sin Estrato</th>\n",
       "      <td>3945</td>\n",
       "    </tr>\n",
       "  </tbody>\n",
       "</table>\n",
       "</div>"
      ],
      "text/plain": [
       "                      PUNT_GLOBAL\n",
       "FAMI_ESTRATOVIVIENDA             \n",
       "-                           10600\n",
       "Estrato 1                   37954\n",
       "Estrato 2                   64313\n",
       "Estrato 3                   39517\n",
       "Estrato 4                    7210\n",
       "Estrato 5                    1834\n",
       "Estrato 6                     813\n",
       "Sin Estrato                  3945"
      ]
     },
     "execution_count": 44,
     "metadata": {},
     "output_type": "execute_result"
    }
   ],
   "source": [
    "# No modifiques esta celda\n",
    "df_estratos = df_drop.loc[:,['FAMI_ESTRATOVIVIENDA','PUNT_GLOBAL']]\n",
    "df_estratos_count = df_estratos.groupby(['FAMI_ESTRATOVIVIENDA']).count()\n",
    "print('Cantidad de estudiantes por estrato')\n",
    "df_estratos_count"
   ]
  },
  {
   "cell_type": "code",
   "execution_count": 45,
   "metadata": {
    "scrolled": true
   },
   "outputs": [
    {
     "name": "stdout",
     "output_type": "stream",
     "text": [
      "Cantidad de estudiantes por estrato\n"
     ]
    },
    {
     "data": {
      "text/html": [
       "<div>\n",
       "<style scoped>\n",
       "    .dataframe tbody tr th:only-of-type {\n",
       "        vertical-align: middle;\n",
       "    }\n",
       "\n",
       "    .dataframe tbody tr th {\n",
       "        vertical-align: top;\n",
       "    }\n",
       "\n",
       "    .dataframe thead th {\n",
       "        text-align: right;\n",
       "    }\n",
       "</style>\n",
       "<table border=\"1\" class=\"dataframe\">\n",
       "  <thead>\n",
       "    <tr style=\"text-align: right;\">\n",
       "      <th></th>\n",
       "      <th>PUNT_GLOBAL</th>\n",
       "    </tr>\n",
       "    <tr>\n",
       "      <th>FAMI_ESTRATOVIVIENDA</th>\n",
       "      <th></th>\n",
       "    </tr>\n",
       "  </thead>\n",
       "  <tbody>\n",
       "    <tr>\n",
       "      <th>Estrato 1</th>\n",
       "      <td>37954</td>\n",
       "    </tr>\n",
       "    <tr>\n",
       "      <th>Estrato 2</th>\n",
       "      <td>64313</td>\n",
       "    </tr>\n",
       "    <tr>\n",
       "      <th>Estrato 3</th>\n",
       "      <td>39517</td>\n",
       "    </tr>\n",
       "    <tr>\n",
       "      <th>Estrato 4</th>\n",
       "      <td>7210</td>\n",
       "    </tr>\n",
       "    <tr>\n",
       "      <th>Estrato 5</th>\n",
       "      <td>1834</td>\n",
       "    </tr>\n",
       "    <tr>\n",
       "      <th>Estrato 6</th>\n",
       "      <td>813</td>\n",
       "    </tr>\n",
       "  </tbody>\n",
       "</table>\n",
       "</div>"
      ],
      "text/plain": [
       "                      PUNT_GLOBAL\n",
       "FAMI_ESTRATOVIVIENDA             \n",
       "Estrato 1                   37954\n",
       "Estrato 2                   64313\n",
       "Estrato 3                   39517\n",
       "Estrato 4                    7210\n",
       "Estrato 5                    1834\n",
       "Estrato 6                     813"
      ]
     },
     "execution_count": 45,
     "metadata": {},
     "output_type": "execute_result"
    }
   ],
   "source": [
    "#Limpiando el dataframe de los estudiantes que no tienen un estrato asignado\n",
    "drop = ['-','Sin Estrato']   \n",
    "df_drop_estratos = df_estratos[~df_estratos['FAMI_ESTRATOVIVIENDA'].isin(drop)]\n",
    "df_drop_estratos_count = df_drop_estratos.groupby(['FAMI_ESTRATOVIVIENDA']).count()\n",
    "print('Cantidad de estudiantes por estrato')\n",
    "df_drop_estratos_count"
   ]
  },
  {
   "cell_type": "code",
   "execution_count": 46,
   "metadata": {},
   "outputs": [],
   "source": [
    "#Generando data frames por estrato\n",
    "df_estrato_1 = df_drop_estratos[df_drop_estratos['FAMI_ESTRATOVIVIENDA']=='Estrato 1']\n",
    "df_estrato_1 = df_estrato_1.drop(columns=['FAMI_ESTRATOVIVIENDA'])\n",
    "df_estrato_2 = df_drop_estratos[df_drop_estratos['FAMI_ESTRATOVIVIENDA']=='Estrato 2']\n",
    "df_estrato_2 = df_estrato_2.drop(columns=['FAMI_ESTRATOVIVIENDA'])\n",
    "df_estrato_3 = df_drop_estratos[df_drop_estratos['FAMI_ESTRATOVIVIENDA']=='Estrato 3']\n",
    "df_estrato_3 = df_estrato_3.drop(columns=['FAMI_ESTRATOVIVIENDA'])\n",
    "df_estrato_4 = df_drop_estratos[df_drop_estratos['FAMI_ESTRATOVIVIENDA']=='Estrato 4']\n",
    "df_estrato_4 = df_estrato_4.drop(columns=['FAMI_ESTRATOVIVIENDA'])\n",
    "df_estrato_5 = df_drop_estratos[df_drop_estratos['FAMI_ESTRATOVIVIENDA']=='Estrato 5']\n",
    "df_estrato_5 = df_estrato_5.drop(columns=['FAMI_ESTRATOVIVIENDA'])\n",
    "df_estrato_6 = df_drop_estratos[df_drop_estratos['FAMI_ESTRATOVIVIENDA']=='Estrato 6']\n",
    "df_estrato_6 = df_estrato_6.drop(columns=['FAMI_ESTRATOVIVIENDA'])\n",
    "\n",
    "#Normalizando los data frames por estrato\n",
    "df_normalized_estrato_1 = pd.DataFrame(scaler.fit_transform(df_estrato_1), columns=df_estrato_1.columns)\n",
    "df_normalized_estrato_2 = pd.DataFrame(scaler.fit_transform(df_estrato_2), columns=df_estrato_2.columns)\n",
    "df_normalized_estrato_3 = pd.DataFrame(scaler.fit_transform(df_estrato_3), columns=df_estrato_3.columns)\n",
    "df_normalized_estrato_4 = pd.DataFrame(scaler.fit_transform(df_estrato_4), columns=df_estrato_4.columns)\n",
    "df_normalized_estrato_5 = pd.DataFrame(scaler.fit_transform(df_estrato_5), columns=df_estrato_5.columns)\n",
    "df_normalized_estrato_6 = pd.DataFrame(scaler.fit_transform(df_estrato_6), columns=df_estrato_6.columns)\n"
   ]
  },
  {
   "cell_type": "code",
   "execution_count": 47,
   "metadata": {
    "scrolled": false
   },
   "outputs": [
    {
     "data": {
      "image/png": "[encoded data removed]",
      "text/plain": [
       "<Figure size 1200x1000 with 1 Axes>"
      ]
     },
     "metadata": {},
     "output_type": "display_data"
    }
   ],
   "source": [
    "leyenda_estratos = ['Estrato 2','Estrato 3','Estrato 1','Estrato 4','Estrato 5','Estrato 6']\n",
    "plt.figure(figsize=(12, 10))\n",
    "plt.hist(df_normalized_estrato_2['PUNT_GLOBAL'],bins=20, alpha=0.2, color='darkviolet')\n",
    "plt.hist(df_normalized_estrato_3['PUNT_GLOBAL'],bins=20, alpha=0.4, color='blue')\n",
    "plt.hist(df_normalized_estrato_1['PUNT_GLOBAL'],bins=20, alpha=0.8, color='orange')\n",
    "plt.hist(df_normalized_estrato_4['PUNT_GLOBAL'],bins=20, alpha=0.8, color='brown')\n",
    "plt.hist(df_normalized_estrato_5['PUNT_GLOBAL'],bins=20, alpha=0.8, color='black')\n",
    "plt.hist(df_normalized_estrato_6['PUNT_GLOBAL'],bins=20, alpha=1, color='mediumseagreen')\n",
    "plt.legend(leyenda_estratos)\n",
    "plt.title('Distribución normal estratos')\n",
    "plt.ylabel('Estudiantes')\n",
    "plt.xlabel('Distribución puntajes globales normalizados por estrato')\n",
    "plt.axvline(x=0,color='red',linestyle='--', label='Media normalizada')\n",
    "plt.show()"
   ]
  },
  {
   "cell_type": "code",
   "execution_count": 48,
   "metadata": {},
   "outputs": [
    {
     "name": "stdout",
     "output_type": "stream",
     "text": [
      "-0.46063258386701156 -0.5407773353148837 -0.5510839199551354 -0.767835927306086 -1.0099567772864844 -1.0760958551821993\n"
     ]
    }
   ],
   "source": [
    "#Calculando el valor de la curtosis para cada estrato\n",
    "curtosis_estrato_1 = df_normalized_estrato_1['PUNT_GLOBAL'].kurt()\n",
    "curtosis_estrato_2 = df_normalized_estrato_2['PUNT_GLOBAL'].kurt()\n",
    "curtosis_estrato_3 = df_normalized_estrato_3['PUNT_GLOBAL'].kurt()\n",
    "curtosis_estrato_4 = df_normalized_estrato_4['PUNT_GLOBAL'].kurt()\n",
    "curtosis_estrato_5 = df_normalized_estrato_5['PUNT_GLOBAL'].kurt()\n",
    "curtosis_estrato_6 = df_normalized_estrato_6['PUNT_GLOBAL'].kurt()\n",
    "print(curtosis_estrato_1,curtosis_estrato_2,curtosis_estrato_3,curtosis_estrato_4,curtosis_estrato_5,curtosis_estrato_6)"
   ]
  },
  {
   "cell_type": "code",
   "execution_count": 49,
   "metadata": {},
   "outputs": [
    {
     "name": "stdout",
     "output_type": "stream",
     "text": [
      "0.22965346970783532 0.022794079960997287 -0.16053599396352844 -0.27613850724569244 -0.043713897648617966 0.26173816173491005\n"
     ]
    }
   ],
   "source": [
    "#Calculando el valor de la asimetria para cada estrato\n",
    "simetria_estrato_1 = stats.skew(df_normalized_estrato_1['PUNT_GLOBAL'])\n",
    "simetria_estrato_2 = stats.skew(df_normalized_estrato_2['PUNT_GLOBAL'])\n",
    "simetria_estrato_3 = stats.skew(df_normalized_estrato_3['PUNT_GLOBAL'])\n",
    "simetria_estrato_4 = stats.skew(df_normalized_estrato_4['PUNT_GLOBAL'])\n",
    "simetria_estrato_5 = stats.skew(df_normalized_estrato_5['PUNT_GLOBAL'])\n",
    "simetria_estrato_6 = stats.skew(df_normalized_estrato_6['PUNT_GLOBAL'])\n",
    "\n",
    "print(simetria_estrato_1,simetria_estrato_2,simetria_estrato_3,simetria_estrato_4,simetria_estrato_5,simetria_estrato_6)"
   ]
  },
  {
   "cell_type": "code",
   "execution_count": 50,
   "metadata": {},
   "outputs": [
    {
     "data": {
      "text/plain": [
       "<function matplotlib.pyplot.show(close=None, block=None)>"
      ]
     },
     "execution_count": 50,
     "metadata": {},
     "output_type": "execute_result"
    },
    {
     "data": {
      "image/png": "[encoded data removed]",
      "text/plain": [
       "<Figure size 640x480 with 1 Axes>"
      ]
     },
     "metadata": {},
     "output_type": "display_data"
    }
   ],
   "source": [
    "df_normalized_estrato_1.boxplot(column = 'PUNT_GLOBAL')\n",
    "plt.title('Puntajes estrato 1')\n",
    "plt.ylabel('Puntaje')\n",
    "plt.xlabel('estrato')\n",
    "plt.show\n",
    "    "
   ]
  },
  {
   "cell_type": "code",
   "execution_count": 51,
   "metadata": {},
   "outputs": [
    {
     "data": {
      "text/plain": [
       "<function matplotlib.pyplot.show(close=None, block=None)>"
      ]
     },
     "execution_count": 51,
     "metadata": {},
     "output_type": "execute_result"
    },
    {
     "data": {
      "image/png": "[encoded data removed]",
      "text/plain": [
       "<Figure size 640x480 with 1 Axes>"
      ]
     },
     "metadata": {},
     "output_type": "display_data"
    }
   ],
   "source": [
    "df_normalized_estrato_2.boxplot(column = 'PUNT_GLOBAL')\n",
    "plt.title('Puntajes estrato 2')\n",
    "plt.ylabel('Puntaje')\n",
    "plt.xlabel('estrato')\n",
    "plt.show"
   ]
  },
  {
   "cell_type": "code",
   "execution_count": 52,
   "metadata": {},
   "outputs": [
    {
     "data": {
      "text/plain": [
       "<function matplotlib.pyplot.show(close=None, block=None)>"
      ]
     },
     "execution_count": 52,
     "metadata": {},
     "output_type": "execute_result"
    },
    {
     "data": {
      "image/png": "[encoded data removed]",
      "text/plain": [
       "<Figure size 640x480 with 1 Axes>"
      ]
     },
     "metadata": {},
     "output_type": "display_data"
    }
   ],
   "source": [
    "df_normalized_estrato_2.boxplot(column = 'PUNT_GLOBAL')\n",
    "plt.title('Puntajes estrato 3')\n",
    "plt.ylabel('Puntaje')\n",
    "plt.xlabel('estrato')\n",
    "plt.show"
   ]
  },
  {
   "cell_type": "code",
   "execution_count": 53,
   "metadata": {},
   "outputs": [
    {
     "data": {
      "text/plain": [
       "<function matplotlib.pyplot.show(close=None, block=None)>"
      ]
     },
     "execution_count": 53,
     "metadata": {},
     "output_type": "execute_result"
    },
    {
     "data": {
      "image/png": "[encoded data removed]",
      "text/plain": [
       "<Figure size 640x480 with 1 Axes>"
      ]
     },
     "metadata": {},
     "output_type": "display_data"
    }
   ],
   "source": [
    "df_normalized_estrato_4.boxplot(column = 'PUNT_GLOBAL')\n",
    "plt.title('Puntajes estrato 4')\n",
    "plt.ylabel('Puntaje')\n",
    "plt.xlabel('estrato')\n",
    "plt.show"
   ]
  },
  {
   "cell_type": "code",
   "execution_count": 54,
   "metadata": {},
   "outputs": [
    {
     "data": {
      "text/plain": [
       "<function matplotlib.pyplot.show(close=None, block=None)>"
      ]
     },
     "execution_count": 54,
     "metadata": {},
     "output_type": "execute_result"
    },
    {
     "data": {
      "image/png": "[encoded data removed]",
      "text/plain": [
       "<Figure size 640x480 with 1 Axes>"
      ]
     },
     "metadata": {},
     "output_type": "display_data"
    }
   ],
   "source": [
    "df_normalized_estrato_5.boxplot(column = 'PUNT_GLOBAL')\n",
    "plt.title('Puntajes estrato 5')\n",
    "plt.ylabel('Puntaje')\n",
    "plt.xlabel('estrato')\n",
    "plt.show"
   ]
  },
  {
   "cell_type": "code",
   "execution_count": 55,
   "metadata": {
    "scrolled": false
   },
   "outputs": [
    {
     "data": {
      "text/plain": [
       "<function matplotlib.pyplot.show(close=None, block=None)>"
      ]
     },
     "execution_count": 55,
     "metadata": {},
     "output_type": "execute_result"
    },
    {
     "data": {
      "image/png": "[encoded data removed]",
      "text/plain": [
       "<Figure size 640x480 with 1 Axes>"
      ]
     },
     "metadata": {},
     "output_type": "display_data"
    }
   ],
   "source": [
    "df_normalized_estrato_6.boxplot(column = 'PUNT_GLOBAL')\n",
    "plt.title('Puntajes estrato 6')\n",
    "plt.ylabel('Puntaje')\n",
    "plt.xlabel('estrato')\n",
    "plt.show"
   ]
  },
  {
   "cell_type": "markdown",
   "metadata": {},
   "source": [
    "Viendo las gráficas tanto de dispersión como de cajas (retirando de la base a aquellos estudiantes que no reportasen uno) podría pensarse que efectivamente existe una relación entre los puntajes globales y el estrato socioeconómico del estudiante, sin embargo, cabe aclarar las siguientes particularidades:\n",
    "\n",
    "Se percibe una relación lineal ente estrato y puntajes globales pero sólo para los estratos del 1 al 4 (donde se evidencia que la distribución se va concentrando hacia la a medida que el estrato es mayor (considerando a este último como una variable ordinal). \n",
    "Si lo evaluamos a modo general también es posible hablar de una relación entre ambas variables pero esta ya no sería de tipo lineal puesto que para los estratos 5 y 6 la asimetría no sigue el mismo patrón que los estratos 1, 2, 3 y 4.\n",
    "\n",
    "De esta forma, por ejemplo, en los estudiantes de estrato 6 y 1 se presentan los mayores niveles de asimetria positiva, lo cual tambien es visible al observar la mediana de su puntaje global por debajo de la media del puntaje global total, más visible en el caso del estrato 6. Por el contrario, para los estratos 4 y 5 el coeficiente de asimetria es negativo, ubicando la mediana de los puntajes de cada estrato por encima de la media del puntaje global."
   ]
  },
  {
   "cell_type": "markdown",
   "metadata": {
    "nbgrader": {
     "grade": false,
     "grade_id": "ej2-task",
     "locked": true,
     "schema_version": 3,
     "solution": false,
     "task": false
    }
   },
   "source": [
    "## Ejercicio 2\n",
    "\n",
    "(30%) Teniendo en cuenta los resultados obtenidos por los estudiantes en sus pruebas ICFES una academia dedicada a cursos pre-icfes decidió ofertar una variedad de cursos con el fin de lograr que los estudiantes obtengan puntajes mayores a 400 puntos. La academia optó por desarrollar 4 cursos distintos, estos están pensados variando la intensidad de horas de la siguiente manera; intensivo (2 horas díarias), semi-intensivo (4 horas semanales), semanal (5 horas en un solo día) y super intensivo (3 horas diarias).En la base de datos cursos.cvs, encontrara los resultados obtenidos por los estudiantes de acuerdo con el curso tomado. Con base en la información, conteste las siguientes preguntas: <br>"
   ]
  },
  {
   "cell_type": "markdown",
   "metadata": {
    "nbgrader": {
     "grade": false,
     "grade_id": "ej2-task",
     "locked": true,
     "schema_version": 3,
     "solution": false,
     "task": false
    }
   },
   "source": [
    "a. (10%) Realice estadísticas descriptivas (promedio, frecuencia, desviación, entre otros) que permitan observar diferencias de los puntajes obtenidos por los estudiantes según el curso tomado y concluya"
   ]
  },
  {
   "cell_type": "code",
   "execution_count": 56,
   "metadata": {
    "scrolled": true
   },
   "outputs": [
    {
     "data": {
      "text/html": [
       "<div>\n",
       "<style scoped>\n",
       "    .dataframe tbody tr th:only-of-type {\n",
       "        vertical-align: middle;\n",
       "    }\n",
       "\n",
       "    .dataframe tbody tr th {\n",
       "        vertical-align: top;\n",
       "    }\n",
       "\n",
       "    .dataframe thead th {\n",
       "        text-align: right;\n",
       "    }\n",
       "</style>\n",
       "<table border=\"1\" class=\"dataframe\">\n",
       "  <thead>\n",
       "    <tr style=\"text-align: right;\">\n",
       "      <th></th>\n",
       "      <th>Tipo de Curso</th>\n",
       "      <th>Puntaje</th>\n",
       "    </tr>\n",
       "  </thead>\n",
       "  <tbody>\n",
       "    <tr>\n",
       "      <th>0</th>\n",
       "      <td>Intensivo</td>\n",
       "      <td>382</td>\n",
       "    </tr>\n",
       "    <tr>\n",
       "      <th>1</th>\n",
       "      <td>Intensivo</td>\n",
       "      <td>414</td>\n",
       "    </tr>\n",
       "    <tr>\n",
       "      <th>2</th>\n",
       "      <td>Intensivo</td>\n",
       "      <td>412</td>\n",
       "    </tr>\n",
       "    <tr>\n",
       "      <th>3</th>\n",
       "      <td>Intensivo</td>\n",
       "      <td>401</td>\n",
       "    </tr>\n",
       "    <tr>\n",
       "      <th>4</th>\n",
       "      <td>Intensivo</td>\n",
       "      <td>412</td>\n",
       "    </tr>\n",
       "  </tbody>\n",
       "</table>\n",
       "</div>"
      ],
      "text/plain": [
       "  Tipo de Curso   Puntaje\n",
       "0      Intensivo      382\n",
       "1      Intensivo      414\n",
       "2      Intensivo      412\n",
       "3      Intensivo      401\n",
       "4      Intensivo      412"
      ]
     },
     "execution_count": 56,
     "metadata": {},
     "output_type": "execute_result"
    }
   ],
   "source": [
    "# Implementa tu respuesta en esta celda\n",
    "\n",
    "data_2 = '/Users/santiagoromero/Documents/Maestria/Modelos Analisis Estadisticos/Tareas/Tarea 1 2/Archivos/cursos.csv'\n",
    "data_frame_cursos = pd.read_csv(data_2, sep=',')\n",
    "data_frame_cursos.head()"
   ]
  },
  {
   "cell_type": "code",
   "execution_count": 57,
   "metadata": {},
   "outputs": [
    {
     "data": {
      "text/html": [
       "<div>\n",
       "<style scoped>\n",
       "    .dataframe tbody tr th:only-of-type {\n",
       "        vertical-align: middle;\n",
       "    }\n",
       "\n",
       "    .dataframe tbody tr th {\n",
       "        vertical-align: top;\n",
       "    }\n",
       "\n",
       "    .dataframe thead th {\n",
       "        text-align: right;\n",
       "    }\n",
       "</style>\n",
       "<table border=\"1\" class=\"dataframe\">\n",
       "  <thead>\n",
       "    <tr style=\"text-align: right;\">\n",
       "      <th></th>\n",
       "      <th>Puntaje</th>\n",
       "    </tr>\n",
       "  </thead>\n",
       "  <tbody>\n",
       "    <tr>\n",
       "      <th>count</th>\n",
       "      <td>37.000000</td>\n",
       "    </tr>\n",
       "    <tr>\n",
       "      <th>mean</th>\n",
       "      <td>401.405405</td>\n",
       "    </tr>\n",
       "    <tr>\n",
       "      <th>std</th>\n",
       "      <td>34.985282</td>\n",
       "    </tr>\n",
       "    <tr>\n",
       "      <th>min</th>\n",
       "      <td>277.000000</td>\n",
       "    </tr>\n",
       "    <tr>\n",
       "      <th>25%</th>\n",
       "      <td>391.000000</td>\n",
       "    </tr>\n",
       "    <tr>\n",
       "      <th>50%</th>\n",
       "      <td>401.000000</td>\n",
       "    </tr>\n",
       "    <tr>\n",
       "      <th>75%</th>\n",
       "      <td>417.000000</td>\n",
       "    </tr>\n",
       "    <tr>\n",
       "      <th>max</th>\n",
       "      <td>469.000000</td>\n",
       "    </tr>\n",
       "  </tbody>\n",
       "</table>\n",
       "</div>"
      ],
      "text/plain": [
       "          Puntaje\n",
       "count   37.000000\n",
       "mean   401.405405\n",
       "std     34.985282\n",
       "min    277.000000\n",
       "25%    391.000000\n",
       "50%    401.000000\n",
       "75%    417.000000\n",
       "max    469.000000"
      ]
     },
     "execution_count": 57,
     "metadata": {},
     "output_type": "execute_result"
    }
   ],
   "source": [
    "data_frame_cursos.describe()"
   ]
  },
  {
   "cell_type": "code",
   "execution_count": 58,
   "metadata": {},
   "outputs": [
    {
     "name": "stderr",
     "output_type": "stream",
     "text": [
      "/var/folders/cw/dvczbrmn4d7g1pplvzvyvc2h0000gn/T/ipykernel_60142/297586058.py:1: FutureWarning: The default value of numeric_only in DataFrame.mean is deprecated. In a future version, it will default to False. In addition, specifying 'numeric_only=None' is deprecated. Select only valid columns or specify the value of numeric_only to silence this warning.\n",
      "  data_frame_cursos.mean()\n"
     ]
    },
    {
     "data": {
      "text/plain": [
       "Puntaje    401.405405\n",
       "dtype: float64"
      ]
     },
     "execution_count": 58,
     "metadata": {},
     "output_type": "execute_result"
    }
   ],
   "source": [
    "data_frame_cursos.mean()"
   ]
  },
  {
   "cell_type": "code",
   "execution_count": 59,
   "metadata": {
    "scrolled": false
   },
   "outputs": [
    {
     "data": {
      "text/html": [
       "<div>\n",
       "<style scoped>\n",
       "    .dataframe tbody tr th:only-of-type {\n",
       "        vertical-align: middle;\n",
       "    }\n",
       "\n",
       "    .dataframe tbody tr th {\n",
       "        vertical-align: top;\n",
       "    }\n",
       "\n",
       "    .dataframe thead tr th {\n",
       "        text-align: left;\n",
       "    }\n",
       "\n",
       "    .dataframe thead tr:last-of-type th {\n",
       "        text-align: right;\n",
       "    }\n",
       "</style>\n",
       "<table border=\"1\" class=\"dataframe\">\n",
       "  <thead>\n",
       "    <tr>\n",
       "      <th></th>\n",
       "      <th colspan=\"8\" halign=\"left\">Puntaje</th>\n",
       "    </tr>\n",
       "    <tr>\n",
       "      <th></th>\n",
       "      <th>count</th>\n",
       "      <th>mean</th>\n",
       "      <th>std</th>\n",
       "      <th>min</th>\n",
       "      <th>25%</th>\n",
       "      <th>50%</th>\n",
       "      <th>75%</th>\n",
       "      <th>max</th>\n",
       "    </tr>\n",
       "    <tr>\n",
       "      <th>Tipo de Curso</th>\n",
       "      <th></th>\n",
       "      <th></th>\n",
       "      <th></th>\n",
       "      <th></th>\n",
       "      <th></th>\n",
       "      <th></th>\n",
       "      <th></th>\n",
       "      <th></th>\n",
       "    </tr>\n",
       "  </thead>\n",
       "  <tbody>\n",
       "    <tr>\n",
       "      <th>Intensivo</th>\n",
       "      <td>6.0</td>\n",
       "      <td>406.166667</td>\n",
       "      <td>12.937027</td>\n",
       "      <td>382.0</td>\n",
       "      <td>403.75</td>\n",
       "      <td>412.0</td>\n",
       "      <td>413.5</td>\n",
       "      <td>416.0</td>\n",
       "    </tr>\n",
       "    <tr>\n",
       "      <th>Semanal</th>\n",
       "      <td>11.0</td>\n",
       "      <td>368.545455</td>\n",
       "      <td>39.327760</td>\n",
       "      <td>277.0</td>\n",
       "      <td>365.00</td>\n",
       "      <td>380.0</td>\n",
       "      <td>394.0</td>\n",
       "      <td>400.0</td>\n",
       "    </tr>\n",
       "    <tr>\n",
       "      <th>Semi-Intensivo</th>\n",
       "      <td>7.0</td>\n",
       "      <td>397.142857</td>\n",
       "      <td>11.126973</td>\n",
       "      <td>379.0</td>\n",
       "      <td>392.00</td>\n",
       "      <td>400.0</td>\n",
       "      <td>401.0</td>\n",
       "      <td>415.0</td>\n",
       "    </tr>\n",
       "    <tr>\n",
       "      <th>Super-Intensivo</th>\n",
       "      <td>13.0</td>\n",
       "      <td>429.307692</td>\n",
       "      <td>19.905546</td>\n",
       "      <td>401.0</td>\n",
       "      <td>417.00</td>\n",
       "      <td>424.0</td>\n",
       "      <td>434.0</td>\n",
       "      <td>469.0</td>\n",
       "    </tr>\n",
       "  </tbody>\n",
       "</table>\n",
       "</div>"
      ],
      "text/plain": [
       "                Puntaje                                                      \\\n",
       "                  count        mean        std    min     25%    50%    75%   \n",
       "Tipo de Curso                                                                 \n",
       "Intensivo           6.0  406.166667  12.937027  382.0  403.75  412.0  413.5   \n",
       "Semanal            11.0  368.545455  39.327760  277.0  365.00  380.0  394.0   \n",
       "Semi-Intensivo      7.0  397.142857  11.126973  379.0  392.00  400.0  401.0   \n",
       "Super-Intensivo    13.0  429.307692  19.905546  401.0  417.00  424.0  434.0   \n",
       "\n",
       "                        \n",
       "                   max  \n",
       "Tipo de Curso           \n",
       "Intensivo        416.0  \n",
       "Semanal          400.0  \n",
       "Semi-Intensivo   415.0  \n",
       "Super-Intensivo  469.0  "
      ]
     },
     "execution_count": 59,
     "metadata": {},
     "output_type": "execute_result"
    }
   ],
   "source": [
    "descriptivos = data_frame_cursos.groupby(['Tipo de Curso ']).describe()\n",
    "descriptivos"
   ]
  },
  {
   "cell_type": "code",
   "execution_count": 60,
   "metadata": {},
   "outputs": [
    {
     "data": {
      "text/html": [
       "<div>\n",
       "<style scoped>\n",
       "    .dataframe tbody tr th:only-of-type {\n",
       "        vertical-align: middle;\n",
       "    }\n",
       "\n",
       "    .dataframe tbody tr th {\n",
       "        vertical-align: top;\n",
       "    }\n",
       "\n",
       "    .dataframe thead th {\n",
       "        text-align: right;\n",
       "    }\n",
       "</style>\n",
       "<table border=\"1\" class=\"dataframe\">\n",
       "  <thead>\n",
       "    <tr style=\"text-align: right;\">\n",
       "      <th></th>\n",
       "      <th>count</th>\n",
       "      <th>mean</th>\n",
       "      <th>std</th>\n",
       "      <th>min</th>\n",
       "      <th>25%</th>\n",
       "      <th>50%</th>\n",
       "      <th>75%</th>\n",
       "      <th>max</th>\n",
       "    </tr>\n",
       "    <tr>\n",
       "      <th>Tipo de Curso</th>\n",
       "      <th></th>\n",
       "      <th></th>\n",
       "      <th></th>\n",
       "      <th></th>\n",
       "      <th></th>\n",
       "      <th></th>\n",
       "      <th></th>\n",
       "      <th></th>\n",
       "    </tr>\n",
       "  </thead>\n",
       "  <tbody>\n",
       "    <tr>\n",
       "      <th>Intensivo</th>\n",
       "      <td>6.0</td>\n",
       "      <td>406.166667</td>\n",
       "      <td>12.937027</td>\n",
       "      <td>382.0</td>\n",
       "      <td>403.75</td>\n",
       "      <td>412.0</td>\n",
       "      <td>413.5</td>\n",
       "      <td>416.0</td>\n",
       "    </tr>\n",
       "    <tr>\n",
       "      <th>Semanal</th>\n",
       "      <td>11.0</td>\n",
       "      <td>368.545455</td>\n",
       "      <td>39.327760</td>\n",
       "      <td>277.0</td>\n",
       "      <td>365.00</td>\n",
       "      <td>380.0</td>\n",
       "      <td>394.0</td>\n",
       "      <td>400.0</td>\n",
       "    </tr>\n",
       "    <tr>\n",
       "      <th>Semi-Intensivo</th>\n",
       "      <td>7.0</td>\n",
       "      <td>397.142857</td>\n",
       "      <td>11.126973</td>\n",
       "      <td>379.0</td>\n",
       "      <td>392.00</td>\n",
       "      <td>400.0</td>\n",
       "      <td>401.0</td>\n",
       "      <td>415.0</td>\n",
       "    </tr>\n",
       "    <tr>\n",
       "      <th>Super-Intensivo</th>\n",
       "      <td>13.0</td>\n",
       "      <td>429.307692</td>\n",
       "      <td>19.905546</td>\n",
       "      <td>401.0</td>\n",
       "      <td>417.00</td>\n",
       "      <td>424.0</td>\n",
       "      <td>434.0</td>\n",
       "      <td>469.0</td>\n",
       "    </tr>\n",
       "  </tbody>\n",
       "</table>\n",
       "</div>"
      ],
      "text/plain": [
       "                 count        mean        std    min     25%    50%    75%  \\\n",
       "Tipo de Curso                                                                \n",
       "Intensivo          6.0  406.166667  12.937027  382.0  403.75  412.0  413.5   \n",
       "Semanal           11.0  368.545455  39.327760  277.0  365.00  380.0  394.0   \n",
       "Semi-Intensivo     7.0  397.142857  11.126973  379.0  392.00  400.0  401.0   \n",
       "Super-Intensivo   13.0  429.307692  19.905546  401.0  417.00  424.0  434.0   \n",
       "\n",
       "                   max  \n",
       "Tipo de Curso           \n",
       "Intensivo        416.0  \n",
       "Semanal          400.0  \n",
       "Semi-Intensivo   415.0  \n",
       "Super-Intensivo  469.0  "
      ]
     },
     "execution_count": 60,
     "metadata": {},
     "output_type": "execute_result"
    }
   ],
   "source": [
    "descriptivos.columns = descriptivos.columns.droplevel()\n",
    "descriptivos"
   ]
  },
  {
   "cell_type": "code",
   "execution_count": null,
   "metadata": {},
   "outputs": [],
   "source": [
    "\n"
   ]
  },
  {
   "cell_type": "markdown",
   "metadata": {
    "nbgrader": {
     "grade": false,
     "grade_id": "ej2-task",
     "locked": true,
     "schema_version": 3,
     "solution": false,
     "task": false
    }
   },
   "source": [
    "b. (10%) Un estudiante que se encuentra indeciso por el curso a tomar considera que el \n",
    "curso intensivo y el curso super intensivo no tienen ninguna diferencia. ¿Está de acuerdo \n",
    "con esta afirmación?"
   ]
  },
  {
   "cell_type": "code",
   "execution_count": 61,
   "metadata": {
    "nbgrader": {
     "grade": false,
     "grade_id": "ej2-sol",
     "locked": false,
     "schema_version": 3,
     "solution": true,
     "task": false
    },
    "nombre": "Ej2"
   },
   "outputs": [
    {
     "name": "stdout",
     "output_type": "stream",
     "text": [
      "Estadístico T: -2.585290899506013\n",
      "P Value: 0.01925664905618203\n",
      "\n",
      "H0 = los puntajes promedio de los Cursos Intensivo y Super Intensivo tienen igual media, \n",
      "H1 = los puntajes promedio de los Cursos Intensivo y Super Intensivo tienen media diferente. \n",
      "\n",
      "Al ejecutar la prueba T-Student para comprobar si nuestra hipótesis nula es cierta (con un nivel de significancia del 5%) nos encontramos que existe una diferencia significativa \n",
      "entre las medias de los cursos toda vez que el P value estimado es de 1.9%, ubicándose así en nuestra zona de rechazo de la H0. Por lo anterior, podríamos argumentar al estudiante \n",
      "que efectivamente los cursos Intensivo y Super Intensivo sí tienen diferencias entre sí\n"
     ]
    }
   ],
   "source": [
    "# Implementa tu respuesta en esta celda\n",
    "# Implementa tu respuesta en esta celda\n",
    "\n",
    "import scipy.stats as stats\n",
    "\n",
    " # Filtro para los datos de los cursos que deseamos comparar (\"Intensivo\" y \"Super-Intensivo\")\n",
    "curso_intensivo = data_frame_cursos[data_frame_cursos['Tipo de Curso '] == 'Intensivo']['Puntaje']\n",
    "curso_super_intensivo = data_frame_cursos[data_frame_cursos['Tipo de Curso '] == 'Super-Intensivo']['Puntaje']\n",
    "\n",
    " # Prueba t de las dos muestras\n",
    "t_statistic, p_value = stats.ttest_ind(curso_intensivo,curso_super_intensivo)\n",
    " \n",
    "# Resultados\n",
    "print(\"Estadístico T:\", t_statistic)\n",
    "print(\"P Value:\", p_value)\n",
    "\n",
    "# Interpretación de resultados\n",
    "significancia = 0.05  # Nivel de significancia\n",
    "if p_value < significancia:\n",
    "    print(\"\\nH0 = los puntajes promedio de los Cursos Intensivo y Super Intensivo tienen igual media, \\nH1 = los puntajes promedio de los Cursos Intensivo y Super Intensivo tienen media diferente. \\n\\nAl ejecutar la prueba T-Student para comprobar si nuestra hipótesis nula es cierta (con un nivel de significancia del 5%) nos encontramos que existe una diferencia significativa \\nentre las medias de los cursos toda vez que el P value estimado es de \" + str(round((p_value*100),1)) + \"%, ubicándose así en nuestra zona de rechazo de la H0. Por lo anterior, podríamos argumentar al estudiante \\nque efectivamente los cursos Intensivo y Super Intensivo sí tienen diferencias entre sí\")\n",
    "else:\n",
    "    print(\"\\nH0 = los puntajes promedio de los Cursos Intensivo y Super Intensivo tienen igual media, \\nH1 = los puntajes promedio de los Cursos Intensivo y Super Intensivo tienen media diferente. \\n\\nAl ejecutar la prueba T-Student para comprobar si nuestra hipótesis nula es cierta (con un nivel de significancia del 5%) nos encontramos que no hay evidencia suficiente para afirmar si existe diferencia significativa \\nentre las medias de los cursos toda vez que el P value estimado es de \" + str(round((p_value*100),1)) + \"%.\")\n",
    "\n"
   ]
  },
  {
   "cell_type": "markdown",
   "metadata": {
    "nbgrader": {
     "grade": false,
     "grade_id": "ej2-task",
     "locked": true,
     "schema_version": 3,
     "solution": false,
     "task": false
    }
   },
   "source": [
    "c. (10%) Uno de los profesores de la academia desea conocer los puntajes promedio de los estudiantes con el fin de establecer estrategias para que algún estudiante tenga un puntaje mayor a 483 que es el mejor de la academia, ¿cree usted que el profesor puede ayudar a sus estudiantes sugiriéndoles que tomen el curso semanal? ¿Qué curso cree usted que debe sugerir el profesor a sus estudiantes teniendo en cuenta los resultados que se han obtenido? <br>"
   ]
  },
  {
   "cell_type": "code",
   "execution_count": 62,
   "metadata": {
    "nbgrader": {
     "grade": false,
     "grade_id": "ej2-sol",
     "locked": false,
     "schema_version": 3,
     "solution": true,
     "task": false
    },
    "nombre": "Ej2"
   },
   "outputs": [
    {
     "name": "stdout",
     "output_type": "stream",
     "text": [
      "Estadístico T: -9.652285822754488\n",
      "P Value: 2.1964896712317664e-06\n",
      "\n",
      "H0 = el puntaje promedio del Curso Semanal es mayor a 483, \n",
      "H1 = el puntaje promedio del Curso Semanal no es mayor a 483\n",
      "\n",
      "Al ejecutar la prueba T-Student para comprobar si nuestra hipótesis nula es cierta (con un nivel de significancia del 5%) nos encontramos que no existe evidencia significativa \n",
      "para inferir que el puntaje promedio del curso es mayor a 483 toda vez que el P value estimado es de 0.0%, ubicándose así en nuestra zona de rechazo de la H0. Por lo anterior, si el profesor recomienda dicho Curso Semanal \n",
      "no estaría ayudando a sus estudiantes con respecto al puntaje objetivo\n"
     ]
    }
   ],
   "source": [
    "# Implementa tu respuesta en esta celda\n",
    "\n",
    " # Curso a evaluar:\n",
    "curso_semanal = data_frame_cursos[data_frame_cursos['Tipo de Curso '] == 'Semanal']['Puntaje']\n",
    "mejor_puntaje = 483\n",
    "\n",
    " # Prueba t de una muestra (el curso semanal)\n",
    "t_statistic, p_value = stats.ttest_1samp(curso_semanal,mejor_puntaje)\n",
    " \n",
    "# Resultados\n",
    "print(\"Estadístico T:\", t_statistic)\n",
    "print(\"P Value:\", p_value)\n",
    "\n",
    "# Interpretación de resultados\n",
    "significancia = 0.05  # Nivel de significancia\n",
    "if p_value < significancia:\n",
    "    print(\"\\nH0 = el puntaje promedio del Curso Semanal es mayor a \" + str(mejor_puntaje) + \", \\nH1 = el puntaje promedio del Curso Semanal no es mayor a \" + str(mejor_puntaje) + \"\\n\\nAl ejecutar la prueba T-Student para comprobar si nuestra hipótesis nula es cierta (con un nivel de significancia del 5%) nos encontramos que no existe evidencia significativa \\npara inferir que el puntaje promedio del curso es mayor a 483 toda vez que el P value estimado es de \" + str(round((p_value*100),1)) + \"%, ubicándose así en nuestra zona de rechazo de la H0. Por lo anterior, si el profesor recomienda dicho Curso Semanal \\nno estaría ayudando a sus estudiantes con respecto al puntaje objetivo\")\n",
    "else:\n",
    "    print(\"\\nH0 = el puntaje promedio del Curso Semanal es mayor a \" + str(mejor_puntaje) + \", \\nH1 = el puntaje promedio del Curso Semanal no es mayor a \" + str(mejor_puntaje) + \"\\n\\nAl ejecutar la prueba T-Student para comprobar si nuestra hipótesis nula es cierta (con un nivel de significancia del 5%) nos encontramos que existe evidencia significativa \\npara inferir que el puntaje promedio del curso es mayor a 483 toda vez que el P value estimado es de \" + str(round((p_value*100),1)) + \"%, ubicándose así en nuestra zona de no rechazo o aceptación de la H0. Por lo anterior, si el profesor recomienda dicho Curso Semanal \\nestaría ayudando a sus estudiantes con respecto al puntaje objetivo\")\n",
    "\n"
   ]
  },
  {
   "cell_type": "markdown",
   "metadata": {},
   "source": [
    "¿Qué curso cree usted que debe sugerir el profesor a sus estudiantes teniendo en cuenta los resultados que se han obtenido? "
   ]
  },
  {
   "cell_type": "code",
   "execution_count": 63,
   "metadata": {},
   "outputs": [
    {
     "name": "stdout",
     "output_type": "stream",
     "text": [
      "\n",
      "H0 = el puntaje promedio del Curso es mayor a 483, \n",
      "H1 = el puntaje promedio del Curso no es mayor a 483\n",
      "\n",
      "Al ejecutar la prueba T-Student para comprobar si nuestra hipótesis nula es cierta (con un nivel de significancia del 5%) nos encontramos que no existe evidencia significativa \n",
      "para inferir que el puntaje promedio del curso es mayor a 483 toda vez que los distintos P values estimados son aproximadamente 0,0%, ubicándose así en nuestra zona de rechazo \n",
      "de la H0. Por lo anterior, si el profesor recomienda dichos Cursos no estaría ayudando a sus estudiantes con respecto al puntaje objetivo\n"
     ]
    },
    {
     "data": {
      "text/html": [
       "<div>\n",
       "<style scoped>\n",
       "    .dataframe tbody tr th:only-of-type {\n",
       "        vertical-align: middle;\n",
       "    }\n",
       "\n",
       "    .dataframe tbody tr th {\n",
       "        vertical-align: top;\n",
       "    }\n",
       "\n",
       "    .dataframe thead th {\n",
       "        text-align: right;\n",
       "    }\n",
       "</style>\n",
       "<table border=\"1\" class=\"dataframe\">\n",
       "  <thead>\n",
       "    <tr style=\"text-align: right;\">\n",
       "      <th></th>\n",
       "      <th>Curso</th>\n",
       "      <th>Valor de referencia (x)</th>\n",
       "      <th>Estadístico T</th>\n",
       "      <th>P_Value</th>\n",
       "    </tr>\n",
       "  </thead>\n",
       "  <tbody>\n",
       "    <tr>\n",
       "      <th>0</th>\n",
       "      <td>Curso Intensivo</td>\n",
       "      <td>483</td>\n",
       "      <td>-14.547582</td>\n",
       "      <td>2.770833e-05</td>\n",
       "    </tr>\n",
       "    <tr>\n",
       "      <th>1</th>\n",
       "      <td>Curso Semi Intensivo</td>\n",
       "      <td>483</td>\n",
       "      <td>-20.414955</td>\n",
       "      <td>8.980801e-07</td>\n",
       "    </tr>\n",
       "    <tr>\n",
       "      <th>2</th>\n",
       "      <td>Curso Semanal</td>\n",
       "      <td>483</td>\n",
       "      <td>-9.652286</td>\n",
       "      <td>2.196490e-06</td>\n",
       "    </tr>\n",
       "    <tr>\n",
       "      <th>3</th>\n",
       "      <td>Curso Super Intensivo</td>\n",
       "      <td>483</td>\n",
       "      <td>-9.725449</td>\n",
       "      <td>4.834077e-07</td>\n",
       "    </tr>\n",
       "  </tbody>\n",
       "</table>\n",
       "</div>"
      ],
      "text/plain": [
       "                   Curso  Valor de referencia (x)  Estadístico T       P_Value\n",
       "0        Curso Intensivo                      483     -14.547582  2.770833e-05\n",
       "1   Curso Semi Intensivo                      483     -20.414955  8.980801e-07\n",
       "2          Curso Semanal                      483      -9.652286  2.196490e-06\n",
       "3  Curso Super Intensivo                      483      -9.725449  4.834077e-07"
      ]
     },
     "execution_count": 63,
     "metadata": {},
     "output_type": "execute_result"
    }
   ],
   "source": [
    "# Implementa tu respuesta en esta celda\n",
    "\n",
    "import scipy.stats as stats\n",
    "\n",
    "# Definir los datos de los cuatro cursos (cada lista representa los puntajes de un curso)\n",
    "curso_intensivo = data_frame_cursos[data_frame_cursos['Tipo de Curso '] == 'Intensivo']['Puntaje']\n",
    "curso_semi_intensivo = data_frame_cursos[data_frame_cursos['Tipo de Curso '] == 'Semi-Intensivo']['Puntaje']\n",
    "curso_semanal = data_frame_cursos[data_frame_cursos['Tipo de Curso '] == 'Semanal']['Puntaje']\n",
    "curso_super_intensivo = data_frame_cursos[data_frame_cursos['Tipo de Curso '] == 'Super-Intensivo']['Puntaje']\n",
    "\n",
    "# Valor de referencia (x) para cada curso\n",
    "mejor_puntaje = 483\n",
    "\n",
    "# Almacenar los resultados en un DataFrame\n",
    "data_pruebas = {'Curso': [\"Curso Intensivo\", \"Curso Semi Intensivo\", \"Curso Semanal\", \"Curso Super Intensivo\"],\n",
    "        'Valor de referencia (x)': mejor_puntaje,\n",
    "        'Estadístico T': [],\n",
    "        'P_Value': []}\n",
    "\n",
    "for i, curso_data in enumerate([curso_intensivo, curso_semi_intensivo, curso_semanal, curso_super_intensivo]):\n",
    "    t_statistic, p_value = stats.ttest_1samp(curso_data, mejor_puntaje)\n",
    "    data_pruebas['Estadístico T'].append(t_statistic)\n",
    "    data_pruebas['P_Value'].append(p_value)\n",
    "\n",
    "# Crear un DataFrame\n",
    "df_pruebas = pd.DataFrame(data_pruebas)\n",
    "\n",
    "# Mostrar el DataFrame\n",
    "df_pruebas.set_index(\"Curso\")\n",
    "df_pruebas\n",
    "\n",
    "print(\"\\nH0 = el puntaje promedio del Curso es mayor a \" + str(mejor_puntaje) + \", \\nH1 = el puntaje promedio del Curso no es mayor a \" + str(mejor_puntaje) + \"\\n\\nAl ejecutar la prueba T-Student para comprobar si nuestra hipótesis nula es cierta (con un nivel de significancia del 5%) nos encontramos que no existe evidencia significativa \\npara inferir que el puntaje promedio del curso es mayor a 483 toda vez que los distintos P values estimados son aproximadamente 0,0%, ubicándose así en nuestra zona de rechazo \\nde la H0. Por lo anterior, si el profesor recomienda dichos Cursos no estaría ayudando a sus estudiantes con respecto al puntaje objetivo\")\n",
    "df_pruebas\n"
   ]
  },
  {
   "cell_type": "markdown",
   "metadata": {
    "nbgrader": {
     "grade": false,
     "grade_id": "ej2-task",
     "locked": true,
     "schema_version": 3,
     "solution": false,
     "task": false
    }
   },
   "source": [
    "## Ejercicio 3\n",
    "\n",
    "(30%) Battlife se dedica a la producción de baterías, se sabe la vida útil promedio de sus baterías siguen una distribución normal con una media de 900 horas y una desviación estándar de 45 horas. Un grupo de ingenieros quieren verificar que esta afirmación sea veraz, por lo tanto, deciden tomar una muestra aleatoria de 30 baterías con las cuales obtienen que la vida útil promedio es de 800 horas, con una desviación estándar muestral de 50 horas. \n",
    "Teniendo en cuenta lo anterior, por favor resuelva las siguientes preguntas: "
   ]
  },
  {
   "cell_type": "markdown",
   "metadata": {
    "nbgrader": {
     "grade": false,
     "grade_id": "ej2-task",
     "locked": true,
     "schema_version": 3,
     "solution": false,
     "task": false
    }
   },
   "source": [
    "a. (10%) ¿Cuál es la probabilidad de que la vida útil promedio real de las baterías sea \n",
    "menor a 780 horas?"
   ]
  },
  {
   "cell_type": "code",
   "execution_count": 64,
   "metadata": {
    "nbgrader": {
     "grade": false,
     "grade_id": "ej2-sol",
     "locked": false,
     "schema_version": 3,
     "solution": true,
     "task": false
    },
    "nombre": "Ej2"
   },
   "outputs": [
    {
     "name": "stdout",
     "output_type": "stream",
     "text": [
      "0.9961696194324102\n",
      "la probabilidad de que la vida útil promedio real de las baterias sea mayor a 780 horas es de 0.9961696194324102\n"
     ]
    }
   ],
   "source": [
    "# Implementa tu respuesta en esta celda\n",
    "from scipy.stats import norm\n",
    "import math\n",
    "\n",
    "mean_p = 900 \n",
    "mean_s = 800\n",
    "std_p = 45\n",
    "std_s = 50\n",
    "\n",
    "# Normalizando los datos\n",
    "z = (780 - mean_p) / std_p\n",
    "prob = norm.cdf(z)\n",
    "probabilidad = 1 - prob\n",
    "print(probabilidad)\n",
    "print('la probabilidad de que la vida útil promedio real de las baterias sea mayor a 780 horas es de '+str(probabilidad))"
   ]
  },
  {
   "cell_type": "markdown",
   "metadata": {
    "nbgrader": {
     "grade": false,
     "grade_id": "ej2-task",
     "locked": true,
     "schema_version": 3,
     "solution": false,
     "task": false
    }
   },
   "source": [
    "(10%) n comprador está interesado en adquirir un lote de baterías, sin embargo, solicitó que, en una muestra de 40 baterías, la variabilidad de las vidas útiles no debe exceder 5 horas. Calcule la probabilidad de que la varianza de las vidas útiles de una muestra de 40 baterías supere este valor."
   ]
  },
  {
   "cell_type": "code",
   "execution_count": 65,
   "metadata": {},
   "outputs": [],
   "source": [
    "from scipy import stats"
   ]
  },
  {
   "cell_type": "code",
   "execution_count": 66,
   "metadata": {
    "nbgrader": {
     "grade": false,
     "grade_id": "ej2-sol",
     "locked": false,
     "schema_version": 3,
     "solution": true,
     "task": false
    },
    "nombre": "Ej2"
   },
   "outputs": [
    {
     "name": "stdout",
     "output_type": "stream",
     "text": [
      "no se rechaza la hipotesis nula que la variabilidad de la muestra de 40 baterias es igual a 5 horas\n",
      "Valor Crítico: 54.572227758941736\n",
      "Probabilidad: 0.04004198591300844\n"
     ]
    },
    {
     "data": {
      "image/png": "[encoded data removed]",
      "text/plain": [
       "<Figure size 640x480 with 1 Axes>"
      ]
     },
     "metadata": {},
     "output_type": "display_data"
    }
   ],
   "source": [
    "#Implementa tu respuesta en esta celda\n",
    "'Para resolver el ejercicio primero planteamos la hipotesis nula en la cual establecemos que la variabilidad de la muestra de 40 baterias es igual a 5 horas, mientras que la hipótesis alterna indica que esta variabilidad es superior a 5 horas'\n",
    "\n",
    "'Ho: s^2 = 25'\n",
    "'H1: s^2 > 25'\n",
    "\n",
    "#parametros\n",
    "n = 40\n",
    "s_deseada = 25\n",
    "varianza_muestral = 45**2\n",
    "grados_libertad = n-1\n",
    "nivel_significancia = 0.05\n",
    "valor_critico = stats.chi2.ppf(1 - nivel_significancia, grados_libertad)\n",
    "\n",
    "ji2 = (grados_libertad*(s_deseada))/varianza_muestral\n",
    "\n",
    "if ji2 < valor_critico:\n",
    "        print(f'no se rechaza la hipotesis nula que la variabilidad de la muestra de 40 baterias es igual a 5 horas')\n",
    "\n",
    "# Probabilidad de que la varianza supere 25 horas\n",
    "probabilidad = stats.chi2.cdf(s_deseada, grados_libertad)\n",
    "\n",
    "\n",
    "print(f'Valor Crítico: {valor_critico}')\n",
    "print(f'Probabilidad: {probabilidad}')\n",
    "\n",
    "#gráfico\n",
    "import numpy as np\n",
    "import matplotlib.pyplot as plt\n",
    "import scipy.stats as stats\n",
    "\n",
    "x = np.linspace(0, 100, 1000)\n",
    "\n",
    "# Densidad de probabilidad de chi-cuadrado\n",
    "pdf = stats.chi2.pdf(x, grados_libertad)\n",
    "\n",
    "\n",
    "# Gráfico de la distribución chi-cuadrado\n",
    "plt.plot(x, pdf, label=f'Chi-cuadrado ({grados_libertad} grados de libertad)')\n",
    "plt.fill_between(x, pdf, where=(x >= valor_critico), alpha=0.2, label=f'Región de rechazo (α={nivel_significancia})')\n",
    "plt.axvline(x=valor_critico, color='red', linestyle='--', label='Valor Crítico')\n",
    "plt.axvline(x=ji2, color='green', linestyle='--', label='Estadístico de Prueba')\n",
    "\n",
    "# Etiquetas y leyendas\n",
    "plt.title('Distribución Chi-cuadrado')\n",
    "plt.xlabel('Valor Chi-cuadrado')\n",
    "plt.ylabel('Densidad de Probabilidad')\n",
    "plt.text(60, 0.015, f'Valor Crítico: {valor_critico:.2f}', color='red')\n",
    "plt.text(10, 0.015, f'Estadístico de Prueba: {ji2:.2f}', color='green')\n",
    "plt.legend()\n",
    "\n",
    "# Mostrar el gráfico\n",
    "plt.show()"
   ]
  },
  {
   "cell_type": "markdown",
   "metadata": {
    "nbgrader": {
     "grade": false,
     "grade_id": "ej3-task",
     "locked": true,
     "schema_version": 3,
     "solution": false,
     "task": false
    }
   },
   "source": [
    "c. (10%) El área de desarrollo esta haciendo un estudio de mercado dado que desean que las baterías producidas sean las que tengan la mejor vida útil del mercado. Por lo cual, se han obtenido los resultados de una empresa competidora “BattteriesInc”. De “BattteriesInc”. se conoce que la vida útil promedio de las baterías es de 885 horas con una desviación estándar de 30 horas. Se tomó una muestra aleatoria de 20 baterías de Battlife y 15 baterías de BattteriesInc. Asumiendo que las variables aleatorias son independientes, ¿cuál es la probabilidad de que la varianza muestral de la vida útil producida por Battlife menor a la varianza muestral del espesor de la vida útil de BatteriesInc?"
   ]
  },
  {
   "cell_type": "code",
   "execution_count": 67,
   "metadata": {
    "nbgrader": {
     "grade": false,
     "grade_id": "ej2-sol",
     "locked": false,
     "schema_version": 3,
     "solution": true,
     "task": false
    },
    "nombre": "Ej2"
   },
   "outputs": [
    {
     "name": "stdout",
     "output_type": "stream",
     "text": [
      "0.4444444444444444\n",
      "161.44763879758827\n",
      "como el valor de la prueba F es menor al valor de la región critica, no se rechaza la hipótesis nula y por lo tanto no es posible concluir que la varianza de las baterias de Battlife es menor a las de BatteriesInc\n",
      "Valor p: 0.6256659163780023\n"
     ]
    }
   ],
   "source": [
    "# Implementa tu respuesta en esta celda\n",
    "\n",
    "# Varianzas poblacionales conocidas\n",
    "varianza_battlife = 45**2  # Varianza poblacional de Battlife (sigma^2)\n",
    "varianza_batteriesinc = 30**2  # Varianza poblacional de BatteriesInc (sigma^2)\n",
    "\n",
    "#Prueba de hipotesis:\n",
    "# Ho: Varianza_battlife > varianza_batteriesinc\n",
    "# H1: varianza_battlife < varianza_batteriesinc\n",
    "\n",
    "# Nivel de significancia\n",
    "alpha = 0.05\n",
    "\n",
    "# Estadístico de prueba F\n",
    "F = varianza_batteriesinc / varianza_battlife\n",
    "\n",
    "# Grados de libertad\n",
    "v_1 = 1  # Grados de libertad para Battlife\n",
    "v_2 = 1  # Grados de libertad para BatteriesInc\n",
    "\n",
    "# Valor crítico de la distribución F\n",
    "valor_critico = stats.f.ppf(1 - alpha, v_1, v_2)\n",
    "\n",
    "# Realizar la prueba de hipótesis\n",
    "if F < valor_critico:\n",
    "    resultado = \"No se rechaza la hipótesis nula. La varianza de Battlife es mayor que la de BatteriesInc.\"\n",
    "else:\n",
    "    resultado = \"Se rechaza la hipótesis nula. La varianza de Battlife es menor a la de BatteriesInc\"\n",
    "# Imprimir el resultado\n",
    "print(F)\n",
    "print(valor_critico)\n",
    "print('como el valor de la prueba F es menor al valor de la región critica, no se rechaza la hipótesis nula y por lo tanto no es posible concluir que la varianza de las baterias de Battlife es menor a las de BatteriesInc')\n",
    "\n",
    "\n",
    "\n",
    "\n",
    "#probabilidad\n",
    "\n",
    "valor_p = 1 - stats.f.cdf(F, v_1, v_2)\n",
    "\n",
    "print(\"Valor p:\", valor_p)"
   ]
  },
  {
   "cell_type": "markdown",
   "metadata": {
    "nbgrader": {
     "grade": false,
     "grade_id": "creds",
     "locked": true,
     "schema_version": 3,
     "solution": false,
     "task": false
    }
   },
   "source": [
    "## Créditos\n",
    "\n",
    "__Autores__: Laura Valentina Diaz Pinzon\n",
    "\n",
    "__Actualizado por__: Alejandra Tabares Pozos. \n",
    "\n",
    "__Fecha última actualización__: 01/09/2023"
   ]
  }
 ],
 "metadata": {
  "celltoolbar": "Create Assignment",
  "kernelspec": {
   "display_name": "Python 3 (ipykernel)",
   "language": "python",
   "name": "python3"
  },
  "language_info": {
   "codemirror_mode": {
    "name": "ipython",
    "version": 3
   },
   "file_extension": ".py",
   "mimetype": "text/x-python",
   "name": "python",
   "nbconvert_exporter": "python",
   "pygments_lexer": "ipython3",
   "version": "3.11.4"
  }
 },
 "nbformat": 4,
 "nbformat_minor": 2
}
