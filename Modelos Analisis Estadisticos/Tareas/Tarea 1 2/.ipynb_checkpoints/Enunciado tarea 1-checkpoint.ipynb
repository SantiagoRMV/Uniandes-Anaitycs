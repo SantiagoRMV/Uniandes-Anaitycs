{
 "cells": [
  {
   "cell_type": "markdown",
   "metadata": {
    "nbgrader": {
     "grade": false,
     "grade_id": "header",
     "locked": true,
     "schema_version": 3,
     "solution": false,
     "task": false
    },
    "tags": [
     "{}"
    ]
   },
   "source": [
    "<img src=\"Archivos/miad4.png\" width=900x>\n",
    "\n",
    " # TAREA 1\n",
    "\n",
    "**Departamento de Ingeniería Industrial.**\n",
    "\n",
    "**Maestría en Inteligencia Analítica para la Toma de Decisiones (Analytics).**\n",
    "\n",
    "**Modelos de Análisis Estadístico (MIIA 4100) - 202320.**\n",
    "\n",
    "Por ningún motivo se recibirán entregas posteriores a la hora límite. En caso de no realizar la entrega la nota asignada será 0.\n",
    "\n",
    "Notas: La entrega del taller deberá hacerse en un informe autocontenido incluyendo las **gráficas,interpretación y conclusiones**. Adicionalmente debe entregarse el código utilizado en un archivo ipynb, de considerar necesario comentar todas las partes del codigo que crean necesarias para el entendimiento del codigo.\n",
    "\n",
    "Para todos los literales que lo requieran, se recomienda utilizar una significancia del 5% (confianza del 95%). En caso de utilizar otro nivel de significancia, hacerlo explícito en el informe.\n",
    "\n",
    "______________________________________________________________________\n",
    "\n"
   ]
  },
  {
   "cell_type": "markdown",
   "metadata": {
    "nbgrader": {
     "grade": false,
     "grade_id": "eje-enun",
     "locked": true,
     "schema_version": 3,
     "solution": false,
     "task": false
    }
   },
   "source": [
    "## Ejercicio 1\n",
    "(40%) La base de datos contenida en resultadosicfes.csv tiene información de los \n",
    "resultados obtenidos en 2019, estos resultados muestran todos los departamentos de \n",
    "Colombia, por favor tomar como muestra los resultados de los siguientes 5 departamentos; La \n",
    "Guajira, Valle, Atlántico, Bogotá (la cual en las estadísticas se tiene como departamento) y \n",
    "Huila. El objetivo es realizar un análisis exploratorio de los datos.\n"
   ]
  },
  {
   "cell_type": "markdown",
   "metadata": {
    "nbgrader": {
     "grade": false,
     "grade_id": "eje-enun",
     "locked": true,
     "schema_version": 3,
     "solution": false,
     "task": false
    }
   },
   "source": [
    "a. (20%) Identifique las variables continuas y para CADA UNA de éstas:\n",
    "- Determine cuántos valores perdidos tiene cada una.\n",
    "- Calcule la media, desviación estándar, máximo y mínimo.\n",
    "- Identifique los departamentos donde los estudiantes obtuvieron un puntaje en matemáticas mayor a 55, un puntaje en lectura mayor a 60 y un puntaje en ingles mayor a 70 reemplace estos valores por valores perdidos. En lo que sigue trabaje con estas variables corregidas.<br> \n",
    "- Calcule nuevamente la media, desviación estándar, máximo, mínimo. Compare los resultados con los hallados los 2 literales anteriores y comente. "
   ]
  },
  {
   "cell_type": "code",
   "execution_count": 1,
   "metadata": {},
   "outputs": [],
   "source": [
    "#Importando paquetes\n",
    "import pandas as pd\n",
    "import numpy as np\n",
    "import matplotlib.pyplot as plt"
   ]
  },
  {
   "cell_type": "code",
   "execution_count": 2,
   "metadata": {
    "nbgrader": {
     "grade": false,
     "grade_id": "eje-data",
     "locked": true,
     "schema_version": 3,
     "solution": false,
     "task": false
    },
    "scrolled": false
   },
   "outputs": [
    {
     "data": {
      "text/html": [
       "<div>\n",
       "<style scoped>\n",
       "    .dataframe tbody tr th:only-of-type {\n",
       "        vertical-align: middle;\n",
       "    }\n",
       "\n",
       "    .dataframe tbody tr th {\n",
       "        vertical-align: top;\n",
       "    }\n",
       "\n",
       "    .dataframe thead th {\n",
       "        text-align: right;\n",
       "    }\n",
       "</style>\n",
       "<table border=\"1\" class=\"dataframe\">\n",
       "  <thead>\n",
       "    <tr style=\"text-align: right;\">\n",
       "      <th></th>\n",
       "      <th>ESTU_GENERO</th>\n",
       "      <th>ESTU_DEPTO_RESIDE</th>\n",
       "      <th>FAMI_ESTRATOVIVIENDA</th>\n",
       "      <th>COLE_NATURALEZA</th>\n",
       "      <th>COLE_AREA_UBICACION</th>\n",
       "      <th>COLE_JORNADA</th>\n",
       "      <th>PUNT_LECTURA_CRITICA</th>\n",
       "      <th>PUNT_MATEMATICAS</th>\n",
       "      <th>PUNT_C_NATURALES</th>\n",
       "      <th>PUNT_SOCIALES_CIUDADANAS</th>\n",
       "      <th>PUNT_INGLES</th>\n",
       "      <th>PUNT_GLOBAL</th>\n",
       "      <th>PERCENTIL_GLOBAL</th>\n",
       "    </tr>\n",
       "  </thead>\n",
       "  <tbody>\n",
       "    <tr>\n",
       "      <th>0</th>\n",
       "      <td>M</td>\n",
       "      <td>MAGDALENA</td>\n",
       "      <td>Estrato 3</td>\n",
       "      <td>OFICIAL</td>\n",
       "      <td>URBANO</td>\n",
       "      <td>MAÃ‘ANA</td>\n",
       "      <td>47</td>\n",
       "      <td>48</td>\n",
       "      <td>37</td>\n",
       "      <td>30</td>\n",
       "      <td>54.0</td>\n",
       "      <td>208</td>\n",
       "      <td>25.0</td>\n",
       "    </tr>\n",
       "    <tr>\n",
       "      <th>1</th>\n",
       "      <td>M</td>\n",
       "      <td>BOGOTÃ</td>\n",
       "      <td>Estrato 3</td>\n",
       "      <td>NO OFICIAL</td>\n",
       "      <td>URBANO</td>\n",
       "      <td>COMPLETA</td>\n",
       "      <td>60</td>\n",
       "      <td>65</td>\n",
       "      <td>54</td>\n",
       "      <td>59</td>\n",
       "      <td>63.0</td>\n",
       "      <td>299</td>\n",
       "      <td>83.0</td>\n",
       "    </tr>\n",
       "    <tr>\n",
       "      <th>2</th>\n",
       "      <td>M</td>\n",
       "      <td>BOLIVAR</td>\n",
       "      <td>Estrato 1</td>\n",
       "      <td>OFICIAL</td>\n",
       "      <td>URBANO</td>\n",
       "      <td>MAÃ‘ANA</td>\n",
       "      <td>66</td>\n",
       "      <td>57</td>\n",
       "      <td>41</td>\n",
       "      <td>74</td>\n",
       "      <td>64.0</td>\n",
       "      <td>299</td>\n",
       "      <td>84.0</td>\n",
       "    </tr>\n",
       "    <tr>\n",
       "      <th>3</th>\n",
       "      <td>M</td>\n",
       "      <td>BOGOTÃ</td>\n",
       "      <td>Estrato 3</td>\n",
       "      <td>OFICIAL</td>\n",
       "      <td>URBANO</td>\n",
       "      <td>MAÃ‘ANA</td>\n",
       "      <td>62</td>\n",
       "      <td>54</td>\n",
       "      <td>61</td>\n",
       "      <td>73</td>\n",
       "      <td>53.0</td>\n",
       "      <td>309</td>\n",
       "      <td>88.0</td>\n",
       "    </tr>\n",
       "    <tr>\n",
       "      <th>4</th>\n",
       "      <td>M</td>\n",
       "      <td>BOGOTÃ</td>\n",
       "      <td>Estrato 3</td>\n",
       "      <td>OFICIAL</td>\n",
       "      <td>URBANO</td>\n",
       "      <td>MAÃ‘ANA</td>\n",
       "      <td>63</td>\n",
       "      <td>57</td>\n",
       "      <td>55</td>\n",
       "      <td>57</td>\n",
       "      <td>52.0</td>\n",
       "      <td>288</td>\n",
       "      <td>78.0</td>\n",
       "    </tr>\n",
       "  </tbody>\n",
       "</table>\n",
       "</div>"
      ],
      "text/plain": [
       "  ESTU_GENERO ESTU_DEPTO_RESIDE FAMI_ESTRATOVIVIENDA COLE_NATURALEZA  \\\n",
       "0           M         MAGDALENA            Estrato 3         OFICIAL   \n",
       "1           M           BOGOTÃ            Estrato 3      NO OFICIAL   \n",
       "2           M           BOLIVAR            Estrato 1         OFICIAL   \n",
       "3           M           BOGOTÃ            Estrato 3         OFICIAL   \n",
       "4           M           BOGOTÃ            Estrato 3         OFICIAL   \n",
       "\n",
       "  COLE_AREA_UBICACION COLE_JORNADA  PUNT_LECTURA_CRITICA  PUNT_MATEMATICAS  \\\n",
       "0              URBANO      MAÃ‘ANA                    47                48   \n",
       "1              URBANO     COMPLETA                    60                65   \n",
       "2              URBANO      MAÃ‘ANA                    66                57   \n",
       "3              URBANO      MAÃ‘ANA                    62                54   \n",
       "4              URBANO      MAÃ‘ANA                    63                57   \n",
       "\n",
       "   PUNT_C_NATURALES  PUNT_SOCIALES_CIUDADANAS  PUNT_INGLES  PUNT_GLOBAL  \\\n",
       "0                37                        30         54.0          208   \n",
       "1                54                        59         63.0          299   \n",
       "2                41                        74         64.0          299   \n",
       "3                61                        73         53.0          309   \n",
       "4                55                        57         52.0          288   \n",
       "\n",
       "   PERCENTIL_GLOBAL  \n",
       "0              25.0  \n",
       "1              83.0  \n",
       "2              84.0  \n",
       "3              88.0  \n",
       "4              78.0  "
      ]
     },
     "execution_count": 2,
     "metadata": {},
     "output_type": "execute_result"
    }
   ],
   "source": [
    "# Importando el dataframe\n",
    "data = '/Users/santiagoromero/Documents/Maestria/Modelos Analisis Estadisticos/Tareas/Tarea 1 3/Archivos/resultadosicfes.csv'\n",
    "data_frame = pd.read_csv(data, sep=';')\n",
    "data_frame.head()"
   ]
  },
  {
   "cell_type": "code",
   "execution_count": 3,
   "metadata": {},
   "outputs": [
    {
     "name": "stdout",
     "output_type": "stream",
     "text": [
      "Cantidad de datos perdidos para cada variable categorica\n"
     ]
    },
    {
     "data": {
      "text/html": [
       "<div>\n",
       "<style scoped>\n",
       "    .dataframe tbody tr th:only-of-type {\n",
       "        vertical-align: middle;\n",
       "    }\n",
       "\n",
       "    .dataframe tbody tr th {\n",
       "        vertical-align: top;\n",
       "    }\n",
       "\n",
       "    .dataframe thead th {\n",
       "        text-align: right;\n",
       "    }\n",
       "</style>\n",
       "<table border=\"1\" class=\"dataframe\">\n",
       "  <thead>\n",
       "    <tr style=\"text-align: right;\">\n",
       "      <th></th>\n",
       "      <th>0</th>\n",
       "    </tr>\n",
       "    <tr>\n",
       "      <th>Variable</th>\n",
       "      <th></th>\n",
       "    </tr>\n",
       "  </thead>\n",
       "  <tbody>\n",
       "    <tr>\n",
       "      <th>PUNT_LECTURA_CRITICA</th>\n",
       "      <td>0</td>\n",
       "    </tr>\n",
       "    <tr>\n",
       "      <th>PUNT_MATEMATICAS</th>\n",
       "      <td>0</td>\n",
       "    </tr>\n",
       "    <tr>\n",
       "      <th>PUNT_C_NATURALES</th>\n",
       "      <td>0</td>\n",
       "    </tr>\n",
       "    <tr>\n",
       "      <th>PUNT_SOCIALES_CIUDADANAS</th>\n",
       "      <td>0</td>\n",
       "    </tr>\n",
       "    <tr>\n",
       "      <th>PUNT_INGLES</th>\n",
       "      <td>1</td>\n",
       "    </tr>\n",
       "    <tr>\n",
       "      <th>PUNT_GLOBAL</th>\n",
       "      <td>0</td>\n",
       "    </tr>\n",
       "    <tr>\n",
       "      <th>PERCENTIL_GLOBAL</th>\n",
       "      <td>1</td>\n",
       "    </tr>\n",
       "  </tbody>\n",
       "</table>\n",
       "</div>"
      ],
      "text/plain": [
       "                          0\n",
       "Variable                   \n",
       "PUNT_LECTURA_CRITICA      0\n",
       "PUNT_MATEMATICAS          0\n",
       "PUNT_C_NATURALES          0\n",
       "PUNT_SOCIALES_CIUDADANAS  0\n",
       "PUNT_INGLES               1\n",
       "PUNT_GLOBAL               0\n",
       "PERCENTIL_GLOBAL          1"
      ]
     },
     "execution_count": 3,
     "metadata": {},
     "output_type": "execute_result"
    }
   ],
   "source": [
    "#Filtrando por departamentos\n",
    "departamentos = ['LA GUAJIRA','VALLE','ATLANTICO','BOGOTÃ\\x81','HUILA']\n",
    "df_departamentos = data_frame[data_frame['ESTU_DEPTO_RESIDE'].isin(departamentos)]\n",
    "\n",
    "#Obteniendo las variables continuas\n",
    "variables_continuas = []\n",
    "data_types = data_frame.dtypes\n",
    "for columna, dtype in data_types.items():\n",
    "    if dtype != 'object':\n",
    "        variables_continuas.append(columna)\n",
    "\n",
    "#Creando un diccionario que almacena los valores perdidos\n",
    "valores_perdidos = {}\n",
    "for variable in variables_continuas:\n",
    "    valores_perdidos[variable] = None\n",
    "\n",
    "#Agregando los valores perdidos a cada variable\n",
    "for i, variable in enumerate(valores_perdidos):\n",
    "    valor_perdido = df_departamentos[variable].isna()\n",
    "    perdidos = valor_perdido.sum()\n",
    "    valores_perdidos[variable] = perdidos\n",
    "\n",
    "df_valores_perdidos = pd.DataFrame([valores_perdidos]).transpose()\n",
    "df_valores_perdidos.index.name = \"Variable\"\n",
    "print('Cantidad de datos perdidos para cada variable categorica')\n",
    "df_valores_perdidos"
   ]
  },
  {
   "cell_type": "code",
   "execution_count": 4,
   "metadata": {
    "scrolled": true
   },
   "outputs": [
    {
     "data": {
      "text/html": [
       "<div>\n",
       "<style scoped>\n",
       "    .dataframe tbody tr th:only-of-type {\n",
       "        vertical-align: middle;\n",
       "    }\n",
       "\n",
       "    .dataframe tbody tr th {\n",
       "        vertical-align: top;\n",
       "    }\n",
       "\n",
       "    .dataframe thead th {\n",
       "        text-align: right;\n",
       "    }\n",
       "</style>\n",
       "<table border=\"1\" class=\"dataframe\">\n",
       "  <thead>\n",
       "    <tr style=\"text-align: right;\">\n",
       "      <th></th>\n",
       "      <th>mean</th>\n",
       "      <th>std</th>\n",
       "      <th>max</th>\n",
       "      <th>min</th>\n",
       "    </tr>\n",
       "  </thead>\n",
       "  <tbody>\n",
       "    <tr>\n",
       "      <th>PUNT_LECTURA_CRITICA</th>\n",
       "      <td>53.380226</td>\n",
       "      <td>10.416497</td>\n",
       "      <td>100.0</td>\n",
       "      <td>0.0</td>\n",
       "    </tr>\n",
       "    <tr>\n",
       "      <th>PUNT_MATEMATICAS</th>\n",
       "      <td>51.817262</td>\n",
       "      <td>11.876710</td>\n",
       "      <td>100.0</td>\n",
       "      <td>0.0</td>\n",
       "    </tr>\n",
       "    <tr>\n",
       "      <th>PUNT_C_NATURALES</th>\n",
       "      <td>49.546606</td>\n",
       "      <td>10.752327</td>\n",
       "      <td>100.0</td>\n",
       "      <td>0.0</td>\n",
       "    </tr>\n",
       "    <tr>\n",
       "      <th>PUNT_SOCIALES_CIUDADANAS</th>\n",
       "      <td>47.635641</td>\n",
       "      <td>12.228414</td>\n",
       "      <td>100.0</td>\n",
       "      <td>0.0</td>\n",
       "    </tr>\n",
       "    <tr>\n",
       "      <th>PUNT_INGLES</th>\n",
       "      <td>50.693926</td>\n",
       "      <td>12.870041</td>\n",
       "      <td>100.0</td>\n",
       "      <td>0.0</td>\n",
       "    </tr>\n",
       "    <tr>\n",
       "      <th>PUNT_GLOBAL</th>\n",
       "      <td>253.013211</td>\n",
       "      <td>51.465233</td>\n",
       "      <td>477.0</td>\n",
       "      <td>0.0</td>\n",
       "    </tr>\n",
       "    <tr>\n",
       "      <th>PERCENTIL_GLOBAL</th>\n",
       "      <td>53.874037</td>\n",
       "      <td>28.723295</td>\n",
       "      <td>100.0</td>\n",
       "      <td>1.0</td>\n",
       "    </tr>\n",
       "  </tbody>\n",
       "</table>\n",
       "</div>"
      ],
      "text/plain": [
       "                                mean        std    max  min\n",
       "PUNT_LECTURA_CRITICA       53.380226  10.416497  100.0  0.0\n",
       "PUNT_MATEMATICAS           51.817262  11.876710  100.0  0.0\n",
       "PUNT_C_NATURALES           49.546606  10.752327  100.0  0.0\n",
       "PUNT_SOCIALES_CIUDADANAS   47.635641  12.228414  100.0  0.0\n",
       "PUNT_INGLES                50.693926  12.870041  100.0  0.0\n",
       "PUNT_GLOBAL               253.013211  51.465233  477.0  0.0\n",
       "PERCENTIL_GLOBAL           53.874037  28.723295  100.0  1.0"
      ]
     },
     "execution_count": 4,
     "metadata": {},
     "output_type": "execute_result"
    }
   ],
   "source": [
    "#Descriptivos de cada variable continua\n",
    "#Creando un diccionario que almacena los estadisticos de cada variable\n",
    "descriptivos = {}\n",
    "for variable in variables_continuas:\n",
    "    descriptivos[variable] = []\n",
    "\n",
    "for i, variable in enumerate(variables_continuas):\n",
    "    datos = df_departamentos[variable].describe().loc[['mean', 'std', 'max', 'min']]\n",
    "    descriptivos[variable] = datos\n",
    "    \n",
    "df_desciptivos = pd.DataFrame(descriptivos).transpose()\n",
    "df_desciptivos"
   ]
  },
  {
   "cell_type": "code",
   "execution_count": 18,
   "metadata": {
    "scrolled": false
   },
   "outputs": [
    {
     "data": {
      "text/html": [
       "<div>\n",
       "<style scoped>\n",
       "    .dataframe tbody tr th:only-of-type {\n",
       "        vertical-align: middle;\n",
       "    }\n",
       "\n",
       "    .dataframe tbody tr th {\n",
       "        vertical-align: top;\n",
       "    }\n",
       "\n",
       "    .dataframe thead th {\n",
       "        text-align: right;\n",
       "    }\n",
       "</style>\n",
       "<table border=\"1\" class=\"dataframe\">\n",
       "  <thead>\n",
       "    <tr style=\"text-align: right;\">\n",
       "      <th></th>\n",
       "      <th>ESTU_GENERO</th>\n",
       "      <th>ESTU_DEPTO_RESIDE</th>\n",
       "      <th>FAMI_ESTRATOVIVIENDA</th>\n",
       "      <th>COLE_NATURALEZA</th>\n",
       "      <th>COLE_AREA_UBICACION</th>\n",
       "      <th>COLE_JORNADA</th>\n",
       "      <th>PUNT_LECTURA_CRITICA</th>\n",
       "      <th>PUNT_MATEMATICAS</th>\n",
       "      <th>PUNT_C_NATURALES</th>\n",
       "      <th>PUNT_SOCIALES_CIUDADANAS</th>\n",
       "      <th>PUNT_INGLES</th>\n",
       "      <th>PUNT_GLOBAL</th>\n",
       "      <th>PERCENTIL_GLOBAL</th>\n",
       "    </tr>\n",
       "  </thead>\n",
       "  <tbody>\n",
       "    <tr>\n",
       "      <th>5</th>\n",
       "      <td>M</td>\n",
       "      <td>ATLANTICO</td>\n",
       "      <td>-</td>\n",
       "      <td>NO OFICIAL</td>\n",
       "      <td>URBANO</td>\n",
       "      <td>NOCHE</td>\n",
       "      <td>49</td>\n",
       "      <td>29</td>\n",
       "      <td>41</td>\n",
       "      <td>41</td>\n",
       "      <td>35.0</td>\n",
       "      <td>198</td>\n",
       "      <td>19.0</td>\n",
       "    </tr>\n",
       "    <tr>\n",
       "      <th>17</th>\n",
       "      <td>M</td>\n",
       "      <td>HUILA</td>\n",
       "      <td>Estrato 2</td>\n",
       "      <td>NO OFICIAL</td>\n",
       "      <td>URBANO</td>\n",
       "      <td>COMPLETA</td>\n",
       "      <td>48</td>\n",
       "      <td>54</td>\n",
       "      <td>58</td>\n",
       "      <td>50</td>\n",
       "      <td>55.0</td>\n",
       "      <td>263</td>\n",
       "      <td>64.0</td>\n",
       "    </tr>\n",
       "    <tr>\n",
       "      <th>21</th>\n",
       "      <td>M</td>\n",
       "      <td>BOGOTÃ</td>\n",
       "      <td>Estrato 2</td>\n",
       "      <td>OFICIAL</td>\n",
       "      <td>URBANO</td>\n",
       "      <td>MAÃ‘ANA</td>\n",
       "      <td>57</td>\n",
       "      <td>51</td>\n",
       "      <td>45</td>\n",
       "      <td>38</td>\n",
       "      <td>56.0</td>\n",
       "      <td>242</td>\n",
       "      <td>49.0</td>\n",
       "    </tr>\n",
       "    <tr>\n",
       "      <th>23</th>\n",
       "      <td>M</td>\n",
       "      <td>ATLANTICO</td>\n",
       "      <td>-</td>\n",
       "      <td>OFICIAL</td>\n",
       "      <td>URBANO</td>\n",
       "      <td>UNICA</td>\n",
       "      <td>34</td>\n",
       "      <td>39</td>\n",
       "      <td>38</td>\n",
       "      <td>28</td>\n",
       "      <td>24.0</td>\n",
       "      <td>170</td>\n",
       "      <td>6.0</td>\n",
       "    </tr>\n",
       "    <tr>\n",
       "      <th>27</th>\n",
       "      <td>M</td>\n",
       "      <td>BOGOTÃ</td>\n",
       "      <td>Estrato 2</td>\n",
       "      <td>NO OFICIAL</td>\n",
       "      <td>URBANO</td>\n",
       "      <td>COMPLETA</td>\n",
       "      <td>53</td>\n",
       "      <td>48</td>\n",
       "      <td>43</td>\n",
       "      <td>46</td>\n",
       "      <td>46.0</td>\n",
       "      <td>237</td>\n",
       "      <td>45.0</td>\n",
       "    </tr>\n",
       "  </tbody>\n",
       "</table>\n",
       "</div>"
      ],
      "text/plain": [
       "   ESTU_GENERO ESTU_DEPTO_RESIDE FAMI_ESTRATOVIVIENDA COLE_NATURALEZA  \\\n",
       "5            M         ATLANTICO                    -      NO OFICIAL   \n",
       "17           M             HUILA            Estrato 2      NO OFICIAL   \n",
       "21           M           BOGOTÃ            Estrato 2         OFICIAL   \n",
       "23           M         ATLANTICO                    -         OFICIAL   \n",
       "27           M           BOGOTÃ            Estrato 2      NO OFICIAL   \n",
       "\n",
       "   COLE_AREA_UBICACION COLE_JORNADA  PUNT_LECTURA_CRITICA  PUNT_MATEMATICAS  \\\n",
       "5               URBANO        NOCHE                    49                29   \n",
       "17              URBANO     COMPLETA                    48                54   \n",
       "21              URBANO      MAÃ‘ANA                    57                51   \n",
       "23              URBANO        UNICA                    34                39   \n",
       "27              URBANO     COMPLETA                    53                48   \n",
       "\n",
       "    PUNT_C_NATURALES  PUNT_SOCIALES_CIUDADANAS  PUNT_INGLES  PUNT_GLOBAL  \\\n",
       "5                 41                        41         35.0          198   \n",
       "17                58                        50         55.0          263   \n",
       "21                45                        38         56.0          242   \n",
       "23                38                        28         24.0          170   \n",
       "27                43                        46         46.0          237   \n",
       "\n",
       "    PERCENTIL_GLOBAL  \n",
       "5               19.0  \n",
       "17              64.0  \n",
       "21              49.0  \n",
       "23               6.0  \n",
       "27              45.0  "
      ]
     },
     "execution_count": 18,
     "metadata": {},
     "output_type": "execute_result"
    }
   ],
   "source": [
    "#Identifique los departamentos donde los estudiantes obtuvieron un puntaje en matemáticas mayor a 55, un puntaje en lectura mayor a 60 y un puntaje en ingles mayor a 70 reemplace estos valores por valores perdidos\n",
    "\n",
    "#Puntajes\n",
    "puntaje_matematicas = 55\n",
    "puntaje_lectura = 60\n",
    "puntaje_ingles = 70\n",
    "\n",
    "#Creando filtro y generando nuevo dataframe\n",
    "filtro_matematicas = df_departamentos['PUNT_MATEMATICAS'] < puntaje_matematicas\n",
    "filtro_lectura = df_departamentos['PUNT_LECTURA_CRITICA'] < puntaje_lectura\n",
    "filtro_ingles = df_departamentos['PUNT_INGLES'] < puntaje_ingles\n",
    "\n",
    "df_puntajes = df_departamentos[filtro_matematicas & filtro_lectura & filtro_ingles]\n",
    "df_puntajes.head()"
   ]
  },
  {
   "cell_type": "code",
   "execution_count": 28,
   "metadata": {},
   "outputs": [
    {
     "data": {
      "text/html": [
       "<div>\n",
       "<style scoped>\n",
       "    .dataframe tbody tr th:only-of-type {\n",
       "        vertical-align: middle;\n",
       "    }\n",
       "\n",
       "    .dataframe tbody tr th {\n",
       "        vertical-align: top;\n",
       "    }\n",
       "\n",
       "    .dataframe thead th {\n",
       "        text-align: right;\n",
       "    }\n",
       "</style>\n",
       "<table border=\"1\" class=\"dataframe\">\n",
       "  <thead>\n",
       "    <tr style=\"text-align: right;\">\n",
       "      <th></th>\n",
       "      <th>0</th>\n",
       "    </tr>\n",
       "  </thead>\n",
       "  <tbody>\n",
       "    <tr>\n",
       "      <th>PUNT_LECTURA_CRITICA</th>\n",
       "      <td>None</td>\n",
       "    </tr>\n",
       "    <tr>\n",
       "      <th>PUNT_MATEMATICAS</th>\n",
       "      <td>None</td>\n",
       "    </tr>\n",
       "    <tr>\n",
       "      <th>PUNT_C_NATURALES</th>\n",
       "      <td>None</td>\n",
       "    </tr>\n",
       "    <tr>\n",
       "      <th>PUNT_SOCIALES_CIUDADANAS</th>\n",
       "      <td>None</td>\n",
       "    </tr>\n",
       "    <tr>\n",
       "      <th>PUNT_INGLES</th>\n",
       "      <td>None</td>\n",
       "    </tr>\n",
       "    <tr>\n",
       "      <th>PUNT_GLOBAL</th>\n",
       "      <td>None</td>\n",
       "    </tr>\n",
       "    <tr>\n",
       "      <th>PERCENTIL_GLOBAL</th>\n",
       "      <td>None</td>\n",
       "    </tr>\n",
       "  </tbody>\n",
       "</table>\n",
       "</div>"
      ],
      "text/plain": [
       "                             0\n",
       "PUNT_LECTURA_CRITICA      None\n",
       "PUNT_MATEMATICAS          None\n",
       "PUNT_C_NATURALES          None\n",
       "PUNT_SOCIALES_CIUDADANAS  None\n",
       "PUNT_INGLES               None\n",
       "PUNT_GLOBAL               None\n",
       "PERCENTIL_GLOBAL          None"
      ]
     },
     "execution_count": 28,
     "metadata": {},
     "output_type": "execute_result"
    }
   ],
   "source": [
    "#Creando un diccionario que almacena los valores perdidos\n",
    "valores_perdidos_puntajes = {}\n",
    "for variable in variables_continuas:\n",
    "    valores_perdidos_puntajes[variable] = None\n",
    "\n",
    "#Agregando los valores perdidos a cada variable\n",
    "for i, variable in enumerate(valores_perdidos_puntajes):\n",
    "    valor_perdido = df_puntajes[variable].isna()\n",
    "    perdidos = valor_perdido.sum()\n",
    "    valores_perdidos[variable] = perdidos\n",
    "    \n",
    "df_perdidos_puntajes = pd.DataFrame([valores_perdidos_puntajes]).transpose()\n",
    "df_perdidos_puntajes"
   ]
  },
  {
   "cell_type": "code",
   "execution_count": 29,
   "metadata": {
    "scrolled": true
   },
   "outputs": [
    {
     "data": {
      "text/html": [
       "<div>\n",
       "<style scoped>\n",
       "    .dataframe tbody tr th:only-of-type {\n",
       "        vertical-align: middle;\n",
       "    }\n",
       "\n",
       "    .dataframe tbody tr th {\n",
       "        vertical-align: top;\n",
       "    }\n",
       "\n",
       "    .dataframe thead th {\n",
       "        text-align: right;\n",
       "    }\n",
       "</style>\n",
       "<table border=\"1\" class=\"dataframe\">\n",
       "  <thead>\n",
       "    <tr style=\"text-align: right;\">\n",
       "      <th></th>\n",
       "      <th>mean</th>\n",
       "      <th>std</th>\n",
       "      <th>max</th>\n",
       "      <th>min</th>\n",
       "    </tr>\n",
       "  </thead>\n",
       "  <tbody>\n",
       "    <tr>\n",
       "      <th>PUNT_LECTURA_CRITICA</th>\n",
       "      <td>46.536548</td>\n",
       "      <td>7.559186</td>\n",
       "      <td>59.0</td>\n",
       "      <td>0.0</td>\n",
       "    </tr>\n",
       "    <tr>\n",
       "      <th>PUNT_MATEMATICAS</th>\n",
       "      <td>43.160360</td>\n",
       "      <td>7.579393</td>\n",
       "      <td>54.0</td>\n",
       "      <td>0.0</td>\n",
       "    </tr>\n",
       "    <tr>\n",
       "      <th>PUNT_C_NATURALES</th>\n",
       "      <td>42.640475</td>\n",
       "      <td>7.452929</td>\n",
       "      <td>71.0</td>\n",
       "      <td>0.0</td>\n",
       "    </tr>\n",
       "    <tr>\n",
       "      <th>PUNT_SOCIALES_CIUDADANAS</th>\n",
       "      <td>39.935167</td>\n",
       "      <td>8.413279</td>\n",
       "      <td>74.0</td>\n",
       "      <td>0.0</td>\n",
       "    </tr>\n",
       "    <tr>\n",
       "      <th>PUNT_INGLES</th>\n",
       "      <td>43.269617</td>\n",
       "      <td>9.182441</td>\n",
       "      <td>69.0</td>\n",
       "      <td>0.0</td>\n",
       "    </tr>\n",
       "    <tr>\n",
       "      <th>PUNT_GLOBAL</th>\n",
       "      <td>215.418975</td>\n",
       "      <td>31.258239</td>\n",
       "      <td>305.0</td>\n",
       "      <td>0.0</td>\n",
       "    </tr>\n",
       "    <tr>\n",
       "      <th>PERCENTIL_GLOBAL</th>\n",
       "      <td>32.152879</td>\n",
       "      <td>18.883260</td>\n",
       "      <td>86.0</td>\n",
       "      <td>1.0</td>\n",
       "    </tr>\n",
       "  </tbody>\n",
       "</table>\n",
       "</div>"
      ],
      "text/plain": [
       "                                mean        std    max  min\n",
       "PUNT_LECTURA_CRITICA       46.536548   7.559186   59.0  0.0\n",
       "PUNT_MATEMATICAS           43.160360   7.579393   54.0  0.0\n",
       "PUNT_C_NATURALES           42.640475   7.452929   71.0  0.0\n",
       "PUNT_SOCIALES_CIUDADANAS   39.935167   8.413279   74.0  0.0\n",
       "PUNT_INGLES                43.269617   9.182441   69.0  0.0\n",
       "PUNT_GLOBAL               215.418975  31.258239  305.0  0.0\n",
       "PERCENTIL_GLOBAL           32.152879  18.883260   86.0  1.0"
      ]
     },
     "execution_count": 29,
     "metadata": {},
     "output_type": "execute_result"
    }
   ],
   "source": [
    "#Descriptivos de cada variable continua\n",
    "#Creando un diccionario que almacena los estadisticos de cada variable\n",
    "descriptivos_puntajes = {}\n",
    "for variable in variables_continuas:\n",
    "    descriptivos_puntajes[variable] = []\n",
    "\n",
    "for i, variable in enumerate(variables_continuas):\n",
    "    datos = df_puntajes[variable].describe().loc[['mean', 'std', 'max', 'min']]\n",
    "    descriptivos_puntajes[variable] = datos\n",
    "    \n",
    "df_desciptivos_puntajes = pd.DataFrame(descriptivos_puntajes).transpose()\n",
    "df_desciptivos_puntajes"
   ]
  },
  {
   "cell_type": "code",
   "execution_count": 31,
   "metadata": {
    "scrolled": true
   },
   "outputs": [
    {
     "data": {
      "text/html": [
       "<div>\n",
       "<style scoped>\n",
       "    .dataframe tbody tr th:only-of-type {\n",
       "        vertical-align: middle;\n",
       "    }\n",
       "\n",
       "    .dataframe tbody tr th {\n",
       "        vertical-align: top;\n",
       "    }\n",
       "\n",
       "    .dataframe thead th {\n",
       "        text-align: right;\n",
       "    }\n",
       "</style>\n",
       "<table border=\"1\" class=\"dataframe\">\n",
       "  <thead>\n",
       "    <tr style=\"text-align: right;\">\n",
       "      <th></th>\n",
       "      <th>Media 1</th>\n",
       "      <th>Std 1</th>\n",
       "      <th>Max 1</th>\n",
       "      <th>Min 1</th>\n",
       "      <th>Media 2</th>\n",
       "      <th>Std 2</th>\n",
       "      <th>Max 2</th>\n",
       "      <th>Min 2</th>\n",
       "    </tr>\n",
       "  </thead>\n",
       "  <tbody>\n",
       "    <tr>\n",
       "      <th>PUNT_LECTURA_CRITICA</th>\n",
       "      <td>53.380226</td>\n",
       "      <td>10.416497</td>\n",
       "      <td>100.0</td>\n",
       "      <td>0.0</td>\n",
       "      <td>46.536548</td>\n",
       "      <td>7.559186</td>\n",
       "      <td>59.0</td>\n",
       "      <td>0.0</td>\n",
       "    </tr>\n",
       "    <tr>\n",
       "      <th>PUNT_MATEMATICAS</th>\n",
       "      <td>51.817262</td>\n",
       "      <td>11.876710</td>\n",
       "      <td>100.0</td>\n",
       "      <td>0.0</td>\n",
       "      <td>43.160360</td>\n",
       "      <td>7.579393</td>\n",
       "      <td>54.0</td>\n",
       "      <td>0.0</td>\n",
       "    </tr>\n",
       "    <tr>\n",
       "      <th>PUNT_C_NATURALES</th>\n",
       "      <td>49.546606</td>\n",
       "      <td>10.752327</td>\n",
       "      <td>100.0</td>\n",
       "      <td>0.0</td>\n",
       "      <td>42.640475</td>\n",
       "      <td>7.452929</td>\n",
       "      <td>71.0</td>\n",
       "      <td>0.0</td>\n",
       "    </tr>\n",
       "    <tr>\n",
       "      <th>PUNT_SOCIALES_CIUDADANAS</th>\n",
       "      <td>47.635641</td>\n",
       "      <td>12.228414</td>\n",
       "      <td>100.0</td>\n",
       "      <td>0.0</td>\n",
       "      <td>39.935167</td>\n",
       "      <td>8.413279</td>\n",
       "      <td>74.0</td>\n",
       "      <td>0.0</td>\n",
       "    </tr>\n",
       "    <tr>\n",
       "      <th>PUNT_INGLES</th>\n",
       "      <td>50.693926</td>\n",
       "      <td>12.870041</td>\n",
       "      <td>100.0</td>\n",
       "      <td>0.0</td>\n",
       "      <td>43.269617</td>\n",
       "      <td>9.182441</td>\n",
       "      <td>69.0</td>\n",
       "      <td>0.0</td>\n",
       "    </tr>\n",
       "    <tr>\n",
       "      <th>PUNT_GLOBAL</th>\n",
       "      <td>253.013211</td>\n",
       "      <td>51.465233</td>\n",
       "      <td>477.0</td>\n",
       "      <td>0.0</td>\n",
       "      <td>215.418975</td>\n",
       "      <td>31.258239</td>\n",
       "      <td>305.0</td>\n",
       "      <td>0.0</td>\n",
       "    </tr>\n",
       "    <tr>\n",
       "      <th>PERCENTIL_GLOBAL</th>\n",
       "      <td>53.874037</td>\n",
       "      <td>28.723295</td>\n",
       "      <td>100.0</td>\n",
       "      <td>1.0</td>\n",
       "      <td>32.152879</td>\n",
       "      <td>18.883260</td>\n",
       "      <td>86.0</td>\n",
       "      <td>1.0</td>\n",
       "    </tr>\n",
       "  </tbody>\n",
       "</table>\n",
       "</div>"
      ],
      "text/plain": [
       "                             Media 1      Std 1  Max 1  Min 1     Media 2  \\\n",
       "PUNT_LECTURA_CRITICA       53.380226  10.416497  100.0    0.0   46.536548   \n",
       "PUNT_MATEMATICAS           51.817262  11.876710  100.0    0.0   43.160360   \n",
       "PUNT_C_NATURALES           49.546606  10.752327  100.0    0.0   42.640475   \n",
       "PUNT_SOCIALES_CIUDADANAS   47.635641  12.228414  100.0    0.0   39.935167   \n",
       "PUNT_INGLES                50.693926  12.870041  100.0    0.0   43.269617   \n",
       "PUNT_GLOBAL               253.013211  51.465233  477.0    0.0  215.418975   \n",
       "PERCENTIL_GLOBAL           53.874037  28.723295  100.0    1.0   32.152879   \n",
       "\n",
       "                              Std 2  Max 2  Min 2  \n",
       "PUNT_LECTURA_CRITICA       7.559186   59.0    0.0  \n",
       "PUNT_MATEMATICAS           7.579393   54.0    0.0  \n",
       "PUNT_C_NATURALES           7.452929   71.0    0.0  \n",
       "PUNT_SOCIALES_CIUDADANAS   8.413279   74.0    0.0  \n",
       "PUNT_INGLES                9.182441   69.0    0.0  \n",
       "PUNT_GLOBAL               31.258239  305.0    0.0  \n",
       "PERCENTIL_GLOBAL          18.883260   86.0    1.0  "
      ]
     },
     "execution_count": 31,
     "metadata": {},
     "output_type": "execute_result"
    }
   ],
   "source": [
    "# Compare los resultados con los hallados los 2 literales anteriores y comente. \n",
    "columnas_df_descriptivos = ['Media 1', 'Std 1', 'Max 1', 'Min 1', 'Media 2', 'Std 2', 'Max 2', 'Min 2']\n",
    "data_frame_descriptivos = pd.concat([df_desciptivos, df_desciptivos_puntajes], axis=1)\n",
    "data_frame_descriptivos.columns = columnas_df_descriptivos\n",
    "data_frame_descriptivos"
   ]
  },
  {
   "cell_type": "code",
   "execution_count": 50,
   "metadata": {},
   "outputs": [],
   "source": [
    "df_medias = data_frame_descriptivos[['Media 1', 'Media 2']]\n"
   ]
  },
  {
   "cell_type": "code",
   "execution_count": null,
   "metadata": {},
   "outputs": [],
   "source": [
    "#TODO: realizar pruebas pareadas de media con T student "
   ]
  },
  {
   "cell_type": "markdown",
   "metadata": {
    "nbgrader": {
     "grade": false,
     "grade_id": "eje-task",
     "locked": true,
     "schema_version": 3,
     "solution": false,
     "task": false
    }
   },
   "source": [
    "b. (5%) Compare en una tabla los puntajes de matemáticas, lectura y ciencias naturales, e ilustre gráficamente con gráficas de caja para cada una de las materias. Comente."
   ]
  },
  {
   "cell_type": "code",
   "execution_count": 35,
   "metadata": {
    "nbgrader": {
     "grade": false,
     "grade_id": "eje-sol",
     "locked": true,
     "schema_version": 3,
     "solution": false,
     "task": false
    },
    "scrolled": true
   },
   "outputs": [
    {
     "data": {
      "text/html": [
       "<div>\n",
       "<style scoped>\n",
       "    .dataframe tbody tr th:only-of-type {\n",
       "        vertical-align: middle;\n",
       "    }\n",
       "\n",
       "    .dataframe tbody tr th {\n",
       "        vertical-align: top;\n",
       "    }\n",
       "\n",
       "    .dataframe thead th {\n",
       "        text-align: right;\n",
       "    }\n",
       "</style>\n",
       "<table border=\"1\" class=\"dataframe\">\n",
       "  <thead>\n",
       "    <tr style=\"text-align: right;\">\n",
       "      <th></th>\n",
       "      <th>PUNT_C_NATURALES</th>\n",
       "      <th>PUNT_LECTURA_CRITICA</th>\n",
       "      <th>PUNT_MATEMATICAS</th>\n",
       "    </tr>\n",
       "    <tr>\n",
       "      <th>ESTU_DEPTO_RESIDE</th>\n",
       "      <th></th>\n",
       "      <th></th>\n",
       "      <th></th>\n",
       "    </tr>\n",
       "  </thead>\n",
       "  <tbody>\n",
       "    <tr>\n",
       "      <th>ATLANTICO</th>\n",
       "      <td>41.558777</td>\n",
       "      <td>45.431422</td>\n",
       "      <td>42.173478</td>\n",
       "    </tr>\n",
       "    <tr>\n",
       "      <th>BOGOTÃ</th>\n",
       "      <td>44.199854</td>\n",
       "      <td>48.069953</td>\n",
       "      <td>44.746252</td>\n",
       "    </tr>\n",
       "    <tr>\n",
       "      <th>HUILA</th>\n",
       "      <td>42.899467</td>\n",
       "      <td>46.083756</td>\n",
       "      <td>43.350241</td>\n",
       "    </tr>\n",
       "    <tr>\n",
       "      <th>LA GUAJIRA</th>\n",
       "      <td>39.555802</td>\n",
       "      <td>43.146933</td>\n",
       "      <td>40.203548</td>\n",
       "    </tr>\n",
       "    <tr>\n",
       "      <th>VALLE</th>\n",
       "      <td>41.987495</td>\n",
       "      <td>46.263250</td>\n",
       "      <td>42.373118</td>\n",
       "    </tr>\n",
       "  </tbody>\n",
       "</table>\n",
       "</div>"
      ],
      "text/plain": [
       "                   PUNT_C_NATURALES  PUNT_LECTURA_CRITICA  PUNT_MATEMATICAS\n",
       "ESTU_DEPTO_RESIDE                                                          \n",
       "ATLANTICO                 41.558777             45.431422         42.173478\n",
       "BOGOTÃ                   44.199854             48.069953         44.746252\n",
       "HUILA                     42.899467             46.083756         43.350241\n",
       "LA GUAJIRA                39.555802             43.146933         40.203548\n",
       "VALLE                     41.987495             46.263250         42.373118"
      ]
     },
     "execution_count": 35,
     "metadata": {},
     "output_type": "execute_result"
    }
   ],
   "source": [
    "# Implementa tu respuesta en esta celda\n",
    "tabla_dinamica = pd.pivot_table(df_puntajes, values=['PUNT_MATEMATICAS', 'PUNT_C_NATURALES','PUNT_LECTURA_CRITICA'], index='ESTU_DEPTO_RESIDE', aggfunc='mean')\n",
    "tabla_dinamica    "
   ]
  },
  {
   "cell_type": "code",
   "execution_count": 37,
   "metadata": {},
   "outputs": [
    {
     "data": {
      "image/png": "[encoded data removed]",
      "text/plain": [
       "<Figure size 1000x600 with 1 Axes>"
      ]
     },
     "metadata": {},
     "output_type": "display_data"
    }
   ],
   "source": [
    "plt.figure(figsize=(10, 6))\n",
    "df_puntajes.boxplot(column=['PUNT_MATEMATICAS', 'PUNT_C_NATURALES','PUNT_LECTURA_CRITICA'])\n",
    "plt.title('Puntajes por Materia')\n",
    "plt.ylabel('Puntaje')\n",
    "plt.xlabel('Materias')\n",
    "plt.show()"
   ]
  },
  {
   "cell_type": "markdown",
   "metadata": {
    "nbgrader": {
     "grade": false,
     "grade_id": "ej1-enun",
     "locked": true,
     "schema_version": 3,
     "solution": false,
     "task": false
    }
   },
   "source": [
    "c. (5%) Identifique el departamento que tiene los puntajes globales más altos. Identifique el que tiene los mejores puntajes en matemáticas."
   ]
  },
  {
   "cell_type": "code",
   "execution_count": 6,
   "metadata": {
    "nbgrader": {
     "grade": false,
     "grade_id": "ej1-sol",
     "locked": false,
     "schema_version": 3,
     "solution": true,
     "task": false
    },
    "nombre": "Ej1"
   },
   "outputs": [],
   "source": [
    "# Implementa tu respuesta en esta celda\n",
    "comparativo_puntahes = df_puntajes[['PUNT_MATEMATICAS', 'PUNT_C_NATURALES','PUNT_LECTURA_CRITICA']]\n",
    "medias_comparativo = comparativo.mean()\n",
    "print(medias_comparativo)\n",
    "plt.figure(figsize=(10, 6)) \n",
    "medias_comparativo.plot(kind='bar', color='skyblue', alpha=0.7)\n",
    "plt.title('Medias de los puntajes')\n",
    "plt.xlabel('Materias')\n",
    "plt.ylabel('Media')\n",
    "plt.xticks(rotation=0)  # Opcional: ajustar la orientación de las etiquetas en el eje x\n",
    "plt.grid(axis='y', linestyle='--', alpha=0.7)  # Opcional: agregar una cuadrícula en el eje y\n",
    "plt.show()"
   ]
  },
  {
   "cell_type": "markdown",
   "metadata": {
    "nbgrader": {
     "grade": false,
     "grade_id": "ej1-task",
     "locked": true,
     "schema_version": 3,
     "solution": false,
     "task": false
    }
   },
   "source": [
    "d. (5%) Muestre en una tabla el número de estudiantes que pertenece a colegios oficiales y no oficiales. Ilustre mediante una gráfica. ¿Cree Ud. que los resultados del puntaje global se ven influenciado por el tipo de colegio?"
   ]
  },
  {
   "cell_type": "code",
   "execution_count": 7,
   "metadata": {
    "nbgrader": {
     "grade": true,
     "grade_id": "ej1-test",
     "locked": true,
     "points": 1,
     "schema_version": 3,
     "solution": false,
     "task": false
    }
   },
   "outputs": [],
   "source": [
    "# Implementa tu respuesta en esta celda\n",
    "\n"
   ]
  },
  {
   "cell_type": "markdown",
   "metadata": {
    "nbgrader": {
     "grade": false,
     "grade_id": "ej2-enun",
     "locked": true,
     "schema_version": 3,
     "solution": false,
     "task": false
    }
   },
   "source": [
    "e. (5%) ¿Cree usted que hay alguna relación entre el puntaje global y el estrato del \n",
    "estudiante? "
   ]
  },
  {
   "cell_type": "code",
   "execution_count": 8,
   "metadata": {
    "nbgrader": {
     "grade": false,
     "grade_id": "ej2-data",
     "locked": true,
     "schema_version": 3,
     "solution": false,
     "task": false
    }
   },
   "outputs": [],
   "source": [
    "# No modifiques esta celda\n",
    "\n"
   ]
  },
  {
   "cell_type": "markdown",
   "metadata": {
    "nbgrader": {
     "grade": false,
     "grade_id": "ej2-task",
     "locked": true,
     "schema_version": 3,
     "solution": false,
     "task": false
    }
   },
   "source": [
    "## Ejercicio 2\n",
    "\n",
    "(30%) Teniendo en cuenta los resultados obtenidos por los estudiantes en sus pruebas ICFES una academia dedicada a cursos pre-icfes decidió ofertar una variedad de cursos con el fin de lograr que los estudiantes obtengan puntajes mayores a 400 puntos. La academia optó por desarrollar 4 cursos distintos, estos están pensados variando la intensidad de horas de la siguiente manera; intensivo (2 horas díarias), semi-intensivo (4 horas semanales), semanal (5 horas en un solo día) y super intensivo (3 horas diarias).En la base de datos cursos.cvs, encontrara los resultados obtenidos por los estudiantes de acuerdo con el curso tomado. Con base en la información, conteste las siguientes preguntas: <br>"
   ]
  },
  {
   "cell_type": "markdown",
   "metadata": {
    "nbgrader": {
     "grade": false,
     "grade_id": "ej2-task",
     "locked": true,
     "schema_version": 3,
     "solution": false,
     "task": false
    }
   },
   "source": [
    "a. (10%) Realice estadísticas descriptivas (promedio, frecuencia, desviación, entre otros) que permitan observar diferencias de los puntajes obtenidos por los estudiantes según el curso tomado y concluya"
   ]
  },
  {
   "cell_type": "code",
   "execution_count": 9,
   "metadata": {},
   "outputs": [],
   "source": [
    "# Implementa tu respuesta en esta celda\n",
    "\n"
   ]
  },
  {
   "cell_type": "markdown",
   "metadata": {
    "nbgrader": {
     "grade": false,
     "grade_id": "ej2-task",
     "locked": true,
     "schema_version": 3,
     "solution": false,
     "task": false
    }
   },
   "source": [
    "b. (10%) Un estudiante que se encuentra indeciso por el curso a tomar considera que el \n",
    "curso intensivo y el curso super intensivo no tienen ninguna diferencia. ¿Está de acuerdo \n",
    "con esta afirmación?"
   ]
  },
  {
   "cell_type": "code",
   "execution_count": 10,
   "metadata": {
    "nbgrader": {
     "grade": false,
     "grade_id": "ej2-sol",
     "locked": false,
     "schema_version": 3,
     "solution": true,
     "task": false
    },
    "nombre": "Ej2"
   },
   "outputs": [],
   "source": [
    "# Implementa tu respuesta en esta celda\n",
    "\n"
   ]
  },
  {
   "cell_type": "markdown",
   "metadata": {
    "nbgrader": {
     "grade": false,
     "grade_id": "ej2-task",
     "locked": true,
     "schema_version": 3,
     "solution": false,
     "task": false
    }
   },
   "source": [
    "c. (10%) Uno de los profesores de la academia desea conocer los puntajes promedio de los estudiantes con el fin de establecer estrategias para que algún estudiante tenga un puntaje mayor a 483 que es el mejor de la academia, ¿cree usted que el profesor puede ayudar a sus estudiantes sugiriéndoles que tomen el curso semanal? ¿Qué curso cree usted que debe sugerir el profesor a sus estudiantes teniendo en cuenta los resultados que se han obtenido? <br>"
   ]
  },
  {
   "cell_type": "code",
   "execution_count": 11,
   "metadata": {
    "nbgrader": {
     "grade": false,
     "grade_id": "ej2-sol",
     "locked": false,
     "schema_version": 3,
     "solution": true,
     "task": false
    },
    "nombre": "Ej2"
   },
   "outputs": [],
   "source": [
    "# Implementa tu respuesta en esta celda\n",
    "\n"
   ]
  },
  {
   "cell_type": "markdown",
   "metadata": {
    "nbgrader": {
     "grade": false,
     "grade_id": "ej2-task",
     "locked": true,
     "schema_version": 3,
     "solution": false,
     "task": false
    }
   },
   "source": [
    "## Ejercicio 3\n",
    "\n",
    "(30%) Battlife se dedica a la producción de baterías, se sabe la vida útil promedio de sus baterías siguen una distribución normal con una media de 800 horas y una varianza 𝜎2. Un grupo de ingenieros quieren verificar que esta afirmación sea veraz, por lo tanto deciden tomar una muestra aleatoria de 30 baterías con las cuales obtienen que la vida útil promedio es de 790 horas, con una desviación estándar muestral de 50 horas."
   ]
  },
  {
   "cell_type": "markdown",
   "metadata": {
    "nbgrader": {
     "grade": false,
     "grade_id": "ej2-task",
     "locked": true,
     "schema_version": 3,
     "solution": false,
     "task": false
    }
   },
   "source": [
    "a. (10%) ¿Cuál es la probabilidad de que la vida útil promedio real de las baterías sea \n",
    "menor a 780 horas?"
   ]
  },
  {
   "cell_type": "code",
   "execution_count": 12,
   "metadata": {
    "nbgrader": {
     "grade": false,
     "grade_id": "ej2-sol",
     "locked": false,
     "schema_version": 3,
     "solution": true,
     "task": false
    },
    "nombre": "Ej2"
   },
   "outputs": [],
   "source": [
    "# Implementa tu respuesta en esta celda\n",
    "\n"
   ]
  },
  {
   "cell_type": "markdown",
   "metadata": {
    "nbgrader": {
     "grade": false,
     "grade_id": "ej2-task",
     "locked": true,
     "schema_version": 3,
     "solution": false,
     "task": false
    }
   },
   "source": [
    "b. (10%) Un comprador está interesado en adquirir un lote de baterías, sin embargo, solicitó que, en una muestra de 40 baterías, la variabilidad de las vidas útiles no debe exceder 5 horas. Calcule la probabilidad de que la varianza de las vidas útiles de una muestra de 40 baterías supere este valor."
   ]
  },
  {
   "cell_type": "code",
   "execution_count": 13,
   "metadata": {
    "nbgrader": {
     "grade": false,
     "grade_id": "ej2-sol",
     "locked": false,
     "schema_version": 3,
     "solution": true,
     "task": false
    },
    "nombre": "Ej2"
   },
   "outputs": [],
   "source": [
    "# Implementa tu respuesta en esta celda\n",
    "\n"
   ]
  },
  {
   "cell_type": "markdown",
   "metadata": {
    "nbgrader": {
     "grade": false,
     "grade_id": "ej3-task",
     "locked": true,
     "schema_version": 3,
     "solution": false,
     "task": false
    }
   },
   "source": [
    "c. (10%) El área de desarrollo esta haciendo un estudio de mercado dado que desean que las baterías producidas sean las que tengan la mejor vida útil del mercado. Por lo cual, se han obtenido los resultados de una empresa competidora “BattteriesInc”. De “BattteriesInc”. se conoce que la vida útil promedio de las baterías es de 885 horas con una desviación estándar de 30 horas. Se tomó una muestra aleatoria de 20 baterías de Battlife y 15 baterías de BattteriesInc. Asumiendo que las variables aleatorias son independientes, ¿cuál es la probabilidad de que la varianza muestral de la vida útil producida por Battlife menor a la varianza muestral del espesor de la vida útil de BatteriesInc?"
   ]
  },
  {
   "cell_type": "code",
   "execution_count": 14,
   "metadata": {
    "nbgrader": {
     "grade": false,
     "grade_id": "ej2-sol",
     "locked": false,
     "schema_version": 3,
     "solution": true,
     "task": false
    },
    "nombre": "Ej2"
   },
   "outputs": [],
   "source": [
    "# Implementa tu respuesta en esta celda\n",
    "\n"
   ]
  },
  {
   "cell_type": "markdown",
   "metadata": {
    "nbgrader": {
     "grade": false,
     "grade_id": "creds",
     "locked": true,
     "schema_version": 3,
     "solution": false,
     "task": false
    }
   },
   "source": [
    "## Créditos\n",
    "\n",
    "__Autores__: Laura Valentina Diaz Pinzon\n",
    "\n",
    "__Actualizado por__: Alejandra Tabares Pozos. \n",
    "\n",
    "__Fecha última actualización__: 01/09/2023"
   ]
  }
 ],
 "metadata": {
  "celltoolbar": "Create Assignment",
  "kernelspec": {
   "display_name": "Python 3 (ipykernel)",
   "language": "python",
   "name": "python3"
  },
  "language_info": {
   "codemirror_mode": {
    "name": "ipython",
    "version": 3
   },
   "file_extension": ".py",
   "mimetype": "text/x-python",
   "name": "python",
   "nbconvert_exporter": "python",
   "pygments_lexer": "ipython3",
   "version": "3.11.4"
  }
 },
 "nbformat": 4,
 "nbformat_minor": 2
}
