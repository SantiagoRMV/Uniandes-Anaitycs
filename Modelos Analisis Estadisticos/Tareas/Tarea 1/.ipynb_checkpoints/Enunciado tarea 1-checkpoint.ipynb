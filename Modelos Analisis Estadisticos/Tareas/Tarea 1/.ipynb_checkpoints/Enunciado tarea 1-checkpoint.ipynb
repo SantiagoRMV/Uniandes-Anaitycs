{
 "cells": [
  {
   "cell_type": "markdown",
   "metadata": {
    "nbgrader": {
     "grade": false,
     "grade_id": "header",
     "locked": true,
     "schema_version": 3,
     "solution": false,
     "task": false
    },
    "tags": [
     "{}"
    ]
   },
   "source": [
    "<img src=\"Archivos/miad4.png\" width=900x>\n",
    "\n",
    " # TAREA 1\n",
    "\n",
    "**Departamento de Ingeniería Industrial.**\n",
    "\n",
    "**Maestría en Inteligencia Analítica para la Toma de Decisiones (Analytics).**\n",
    "\n",
    "**Modelos de Análisis Estadístico (MIIA 4100) - 202320.**\n",
    "\n",
    "Por ningún motivo se recibirán entregas posteriores a la hora límite. En caso de no realizar la entrega la nota asignada será 0.\n",
    "\n",
    "Notas: La entrega del taller deberá hacerse en un informe autocontenido incluyendo las **gráficas,interpretación y conclusiones**. Adicionalmente debe entregarse el código utilizado en un archivo ipynb, de considerar necesario comentar todas las partes del codigo que crean necesarias para el entendimiento del codigo.\n",
    "\n",
    "Para todos los literales que lo requieran, se recomienda utilizar una significancia del 5% (confianza del 95%). En caso de utilizar otro nivel de significancia, hacerlo explícito en el informe.\n",
    "\n",
    "______________________________________________________________________\n",
    "\n"
   ]
  },
  {
   "cell_type": "markdown",
   "metadata": {
    "nbgrader": {
     "grade": false,
     "grade_id": "eje-enun",
     "locked": true,
     "schema_version": 3,
     "solution": false,
     "task": false
    }
   },
   "source": [
    "## Ejercicio 1\n",
    "(40%) La base de datos contenida en resultadosicfes.csv tiene información de los \n",
    "resultados obtenidos en 2019, estos resultados muestran todos los departamentos de \n",
    "Colombia, por favor tomar como muestra los resultados de los siguientes 5 departamentos; La \n",
    "Guajira, Valle, Atlántico, Bogotá (la cual en las estadísticas se tiene como departamento) y \n",
    "Huila. El objetivo es realizar un análisis exploratorio de los datos.\n"
   ]
  },
  {
   "cell_type": "markdown",
   "metadata": {
    "nbgrader": {
     "grade": false,
     "grade_id": "eje-enun",
     "locked": true,
     "schema_version": 3,
     "solution": false,
     "task": false
    }
   },
   "source": [
    "a. (20%) Identifique las variables continuas y para CADA UNA de éstas:\n",
    "- Determine cuántos valores perdidos tiene cada una.\n",
    "- Calcule la media, desviación estándar, máximo y mínimo.\n",
    "- Identifique los departamentos donde los estudiantes obtuvieron un puntaje en matemáticas mayor a 55, un puntaje en lectura mayor a 60 y un puntaje en ingles mayor a 70 reemplace estos valores por valores perdidos. En lo que sigue trabaje con estas variables corregidas.<br> \n",
    "- Calcule nuevamente la media, desviación estándar, máximo, mínimo. Compare los resultados con los hallados los 2 literales anteriores y comente. "
   ]
  },
  {
   "cell_type": "code",
   "execution_count": 1,
   "metadata": {},
   "outputs": [],
   "source": [
    "#Importando librerías\n",
    "import numpy as np\n",
    "import pandas as pd\n",
    "import matplotlib.pyplot as plt"
   ]
  },
  {
   "cell_type": "code",
   "execution_count": 2,
   "metadata": {
    "nbgrader": {
     "grade": false,
     "grade_id": "eje-data",
     "locked": true,
     "schema_version": 3,
     "solution": false,
     "task": false
    },
    "scrolled": false
   },
   "outputs": [
    {
     "data": {
      "text/html": [
       "<div>\n",
       "<style scoped>\n",
       "    .dataframe tbody tr th:only-of-type {\n",
       "        vertical-align: middle;\n",
       "    }\n",
       "\n",
       "    .dataframe tbody tr th {\n",
       "        vertical-align: top;\n",
       "    }\n",
       "\n",
       "    .dataframe thead th {\n",
       "        text-align: right;\n",
       "    }\n",
       "</style>\n",
       "<table border=\"1\" class=\"dataframe\">\n",
       "  <thead>\n",
       "    <tr style=\"text-align: right;\">\n",
       "      <th></th>\n",
       "      <th>ESTU_GENERO</th>\n",
       "      <th>ESTU_DEPTO_RESIDE</th>\n",
       "      <th>FAMI_ESTRATOVIVIENDA</th>\n",
       "      <th>COLE_NATURALEZA</th>\n",
       "      <th>COLE_AREA_UBICACION</th>\n",
       "      <th>COLE_JORNADA</th>\n",
       "      <th>PUNT_LECTURA_CRITICA</th>\n",
       "      <th>PUNT_MATEMATICAS</th>\n",
       "      <th>PUNT_C_NATURALES</th>\n",
       "      <th>PUNT_SOCIALES_CIUDADANAS</th>\n",
       "      <th>PUNT_INGLES</th>\n",
       "      <th>PUNT_GLOBAL</th>\n",
       "      <th>PERCENTIL_GLOBAL</th>\n",
       "    </tr>\n",
       "  </thead>\n",
       "  <tbody>\n",
       "    <tr>\n",
       "      <th>0</th>\n",
       "      <td>M</td>\n",
       "      <td>MAGDALENA</td>\n",
       "      <td>Estrato 3</td>\n",
       "      <td>OFICIAL</td>\n",
       "      <td>URBANO</td>\n",
       "      <td>MAÃ‘ANA</td>\n",
       "      <td>47</td>\n",
       "      <td>48</td>\n",
       "      <td>37</td>\n",
       "      <td>30</td>\n",
       "      <td>54.0</td>\n",
       "      <td>208</td>\n",
       "      <td>25.0</td>\n",
       "    </tr>\n",
       "    <tr>\n",
       "      <th>1</th>\n",
       "      <td>M</td>\n",
       "      <td>BOGOTÃ</td>\n",
       "      <td>Estrato 3</td>\n",
       "      <td>NO OFICIAL</td>\n",
       "      <td>URBANO</td>\n",
       "      <td>COMPLETA</td>\n",
       "      <td>60</td>\n",
       "      <td>65</td>\n",
       "      <td>54</td>\n",
       "      <td>59</td>\n",
       "      <td>63.0</td>\n",
       "      <td>299</td>\n",
       "      <td>83.0</td>\n",
       "    </tr>\n",
       "    <tr>\n",
       "      <th>2</th>\n",
       "      <td>M</td>\n",
       "      <td>BOLIVAR</td>\n",
       "      <td>Estrato 1</td>\n",
       "      <td>OFICIAL</td>\n",
       "      <td>URBANO</td>\n",
       "      <td>MAÃ‘ANA</td>\n",
       "      <td>66</td>\n",
       "      <td>57</td>\n",
       "      <td>41</td>\n",
       "      <td>74</td>\n",
       "      <td>64.0</td>\n",
       "      <td>299</td>\n",
       "      <td>84.0</td>\n",
       "    </tr>\n",
       "    <tr>\n",
       "      <th>3</th>\n",
       "      <td>M</td>\n",
       "      <td>BOGOTÃ</td>\n",
       "      <td>Estrato 3</td>\n",
       "      <td>OFICIAL</td>\n",
       "      <td>URBANO</td>\n",
       "      <td>MAÃ‘ANA</td>\n",
       "      <td>62</td>\n",
       "      <td>54</td>\n",
       "      <td>61</td>\n",
       "      <td>73</td>\n",
       "      <td>53.0</td>\n",
       "      <td>309</td>\n",
       "      <td>88.0</td>\n",
       "    </tr>\n",
       "    <tr>\n",
       "      <th>4</th>\n",
       "      <td>M</td>\n",
       "      <td>BOGOTÃ</td>\n",
       "      <td>Estrato 3</td>\n",
       "      <td>OFICIAL</td>\n",
       "      <td>URBANO</td>\n",
       "      <td>MAÃ‘ANA</td>\n",
       "      <td>63</td>\n",
       "      <td>57</td>\n",
       "      <td>55</td>\n",
       "      <td>57</td>\n",
       "      <td>52.0</td>\n",
       "      <td>288</td>\n",
       "      <td>78.0</td>\n",
       "    </tr>\n",
       "    <tr>\n",
       "      <th>...</th>\n",
       "      <td>...</td>\n",
       "      <td>...</td>\n",
       "      <td>...</td>\n",
       "      <td>...</td>\n",
       "      <td>...</td>\n",
       "      <td>...</td>\n",
       "      <td>...</td>\n",
       "      <td>...</td>\n",
       "      <td>...</td>\n",
       "      <td>...</td>\n",
       "      <td>...</td>\n",
       "      <td>...</td>\n",
       "      <td>...</td>\n",
       "    </tr>\n",
       "    <tr>\n",
       "      <th>546207</th>\n",
       "      <td>M</td>\n",
       "      <td>ANTIOQUIA</td>\n",
       "      <td>Estrato 2</td>\n",
       "      <td>OFICIAL</td>\n",
       "      <td>URBANO</td>\n",
       "      <td>MAÃ‘ANA</td>\n",
       "      <td>76</td>\n",
       "      <td>78</td>\n",
       "      <td>65</td>\n",
       "      <td>74</td>\n",
       "      <td>58.0</td>\n",
       "      <td>360</td>\n",
       "      <td>99.0</td>\n",
       "    </tr>\n",
       "    <tr>\n",
       "      <th>546208</th>\n",
       "      <td>M</td>\n",
       "      <td>BOGOTÃ</td>\n",
       "      <td>Estrato 3</td>\n",
       "      <td>NO OFICIAL</td>\n",
       "      <td>URBANO</td>\n",
       "      <td>COMPLETA</td>\n",
       "      <td>75</td>\n",
       "      <td>73</td>\n",
       "      <td>72</td>\n",
       "      <td>67</td>\n",
       "      <td>74.0</td>\n",
       "      <td>360</td>\n",
       "      <td>99.0</td>\n",
       "    </tr>\n",
       "    <tr>\n",
       "      <th>546209</th>\n",
       "      <td>M</td>\n",
       "      <td>ARAUCA</td>\n",
       "      <td>Estrato 2</td>\n",
       "      <td>OFICIAL</td>\n",
       "      <td>URBANO</td>\n",
       "      <td>TARDE</td>\n",
       "      <td>72</td>\n",
       "      <td>83</td>\n",
       "      <td>71</td>\n",
       "      <td>77</td>\n",
       "      <td>72.0</td>\n",
       "      <td>377</td>\n",
       "      <td>100.0</td>\n",
       "    </tr>\n",
       "    <tr>\n",
       "      <th>546210</th>\n",
       "      <td>M</td>\n",
       "      <td>SANTANDER</td>\n",
       "      <td>Estrato 1</td>\n",
       "      <td>OFICIAL</td>\n",
       "      <td>URBANO</td>\n",
       "      <td>SABATINA</td>\n",
       "      <td>59</td>\n",
       "      <td>61</td>\n",
       "      <td>54</td>\n",
       "      <td>52</td>\n",
       "      <td>46.0</td>\n",
       "      <td>278</td>\n",
       "      <td>73.0</td>\n",
       "    </tr>\n",
       "    <tr>\n",
       "      <th>546211</th>\n",
       "      <td>M</td>\n",
       "      <td>BOGOTÃ</td>\n",
       "      <td>Estrato 3</td>\n",
       "      <td>OFICIAL</td>\n",
       "      <td>URBANO</td>\n",
       "      <td>MAÃ‘ANA</td>\n",
       "      <td>76</td>\n",
       "      <td>73</td>\n",
       "      <td>72</td>\n",
       "      <td>71</td>\n",
       "      <td>74.0</td>\n",
       "      <td>365</td>\n",
       "      <td>99.0</td>\n",
       "    </tr>\n",
       "  </tbody>\n",
       "</table>\n",
       "<p>546212 rows × 13 columns</p>\n",
       "</div>"
      ],
      "text/plain": [
       "       ESTU_GENERO ESTU_DEPTO_RESIDE FAMI_ESTRATOVIVIENDA COLE_NATURALEZA  \\\n",
       "0                M         MAGDALENA            Estrato 3         OFICIAL   \n",
       "1                M           BOGOTÃ            Estrato 3      NO OFICIAL   \n",
       "2                M           BOLIVAR            Estrato 1         OFICIAL   \n",
       "3                M           BOGOTÃ            Estrato 3         OFICIAL   \n",
       "4                M           BOGOTÃ            Estrato 3         OFICIAL   \n",
       "...            ...               ...                  ...             ...   \n",
       "546207           M         ANTIOQUIA            Estrato 2         OFICIAL   \n",
       "546208           M           BOGOTÃ            Estrato 3      NO OFICIAL   \n",
       "546209           M            ARAUCA            Estrato 2         OFICIAL   \n",
       "546210           M         SANTANDER            Estrato 1         OFICIAL   \n",
       "546211           M           BOGOTÃ            Estrato 3         OFICIAL   \n",
       "\n",
       "       COLE_AREA_UBICACION COLE_JORNADA  PUNT_LECTURA_CRITICA  \\\n",
       "0                   URBANO      MAÃ‘ANA                    47   \n",
       "1                   URBANO     COMPLETA                    60   \n",
       "2                   URBANO      MAÃ‘ANA                    66   \n",
       "3                   URBANO      MAÃ‘ANA                    62   \n",
       "4                   URBANO      MAÃ‘ANA                    63   \n",
       "...                    ...          ...                   ...   \n",
       "546207              URBANO      MAÃ‘ANA                    76   \n",
       "546208              URBANO     COMPLETA                    75   \n",
       "546209              URBANO        TARDE                    72   \n",
       "546210              URBANO     SABATINA                    59   \n",
       "546211              URBANO      MAÃ‘ANA                    76   \n",
       "\n",
       "        PUNT_MATEMATICAS  PUNT_C_NATURALES  PUNT_SOCIALES_CIUDADANAS  \\\n",
       "0                     48                37                        30   \n",
       "1                     65                54                        59   \n",
       "2                     57                41                        74   \n",
       "3                     54                61                        73   \n",
       "4                     57                55                        57   \n",
       "...                  ...               ...                       ...   \n",
       "546207                78                65                        74   \n",
       "546208                73                72                        67   \n",
       "546209                83                71                        77   \n",
       "546210                61                54                        52   \n",
       "546211                73                72                        71   \n",
       "\n",
       "        PUNT_INGLES  PUNT_GLOBAL  PERCENTIL_GLOBAL  \n",
       "0              54.0          208              25.0  \n",
       "1              63.0          299              83.0  \n",
       "2              64.0          299              84.0  \n",
       "3              53.0          309              88.0  \n",
       "4              52.0          288              78.0  \n",
       "...             ...          ...               ...  \n",
       "546207         58.0          360              99.0  \n",
       "546208         74.0          360              99.0  \n",
       "546209         72.0          377             100.0  \n",
       "546210         46.0          278              73.0  \n",
       "546211         74.0          365              99.0  \n",
       "\n",
       "[546212 rows x 13 columns]"
      ]
     },
     "execution_count": 2,
     "metadata": {},
     "output_type": "execute_result"
    }
   ],
   "source": [
    "#Importando la base de datos\n",
    "data = '/Users/santiagoromero/Documents/Maestria/Modelos Analisis Estadisticos/Tareas/Tarea 1/Archivos/resultadosicfes.csv'\n",
    "data_frame = pd.read_csv(data, sep=';')\n",
    "data_frame"
   ]
  },
  {
   "cell_type": "code",
   "execution_count": 3,
   "metadata": {},
   "outputs": [
    {
     "data": {
      "text/plain": [
       "array(['MAGDALENA', 'BOGOTÃ\\x81', 'BOLIVAR', 'ATLANTICO', 'VALLE',\n",
       "       'SANTANDER', 'CUNDINAMARCA', 'SUCRE', 'ANTIOQUIA', 'CESAR',\n",
       "       'BOYACA', 'HUILA', 'CASANARE', 'CAUCA', 'CORDOBA',\n",
       "       'NORTE SANTANDER', 'QUINDIO', 'ARAUCA', 'META', 'CHOCO',\n",
       "       'LA GUAJIRA', 'SAN ANDRES', 'TOLIMA', 'NARIÃ‘O', 'CALDAS',\n",
       "       'VAUPES', 'RISARALDA', 'PUTUMAYO', 'VICHADA', 'CAQUETA', nan,\n",
       "       'AMAZONAS', 'GUAVIARE', 'GUAINIA', 'EXTRANJERO'], dtype=object)"
      ]
     },
     "execution_count": 3,
     "metadata": {},
     "output_type": "execute_result"
    }
   ],
   "source": [
    "#Obteniendo los valores que tiene la columna 'ESTU_DEPTO_RESIDE'\n",
    "data_frame['ESTU_DEPTO_RESIDE'].unique()"
   ]
  },
  {
   "cell_type": "code",
   "execution_count": 4,
   "metadata": {},
   "outputs": [
    {
     "data": {
      "text/html": [
       "<div>\n",
       "<style scoped>\n",
       "    .dataframe tbody tr th:only-of-type {\n",
       "        vertical-align: middle;\n",
       "    }\n",
       "\n",
       "    .dataframe tbody tr th {\n",
       "        vertical-align: top;\n",
       "    }\n",
       "\n",
       "    .dataframe thead th {\n",
       "        text-align: right;\n",
       "    }\n",
       "</style>\n",
       "<table border=\"1\" class=\"dataframe\">\n",
       "  <thead>\n",
       "    <tr style=\"text-align: right;\">\n",
       "      <th></th>\n",
       "      <th>ESTU_GENERO</th>\n",
       "      <th>ESTU_DEPTO_RESIDE</th>\n",
       "      <th>FAMI_ESTRATOVIVIENDA</th>\n",
       "      <th>COLE_NATURALEZA</th>\n",
       "      <th>COLE_AREA_UBICACION</th>\n",
       "      <th>COLE_JORNADA</th>\n",
       "      <th>PUNT_LECTURA_CRITICA</th>\n",
       "      <th>PUNT_MATEMATICAS</th>\n",
       "      <th>PUNT_C_NATURALES</th>\n",
       "      <th>PUNT_SOCIALES_CIUDADANAS</th>\n",
       "      <th>PUNT_INGLES</th>\n",
       "      <th>PUNT_GLOBAL</th>\n",
       "      <th>PERCENTIL_GLOBAL</th>\n",
       "    </tr>\n",
       "  </thead>\n",
       "  <tbody>\n",
       "    <tr>\n",
       "      <th>1</th>\n",
       "      <td>M</td>\n",
       "      <td>BOGOTÃ</td>\n",
       "      <td>Estrato 3</td>\n",
       "      <td>NO OFICIAL</td>\n",
       "      <td>URBANO</td>\n",
       "      <td>COMPLETA</td>\n",
       "      <td>60</td>\n",
       "      <td>65</td>\n",
       "      <td>54</td>\n",
       "      <td>59</td>\n",
       "      <td>63.0</td>\n",
       "      <td>299</td>\n",
       "      <td>83.0</td>\n",
       "    </tr>\n",
       "    <tr>\n",
       "      <th>3</th>\n",
       "      <td>M</td>\n",
       "      <td>BOGOTÃ</td>\n",
       "      <td>Estrato 3</td>\n",
       "      <td>OFICIAL</td>\n",
       "      <td>URBANO</td>\n",
       "      <td>MAÃ‘ANA</td>\n",
       "      <td>62</td>\n",
       "      <td>54</td>\n",
       "      <td>61</td>\n",
       "      <td>73</td>\n",
       "      <td>53.0</td>\n",
       "      <td>309</td>\n",
       "      <td>88.0</td>\n",
       "    </tr>\n",
       "    <tr>\n",
       "      <th>4</th>\n",
       "      <td>M</td>\n",
       "      <td>BOGOTÃ</td>\n",
       "      <td>Estrato 3</td>\n",
       "      <td>OFICIAL</td>\n",
       "      <td>URBANO</td>\n",
       "      <td>MAÃ‘ANA</td>\n",
       "      <td>63</td>\n",
       "      <td>57</td>\n",
       "      <td>55</td>\n",
       "      <td>57</td>\n",
       "      <td>52.0</td>\n",
       "      <td>288</td>\n",
       "      <td>78.0</td>\n",
       "    </tr>\n",
       "    <tr>\n",
       "      <th>5</th>\n",
       "      <td>M</td>\n",
       "      <td>ATLANTICO</td>\n",
       "      <td>-</td>\n",
       "      <td>NO OFICIAL</td>\n",
       "      <td>URBANO</td>\n",
       "      <td>NOCHE</td>\n",
       "      <td>49</td>\n",
       "      <td>29</td>\n",
       "      <td>41</td>\n",
       "      <td>41</td>\n",
       "      <td>35.0</td>\n",
       "      <td>198</td>\n",
       "      <td>19.0</td>\n",
       "    </tr>\n",
       "    <tr>\n",
       "      <th>6</th>\n",
       "      <td>M</td>\n",
       "      <td>VALLE</td>\n",
       "      <td>Estrato 4</td>\n",
       "      <td>NO OFICIAL</td>\n",
       "      <td>URBANO</td>\n",
       "      <td>MAÃ‘ANA</td>\n",
       "      <td>76</td>\n",
       "      <td>70</td>\n",
       "      <td>70</td>\n",
       "      <td>68</td>\n",
       "      <td>72.0</td>\n",
       "      <td>355</td>\n",
       "      <td>99.0</td>\n",
       "    </tr>\n",
       "    <tr>\n",
       "      <th>...</th>\n",
       "      <td>...</td>\n",
       "      <td>...</td>\n",
       "      <td>...</td>\n",
       "      <td>...</td>\n",
       "      <td>...</td>\n",
       "      <td>...</td>\n",
       "      <td>...</td>\n",
       "      <td>...</td>\n",
       "      <td>...</td>\n",
       "      <td>...</td>\n",
       "      <td>...</td>\n",
       "      <td>...</td>\n",
       "      <td>...</td>\n",
       "    </tr>\n",
       "    <tr>\n",
       "      <th>546193</th>\n",
       "      <td>M</td>\n",
       "      <td>BOGOTÃ</td>\n",
       "      <td>Estrato 3</td>\n",
       "      <td>OFICIAL</td>\n",
       "      <td>URBANO</td>\n",
       "      <td>TARDE</td>\n",
       "      <td>70</td>\n",
       "      <td>66</td>\n",
       "      <td>60</td>\n",
       "      <td>63</td>\n",
       "      <td>61.0</td>\n",
       "      <td>322</td>\n",
       "      <td>92.0</td>\n",
       "    </tr>\n",
       "    <tr>\n",
       "      <th>546195</th>\n",
       "      <td>F</td>\n",
       "      <td>BOGOTÃ</td>\n",
       "      <td>Estrato 2</td>\n",
       "      <td>OFICIAL</td>\n",
       "      <td>URBANO</td>\n",
       "      <td>TARDE</td>\n",
       "      <td>62</td>\n",
       "      <td>53</td>\n",
       "      <td>54</td>\n",
       "      <td>56</td>\n",
       "      <td>49.0</td>\n",
       "      <td>278</td>\n",
       "      <td>73.0</td>\n",
       "    </tr>\n",
       "    <tr>\n",
       "      <th>546202</th>\n",
       "      <td>F</td>\n",
       "      <td>HUILA</td>\n",
       "      <td>Estrato 3</td>\n",
       "      <td>OFICIAL</td>\n",
       "      <td>URBANO</td>\n",
       "      <td>MAÃ‘ANA</td>\n",
       "      <td>100</td>\n",
       "      <td>73</td>\n",
       "      <td>70</td>\n",
       "      <td>72</td>\n",
       "      <td>84.0</td>\n",
       "      <td>396</td>\n",
       "      <td>100.0</td>\n",
       "    </tr>\n",
       "    <tr>\n",
       "      <th>546208</th>\n",
       "      <td>M</td>\n",
       "      <td>BOGOTÃ</td>\n",
       "      <td>Estrato 3</td>\n",
       "      <td>NO OFICIAL</td>\n",
       "      <td>URBANO</td>\n",
       "      <td>COMPLETA</td>\n",
       "      <td>75</td>\n",
       "      <td>73</td>\n",
       "      <td>72</td>\n",
       "      <td>67</td>\n",
       "      <td>74.0</td>\n",
       "      <td>360</td>\n",
       "      <td>99.0</td>\n",
       "    </tr>\n",
       "    <tr>\n",
       "      <th>546211</th>\n",
       "      <td>M</td>\n",
       "      <td>BOGOTÃ</td>\n",
       "      <td>Estrato 3</td>\n",
       "      <td>OFICIAL</td>\n",
       "      <td>URBANO</td>\n",
       "      <td>MAÃ‘ANA</td>\n",
       "      <td>76</td>\n",
       "      <td>73</td>\n",
       "      <td>72</td>\n",
       "      <td>71</td>\n",
       "      <td>74.0</td>\n",
       "      <td>365</td>\n",
       "      <td>99.0</td>\n",
       "    </tr>\n",
       "  </tbody>\n",
       "</table>\n",
       "<p>177347 rows × 13 columns</p>\n",
       "</div>"
      ],
      "text/plain": [
       "       ESTU_GENERO ESTU_DEPTO_RESIDE FAMI_ESTRATOVIVIENDA COLE_NATURALEZA  \\\n",
       "1                M           BOGOTÃ            Estrato 3      NO OFICIAL   \n",
       "3                M           BOGOTÃ            Estrato 3         OFICIAL   \n",
       "4                M           BOGOTÃ            Estrato 3         OFICIAL   \n",
       "5                M         ATLANTICO                    -      NO OFICIAL   \n",
       "6                M             VALLE            Estrato 4      NO OFICIAL   \n",
       "...            ...               ...                  ...             ...   \n",
       "546193           M           BOGOTÃ            Estrato 3         OFICIAL   \n",
       "546195           F           BOGOTÃ            Estrato 2         OFICIAL   \n",
       "546202           F             HUILA            Estrato 3         OFICIAL   \n",
       "546208           M           BOGOTÃ            Estrato 3      NO OFICIAL   \n",
       "546211           M           BOGOTÃ            Estrato 3         OFICIAL   \n",
       "\n",
       "       COLE_AREA_UBICACION COLE_JORNADA  PUNT_LECTURA_CRITICA  \\\n",
       "1                   URBANO     COMPLETA                    60   \n",
       "3                   URBANO      MAÃ‘ANA                    62   \n",
       "4                   URBANO      MAÃ‘ANA                    63   \n",
       "5                   URBANO        NOCHE                    49   \n",
       "6                   URBANO      MAÃ‘ANA                    76   \n",
       "...                    ...          ...                   ...   \n",
       "546193              URBANO        TARDE                    70   \n",
       "546195              URBANO        TARDE                    62   \n",
       "546202              URBANO      MAÃ‘ANA                   100   \n",
       "546208              URBANO     COMPLETA                    75   \n",
       "546211              URBANO      MAÃ‘ANA                    76   \n",
       "\n",
       "        PUNT_MATEMATICAS  PUNT_C_NATURALES  PUNT_SOCIALES_CIUDADANAS  \\\n",
       "1                     65                54                        59   \n",
       "3                     54                61                        73   \n",
       "4                     57                55                        57   \n",
       "5                     29                41                        41   \n",
       "6                     70                70                        68   \n",
       "...                  ...               ...                       ...   \n",
       "546193                66                60                        63   \n",
       "546195                53                54                        56   \n",
       "546202                73                70                        72   \n",
       "546208                73                72                        67   \n",
       "546211                73                72                        71   \n",
       "\n",
       "        PUNT_INGLES  PUNT_GLOBAL  PERCENTIL_GLOBAL  \n",
       "1              63.0          299              83.0  \n",
       "3              53.0          309              88.0  \n",
       "4              52.0          288              78.0  \n",
       "5              35.0          198              19.0  \n",
       "6              72.0          355              99.0  \n",
       "...             ...          ...               ...  \n",
       "546193         61.0          322              92.0  \n",
       "546195         49.0          278              73.0  \n",
       "546202         84.0          396             100.0  \n",
       "546208         74.0          360              99.0  \n",
       "546211         74.0          365              99.0  \n",
       "\n",
       "[177347 rows x 13 columns]"
      ]
     },
     "execution_count": 4,
     "metadata": {},
     "output_type": "execute_result"
    }
   ],
   "source": [
    "#Filtrando el dataframe por los departamentos de la lista\n",
    "departamentos = ['LA GUAJIRA', 'VALLE', 'ATLANTICO', 'BOGOTÃ\\x81', 'HUILA']\n",
    "df_departamentos = data_frame[data_frame['ESTU_DEPTO_RESIDE'].isin(departamentos)]\n",
    "df_departamentos"
   ]
  },
  {
   "cell_type": "code",
   "execution_count": 5,
   "metadata": {},
   "outputs": [
    {
     "data": {
      "text/plain": [
       "array(['BOGOTÃ\\x81', 'ATLANTICO', 'VALLE', 'HUILA', 'LA GUAJIRA'],\n",
       "      dtype=object)"
      ]
     },
     "execution_count": 5,
     "metadata": {},
     "output_type": "execute_result"
    }
   ],
   "source": [
    "df_departamentos['ESTU_DEPTO_RESIDE'].unique()"
   ]
  },
  {
   "cell_type": "code",
   "execution_count": 6,
   "metadata": {},
   "outputs": [
    {
     "name": "stdout",
     "output_type": "stream",
     "text": [
      "['PUNT_LECTURA_CRITICA', 'PUNT_MATEMATICAS', 'PUNT_C_NATURALES', 'PUNT_SOCIALES_CIUDADANAS', 'PUNT_INGLES', 'PUNT_GLOBAL', 'PERCENTIL_GLOBAL']\n"
     ]
    }
   ],
   "source": [
    "#Identificando las variables continuas\n",
    "data_types = data_frame.dtypes\n",
    "data_types_cont = []\n",
    "\n",
    "for columna, dtype in data_types.items():\n",
    "    if dtype != 'object':\n",
    "        data_types_cont.append(columna)\n",
    "print(data_types_cont)"
   ]
  },
  {
   "cell_type": "code",
   "execution_count": 7,
   "metadata": {
    "scrolled": true
   },
   "outputs": [
    {
     "name": "stdout",
     "output_type": "stream",
     "text": [
      "                   Variable  Faltantes\n",
      "0      PUNT_LECTURA_CRITICA          0\n",
      "1          PUNT_MATEMATICAS          0\n",
      "2          PUNT_C_NATURALES          0\n",
      "3  PUNT_SOCIALES_CIUDADANAS          0\n",
      "4               PUNT_INGLES          1\n",
      "5               PUNT_GLOBAL          0\n",
      "6          PERCENTIL_GLOBAL          1\n"
     ]
    }
   ],
   "source": [
    "#Valores perdidos por cada variable continua\n",
    "data = []\n",
    "\n",
    "i=0\n",
    "for columna in data_types_cont:\n",
    "    col_missing = df_departamentos[data_types_cont[i]].isna()\n",
    "    faltantes = col_missing.sum()\n",
    "    \n",
    "    data.append([data_types_cont[i],faltantes])\n",
    "    \n",
    "    i+=1\n",
    "    \n",
    "tabla_faltantes = pd.DataFrame(data, columns=['Variable','Faltantes'])\n",
    "\n",
    "print(tabla_faltantes)"
   ]
  },
  {
   "cell_type": "code",
   "execution_count": 8,
   "metadata": {},
   "outputs": [
    {
     "name": "stdout",
     "output_type": "stream",
     "text": [
      "Int64Index([354397], dtype='int64')\n",
      "Int64Index([354397], dtype='int64')\n"
     ]
    }
   ],
   "source": [
    "vacios_ingles = df_departamentos[df_departamentos['PUNT_INGLES'].isna()].index\n",
    "vacios_percentil_global = df_departamentos[df_departamentos['PERCENTIL_GLOBAL'].isna()].index\n",
    "print(vacios_ingles)\n",
    "print(vacios_percentil_global)"
   ]
  },
  {
   "cell_type": "code",
   "execution_count": 9,
   "metadata": {
    "scrolled": false
   },
   "outputs": [
    {
     "name": "stdout",
     "output_type": "stream",
     "text": [
      "      PUNT_LECTURA_CRITICA  PUNT_MATEMATICAS  PUNT_C_NATURALES  \\\n",
      "mean             53.380226         51.817262         49.546606   \n",
      "std              10.416497         11.876710         10.752327   \n",
      "max             100.000000        100.000000        100.000000   \n",
      "min               0.000000          0.000000          0.000000   \n",
      "\n",
      "      PUNT_SOCIALES_CIUDADANAS  PUNT_INGLES  PUNT_GLOBAL  PERCENTIL_GLOBAL  \n",
      "mean                 47.635641    50.693926   253.013211         53.874037  \n",
      "std                  12.228414    12.870041    51.465233         28.723295  \n",
      "max                 100.000000   100.000000   477.000000        100.000000  \n",
      "min                   0.000000     0.000000     0.000000          1.000000  \n"
     ]
    }
   ],
   "source": [
    "#Media, Desviación Estandar, Máximo, Mínimo\n",
    "data = []\n",
    "descriptiva = pd.DataFrame()\n",
    "\n",
    "for columna in data_types_cont:\n",
    "    stat = df_departamentos[columna].describe().loc[['mean', 'std', 'max', 'min']]\n",
    "    descriptiva[columna] = stat\n",
    "    \n",
    "print(descriptiva)"
   ]
  },
  {
   "cell_type": "code",
   "execution_count": 10,
   "metadata": {},
   "outputs": [
    {
     "name": "stdout",
     "output_type": "stream",
     "text": [
      "Departamentos con puntaje en matemáticas mayor a 55\n",
      "['BOGOTÃ\\x81' 'VALLE' 'ATLANTICO' 'HUILA' 'LA GUAJIRA']\n",
      "Departamentos con puntaje en lectura mayor a 60\n",
      "['BOGOTÃ\\x81' 'VALLE' 'ATLANTICO' 'HUILA' 'LA GUAJIRA']\n",
      "Departamentos con puntaje en ingles mayor a 70\n",
      "['VALLE' 'ATLANTICO' 'BOGOTÃ\\x81' 'HUILA' 'LA GUAJIRA']\n",
      "Departamentos con los puntajes indicados\n",
      "['VALLE' 'ATLANTICO' 'BOGOTÃ\\x81' 'HUILA' 'LA GUAJIRA']\n",
      "Puntajes Matematicas\n",
      "[ 70  72  56  71  66  57  67  80  78  74  76  73  75  68  81  60  79  62\n",
      "  58  77  65  69 100  59  63  64  61  83  82  84  85]\n",
      "Puntajes Lectura\n",
      "[ 76  62  63  71  70  68  74  75  67  64  73  69  79  65  72  61  77  78\n",
      "  66  80  81 100  82]\n",
      "Puntajes Ingles\n",
      "[ 72.  81.  82. 100.  76.  73.  71.  77.  79.  80.  74.  78.  84.  75.\n",
      "  86.  83.  85.  87.]\n"
     ]
    }
   ],
   "source": [
    "#Puntajes variables\n",
    "puntaje_mat = 55\n",
    "puntaje_lect = 60\n",
    "puntaje_ing = 70\n",
    "\n",
    "#Departamentos con puntaje en matemáticas mayor a 55\n",
    "dep_mat = df_departamentos['PUNT_MATEMATICAS'] > puntaje_mat\n",
    "df_math = df_departamentos[dep_mat]\n",
    "print('Departamentos con puntaje en matemáticas mayor a 55')\n",
    "print(df_math['ESTU_DEPTO_RESIDE'].unique())\n",
    "\n",
    "#Departamentos con puntaje en lectura mayor a 60\n",
    "dep_lect = df_departamentos['PUNT_LECTURA_CRITICA'] > puntaje_lect\n",
    "df_lect = df_departamentos[dep_lect]\n",
    "print('Departamentos con puntaje en lectura mayor a 60')\n",
    "print(df_lect['ESTU_DEPTO_RESIDE'].unique())\n",
    "\n",
    "#Departamentos con puntaje en ingles mayor a 70\n",
    "dep_ing = df_departamentos['PUNT_INGLES'] > puntaje_ing\n",
    "df_ing = df_departamentos[dep_ing]\n",
    "print('Departamentos con puntaje en ingles mayor a 70')\n",
    "print(df_ing['ESTU_DEPTO_RESIDE'].unique())\n",
    "\n",
    "#Departamentos que cumplen las condiciones anteriores\n",
    "df_puntajes = df_departamentos[dep_mat & dep_lect & dep_ing]\n",
    "df_puntajes['ESTU_DEPTO_RESIDE'].unique()\n",
    "print('Departamentos con los puntajes indicados')\n",
    "print(df_puntajes['ESTU_DEPTO_RESIDE'].unique())\n",
    "print('Puntajes Matematicas')\n",
    "print(df_puntajes['PUNT_MATEMATICAS'].unique())\n",
    "print('Puntajes Lectura')\n",
    "print(df_puntajes['PUNT_LECTURA_CRITICA'].unique())\n",
    "print('Puntajes Ingles')\n",
    "print(df_puntajes['PUNT_INGLES'].unique())"
   ]
  },
  {
   "cell_type": "code",
   "execution_count": 11,
   "metadata": {},
   "outputs": [
    {
     "name": "stdout",
     "output_type": "stream",
     "text": [
      "70.0\n"
     ]
    }
   ],
   "source": [
    "#Solo se reemplaza el valor de la columna PUNT_INGLES\n",
    "df_departamentos.at[354397,'PUNT_INGLES'] = 70\n",
    "print(df_departamentos.at[354397,'PUNT_INGLES'])"
   ]
  },
  {
   "cell_type": "code",
   "execution_count": 12,
   "metadata": {},
   "outputs": [
    {
     "name": "stdout",
     "output_type": "stream",
     "text": [
      "      PUNT_LECTURA_CRITICA  PUNT_MATEMATICAS  PUNT_C_NATURALES  \\\n",
      "mean             53.380226         51.817262         49.546606   \n",
      "std              10.416497         11.876710         10.752327   \n",
      "max             100.000000        100.000000        100.000000   \n",
      "min               0.000000          0.000000          0.000000   \n",
      "\n",
      "      PUNT_SOCIALES_CIUDADANAS  PUNT_INGLES  PUNT_GLOBAL  PERCENTIL_GLOBAL  \n",
      "mean                 47.635641    50.694035   253.013211         53.874037  \n",
      "std                  12.228414    12.870086    51.465233         28.723295  \n",
      "max                 100.000000   100.000000   477.000000        100.000000  \n",
      "min                   0.000000     0.000000     0.000000          1.000000  \n"
     ]
    }
   ],
   "source": [
    "#Calcular nuevamente la Media, Desviación Estandar, Máximo, Mínimo\n",
    "data = []\n",
    "descriptiva = pd.DataFrame()\n",
    "\n",
    "for columna in data_types_cont:\n",
    "    stat = df_departamentos[columna].describe().loc[['mean', 'std', 'max', 'min']]\n",
    "    descriptiva[columna] = stat\n",
    "    \n",
    "print(descriptiva)"
   ]
  },
  {
   "cell_type": "code",
   "execution_count": 13,
   "metadata": {
    "scrolled": false
   },
   "outputs": [
    {
     "name": "stdout",
     "output_type": "stream",
     "text": [
      "Puntaje Lectura critica\n",
      "mean     53.380226\n",
      "std      10.416497\n",
      "max     100.000000\n",
      "min       0.000000\n",
      "Name: PUNT_LECTURA_CRITICA, dtype: float64\n",
      "\n",
      "Puntaje Lectura critica mayor a 60\n",
      "mean     69.245050\n",
      "std       5.209025\n",
      "max     100.000000\n",
      "min      61.000000\n",
      "Name: PUNT_LECTURA_CRITICA, dtype: float64\n"
     ]
    },
    {
     "data": {
      "image/png": "[encoded data removed]",
      "text/plain": [
       "<Figure size 640x480 with 2 Axes>"
      ]
     },
     "metadata": {},
     "output_type": "display_data"
    }
   ],
   "source": [
    "#PUNT_LECTURA_CRITICA\n",
    "lectura_1 = df_departamentos['PUNT_LECTURA_CRITICA'].describe().loc[['mean', 'std', 'max', 'min']]\n",
    "lectura_2 = df_puntajes['PUNT_LECTURA_CRITICA'].describe().loc[['mean', 'std', 'max', 'min']]\n",
    "\n",
    "print ('Puntaje Lectura critica')\n",
    "print(lectura_1)\n",
    "\n",
    "print ('\\nPuntaje Lectura critica mayor a 60')\n",
    "print(lectura_2)\n",
    "\n",
    "plt.subplot(1,2,1)\n",
    "plt.hist(df_departamentos['PUNT_LECTURA_CRITICA'], edgecolor='black')\n",
    "plt.title('Puntaje Lectura Critica')\n",
    "plt.ylabel('Cantidad de estudiantes')\n",
    "plt.xlabel('Puntaje')\n",
    "plt.subplot(1,2,2)\n",
    "plt.hist(df_puntajes['PUNT_LECTURA_CRITICA'], color='green', edgecolor='black')\n",
    "plt.title('Puntaje Lectura Critica mayor a 60')\n",
    "plt.ylabel('Cantidad de estudiantes')\n",
    "plt.xlabel('Puntaje')\n",
    "plt.show()"
   ]
  },
  {
   "cell_type": "code",
   "execution_count": 14,
   "metadata": {
    "scrolled": false
   },
   "outputs": [
    {
     "name": "stdout",
     "output_type": "stream",
     "text": [
      "Puntaje Matematicas\n",
      "mean     51.817262\n",
      "std      11.876710\n",
      "max     100.000000\n",
      "min       0.000000\n",
      "Name: PUNT_MATEMATICAS, dtype: float64\n",
      "\n",
      "Puntaje Matematicas mayor a 55\n",
      "mean     69.881821\n",
      "std       7.207878\n",
      "max     100.000000\n",
      "min      56.000000\n",
      "Name: PUNT_MATEMATICAS, dtype: float64\n"
     ]
    },
    {
     "data": {
      "image/png": "[encoded data removed]",
      "text/plain": [
       "<Figure size 640x480 with 2 Axes>"
      ]
     },
     "metadata": {},
     "output_type": "display_data"
    }
   ],
   "source": [
    "#PUNT_MATEMATICAS\n",
    "matematica_1 = df_departamentos['PUNT_MATEMATICAS'].describe().loc[['mean', 'std', 'max', 'min']]\n",
    "matematica_2 = df_puntajes['PUNT_MATEMATICAS'].describe().loc[['mean', 'std', 'max', 'min']]\n",
    "\n",
    "print ('Puntaje Matematicas')\n",
    "print(matematica_1)\n",
    "\n",
    "print ('\\nPuntaje Matematicas mayor a 55')\n",
    "print(matematica_2)\n",
    "\n",
    "plt.subplot(1,2,1)\n",
    "plt.hist(df_departamentos['PUNT_MATEMATICAS'], edgecolor='black')\n",
    "plt.title('Puntaje Matematicas')\n",
    "plt.ylabel('Cantidad de estudiantes')\n",
    "plt.xlabel('Puntaje')\n",
    "plt.subplot(1,2,2)\n",
    "plt.hist(df_puntajes['PUNT_MATEMATICAS'], color='green', edgecolor='black')\n",
    "plt.title('Puntaje Matematicas mayor a 55')\n",
    "plt.ylabel('Cantidad de estudiantes')\n",
    "plt.xlabel('Puntaje')\n",
    "plt.show()"
   ]
  },
  {
   "cell_type": "code",
   "execution_count": 15,
   "metadata": {},
   "outputs": [
    {
     "name": "stdout",
     "output_type": "stream",
     "text": [
      "Puntaje Ciencias Naturales\n",
      "mean     49.546606\n",
      "std      10.752327\n",
      "max     100.000000\n",
      "min       0.000000\n",
      "Name: PUNT_C_NATURALES, dtype: float64\n",
      "\n",
      "Puntaje Ciencias Naturales con filtros\n",
      "mean     66.862288\n",
      "std       6.793665\n",
      "max     100.000000\n",
      "min      30.000000\n",
      "Name: PUNT_C_NATURALES, dtype: float64\n"
     ]
    },
    {
     "data": {
      "image/png": "[encoded data removed]",
      "text/plain": [
       "<Figure size 640x480 with 2 Axes>"
      ]
     },
     "metadata": {},
     "output_type": "display_data"
    }
   ],
   "source": [
    "#PUNT_C_NATURALES\n",
    "\n",
    "naturales_1 = df_departamentos['PUNT_C_NATURALES'].describe().loc[['mean', 'std', 'max', 'min']]\n",
    "naturales_2 = df_puntajes['PUNT_C_NATURALES'].describe().loc[['mean', 'std', 'max', 'min']]\n",
    "\n",
    "print ('Puntaje Ciencias Naturales')\n",
    "print(naturales_1)\n",
    "\n",
    "print ('\\nPuntaje Ciencias Naturales con filtros')\n",
    "print(naturales_2)\n",
    "\n",
    "plt.subplot(1,2,1)\n",
    "plt.hist(df_departamentos['PUNT_C_NATURALES'], edgecolor='black')\n",
    "plt.title('Puntaje Ciencias Naturales')\n",
    "plt.ylabel('Cantidad de estudiantes')\n",
    "plt.xlabel('Puntaje')\n",
    "plt.subplot(1,2,2)\n",
    "plt.hist(df_puntajes['PUNT_C_NATURALES'], color='green', edgecolor='black')\n",
    "plt.title('Puntaje Ciencias Naturales con filtros')\n",
    "plt.ylabel('Cantidad de estudiantes')\n",
    "plt.xlabel('Puntaje')\n",
    "plt.show()\n"
   ]
  },
  {
   "cell_type": "code",
   "execution_count": 16,
   "metadata": {},
   "outputs": [
    {
     "name": "stdout",
     "output_type": "stream",
     "text": [
      "Puntaje Sociales Ciudadanas\n",
      "mean     47.635641\n",
      "std      12.228414\n",
      "max     100.000000\n",
      "min       0.000000\n",
      "Name: PUNT_SOCIALES_CIUDADANAS, dtype: float64\n",
      "\n",
      "Puntaje Sociales Ciudadanas con filtros\n",
      "mean     67.04892\n",
      "std       7.24149\n",
      "max     100.00000\n",
      "min      29.00000\n",
      "Name: PUNT_SOCIALES_CIUDADANAS, dtype: float64\n"
     ]
    },
    {
     "data": {
      "image/png": "[encoded data removed]",
      "text/plain": [
       "<Figure size 640x480 with 2 Axes>"
      ]
     },
     "metadata": {},
     "output_type": "display_data"
    }
   ],
   "source": [
    "#PUNT_SOCIALES_CIUDADANAS\n",
    "sociales_1 = df_departamentos['PUNT_SOCIALES_CIUDADANAS'].describe().loc[['mean', 'std', 'max', 'min']]\n",
    "sociales_2 = df_puntajes['PUNT_SOCIALES_CIUDADANAS'].describe().loc[['mean', 'std', 'max', 'min']]\n",
    "\n",
    "print ('Puntaje Sociales Ciudadanas')\n",
    "print(sociales_1)\n",
    "\n",
    "print ('\\nPuntaje Sociales Ciudadanas con filtros')\n",
    "print(sociales_2)\n",
    "\n",
    "plt.subplot(1,2,1)\n",
    "plt.hist(df_departamentos['PUNT_SOCIALES_CIUDADANAS'], edgecolor='black')\n",
    "plt.title('Puntaje Sociales Ciudadanas')\n",
    "plt.ylabel('Cantidad de estudiantes')\n",
    "plt.xlabel('Puntaje')\n",
    "plt.subplot(1,2,2)\n",
    "plt.hist(df_puntajes['PUNT_SOCIALES_CIUDADANAS'], color='green', edgecolor='black')\n",
    "plt.title('Puntaje Sociales Ciudadanas con filtros')\n",
    "plt.ylabel('Cantidad de estudiantes')\n",
    "plt.xlabel('Puntaje')\n",
    "plt.show()"
   ]
  },
  {
   "cell_type": "code",
   "execution_count": 17,
   "metadata": {},
   "outputs": [
    {
     "name": "stdout",
     "output_type": "stream",
     "text": [
      "Puntaje Ingles\n",
      "mean     50.694035\n",
      "std      12.870086\n",
      "max     100.000000\n",
      "min       0.000000\n",
      "Name: PUNT_INGLES, dtype: float64\n",
      "\n",
      "Puntaje Ingles mayor a 70\n",
      "mean     77.158767\n",
      "std       6.445141\n",
      "max     100.000000\n",
      "min      71.000000\n",
      "Name: PUNT_INGLES, dtype: float64\n"
     ]
    },
    {
     "data": {
      "image/png": "[encoded data removed]",
      "text/plain": [
       "<Figure size 640x480 with 2 Axes>"
      ]
     },
     "metadata": {},
     "output_type": "display_data"
    }
   ],
   "source": [
    "#PUNT_INGLES\n",
    "\n",
    "ingles_1 = df_departamentos['PUNT_INGLES'].describe().loc[['mean', 'std', 'max', 'min']]\n",
    "ingles_2 = df_puntajes['PUNT_INGLES'].describe().loc[['mean', 'std', 'max', 'min']]\n",
    "\n",
    "print ('Puntaje Ingles')\n",
    "print(ingles_1)\n",
    "\n",
    "print ('\\nPuntaje Ingles mayor a 70')\n",
    "print(ingles_2)\n",
    "\n",
    "plt.subplot(1,2,1)\n",
    "plt.hist(df_departamentos['PUNT_INGLES'], edgecolor='black')\n",
    "plt.title('Puntaje Ingles')\n",
    "plt.ylabel('Cantidad de estudiantes')\n",
    "plt.xlabel('Puntaje')\n",
    "plt.subplot(1,2,2)\n",
    "plt.hist(df_puntajes['PUNT_INGLES'], color='green', edgecolor='black')\n",
    "plt.title('Puntaje Ingles mayor a 70')\n",
    "plt.ylabel('Cantidad de estudiantes')\n",
    "plt.xlabel('Puntaje')\n",
    "plt.show()"
   ]
  },
  {
   "cell_type": "code",
   "execution_count": 18,
   "metadata": {},
   "outputs": [
    {
     "name": "stdout",
     "output_type": "stream",
     "text": [
      "Puntaje Global\n",
      "mean    253.013211\n",
      "std      51.465233\n",
      "max     477.000000\n",
      "min       0.000000\n",
      "Name: PUNT_GLOBAL, dtype: float64\n",
      "\n",
      "Puntaje Global con filtros\n",
      "mean    344.715796\n",
      "std      24.302187\n",
      "max     477.000000\n",
      "min     237.000000\n",
      "Name: PUNT_GLOBAL, dtype: float64\n"
     ]
    },
    {
     "data": {
      "image/png": "[encoded data removed]",
      "text/plain": [
       "<Figure size 640x480 with 2 Axes>"
      ]
     },
     "metadata": {},
     "output_type": "display_data"
    }
   ],
   "source": [
    "#PUNT_GLOBAL\n",
    "\n",
    "glob_1 = df_departamentos['PUNT_GLOBAL'].describe().loc[['mean', 'std', 'max', 'min']]\n",
    "glob_2 = df_puntajes['PUNT_GLOBAL'].describe().loc[['mean', 'std', 'max', 'min']]\n",
    "\n",
    "print ('Puntaje Global')\n",
    "print(glob_1)\n",
    "\n",
    "print ('\\nPuntaje Global con filtros')\n",
    "print(glob_2)\n",
    "\n",
    "plt.subplot(1,2,1)\n",
    "plt.hist(df_departamentos['PUNT_GLOBAL'], edgecolor='black')\n",
    "plt.title('Puntaje Global')\n",
    "plt.ylabel('Cantidad de estudiantes')\n",
    "plt.xlabel('Puntaje')\n",
    "plt.subplot(1,2,2)\n",
    "plt.hist(df_puntajes['PUNT_GLOBAL'], color='green', edgecolor='black')\n",
    "plt.title('Puntaje Global con filtros')\n",
    "plt.ylabel('Cantidad de estudiantes')\n",
    "plt.xlabel('Puntaje')\n",
    "plt.show()"
   ]
  },
  {
   "cell_type": "markdown",
   "metadata": {
    "nbgrader": {
     "grade": false,
     "grade_id": "eje-task",
     "locked": true,
     "schema_version": 3,
     "solution": false,
     "task": false
    }
   },
   "source": [
    "b. (5%) Compare en una tabla los puntajes de matemáticas, lectura y ciencias naturales, e ilustre gráficamente con gráficas de caja para cada una de las materias. Comente."
   ]
  },
  {
   "cell_type": "code",
   "execution_count": 19,
   "metadata": {
    "nbgrader": {
     "grade": false,
     "grade_id": "eje-sol",
     "locked": true,
     "schema_version": 3,
     "solution": false,
     "task": false
    },
    "scrolled": false
   },
   "outputs": [
    {
     "data": {
      "text/html": [
       "<div>\n",
       "<style scoped>\n",
       "    .dataframe tbody tr th:only-of-type {\n",
       "        vertical-align: middle;\n",
       "    }\n",
       "\n",
       "    .dataframe tbody tr th {\n",
       "        vertical-align: top;\n",
       "    }\n",
       "\n",
       "    .dataframe thead th {\n",
       "        text-align: right;\n",
       "    }\n",
       "</style>\n",
       "<table border=\"1\" class=\"dataframe\">\n",
       "  <thead>\n",
       "    <tr style=\"text-align: right;\">\n",
       "      <th></th>\n",
       "      <th>PUNT_MATEMATICAS</th>\n",
       "      <th>PUNT_LECTURA_CRITICA</th>\n",
       "      <th>PUNT_C_NATURALES</th>\n",
       "    </tr>\n",
       "  </thead>\n",
       "  <tbody>\n",
       "    <tr>\n",
       "      <th>6</th>\n",
       "      <td>70</td>\n",
       "      <td>76</td>\n",
       "      <td>70</td>\n",
       "    </tr>\n",
       "    <tr>\n",
       "      <th>61</th>\n",
       "      <td>72</td>\n",
       "      <td>62</td>\n",
       "      <td>46</td>\n",
       "    </tr>\n",
       "    <tr>\n",
       "      <th>79</th>\n",
       "      <td>56</td>\n",
       "      <td>62</td>\n",
       "      <td>68</td>\n",
       "    </tr>\n",
       "    <tr>\n",
       "      <th>211</th>\n",
       "      <td>71</td>\n",
       "      <td>63</td>\n",
       "      <td>69</td>\n",
       "    </tr>\n",
       "    <tr>\n",
       "      <th>352</th>\n",
       "      <td>56</td>\n",
       "      <td>71</td>\n",
       "      <td>62</td>\n",
       "    </tr>\n",
       "    <tr>\n",
       "      <th>...</th>\n",
       "      <td>...</td>\n",
       "      <td>...</td>\n",
       "      <td>...</td>\n",
       "    </tr>\n",
       "    <tr>\n",
       "      <th>546103</th>\n",
       "      <td>75</td>\n",
       "      <td>65</td>\n",
       "      <td>65</td>\n",
       "    </tr>\n",
       "    <tr>\n",
       "      <th>546141</th>\n",
       "      <td>68</td>\n",
       "      <td>70</td>\n",
       "      <td>66</td>\n",
       "    </tr>\n",
       "    <tr>\n",
       "      <th>546202</th>\n",
       "      <td>73</td>\n",
       "      <td>100</td>\n",
       "      <td>70</td>\n",
       "    </tr>\n",
       "    <tr>\n",
       "      <th>546208</th>\n",
       "      <td>73</td>\n",
       "      <td>75</td>\n",
       "      <td>72</td>\n",
       "    </tr>\n",
       "    <tr>\n",
       "      <th>546211</th>\n",
       "      <td>73</td>\n",
       "      <td>76</td>\n",
       "      <td>72</td>\n",
       "    </tr>\n",
       "  </tbody>\n",
       "</table>\n",
       "<p>11161 rows × 3 columns</p>\n",
       "</div>"
      ],
      "text/plain": [
       "        PUNT_MATEMATICAS  PUNT_LECTURA_CRITICA  PUNT_C_NATURALES\n",
       "6                     70                    76                70\n",
       "61                    72                    62                46\n",
       "79                    56                    62                68\n",
       "211                   71                    63                69\n",
       "352                   56                    71                62\n",
       "...                  ...                   ...               ...\n",
       "546103                75                    65                65\n",
       "546141                68                    70                66\n",
       "546202                73                   100                70\n",
       "546208                73                    75                72\n",
       "546211                73                    76                72\n",
       "\n",
       "[11161 rows x 3 columns]"
      ]
     },
     "execution_count": 19,
     "metadata": {},
     "output_type": "execute_result"
    }
   ],
   "source": [
    "# Implementa tu respuesta en esta celda\n",
    "\n",
    "df_puntaje_variables = df_puntajes[['PUNT_MATEMATICAS', 'PUNT_LECTURA_CRITICA', 'PUNT_C_NATURALES']]\n",
    "df_puntaje_variables"
   ]
  },
  {
   "cell_type": "code",
   "execution_count": 20,
   "metadata": {},
   "outputs": [
    {
     "name": "stdout",
     "output_type": "stream",
     "text": [
      "      PUNT_MATEMATICAS  PUNT_LECTURA_CRITICA  PUNT_C_NATURALES\n",
      "mean         51.817262             53.380226         49.546606\n",
      "std          11.876710             10.416497         10.752327\n",
      "max         100.000000            100.000000        100.000000\n",
      "min           0.000000              0.000000          0.000000\n"
     ]
    }
   ],
   "source": [
    "data = []\n",
    "descriptiva = pd.DataFrame()\n",
    "\n",
    "for columna in df_puntaje_variables:\n",
    "    stat = df_departamentos[columna].describe().loc[['mean', 'std', 'max', 'min']]\n",
    "    descriptiva[columna] = stat\n",
    "    \n",
    "print(descriptiva)"
   ]
  },
  {
   "cell_type": "code",
   "execution_count": 21,
   "metadata": {},
   "outputs": [
    {
     "data": {
      "image/png": "[encoded data removed]",
      "text/plain": [
       "<Figure size 640x480 with 1 Axes>"
      ]
     },
     "metadata": {},
     "output_type": "display_data"
    }
   ],
   "source": [
    "bplot = df_puntaje_variables.boxplot(column=['PUNT_MATEMATICAS', 'PUNT_LECTURA_CRITICA','PUNT_C_NATURALES'])\n",
    "plt.title('Gráfico de Caja para las variables de puntajes')\n",
    "plt.xlabel('Columnas')\n",
    "plt.ylabel('Valores')\n",
    "plt.show()"
   ]
  },
  {
   "cell_type": "markdown",
   "metadata": {
    "nbgrader": {
     "grade": false,
     "grade_id": "ej1-enun",
     "locked": true,
     "schema_version": 3,
     "solution": false,
     "task": false
    }
   },
   "source": [
    "c. (5%) Identifique el departamento que tiene los puntajes globales más altos. Identifique el que tiene los mejores puntajes en matemáticas."
   ]
  },
  {
   "cell_type": "code",
   "execution_count": 22,
   "metadata": {
    "nbgrader": {
     "grade": false,
     "grade_id": "ej1-sol",
     "locked": false,
     "schema_version": 3,
     "solution": true,
     "task": false
    },
    "nombre": "Ej1"
   },
   "outputs": [
    {
     "name": "stdout",
     "output_type": "stream",
     "text": [
      "      ESTU_DEPTO_RESIDE  PUNT_GLOBAL\n",
      "0                 VALLE          355\n",
      "1             ATLANTICO          316\n",
      "2               BOGOTÃ          321\n",
      "3             ATLANTICO          366\n",
      "4               BOGOTÃ          315\n",
      "...                 ...          ...\n",
      "11156           BOGOTÃ          340\n",
      "11157         ATLANTICO          345\n",
      "11158             HUILA          396\n",
      "11159           BOGOTÃ          360\n",
      "11160           BOGOTÃ          365\n",
      "\n",
      "[11161 rows x 2 columns]\n"
     ]
    }
   ],
   "source": [
    "# Implementa tu respuesta en esta celda\n",
    "#Puntajes globales\n",
    "df_puntaje_glob = df_puntajes[['ESTU_DEPTO_RESIDE','PUNT_GLOBAL']].reset_index(drop=True)\n",
    "df_puntaje_glob.describe()\n",
    "print(df_puntaje_glob)"
   ]
  },
  {
   "cell_type": "code",
   "execution_count": 23,
   "metadata": {},
   "outputs": [
    {
     "name": "stdout",
     "output_type": "stream",
     "text": [
      "Departamentos con mayores puntajes (mayores a 360 = Percetil 75)\n"
     ]
    },
    {
     "data": {
      "text/plain": [
       "array(['ATLANTICO', 'VALLE', 'BOGOTÃ\\x81', 'HUILA', 'LA GUAJIRA'],\n",
       "      dtype=object)"
      ]
     },
     "execution_count": 23,
     "metadata": {},
     "output_type": "execute_result"
    }
   ],
   "source": [
    "puntaje_mayor = df_puntaje_glob['PUNT_GLOBAL'] > 360\n",
    "df_puntaje_mayor = df_puntaje_glob[puntaje_mayor]\n",
    "print('Departamentos con mayores puntajes (mayores a 360 = Percetil 75)')\n",
    "df_puntaje_mayor['ESTU_DEPTO_RESIDE'].unique()"
   ]
  },
  {
   "cell_type": "code",
   "execution_count": 24,
   "metadata": {
    "scrolled": false
   },
   "outputs": [
    {
     "name": "stdout",
     "output_type": "stream",
     "text": [
      "       PUNT_MATEMATICAS\n",
      "count      11161.000000\n",
      "mean          69.881821\n",
      "std            7.207878\n",
      "min           56.000000\n",
      "25%           65.000000\n",
      "50%           70.000000\n",
      "75%           74.000000\n",
      "max          100.000000\n",
      "      ESTU_DEPTO_RESIDE  PUNT_MATEMATICAS\n",
      "0                 VALLE                70\n",
      "1             ATLANTICO                72\n",
      "2               BOGOTÃ                56\n",
      "3             ATLANTICO                71\n",
      "4               BOGOTÃ                56\n",
      "...                 ...               ...\n",
      "11156           BOGOTÃ                75\n",
      "11157         ATLANTICO                68\n",
      "11158             HUILA                73\n",
      "11159           BOGOTÃ                73\n",
      "11160           BOGOTÃ                73\n",
      "\n",
      "[11161 rows x 2 columns]\n"
     ]
    }
   ],
   "source": [
    "#Puntaje Matematica\n",
    "df_puntaje_math = df_puntajes[['ESTU_DEPTO_RESIDE','PUNT_MATEMATICAS']].reset_index(drop=True)\n",
    "print(df_puntaje_math.describe())\n",
    "print(df_puntaje_math)"
   ]
  },
  {
   "cell_type": "code",
   "execution_count": 25,
   "metadata": {},
   "outputs": [
    {
     "name": "stdout",
     "output_type": "stream",
     "text": [
      "Departamentos con mayores puntajes en matematicas (mayores a 74 = Percetil 75)\n"
     ]
    },
    {
     "data": {
      "text/plain": [
       "array(['ATLANTICO', 'BOGOTÃ\\x81', 'HUILA', 'VALLE', 'LA GUAJIRA'],\n",
       "      dtype=object)"
      ]
     },
     "execution_count": 25,
     "metadata": {},
     "output_type": "execute_result"
    }
   ],
   "source": [
    "puntaje_mayor = df_puntaje_math['PUNT_MATEMATICAS'] > 74\n",
    "df_puntaje_mayor = df_puntaje_math[puntaje_mayor]\n",
    "print('Departamentos con mayores puntajes en matematicas (mayores a 74 = Percetil 75)')\n",
    "df_puntaje_mayor['ESTU_DEPTO_RESIDE'].unique()"
   ]
  },
  {
   "cell_type": "code",
   "execution_count": 26,
   "metadata": {},
   "outputs": [
    {
     "data": {
      "image/png": "[encoded data removed]",
      "text/plain": [
       "<Figure size 640x480 with 1 Axes>"
      ]
     },
     "metadata": {},
     "output_type": "display_data"
    }
   ],
   "source": [
    "ax = df_puntaje_variables.boxplot(column=['PUNT_MATEMATICAS', 'PUNT_LECTURA_CRITICA','PUNT_C_NATURALES'])\n",
    "ax.set_title('Gráfico de Caja')\n",
    "ax.set_xlabel('Columnas')\n",
    "ax.set_ylabel('Valores')\n",
    "plt.show()"
   ]
  },
  {
   "cell_type": "markdown",
   "metadata": {
    "nbgrader": {
     "grade": false,
     "grade_id": "ej1-task",
     "locked": true,
     "schema_version": 3,
     "solution": false,
     "task": false
    }
   },
   "source": [
    "d. (5%) Muestre en una tabla el número de estudiantes que pertenece a colegios oficiales y no oficiales. Ilustre mediante una gráfica. ¿Cree Ud. que los resultados del puntaje global se ven influenciado por el tipo de colegio?"
   ]
  },
  {
   "cell_type": "code",
   "execution_count": 27,
   "metadata": {
    "nbgrader": {
     "grade": true,
     "grade_id": "ej1-test",
     "locked": true,
     "points": 1,
     "schema_version": 3,
     "solution": false,
     "task": false
    },
    "scrolled": false
   },
   "outputs": [
    {
     "data": {
      "text/plain": [
       "<BarContainer object of 2 artists>"
      ]
     },
     "execution_count": 27,
     "metadata": {},
     "output_type": "execute_result"
    },
    {
     "data": {
      "image/png": "[encoded data removed]",
      "text/plain": [
       "<Figure size 640x480 with 1 Axes>"
      ]
     },
     "metadata": {},
     "output_type": "display_data"
    }
   ],
   "source": [
    "# Implementa tu respuesta en esta celda\n",
    "oficial = 0\n",
    "no_oficial = 0\n",
    "\n",
    "for index in df_puntajes.index:\n",
    "    if df_puntajes.at[index,'COLE_NATURALEZA'] == 'OFICIAL':\n",
    "        oficial += 1\n",
    "    else:\n",
    "        no_oficial += 1\n",
    "\n",
    "cuenta_colegios = [oficial, no_oficial]\n",
    "tipo_colegios = ['OFICIAL', 'NO OFICIAL']\n",
    "plt.bar(tipo_colegios, cuenta_colegios)\n"
   ]
  },
  {
   "cell_type": "code",
   "execution_count": 83,
   "metadata": {},
   "outputs": [
    {
     "data": {
      "image/png": "[encoded data removed]",
      "text/plain": [
       "<Figure size 640x480 with 2 Axes>"
      ]
     },
     "metadata": {},
     "output_type": "display_data"
    }
   ],
   "source": [
    "puntaje_global_oficial = df_puntajes['COLE_NATURALEZA'] == 'OFICIAL'\n",
    "df_puntaje_global_oficial = df_puntajes[puntaje_global_oficial]\n",
    "\n",
    "puntaje_global_no_oficial = df_puntajes['COLE_NATURALEZA'] == 'NO OFICIAL'\n",
    "df_puntaje_global_no_oficial = df_puntajes[puntaje_global_no_oficial]\n",
    "\n",
    "plt.subplot(1,3,1)\n",
    "plt.hist(df_puntaje_global_oficial['PUNT_GLOBAL'], edgecolor='black')\n",
    "plt.title('Puntaje Global Colegios Oficiales')\n",
    "plt.ylabel('Estudiantes')\n",
    "plt.xlabel('Puntaje')\n",
    "plt.ylim(0,3000)\n",
    "plt.subplot(1,3,3)\n",
    "plt.hist(df_puntaje_global_no_oficial['PUNT_GLOBAL'], color='green', edgecolor='black')\n",
    "plt.title('Puntaje Global Colegios No Oficiales')\n",
    "plt.ylabel('Estudiantes')\n",
    "plt.xlabel('Puntaje')\n",
    "plt.ylim(0,3000)\n",
    "plt.show()"
   ]
  },
  {
   "cell_type": "code",
   "execution_count": 29,
   "metadata": {},
   "outputs": [
    {
     "data": {
      "image/png": "[encoded data removed]",
      "text/plain": [
       "<Figure size 640x480 with 2 Axes>"
      ]
     },
     "metadata": {},
     "output_type": "display_data"
    }
   ],
   "source": [
    "plt.subplot(1,3,1)\n",
    "plt.boxplot(df_puntaje_global_oficial['PUNT_GLOBAL'])\n",
    "plt.title('Puntaje Global Colegios Oficiales')\n",
    "plt.ylabel('Estudiantes')\n",
    "plt.xlabel('Puntaje')\n",
    "plt.\n",
    "plt.subplot(1,3,3)\n",
    "plt.boxplot(df_puntaje_global_no_oficial['PUNT_GLOBAL'])\n",
    "plt.title('Puntaje Global Colegios No Oficiales')\n",
    "plt.ylabel('Estudiantes')\n",
    "plt.xlabel('Puntaje')\n",
    "plt.show()"
   ]
  },
  {
   "cell_type": "markdown",
   "metadata": {
    "nbgrader": {
     "grade": false,
     "grade_id": "ej2-enun",
     "locked": true,
     "schema_version": 3,
     "solution": false,
     "task": false
    }
   },
   "source": [
    "e. (5%) ¿Cree usted que hay alguna relación entre el puntaje global y el estrato del \n",
    "estudiante? "
   ]
  },
  {
   "cell_type": "code",
   "execution_count": 30,
   "metadata": {},
   "outputs": [
    {
     "data": {
      "text/plain": [
       "array(['Estrato 4', 'Estrato 2', 'Estrato 3', 'Estrato 5', 'Estrato 1',\n",
       "       '-', 'Estrato 6', 'Sin Estrato'], dtype=object)"
      ]
     },
     "execution_count": 30,
     "metadata": {},
     "output_type": "execute_result"
    }
   ],
   "source": [
    "df_puntajes['FAMI_ESTRATOVIVIENDA'].unique()"
   ]
  },
  {
   "cell_type": "code",
   "execution_count": 31,
   "metadata": {
    "nbgrader": {
     "grade": false,
     "grade_id": "ej2-data",
     "locked": true,
     "schema_version": 3,
     "solution": false,
     "task": false
    }
   },
   "outputs": [
    {
     "data": {
      "image/png": "[encoded data removed]",
      "text/plain": [
       "<Figure size 640x480 with 1 Axes>"
      ]
     },
     "metadata": {},
     "output_type": "display_data"
    }
   ],
   "source": [
    "# No modifiques esta celda\n",
    "df_puntaje_estrato = df_puntajes[['FAMI_ESTRATOVIVIENDA','PUNT_GLOBAL']]\n",
    "\n",
    "plt.boxplot([df_puntaje_estrato[df_puntaje_estrato['FAMI_ESTRATOVIVIENDA']=='Estrato 1']['PUNT_GLOBAL'],df_puntaje_estrato[df_puntaje_estrato['FAMI_ESTRATOVIVIENDA']=='Estrato 2']['PUNT_GLOBAL'],df_puntaje_estrato[df_puntaje_estrato['FAMI_ESTRATOVIVIENDA']=='Estrato 3']['PUNT_GLOBAL'],df_puntaje_estrato[df_puntaje_estrato['FAMI_ESTRATOVIVIENDA']=='Estrato 4']['PUNT_GLOBAL'],df_puntaje_estrato[df_puntaje_estrato['FAMI_ESTRATOVIVIENDA']=='Estrato 5']['PUNT_GLOBAL'],df_puntaje_estrato[df_puntaje_estrato['FAMI_ESTRATOVIVIENDA']=='Estrato 6']['PUNT_GLOBAL'],df_puntaje_estrato[df_puntaje_estrato['FAMI_ESTRATOVIVIENDA']=='Sin Estrato']['PUNT_GLOBAL']], labels=['Estrato 1','Estrato 2','Estrato 3','Estrato 4','Estrato 5','Estrato 6','Sin Estrato'])\n",
    "plt.title('Puntajes Globales en cada estrato')\n",
    "plt.xlabel('Estratos')\n",
    "plt.ylabel('Puntaje')\n",
    "plt.show()"
   ]
  },
  {
   "cell_type": "markdown",
   "metadata": {
    "nbgrader": {
     "grade": false,
     "grade_id": "ej2-task",
     "locked": true,
     "schema_version": 3,
     "solution": false,
     "task": false
    }
   },
   "source": [
    "## Ejercicio 2\n",
    "\n",
    "(30%) Teniendo en cuenta los resultados obtenidos por los estudiantes en sus pruebas ICFES una academia dedicada a cursos pre-icfes decidió ofertar una variedad de cursos con el fin de lograr que los estudiantes obtengan puntajes mayores a 400 puntos. La academia optó por desarrollar 4 cursos distintos, estos están pensados variando la intensidad de horas de la siguiente manera; intensivo (2 horas díarias), semi-intensivo (4 horas semanales), semanal (5 horas en un solo día) y super intensivo (3 horas diarias).En la base de datos cursos.cvs, encontrara los resultados obtenidos por los estudiantes de acuerdo con el curso tomado. Con base en la información, conteste las siguientes preguntas: <br>"
   ]
  },
  {
   "cell_type": "markdown",
   "metadata": {
    "nbgrader": {
     "grade": false,
     "grade_id": "ej2-task",
     "locked": true,
     "schema_version": 3,
     "solution": false,
     "task": false
    }
   },
   "source": [
    "a. (10%) Realice estadísticas descriptivas (promedio, frecuencia, desviación, entre otros) que permitan observar diferencias de los puntajes obtenidos por los estudiantes según el curso tomado y concluya"
   ]
  },
  {
   "cell_type": "code",
   "execution_count": 32,
   "metadata": {},
   "outputs": [
    {
     "data": {
      "text/html": [
       "<div>\n",
       "<style scoped>\n",
       "    .dataframe tbody tr th:only-of-type {\n",
       "        vertical-align: middle;\n",
       "    }\n",
       "\n",
       "    .dataframe tbody tr th {\n",
       "        vertical-align: top;\n",
       "    }\n",
       "\n",
       "    .dataframe thead th {\n",
       "        text-align: right;\n",
       "    }\n",
       "</style>\n",
       "<table border=\"1\" class=\"dataframe\">\n",
       "  <thead>\n",
       "    <tr style=\"text-align: right;\">\n",
       "      <th></th>\n",
       "      <th>Tipo de Curso</th>\n",
       "      <th>Puntaje</th>\n",
       "    </tr>\n",
       "  </thead>\n",
       "  <tbody>\n",
       "    <tr>\n",
       "      <th>0</th>\n",
       "      <td>Intensivo</td>\n",
       "      <td>382</td>\n",
       "    </tr>\n",
       "    <tr>\n",
       "      <th>1</th>\n",
       "      <td>Intensivo</td>\n",
       "      <td>414</td>\n",
       "    </tr>\n",
       "    <tr>\n",
       "      <th>2</th>\n",
       "      <td>Intensivo</td>\n",
       "      <td>412</td>\n",
       "    </tr>\n",
       "    <tr>\n",
       "      <th>3</th>\n",
       "      <td>Intensivo</td>\n",
       "      <td>401</td>\n",
       "    </tr>\n",
       "    <tr>\n",
       "      <th>4</th>\n",
       "      <td>Intensivo</td>\n",
       "      <td>412</td>\n",
       "    </tr>\n",
       "    <tr>\n",
       "      <th>5</th>\n",
       "      <td>Intensivo</td>\n",
       "      <td>416</td>\n",
       "    </tr>\n",
       "    <tr>\n",
       "      <th>6</th>\n",
       "      <td>Semi-Intensivo</td>\n",
       "      <td>402</td>\n",
       "    </tr>\n",
       "    <tr>\n",
       "      <th>7</th>\n",
       "      <td>Semi-Intensivo</td>\n",
       "      <td>393</td>\n",
       "    </tr>\n",
       "    <tr>\n",
       "      <th>8</th>\n",
       "      <td>Semi-Intensivo</td>\n",
       "      <td>415</td>\n",
       "    </tr>\n",
       "    <tr>\n",
       "      <th>9</th>\n",
       "      <td>Semi-Intensivo</td>\n",
       "      <td>400</td>\n",
       "    </tr>\n",
       "    <tr>\n",
       "      <th>10</th>\n",
       "      <td>Semi-Intensivo</td>\n",
       "      <td>391</td>\n",
       "    </tr>\n",
       "    <tr>\n",
       "      <th>11</th>\n",
       "      <td>Semi-Intensivo</td>\n",
       "      <td>379</td>\n",
       "    </tr>\n",
       "    <tr>\n",
       "      <th>12</th>\n",
       "      <td>Semi-Intensivo</td>\n",
       "      <td>400</td>\n",
       "    </tr>\n",
       "    <tr>\n",
       "      <th>13</th>\n",
       "      <td>Semanal</td>\n",
       "      <td>312</td>\n",
       "    </tr>\n",
       "    <tr>\n",
       "      <th>14</th>\n",
       "      <td>Semanal</td>\n",
       "      <td>277</td>\n",
       "    </tr>\n",
       "    <tr>\n",
       "      <th>15</th>\n",
       "      <td>Semanal</td>\n",
       "      <td>390</td>\n",
       "    </tr>\n",
       "    <tr>\n",
       "      <th>16</th>\n",
       "      <td>Semanal</td>\n",
       "      <td>396</td>\n",
       "    </tr>\n",
       "    <tr>\n",
       "      <th>17</th>\n",
       "      <td>Semanal</td>\n",
       "      <td>366</td>\n",
       "    </tr>\n",
       "    <tr>\n",
       "      <th>18</th>\n",
       "      <td>Semanal</td>\n",
       "      <td>380</td>\n",
       "    </tr>\n",
       "    <tr>\n",
       "      <th>19</th>\n",
       "      <td>Semanal</td>\n",
       "      <td>398</td>\n",
       "    </tr>\n",
       "    <tr>\n",
       "      <th>20</th>\n",
       "      <td>Semanal</td>\n",
       "      <td>364</td>\n",
       "    </tr>\n",
       "    <tr>\n",
       "      <th>21</th>\n",
       "      <td>Semanal</td>\n",
       "      <td>392</td>\n",
       "    </tr>\n",
       "    <tr>\n",
       "      <th>22</th>\n",
       "      <td>Semanal</td>\n",
       "      <td>400</td>\n",
       "    </tr>\n",
       "    <tr>\n",
       "      <th>23</th>\n",
       "      <td>Semanal</td>\n",
       "      <td>379</td>\n",
       "    </tr>\n",
       "    <tr>\n",
       "      <th>24</th>\n",
       "      <td>Super-Intensivo</td>\n",
       "      <td>415</td>\n",
       "    </tr>\n",
       "    <tr>\n",
       "      <th>25</th>\n",
       "      <td>Super-Intensivo</td>\n",
       "      <td>401</td>\n",
       "    </tr>\n",
       "    <tr>\n",
       "      <th>26</th>\n",
       "      <td>Super-Intensivo</td>\n",
       "      <td>417</td>\n",
       "    </tr>\n",
       "    <tr>\n",
       "      <th>27</th>\n",
       "      <td>Super-Intensivo</td>\n",
       "      <td>421</td>\n",
       "    </tr>\n",
       "    <tr>\n",
       "      <th>28</th>\n",
       "      <td>Super-Intensivo</td>\n",
       "      <td>469</td>\n",
       "    </tr>\n",
       "    <tr>\n",
       "      <th>29</th>\n",
       "      <td>Super-Intensivo</td>\n",
       "      <td>434</td>\n",
       "    </tr>\n",
       "    <tr>\n",
       "      <th>30</th>\n",
       "      <td>Super-Intensivo</td>\n",
       "      <td>419</td>\n",
       "    </tr>\n",
       "    <tr>\n",
       "      <th>31</th>\n",
       "      <td>Super-Intensivo</td>\n",
       "      <td>444</td>\n",
       "    </tr>\n",
       "    <tr>\n",
       "      <th>32</th>\n",
       "      <td>Super-Intensivo</td>\n",
       "      <td>425</td>\n",
       "    </tr>\n",
       "    <tr>\n",
       "      <th>33</th>\n",
       "      <td>Super-Intensivo</td>\n",
       "      <td>465</td>\n",
       "    </tr>\n",
       "    <tr>\n",
       "      <th>34</th>\n",
       "      <td>Super-Intensivo</td>\n",
       "      <td>413</td>\n",
       "    </tr>\n",
       "    <tr>\n",
       "      <th>35</th>\n",
       "      <td>Super-Intensivo</td>\n",
       "      <td>424</td>\n",
       "    </tr>\n",
       "    <tr>\n",
       "      <th>36</th>\n",
       "      <td>Super-Intensivo</td>\n",
       "      <td>434</td>\n",
       "    </tr>\n",
       "  </tbody>\n",
       "</table>\n",
       "</div>"
      ],
      "text/plain": [
       "     Tipo de Curso   Puntaje\n",
       "0         Intensivo      382\n",
       "1         Intensivo      414\n",
       "2         Intensivo      412\n",
       "3         Intensivo      401\n",
       "4         Intensivo      412\n",
       "5         Intensivo      416\n",
       "6    Semi-Intensivo      402\n",
       "7    Semi-Intensivo      393\n",
       "8    Semi-Intensivo      415\n",
       "9    Semi-Intensivo      400\n",
       "10   Semi-Intensivo      391\n",
       "11   Semi-Intensivo      379\n",
       "12   Semi-Intensivo      400\n",
       "13          Semanal      312\n",
       "14          Semanal      277\n",
       "15          Semanal      390\n",
       "16          Semanal      396\n",
       "17          Semanal      366\n",
       "18          Semanal      380\n",
       "19          Semanal      398\n",
       "20          Semanal      364\n",
       "21          Semanal      392\n",
       "22          Semanal      400\n",
       "23          Semanal      379\n",
       "24  Super-Intensivo      415\n",
       "25  Super-Intensivo      401\n",
       "26  Super-Intensivo      417\n",
       "27  Super-Intensivo      421\n",
       "28  Super-Intensivo      469\n",
       "29  Super-Intensivo      434\n",
       "30  Super-Intensivo      419\n",
       "31  Super-Intensivo      444\n",
       "32  Super-Intensivo      425\n",
       "33  Super-Intensivo      465\n",
       "34  Super-Intensivo      413\n",
       "35  Super-Intensivo      424\n",
       "36  Super-Intensivo      434"
      ]
     },
     "execution_count": 32,
     "metadata": {},
     "output_type": "execute_result"
    }
   ],
   "source": [
    "# Implementa tu respuesta en esta celda\n",
    "#Obteniendo la base de datos\n",
    "data_2 = '/Users/santiagoromero/Documents/Maestria/Modelos Analisis Estadisticos/Tareas/Tarea 1/Archivos/cursos.csv'\n",
    "data_frame_2 = pd.read_csv(data_2)\n",
    "data_frame_2"
   ]
  },
  {
   "cell_type": "code",
   "execution_count": 35,
   "metadata": {
    "scrolled": true
   },
   "outputs": [
    {
     "data": {
      "text/plain": [
       "array(['Intensivo', 'Semi-Intensivo', 'Semanal', 'Super-Intensivo'],\n",
       "      dtype=object)"
      ]
     },
     "execution_count": 35,
     "metadata": {},
     "output_type": "execute_result"
    }
   ],
   "source": [
    "cursos = data_frame_2['Tipo de Curso '].unique()\n",
    "cursos"
   ]
  },
  {
   "cell_type": "code",
   "execution_count": 36,
   "metadata": {},
   "outputs": [],
   "source": [
    "dataframe_por_cursos = {'Intensivo':0 ,'Semi-Intensivo':0 ,'Semanal':0 ,'Super-Intensivo':0 }\n",
    "\n",
    "for curso in cursos:\n",
    "    data_frame_curso = data_frame_2[data_frame_2['Tipo de Curso '] == curso]\n",
    "    dataframe_por_cursos[curso] = data_frame_curso"
   ]
  },
  {
   "cell_type": "code",
   "execution_count": 53,
   "metadata": {},
   "outputs": [
    {
     "data": {
      "text/html": [
       "<div>\n",
       "<style scoped>\n",
       "    .dataframe tbody tr th:only-of-type {\n",
       "        vertical-align: middle;\n",
       "    }\n",
       "\n",
       "    .dataframe tbody tr th {\n",
       "        vertical-align: top;\n",
       "    }\n",
       "\n",
       "    .dataframe thead th {\n",
       "        text-align: right;\n",
       "    }\n",
       "</style>\n",
       "<table border=\"1\" class=\"dataframe\">\n",
       "  <thead>\n",
       "    <tr style=\"text-align: right;\">\n",
       "      <th></th>\n",
       "      <th>Intensivo</th>\n",
       "      <th>Semi-Intensivo</th>\n",
       "      <th>Semanal</th>\n",
       "      <th>Super-Intensivo</th>\n",
       "    </tr>\n",
       "  </thead>\n",
       "  <tbody>\n",
       "    <tr>\n",
       "      <th>count</th>\n",
       "      <td>6.0</td>\n",
       "      <td>7.0</td>\n",
       "      <td>11.0</td>\n",
       "      <td>13.0</td>\n",
       "    </tr>\n",
       "    <tr>\n",
       "      <th>mean</th>\n",
       "      <td>406.0</td>\n",
       "      <td>397.0</td>\n",
       "      <td>369.0</td>\n",
       "      <td>429.0</td>\n",
       "    </tr>\n",
       "    <tr>\n",
       "      <th>std</th>\n",
       "      <td>13.0</td>\n",
       "      <td>11.0</td>\n",
       "      <td>39.0</td>\n",
       "      <td>20.0</td>\n",
       "    </tr>\n",
       "    <tr>\n",
       "      <th>min</th>\n",
       "      <td>382.0</td>\n",
       "      <td>379.0</td>\n",
       "      <td>277.0</td>\n",
       "      <td>401.0</td>\n",
       "    </tr>\n",
       "    <tr>\n",
       "      <th>25%</th>\n",
       "      <td>404.0</td>\n",
       "      <td>392.0</td>\n",
       "      <td>365.0</td>\n",
       "      <td>417.0</td>\n",
       "    </tr>\n",
       "    <tr>\n",
       "      <th>50%</th>\n",
       "      <td>412.0</td>\n",
       "      <td>400.0</td>\n",
       "      <td>380.0</td>\n",
       "      <td>424.0</td>\n",
       "    </tr>\n",
       "    <tr>\n",
       "      <th>75%</th>\n",
       "      <td>414.0</td>\n",
       "      <td>401.0</td>\n",
       "      <td>394.0</td>\n",
       "      <td>434.0</td>\n",
       "    </tr>\n",
       "    <tr>\n",
       "      <th>max</th>\n",
       "      <td>416.0</td>\n",
       "      <td>415.0</td>\n",
       "      <td>400.0</td>\n",
       "      <td>469.0</td>\n",
       "    </tr>\n",
       "  </tbody>\n",
       "</table>\n",
       "</div>"
      ],
      "text/plain": [
       "       Intensivo  Semi-Intensivo  Semanal  Super-Intensivo\n",
       "count        6.0             7.0     11.0             13.0\n",
       "mean       406.0           397.0    369.0            429.0\n",
       "std         13.0            11.0     39.0             20.0\n",
       "min        382.0           379.0    277.0            401.0\n",
       "25%        404.0           392.0    365.0            417.0\n",
       "50%        412.0           400.0    380.0            424.0\n",
       "75%        414.0           401.0    394.0            434.0\n",
       "max        416.0           415.0    400.0            469.0"
      ]
     },
     "execution_count": 53,
     "metadata": {},
     "output_type": "execute_result"
    }
   ],
   "source": [
    "#Estadísticas descriptivas (promedio, frecuencia, desviación, entre otros)\n",
    "descriptiva_2 = pd.DataFrame()\n",
    "\n",
    "for curso in dataframe_por_cursos:\n",
    "    stat = dataframe_por_cursos[curso].describe()\n",
    "    descriptiva_2[curso] = stat\n",
    "\n",
    "descriptiva_2 = descriptiva_2.round(0)\n",
    "descriptiva_2"
   ]
  },
  {
   "cell_type": "markdown",
   "metadata": {
    "nbgrader": {
     "grade": false,
     "grade_id": "ej2-task",
     "locked": true,
     "schema_version": 3,
     "solution": false,
     "task": false
    }
   },
   "source": [
    "b. (10%) Un estudiante que se encuentra indeciso por el curso a tomar considera que el \n",
    "curso intensivo y el curso super intensivo no tienen ninguna diferencia. ¿Está de acuerdo \n",
    "con esta afirmación?"
   ]
  },
  {
   "cell_type": "code",
   "execution_count": 76,
   "metadata": {
    "nbgrader": {
     "grade": false,
     "grade_id": "ej2-sol",
     "locked": false,
     "schema_version": 3,
     "solution": true,
     "task": false
    },
    "nombre": "Ej2"
   },
   "outputs": [],
   "source": [
    "# Implementa tu respuesta en esta celda\n",
    "#Curso intensivo\n",
    "curso_intensivo = data_frame_2['Tipo de Curso '] == 'Intensivo'\n",
    "df_curso_intensivo = data_frame_2[curso_intensivo]\n",
    "df_curso_intensivo = df_curso_intensivo.drop(columns='Tipo de Curso ')\n",
    "\n",
    "#Curso Super-Intensivo\n",
    "curso_super_intensivo = data_frame_2['Tipo de Curso '] == 'Super-Intensivo'\n",
    "df_curso_super_intensivo = data_frame_2[curso_super_intensivo]\n",
    "df_curso_super_intensivo = df_curso_super_intensivo.drop(columns='Tipo de Curso ')"
   ]
  },
  {
   "cell_type": "code",
   "execution_count": 81,
   "metadata": {},
   "outputs": [
    {
     "data": {
      "image/png": "[encoded data removed]",
      "text/plain": [
       "<Figure size 640x480 with 2 Axes>"
      ]
     },
     "metadata": {},
     "output_type": "display_data"
    }
   ],
   "source": [
    "plt.subplot(1,2,1)\n",
    "plt.boxplot(df_curso_intensivo['Puntaje'])\n",
    "plt.xlabel('Curso Intensivo')\n",
    "plt.ylabel('Puntaje')\n",
    "plt.ylim(390, 480)\n",
    "plt.subplot(1,2,2)\n",
    "plt.boxplot(df_curso_super_intensivo['Puntaje'])\n",
    "plt.xlabel('Curso Super Intensivo')\n",
    "plt.ylim(390, 480)\n",
    "plt.show()"
   ]
  },
  {
   "cell_type": "markdown",
   "metadata": {
    "nbgrader": {
     "grade": false,
     "grade_id": "ej2-task",
     "locked": true,
     "schema_version": 3,
     "solution": false,
     "task": false
    }
   },
   "source": [
    "c. (10%) Uno de los profesores de la academia desea conocer los puntajes promedio de los estudiantes con el fin de establecer estrategias para que algún estudiante tenga un puntaje mayor a 483 que es el mejor de la academia, ¿cree usted que el profesor puede ayudar a sus estudiantes sugiriéndoles que tomen el curso semanal? ¿Qué curso cree usted que debe sugerir el profesor a sus estudiantes teniendo en cuenta los resultados que se han obtenido? <br>"
   ]
  },
  {
   "cell_type": "code",
   "execution_count": 74,
   "metadata": {
    "nbgrader": {
     "grade": false,
     "grade_id": "ej2-sol",
     "locked": false,
     "schema_version": 3,
     "solution": true,
     "task": false
    },
    "nombre": "Ej2"
   },
   "outputs": [],
   "source": [
    "# Implementa tu respuesta en esta celda\n",
    "#Curso Semanal\n",
    "curso_semanal = data_frame_2['Tipo de Curso '] == 'Semanal'\n",
    "df_curso_semanal = data_frame_2[curso_semanal]\n",
    "df_curso_semanal = df_curso_semanal.drop(columns='Tipo de Curso ')\n",
    "\n",
    "#Curso Semi-intensivo\n",
    "curso_semi_intensivo = data_frame_2['Tipo de Curso '] == 'Semi-Intensivo'\n",
    "df_curso_semi_intensivo = data_frame_2[curso_semi_intensivo]\n",
    "df_curso_semi_intensivo = df_curso_semi_intensivo.drop(columns='Tipo de Curso ')"
   ]
  },
  {
   "cell_type": "code",
   "execution_count": 80,
   "metadata": {},
   "outputs": [
    {
     "data": {
      "image/png": "[encoded data removed]",
      "text/plain": [
       "<Figure size 640x480 with 4 Axes>"
      ]
     },
     "metadata": {},
     "output_type": "display_data"
    }
   ],
   "source": [
    "plt.subplot(1,4,1)\n",
    "plt.boxplot(df_curso_intensivo['Puntaje'])\n",
    "plt.xlabel('Curso Intensivo')\n",
    "plt.ylabel('Puntaje')\n",
    "plt.ylim(280, 470)\n",
    "plt.subplot(1,4,2)\n",
    "plt.boxplot(df_curso_super_intensivo['Puntaje'])\n",
    "plt.xlabel('Curso Super Intensivo')\n",
    "plt.ylim(280, 470)\n",
    "plt.subplot(1,4,3)\n",
    "plt.boxplot(df_curso_semi_intensivo['Puntaje'])\n",
    "plt.xlabel('Curso Semi Intensivo')\n",
    "plt.ylim(280, 470)\n",
    "plt.subplot(1,4,4)\n",
    "plt.boxplot(df_curso_semanal['Puntaje'])\n",
    "plt.xlabel('Curso Semanal')\n",
    "plt.ylim(280, 470)\n",
    "plt.show()"
   ]
  },
  {
   "cell_type": "markdown",
   "metadata": {
    "nbgrader": {
     "grade": false,
     "grade_id": "ej2-task",
     "locked": true,
     "schema_version": 3,
     "solution": false,
     "task": false
    }
   },
   "source": [
    "## Ejercicio 3\n",
    "\n",
    "(30%) Battlife se dedica a la producción de baterías, se sabe la vida útil promedio de sus baterías siguen una distribución normal con una media de 800 horas y una varianza 𝜎2. Un grupo de ingenieros quieren verificar que esta afirmación sea veraz, por lo tanto deciden tomar una muestra aleatoria de 30 baterías con las cuales obtienen que la vida útil promedio es de 790 horas, con una desviación estándar muestral de 50 horas."
   ]
  },
  {
   "cell_type": "markdown",
   "metadata": {
    "nbgrader": {
     "grade": false,
     "grade_id": "ej2-task",
     "locked": true,
     "schema_version": 3,
     "solution": false,
     "task": false
    }
   },
   "source": [
    "a. (10%) ¿Cuál es la probabilidad de que la vida útil promedio real de las baterías sea \n",
    "menor a 780 horas?"
   ]
  },
  {
   "cell_type": "code",
   "execution_count": null,
   "metadata": {
    "nbgrader": {
     "grade": false,
     "grade_id": "ej2-sol",
     "locked": false,
     "schema_version": 3,
     "solution": true,
     "task": false
    },
    "nombre": "Ej2"
   },
   "outputs": [],
   "source": [
    "# Implementa tu respuesta en esta celda\n",
    "\n"
   ]
  },
  {
   "cell_type": "markdown",
   "metadata": {
    "nbgrader": {
     "grade": false,
     "grade_id": "ej2-task",
     "locked": true,
     "schema_version": 3,
     "solution": false,
     "task": false
    }
   },
   "source": [
    "b. (10%) Un comprador está interesado en adquirir un lote de baterías, sin embargo, solicitó que, en una muestra de 40 baterías, la variabilidad de las vidas útiles no debe exceder 2500 horas. Calcule la probabilidad de que la varianza de las vidas útiles de una muestra de 40 baterías supere este valor"
   ]
  },
  {
   "cell_type": "code",
   "execution_count": null,
   "metadata": {
    "nbgrader": {
     "grade": false,
     "grade_id": "ej2-sol",
     "locked": false,
     "schema_version": 3,
     "solution": true,
     "task": false
    },
    "nombre": "Ej2"
   },
   "outputs": [],
   "source": [
    "# Implementa tu respuesta en esta celda\n",
    "\n"
   ]
  },
  {
   "cell_type": "markdown",
   "metadata": {
    "nbgrader": {
     "grade": false,
     "grade_id": "ej3-task",
     "locked": true,
     "schema_version": 3,
     "solution": false,
     "task": false
    }
   },
   "source": [
    "c. (10%) El área de desarrollo esta haciendo un estudio de mercado dado que desean que las baterías producidas sean las que tengan la mejor vida útil del mercado. Por lo cual, se han obtenido los resultados de una empresa competidora “BattteriesInc”. De “BattteriesInc”. se conoce que la vida útil promedio de las baterías es una variable aleatoria que sigue una distribución Normal con media 𝜇 y varianza 0.005. Se tomó una muestra aleatoria de 20 baterías de Battlife y 15 baterías de BattteriesInc. Asumiendo que las variables aleatorias son independientes, ¿cuál es la probabilidad de que la varianza muestral de la vida útil producida por Battlife menor a la varianza muestral del espesor de la vida útil de BatteriesInc?"
   ]
  },
  {
   "cell_type": "code",
   "execution_count": null,
   "metadata": {
    "nbgrader": {
     "grade": false,
     "grade_id": "ej2-sol",
     "locked": false,
     "schema_version": 3,
     "solution": true,
     "task": false
    },
    "nombre": "Ej2"
   },
   "outputs": [],
   "source": [
    "# Implementa tu respuesta en esta celda\n",
    "\n"
   ]
  },
  {
   "cell_type": "markdown",
   "metadata": {
    "nbgrader": {
     "grade": false,
     "grade_id": "creds",
     "locked": true,
     "schema_version": 3,
     "solution": false,
     "task": false
    }
   },
   "source": [
    "## Créditos\n",
    "\n",
    "__Autores__: Laura Valentina Diaz Pinzon\n",
    "\n",
    "__Actualizado por__: Alejandra Tabares Pozos. \n",
    "\n",
    "__Fecha última actualización__: 01/09/2023"
   ]
  }
 ],
 "metadata": {
  "celltoolbar": "Create Assignment",
  "kernelspec": {
   "display_name": "Python 3 (ipykernel)",
   "language": "python",
   "name": "python3"
  },
  "language_info": {
   "codemirror_mode": {
    "name": "ipython",
    "version": 3
   },
   "file_extension": ".py",
   "mimetype": "text/x-python",
   "name": "python",
   "nbconvert_exporter": "python",
   "pygments_lexer": "ipython3",
   "version": "3.11.4"
  }
 },
 "nbformat": 4,
 "nbformat_minor": 2
}
