{
 "cells": [
  {
   "cell_type": "markdown",
   "id": "563d1e87",
   "metadata": {},
   "source": [
    "# 📝 Ejercicio"
   ]
  },
  {
   "cell_type": "code",
   "execution_count": 1,
   "id": "0e29c338",
   "metadata": {},
   "outputs": [],
   "source": [
    "import math"
   ]
  },
  {
   "cell_type": "markdown",
   "id": "8ef8b304",
   "metadata": {},
   "source": [
    "\n",
    "**1.**  En el último trimestre, el 15% de los correos electrónicos enviados por el equipo de marketing fueron abiertos por los clientes. Si se selecciona un correo electrónico al azar:\n",
    "  - ¿Cuál es la probabilidad de que haya sido abierto?\n",
    "  - ¿Cuál es la probabilidad de que no haya sido abierto?\n",
    "\n",
    "**2.** Estás organizando una serie de charlas para una conferencia empresarial. Hay 4 ponentes: Juan, María, Lucas y Sofía. ¿De cuántas maneras diferentes pueden presentarse si cada uno dará una charla distinta?\n",
    "\n",
    "**3.** De un equipo de 8 ingenieros de datos, necesitas formar equipos de 4 para trabajar en diferentes proyectos. ¿Cuántos posibles equipos puedes formar?\n",
    "\n",
    "**4.** En tu tienda en línea, el 20% de los visitantes que ven un video promocional compran un producto. Solo el 5% de los que no ven el video hacen una compra. Si un visitante ha comprado un producto, ¿cuál es la probabilidad de que haya visto el video?\n",
    "\n",
    "**5.** Imagina que estás usando un nuevo software que detecta errores en los códigos. Si el software identifica un error, hay un 90% de probabilidad de que realmente sea un error. Sin embargo, solo el 3% del código total tiene errores. Si el software detecta un error, ¿cuál es la probabilidad de que realmente lo sea?\n",
    "\n",
    "**6.** Tienes 10 características posibles para implementar en tu nuevo software, pero solo tienes recursos para implementar 5 de ellas en la primera versión. ¿Cuántas combinaciones diferentes de características puedes considerar?\n",
    "\n",
    "**7.** Estás evaluando contraseñas de 4 caracteres donde se pueden usar números del 0 al 9. Si se pueden repetir números, ¿cuántas contraseñas diferentes es posible generar?\n",
    "\n",
    "**8.** De todos los empleados que asistieron a una capacitación de habilidades blandas, el 70% obtuvo una mejora en su desempeño en los siguientes meses. De los que no asistieron, solo el 40% mostró una mejora. Si un empleado aleatorio mostró mejoras, ¿cuál es la probabilidad de que haya asistido a la capacitación?\n",
    "\n",
    "**9.** Estás probando dos versiones diferentes de un anuncio. El anuncio A tiene una tasa de clics (CTR) del 5%, y el anuncio B, del 7%. Si el 60% de las impresiones son del anuncio A y el resto del anuncio B, y un usuario hizo clic en un anuncio, ¿cuál es la probabilidad de que haya sido el anuncio B?\n",
    "\n",
    "\n",
    "\n"
   ]
  },
  {
   "cell_type": "code",
   "execution_count": null,
   "id": "494b2db9",
   "metadata": {},
   "outputs": [],
   "source": [
    "#1 "
   ]
  },
  {
   "cell_type": "code",
   "execution_count": 2,
   "id": "af99e857",
   "metadata": {},
   "outputs": [
    {
     "data": {
      "text/plain": [
       "24"
      ]
     },
     "execution_count": 2,
     "metadata": {},
     "output_type": "execute_result"
    }
   ],
   "source": [
    "#2 - 4 Ponentes\n",
    "maneras = math.factorial(4)\n",
    "maneras\n"
   ]
  },
  {
   "cell_type": "code",
   "execution_count": 10,
   "id": "4fb67bd7",
   "metadata": {},
   "outputs": [
    {
     "data": {
      "text/plain": [
       "0.5"
      ]
     },
     "execution_count": 10,
     "metadata": {},
     "output_type": "execute_result"
    }
   ],
   "source": [
    "#4 - Probabilidad de ver el video\n",
    "P_AB = 0.2\n",
    "P_B = 0.2\n",
    "P_A = (0.2*0.2)+(0.05*0.8) \n",
    "\n",
    "\n",
    "P_MA = (P_AB*P_B)/P_A\n",
    "P_MA"
   ]
  },
  {
   "cell_type": "code",
   "execution_count": 3,
   "id": "d8014658",
   "metadata": {},
   "outputs": [
    {
     "data": {
      "text/plain": [
       "252"
      ]
     },
     "execution_count": 3,
     "metadata": {},
     "output_type": "execute_result"
    }
   ],
   "source": [
    "#6 Combinaciones de características\n",
    "combinaciones = math.comb(10,5)\n",
    "combinaciones"
   ]
  },
  {
   "cell_type": "code",
   "execution_count": 4,
   "id": "6e50c50a",
   "metadata": {},
   "outputs": [
    {
     "data": {
      "text/plain": [
       "0.6363636363636362"
      ]
     },
     "execution_count": 4,
     "metadata": {},
     "output_type": "execute_result"
    }
   ],
   "source": [
    "#8 Probabilidad de asistir a la capacitación\n",
    "P_AM = 0.7\n",
    "P_AN = 0.4\n",
    "\n",
    "P_MA = P_AM/(P_AM+P_AN)\n",
    "P_MA"
   ]
  },
  {
   "cell_type": "markdown",
   "id": "3767754a",
   "metadata": {},
   "source": [
    "### Ejercicios de Distribuciones"
   ]
  },
  {
   "cell_type": "code",
   "execution_count": 2,
   "id": "a7e4245a",
   "metadata": {},
   "outputs": [],
   "source": [
    "from scipy.stats import norm"
   ]
  },
  {
   "cell_type": "markdown",
   "id": "792fcafe",
   "metadata": {},
   "source": [
    "**10.** Las puntuaciones de satisfacción de los empleados en una empresa están normalmente distribuidas con una media de 70 y una desviación estándar de 15. ¿Cuál es la probabilidad de que un empleado seleccionado al azar tenga una puntuación mayor que 85?"
   ]
  },
  {
   "cell_type": "code",
   "execution_count": 4,
   "id": "f6680080",
   "metadata": {},
   "outputs": [
    {
     "name": "stdout",
     "output_type": "stream",
     "text": [
      "0.15865525393145707\n"
     ]
    }
   ],
   "source": [
    "mean_10 = 70\n",
    "std_10 = 15\n",
    "Puntaje = 85\n",
    "z = (Puntaje - mean_10) / std_10\n",
    "Prob_acumulada = norm.cdf(z)\n",
    "Prob = 1 - Prob_acumulada\n",
    "print(Prob)"
   ]
  },
  {
   "cell_type": "markdown",
   "id": "b46c2fff",
   "metadata": {},
   "source": [
    "**11.** Un restaurante estudia el tiempo que los clientes pasan cenando y encuentra que sigue una distribución normal con una media de 45 minutos y una desviación estándar de 10 minutos. ¿Cuál es el tiempo que supera el 90% de los clientes?"
   ]
  },
  {
   "cell_type": "code",
   "execution_count": 16,
   "id": "fa373b0d",
   "metadata": {},
   "outputs": [
    {
     "name": "stdout",
     "output_type": "stream",
     "text": [
      "50.39827837277029\n"
     ]
    }
   ],
   "source": [
    "#Usar norm.cdf = Cumulative Distribution Function\n",
    "mean_11 = 45\n",
    "std_11 = 10\n",
    "prob_acum_11 = 0.9\n",
    "\n",
    "prob_x = 1 - prob_acum_11\n",
    "z = norm.cdf(prob_x)\n",
    "x = (z*std_11) + mean_11\n",
    "print(x)"
   ]
  },
  {
   "cell_type": "markdown",
   "id": "e225c149",
   "metadata": {},
   "source": [
    "**12.** Las ventas de una empresa en particular se distribuyen uniformemente entre 50 y 150 unidades diarias. Si un día venden 100 unidades, ¿qué porcentaje de días venderán más que eso?"
   ]
  },
  {
   "cell_type": "code",
   "execution_count": 17,
   "id": "39688d61",
   "metadata": {},
   "outputs": [],
   "source": [
    "from scipy.stats import uniform"
   ]
  },
  {
   "cell_type": "code",
   "execution_count": 19,
   "id": "87dc5481",
   "metadata": {},
   "outputs": [
    {
     "name": "stdout",
     "output_type": "stream",
     "text": [
      "0.5\n"
     ]
    }
   ],
   "source": [
    "a = 50\n",
    "b = 150\n",
    "ventas = 100\n",
    "x = uniform.cdf(ventas, loc=a, scale=b-a)\n",
    "print(x)"
   ]
  },
  {
   "cell_type": "markdown",
   "id": "34826e84",
   "metadata": {},
   "source": [
    "**13.** Si las llamadas al centro de atención al cliente tienen una media de duración de 6 minutos con una desviación estándar de 2 minutos, y asumimos que las duraciones siguen una distribución normal, ¿cuál es la probabilidad de que una llamada dure menos de 4 minutos?"
   ]
  },
  {
   "cell_type": "code",
   "execution_count": 20,
   "id": "691c84a9",
   "metadata": {},
   "outputs": [
    {
     "name": "stdout",
     "output_type": "stream",
     "text": [
      "0.8413447460685429\n"
     ]
    }
   ],
   "source": [
    "mean_13 = 6\n",
    "std_13 = 2\n",
    "duracion = 4\n",
    "z = (mean_13 - duracion)/std_13\n",
    "prob_x_13 = norm.cdf(z)\n",
    "print(prob_x_13)"
   ]
  },
  {
   "cell_type": "markdown",
   "id": "9377cb47",
   "metadata": {},
   "source": [
    "**14.** Dada una distribución discreta de fallos en un equipo: Fallos (0, 1, 2, 3) con probabilidades (0.7, 0.15, 0.1, 0.05) respectivamente, ¿cuál es la varianza de fallos?"
   ]
  },
  {
   "cell_type": "code",
   "execution_count": null,
   "id": "9892f11a",
   "metadata": {},
   "outputs": [],
   "source": []
  },
  {
   "cell_type": "markdown",
   "id": "bd05b720",
   "metadata": {},
   "source": [
    "**15.** Un software de gestión de proyectos mide el tiempo que un empleado tarda en completar una tarea. Si se sabe que el tiempo se distribuye normalmente con una media de 3 horas y una desviación estándar de 30 minutos, ¿cuál es la probabilidad de que una tarea se complete en menos de 2.5 horas?"
   ]
  },
  {
   "cell_type": "code",
   "execution_count": 21,
   "id": "1fef916f",
   "metadata": {},
   "outputs": [
    {
     "name": "stdout",
     "output_type": "stream",
     "text": [
      "0.8413447460685429\n"
     ]
    }
   ],
   "source": [
    "mean_15 = 3\n",
    "std_15 = 0.5\n",
    "tiempo = 2.5\n",
    "z = (mean_15 - tiempo) / std_15\n",
    "prob_x_15 = norm.cdf(z)\n",
    "print(prob_x_15)"
   ]
  },
  {
   "cell_type": "markdown",
   "id": "360ac646",
   "metadata": {},
   "source": [
    "**16.** Un gerente observa que el número de ventas de un producto particular tiene una distribución discreta con las siguientes ventas (1, 2, 3, 4) y probabilidades (0.1, 0.3, 0.4, 0.2). Si se vende el producto a $100 cada uno, ¿cuál es el ingreso esperado por venta?"
   ]
  },
  {
   "cell_type": "code",
   "execution_count": null,
   "id": "0a490d07",
   "metadata": {},
   "outputs": [],
   "source": []
  },
  {
   "cell_type": "markdown",
   "id": "b0e43752",
   "metadata": {},
   "source": [
    "**17.** Una empresa de logística desea conocer el tiempo de entrega de sus paquetes. Si se sabe que el tiempo de entrega sigue una distribución uniforme entre 1 y 5 días, ¿cuál es la probabilidad de que un paquete se entregue exactamente en 3 días?"
   ]
  },
  {
   "cell_type": "code",
   "execution_count": null,
   "id": "6e8379a0",
   "metadata": {},
   "outputs": [],
   "source": []
  },
  {
   "cell_type": "markdown",
   "id": "92b587e4",
   "metadata": {},
   "source": [
    "**18.** Las ventas diarias de una tienda online están normalmente distribuidas con una media de 500 y una desviación estándar de 50. Si un día particular tienen 550 ventas, ¿qué porcentaje de días tendrán ventas menores que eso?"
   ]
  },
  {
   "cell_type": "code",
   "execution_count": null,
   "id": "0557eefb",
   "metadata": {},
   "outputs": [],
   "source": []
  },
  {
   "cell_type": "markdown",
   "id": "02cc40c0",
   "metadata": {},
   "source": [
    "**19.** Un departamento de calidad mide la cantidad de defectos de una línea de ensamblaje cada hora. Si los defectos pueden ser 0, 1, 2 con probabilidades 0.7, 0.2 y 0.1, ¿cuál es la probabilidad de que en 3 horas consecutivas no haya defectos?"
   ]
  },
  {
   "cell_type": "code",
   "execution_count": null,
   "id": "050bc413",
   "metadata": {},
   "outputs": [],
   "source": []
  },
  {
   "cell_type": "markdown",
   "id": "10ce7a02",
   "metadata": {},
   "source": [
    "**20.** Una tienda observa que el tiempo que los clientes pasan comprando sigue una distribución normal con una media de 40 minutos y una desviación estándar de 10 minutos. ¿Cuál es la probabilidad de que un cliente pase más de 1 hora comprando?"
   ]
  },
  {
   "cell_type": "code",
   "execution_count": null,
   "id": "d9b0ffaf",
   "metadata": {},
   "outputs": [],
   "source": []
  },
  {
   "cell_type": "markdown",
   "id": "e50b33d8",
   "metadata": {},
   "source": [
    "**21.** Un servicio de streaming estudia la cantidad de horas que sus usuarios pasan viendo contenido. Encuentran que sigue una distribución uniforme entre 1 y 3 horas diarias. ¿Qué porcentaje de usuarios verá contenido durante más de 2 horas pero menos de 2.5 horas?"
   ]
  },
  {
   "cell_type": "code",
   "execution_count": null,
   "id": "4255c6ed",
   "metadata": {},
   "outputs": [],
   "source": []
  },
  {
   "cell_type": "markdown",
   "id": "1ac39923",
   "metadata": {},
   "source": [
    "**22.** Una empresa de software libera una actualización y monitorea los errores reportados por sus usuarios. Si los errores reportados pueden ser 0, 1, 2, 3 con probabilidades 0.6, 0.2, 0.15 y 0.05, ¿cuál es la varianza de errores reportados?"
   ]
  },
  {
   "cell_type": "code",
   "execution_count": null,
   "id": "bbc0ee1d",
   "metadata": {},
   "outputs": [],
   "source": []
  },
  {
   "cell_type": "markdown",
   "id": "0192cb1b",
   "metadata": {},
   "source": [
    "**23.** Una empresa de consultoría encuentra que el número de proyectos que completan en un mes sigue una distribución discreta con valores (2, 3, 4, 5) y probabilidades (0.1, 0.4, 0.4, 0.1). Si cobran $5000 por proyecto, ¿cuál es el ingreso esperado por mes?"
   ]
  },
  {
   "cell_type": "code",
   "execution_count": null,
   "id": "bd37f7f9",
   "metadata": {},
   "outputs": [],
   "source": []
  },
  {
   "cell_type": "markdown",
   "id": "d6971484",
   "metadata": {},
   "source": [
    "**24.** Una cadena de restaurantes desea conocer el tiempo de espera de sus clientes. Si se sabe que el tiempo de espera sigue una distribución uniforme entre 5 y 15 minutos, ¿cuál es la probabilidad de que un cliente espere más de 10 minutos pero menos de 12 minutos?"
   ]
  },
  {
   "cell_type": "code",
   "execution_count": null,
   "id": "1890f064",
   "metadata": {},
   "outputs": [],
   "source": []
  }
 ],
 "metadata": {
  "jupytext": {
   "main_language": "python"
  },
  "kernelspec": {
   "display_name": "Python 3 (ipykernel)",
   "language": "python",
   "name": "python3"
  },
  "language_info": {
   "codemirror_mode": {
    "name": "ipython",
    "version": 3
   },
   "file_extension": ".py",
   "mimetype": "text/x-python",
   "name": "python",
   "nbconvert_exporter": "python",
   "pygments_lexer": "ipython3",
   "version": "3.11.4"
  }
 },
 "nbformat": 4,
 "nbformat_minor": 5
}
