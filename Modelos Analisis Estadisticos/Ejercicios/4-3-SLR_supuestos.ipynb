{
 "cells": [
  {
   "cell_type": "markdown",
   "id": "55c67139",
   "metadata": {},
   "source": [
    "## Lectura 4-3: Supuestos de la regresión lineal simple"
   ]
  },
  {
   "cell_type": "markdown",
   "id": "3a53eb85",
   "metadata": {
    "id": "3a53eb85"
   },
   "source": [
    "### Interpretación probabilística\n",
    "\n",
    "- Teniendo en cuenta los supuestos anteriores, estamos diciendo que la densidad de probabilidad (PDF) de los errores $\\epsilon$ es una gaussiana con media cero y varianza constante $\\sigma^2$:\n",
    "\n",
    " $$\\text{PDF}(\\epsilon_{i})=\\frac{1}{\\sqrt{2\\pi} \\sigma} \\exp \\left(- \\frac{\\epsilon_{i}^{2}}{2\\sigma^2}\\right)$$\n",
    "\n",
    "-   Además todos los $\\epsilon_{i}$ son IID (independientes e idénticamente distribuidos).\n",
    "\n",
    "- Esto implica que:\n",
    "\n",
    " $$\\text{PDF}(y_i|x_{i};\\beta)=\\frac{1}{\\sqrt{2\\pi} \\sigma} \\exp \\left(- \\frac{(y_i - h_{\\beta}(x_{i}) )^{2}}{2\\sigma^2}\\right)$$\n",
    "\n",
    "-  Lo que implica que la distribución de $\\mathbf{y}$ dados los valores de $\\mathbf{x}$, parametrizados por $\\beta$ también se distribuye normalmente.\n",
    "\n",
    "- Estimemos los parámetros del modelo ($\\beta$) utilizando la estimación de máxima verosimilitud."
   ]
  },
  {
   "cell_type": "markdown",
   "id": "e37e82a2",
   "metadata": {
    "id": "e37e82a2"
   },
   "source": [
    "\n",
    "-   La función de verosimilitud de $\\beta$ puede escribirse como:\n",
    "\n",
    "$$\\mathcal{L}(\\beta) = \\prod_{i=1}^{n}\\frac{1}{\\sqrt{2\\pi} \\sigma} \\exp \\left(- \\frac{(y_i - h_{\\beta}(x_{i}) )^{2}}{2\\sigma^2}\\right)$$\n",
    "\n",
    "-   y el logaritmo de probabilidad $l_n(\\beta)$:\n",
    "\n",
    "$$l_n(\\beta)  =  \\log  \\mathcal{L}(\\beta) $$\n",
    "$$ = \\log \\prod_{i=1}^{n}\\frac{1}{\\sqrt{2\\pi} \\sigma} \\exp \\left(- \\frac{(y_i - h_{\\beta}(x_{i}) )^{2}}{2\\sigma^2}\\right) $$\n",
    "$$ = \\sum_{i=1}^n  \\log \\frac{1}{\\sqrt{2\\pi} \\sigma} \\exp \\left(- \\frac{(y_i - h_{\\beta}(x_{i}) )^{2}}{2\\sigma^2}\\right) $$\n",
    "$$ = n \\log\\left(\\frac{1}{\\sqrt{2\\pi} \\sigma}\\right) - \\frac{1}{\\sigma^2}\\times \\frac{1}{2}\\sum_{i=1}^n(y_i - h_{\\beta}(x_{i}) )^{2}$$"
   ]
  },
  {
   "cell_type": "markdown",
   "id": "1119a935",
   "metadata": {
    "id": "1119a935"
   },
   "source": [
    "-   Después de ignorar las constantes, nos damos cuenta de que maximizar $l_n(\\beta)$ es equivalente a minimizar:\n",
    "\n",
    "$$\\sum_{i=1}^n(y_i - h_{\\beta}(x_{i}))^{2}$$\n",
    "\n",
    "-   Lo que equivale a minimizar la SSE.\n",
    "\n",
    "- Entonces, si uno estima los parámetros de $\\beta$ utilizando la estimación de máxima verosimilitud se llega a los mismos resultados que haciendo la estimación por mínimos cuadrados.\n",
    "\n",
    "- Por lo tanto, cada vez que realizamos una estimación por mínimos cuadrados, implícitamente estamos haciendo los mismos supuestos probabilísticos mencionados anteriormente (por ejemplo, normalidad, homocedasticidad).\n"
   ]
  },
  {
   "cell_type": "markdown",
   "id": "bbf5b29f",
   "metadata": {
    "id": "bbf5b29f"
   },
   "source": [
    "### Ejemplo: un modelo de altura\n",
    "\n",
    "- Vamos a trabajar con el conjunto de datos `Howell1` que contiene datos demográficos de los !Kung San del Kalahari recogidos por Nancy Howell a finales de los años sesenta.\n",
    "\n",
    "- Los !Kung San son la población forrajera más famosa del siglo XX, en gran parte gracias a los detallados estudios cuantitativos realizados por personas como Howell."
   ]
  },
  {
   "cell_type": "markdown",
   "id": "9bd3915b",
   "metadata": {
    "id": "9bd3915b"
   },
   "source": [
    "\n",
    "-   Cada observación corresponde a un individuo.\n",
    "\n",
    "- Las variables del conjunto de datos son:\n",
    "\n",
    "- Exploremos las correlaciones lineales entre las variables"
   ]
  },
  {
   "cell_type": "code",
   "execution_count": 1,
   "id": "8e20842a",
   "metadata": {},
   "outputs": [],
   "source": [
    "import pandas as pd\n",
    "import numpy as np\n",
    "import matplotlib.pyplot as plt\n",
    "from sklearn.linear_model import LinearRegression\n",
    "from sklearn.preprocessing import PolynomialFeatures"
   ]
  },
  {
   "cell_type": "code",
   "execution_count": 2,
   "id": "e1e80422",
   "metadata": {},
   "outputs": [
    {
     "data": {
      "text/html": [
       "<div>\n",
       "<style scoped>\n",
       "    .dataframe tbody tr th:only-of-type {\n",
       "        vertical-align: middle;\n",
       "    }\n",
       "\n",
       "    .dataframe tbody tr th {\n",
       "        vertical-align: top;\n",
       "    }\n",
       "\n",
       "    .dataframe thead th {\n",
       "        text-align: right;\n",
       "    }\n",
       "</style>\n",
       "<table border=\"1\" class=\"dataframe\">\n",
       "  <thead>\n",
       "    <tr style=\"text-align: right;\">\n",
       "      <th></th>\n",
       "      <th>height</th>\n",
       "      <th>weight</th>\n",
       "      <th>age</th>\n",
       "      <th>male</th>\n",
       "    </tr>\n",
       "  </thead>\n",
       "  <tbody>\n",
       "    <tr>\n",
       "      <th>0</th>\n",
       "      <td>151.765</td>\n",
       "      <td>47.825606</td>\n",
       "      <td>63.0</td>\n",
       "      <td>1</td>\n",
       "    </tr>\n",
       "    <tr>\n",
       "      <th>1</th>\n",
       "      <td>139.700</td>\n",
       "      <td>36.485807</td>\n",
       "      <td>63.0</td>\n",
       "      <td>0</td>\n",
       "    </tr>\n",
       "    <tr>\n",
       "      <th>2</th>\n",
       "      <td>136.525</td>\n",
       "      <td>31.864838</td>\n",
       "      <td>65.0</td>\n",
       "      <td>0</td>\n",
       "    </tr>\n",
       "    <tr>\n",
       "      <th>3</th>\n",
       "      <td>156.845</td>\n",
       "      <td>53.041914</td>\n",
       "      <td>41.0</td>\n",
       "      <td>1</td>\n",
       "    </tr>\n",
       "    <tr>\n",
       "      <th>4</th>\n",
       "      <td>145.415</td>\n",
       "      <td>41.276872</td>\n",
       "      <td>51.0</td>\n",
       "      <td>0</td>\n",
       "    </tr>\n",
       "  </tbody>\n",
       "</table>\n",
       "</div>"
      ],
      "text/plain": [
       "    height     weight   age  male\n",
       "0  151.765  47.825606  63.0     1\n",
       "1  139.700  36.485807  63.0     0\n",
       "2  136.525  31.864838  65.0     0\n",
       "3  156.845  53.041914  41.0     1\n",
       "4  145.415  41.276872  51.0     0"
      ]
     },
     "execution_count": 2,
     "metadata": {},
     "output_type": "execute_result"
    }
   ],
   "source": [
    "data = '/Users/santiagoromero/Documents/Maestria/Modelos Analisis Estadisticos/Ejercicios/howell1.csv'\n",
    "data_frame = pd.read_csv(data, sep=',')\n",
    "data_frame.head()"
   ]
  },
  {
   "cell_type": "code",
   "execution_count": 3,
   "id": "9e6b2066",
   "metadata": {
    "id": "9e6b2066"
   },
   "outputs": [
    {
     "data": {
      "text/html": [
       "<div>\n",
       "<style scoped>\n",
       "    .dataframe tbody tr th:only-of-type {\n",
       "        vertical-align: middle;\n",
       "    }\n",
       "\n",
       "    .dataframe tbody tr th {\n",
       "        vertical-align: top;\n",
       "    }\n",
       "\n",
       "    .dataframe thead th {\n",
       "        text-align: right;\n",
       "    }\n",
       "</style>\n",
       "<table border=\"1\" class=\"dataframe\">\n",
       "  <thead>\n",
       "    <tr style=\"text-align: right;\">\n",
       "      <th></th>\n",
       "      <th>height</th>\n",
       "      <th>weight</th>\n",
       "      <th>age</th>\n",
       "      <th>male</th>\n",
       "    </tr>\n",
       "  </thead>\n",
       "  <tbody>\n",
       "    <tr>\n",
       "      <th>height</th>\n",
       "      <td>1.000000</td>\n",
       "      <td>0.940822</td>\n",
       "      <td>0.683689</td>\n",
       "      <td>0.139229</td>\n",
       "    </tr>\n",
       "    <tr>\n",
       "      <th>weight</th>\n",
       "      <td>0.940822</td>\n",
       "      <td>1.000000</td>\n",
       "      <td>0.678335</td>\n",
       "      <td>0.155443</td>\n",
       "    </tr>\n",
       "    <tr>\n",
       "      <th>age</th>\n",
       "      <td>0.683689</td>\n",
       "      <td>0.678335</td>\n",
       "      <td>1.000000</td>\n",
       "      <td>0.005887</td>\n",
       "    </tr>\n",
       "    <tr>\n",
       "      <th>male</th>\n",
       "      <td>0.139229</td>\n",
       "      <td>0.155443</td>\n",
       "      <td>0.005887</td>\n",
       "      <td>1.000000</td>\n",
       "    </tr>\n",
       "  </tbody>\n",
       "</table>\n",
       "</div>"
      ],
      "text/plain": [
       "          height    weight       age      male\n",
       "height  1.000000  0.940822  0.683689  0.139229\n",
       "weight  0.940822  1.000000  0.678335  0.155443\n",
       "age     0.683689  0.678335  1.000000  0.005887\n",
       "male    0.139229  0.155443  0.005887  1.000000"
      ]
     },
     "execution_count": 3,
     "metadata": {},
     "output_type": "execute_result"
    }
   ],
   "source": [
    "# Escriba su código aquí...\n",
    "data_frame.corr()"
   ]
  },
  {
   "cell_type": "markdown",
   "id": "52226a27",
   "metadata": {
    "id": "52226a27"
   },
   "source": [
    "- Podemos ver que existe una correlación positiva entre `altura`  y `edad`.\n",
    "- Filtremos los ejemplos no adultos porque sabemos que la altura está fuertemente correlacionada con la edad antes de la edad adulta.\n"
   ]
  },
  {
   "cell_type": "code",
   "execution_count": 4,
   "id": "832a6954",
   "metadata": {
    "id": "832a6954"
   },
   "outputs": [
    {
     "data": {
      "text/html": [
       "<div>\n",
       "<style scoped>\n",
       "    .dataframe tbody tr th:only-of-type {\n",
       "        vertical-align: middle;\n",
       "    }\n",
       "\n",
       "    .dataframe tbody tr th {\n",
       "        vertical-align: top;\n",
       "    }\n",
       "\n",
       "    .dataframe thead th {\n",
       "        text-align: right;\n",
       "    }\n",
       "</style>\n",
       "<table border=\"1\" class=\"dataframe\">\n",
       "  <thead>\n",
       "    <tr style=\"text-align: right;\">\n",
       "      <th></th>\n",
       "      <th>height</th>\n",
       "      <th>weight</th>\n",
       "      <th>age</th>\n",
       "      <th>male</th>\n",
       "    </tr>\n",
       "  </thead>\n",
       "  <tbody>\n",
       "    <tr>\n",
       "      <th>18</th>\n",
       "      <td>121.92</td>\n",
       "      <td>19.617854</td>\n",
       "      <td>12.0</td>\n",
       "      <td>1</td>\n",
       "    </tr>\n",
       "    <tr>\n",
       "      <th>19</th>\n",
       "      <td>105.41</td>\n",
       "      <td>13.947954</td>\n",
       "      <td>8.0</td>\n",
       "      <td>0</td>\n",
       "    </tr>\n",
       "    <tr>\n",
       "      <th>20</th>\n",
       "      <td>86.36</td>\n",
       "      <td>10.489315</td>\n",
       "      <td>6.5</td>\n",
       "      <td>0</td>\n",
       "    </tr>\n",
       "    <tr>\n",
       "      <th>23</th>\n",
       "      <td>129.54</td>\n",
       "      <td>23.586784</td>\n",
       "      <td>13.0</td>\n",
       "      <td>1</td>\n",
       "    </tr>\n",
       "    <tr>\n",
       "      <th>24</th>\n",
       "      <td>109.22</td>\n",
       "      <td>15.989118</td>\n",
       "      <td>7.0</td>\n",
       "      <td>0</td>\n",
       "    </tr>\n",
       "  </tbody>\n",
       "</table>\n",
       "</div>"
      ],
      "text/plain": [
       "    height     weight   age  male\n",
       "18  121.92  19.617854  12.0     1\n",
       "19  105.41  13.947954   8.0     0\n",
       "20   86.36  10.489315   6.5     0\n",
       "23  129.54  23.586784  13.0     1\n",
       "24  109.22  15.989118   7.0     0"
      ]
     },
     "execution_count": 4,
     "metadata": {},
     "output_type": "execute_result"
    }
   ],
   "source": [
    "# Escriba su código aquí...\n",
    "df_menores = data_frame[data_frame['age']<18]\n",
    "df_menores.head()"
   ]
  },
  {
   "cell_type": "markdown",
   "id": "d69b2275",
   "metadata": {
    "id": "d69b2275"
   },
   "source": [
    "-   Ahora bien, la edad no se correlaciona con la altura:"
   ]
  },
  {
   "cell_type": "code",
   "execution_count": 5,
   "id": "492ce073",
   "metadata": {
    "id": "492ce073"
   },
   "outputs": [
    {
     "data": {
      "text/html": [
       "<div>\n",
       "<style scoped>\n",
       "    .dataframe tbody tr th:only-of-type {\n",
       "        vertical-align: middle;\n",
       "    }\n",
       "\n",
       "    .dataframe tbody tr th {\n",
       "        vertical-align: top;\n",
       "    }\n",
       "\n",
       "    .dataframe thead th {\n",
       "        text-align: right;\n",
       "    }\n",
       "</style>\n",
       "<table border=\"1\" class=\"dataframe\">\n",
       "  <thead>\n",
       "    <tr style=\"text-align: right;\">\n",
       "      <th></th>\n",
       "      <th>height</th>\n",
       "      <th>weight</th>\n",
       "      <th>age</th>\n",
       "      <th>male</th>\n",
       "    </tr>\n",
       "  </thead>\n",
       "  <tbody>\n",
       "    <tr>\n",
       "      <th>height</th>\n",
       "      <td>1.000000</td>\n",
       "      <td>0.944479</td>\n",
       "      <td>0.943313</td>\n",
       "      <td>0.061724</td>\n",
       "    </tr>\n",
       "    <tr>\n",
       "      <th>weight</th>\n",
       "      <td>0.944479</td>\n",
       "      <td>1.000000</td>\n",
       "      <td>0.917491</td>\n",
       "      <td>0.071611</td>\n",
       "    </tr>\n",
       "    <tr>\n",
       "      <th>age</th>\n",
       "      <td>0.943313</td>\n",
       "      <td>0.917491</td>\n",
       "      <td>1.000000</td>\n",
       "      <td>-0.006452</td>\n",
       "    </tr>\n",
       "    <tr>\n",
       "      <th>male</th>\n",
       "      <td>0.061724</td>\n",
       "      <td>0.071611</td>\n",
       "      <td>-0.006452</td>\n",
       "      <td>1.000000</td>\n",
       "    </tr>\n",
       "  </tbody>\n",
       "</table>\n",
       "</div>"
      ],
      "text/plain": [
       "          height    weight       age      male\n",
       "height  1.000000  0.944479  0.943313  0.061724\n",
       "weight  0.944479  1.000000  0.917491  0.071611\n",
       "age     0.943313  0.917491  1.000000 -0.006452\n",
       "male    0.061724  0.071611 -0.006452  1.000000"
      ]
     },
     "execution_count": 5,
     "metadata": {},
     "output_type": "execute_result"
    }
   ],
   "source": [
    "## Escriba su código aquí...\n",
    "df_menores.corr()"
   ]
  },
  {
   "cell_type": "code",
   "execution_count": 6,
   "id": "866b8e75",
   "metadata": {},
   "outputs": [
    {
     "data": {
      "text/html": [
       "<div>\n",
       "<style scoped>\n",
       "    .dataframe tbody tr th:only-of-type {\n",
       "        vertical-align: middle;\n",
       "    }\n",
       "\n",
       "    .dataframe tbody tr th {\n",
       "        vertical-align: top;\n",
       "    }\n",
       "\n",
       "    .dataframe thead th {\n",
       "        text-align: right;\n",
       "    }\n",
       "</style>\n",
       "<table border=\"1\" class=\"dataframe\">\n",
       "  <thead>\n",
       "    <tr style=\"text-align: right;\">\n",
       "      <th></th>\n",
       "      <th>height</th>\n",
       "      <th>weight</th>\n",
       "      <th>age</th>\n",
       "      <th>male</th>\n",
       "    </tr>\n",
       "  </thead>\n",
       "  <tbody>\n",
       "    <tr>\n",
       "      <th>0</th>\n",
       "      <td>151.765</td>\n",
       "      <td>47.825606</td>\n",
       "      <td>63.0</td>\n",
       "      <td>1</td>\n",
       "    </tr>\n",
       "    <tr>\n",
       "      <th>1</th>\n",
       "      <td>139.700</td>\n",
       "      <td>36.485807</td>\n",
       "      <td>63.0</td>\n",
       "      <td>0</td>\n",
       "    </tr>\n",
       "    <tr>\n",
       "      <th>2</th>\n",
       "      <td>136.525</td>\n",
       "      <td>31.864838</td>\n",
       "      <td>65.0</td>\n",
       "      <td>0</td>\n",
       "    </tr>\n",
       "    <tr>\n",
       "      <th>3</th>\n",
       "      <td>156.845</td>\n",
       "      <td>53.041914</td>\n",
       "      <td>41.0</td>\n",
       "      <td>1</td>\n",
       "    </tr>\n",
       "    <tr>\n",
       "      <th>4</th>\n",
       "      <td>145.415</td>\n",
       "      <td>41.276872</td>\n",
       "      <td>51.0</td>\n",
       "      <td>0</td>\n",
       "    </tr>\n",
       "  </tbody>\n",
       "</table>\n",
       "</div>"
      ],
      "text/plain": [
       "    height     weight   age  male\n",
       "0  151.765  47.825606  63.0     1\n",
       "1  139.700  36.485807  63.0     0\n",
       "2  136.525  31.864838  65.0     0\n",
       "3  156.845  53.041914  41.0     1\n",
       "4  145.415  41.276872  51.0     0"
      ]
     },
     "execution_count": 6,
     "metadata": {},
     "output_type": "execute_result"
    }
   ],
   "source": [
    "df_mayores = data_frame[data_frame['age']>17]\n",
    "df_mayores.head()"
   ]
  },
  {
   "cell_type": "code",
   "execution_count": 7,
   "id": "eb04fe39",
   "metadata": {},
   "outputs": [
    {
     "data": {
      "text/html": [
       "<div>\n",
       "<style scoped>\n",
       "    .dataframe tbody tr th:only-of-type {\n",
       "        vertical-align: middle;\n",
       "    }\n",
       "\n",
       "    .dataframe tbody tr th {\n",
       "        vertical-align: top;\n",
       "    }\n",
       "\n",
       "    .dataframe thead th {\n",
       "        text-align: right;\n",
       "    }\n",
       "</style>\n",
       "<table border=\"1\" class=\"dataframe\">\n",
       "  <thead>\n",
       "    <tr style=\"text-align: right;\">\n",
       "      <th></th>\n",
       "      <th>height</th>\n",
       "      <th>weight</th>\n",
       "      <th>age</th>\n",
       "      <th>male</th>\n",
       "    </tr>\n",
       "  </thead>\n",
       "  <tbody>\n",
       "    <tr>\n",
       "      <th>height</th>\n",
       "      <td>1.000000</td>\n",
       "      <td>0.754748</td>\n",
       "      <td>-0.101838</td>\n",
       "      <td>0.699993</td>\n",
       "    </tr>\n",
       "    <tr>\n",
       "      <th>weight</th>\n",
       "      <td>0.754748</td>\n",
       "      <td>1.000000</td>\n",
       "      <td>-0.172904</td>\n",
       "      <td>0.524453</td>\n",
       "    </tr>\n",
       "    <tr>\n",
       "      <th>age</th>\n",
       "      <td>-0.101838</td>\n",
       "      <td>-0.172904</td>\n",
       "      <td>1.000000</td>\n",
       "      <td>0.028455</td>\n",
       "    </tr>\n",
       "    <tr>\n",
       "      <th>male</th>\n",
       "      <td>0.699993</td>\n",
       "      <td>0.524453</td>\n",
       "      <td>0.028455</td>\n",
       "      <td>1.000000</td>\n",
       "    </tr>\n",
       "  </tbody>\n",
       "</table>\n",
       "</div>"
      ],
      "text/plain": [
       "          height    weight       age      male\n",
       "height  1.000000  0.754748 -0.101838  0.699993\n",
       "weight  0.754748  1.000000 -0.172904  0.524453\n",
       "age    -0.101838 -0.172904  1.000000  0.028455\n",
       "male    0.699993  0.524453  0.028455  1.000000"
      ]
     },
     "execution_count": 7,
     "metadata": {},
     "output_type": "execute_result"
    }
   ],
   "source": [
    "df_mayores.corr()"
   ]
  },
  {
   "cell_type": "markdown",
   "id": "9a34f705",
   "metadata": {
    "id": "9a34f705"
   },
   "source": [
    "-  Modelemos la altura en función del peso mediante una regresión lineal simple:\n",
    "    \n",
    "$$\\text{height}(\\text{weight})=\\beta_0+\\beta_1*\\text{weight}$$\n"
   ]
  },
  {
   "cell_type": "code",
   "execution_count": 14,
   "id": "cfc7cab5",
   "metadata": {
    "id": "cfc7cab5"
   },
   "outputs": [],
   "source": [
    "# Escriba su código aquí...\n",
    "import statsmodels.formula.api as smf\n",
    "\n",
    "# estimate the model and assign the result to linear_model\n",
    "linear_model = smf.ols(formula='height ~ weight', data=df_mayores).fit()"
   ]
  },
  {
   "cell_type": "markdown",
   "id": "eeb4e71b",
   "metadata": {
    "id": "eeb4e71b"
   },
   "source": [
    "\n",
    "\n",
    "- Podemos ver que los coeficientes del modelo son $\\beta_{0}=113,879$ y $\\beta_{1}=0,905$.\n",
    "\n",
    "- La estimación de $\\beta_{0}=xxxx$, indica que una persona de peso 0 debería medir alrededor de $114$cm, lo cual sabemos ....\n",
    "\n",
    "- Dado que $\\beta_1$ es una pendiente, el valor $xxx$ puede leerse como que se espera que una persona con 1 kg más de peso sea xxx cm más alta.\n",
    "\n",
    "- Podemos acceder directamente a los coeficientes y almacenarlos en una variable:"
   ]
  },
  {
   "cell_type": "code",
   "execution_count": null,
   "id": "46f32954",
   "metadata": {
    "id": "46f32954"
   },
   "outputs": [],
   "source": [
    "# Escriba su código aquí..."
   ]
  },
  {
   "cell_type": "markdown",
   "id": "0acf656f",
   "metadata": {
    "id": "0acf656f"
   },
   "source": [
    "-   Podemos ver varios indicadores sobre el modelo lineal con el comando **summary**:"
   ]
  },
  {
   "cell_type": "code",
   "execution_count": 13,
   "id": "273394d8",
   "metadata": {
    "id": "273394d8"
   },
   "outputs": [
    {
     "name": "stdout",
     "output_type": "stream",
     "text": [
      "                            OLS Regression Results                            \n",
      "==============================================================================\n",
      "Dep. Variable:                 height   R-squared:                       0.570\n",
      "Model:                            OLS   Adj. R-squared:                  0.568\n",
      "Method:                 Least Squares   F-statistic:                     463.3\n",
      "Date:                Fri, 08 Sep 2023   Prob (F-statistic):           4.68e-66\n",
      "Time:                        21:24:15   Log-Likelihood:                -1071.0\n",
      "No. Observations:                 352   AIC:                             2146.\n",
      "Df Residuals:                     350   BIC:                             2154.\n",
      "Df Model:                           1                                         \n",
      "Covariance Type:            nonrobust                                         \n",
      "==============================================================================\n",
      "                 coef    std err          t      P>|t|      [0.025      0.975]\n",
      "------------------------------------------------------------------------------\n",
      "Intercept    113.8794      1.911     59.589      0.000     110.121     117.638\n",
      "weight         0.9050      0.042     21.524      0.000       0.822       0.988\n",
      "==============================================================================\n",
      "Omnibus:                        5.258   Durbin-Watson:                   1.959\n",
      "Prob(Omnibus):                  0.072   Jarque-Bera (JB):                5.729\n",
      "Skew:                          -0.180   Prob(JB):                       0.0570\n",
      "Kurtosis:                       3.511   Cond. No.                         321.\n",
      "==============================================================================\n",
      "\n",
      "Notes:\n",
      "[1] Standard Errors assume that the covariance matrix of the errors is correctly specified.\n"
     ]
    }
   ],
   "source": [
    "# Escriba su código aquí...\n",
    "print(linear_model.summary())"
   ]
  },
  {
   "cell_type": "markdown",
   "id": "1cb526f3",
   "metadata": {
    "id": "1cb526f3"
   },
   "source": [
    "- Podemos ver que $\\beta_0$ y $\\beta_1$ son ambos estadísticamente significativamente diferentes de cero.\n",
    "\n",
    "- Vemos que el coeficiente de determinación $R^2$ tiene un valor de 0,57$ que no es muy bueno pero aceptable.\n",
    "\n",
    "- Podemos concluir que el peso, aunque ....\n",
    "\n",
    "- Podemos acceder al coeficiente de determinación:"
   ]
  },
  {
   "cell_type": "code",
   "execution_count": null,
   "id": "55f6aee7",
   "metadata": {
    "id": "55f6aee7"
   },
   "outputs": [],
   "source": [
    "# Escriba su código aquí..."
   ]
  },
  {
   "cell_type": "markdown",
   "id": "b5c2930a",
   "metadata": {
    "id": "b5c2930a"
   },
   "source": [
    "- También podemos acceder a los valores ajustados que son los valores predichos por mi modelo para los datos utilizados:"
   ]
  },
  {
   "cell_type": "code",
   "execution_count": null,
   "id": "b3d163a6",
   "metadata": {
    "id": "b3d163a6"
   },
   "outputs": [],
   "source": [
    "# Escriba su código aquí..."
   ]
  },
  {
   "cell_type": "markdown",
   "id": "fc51e1a7",
   "metadata": {
    "id": "fc51e1a7"
   },
   "source": [
    "- Podemos comprobar ahora que todas las definiciones dadas para $R^2$ son\n",
    "    equivalentes."
   ]
  },
  {
   "cell_type": "code",
   "execution_count": null,
   "id": "17698042",
   "metadata": {
    "id": "17698042"
   },
   "outputs": [],
   "source": [
    "# Escriba su código aquí..."
   ]
  },
  {
   "cell_type": "markdown",
   "id": "5a3a288d",
   "metadata": {
    "id": "5a3a288d"
   },
   "source": [
    "-   O calcular manualmente el error estándar del modelo $SE_{\\text{model}}$:"
   ]
  },
  {
   "cell_type": "code",
   "execution_count": null,
   "id": "650739bc",
   "metadata": {
    "id": "650739bc"
   },
   "outputs": [],
   "source": [
    "# Escriba su código aquí..."
   ]
  },
  {
   "cell_type": "markdown",
   "id": "384c6372",
   "metadata": {
    "id": "384c6372"
   },
   "source": [
    "\n",
    "\n",
    "-  Supongamos ahora que conocemos el peso de dos personas !Kung pero no conocemos su altura.\n",
    "\n",
    "- Podríamos utilizar nuestro modelo lineal para predecir la altura de estas dos personas.\n",
    "\n"
   ]
  },
  {
   "cell_type": "code",
   "execution_count": null,
   "id": "4d613f0e",
   "metadata": {
    "id": "4d613f0e"
   },
   "outputs": [],
   "source": [
    "# Escriba su código aquí..."
   ]
  },
  {
   "cell_type": "markdown",
   "id": "a7887f84",
   "metadata": {
    "id": "a7887f84"
   },
   "source": []
  }
 ],
 "metadata": {
  "colab": {
   "provenance": []
  },
  "kernelspec": {
   "display_name": "Python 3 (ipykernel)",
   "language": "python",
   "name": "python3"
  },
  "language_info": {
   "codemirror_mode": {
    "name": "ipython",
    "version": 3
   },
   "file_extension": ".py",
   "mimetype": "text/x-python",
   "name": "python",
   "nbconvert_exporter": "python",
   "pygments_lexer": "ipython3",
   "version": "3.11.4"
  }
 },
 "nbformat": 4,
 "nbformat_minor": 5
}
