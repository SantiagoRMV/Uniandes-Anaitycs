{
 "cells": [
  {
   "cell_type": "markdown",
   "id": "db5441fc",
   "metadata": {},
   "source": [
    "# Tarea 1 - Modelos de Análisis Estadístico"
   ]
  },
  {
   "cell_type": "markdown",
   "id": "34f3fab7",
   "metadata": {},
   "source": [
    "### Punto 1"
   ]
  },
  {
   "cell_type": "markdown",
   "id": "8067375a",
   "metadata": {},
   "source": [
    "La base de datos contenida en resultadosicfes.csv tiene información de los resultados obtenidos en 2019, estos resultados muestran todos los departamentos de Colombia, por favor tomar como muestra los resultados de los siguientes 5 departamentos; La Guajira, Valle, Atlántico, Bogotá (la cual en las estadísticas se tiene como departamento) y Huila. El objetivo es realizar un análisis exploratorio de los datos."
   ]
  },
  {
   "cell_type": "code",
   "execution_count": 1,
   "id": "4f3b2f7e",
   "metadata": {},
   "outputs": [],
   "source": [
    "#Importando librerías\n",
    "import numpy as np\n",
    "import pandas as pd\n",
    "import matplotlib.pyplot as plt"
   ]
  },
  {
   "cell_type": "code",
   "execution_count": 2,
   "id": "c7d7dc9e",
   "metadata": {},
   "outputs": [],
   "source": [
    "data = \"/Users/santiagoromero/Documents/Maestria/Modelos Analisis Estadisticos/Talleres/resultadosicfes.csv\"\n",
    "data_frame = pd.read_csv(data, sep=';')"
   ]
  },
  {
   "cell_type": "code",
   "execution_count": 3,
   "id": "232e36c8",
   "metadata": {},
   "outputs": [
    {
     "data": {
      "text/html": [
       "<div>\n",
       "<style scoped>\n",
       "    .dataframe tbody tr th:only-of-type {\n",
       "        vertical-align: middle;\n",
       "    }\n",
       "\n",
       "    .dataframe tbody tr th {\n",
       "        vertical-align: top;\n",
       "    }\n",
       "\n",
       "    .dataframe thead th {\n",
       "        text-align: right;\n",
       "    }\n",
       "</style>\n",
       "<table border=\"1\" class=\"dataframe\">\n",
       "  <thead>\n",
       "    <tr style=\"text-align: right;\">\n",
       "      <th></th>\n",
       "      <th>ESTU_GENERO</th>\n",
       "      <th>ESTU_DEPTO_RESIDE</th>\n",
       "      <th>FAMI_ESTRATOVIVIENDA</th>\n",
       "      <th>COLE_NATURALEZA</th>\n",
       "      <th>COLE_AREA_UBICACION</th>\n",
       "      <th>COLE_JORNADA</th>\n",
       "      <th>PUNT_LECTURA_CRITICA</th>\n",
       "      <th>PUNT_MATEMATICAS</th>\n",
       "      <th>PUNT_C_NATURALES</th>\n",
       "      <th>PUNT_SOCIALES_CIUDADANAS</th>\n",
       "      <th>PUNT_INGLES</th>\n",
       "      <th>PUNT_GLOBAL</th>\n",
       "      <th>PERCENTIL_GLOBAL</th>\n",
       "    </tr>\n",
       "  </thead>\n",
       "  <tbody>\n",
       "    <tr>\n",
       "      <th>0</th>\n",
       "      <td>M</td>\n",
       "      <td>MAGDALENA</td>\n",
       "      <td>Estrato 3</td>\n",
       "      <td>OFICIAL</td>\n",
       "      <td>URBANO</td>\n",
       "      <td>MAÃ‘ANA</td>\n",
       "      <td>47</td>\n",
       "      <td>48</td>\n",
       "      <td>37</td>\n",
       "      <td>30</td>\n",
       "      <td>54.0</td>\n",
       "      <td>208</td>\n",
       "      <td>25.0</td>\n",
       "    </tr>\n",
       "    <tr>\n",
       "      <th>1</th>\n",
       "      <td>M</td>\n",
       "      <td>BOGOTÃ</td>\n",
       "      <td>Estrato 3</td>\n",
       "      <td>NO OFICIAL</td>\n",
       "      <td>URBANO</td>\n",
       "      <td>COMPLETA</td>\n",
       "      <td>60</td>\n",
       "      <td>65</td>\n",
       "      <td>54</td>\n",
       "      <td>59</td>\n",
       "      <td>63.0</td>\n",
       "      <td>299</td>\n",
       "      <td>83.0</td>\n",
       "    </tr>\n",
       "    <tr>\n",
       "      <th>2</th>\n",
       "      <td>M</td>\n",
       "      <td>BOLIVAR</td>\n",
       "      <td>Estrato 1</td>\n",
       "      <td>OFICIAL</td>\n",
       "      <td>URBANO</td>\n",
       "      <td>MAÃ‘ANA</td>\n",
       "      <td>66</td>\n",
       "      <td>57</td>\n",
       "      <td>41</td>\n",
       "      <td>74</td>\n",
       "      <td>64.0</td>\n",
       "      <td>299</td>\n",
       "      <td>84.0</td>\n",
       "    </tr>\n",
       "    <tr>\n",
       "      <th>3</th>\n",
       "      <td>M</td>\n",
       "      <td>BOGOTÃ</td>\n",
       "      <td>Estrato 3</td>\n",
       "      <td>OFICIAL</td>\n",
       "      <td>URBANO</td>\n",
       "      <td>MAÃ‘ANA</td>\n",
       "      <td>62</td>\n",
       "      <td>54</td>\n",
       "      <td>61</td>\n",
       "      <td>73</td>\n",
       "      <td>53.0</td>\n",
       "      <td>309</td>\n",
       "      <td>88.0</td>\n",
       "    </tr>\n",
       "    <tr>\n",
       "      <th>4</th>\n",
       "      <td>M</td>\n",
       "      <td>BOGOTÃ</td>\n",
       "      <td>Estrato 3</td>\n",
       "      <td>OFICIAL</td>\n",
       "      <td>URBANO</td>\n",
       "      <td>MAÃ‘ANA</td>\n",
       "      <td>63</td>\n",
       "      <td>57</td>\n",
       "      <td>55</td>\n",
       "      <td>57</td>\n",
       "      <td>52.0</td>\n",
       "      <td>288</td>\n",
       "      <td>78.0</td>\n",
       "    </tr>\n",
       "    <tr>\n",
       "      <th>...</th>\n",
       "      <td>...</td>\n",
       "      <td>...</td>\n",
       "      <td>...</td>\n",
       "      <td>...</td>\n",
       "      <td>...</td>\n",
       "      <td>...</td>\n",
       "      <td>...</td>\n",
       "      <td>...</td>\n",
       "      <td>...</td>\n",
       "      <td>...</td>\n",
       "      <td>...</td>\n",
       "      <td>...</td>\n",
       "      <td>...</td>\n",
       "    </tr>\n",
       "    <tr>\n",
       "      <th>546207</th>\n",
       "      <td>M</td>\n",
       "      <td>ANTIOQUIA</td>\n",
       "      <td>Estrato 2</td>\n",
       "      <td>OFICIAL</td>\n",
       "      <td>URBANO</td>\n",
       "      <td>MAÃ‘ANA</td>\n",
       "      <td>76</td>\n",
       "      <td>78</td>\n",
       "      <td>65</td>\n",
       "      <td>74</td>\n",
       "      <td>58.0</td>\n",
       "      <td>360</td>\n",
       "      <td>99.0</td>\n",
       "    </tr>\n",
       "    <tr>\n",
       "      <th>546208</th>\n",
       "      <td>M</td>\n",
       "      <td>BOGOTÃ</td>\n",
       "      <td>Estrato 3</td>\n",
       "      <td>NO OFICIAL</td>\n",
       "      <td>URBANO</td>\n",
       "      <td>COMPLETA</td>\n",
       "      <td>75</td>\n",
       "      <td>73</td>\n",
       "      <td>72</td>\n",
       "      <td>67</td>\n",
       "      <td>74.0</td>\n",
       "      <td>360</td>\n",
       "      <td>99.0</td>\n",
       "    </tr>\n",
       "    <tr>\n",
       "      <th>546209</th>\n",
       "      <td>M</td>\n",
       "      <td>ARAUCA</td>\n",
       "      <td>Estrato 2</td>\n",
       "      <td>OFICIAL</td>\n",
       "      <td>URBANO</td>\n",
       "      <td>TARDE</td>\n",
       "      <td>72</td>\n",
       "      <td>83</td>\n",
       "      <td>71</td>\n",
       "      <td>77</td>\n",
       "      <td>72.0</td>\n",
       "      <td>377</td>\n",
       "      <td>100.0</td>\n",
       "    </tr>\n",
       "    <tr>\n",
       "      <th>546210</th>\n",
       "      <td>M</td>\n",
       "      <td>SANTANDER</td>\n",
       "      <td>Estrato 1</td>\n",
       "      <td>OFICIAL</td>\n",
       "      <td>URBANO</td>\n",
       "      <td>SABATINA</td>\n",
       "      <td>59</td>\n",
       "      <td>61</td>\n",
       "      <td>54</td>\n",
       "      <td>52</td>\n",
       "      <td>46.0</td>\n",
       "      <td>278</td>\n",
       "      <td>73.0</td>\n",
       "    </tr>\n",
       "    <tr>\n",
       "      <th>546211</th>\n",
       "      <td>M</td>\n",
       "      <td>BOGOTÃ</td>\n",
       "      <td>Estrato 3</td>\n",
       "      <td>OFICIAL</td>\n",
       "      <td>URBANO</td>\n",
       "      <td>MAÃ‘ANA</td>\n",
       "      <td>76</td>\n",
       "      <td>73</td>\n",
       "      <td>72</td>\n",
       "      <td>71</td>\n",
       "      <td>74.0</td>\n",
       "      <td>365</td>\n",
       "      <td>99.0</td>\n",
       "    </tr>\n",
       "  </tbody>\n",
       "</table>\n",
       "<p>546212 rows × 13 columns</p>\n",
       "</div>"
      ],
      "text/plain": [
       "       ESTU_GENERO ESTU_DEPTO_RESIDE FAMI_ESTRATOVIVIENDA COLE_NATURALEZA  \\\n",
       "0                M         MAGDALENA            Estrato 3         OFICIAL   \n",
       "1                M           BOGOTÃ            Estrato 3      NO OFICIAL   \n",
       "2                M           BOLIVAR            Estrato 1         OFICIAL   \n",
       "3                M           BOGOTÃ            Estrato 3         OFICIAL   \n",
       "4                M           BOGOTÃ            Estrato 3         OFICIAL   \n",
       "...            ...               ...                  ...             ...   \n",
       "546207           M         ANTIOQUIA            Estrato 2         OFICIAL   \n",
       "546208           M           BOGOTÃ            Estrato 3      NO OFICIAL   \n",
       "546209           M            ARAUCA            Estrato 2         OFICIAL   \n",
       "546210           M         SANTANDER            Estrato 1         OFICIAL   \n",
       "546211           M           BOGOTÃ            Estrato 3         OFICIAL   \n",
       "\n",
       "       COLE_AREA_UBICACION COLE_JORNADA  PUNT_LECTURA_CRITICA  \\\n",
       "0                   URBANO      MAÃ‘ANA                    47   \n",
       "1                   URBANO     COMPLETA                    60   \n",
       "2                   URBANO      MAÃ‘ANA                    66   \n",
       "3                   URBANO      MAÃ‘ANA                    62   \n",
       "4                   URBANO      MAÃ‘ANA                    63   \n",
       "...                    ...          ...                   ...   \n",
       "546207              URBANO      MAÃ‘ANA                    76   \n",
       "546208              URBANO     COMPLETA                    75   \n",
       "546209              URBANO        TARDE                    72   \n",
       "546210              URBANO     SABATINA                    59   \n",
       "546211              URBANO      MAÃ‘ANA                    76   \n",
       "\n",
       "        PUNT_MATEMATICAS  PUNT_C_NATURALES  PUNT_SOCIALES_CIUDADANAS  \\\n",
       "0                     48                37                        30   \n",
       "1                     65                54                        59   \n",
       "2                     57                41                        74   \n",
       "3                     54                61                        73   \n",
       "4                     57                55                        57   \n",
       "...                  ...               ...                       ...   \n",
       "546207                78                65                        74   \n",
       "546208                73                72                        67   \n",
       "546209                83                71                        77   \n",
       "546210                61                54                        52   \n",
       "546211                73                72                        71   \n",
       "\n",
       "        PUNT_INGLES  PUNT_GLOBAL  PERCENTIL_GLOBAL  \n",
       "0              54.0          208              25.0  \n",
       "1              63.0          299              83.0  \n",
       "2              64.0          299              84.0  \n",
       "3              53.0          309              88.0  \n",
       "4              52.0          288              78.0  \n",
       "...             ...          ...               ...  \n",
       "546207         58.0          360              99.0  \n",
       "546208         74.0          360              99.0  \n",
       "546209         72.0          377             100.0  \n",
       "546210         46.0          278              73.0  \n",
       "546211         74.0          365              99.0  \n",
       "\n",
       "[546212 rows x 13 columns]"
      ]
     },
     "execution_count": 3,
     "metadata": {},
     "output_type": "execute_result"
    }
   ],
   "source": [
    "data_frame"
   ]
  },
  {
   "cell_type": "code",
   "execution_count": 4,
   "id": "6a768556",
   "metadata": {},
   "outputs": [
    {
     "data": {
      "text/plain": [
       "array(['MAGDALENA', 'BOGOTÃ\\x81', 'BOLIVAR', 'ATLANTICO', 'VALLE',\n",
       "       'SANTANDER', 'CUNDINAMARCA', 'SUCRE', 'ANTIOQUIA', 'CESAR',\n",
       "       'BOYACA', 'HUILA', 'CASANARE', 'CAUCA', 'CORDOBA',\n",
       "       'NORTE SANTANDER', 'QUINDIO', 'ARAUCA', 'META', 'CHOCO',\n",
       "       'LA GUAJIRA', 'SAN ANDRES', 'TOLIMA', 'NARIÃ‘O', 'CALDAS',\n",
       "       'VAUPES', 'RISARALDA', 'PUTUMAYO', 'VICHADA', 'CAQUETA', nan,\n",
       "       'AMAZONAS', 'GUAVIARE', 'GUAINIA', 'EXTRANJERO'], dtype=object)"
      ]
     },
     "execution_count": 4,
     "metadata": {},
     "output_type": "execute_result"
    }
   ],
   "source": [
    "#Obteniendo los valores que tiene la columna 'ESTU_DEPTO_RESIDE'\n",
    "data_frame['ESTU_DEPTO_RESIDE'].unique()"
   ]
  },
  {
   "cell_type": "code",
   "execution_count": 5,
   "id": "3ae9d059",
   "metadata": {
    "scrolled": true
   },
   "outputs": [
    {
     "data": {
      "text/html": [
       "<div>\n",
       "<style scoped>\n",
       "    .dataframe tbody tr th:only-of-type {\n",
       "        vertical-align: middle;\n",
       "    }\n",
       "\n",
       "    .dataframe tbody tr th {\n",
       "        vertical-align: top;\n",
       "    }\n",
       "\n",
       "    .dataframe thead th {\n",
       "        text-align: right;\n",
       "    }\n",
       "</style>\n",
       "<table border=\"1\" class=\"dataframe\">\n",
       "  <thead>\n",
       "    <tr style=\"text-align: right;\">\n",
       "      <th></th>\n",
       "      <th>ESTU_GENERO</th>\n",
       "      <th>ESTU_DEPTO_RESIDE</th>\n",
       "      <th>FAMI_ESTRATOVIVIENDA</th>\n",
       "      <th>COLE_NATURALEZA</th>\n",
       "      <th>COLE_AREA_UBICACION</th>\n",
       "      <th>COLE_JORNADA</th>\n",
       "      <th>PUNT_LECTURA_CRITICA</th>\n",
       "      <th>PUNT_MATEMATICAS</th>\n",
       "      <th>PUNT_C_NATURALES</th>\n",
       "      <th>PUNT_SOCIALES_CIUDADANAS</th>\n",
       "      <th>PUNT_INGLES</th>\n",
       "      <th>PUNT_GLOBAL</th>\n",
       "      <th>PERCENTIL_GLOBAL</th>\n",
       "    </tr>\n",
       "  </thead>\n",
       "  <tbody>\n",
       "    <tr>\n",
       "      <th>1</th>\n",
       "      <td>M</td>\n",
       "      <td>BOGOTÃ</td>\n",
       "      <td>Estrato 3</td>\n",
       "      <td>NO OFICIAL</td>\n",
       "      <td>URBANO</td>\n",
       "      <td>COMPLETA</td>\n",
       "      <td>60</td>\n",
       "      <td>65</td>\n",
       "      <td>54</td>\n",
       "      <td>59</td>\n",
       "      <td>63.0</td>\n",
       "      <td>299</td>\n",
       "      <td>83.0</td>\n",
       "    </tr>\n",
       "    <tr>\n",
       "      <th>3</th>\n",
       "      <td>M</td>\n",
       "      <td>BOGOTÃ</td>\n",
       "      <td>Estrato 3</td>\n",
       "      <td>OFICIAL</td>\n",
       "      <td>URBANO</td>\n",
       "      <td>MAÃ‘ANA</td>\n",
       "      <td>62</td>\n",
       "      <td>54</td>\n",
       "      <td>61</td>\n",
       "      <td>73</td>\n",
       "      <td>53.0</td>\n",
       "      <td>309</td>\n",
       "      <td>88.0</td>\n",
       "    </tr>\n",
       "    <tr>\n",
       "      <th>4</th>\n",
       "      <td>M</td>\n",
       "      <td>BOGOTÃ</td>\n",
       "      <td>Estrato 3</td>\n",
       "      <td>OFICIAL</td>\n",
       "      <td>URBANO</td>\n",
       "      <td>MAÃ‘ANA</td>\n",
       "      <td>63</td>\n",
       "      <td>57</td>\n",
       "      <td>55</td>\n",
       "      <td>57</td>\n",
       "      <td>52.0</td>\n",
       "      <td>288</td>\n",
       "      <td>78.0</td>\n",
       "    </tr>\n",
       "    <tr>\n",
       "      <th>5</th>\n",
       "      <td>M</td>\n",
       "      <td>ATLANTICO</td>\n",
       "      <td>-</td>\n",
       "      <td>NO OFICIAL</td>\n",
       "      <td>URBANO</td>\n",
       "      <td>NOCHE</td>\n",
       "      <td>49</td>\n",
       "      <td>29</td>\n",
       "      <td>41</td>\n",
       "      <td>41</td>\n",
       "      <td>35.0</td>\n",
       "      <td>198</td>\n",
       "      <td>19.0</td>\n",
       "    </tr>\n",
       "    <tr>\n",
       "      <th>6</th>\n",
       "      <td>M</td>\n",
       "      <td>VALLE</td>\n",
       "      <td>Estrato 4</td>\n",
       "      <td>NO OFICIAL</td>\n",
       "      <td>URBANO</td>\n",
       "      <td>MAÃ‘ANA</td>\n",
       "      <td>76</td>\n",
       "      <td>70</td>\n",
       "      <td>70</td>\n",
       "      <td>68</td>\n",
       "      <td>72.0</td>\n",
       "      <td>355</td>\n",
       "      <td>99.0</td>\n",
       "    </tr>\n",
       "    <tr>\n",
       "      <th>...</th>\n",
       "      <td>...</td>\n",
       "      <td>...</td>\n",
       "      <td>...</td>\n",
       "      <td>...</td>\n",
       "      <td>...</td>\n",
       "      <td>...</td>\n",
       "      <td>...</td>\n",
       "      <td>...</td>\n",
       "      <td>...</td>\n",
       "      <td>...</td>\n",
       "      <td>...</td>\n",
       "      <td>...</td>\n",
       "      <td>...</td>\n",
       "    </tr>\n",
       "    <tr>\n",
       "      <th>546193</th>\n",
       "      <td>M</td>\n",
       "      <td>BOGOTÃ</td>\n",
       "      <td>Estrato 3</td>\n",
       "      <td>OFICIAL</td>\n",
       "      <td>URBANO</td>\n",
       "      <td>TARDE</td>\n",
       "      <td>70</td>\n",
       "      <td>66</td>\n",
       "      <td>60</td>\n",
       "      <td>63</td>\n",
       "      <td>61.0</td>\n",
       "      <td>322</td>\n",
       "      <td>92.0</td>\n",
       "    </tr>\n",
       "    <tr>\n",
       "      <th>546195</th>\n",
       "      <td>F</td>\n",
       "      <td>BOGOTÃ</td>\n",
       "      <td>Estrato 2</td>\n",
       "      <td>OFICIAL</td>\n",
       "      <td>URBANO</td>\n",
       "      <td>TARDE</td>\n",
       "      <td>62</td>\n",
       "      <td>53</td>\n",
       "      <td>54</td>\n",
       "      <td>56</td>\n",
       "      <td>49.0</td>\n",
       "      <td>278</td>\n",
       "      <td>73.0</td>\n",
       "    </tr>\n",
       "    <tr>\n",
       "      <th>546202</th>\n",
       "      <td>F</td>\n",
       "      <td>HUILA</td>\n",
       "      <td>Estrato 3</td>\n",
       "      <td>OFICIAL</td>\n",
       "      <td>URBANO</td>\n",
       "      <td>MAÃ‘ANA</td>\n",
       "      <td>100</td>\n",
       "      <td>73</td>\n",
       "      <td>70</td>\n",
       "      <td>72</td>\n",
       "      <td>84.0</td>\n",
       "      <td>396</td>\n",
       "      <td>100.0</td>\n",
       "    </tr>\n",
       "    <tr>\n",
       "      <th>546208</th>\n",
       "      <td>M</td>\n",
       "      <td>BOGOTÃ</td>\n",
       "      <td>Estrato 3</td>\n",
       "      <td>NO OFICIAL</td>\n",
       "      <td>URBANO</td>\n",
       "      <td>COMPLETA</td>\n",
       "      <td>75</td>\n",
       "      <td>73</td>\n",
       "      <td>72</td>\n",
       "      <td>67</td>\n",
       "      <td>74.0</td>\n",
       "      <td>360</td>\n",
       "      <td>99.0</td>\n",
       "    </tr>\n",
       "    <tr>\n",
       "      <th>546211</th>\n",
       "      <td>M</td>\n",
       "      <td>BOGOTÃ</td>\n",
       "      <td>Estrato 3</td>\n",
       "      <td>OFICIAL</td>\n",
       "      <td>URBANO</td>\n",
       "      <td>MAÃ‘ANA</td>\n",
       "      <td>76</td>\n",
       "      <td>73</td>\n",
       "      <td>72</td>\n",
       "      <td>71</td>\n",
       "      <td>74.0</td>\n",
       "      <td>365</td>\n",
       "      <td>99.0</td>\n",
       "    </tr>\n",
       "  </tbody>\n",
       "</table>\n",
       "<p>177347 rows × 13 columns</p>\n",
       "</div>"
      ],
      "text/plain": [
       "       ESTU_GENERO ESTU_DEPTO_RESIDE FAMI_ESTRATOVIVIENDA COLE_NATURALEZA  \\\n",
       "1                M           BOGOTÃ            Estrato 3      NO OFICIAL   \n",
       "3                M           BOGOTÃ            Estrato 3         OFICIAL   \n",
       "4                M           BOGOTÃ            Estrato 3         OFICIAL   \n",
       "5                M         ATLANTICO                    -      NO OFICIAL   \n",
       "6                M             VALLE            Estrato 4      NO OFICIAL   \n",
       "...            ...               ...                  ...             ...   \n",
       "546193           M           BOGOTÃ            Estrato 3         OFICIAL   \n",
       "546195           F           BOGOTÃ            Estrato 2         OFICIAL   \n",
       "546202           F             HUILA            Estrato 3         OFICIAL   \n",
       "546208           M           BOGOTÃ            Estrato 3      NO OFICIAL   \n",
       "546211           M           BOGOTÃ            Estrato 3         OFICIAL   \n",
       "\n",
       "       COLE_AREA_UBICACION COLE_JORNADA  PUNT_LECTURA_CRITICA  \\\n",
       "1                   URBANO     COMPLETA                    60   \n",
       "3                   URBANO      MAÃ‘ANA                    62   \n",
       "4                   URBANO      MAÃ‘ANA                    63   \n",
       "5                   URBANO        NOCHE                    49   \n",
       "6                   URBANO      MAÃ‘ANA                    76   \n",
       "...                    ...          ...                   ...   \n",
       "546193              URBANO        TARDE                    70   \n",
       "546195              URBANO        TARDE                    62   \n",
       "546202              URBANO      MAÃ‘ANA                   100   \n",
       "546208              URBANO     COMPLETA                    75   \n",
       "546211              URBANO      MAÃ‘ANA                    76   \n",
       "\n",
       "        PUNT_MATEMATICAS  PUNT_C_NATURALES  PUNT_SOCIALES_CIUDADANAS  \\\n",
       "1                     65                54                        59   \n",
       "3                     54                61                        73   \n",
       "4                     57                55                        57   \n",
       "5                     29                41                        41   \n",
       "6                     70                70                        68   \n",
       "...                  ...               ...                       ...   \n",
       "546193                66                60                        63   \n",
       "546195                53                54                        56   \n",
       "546202                73                70                        72   \n",
       "546208                73                72                        67   \n",
       "546211                73                72                        71   \n",
       "\n",
       "        PUNT_INGLES  PUNT_GLOBAL  PERCENTIL_GLOBAL  \n",
       "1              63.0          299              83.0  \n",
       "3              53.0          309              88.0  \n",
       "4              52.0          288              78.0  \n",
       "5              35.0          198              19.0  \n",
       "6              72.0          355              99.0  \n",
       "...             ...          ...               ...  \n",
       "546193         61.0          322              92.0  \n",
       "546195         49.0          278              73.0  \n",
       "546202         84.0          396             100.0  \n",
       "546208         74.0          360              99.0  \n",
       "546211         74.0          365              99.0  \n",
       "\n",
       "[177347 rows x 13 columns]"
      ]
     },
     "execution_count": 5,
     "metadata": {},
     "output_type": "execute_result"
    }
   ],
   "source": [
    "#Filtrando el dataframe por los departamentos de la lista\n",
    "departamentos = ['LA GUAJIRA', 'VALLE', 'ATLANTICO', 'BOGOTÃ\\x81', 'HUILA']\n",
    "df_departamentos = data_frame[data_frame['ESTU_DEPTO_RESIDE'].isin(departamentos)]\n",
    "df_departamentos"
   ]
  },
  {
   "cell_type": "code",
   "execution_count": 6,
   "id": "f80deea8",
   "metadata": {},
   "outputs": [
    {
     "data": {
      "text/plain": [
       "array(['BOGOTÃ\\x81', 'ATLANTICO', 'VALLE', 'HUILA', 'LA GUAJIRA'],\n",
       "      dtype=object)"
      ]
     },
     "execution_count": 6,
     "metadata": {},
     "output_type": "execute_result"
    }
   ],
   "source": [
    "df_departamentos['ESTU_DEPTO_RESIDE'].unique()"
   ]
  },
  {
   "cell_type": "markdown",
   "id": "06f184a4",
   "metadata": {},
   "source": [
    "#### a. (20%) Identifique las variables continuas y para CADA UNA de éstas:"
   ]
  },
  {
   "cell_type": "code",
   "execution_count": 7,
   "id": "afb0bd58",
   "metadata": {},
   "outputs": [
    {
     "name": "stdout",
     "output_type": "stream",
     "text": [
      "ESTU_GENERO                  object\n",
      "ESTU_DEPTO_RESIDE            object\n",
      "FAMI_ESTRATOVIVIENDA         object\n",
      "COLE_NATURALEZA              object\n",
      "COLE_AREA_UBICACION          object\n",
      "COLE_JORNADA                 object\n",
      "PUNT_LECTURA_CRITICA          int64\n",
      "PUNT_MATEMATICAS              int64\n",
      "PUNT_C_NATURALES              int64\n",
      "PUNT_SOCIALES_CIUDADANAS      int64\n",
      "PUNT_INGLES                 float64\n",
      "PUNT_GLOBAL                   int64\n",
      "PERCENTIL_GLOBAL            float64\n",
      "dtype: object\n",
      "['PUNT_LECTURA_CRITICA', 'PUNT_MATEMATICAS', 'PUNT_C_NATURALES', 'PUNT_SOCIALES_CIUDADANAS', 'PUNT_INGLES', 'PUNT_GLOBAL', 'PERCENTIL_GLOBAL']\n"
     ]
    }
   ],
   "source": [
    "#Determinando las variables continuas\n",
    "data_types = df_departamentos.dtypes\n",
    "data_type_continue = []\n",
    "print(data_types)\n",
    "#Agregando las columnas con variables continuas a una lista\n",
    "for columna, dtype in data_types.items():\n",
    "    if dtype != 'object':\n",
    "        data_type_continue.append(columna)\n",
    "print(data_type_continue)"
   ]
  },
  {
   "cell_type": "markdown",
   "id": "5a1d93c4",
   "metadata": {},
   "source": [
    "1. Determine cuántos valores perdidos tiene cada una."
   ]
  },
  {
   "cell_type": "code",
   "execution_count": 8,
   "id": "51dc6b6a",
   "metadata": {
    "scrolled": true
   },
   "outputs": [
    {
     "name": "stdout",
     "output_type": "stream",
     "text": [
      "PUNT_LECTURA_CRITICA\n",
      "Cantidad de datos faltnates: 0\n",
      "PUNT_MATEMATICAS\n",
      "Cantidad de datos faltnates: 0\n",
      "PUNT_C_NATURALES\n",
      "Cantidad de datos faltnates: 0\n",
      "PUNT_SOCIALES_CIUDADANAS\n",
      "Cantidad de datos faltnates: 0\n",
      "PUNT_INGLES\n",
      "Cantidad de datos faltnates: 1\n",
      "PUNT_GLOBAL\n",
      "Cantidad de datos faltnates: 0\n",
      "PERCENTIL_GLOBAL\n",
      "Cantidad de datos faltnates: 1\n"
     ]
    }
   ],
   "source": [
    "i = 0\n",
    "for columna in data_type_continue:\n",
    "    col_missing = df_departamentos[data_type_continue[i]].isna()\n",
    "    col_missing.sum()\n",
    "\n",
    "    print(data_type_continue[i])\n",
    "    print('Cantidad de datos faltnates:', col_missing.sum())\n",
    "\n",
    "    i += 1"
   ]
  },
  {
   "cell_type": "markdown",
   "id": "1ac0440b",
   "metadata": {},
   "source": [
    "2. Calcule la media, desviación estándar, máximo y mínimo."
   ]
  },
  {
   "cell_type": "code",
   "execution_count": 9,
   "id": "c9aa6016",
   "metadata": {},
   "outputs": [
    {
     "name": "stdout",
     "output_type": "stream",
     "text": [
      "Estadisticos variable: PUNT_LECTURA_CRITICA\n",
      "count    177347.000000\n",
      "mean         53.380226\n",
      "std          10.416497\n",
      "min           0.000000\n",
      "25%          46.000000\n",
      "50%          54.000000\n",
      "75%          61.000000\n",
      "max         100.000000\n",
      "Name: PUNT_LECTURA_CRITICA, dtype: float64\n",
      "Estadisticos variable: PUNT_MATEMATICAS\n",
      "count    177347.000000\n",
      "mean         51.817262\n",
      "std          11.876710\n",
      "min           0.000000\n",
      "25%          43.000000\n",
      "50%          52.000000\n",
      "75%          60.000000\n",
      "max         100.000000\n",
      "Name: PUNT_MATEMATICAS, dtype: float64\n",
      "Estadisticos variable: PUNT_C_NATURALES\n",
      "count    177347.000000\n",
      "mean         49.546606\n",
      "std          10.752327\n",
      "min           0.000000\n",
      "25%          42.000000\n",
      "50%          49.000000\n",
      "75%          57.000000\n",
      "max         100.000000\n",
      "Name: PUNT_C_NATURALES, dtype: float64\n",
      "Estadisticos variable: PUNT_SOCIALES_CIUDADANAS\n",
      "count    177347.000000\n",
      "mean         47.635641\n",
      "std          12.228414\n",
      "min           0.000000\n",
      "25%          38.000000\n",
      "50%          47.000000\n",
      "75%          57.000000\n",
      "max         100.000000\n",
      "Name: PUNT_SOCIALES_CIUDADANAS, dtype: float64\n",
      "Estadisticos variable: PUNT_INGLES\n",
      "count    177346.000000\n",
      "mean         50.693926\n",
      "std          12.870041\n",
      "min           0.000000\n",
      "25%          41.000000\n",
      "50%          50.000000\n",
      "75%          59.000000\n",
      "max         100.000000\n",
      "Name: PUNT_INGLES, dtype: float64\n",
      "Estadisticos variable: PUNT_GLOBAL\n",
      "count    177347.000000\n",
      "mean        253.013211\n",
      "std          51.465233\n",
      "min           0.000000\n",
      "25%         214.000000\n",
      "50%         251.000000\n",
      "75%         290.000000\n",
      "max         477.000000\n",
      "Name: PUNT_GLOBAL, dtype: float64\n",
      "Estadisticos variable: PERCENTIL_GLOBAL\n",
      "count    177346.000000\n",
      "mean         53.874037\n",
      "std          28.723295\n",
      "min           1.000000\n",
      "25%          29.000000\n",
      "50%          55.000000\n",
      "75%          79.000000\n",
      "max         100.000000\n",
      "Name: PERCENTIL_GLOBAL, dtype: float64\n"
     ]
    }
   ],
   "source": [
    "i = 0\n",
    "for columna in data_type_continue:\n",
    "    col_describe = df_departamentos[data_type_continue[i]].describe()\n",
    "    print('Estadisticos variable:', data_type_continue[i])\n",
    "    print(col_describe)\n",
    "    i+= 1"
   ]
  },
  {
   "cell_type": "markdown",
   "id": "c4335e42",
   "metadata": {},
   "source": [
    "3. Identifique los departamentos donde los estudiantes obtuvieron un puntaje en matemáticas mayor a 55, un puntaje en lectura mayor a 60 y un puntaje en ingles mayor a 70 reemplace estos valores por valores perdidos. En lo que sigue trabaje con estas variables corregidas."
   ]
  },
  {
   "cell_type": "code",
   "execution_count": 10,
   "id": "9e45c50f",
   "metadata": {},
   "outputs": [],
   "source": [
    "#Puntajes variables\n",
    "puntaje_mat = 55\n",
    "puntaje_lect = 60\n",
    "puntaje_ing = 70"
   ]
  },
  {
   "cell_type": "code",
   "execution_count": 11,
   "id": "7df2d703",
   "metadata": {},
   "outputs": [
    {
     "data": {
      "text/plain": [
       "array(['BOGOTÃ\\x81', 'VALLE', 'ATLANTICO', 'HUILA', 'LA GUAJIRA'],\n",
       "      dtype=object)"
      ]
     },
     "execution_count": 11,
     "metadata": {},
     "output_type": "execute_result"
    }
   ],
   "source": [
    "#Departamentos con puntaje en matemáticas mayor a 55\n",
    "dep_mat = df_departamentos['PUNT_MATEMATICAS'] > puntaje_mat\n",
    "df_math = df_departamentos[dep_mat]\n",
    "df_math['ESTU_DEPTO_RESIDE'].unique()"
   ]
  },
  {
   "cell_type": "code",
   "execution_count": 12,
   "id": "2fece13c",
   "metadata": {},
   "outputs": [
    {
     "data": {
      "text/plain": [
       "array(['BOGOTÃ\\x81', 'VALLE', 'ATLANTICO', 'HUILA', 'LA GUAJIRA'],\n",
       "      dtype=object)"
      ]
     },
     "execution_count": 12,
     "metadata": {},
     "output_type": "execute_result"
    }
   ],
   "source": [
    "#Departamentos con puntaje en lectura mayor a 60\n",
    "dep_lect = df_departamentos['PUNT_LECTURA_CRITICA'] > puntaje_lect\n",
    "df_lect = df_departamentos[dep_lect]\n",
    "df_lect['ESTU_DEPTO_RESIDE'].unique()"
   ]
  },
  {
   "cell_type": "code",
   "execution_count": 13,
   "id": "f64cdaed",
   "metadata": {},
   "outputs": [
    {
     "data": {
      "text/plain": [
       "array(['VALLE', 'ATLANTICO', 'BOGOTÃ\\x81', 'HUILA', 'LA GUAJIRA'],\n",
       "      dtype=object)"
      ]
     },
     "execution_count": 13,
     "metadata": {},
     "output_type": "execute_result"
    }
   ],
   "source": [
    "#Departamentos con puntaje en ingles mayor a 70\n",
    "dep_ing = df_departamentos['PUNT_INGLES'] > puntaje_ing\n",
    "df_ing = df_departamentos[dep_ing]\n",
    "df_ing['ESTU_DEPTO_RESIDE'].unique()"
   ]
  },
  {
   "cell_type": "code",
   "execution_count": 14,
   "id": "5bea69b6",
   "metadata": {},
   "outputs": [
    {
     "name": "stdout",
     "output_type": "stream",
     "text": [
      "Departamentos\n",
      "['VALLE' 'ATLANTICO' 'BOGOTÃ\\x81' 'HUILA' 'LA GUAJIRA']\n",
      "Puntajes Matematicas\n",
      "[ 70  72  56  71  66  57  67  80  78  74  76  73  75  68  81  60  79  62\n",
      "  58  77  65  69 100  59  63  64  61  83  82  84  85]\n",
      "Puntajes Lectura\n",
      "[ 76  62  63  71  70  68  74  75  67  64  73  69  79  65  72  61  77  78\n",
      "  66  80  81 100  82]\n",
      "Puntajes Ingles\n",
      "[ 72.  81.  82. 100.  76.  73.  71.  77.  79.  80.  74.  78.  84.  75.\n",
      "  86.  83.  85.  87.]\n"
     ]
    }
   ],
   "source": [
    "#Departamentos que cumplen las condiciones anteriores\n",
    "df_puntajes = df_departamentos[dep_mat & dep_lect & dep_ing]\n",
    "df_puntajes['ESTU_DEPTO_RESIDE'].unique()\n",
    "print('Departamentos')\n",
    "print(df_puntajes['ESTU_DEPTO_RESIDE'].unique())\n",
    "print('Puntajes Matematicas')\n",
    "print(df_puntajes['PUNT_MATEMATICAS'].unique())\n",
    "print('Puntajes Lectura')\n",
    "print(df_puntajes['PUNT_LECTURA_CRITICA'].unique())\n",
    "print('Puntajes Ingles')\n",
    "print(df_puntajes['PUNT_INGLES'].unique())"
   ]
  },
  {
   "cell_type": "markdown",
   "id": "8258566a",
   "metadata": {},
   "source": [
    "4. Calcule nuevamente la media, desviación estándar, máximo, mínimo. Compare los resultados con los hallados los 2 literales anteriores y comente."
   ]
  },
  {
   "cell_type": "code",
   "execution_count": 15,
   "id": "b9c7f8ac",
   "metadata": {},
   "outputs": [
    {
     "name": "stdout",
     "output_type": "stream",
     "text": [
      "Estadisticos variable: PUNT_LECTURA_CRITICA\n",
      "count    11161.000000\n",
      "mean        69.245050\n",
      "std          5.209025\n",
      "min         61.000000\n",
      "25%         66.000000\n",
      "50%         69.000000\n",
      "75%         72.000000\n",
      "max        100.000000\n",
      "Name: PUNT_LECTURA_CRITICA, dtype: float64\n",
      "Estadisticos variable: PUNT_MATEMATICAS\n",
      "count    11161.000000\n",
      "mean        69.881821\n",
      "std          7.207878\n",
      "min         56.000000\n",
      "25%         65.000000\n",
      "50%         70.000000\n",
      "75%         74.000000\n",
      "max        100.000000\n",
      "Name: PUNT_MATEMATICAS, dtype: float64\n",
      "Estadisticos variable: PUNT_C_NATURALES\n",
      "count    11161.000000\n",
      "mean        66.862288\n",
      "std          6.793665\n",
      "min         30.000000\n",
      "25%         63.000000\n",
      "50%         67.000000\n",
      "75%         71.000000\n",
      "max        100.000000\n",
      "Name: PUNT_C_NATURALES, dtype: float64\n",
      "Estadisticos variable: PUNT_SOCIALES_CIUDADANAS\n",
      "count    11161.00000\n",
      "mean        67.04892\n",
      "std          7.24149\n",
      "min         29.00000\n",
      "25%         63.00000\n",
      "50%         67.00000\n",
      "75%         72.00000\n",
      "max        100.00000\n",
      "Name: PUNT_SOCIALES_CIUDADANAS, dtype: float64\n",
      "Estadisticos variable: PUNT_INGLES\n",
      "count    11161.000000\n",
      "mean        77.158767\n",
      "std          6.445141\n",
      "min         71.000000\n",
      "25%         73.000000\n",
      "50%         76.000000\n",
      "75%         79.000000\n",
      "max        100.000000\n",
      "Name: PUNT_INGLES, dtype: float64\n",
      "Estadisticos variable: PUNT_GLOBAL\n",
      "count    11161.000000\n",
      "mean       344.715796\n",
      "std         24.302187\n",
      "min        237.000000\n",
      "25%        328.000000\n",
      "50%        344.000000\n",
      "75%        360.000000\n",
      "max        477.000000\n",
      "Name: PUNT_GLOBAL, dtype: float64\n",
      "Estadisticos variable: PERCENTIL_GLOBAL\n",
      "count    11161.000000\n",
      "mean        95.672789\n",
      "std          4.501483\n",
      "min         46.000000\n",
      "25%         94.000000\n",
      "50%         97.000000\n",
      "75%         99.000000\n",
      "max        100.000000\n",
      "Name: PERCENTIL_GLOBAL, dtype: float64\n"
     ]
    }
   ],
   "source": [
    "i = 0\n",
    "for columna in data_type_continue:\n",
    "    col_describe_puntajes = df_puntajes[data_type_continue[i]].describe()\n",
    "    print('Estadisticos variable:', data_type_continue[i])\n",
    "    print(col_describe_puntajes)\n",
    "    i+= 1"
   ]
  },
  {
   "cell_type": "markdown",
   "id": "f115f127",
   "metadata": {},
   "source": [
    "##### PUNT_LECTURA_CRITICA"
   ]
  },
  {
   "cell_type": "code",
   "execution_count": 16,
   "id": "2d7c1ebb",
   "metadata": {
    "scrolled": false
   },
   "outputs": [
    {
     "name": "stdout",
     "output_type": "stream",
     "text": [
      "Puntaje Lectura critica\n",
      "count    177347.000000\n",
      "mean         53.380226\n",
      "std          10.416497\n",
      "min           0.000000\n",
      "25%          46.000000\n",
      "50%          54.000000\n",
      "75%          61.000000\n",
      "max         100.000000\n",
      "Name: PUNT_LECTURA_CRITICA, dtype: float64\n",
      "Puntaje Lectura critica mayor a 60\n",
      "count    11161.000000\n",
      "mean        69.245050\n",
      "std          5.209025\n",
      "min         61.000000\n",
      "25%         66.000000\n",
      "50%         69.000000\n",
      "75%         72.000000\n",
      "max        100.000000\n",
      "Name: PUNT_LECTURA_CRITICA, dtype: float64\n"
     ]
    },
    {
     "data": {
      "image/png": "[encoded data removed]",
      "text/plain": [
       "<Figure size 640x480 with 2 Axes>"
      ]
     },
     "metadata": {},
     "output_type": "display_data"
    }
   ],
   "source": [
    "lectura_1 = df_departamentos['PUNT_LECTURA_CRITICA'].describe()\n",
    "lectura_2 = df_puntajes['PUNT_LECTURA_CRITICA'].describe()\n",
    "\n",
    "print ('Puntaje Lectura critica')\n",
    "print(lectura_1)\n",
    "\n",
    "print ('Puntaje Lectura critica mayor a 60')\n",
    "print(lectura_2)\n",
    "\n",
    "plt.subplot(1,2,1)\n",
    "plt.hist(df_departamentos['PUNT_LECTURA_CRITICA'], edgecolor='black')\n",
    "plt.title('Puntaje Lectura Critica')\n",
    "plt.ylabel('Cantidad de estudiantes')\n",
    "plt.xlabel('Puntaje')\n",
    "plt.subplot(1,2,2)\n",
    "plt.hist(df_puntajes['PUNT_LECTURA_CRITICA'], color='green', edgecolor='black')\n",
    "plt.title('Puntaje Lectura Critica mayor a 60')\n",
    "plt.ylabel('Cantidad de estudiantes')\n",
    "plt.xlabel('Puntaje')\n",
    "plt.show()\n"
   ]
  },
  {
   "cell_type": "markdown",
   "id": "6d068ea2",
   "metadata": {},
   "source": [
    "ANÁLISIS"
   ]
  },
  {
   "cell_type": "markdown",
   "id": "116e1da4",
   "metadata": {},
   "source": [
    "##### PUNT_MATEMATICAS"
   ]
  },
  {
   "cell_type": "code",
   "execution_count": 17,
   "id": "614c9049",
   "metadata": {
    "scrolled": false
   },
   "outputs": [
    {
     "name": "stdout",
     "output_type": "stream",
     "text": [
      "Puntaje Matematicas\n",
      "count    177347.000000\n",
      "mean         51.817262\n",
      "std          11.876710\n",
      "min           0.000000\n",
      "25%          43.000000\n",
      "50%          52.000000\n",
      "75%          60.000000\n",
      "max         100.000000\n",
      "Name: PUNT_MATEMATICAS, dtype: float64\n",
      "Puntaje Matematicas mayor a 55\n",
      "count    11161.000000\n",
      "mean        69.881821\n",
      "std          7.207878\n",
      "min         56.000000\n",
      "25%         65.000000\n",
      "50%         70.000000\n",
      "75%         74.000000\n",
      "max        100.000000\n",
      "Name: PUNT_MATEMATICAS, dtype: float64\n"
     ]
    },
    {
     "data": {
      "image/png": "[encoded data removed]",
      "text/plain": [
       "<Figure size 640x480 with 2 Axes>"
      ]
     },
     "metadata": {},
     "output_type": "display_data"
    }
   ],
   "source": [
    "matematica_1 = df_departamentos['PUNT_MATEMATICAS'].describe()\n",
    "matematica_2 = df_puntajes['PUNT_MATEMATICAS'].describe()\n",
    "\n",
    "print ('Puntaje Matematicas')\n",
    "print(matematica_1)\n",
    "\n",
    "print ('Puntaje Matematicas mayor a 55')\n",
    "print(matematica_2)\n",
    "\n",
    "plt.subplot(1,2,1)\n",
    "plt.hist(df_departamentos['PUNT_MATEMATICAS'], edgecolor='black')\n",
    "plt.title('Puntaje Matematicas')\n",
    "plt.ylabel('Cantidad de estudiantes')\n",
    "plt.xlabel('Puntaje')\n",
    "plt.subplot(1,2,2)\n",
    "plt.hist(df_puntajes['PUNT_MATEMATICAS'], color='green', edgecolor='black')\n",
    "plt.title('Puntaje Matematicas mayor a 55')\n",
    "plt.ylabel('Cantidad de estudiantes')\n",
    "plt.xlabel('Puntaje')\n",
    "plt.show()"
   ]
  },
  {
   "cell_type": "markdown",
   "id": "ea4f547b",
   "metadata": {},
   "source": [
    "##### PUNT_C_NATURALES"
   ]
  },
  {
   "cell_type": "code",
   "execution_count": 18,
   "id": "5408c486",
   "metadata": {
    "scrolled": false
   },
   "outputs": [
    {
     "name": "stdout",
     "output_type": "stream",
     "text": [
      "Puntaje Ciencias Naturales\n",
      "count    177347.000000\n",
      "mean         49.546606\n",
      "std          10.752327\n",
      "min           0.000000\n",
      "25%          42.000000\n",
      "50%          49.000000\n",
      "75%          57.000000\n",
      "max         100.000000\n",
      "Name: PUNT_C_NATURALES, dtype: float64\n",
      "Puntaje Ciencias Naturales con filtros\n",
      "count    11161.000000\n",
      "mean        66.862288\n",
      "std          6.793665\n",
      "min         30.000000\n",
      "25%         63.000000\n",
      "50%         67.000000\n",
      "75%         71.000000\n",
      "max        100.000000\n",
      "Name: PUNT_C_NATURALES, dtype: float64\n"
     ]
    },
    {
     "data": {
      "image/png": "[encoded data removed]",
      "text/plain": [
       "<Figure size 640x480 with 2 Axes>"
      ]
     },
     "metadata": {},
     "output_type": "display_data"
    }
   ],
   "source": [
    "naturales_1 = df_departamentos['PUNT_C_NATURALES'].describe()\n",
    "naturales_2 = df_puntajes['PUNT_C_NATURALES'].describe()\n",
    "\n",
    "print ('Puntaje Ciencias Naturales')\n",
    "print(naturales_1)\n",
    "\n",
    "print ('Puntaje Ciencias Naturales con filtros')\n",
    "print(naturales_2)\n",
    "\n",
    "plt.subplot(1,2,1)\n",
    "plt.hist(df_departamentos['PUNT_C_NATURALES'], edgecolor='black')\n",
    "plt.title('Puntaje Ciencias Naturales')\n",
    "plt.ylabel('Cantidad de estudiantes')\n",
    "plt.xlabel('Puntaje')\n",
    "plt.subplot(1,2,2)\n",
    "plt.hist(df_puntajes['PUNT_C_NATURALES'], color='green', edgecolor='black')\n",
    "plt.title('Puntaje Ciencias Naturales con filtros')\n",
    "plt.ylabel('Cantidad de estudiantes')\n",
    "plt.xlabel('Puntaje')\n",
    "plt.show()\n"
   ]
  },
  {
   "cell_type": "markdown",
   "id": "37c60b43",
   "metadata": {},
   "source": [
    "##### PUNT_SOCIALES_CIUDADANAS"
   ]
  },
  {
   "cell_type": "code",
   "execution_count": 19,
   "id": "280c922a",
   "metadata": {
    "scrolled": false
   },
   "outputs": [
    {
     "name": "stdout",
     "output_type": "stream",
     "text": [
      "Puntaje Sociales Ciudadanas\n",
      "count    177347.000000\n",
      "mean         47.635641\n",
      "std          12.228414\n",
      "min           0.000000\n",
      "25%          38.000000\n",
      "50%          47.000000\n",
      "75%          57.000000\n",
      "max         100.000000\n",
      "Name: PUNT_SOCIALES_CIUDADANAS, dtype: float64\n",
      "Puntaje Sociales Ciudadanas con filtros\n",
      "count    11161.00000\n",
      "mean        67.04892\n",
      "std          7.24149\n",
      "min         29.00000\n",
      "25%         63.00000\n",
      "50%         67.00000\n",
      "75%         72.00000\n",
      "max        100.00000\n",
      "Name: PUNT_SOCIALES_CIUDADANAS, dtype: float64\n"
     ]
    },
    {
     "data": {
      "image/png": "[encoded data removed]",
      "text/plain": [
       "<Figure size 640x480 with 2 Axes>"
      ]
     },
     "metadata": {},
     "output_type": "display_data"
    }
   ],
   "source": [
    "sociales_1 = df_departamentos['PUNT_SOCIALES_CIUDADANAS'].describe()\n",
    "sociales_2 = df_puntajes['PUNT_SOCIALES_CIUDADANAS'].describe()\n",
    "\n",
    "print ('Puntaje Sociales Ciudadanas')\n",
    "print(sociales_1)\n",
    "\n",
    "print ('Puntaje Sociales Ciudadanas con filtros')\n",
    "print(sociales_2)\n",
    "\n",
    "plt.subplot(1,2,1)\n",
    "plt.hist(df_departamentos['PUNT_SOCIALES_CIUDADANAS'], edgecolor='black')\n",
    "plt.title('Puntaje Sociales Ciudadanas')\n",
    "plt.ylabel('Cantidad de estudiantes')\n",
    "plt.xlabel('Puntaje')\n",
    "plt.subplot(1,2,2)\n",
    "plt.hist(df_puntajes['PUNT_SOCIALES_CIUDADANAS'], color='green', edgecolor='black')\n",
    "plt.title('Puntaje Sociales Ciudadanas con filtros')\n",
    "plt.ylabel('Cantidad de estudiantes')\n",
    "plt.xlabel('Puntaje')\n",
    "plt.show()"
   ]
  },
  {
   "cell_type": "markdown",
   "id": "aa4c7c05",
   "metadata": {},
   "source": [
    "##### PUNT_INGLES"
   ]
  },
  {
   "cell_type": "code",
   "execution_count": 20,
   "id": "c7883f72",
   "metadata": {
    "scrolled": false
   },
   "outputs": [
    {
     "name": "stdout",
     "output_type": "stream",
     "text": [
      "Puntaje Ingles\n",
      "count    177346.000000\n",
      "mean         50.693926\n",
      "std          12.870041\n",
      "min           0.000000\n",
      "25%          41.000000\n",
      "50%          50.000000\n",
      "75%          59.000000\n",
      "max         100.000000\n",
      "Name: PUNT_INGLES, dtype: float64\n",
      "Puntaje Ingles mayor a 70\n",
      "count    11161.000000\n",
      "mean        77.158767\n",
      "std          6.445141\n",
      "min         71.000000\n",
      "25%         73.000000\n",
      "50%         76.000000\n",
      "75%         79.000000\n",
      "max        100.000000\n",
      "Name: PUNT_INGLES, dtype: float64\n"
     ]
    },
    {
     "data": {
      "image/png": "[encoded data removed]",
      "text/plain": [
       "<Figure size 640x480 with 2 Axes>"
      ]
     },
     "metadata": {},
     "output_type": "display_data"
    }
   ],
   "source": [
    "ingles_1 = df_departamentos['PUNT_INGLES'].describe()\n",
    "ingles_2 = df_puntajes['PUNT_INGLES'].describe()\n",
    "\n",
    "print ('Puntaje Ingles')\n",
    "print(ingles_1)\n",
    "\n",
    "print ('Puntaje Ingles mayor a 70')\n",
    "print(ingles_2)\n",
    "\n",
    "plt.subplot(1,2,1)\n",
    "plt.hist(df_departamentos['PUNT_INGLES'], edgecolor='black')\n",
    "plt.title('Puntaje Ingles')\n",
    "plt.ylabel('Cantidad de estudiantes')\n",
    "plt.xlabel('Puntaje')\n",
    "plt.subplot(1,2,2)\n",
    "plt.hist(df_puntajes['PUNT_INGLES'], color='green', edgecolor='black')\n",
    "plt.title('Puntaje Ingles mayor a 70')\n",
    "plt.ylabel('Cantidad de estudiantes')\n",
    "plt.xlabel('Puntaje')\n",
    "plt.show()"
   ]
  },
  {
   "cell_type": "markdown",
   "id": "bc5868f1",
   "metadata": {},
   "source": [
    "##### PUNT_GLOBAL"
   ]
  },
  {
   "cell_type": "code",
   "execution_count": 21,
   "id": "e89d1a9e",
   "metadata": {
    "scrolled": false
   },
   "outputs": [
    {
     "name": "stdout",
     "output_type": "stream",
     "text": [
      "Puntaje Global\n",
      "count    177347.000000\n",
      "mean        253.013211\n",
      "std          51.465233\n",
      "min           0.000000\n",
      "25%         214.000000\n",
      "50%         251.000000\n",
      "75%         290.000000\n",
      "max         477.000000\n",
      "Name: PUNT_GLOBAL, dtype: float64\n",
      "Puntaje Global con filtros\n",
      "count    11161.000000\n",
      "mean       344.715796\n",
      "std         24.302187\n",
      "min        237.000000\n",
      "25%        328.000000\n",
      "50%        344.000000\n",
      "75%        360.000000\n",
      "max        477.000000\n",
      "Name: PUNT_GLOBAL, dtype: float64\n"
     ]
    },
    {
     "data": {
      "image/png": "[encoded data removed]",
      "text/plain": [
       "<Figure size 640x480 with 2 Axes>"
      ]
     },
     "metadata": {},
     "output_type": "display_data"
    }
   ],
   "source": [
    "glob_1 = df_departamentos['PUNT_GLOBAL'].describe()\n",
    "glob_2 = df_puntajes['PUNT_GLOBAL'].describe()\n",
    "\n",
    "print ('Puntaje Global')\n",
    "print(glob_1)\n",
    "\n",
    "print ('Puntaje Global con filtros')\n",
    "print(glob_2)\n",
    "\n",
    "plt.subplot(1,2,1)\n",
    "plt.hist(df_departamentos['PUNT_GLOBAL'], edgecolor='black')\n",
    "plt.title('Puntaje Global')\n",
    "plt.ylabel('Cantidad de estudiantes')\n",
    "plt.xlabel('Puntaje')\n",
    "plt.subplot(1,2,2)\n",
    "plt.hist(df_puntajes['PUNT_GLOBAL'], color='green', edgecolor='black')\n",
    "plt.title('Puntaje Global con filtros')\n",
    "plt.ylabel('Cantidad de estudiantes')\n",
    "plt.xlabel('Puntaje')\n",
    "plt.show()"
   ]
  },
  {
   "cell_type": "markdown",
   "id": "e9a8a7ba",
   "metadata": {},
   "source": [
    "##### PERCENTIL_GLOBAL"
   ]
  },
  {
   "cell_type": "code",
   "execution_count": null,
   "id": "0b49573b",
   "metadata": {
    "scrolled": false
   },
   "outputs": [
    {
     "name": "stdout",
     "output_type": "stream",
     "text": [
      "Percentil Global\n",
      "count    177346.000000\n",
      "mean         53.874037\n",
      "std          28.723295\n",
      "min           1.000000\n",
      "25%          29.000000\n",
      "50%          55.000000\n",
      "75%          79.000000\n",
      "max         100.000000\n",
      "Name: PERCENTIL_GLOBAL, dtype: float64\n",
      "Percentil Global con filtros\n",
      "count    11161.000000\n",
      "mean        95.672789\n",
      "std          4.501483\n",
      "min         46.000000\n",
      "25%         94.000000\n",
      "50%         97.000000\n",
      "75%         99.000000\n",
      "max        100.000000\n",
      "Name: PERCENTIL_GLOBAL, dtype: float64\n"
     ]
    },
    {
     "data": {
      "image/png": "[encoded data removed]",
      "text/plain": [
       "<Figure size 640x480 with 2 Axes>"
      ]
     },
     "metadata": {},
     "output_type": "display_data"
    }
   ],
   "source": [
    "percentil_1 = df_departamentos['PERCENTIL_GLOBAL'].describe()\n",
    "percentil_2 = df_puntajes['PERCENTIL_GLOBAL'].describe()\n",
    "\n",
    "print ('Percentil Global')\n",
    "print(percentil_1)\n",
    "\n",
    "print ('Percentil Global con filtros')\n",
    "print(percentil_2)\n",
    "\n",
    "plt.subplot(1,2,1)\n",
    "plt.hist(df_departamentos['PERCENTIL_GLOBAL'], edgecolor='black')\n",
    "plt.title('Percentil Global')\n",
    "plt.ylabel('Cantidad de estudiantes')\n",
    "plt.xlabel('Puntaje')\n",
    "plt.subplot(1,2,2)\n",
    "plt.hist(df_puntajes['PERCENTIL_GLOBAL'], color='green', edgecolor='black')\n",
    "plt.title('Percentil Global con filtros')\n",
    "plt.ylabel('Cantidad de estudiantes')\n",
    "plt.xlabel('Puntaje')\n",
    "plt.show()"
   ]
  },
  {
   "cell_type": "markdown",
   "id": "b5798d76",
   "metadata": {},
   "source": [
    "#### b. (5%) Compare en una tabla los puntajes de matemáticas, lectura y ciencias naturales, e ilustre gráficamente con gráficas de caja para cada una de las materias. Comente."
   ]
  },
  {
   "cell_type": "code",
   "execution_count": null,
   "id": "91497a3e",
   "metadata": {},
   "outputs": [],
   "source": []
  },
  {
   "cell_type": "markdown",
   "id": "c1f5f81c",
   "metadata": {},
   "source": [
    "#### c. (5%) Identifique el departamento que tiene los puntajes globales más altos. Identifique el que tiene los mejores puntajes en matemáticas."
   ]
  },
  {
   "cell_type": "code",
   "execution_count": null,
   "id": "c00502bb",
   "metadata": {},
   "outputs": [],
   "source": []
  },
  {
   "cell_type": "markdown",
   "id": "94008aee",
   "metadata": {},
   "source": [
    "#### d. (5%) Muestre en una tabla el número de estudiantes que pertenece a colegios oficiales y no oficiales. Ilustre mediante una gráfica. ¿Cree Ud. que los resultados del puntaje global se ven influenciado por el tipo de colegio?"
   ]
  },
  {
   "cell_type": "code",
   "execution_count": null,
   "id": "96ae28cf",
   "metadata": {},
   "outputs": [],
   "source": []
  },
  {
   "cell_type": "markdown",
   "id": "b61a0863",
   "metadata": {},
   "source": [
    "#### e. (5%) ¿Cree usted que hay alguna relación entre el puntaje global y el estrato del estudiante?"
   ]
  },
  {
   "cell_type": "code",
   "execution_count": null,
   "id": "934c3fe2",
   "metadata": {},
   "outputs": [],
   "source": []
  }
 ],
 "metadata": {
  "kernelspec": {
   "display_name": "Python 3 (ipykernel)",
   "language": "python",
   "name": "python3"
  },
  "language_info": {
   "codemirror_mode": {
    "name": "ipython",
    "version": 3
   },
   "file_extension": ".py",
   "mimetype": "text/x-python",
   "name": "python",
   "nbconvert_exporter": "python",
   "pygments_lexer": "ipython3",
   "version": "3.11.4"
  }
 },
 "nbformat": 4,
 "nbformat_minor": 5
}
