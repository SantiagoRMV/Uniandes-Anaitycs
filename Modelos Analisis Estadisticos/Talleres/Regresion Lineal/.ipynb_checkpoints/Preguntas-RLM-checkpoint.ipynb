{
 "cells": [
  {
   "cell_type": "markdown",
   "id": "34e250e9",
   "metadata": {},
   "source": [
    "#### Description\n",
    "\n",
    "The data for this example come from a study of the effects of childhood sexual abuse on adult females. 45 women being treated at a clinic, who reported childhood sexual abuse, were measured for post traumatic stress disorder and childhood physical abuse both on standardized scales. 31 women also being treated at the same clinic, who did not report childhood sexual abuse were also measured. The full study was more complex than reported here and so readers interested in the subject matter should refer to the original article.\n",
    "\n",
    "###### Referencia:\n",
    "* cpa: Childhood physical abuse on standard scale\n",
    "\n",
    "* ptsd: Post-traumatic stress disorder on standard scale\n",
    "\n",
    "* csa: Childhood sexual abuse - abused or not abused"
   ]
  },
  {
   "cell_type": "code",
   "execution_count": 2,
   "id": "800c0cec",
   "metadata": {},
   "outputs": [],
   "source": [
    "import pandas as pd\n",
    "import numpy as np\n",
    "import matplotlib.pyplot as plt\n",
    "import seaborn as sns\n",
    "import statsmodels.api as sm\n",
    "import statsmodels.formula.api as smf\n",
    "import faraway.utils\n",
    "import faraway.datasets.sexab  "
   ]
  },
  {
   "cell_type": "markdown",
   "id": "9257cb2f",
   "metadata": {},
   "source": [
    "![](../Images/Ex_MLR1.png)"
   ]
  },
  {
   "cell_type": "code",
   "execution_count": 3,
   "id": "cf4a618e",
   "metadata": {},
   "outputs": [
    {
     "data": {
      "text/html": [
       "<div>\n",
       "<style scoped>\n",
       "    .dataframe tbody tr th:only-of-type {\n",
       "        vertical-align: middle;\n",
       "    }\n",
       "\n",
       "    .dataframe tbody tr th {\n",
       "        vertical-align: top;\n",
       "    }\n",
       "\n",
       "    .dataframe thead th {\n",
       "        text-align: right;\n",
       "    }\n",
       "</style>\n",
       "<table border=\"1\" class=\"dataframe\">\n",
       "  <thead>\n",
       "    <tr style=\"text-align: right;\">\n",
       "      <th></th>\n",
       "      <th>cpa</th>\n",
       "      <th>ptsd</th>\n",
       "      <th>csa</th>\n",
       "    </tr>\n",
       "  </thead>\n",
       "  <tbody>\n",
       "    <tr>\n",
       "      <th>1</th>\n",
       "      <td>2.04786</td>\n",
       "      <td>9.71365</td>\n",
       "      <td>Abused</td>\n",
       "    </tr>\n",
       "    <tr>\n",
       "      <th>2</th>\n",
       "      <td>0.83895</td>\n",
       "      <td>6.16933</td>\n",
       "      <td>Abused</td>\n",
       "    </tr>\n",
       "    <tr>\n",
       "      <th>3</th>\n",
       "      <td>-0.24139</td>\n",
       "      <td>15.15926</td>\n",
       "      <td>Abused</td>\n",
       "    </tr>\n",
       "    <tr>\n",
       "      <th>4</th>\n",
       "      <td>-1.11461</td>\n",
       "      <td>11.31277</td>\n",
       "      <td>Abused</td>\n",
       "    </tr>\n",
       "    <tr>\n",
       "      <th>5</th>\n",
       "      <td>2.01468</td>\n",
       "      <td>9.95384</td>\n",
       "      <td>Abused</td>\n",
       "    </tr>\n",
       "    <tr>\n",
       "      <th>...</th>\n",
       "      <td>...</td>\n",
       "      <td>...</td>\n",
       "      <td>...</td>\n",
       "    </tr>\n",
       "    <tr>\n",
       "      <th>72</th>\n",
       "      <td>2.17626</td>\n",
       "      <td>6.57281</td>\n",
       "      <td>NotAbused</td>\n",
       "    </tr>\n",
       "    <tr>\n",
       "      <th>73</th>\n",
       "      <td>-0.23208</td>\n",
       "      <td>-3.11622</td>\n",
       "      <td>NotAbused</td>\n",
       "    </tr>\n",
       "    <tr>\n",
       "      <th>74</th>\n",
       "      <td>-1.85753</td>\n",
       "      <td>-0.46996</td>\n",
       "      <td>NotAbused</td>\n",
       "    </tr>\n",
       "    <tr>\n",
       "      <th>75</th>\n",
       "      <td>2.85253</td>\n",
       "      <td>6.84304</td>\n",
       "      <td>NotAbused</td>\n",
       "    </tr>\n",
       "    <tr>\n",
       "      <th>76</th>\n",
       "      <td>0.81138</td>\n",
       "      <td>7.12918</td>\n",
       "      <td>NotAbused</td>\n",
       "    </tr>\n",
       "  </tbody>\n",
       "</table>\n",
       "<p>76 rows × 3 columns</p>\n",
       "</div>"
      ],
      "text/plain": [
       "        cpa      ptsd        csa\n",
       "1   2.04786   9.71365     Abused\n",
       "2   0.83895   6.16933     Abused\n",
       "3  -0.24139  15.15926     Abused\n",
       "4  -1.11461  11.31277     Abused\n",
       "5   2.01468   9.95384     Abused\n",
       "..      ...       ...        ...\n",
       "72  2.17626   6.57281  NotAbused\n",
       "73 -0.23208  -3.11622  NotAbused\n",
       "74 -1.85753  -0.46996  NotAbused\n",
       "75  2.85253   6.84304  NotAbused\n",
       "76  0.81138   7.12918  NotAbused\n",
       "\n",
       "[76 rows x 3 columns]"
      ]
     },
     "execution_count": 3,
     "metadata": {},
     "output_type": "execute_result"
    }
   ],
   "source": [
    "# cargar base de datos de ejemplo\n",
    "\n",
    "sexab = faraway.datasets.sexab.load()\n",
    "sexab"
   ]
  },
  {
   "cell_type": "markdown",
   "id": "a757e70c",
   "metadata": {},
   "source": [
    "#### Grupo 'Abused'"
   ]
  },
  {
   "cell_type": "code",
   "execution_count": 6,
   "id": "890bd37e",
   "metadata": {
    "scrolled": true
   },
   "outputs": [
    {
     "data": {
      "text/html": [
       "<div>\n",
       "<style scoped>\n",
       "    .dataframe tbody tr th:only-of-type {\n",
       "        vertical-align: middle;\n",
       "    }\n",
       "\n",
       "    .dataframe tbody tr th {\n",
       "        vertical-align: top;\n",
       "    }\n",
       "\n",
       "    .dataframe thead th {\n",
       "        text-align: right;\n",
       "    }\n",
       "</style>\n",
       "<table border=\"1\" class=\"dataframe\">\n",
       "  <thead>\n",
       "    <tr style=\"text-align: right;\">\n",
       "      <th></th>\n",
       "      <th>cpa</th>\n",
       "      <th>ptsd</th>\n",
       "    </tr>\n",
       "  </thead>\n",
       "  <tbody>\n",
       "    <tr>\n",
       "      <th>1</th>\n",
       "      <td>2.04786</td>\n",
       "      <td>9.71365</td>\n",
       "    </tr>\n",
       "    <tr>\n",
       "      <th>2</th>\n",
       "      <td>0.83895</td>\n",
       "      <td>6.16933</td>\n",
       "    </tr>\n",
       "    <tr>\n",
       "      <th>3</th>\n",
       "      <td>-0.24139</td>\n",
       "      <td>15.15926</td>\n",
       "    </tr>\n",
       "    <tr>\n",
       "      <th>4</th>\n",
       "      <td>-1.11461</td>\n",
       "      <td>11.31277</td>\n",
       "    </tr>\n",
       "    <tr>\n",
       "      <th>5</th>\n",
       "      <td>2.01468</td>\n",
       "      <td>9.95384</td>\n",
       "    </tr>\n",
       "  </tbody>\n",
       "</table>\n",
       "</div>"
      ],
      "text/plain": [
       "       cpa      ptsd\n",
       "1  2.04786   9.71365\n",
       "2  0.83895   6.16933\n",
       "3 -0.24139  15.15926\n",
       "4 -1.11461  11.31277\n",
       "5  2.01468   9.95384"
      ]
     },
     "execution_count": 6,
     "metadata": {},
     "output_type": "execute_result"
    }
   ],
   "source": [
    "sexab_abused = sexab[sexab['csa'] == 'Abused']\n",
    "sexab_abused = sexab_abused.drop('csa', axis = 1)\n",
    "sexab_abused.head()"
   ]
  },
  {
   "cell_type": "code",
   "execution_count": 11,
   "id": "9e46ec1e",
   "metadata": {},
   "outputs": [
    {
     "data": {
      "text/html": [
       "<div>\n",
       "<style scoped>\n",
       "    .dataframe tbody tr th:only-of-type {\n",
       "        vertical-align: middle;\n",
       "    }\n",
       "\n",
       "    .dataframe tbody tr th {\n",
       "        vertical-align: top;\n",
       "    }\n",
       "\n",
       "    .dataframe thead th {\n",
       "        text-align: right;\n",
       "    }\n",
       "</style>\n",
       "<table border=\"1\" class=\"dataframe\">\n",
       "  <thead>\n",
       "    <tr style=\"text-align: right;\">\n",
       "      <th></th>\n",
       "      <th>cpa</th>\n",
       "      <th>ptsd</th>\n",
       "    </tr>\n",
       "  </thead>\n",
       "  <tbody>\n",
       "    <tr>\n",
       "      <th>count</th>\n",
       "      <td>45.000000</td>\n",
       "      <td>45.000000</td>\n",
       "    </tr>\n",
       "    <tr>\n",
       "      <th>mean</th>\n",
       "      <td>3.075197</td>\n",
       "      <td>11.941093</td>\n",
       "    </tr>\n",
       "    <tr>\n",
       "      <th>std</th>\n",
       "      <td>2.371215</td>\n",
       "      <td>3.440152</td>\n",
       "    </tr>\n",
       "    <tr>\n",
       "      <th>min</th>\n",
       "      <td>-1.114610</td>\n",
       "      <td>5.984910</td>\n",
       "    </tr>\n",
       "    <tr>\n",
       "      <th>25%</th>\n",
       "      <td>1.414620</td>\n",
       "      <td>9.374300</td>\n",
       "    </tr>\n",
       "    <tr>\n",
       "      <th>50%</th>\n",
       "      <td>2.627460</td>\n",
       "      <td>11.312770</td>\n",
       "    </tr>\n",
       "    <tr>\n",
       "      <th>75%</th>\n",
       "      <td>4.316890</td>\n",
       "      <td>14.901310</td>\n",
       "    </tr>\n",
       "    <tr>\n",
       "      <th>max</th>\n",
       "      <td>8.646900</td>\n",
       "      <td>18.992510</td>\n",
       "    </tr>\n",
       "  </tbody>\n",
       "</table>\n",
       "</div>"
      ],
      "text/plain": [
       "             cpa       ptsd\n",
       "count  45.000000  45.000000\n",
       "mean    3.075197  11.941093\n",
       "std     2.371215   3.440152\n",
       "min    -1.114610   5.984910\n",
       "25%     1.414620   9.374300\n",
       "50%     2.627460  11.312770\n",
       "75%     4.316890  14.901310\n",
       "max     8.646900  18.992510"
      ]
     },
     "execution_count": 11,
     "metadata": {},
     "output_type": "execute_result"
    }
   ],
   "source": [
    "sexab_abused.describe()"
   ]
  },
  {
   "cell_type": "code",
   "execution_count": 7,
   "id": "e3d4f485",
   "metadata": {
    "scrolled": false
   },
   "outputs": [
    {
     "data": {
      "image/png": "[encoded data removed]",
      "text/plain": [
       "<Figure size 640x480 with 1 Axes>"
      ]
     },
     "metadata": {},
     "output_type": "display_data"
    }
   ],
   "source": [
    "cpa_data_abused = sexab_abused['cpa']\n",
    "ptsd_data_abused = sexab_abused['ptsd']\n",
    "\n",
    "fig, ax = plt.subplots()\n",
    "\n",
    "boxplot_data = [cpa_data_abused, ptsd_data_abused]\n",
    "ax.boxplot(boxplot_data)\n",
    "\n",
    "ax.set_xticklabels(['cpa','ptsd'])\n",
    "ax.set_title('Grafico de datos cpa y ptsd para la poblacion Abused')\n",
    "ax.set_xlabel('Conjuntos de Datos')\n",
    "ax.set_ylabel('Valores')\n",
    "plt.show()"
   ]
  },
  {
   "cell_type": "markdown",
   "id": "0d1aca57",
   "metadata": {},
   "source": [
    "#### Grupo 'Not Abused'"
   ]
  },
  {
   "cell_type": "code",
   "execution_count": 8,
   "id": "16470b1c",
   "metadata": {},
   "outputs": [
    {
     "data": {
      "text/html": [
       "<div>\n",
       "<style scoped>\n",
       "    .dataframe tbody tr th:only-of-type {\n",
       "        vertical-align: middle;\n",
       "    }\n",
       "\n",
       "    .dataframe tbody tr th {\n",
       "        vertical-align: top;\n",
       "    }\n",
       "\n",
       "    .dataframe thead th {\n",
       "        text-align: right;\n",
       "    }\n",
       "</style>\n",
       "<table border=\"1\" class=\"dataframe\">\n",
       "  <thead>\n",
       "    <tr style=\"text-align: right;\">\n",
       "      <th></th>\n",
       "      <th>cpa</th>\n",
       "      <th>ptsd</th>\n",
       "    </tr>\n",
       "  </thead>\n",
       "  <tbody>\n",
       "    <tr>\n",
       "      <th>46</th>\n",
       "      <td>1.49181</td>\n",
       "      <td>6.14200</td>\n",
       "    </tr>\n",
       "    <tr>\n",
       "      <th>47</th>\n",
       "      <td>0.60961</td>\n",
       "      <td>0.74457</td>\n",
       "    </tr>\n",
       "    <tr>\n",
       "      <th>48</th>\n",
       "      <td>1.43335</td>\n",
       "      <td>3.45957</td>\n",
       "    </tr>\n",
       "    <tr>\n",
       "      <th>49</th>\n",
       "      <td>-0.33664</td>\n",
       "      <td>6.91218</td>\n",
       "    </tr>\n",
       "    <tr>\n",
       "      <th>50</th>\n",
       "      <td>-3.12036</td>\n",
       "      <td>4.54166</td>\n",
       "    </tr>\n",
       "  </tbody>\n",
       "</table>\n",
       "</div>"
      ],
      "text/plain": [
       "        cpa     ptsd\n",
       "46  1.49181  6.14200\n",
       "47  0.60961  0.74457\n",
       "48  1.43335  3.45957\n",
       "49 -0.33664  6.91218\n",
       "50 -3.12036  4.54166"
      ]
     },
     "execution_count": 8,
     "metadata": {},
     "output_type": "execute_result"
    }
   ],
   "source": [
    "sexab_not_abused = sexab[sexab['csa'] == 'NotAbused']\n",
    "sexab_not_abused = sexab_not_abused.drop('csa', axis = 1)\n",
    "sexab_not_abused.head()"
   ]
  },
  {
   "cell_type": "code",
   "execution_count": 10,
   "id": "42c37bac",
   "metadata": {},
   "outputs": [
    {
     "data": {
      "text/html": [
       "<div>\n",
       "<style scoped>\n",
       "    .dataframe tbody tr th:only-of-type {\n",
       "        vertical-align: middle;\n",
       "    }\n",
       "\n",
       "    .dataframe tbody tr th {\n",
       "        vertical-align: top;\n",
       "    }\n",
       "\n",
       "    .dataframe thead th {\n",
       "        text-align: right;\n",
       "    }\n",
       "</style>\n",
       "<table border=\"1\" class=\"dataframe\">\n",
       "  <thead>\n",
       "    <tr style=\"text-align: right;\">\n",
       "      <th></th>\n",
       "      <th>cpa</th>\n",
       "      <th>ptsd</th>\n",
       "    </tr>\n",
       "  </thead>\n",
       "  <tbody>\n",
       "    <tr>\n",
       "      <th>count</th>\n",
       "      <td>31.000000</td>\n",
       "      <td>31.000000</td>\n",
       "    </tr>\n",
       "    <tr>\n",
       "      <th>mean</th>\n",
       "      <td>1.308849</td>\n",
       "      <td>4.695874</td>\n",
       "    </tr>\n",
       "    <tr>\n",
       "      <th>std</th>\n",
       "      <td>1.970577</td>\n",
       "      <td>3.519743</td>\n",
       "    </tr>\n",
       "    <tr>\n",
       "      <th>min</th>\n",
       "      <td>-3.120360</td>\n",
       "      <td>-3.349210</td>\n",
       "    </tr>\n",
       "    <tr>\n",
       "      <th>25%</th>\n",
       "      <td>-0.229940</td>\n",
       "      <td>3.544485</td>\n",
       "    </tr>\n",
       "    <tr>\n",
       "      <th>50%</th>\n",
       "      <td>1.321650</td>\n",
       "      <td>5.794470</td>\n",
       "    </tr>\n",
       "    <tr>\n",
       "      <th>75%</th>\n",
       "      <td>2.830905</td>\n",
       "      <td>6.838045</td>\n",
       "    </tr>\n",
       "    <tr>\n",
       "      <th>max</th>\n",
       "      <td>5.049740</td>\n",
       "      <td>10.914470</td>\n",
       "    </tr>\n",
       "  </tbody>\n",
       "</table>\n",
       "</div>"
      ],
      "text/plain": [
       "             cpa       ptsd\n",
       "count  31.000000  31.000000\n",
       "mean    1.308849   4.695874\n",
       "std     1.970577   3.519743\n",
       "min    -3.120360  -3.349210\n",
       "25%    -0.229940   3.544485\n",
       "50%     1.321650   5.794470\n",
       "75%     2.830905   6.838045\n",
       "max     5.049740  10.914470"
      ]
     },
     "execution_count": 10,
     "metadata": {},
     "output_type": "execute_result"
    }
   ],
   "source": [
    "sexab_not_abused.describe()"
   ]
  },
  {
   "cell_type": "code",
   "execution_count": 9,
   "id": "56a46f6f",
   "metadata": {},
   "outputs": [
    {
     "data": {
      "image/png": "[encoded data removed]",
      "text/plain": [
       "<Figure size 640x480 with 1 Axes>"
      ]
     },
     "metadata": {},
     "output_type": "display_data"
    }
   ],
   "source": [
    "cpa_data_not_abused = sexab_not_abused['cpa']\n",
    "ptsd_data_not_abused = sexab_not_abused['ptsd']\n",
    "\n",
    "fig, ax = plt.subplots()\n",
    "\n",
    "boxplot_data = [cpa_data_not_abused, ptsd_data_not_abused]\n",
    "ax.boxplot(boxplot_data)\n",
    "\n",
    "ax.set_xticklabels(['cpa','ptsd'])\n",
    "ax.set_title('Grafico de datos cpa y ptsd para la poblacion NotAbused')\n",
    "ax.set_xlabel('Conjuntos de Datos')\n",
    "ax.set_ylabel('Valores')\n",
    "plt.show()"
   ]
  },
  {
   "cell_type": "code",
   "execution_count": 5,
   "id": "060eb77a",
   "metadata": {},
   "outputs": [
    {
     "data": {
      "text/plain": [
       "<seaborn.axisgrid.FacetGrid at 0x11cc08710>"
      ]
     },
     "execution_count": 5,
     "metadata": {},
     "output_type": "execute_result"
    },
    {
     "data": {
      "image/png": "[encoded data removed]",
      "text/plain": [
       "<Figure size 626x500 with 1 Axes>"
      ]
     },
     "metadata": {},
     "output_type": "display_data"
    }
   ],
   "source": [
    "# Gráfico de dispersión cpa vs ptsd por grupo\n",
    "sns.lmplot(x='cpa', y='ptsd', hue='csa', data=sexab, fit_reg=False)"
   ]
  },
  {
   "cell_type": "markdown",
   "id": "9f6d24cd",
   "metadata": {},
   "source": [
    "### comenta los resultados de los descriptivos\n",
    "\n"
   ]
  },
  {
   "cell_type": "code",
   "execution_count": 21,
   "id": "99f5487e",
   "metadata": {},
   "outputs": [],
   "source": [
    "mean_cpa_abused = sexab_abused['cpa']\n",
    "mean_cpa_noabused = sexab_not_abused['cpa']\n",
    "mean_ptsd_abused = sexab_abused['ptsd']\n",
    "mean_ptsd_noabused = sexab_not_abused['ptsd']"
   ]
  },
  {
   "cell_type": "code",
   "execution_count": 17,
   "id": "aedff492",
   "metadata": {},
   "outputs": [],
   "source": [
    "import scipy.stats as stats"
   ]
  },
  {
   "cell_type": "markdown",
   "id": "29388d5f",
   "metadata": {},
   "source": [
    "#### Variable CPA"
   ]
  },
  {
   "cell_type": "code",
   "execution_count": 27,
   "id": "f73f3866",
   "metadata": {},
   "outputs": [],
   "source": [
    "#Prueba con la variable CPA\n",
    "t_statistic, p_values = stats.ttest_ind(mean_cpa_abused, mean_cpa_noabused)"
   ]
  },
  {
   "cell_type": "code",
   "execution_count": 28,
   "id": "97c3cb6e",
   "metadata": {},
   "outputs": [
    {
     "name": "stdout",
     "output_type": "stream",
     "text": [
      "Estadística t: 3.4126048419588426\n",
      "Valor p: 0.0010464061426132783\n"
     ]
    }
   ],
   "source": [
    "print(\"Estadística t:\", t_statistic)\n",
    "print(\"Valor p:\", p_values)"
   ]
  },
  {
   "cell_type": "code",
   "execution_count": 34,
   "id": "d6009db4",
   "metadata": {
    "scrolled": true
   },
   "outputs": [
    {
     "data": {
      "image/png": "[encoded data removed]",
      "text/plain": [
       "<Figure size 640x480 with 1 Axes>"
      ]
     },
     "metadata": {},
     "output_type": "display_data"
    }
   ],
   "source": [
    "# Crear un gráfico de barras para comparar los dos grupos\n",
    "plt.bar(['CPA Abused', 'CPA No Abused'], [np.mean(mean_cpa_abused), np.mean(mean_cpa_noabused)], yerr=[np.std(mean_cpa_abused), np.std(mean_cpa_noabused)], capsize=10)\n",
    "plt.ylabel('Media de los datos')\n",
    "plt.title('Comparación de medias entre Grupo 1 y Grupo 2')\n",
    "\n",
    "# Mostrar el gráfico\n",
    "plt.show()"
   ]
  },
  {
   "cell_type": "markdown",
   "id": "1471b822",
   "metadata": {},
   "source": [
    "#### Variable PTSD"
   ]
  },
  {
   "cell_type": "code",
   "execution_count": 31,
   "id": "8626bcee",
   "metadata": {},
   "outputs": [
    {
     "name": "stdout",
     "output_type": "stream",
     "text": [
      "Estadística t: 8.938657095668173\n",
      "Valor p: 2.1719334389283135e-13\n"
     ]
    }
   ],
   "source": [
    "#Prueba con la variable PTSD\n",
    "t_statistic, p_values = stats.ttest_ind(mean_ptsd_abused, mean_ptsd_noabused)\n",
    "print(\"Estadística t:\", t_statistic)\n",
    "print(\"Valor p:\", p_values)"
   ]
  },
  {
   "cell_type": "code",
   "execution_count": 33,
   "id": "bfd5f053",
   "metadata": {},
   "outputs": [
    {
     "data": {
      "image/png": "[encoded data removed]",
      "text/plain": [
       "<Figure size 640x480 with 1 Axes>"
      ]
     },
     "metadata": {},
     "output_type": "display_data"
    }
   ],
   "source": [
    "# Crear un gráfico de barras para comparar los dos grupos\n",
    "plt.bar(['PTSD Abused', 'PTSD No Abused'], [np.mean(mean_ptsd_abused), np.mean(mean_ptsd_noabused)], yerr=[np.std(mean_ptsd_abused), np.std(mean_ptsd_noabused)], capsize=10)\n",
    "plt.ylabel('Media de los datos')\n",
    "plt.title('Comparación de medias entre Grupo 1 y Grupo 2')\n",
    "\n",
    "# Mostrar el gráfico\n",
    "plt.show()"
   ]
  },
  {
   "cell_type": "code",
   "execution_count": 35,
   "id": "66648575",
   "metadata": {},
   "outputs": [],
   "source": [
    "# construye tres modelos de regresión diferentes \n",
    "import statsmodels.formula.api as smf"
   ]
  },
  {
   "cell_type": "code",
   "execution_count": 42,
   "id": "37377882",
   "metadata": {},
   "outputs": [
    {
     "data": {
      "text/html": [
       "<div>\n",
       "<style scoped>\n",
       "    .dataframe tbody tr th:only-of-type {\n",
       "        vertical-align: middle;\n",
       "    }\n",
       "\n",
       "    .dataframe tbody tr th {\n",
       "        vertical-align: top;\n",
       "    }\n",
       "\n",
       "    .dataframe thead th {\n",
       "        text-align: right;\n",
       "    }\n",
       "</style>\n",
       "<table border=\"1\" class=\"dataframe\">\n",
       "  <thead>\n",
       "    <tr style=\"text-align: right;\">\n",
       "      <th></th>\n",
       "      <th>cpa</th>\n",
       "      <th>ptsd</th>\n",
       "      <th>csa</th>\n",
       "    </tr>\n",
       "  </thead>\n",
       "  <tbody>\n",
       "    <tr>\n",
       "      <th>1</th>\n",
       "      <td>2.04786</td>\n",
       "      <td>9.71365</td>\n",
       "      <td>1</td>\n",
       "    </tr>\n",
       "    <tr>\n",
       "      <th>2</th>\n",
       "      <td>0.83895</td>\n",
       "      <td>6.16933</td>\n",
       "      <td>1</td>\n",
       "    </tr>\n",
       "    <tr>\n",
       "      <th>3</th>\n",
       "      <td>-0.24139</td>\n",
       "      <td>15.15926</td>\n",
       "      <td>1</td>\n",
       "    </tr>\n",
       "    <tr>\n",
       "      <th>4</th>\n",
       "      <td>-1.11461</td>\n",
       "      <td>11.31277</td>\n",
       "      <td>1</td>\n",
       "    </tr>\n",
       "    <tr>\n",
       "      <th>5</th>\n",
       "      <td>2.01468</td>\n",
       "      <td>9.95384</td>\n",
       "      <td>1</td>\n",
       "    </tr>\n",
       "    <tr>\n",
       "      <th>...</th>\n",
       "      <td>...</td>\n",
       "      <td>...</td>\n",
       "      <td>...</td>\n",
       "    </tr>\n",
       "    <tr>\n",
       "      <th>72</th>\n",
       "      <td>2.17626</td>\n",
       "      <td>6.57281</td>\n",
       "      <td>0</td>\n",
       "    </tr>\n",
       "    <tr>\n",
       "      <th>73</th>\n",
       "      <td>-0.23208</td>\n",
       "      <td>-3.11622</td>\n",
       "      <td>0</td>\n",
       "    </tr>\n",
       "    <tr>\n",
       "      <th>74</th>\n",
       "      <td>-1.85753</td>\n",
       "      <td>-0.46996</td>\n",
       "      <td>0</td>\n",
       "    </tr>\n",
       "    <tr>\n",
       "      <th>75</th>\n",
       "      <td>2.85253</td>\n",
       "      <td>6.84304</td>\n",
       "      <td>0</td>\n",
       "    </tr>\n",
       "    <tr>\n",
       "      <th>76</th>\n",
       "      <td>0.81138</td>\n",
       "      <td>7.12918</td>\n",
       "      <td>0</td>\n",
       "    </tr>\n",
       "  </tbody>\n",
       "</table>\n",
       "<p>76 rows × 3 columns</p>\n",
       "</div>"
      ],
      "text/plain": [
       "        cpa      ptsd csa\n",
       "1   2.04786   9.71365   1\n",
       "2   0.83895   6.16933   1\n",
       "3  -0.24139  15.15926   1\n",
       "4  -1.11461  11.31277   1\n",
       "5   2.01468   9.95384   1\n",
       "..      ...       ...  ..\n",
       "72  2.17626   6.57281   0\n",
       "73 -0.23208  -3.11622   0\n",
       "74 -1.85753  -0.46996   0\n",
       "75  2.85253   6.84304   0\n",
       "76  0.81138   7.12918   0\n",
       "\n",
       "[76 rows x 3 columns]"
      ]
     },
     "execution_count": 42,
     "metadata": {},
     "output_type": "execute_result"
    }
   ],
   "source": [
    "sexab.loc[sexab['csa'] == 'Abused', 'csa'] = 1\n",
    "sexab.loc[sexab['csa'] != 1, 'csa'] = 0\n",
    "sexab"
   ]
  },
  {
   "cell_type": "code",
   "execution_count": 43,
   "id": "16bd5efe",
   "metadata": {},
   "outputs": [
    {
     "ename": "ValueError",
     "evalue": "endog has evaluated to an array with multiple columns that has shape (76, 2). This occurs when the variable converted to endog is non-numeric (e.g., bool or str).",
     "output_type": "error",
     "traceback": [
      "\u001b[0;31m---------------------------------------------------------------------------\u001b[0m",
      "\u001b[0;31mValueError\u001b[0m                                Traceback (most recent call last)",
      "Cell \u001b[0;32mIn[43], line 2\u001b[0m\n\u001b[1;32m      1\u001b[0m \u001b[38;5;66;03m# Modelo 1\u001b[39;00m\n\u001b[0;32m----> 2\u001b[0m m1 \u001b[38;5;241m=\u001b[39m smf\u001b[38;5;241m.\u001b[39mols(\u001b[38;5;124m'\u001b[39m\u001b[38;5;124mcsa ~ cpa + ptsd\u001b[39m\u001b[38;5;124m'\u001b[39m, data\u001b[38;5;241m=\u001b[39msexab)\u001b[38;5;241m.\u001b[39mfit()\n",
      "File \u001b[0;32m~/anaconda3/envs/Maestria/lib/python3.11/site-packages/statsmodels/base/model.py:209\u001b[0m, in \u001b[0;36mModel.from_formula\u001b[0;34m(cls, formula, data, subset, drop_cols, *args, **kwargs)\u001b[0m\n\u001b[1;32m    206\u001b[0m max_endog \u001b[38;5;241m=\u001b[39m \u001b[38;5;28mcls\u001b[39m\u001b[38;5;241m.\u001b[39m_formula_max_endog\n\u001b[1;32m    207\u001b[0m \u001b[38;5;28;01mif\u001b[39;00m (max_endog \u001b[38;5;129;01mis\u001b[39;00m \u001b[38;5;129;01mnot\u001b[39;00m \u001b[38;5;28;01mNone\u001b[39;00m \u001b[38;5;129;01mand\u001b[39;00m\n\u001b[1;32m    208\u001b[0m         endog\u001b[38;5;241m.\u001b[39mndim \u001b[38;5;241m>\u001b[39m \u001b[38;5;241m1\u001b[39m \u001b[38;5;129;01mand\u001b[39;00m endog\u001b[38;5;241m.\u001b[39mshape[\u001b[38;5;241m1\u001b[39m] \u001b[38;5;241m>\u001b[39m max_endog):\n\u001b[0;32m--> 209\u001b[0m     \u001b[38;5;28;01mraise\u001b[39;00m \u001b[38;5;167;01mValueError\u001b[39;00m(\u001b[38;5;124m'\u001b[39m\u001b[38;5;124mendog has evaluated to an array with multiple \u001b[39m\u001b[38;5;124m'\u001b[39m\n\u001b[1;32m    210\u001b[0m                      \u001b[38;5;124m'\u001b[39m\u001b[38;5;124mcolumns that has shape \u001b[39m\u001b[38;5;132;01m{0}\u001b[39;00m\u001b[38;5;124m. This occurs when \u001b[39m\u001b[38;5;124m'\u001b[39m\n\u001b[1;32m    211\u001b[0m                      \u001b[38;5;124m'\u001b[39m\u001b[38;5;124mthe variable converted to endog is non-numeric\u001b[39m\u001b[38;5;124m'\u001b[39m\n\u001b[1;32m    212\u001b[0m                      \u001b[38;5;124m'\u001b[39m\u001b[38;5;124m (e.g., bool or str).\u001b[39m\u001b[38;5;124m'\u001b[39m\u001b[38;5;241m.\u001b[39mformat(endog\u001b[38;5;241m.\u001b[39mshape))\n\u001b[1;32m    213\u001b[0m \u001b[38;5;28;01mif\u001b[39;00m drop_cols \u001b[38;5;129;01mis\u001b[39;00m \u001b[38;5;129;01mnot\u001b[39;00m \u001b[38;5;28;01mNone\u001b[39;00m \u001b[38;5;129;01mand\u001b[39;00m \u001b[38;5;28mlen\u001b[39m(drop_cols) \u001b[38;5;241m>\u001b[39m \u001b[38;5;241m0\u001b[39m:\n\u001b[1;32m    214\u001b[0m     cols \u001b[38;5;241m=\u001b[39m [x \u001b[38;5;28;01mfor\u001b[39;00m x \u001b[38;5;129;01min\u001b[39;00m exog\u001b[38;5;241m.\u001b[39mcolumns \u001b[38;5;28;01mif\u001b[39;00m x \u001b[38;5;129;01mnot\u001b[39;00m \u001b[38;5;129;01min\u001b[39;00m drop_cols]\n",
      "\u001b[0;31mValueError\u001b[0m: endog has evaluated to an array with multiple columns that has shape (76, 2). This occurs when the variable converted to endog is non-numeric (e.g., bool or str)."
     ]
    }
   ],
   "source": [
    "# Modelo 1\n",
    "m1 = smf.ols('csa ~ cpa + ptsd', data=sexab).fit()"
   ]
  },
  {
   "cell_type": "markdown",
   "id": "55c850bc",
   "metadata": {},
   "source": [
    "Con que modelo se queda? Por que?"
   ]
  },
  {
   "cell_type": "markdown",
   "id": "76ff8665",
   "metadata": {},
   "source": [
    "## Ejercicio 2"
   ]
  },
  {
   "cell_type": "markdown",
   "id": "f8a19262",
   "metadata": {},
   "source": [
    "![](../Images/Ex_MLR2.png)"
   ]
  },
  {
   "cell_type": "code",
   "execution_count": 8,
   "id": "21a2826a",
   "metadata": {},
   "outputs": [
    {
     "data": {
      "text/html": [
       "<div>\n",
       "<style scoped>\n",
       "    .dataframe tbody tr th:only-of-type {\n",
       "        vertical-align: middle;\n",
       "    }\n",
       "\n",
       "    .dataframe tbody tr th {\n",
       "        vertical-align: top;\n",
       "    }\n",
       "\n",
       "    .dataframe thead th {\n",
       "        text-align: right;\n",
       "    }\n",
       "</style>\n",
       "<table border=\"1\" class=\"dataframe\">\n",
       "  <thead>\n",
       "    <tr style=\"text-align: right;\">\n",
       "      <th></th>\n",
       "      <th>Insul</th>\n",
       "      <th>Temp</th>\n",
       "      <th>Gas</th>\n",
       "    </tr>\n",
       "  </thead>\n",
       "  <tbody>\n",
       "    <tr>\n",
       "      <th>1</th>\n",
       "      <td>Before</td>\n",
       "      <td>-0.8</td>\n",
       "      <td>7.2</td>\n",
       "    </tr>\n",
       "    <tr>\n",
       "      <th>2</th>\n",
       "      <td>Before</td>\n",
       "      <td>-0.7</td>\n",
       "      <td>6.9</td>\n",
       "    </tr>\n",
       "    <tr>\n",
       "      <th>3</th>\n",
       "      <td>Before</td>\n",
       "      <td>0.4</td>\n",
       "      <td>6.4</td>\n",
       "    </tr>\n",
       "    <tr>\n",
       "      <th>4</th>\n",
       "      <td>Before</td>\n",
       "      <td>2.5</td>\n",
       "      <td>6.0</td>\n",
       "    </tr>\n",
       "    <tr>\n",
       "      <th>5</th>\n",
       "      <td>Before</td>\n",
       "      <td>2.9</td>\n",
       "      <td>5.8</td>\n",
       "    </tr>\n",
       "  </tbody>\n",
       "</table>\n",
       "</div>"
      ],
      "text/plain": [
       "    Insul  Temp  Gas\n",
       "1  Before  -0.8  7.2\n",
       "2  Before  -0.7  6.9\n",
       "3  Before   0.4  6.4\n",
       "4  Before   2.5  6.0\n",
       "5  Before   2.9  5.8"
      ]
     },
     "execution_count": 8,
     "metadata": {},
     "output_type": "execute_result"
    }
   ],
   "source": [
    "import faraway.datasets.whiteside\n",
    "\n",
    "whiteside = faraway.datasets.whiteside.load()\n",
    "whiteside.head()"
   ]
  },
  {
   "cell_type": "markdown",
   "id": "e903809b",
   "metadata": {},
   "source": [
    "## Ejercicio 3"
   ]
  },
  {
   "cell_type": "markdown",
   "id": "8ad03c1f",
   "metadata": {},
   "source": [
    "![](../Images/Ex_MLR3.png)"
   ]
  },
  {
   "cell_type": "code",
   "execution_count": 9,
   "id": "d407cab4",
   "metadata": {},
   "outputs": [
    {
     "data": {
      "text/html": [
       "<div>\n",
       "<style scoped>\n",
       "    .dataframe tbody tr th:only-of-type {\n",
       "        vertical-align: middle;\n",
       "    }\n",
       "\n",
       "    .dataframe tbody tr th {\n",
       "        vertical-align: top;\n",
       "    }\n",
       "\n",
       "    .dataframe thead th {\n",
       "        text-align: right;\n",
       "    }\n",
       "</style>\n",
       "<table border=\"1\" class=\"dataframe\">\n",
       "  <thead>\n",
       "    <tr style=\"text-align: right;\">\n",
       "      <th></th>\n",
       "      <th>thorax</th>\n",
       "      <th>longevity</th>\n",
       "      <th>activity</th>\n",
       "    </tr>\n",
       "  </thead>\n",
       "  <tbody>\n",
       "    <tr>\n",
       "      <th>1</th>\n",
       "      <td>0.68</td>\n",
       "      <td>37</td>\n",
       "      <td>many</td>\n",
       "    </tr>\n",
       "    <tr>\n",
       "      <th>2</th>\n",
       "      <td>0.68</td>\n",
       "      <td>49</td>\n",
       "      <td>many</td>\n",
       "    </tr>\n",
       "    <tr>\n",
       "      <th>3</th>\n",
       "      <td>0.72</td>\n",
       "      <td>46</td>\n",
       "      <td>many</td>\n",
       "    </tr>\n",
       "    <tr>\n",
       "      <th>4</th>\n",
       "      <td>0.72</td>\n",
       "      <td>63</td>\n",
       "      <td>many</td>\n",
       "    </tr>\n",
       "    <tr>\n",
       "      <th>5</th>\n",
       "      <td>0.76</td>\n",
       "      <td>39</td>\n",
       "      <td>many</td>\n",
       "    </tr>\n",
       "  </tbody>\n",
       "</table>\n",
       "</div>"
      ],
      "text/plain": [
       "   thorax  longevity activity\n",
       "1    0.68         37     many\n",
       "2    0.68         49     many\n",
       "3    0.72         46     many\n",
       "4    0.72         63     many\n",
       "5    0.76         39     many"
      ]
     },
     "execution_count": 9,
     "metadata": {},
     "output_type": "execute_result"
    }
   ],
   "source": [
    "import faraway.datasets.fruitfly\n",
    "\n",
    "fruitfly = faraway.datasets.fruitfly.load()\n",
    "fruitfly.head()"
   ]
  }
 ],
 "metadata": {
  "colab": {
   "provenance": []
  },
  "kernelspec": {
   "display_name": "Python 3 (ipykernel)",
   "language": "python",
   "name": "python3"
  },
  "language_info": {
   "codemirror_mode": {
    "name": "ipython",
    "version": 3
   },
   "file_extension": ".py",
   "mimetype": "text/x-python",
   "name": "python",
   "nbconvert_exporter": "python",
   "pygments_lexer": "ipython3",
   "version": "3.11.4"
  }
 },
 "nbformat": 4,
 "nbformat_minor": 5
}
