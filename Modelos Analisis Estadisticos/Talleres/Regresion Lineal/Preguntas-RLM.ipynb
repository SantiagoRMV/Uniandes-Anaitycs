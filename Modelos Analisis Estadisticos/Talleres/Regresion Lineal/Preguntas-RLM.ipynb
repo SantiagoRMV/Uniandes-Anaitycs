{
 "cells": [
  {
   "cell_type": "code",
   "execution_count": 1,
   "id": "800c0cec",
   "metadata": {},
   "outputs": [],
   "source": [
    "import pandas as pd\n",
    "import numpy as np\n",
    "import matplotlib.pyplot as plt\n",
    "import seaborn as sns\n",
    "import statsmodels.api as sm\n",
    "import statsmodels.formula.api as smf\n",
    "import faraway.utils\n",
    "import faraway.datasets.sexab  "
   ]
  },
  {
   "cell_type": "markdown",
   "id": "9257cb2f",
   "metadata": {},
   "source": [
    "![](../Images/Ex_MLR1.png)"
   ]
  },
  {
   "cell_type": "code",
   "execution_count": 2,
   "id": "cf4a618e",
   "metadata": {},
   "outputs": [
    {
     "data": {
      "text/html": [
       "<div>\n",
       "<style scoped>\n",
       "    .dataframe tbody tr th:only-of-type {\n",
       "        vertical-align: middle;\n",
       "    }\n",
       "\n",
       "    .dataframe tbody tr th {\n",
       "        vertical-align: top;\n",
       "    }\n",
       "\n",
       "    .dataframe thead th {\n",
       "        text-align: right;\n",
       "    }\n",
       "</style>\n",
       "<table border=\"1\" class=\"dataframe\">\n",
       "  <thead>\n",
       "    <tr style=\"text-align: right;\">\n",
       "      <th></th>\n",
       "      <th>cpa</th>\n",
       "      <th>ptsd</th>\n",
       "      <th>csa</th>\n",
       "    </tr>\n",
       "  </thead>\n",
       "  <tbody>\n",
       "    <tr>\n",
       "      <th>1</th>\n",
       "      <td>2.04786</td>\n",
       "      <td>9.71365</td>\n",
       "      <td>Abused</td>\n",
       "    </tr>\n",
       "    <tr>\n",
       "      <th>2</th>\n",
       "      <td>0.83895</td>\n",
       "      <td>6.16933</td>\n",
       "      <td>Abused</td>\n",
       "    </tr>\n",
       "    <tr>\n",
       "      <th>3</th>\n",
       "      <td>-0.24139</td>\n",
       "      <td>15.15926</td>\n",
       "      <td>Abused</td>\n",
       "    </tr>\n",
       "    <tr>\n",
       "      <th>4</th>\n",
       "      <td>-1.11461</td>\n",
       "      <td>11.31277</td>\n",
       "      <td>Abused</td>\n",
       "    </tr>\n",
       "    <tr>\n",
       "      <th>5</th>\n",
       "      <td>2.01468</td>\n",
       "      <td>9.95384</td>\n",
       "      <td>Abused</td>\n",
       "    </tr>\n",
       "    <tr>\n",
       "      <th>6</th>\n",
       "      <td>6.71131</td>\n",
       "      <td>9.83884</td>\n",
       "      <td>Abused</td>\n",
       "    </tr>\n",
       "    <tr>\n",
       "      <th>7</th>\n",
       "      <td>1.20814</td>\n",
       "      <td>5.98491</td>\n",
       "      <td>Abused</td>\n",
       "    </tr>\n",
       "    <tr>\n",
       "      <th>8</th>\n",
       "      <td>2.34284</td>\n",
       "      <td>11.11053</td>\n",
       "      <td>Abused</td>\n",
       "    </tr>\n",
       "    <tr>\n",
       "      <th>9</th>\n",
       "      <td>0.91188</td>\n",
       "      <td>6.25528</td>\n",
       "      <td>Abused</td>\n",
       "    </tr>\n",
       "    <tr>\n",
       "      <th>10</th>\n",
       "      <td>-0.85308</td>\n",
       "      <td>7.04109</td>\n",
       "      <td>Abused</td>\n",
       "    </tr>\n",
       "    <tr>\n",
       "      <th>11</th>\n",
       "      <td>7.35666</td>\n",
       "      <td>13.88850</td>\n",
       "      <td>Abused</td>\n",
       "    </tr>\n",
       "    <tr>\n",
       "      <th>12</th>\n",
       "      <td>2.09361</td>\n",
       "      <td>14.98345</td>\n",
       "      <td>Abused</td>\n",
       "    </tr>\n",
       "    <tr>\n",
       "      <th>13</th>\n",
       "      <td>1.94568</td>\n",
       "      <td>10.82480</td>\n",
       "      <td>Abused</td>\n",
       "    </tr>\n",
       "    <tr>\n",
       "      <th>14</th>\n",
       "      <td>-0.42222</td>\n",
       "      <td>13.91452</td>\n",
       "      <td>Abused</td>\n",
       "    </tr>\n",
       "    <tr>\n",
       "      <th>15</th>\n",
       "      <td>1.41462</td>\n",
       "      <td>18.16856</td>\n",
       "      <td>Abused</td>\n",
       "    </tr>\n",
       "    <tr>\n",
       "      <th>16</th>\n",
       "      <td>6.07760</td>\n",
       "      <td>12.91635</td>\n",
       "      <td>Abused</td>\n",
       "    </tr>\n",
       "    <tr>\n",
       "      <th>17</th>\n",
       "      <td>6.01699</td>\n",
       "      <td>15.08316</td>\n",
       "      <td>Abused</td>\n",
       "    </tr>\n",
       "    <tr>\n",
       "      <th>18</th>\n",
       "      <td>3.73342</td>\n",
       "      <td>8.30889</td>\n",
       "      <td>Abused</td>\n",
       "    </tr>\n",
       "    <tr>\n",
       "      <th>19</th>\n",
       "      <td>2.62746</td>\n",
       "      <td>9.28009</td>\n",
       "      <td>Abused</td>\n",
       "    </tr>\n",
       "    <tr>\n",
       "      <th>20</th>\n",
       "      <td>0.46258</td>\n",
       "      <td>9.29120</td>\n",
       "      <td>Abused</td>\n",
       "    </tr>\n",
       "  </tbody>\n",
       "</table>\n",
       "</div>"
      ],
      "text/plain": [
       "        cpa      ptsd     csa\n",
       "1   2.04786   9.71365  Abused\n",
       "2   0.83895   6.16933  Abused\n",
       "3  -0.24139  15.15926  Abused\n",
       "4  -1.11461  11.31277  Abused\n",
       "5   2.01468   9.95384  Abused\n",
       "6   6.71131   9.83884  Abused\n",
       "7   1.20814   5.98491  Abused\n",
       "8   2.34284  11.11053  Abused\n",
       "9   0.91188   6.25528  Abused\n",
       "10 -0.85308   7.04109  Abused\n",
       "11  7.35666  13.88850  Abused\n",
       "12  2.09361  14.98345  Abused\n",
       "13  1.94568  10.82480  Abused\n",
       "14 -0.42222  13.91452  Abused\n",
       "15  1.41462  18.16856  Abused\n",
       "16  6.07760  12.91635  Abused\n",
       "17  6.01699  15.08316  Abused\n",
       "18  3.73342   8.30889  Abused\n",
       "19  2.62746   9.28009  Abused\n",
       "20  0.46258   9.29120  Abused"
      ]
     },
     "execution_count": 2,
     "metadata": {},
     "output_type": "execute_result"
    }
   ],
   "source": [
    "# cargar base de datos de ejemplo\n",
    "\n",
    "sexab = faraway.datasets.sexab.load()\n",
    "sexab.head(20)"
   ]
  },
  {
   "cell_type": "code",
   "execution_count": 3,
   "id": "7ff8e187",
   "metadata": {},
   "outputs": [],
   "source": [
    "# Descriptivos por grupo\n"
   ]
  },
  {
   "cell_type": "code",
   "execution_count": 4,
   "id": "498496fa",
   "metadata": {},
   "outputs": [],
   "source": [
    "# Gráfico de cajas por grupo\n"
   ]
  },
  {
   "cell_type": "code",
   "execution_count": 5,
   "id": "060eb77a",
   "metadata": {},
   "outputs": [
    {
     "data": {
      "text/plain": [
       "<seaborn.axisgrid.FacetGrid at 0x11cc08710>"
      ]
     },
     "execution_count": 5,
     "metadata": {},
     "output_type": "execute_result"
    },
    {
     "data": {
      "image/png": "[encoded data removed]",
      "text/plain": [
       "<Figure size 626x500 with 1 Axes>"
      ]
     },
     "metadata": {},
     "output_type": "display_data"
    }
   ],
   "source": [
    "# Gráfico de dispersión cpa vs ptsd por grupo\n",
    "sns.lmplot(x='cpa', y='ptsd', hue='csa', data=sexab, fit_reg=False)"
   ]
  },
  {
   "cell_type": "markdown",
   "id": "9f6d24cd",
   "metadata": {},
   "source": [
    "### comenta los resultados de los descriptivos\n",
    "\n"
   ]
  },
  {
   "cell_type": "code",
   "execution_count": 6,
   "id": "c1ac9063",
   "metadata": {},
   "outputs": [],
   "source": [
    "# realizar una prueba de la diferencia de medias entre los grupos\n",
    "# usando la función ttest_ind del paquete scipy.stats\n"
   ]
  },
  {
   "cell_type": "code",
   "execution_count": 7,
   "id": "66648575",
   "metadata": {},
   "outputs": [],
   "source": [
    "# construye tres modelos de regresión diferentes "
   ]
  },
  {
   "cell_type": "markdown",
   "id": "55c850bc",
   "metadata": {},
   "source": [
    "Con que modelo se queda? Por que?"
   ]
  },
  {
   "cell_type": "markdown",
   "id": "76ff8665",
   "metadata": {},
   "source": [
    "## Ejercicio 2"
   ]
  },
  {
   "cell_type": "markdown",
   "id": "f8a19262",
   "metadata": {},
   "source": [
    "![](../Images/Ex_MLR2.png)"
   ]
  },
  {
   "cell_type": "code",
   "execution_count": 8,
   "id": "21a2826a",
   "metadata": {},
   "outputs": [
    {
     "data": {
      "text/html": [
       "<div>\n",
       "<style scoped>\n",
       "    .dataframe tbody tr th:only-of-type {\n",
       "        vertical-align: middle;\n",
       "    }\n",
       "\n",
       "    .dataframe tbody tr th {\n",
       "        vertical-align: top;\n",
       "    }\n",
       "\n",
       "    .dataframe thead th {\n",
       "        text-align: right;\n",
       "    }\n",
       "</style>\n",
       "<table border=\"1\" class=\"dataframe\">\n",
       "  <thead>\n",
       "    <tr style=\"text-align: right;\">\n",
       "      <th></th>\n",
       "      <th>Insul</th>\n",
       "      <th>Temp</th>\n",
       "      <th>Gas</th>\n",
       "    </tr>\n",
       "  </thead>\n",
       "  <tbody>\n",
       "    <tr>\n",
       "      <th>1</th>\n",
       "      <td>Before</td>\n",
       "      <td>-0.8</td>\n",
       "      <td>7.2</td>\n",
       "    </tr>\n",
       "    <tr>\n",
       "      <th>2</th>\n",
       "      <td>Before</td>\n",
       "      <td>-0.7</td>\n",
       "      <td>6.9</td>\n",
       "    </tr>\n",
       "    <tr>\n",
       "      <th>3</th>\n",
       "      <td>Before</td>\n",
       "      <td>0.4</td>\n",
       "      <td>6.4</td>\n",
       "    </tr>\n",
       "    <tr>\n",
       "      <th>4</th>\n",
       "      <td>Before</td>\n",
       "      <td>2.5</td>\n",
       "      <td>6.0</td>\n",
       "    </tr>\n",
       "    <tr>\n",
       "      <th>5</th>\n",
       "      <td>Before</td>\n",
       "      <td>2.9</td>\n",
       "      <td>5.8</td>\n",
       "    </tr>\n",
       "  </tbody>\n",
       "</table>\n",
       "</div>"
      ],
      "text/plain": [
       "    Insul  Temp  Gas\n",
       "1  Before  -0.8  7.2\n",
       "2  Before  -0.7  6.9\n",
       "3  Before   0.4  6.4\n",
       "4  Before   2.5  6.0\n",
       "5  Before   2.9  5.8"
      ]
     },
     "execution_count": 8,
     "metadata": {},
     "output_type": "execute_result"
    }
   ],
   "source": [
    "import faraway.datasets.whiteside\n",
    "\n",
    "whiteside = faraway.datasets.whiteside.load()\n",
    "whiteside.head()"
   ]
  },
  {
   "cell_type": "markdown",
   "id": "e903809b",
   "metadata": {},
   "source": [
    "## Ejercicio 3"
   ]
  },
  {
   "cell_type": "markdown",
   "id": "8ad03c1f",
   "metadata": {},
   "source": [
    "![](../Images/Ex_MLR3.png)"
   ]
  },
  {
   "cell_type": "code",
   "execution_count": 9,
   "id": "d407cab4",
   "metadata": {},
   "outputs": [
    {
     "data": {
      "text/html": [
       "<div>\n",
       "<style scoped>\n",
       "    .dataframe tbody tr th:only-of-type {\n",
       "        vertical-align: middle;\n",
       "    }\n",
       "\n",
       "    .dataframe tbody tr th {\n",
       "        vertical-align: top;\n",
       "    }\n",
       "\n",
       "    .dataframe thead th {\n",
       "        text-align: right;\n",
       "    }\n",
       "</style>\n",
       "<table border=\"1\" class=\"dataframe\">\n",
       "  <thead>\n",
       "    <tr style=\"text-align: right;\">\n",
       "      <th></th>\n",
       "      <th>thorax</th>\n",
       "      <th>longevity</th>\n",
       "      <th>activity</th>\n",
       "    </tr>\n",
       "  </thead>\n",
       "  <tbody>\n",
       "    <tr>\n",
       "      <th>1</th>\n",
       "      <td>0.68</td>\n",
       "      <td>37</td>\n",
       "      <td>many</td>\n",
       "    </tr>\n",
       "    <tr>\n",
       "      <th>2</th>\n",
       "      <td>0.68</td>\n",
       "      <td>49</td>\n",
       "      <td>many</td>\n",
       "    </tr>\n",
       "    <tr>\n",
       "      <th>3</th>\n",
       "      <td>0.72</td>\n",
       "      <td>46</td>\n",
       "      <td>many</td>\n",
       "    </tr>\n",
       "    <tr>\n",
       "      <th>4</th>\n",
       "      <td>0.72</td>\n",
       "      <td>63</td>\n",
       "      <td>many</td>\n",
       "    </tr>\n",
       "    <tr>\n",
       "      <th>5</th>\n",
       "      <td>0.76</td>\n",
       "      <td>39</td>\n",
       "      <td>many</td>\n",
       "    </tr>\n",
       "  </tbody>\n",
       "</table>\n",
       "</div>"
      ],
      "text/plain": [
       "   thorax  longevity activity\n",
       "1    0.68         37     many\n",
       "2    0.68         49     many\n",
       "3    0.72         46     many\n",
       "4    0.72         63     many\n",
       "5    0.76         39     many"
      ]
     },
     "execution_count": 9,
     "metadata": {},
     "output_type": "execute_result"
    }
   ],
   "source": [
    "import faraway.datasets.fruitfly\n",
    "\n",
    "fruitfly = faraway.datasets.fruitfly.load()\n",
    "fruitfly.head()"
   ]
  }
 ],
 "metadata": {
  "colab": {
   "provenance": []
  },
  "kernelspec": {
   "display_name": "Python 3 (ipykernel)",
   "language": "python",
   "name": "python3"
  },
  "language_info": {
   "codemirror_mode": {
    "name": "ipython",
    "version": 3
   },
   "file_extension": ".py",
   "mimetype": "text/x-python",
   "name": "python",
   "nbconvert_exporter": "python",
   "pygments_lexer": "ipython3",
   "version": "3.11.4"
  }
 },
 "nbformat": 4,
 "nbformat_minor": 5
}
