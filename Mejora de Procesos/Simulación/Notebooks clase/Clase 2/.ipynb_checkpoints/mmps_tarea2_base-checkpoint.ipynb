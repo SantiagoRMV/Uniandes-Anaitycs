{
 "cells": [
  {
   "cell_type": "markdown",
   "metadata": {},
   "source": [
    "## Tarea 2 - Generación de números aleatorios"
   ]
  },
  {
   "cell_type": "markdown",
   "metadata": {},
   "source": [
    "## 1. Distribución Normal\n",
    "\n",
    "### Iniciamos generando números aleatorios de acuerdo con una distribución normal."
   ]
  },
  {
   "cell_type": "code",
   "execution_count": null,
   "metadata": {},
   "outputs": [],
   "source": [
    "import numpy as np\n",
    "from scipy.stats import norm\n",
    "n=1000\n",
    "loc=3\n",
    "scale=0.5\n",
    "vals_normal = norm.rvs(loc=loc, scale=scale, size=n)\n",
    "\n",
    "\n"
   ]
  },
  {
   "cell_type": "markdown",
   "metadata": {},
   "source": [
    "### Ahora calculamos el histograma asociado a los datos y lo graficamos junto con la densidad de la normal."
   ]
  },
  {
   "cell_type": "code",
   "execution_count": null,
   "metadata": {},
   "outputs": [],
   "source": [
    "import matplotlib.pyplot as plt\n",
    "from scipy.stats import norm\n",
    "# histograma\n",
    "count, bins, ignored = plt.hist(x=vals_normal, bins=30, density=True)\n",
    "\n",
    "# densidad\n",
    "nobs = 10000\n",
    "xmin = min(vals_normal)\n",
    "xmax = max(vals_normal)\n",
    "step = (xmax-xmin)/nobs\n",
    "x= np.arange(xmin,xmax,step)\n",
    "plt.plot(x, norm.pdf(x,loc=3,scale=0.5))\n",
    "\n",
    "plt.title('Histograma y densidad')\n",
    "plt.xlabel('Valores')\n",
    "plt.ylabel('Densidad')\n",
    "plt.show()"
   ]
  },
  {
   "cell_type": "markdown",
   "metadata": {},
   "source": [
    "### Para la misma distribución podemos calcular los primeros 4 momentos."
   ]
  },
  {
   "cell_type": "code",
   "execution_count": null,
   "metadata": {},
   "outputs": [],
   "source": [
    "mean, var, skew, kurt = norm.stats(loc=loc,scale=scale, moments='mvsk')\n",
    "print(\"Media: {}\".format(mean))\n",
    "print(\"Varianza: {}\".format(var))\n",
    "print(\"Asimetría: {}\".format(skew))\n",
    "print(\"Curtosis: {}\".format(kurt))"
   ]
  },
  {
   "cell_type": "markdown",
   "metadata": {},
   "source": [
    "### Ahora tomamos los datos generados y los usamos para ajustar los parámetros de una variable normal. Calculamos los momentos de la variable ajustada y mostramos la densidad de ésta contra el histograma de los datos. "
   ]
  },
  {
   "cell_type": "code",
   "execution_count": null,
   "metadata": {},
   "outputs": [],
   "source": [
    "import matplotlib.pyplot as plt\n",
    "from scipy.stats import norm\n",
    "# ajuste de datos a una normal - obtener parámetros\n",
    "floc, fscale = norm.fit(vals_normal)\n",
    "print(\"Parámetros de la distribución normal ajustada\")\n",
    "print(\"Localización: {}\".format(floc))\n",
    "print(\"Escala: {}\".format(fscale))\n",
    "\n",
    "\n",
    "# variable ajustada \n",
    "fitted_var = norm.freeze(loc=floc, scale=fscale)\n",
    "# momentos de la variable ajustada\n",
    "mean, var, skew, kurt = fitted_var.stats(moments='mvsk')\n",
    "print(\"\\nMomentos de la distribución normal ajustada\")\n",
    "print(\"Media: {}\".format(mean))\n",
    "print(\"Varianza: {}\".format(var))\n",
    "print(\"Asimetría: {}\".format(skew))\n",
    "print(\"Curtosis: {}\".format(kurt))\n",
    "\n",
    "\n",
    "# histograma\n",
    "count, bins, ignored = plt.hist(x=vals_normal, bins=30, density=True)\n",
    "\n",
    "# densidad\n",
    "nobs = 10000\n",
    "xmin = min(vals_normal)\n",
    "xmax = max(vals_normal)\n",
    "step = (xmax-xmin)/nobs\n",
    "x= np.arange(xmin,xmax,step)\n",
    "plt.plot(x, fitted_var.pdf(x))\n",
    "\n",
    "plt.title('Histograma y densidad')\n",
    "plt.xlabel('Valores')\n",
    "plt.ylabel('Densidad')\n",
    "plt.show()\n"
   ]
  },
  {
   "cell_type": "markdown",
   "metadata": {},
   "source": [
    "## Distribución Gamma\n",
    "\n",
    "Repetimos el ejercicio anterior con una distribución Gamma."
   ]
  },
  {
   "cell_type": "code",
   "execution_count": null,
   "metadata": {},
   "outputs": [],
   "source": [
    "import numpy as np\n",
    "from scipy.stats import gamma\n",
    "n=1000\n",
    "a = 5\n",
    "loc = 1\n",
    "vals_gamma = gamma.rvs(a=a, loc=loc, size=n)"
   ]
  },
  {
   "cell_type": "code",
   "execution_count": null,
   "metadata": {},
   "outputs": [],
   "source": [
    "import matplotlib.pyplot as plt\n",
    "from scipy.stats import gamma\n",
    "# histograma\n",
    "count, bins, ignored = plt.hist(x=vals_gamma, bins=30, density=True)\n",
    "\n",
    "# densidad\n",
    "nobs = 10000\n",
    "xmin = min(vals_gamma)\n",
    "xmax = max(vals_gamma)\n",
    "step = (xmax-xmin)/nobs\n",
    "x= np.arange(xmin,xmax,step)\n",
    "plt.plot(x, gamma.pdf(x, a=a,loc=loc))\n",
    "\n",
    "plt.title('Histograma y densidad')\n",
    "plt.xlabel('Valores')\n",
    "plt.ylabel('Densidad')\n",
    "plt.show()"
   ]
  },
  {
   "cell_type": "code",
   "execution_count": null,
   "metadata": {},
   "outputs": [],
   "source": [
    "mean, var, skew, kurt = gamma.stats(a=a,loc=loc, moments='mvsk')\n",
    "print(\"Media: {}\".format(mean))\n",
    "print(\"Varianza: {}\".format(var))\n",
    "print(\"Asimetría: {}\".format(skew))\n",
    "print(\"Curtosis: {}\".format(kurt))"
   ]
  },
  {
   "cell_type": "code",
   "execution_count": null,
   "metadata": {},
   "outputs": [],
   "source": [
    "import matplotlib.pyplot as plt\n",
    "from scipy.stats import gamma\n",
    "# ajuste de datos a una gamma - obtener parámetros\n",
    "fa, floc, fscale = gamma.fit(vals_gamma)\n",
    "print(\"Parámetros de la distribución gamma ajustada\")\n",
    "print(\"a: {}\".format(fa))\n",
    "print(\"Localización: {}\".format(floc))\n",
    "print(\"Escala: {}\".format(fscale))\n",
    "\n",
    "# variable ajustada \n",
    "fitted_var = gamma.freeze(a=fa,loc=floc,scale=fscale)\n",
    "# momentos de la variable ajustada\n",
    "mean, var, skew, kurt = fitted_var.stats(moments='mvsk')\n",
    "print(\"\\nMomentos de la distribución gamma ajustada\")\n",
    "print(\"Media: {}\".format(mean))\n",
    "print(\"Varianza: {}\".format(var))\n",
    "print(\"Asimetría: {}\".format(skew))\n",
    "print(\"Curtosis: {}\".format(kurt))\n",
    "\n",
    "\n",
    "# histograma\n",
    "count, bins, ignored = plt.hist(x=vals_gamma, bins=30, density=True)\n",
    "\n",
    "# densidad\n",
    "nobs = 10000\n",
    "xmin = min(vals_gamma)\n",
    "xmax = max(vals_gamma)\n",
    "step = (xmax-xmin)/nobs\n",
    "x= np.arange(xmin,xmax,step)\n",
    "plt.plot(x, fitted_var.pdf(x))\n",
    "\n",
    "plt.title('Histograma y densidad')\n",
    "plt.xlabel('Valores')\n",
    "plt.ylabel('Densidad')\n",
    "plt.show()"
   ]
  },
  {
   "cell_type": "markdown",
   "metadata": {},
   "source": [
    "## Distribución Beta\n",
    "\n",
    "Repetimos el ejercicio anterior con una distribución Beta."
   ]
  },
  {
   "cell_type": "code",
   "execution_count": null,
   "metadata": {},
   "outputs": [],
   "source": [
    "import numpy as np\n",
    "from scipy.stats import beta\n",
    "n=1000\n",
    "a=1\n",
    "b = 0.5 \n",
    "vals_beta = beta.rvs(a=a,b=b,size=n)"
   ]
  },
  {
   "cell_type": "code",
   "execution_count": null,
   "metadata": {},
   "outputs": [],
   "source": [
    "import matplotlib.pyplot as plt\n",
    "from scipy.stats import beta\n",
    "# histograma\n",
    "count, bins, ignored = plt.hist(x=vals_beta, bins=30, density=True)\n",
    "\n",
    "# densidad\n",
    "nobs = 10000\n",
    "xmin = min(vals_beta)\n",
    "xmax = max(vals_beta)\n",
    "step = (xmax-xmin)/nobs\n",
    "x= np.arange(xmin,xmax,step)\n",
    "\n",
    "x= np.arange(0,1,0.01)\n",
    "plt.plot(x, beta.pdf(x, a=a,b=b))\n",
    "\n",
    "plt.title('Histograma y densidad')\n",
    "plt.xlabel('Valores')\n",
    "plt.ylabel('Densidad')\n",
    "plt.show()"
   ]
  },
  {
   "cell_type": "code",
   "execution_count": null,
   "metadata": {},
   "outputs": [],
   "source": [
    "mean, var, skew, kurt = beta.stats(a=a,b=b, moments='mvsk')\n",
    "print(\"Media: {}\".format(mean))\n",
    "print(\"Varianza: {}\".format(var))\n",
    "print(\"Asimetría: {}\".format(skew))\n",
    "print(\"Curtosis: {}\".format(kurt))"
   ]
  },
  {
   "cell_type": "code",
   "execution_count": null,
   "metadata": {},
   "outputs": [],
   "source": [
    "import math\n",
    "import numpy as np\n",
    "from scipy.stats import lognorm\n",
    "n=1000\n",
    "loc=4\n",
    "sigma = 1\n",
    "vals_lognormal = lognorm.rvs(s=sigma, loc=loc, size=n)"
   ]
  },
  {
   "cell_type": "code",
   "execution_count": null,
   "metadata": {},
   "outputs": [],
   "source": [
    "import matplotlib.pyplot as plt\n",
    "from scipy.stats import beta\n",
    "# ajuste de datos a una beta - obtener parámetros\n",
    "fa, fb, floc, fscale = beta.fit(vals_beta)\n",
    "print(\"Parámetros de la distribución beta ajustada\")\n",
    "print(\"a: {}\".format(fa))\n",
    "print(\"b: {}\".format(fb))\n",
    "print(\"Localización: {}\".format(floc))\n",
    "print(\"Escala: {}\".format(fscale))\n",
    "\n",
    "# variable ajustada \n",
    "fitted_var = beta.freeze(a=fa, b=fb, loc=floc,scale=fscale)\n",
    "# momentos de la variable ajustada\n",
    "mean, var, skew, kurt = fitted_var.stats(moments='mvsk')\n",
    "print(\"\\nMomentos de la distribución beta ajustada\")\n",
    "print(\"Media: {}\".format(mean))\n",
    "print(\"Varianza: {}\".format(var))\n",
    "print(\"Asimetría: {}\".format(skew))\n",
    "print(\"Curtosis: {}\".format(kurt))\n",
    "\n",
    "\n",
    "# histograma\n",
    "count, bins, ignored = plt.hist(x=vals_beta, bins=30, density=True)\n",
    "\n",
    "# densidad\n",
    "nobs = 10000\n",
    "xmin = min(vals_beta)\n",
    "xmax = max(vals_beta)\n",
    "step = (xmax-xmin)/nobs\n",
    "x= np.arange(xmin,xmax,step)\n",
    "plt.plot(x, fitted_var.pdf(x))\n",
    "\n",
    "plt.title('Histograma y densidad')\n",
    "plt.xlabel('Valores')\n",
    "plt.ylabel('Densidad')\n",
    "plt.show()"
   ]
  },
  {
   "cell_type": "markdown",
   "metadata": {},
   "source": [
    "## Distribución Lognormal\n",
    "\n",
    "Repetimos el ejercicio anterior con una distribución Lognormal."
   ]
  },
  {
   "cell_type": "code",
   "execution_count": null,
   "metadata": {},
   "outputs": [],
   "source": [
    "import matplotlib.pyplot as plt\n",
    "from scipy.stats import lognorm\n",
    "import math\n",
    "# histograma\n",
    "count, bins, ignored = plt.hist(x=vals_lognormal, bins=30, density=True)\n",
    "\n",
    "# densidad\n",
    "nobs = 10000\n",
    "xmin = min(vals_lognormal)\n",
    "xmax = max(vals_lognormal)\n",
    "step = (xmax-xmin)/nobs\n",
    "x= np.arange(xmin,xmax,step)\n",
    "plt.plot(x, lognorm.pdf(x, s=sigma, loc=loc))\n",
    "\n",
    "\n",
    "plt.title('Histograma y densidad')\n",
    "plt.xlabel('Valores')\n",
    "plt.ylabel('Densidad')\n",
    "plt.show()"
   ]
  },
  {
   "cell_type": "code",
   "execution_count": null,
   "metadata": {},
   "outputs": [],
   "source": [
    "mean, var, skew, kurt = lognorm.stats(s=sigma, loc=loc, moments='mvsk')\n",
    "print(\"Media: {}\".format(mean))\n",
    "print(\"Varianza: {}\".format(var))\n",
    "print(\"Asimetría: {}\".format(skew))\n",
    "print(\"Curtosis: {}\".format(kurt))"
   ]
  },
  {
   "cell_type": "code",
   "execution_count": null,
   "metadata": {},
   "outputs": [],
   "source": [
    "import matplotlib.pyplot as plt\n",
    "from scipy.stats import lognorm\n",
    "# ajuste de datos a una lognormal - obtener parámetros\n",
    "fs, floc, fscale = lognorm.fit(vals_lognormal)\n",
    "print(\"Parámetros de la distribución lognormal ajustada\")\n",
    "print(\"s: {}\".format(fs))\n",
    "print(\"Localización: {}\".format(floc))\n",
    "print(\"Escala: {}\".format(fscale))\n",
    "\n",
    "# variable ajustada \n",
    "fitted_var = lognorm.freeze(s=fs, loc=floc,scale=fscale)\n",
    "# momentos de la variable ajustada\n",
    "mean, var, skew, kurt = fitted_var.stats(moments='mvsk')\n",
    "print(\"\\nMomentos de la distribución lognormal ajustada\")\n",
    "print(\"Media: {}\".format(mean))\n",
    "print(\"Varianza: {}\".format(var))\n",
    "print(\"Asimetría: {}\".format(skew))\n",
    "print(\"Curtosis: {}\".format(kurt))\n",
    "\n",
    "\n",
    "# histograma\n",
    "count, bins, ignored = plt.hist(x=vals_lognormal, bins=30, density=True)\n",
    "\n",
    "# densidad\n",
    "nobs = 10000\n",
    "xmin = min(vals_lognormal)\n",
    "xmax = max(vals_lognormal)\n",
    "step = (xmax-xmin)/nobs\n",
    "x= np.arange(xmin,xmax,step)\n",
    "plt.plot(x, fitted_var.pdf(x))\n",
    "\n",
    "plt.title('Histograma y densidad')\n",
    "plt.xlabel('Valores')\n",
    "plt.ylabel('Densidad')\n",
    "plt.show()"
   ]
  },
  {
   "cell_type": "markdown",
   "metadata": {},
   "source": [
    "## Distribución Weibull\n",
    "\n",
    "Repetimos el ejercicio anterior con una distribución Weibull."
   ]
  },
  {
   "cell_type": "code",
   "execution_count": null,
   "metadata": {},
   "outputs": [],
   "source": [
    "import math\n",
    "import numpy as np\n",
    "from scipy.stats import weibull_min\n",
    "n=1000\n",
    "c=10\n",
    "loc = 5\n",
    "vals_weibull = weibull_min.rvs(c=c, loc=loc, size=n)"
   ]
  },
  {
   "cell_type": "code",
   "execution_count": null,
   "metadata": {},
   "outputs": [],
   "source": [
    "import matplotlib.pyplot as plt\n",
    "from scipy.stats import weibull_min\n",
    "# histograma\n",
    "count, bins, ignored = plt.hist(x=vals_weibull, bins=30, density=True)\n",
    "\n",
    "# densidad\n",
    "nobs = 10000\n",
    "xmin = min(vals_weibull)\n",
    "xmax = max(vals_weibull)\n",
    "step = (xmax-xmin)/nobs\n",
    "x= np.arange(xmin,xmax,step)\n",
    "plt.plot(x, weibull_min.pdf(x, c=c, loc=loc))\n",
    "\n",
    "\n",
    "plt.title('Histograma y densidad')\n",
    "plt.xlabel('Valores')\n",
    "plt.ylabel('Densidad')\n",
    "plt.show()"
   ]
  },
  {
   "cell_type": "code",
   "execution_count": null,
   "metadata": {},
   "outputs": [],
   "source": [
    "mean, var, skew, kurt = weibull_min.stats(c=c, loc=loc, moments='mvsk')\n",
    "print(\"Media: {}\".format(mean))\n",
    "print(\"Varianza: {}\".format(var))\n",
    "print(\"Asimetría: {}\".format(skew))\n",
    "print(\"Curtosis: {}\".format(kurt))"
   ]
  },
  {
   "cell_type": "code",
   "execution_count": null,
   "metadata": {},
   "outputs": [],
   "source": [
    "import matplotlib.pyplot as plt\n",
    "from scipy.stats import weibull_min\n",
    "# ajuste de datos a una Weibull - obtener parámetros\n",
    "fc, floc, fscale = weibull_min.fit(vals_weibull)\n",
    "print(\"Parámetros de la distribución Weibull ajustada\")\n",
    "print(\"c: {}\".format(fc))\n",
    "print(\"Localización: {}\".format(floc))\n",
    "print(\"Escala: {}\".format(fscale))\n",
    "\n",
    "# variable ajustada \n",
    "fitted_var = weibull_min.freeze(c=fc, loc=floc,scale=fscale)\n",
    "# momentos de la variable ajustada\n",
    "mean, var, skew, kurt = fitted_var.stats(moments='mvsk')\n",
    "print(\"\\nMomentos de la distribución Weibull ajustada\")\n",
    "print(\"Media: {}\".format(mean))\n",
    "print(\"Varianza: {}\".format(var))\n",
    "print(\"Asimetría: {}\".format(skew))\n",
    "print(\"Curtosis: {}\".format(kurt))\n",
    "\n",
    "\n",
    "# histograma\n",
    "count, bins, ignored = plt.hist(x=vals_weibull, bins=30, density=True)\n",
    "\n",
    "# densidad\n",
    "nobs = 10000\n",
    "xmin = min(vals_weibull)\n",
    "xmax = max(vals_weibull)\n",
    "step = (xmax-xmin)/nobs\n",
    "x= np.arange(xmin,xmax,step)\n",
    "plt.plot(x, fitted_var.pdf(x))\n",
    "\n",
    "plt.title('Histograma y densidad')\n",
    "plt.xlabel('Valores')\n",
    "plt.ylabel('Densidad')\n",
    "plt.show()"
   ]
  }
 ],
 "metadata": {
  "kernelspec": {
   "display_name": "Python 3 (ipykernel)",
   "language": "python",
   "name": "python3"
  },
  "language_info": {
   "codemirror_mode": {
    "name": "ipython",
    "version": 3
   },
   "file_extension": ".py",
   "mimetype": "text/x-python",
   "name": "python",
   "nbconvert_exporter": "python",
   "pygments_lexer": "ipython3",
   "version": "3.11.4"
  },
  "vscode": {
   "interpreter": {
    "hash": "9b5510ccbd07df9eca2a440a1665671da9502ced97895fc20ef734d5bec4a4c0"
   }
  }
 },
 "nbformat": 4,
 "nbformat_minor": 2
}
