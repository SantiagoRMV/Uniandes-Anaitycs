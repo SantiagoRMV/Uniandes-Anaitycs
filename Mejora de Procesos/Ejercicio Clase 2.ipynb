{
 "cells": [
  {
   "cell_type": "markdown",
   "id": "ed892906",
   "metadata": {},
   "source": [
    "# Mezcla de Canales Digitales\n",
    "El modelo desarrollado en el Caso 1 ha generado un significativo incremento en las ventas de la compañía. Por esta razón, la empresa ha decidido incluir otros canales de publicidad, ahora los canales disponibles son: Facebook, YouTube, Twitter, TikTok y LinkedIn. Para cada\n",
    "canal se ha estimado un incremento en ventas (en dólares) de 2, 3, 5, 4.5 y 2.9 por cada dólarinvertido, respectivamente. Así mismo, los canales tienen topes de inversión de 3,000, 4,000,2,000, 2,000 y 3,000 dólares, respectivamente. Ahora se cuenta con un presupuesto para inversión en canales digitales de 10,000 dólares. Similar al Caso 1, la inversión en Facebook debe representar por lo menos el 30% del total\n",
    "de la inversión.\n",
    "Formule matemáticamente un modelo de optimización indexado que maximice elincremento en ventas por la inversión en canales digitales, sujeto a los topes de inversión, el presupuesto total y la condición de inversión en Facebook. Sea riguroso(a) al definir conjuntos, parámetros, variables de decisión, restricciones y función objetivo."
   ]
  },
  {
   "cell_type": "markdown",
   "id": "b223ed6f",
   "metadata": {},
   "source": [
    "## Formulación"
   ]
  },
  {
   "cell_type": "markdown",
   "id": "8846ce40",
   "metadata": {},
   "source": [
    "### Conjuntos\n",
    "* $I = (Facebook, YouTube, Twitter, TicTok, LinkedIn)$"
   ]
  },
  {
   "cell_type": "markdown",
   "id": "c35f010f",
   "metadata": {},
   "source": [
    "### Parámetros\n",
    "* $T_{i} : Cantidad\\ máxima\\ a\\ invertir\\ en\\ cada\\ canal -> T = (3000, 4000, 2000, 2000, 3000)$\n",
    "* $P : Presupuesto\\ total -> 10.000$\n",
    "* $R : Proporcion\\ mínima\\ a\\ invertir\\ en\\ Facebook -> 0.3$ \n",
    "* $V: Incremento\\ en\\ ventas\\ por\\ cada\\ peso\\ invertido\\ en\\ el\\ canal -> V =(2, 3, 5, 4.5, 2,9)$"
   ]
  },
  {
   "cell_type": "markdown",
   "id": "c1940754",
   "metadata": {},
   "source": [
    "### Variables de decisión\n",
    "$$x_{i} : Cantidad\\ de\\ dinero\\ a\\ invertir\\ en\\ el\\ canal\\ i$$ "
   ]
  },
  {
   "cell_type": "markdown",
   "id": "763e18da",
   "metadata": {},
   "source": [
    "### Restricciones\n",
    "1. No superar el tope de inversión de cada canal\n",
    "$$x_{i} \\leq T_{i} $$\n",
    "2. No superar el tope del presupuesto total\n",
    "$$\\Sigma_{i} x_{i} \\leq P$$\n",
    "3. Respetar la proporción del presupuesto asignada a Facebook\n",
    "$$x_{1} \\geq R(\\Sigma_{i}x_{i})$$\n",
    "4. No negatividad de las variables\n",
    "$$x_{i} \\geq 0, \\forall i  \\in I$$\n"
   ]
  },
  {
   "cell_type": "markdown",
   "id": "352123a8",
   "metadata": {},
   "source": [
    "### Función Objetivo\n",
    "Incrementar las ventas por la inversión en los canales\n",
    "$$Max z = \\Sigma_{i}V_{i}x_{i} $$"
   ]
  },
  {
   "cell_type": "markdown",
   "id": "ab362b33",
   "metadata": {},
   "source": [
    "## Implementación"
   ]
  },
  {
   "cell_type": "code",
   "execution_count": 4,
   "id": "fd5a6c41",
   "metadata": {},
   "outputs": [],
   "source": [
    "# Importando librería\n",
    "import pulp as lp"
   ]
  },
  {
   "cell_type": "markdown",
   "id": "4bea86f3",
   "metadata": {},
   "source": [
    "### Objeto del modelo "
   ]
  },
  {
   "cell_type": "code",
   "execution_count": 10,
   "id": "aa126ee8",
   "metadata": {},
   "outputs": [],
   "source": [
    "problema = lp.LpProblem(name = \"Inversión_por_canal\", sense = lp.LpMaximize)"
   ]
  },
  {
   "cell_type": "markdown",
   "id": "c84cbf95",
   "metadata": {},
   "source": [
    "### Conjuntos"
   ]
  },
  {
   "cell_type": "code",
   "execution_count": 1,
   "id": "954992cc",
   "metadata": {},
   "outputs": [],
   "source": [
    "# Canales\n",
    "I = list(range(1,5))"
   ]
  },
  {
   "cell_type": "markdown",
   "id": "df3a0458",
   "metadata": {},
   "source": [
    "### Variables de Decisión"
   ]
  },
  {
   "cell_type": "code",
   "execution_count": 19,
   "id": "1b3e1954",
   "metadata": {},
   "outputs": [],
   "source": [
    "# Cantidad de dinero(en dolares $) a invertir en el canal i\n",
    "x = {\n",
    "    i: lp.LpVariable(\n",
    "        name=f\"produccion{i}\", \n",
    "        lowBound = 0,\n",
    "        upBound = None,\n",
    "        cat = lp.LpContinuous\n",
    "    )\n",
    "    for i in I\n",
    "}"
   ]
  },
  {
   "cell_type": "markdown",
   "id": "33e395c0",
   "metadata": {},
   "source": [
    "### Parámetros"
   ]
  },
  {
   "cell_type": "code",
   "execution_count": 8,
   "id": "5ceee422",
   "metadata": {},
   "outputs": [],
   "source": [
    "# Cantidad Máxima a invertir en el canal i\n",
    "T = {\n",
    "    1:3000,\n",
    "    2:4000,\n",
    "    3:2000,\n",
    "    4:2000,\n",
    "    5:3000,\n",
    "}\n",
    "\n",
    "# Presupuesto total\n",
    "P = 10000\n",
    "\n",
    "# Proporción mínima a invertir en FB\n",
    "R = 0,3\n",
    "\n",
    "# Valor incremento en ventas en el canal i\n",
    "V = {\n",
    "    1:2,\n",
    "    2:3,\n",
    "    3:5,\n",
    "    4:4.5,\n",
    "    5:2.9,\n",
    "}"
   ]
  },
  {
   "cell_type": "markdown",
   "id": "b63b5ef7",
   "metadata": {},
   "source": [
    "### Función objetivo"
   ]
  },
  {
   "cell_type": "code",
   "execution_count": 14,
   "id": "f52ae7f9",
   "metadata": {},
   "outputs": [],
   "source": [
    "problema += (sum(V[i]*x[i] for i in I), 'Utilidad total')"
   ]
  },
  {
   "cell_type": "markdown",
   "id": "e985e289",
   "metadata": {},
   "source": [
    "### Restricciones"
   ]
  },
  {
   "cell_type": "code",
   "execution_count": 21,
   "id": "be6f1197",
   "metadata": {},
   "outputs": [
    {
     "ename": "TypeError",
     "evalue": "'<=' not supported between instances of 'tuple' and 'int'",
     "output_type": "error",
     "traceback": [
      "\u001b[0;31m---------------------------------------------------------------------------\u001b[0m",
      "\u001b[0;31mTypeError\u001b[0m                                 Traceback (most recent call last)",
      "Cell \u001b[0;32mIn[21], line 6\u001b[0m\n\u001b[1;32m      3\u001b[0m     problema \u001b[38;5;241m+\u001b[39m\u001b[38;5;241m=\u001b[39m x[i] \u001b[38;5;241m<\u001b[39m\u001b[38;5;241m=\u001b[39m T[i]\n\u001b[1;32m      5\u001b[0m \u001b[38;5;66;03m# 2. No superar el tope del presupuesto total\u001b[39;00m\n\u001b[0;32m----> 6\u001b[0m problema \u001b[38;5;241m+\u001b[39m\u001b[38;5;241m=\u001b[39m (\u001b[38;5;28msum\u001b[39m(x[i] \u001b[38;5;28;01mfor\u001b[39;00m i \u001b[38;5;129;01min\u001b[39;00m I), \u001b[38;5;124m'\u001b[39m\u001b[38;5;124mTope de presupuesto\u001b[39m\u001b[38;5;124m'\u001b[39m) \u001b[38;5;241m<\u001b[39m\u001b[38;5;241m=\u001b[39m P\n\u001b[1;32m      8\u001b[0m \u001b[38;5;66;03m# 3. Respetar la proporción del presupuesto asignada a Facebook\u001b[39;00m\n\u001b[1;32m      9\u001b[0m problema \u001b[38;5;241m+\u001b[39m\u001b[38;5;241m=\u001b[39m x[\u001b[38;5;241m1\u001b[39m] \u001b[38;5;241m>\u001b[39m\u001b[38;5;241m=\u001b[39m R \u001b[38;5;241m*\u001b[39m (\u001b[38;5;28msum\u001b[39m(x[i] \u001b[38;5;28;01mfor\u001b[39;00m i \u001b[38;5;129;01min\u001b[39;00m I))\n",
      "\u001b[0;31mTypeError\u001b[0m: '<=' not supported between instances of 'tuple' and 'int'"
     ]
    }
   ],
   "source": [
    "# 1. No superar el tope de inversión de cada canal\n",
    "for i in I:\n",
    "    problema += x[i] <= T[i]\n",
    "    \n",
    "# 2. No superar el tope del presupuesto total\n",
    "problema += (sum(x[i] for i in I), 'Tope de presupuesto') <= P\n",
    "    \n",
    "# 3. Respetar la proporción del presupuesto asignada a Facebook\n",
    "problema += x[1] >= R * (sum(x[i] for i in I))\n",
    "\n",
    "# 4. No negatividad de las variables\n",
    "for i in I:\n",
    "    problema += x[i] >= 0"
   ]
  },
  {
   "cell_type": "markdown",
   "id": "0ad9ff01",
   "metadata": {},
   "source": [
    "### Resolver el problema"
   ]
  },
  {
   "cell_type": "code",
   "execution_count": null,
   "id": "945080cc",
   "metadata": {},
   "outputs": [],
   "source": [
    "problema.solve()"
   ]
  },
  {
   "cell_type": "markdown",
   "id": "9549fb16",
   "metadata": {},
   "source": [
    "### Imprimir resultados"
   ]
  },
  {
   "cell_type": "code",
   "execution_count": null,
   "id": "e4759f39",
   "metadata": {},
   "outputs": [],
   "source": [
    "# Estado"
   ]
  },
  {
   "cell_type": "code",
   "execution_count": null,
   "id": "649f6166",
   "metadata": {},
   "outputs": [],
   "source": [
    "# Valor de la función objetivo"
   ]
  },
  {
   "cell_type": "code",
   "execution_count": null,
   "id": "a0f30602",
   "metadata": {},
   "outputs": [],
   "source": [
    "# Valores que toman las variables de decisión"
   ]
  }
 ],
 "metadata": {
  "kernelspec": {
   "display_name": "Python 3 (ipykernel)",
   "language": "python",
   "name": "python3"
  },
  "language_info": {
   "codemirror_mode": {
    "name": "ipython",
    "version": 3
   },
   "file_extension": ".py",
   "mimetype": "text/x-python",
   "name": "python",
   "nbconvert_exporter": "python",
   "pygments_lexer": "ipython3",
   "version": "3.11.4"
  }
 },
 "nbformat": 4,
 "nbformat_minor": 5
}
