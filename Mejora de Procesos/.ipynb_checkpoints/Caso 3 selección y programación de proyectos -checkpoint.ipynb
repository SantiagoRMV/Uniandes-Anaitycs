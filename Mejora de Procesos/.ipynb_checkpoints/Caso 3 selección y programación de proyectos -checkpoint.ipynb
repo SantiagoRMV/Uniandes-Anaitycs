{
 "cells": [
  {
   "cell_type": "markdown",
   "id": "1ce8fa4c",
   "metadata": {},
   "source": [
    "# Formulación"
   ]
  },
  {
   "cell_type": "markdown",
   "id": "ab584476",
   "metadata": {},
   "source": [
    "### Conjuntos\n",
    "* $I = (Pozo\\ 1, Pozo\\ 2, Pozo\\ 3, Pozo\\ 4, Pozo\\ 5, Pozo\\ 6, Pozo\\ 7, Pozo\\ 8, Pozo\\ 9, Pozo\\ 10, Pozo\\ 11, Pozo\\ 12, Pozo\\ 13, Pozo\\ 14, Pozo\\ 15)$\n",
    "* $J = (1,2,3,4,5,6,7,8,9,10)$\n",
    "* $K = (Minimo,Mas\\ probable,Maximo)$\n",
    "* $H = (Operario, Generador)$"
   ]
  },
  {
   "cell_type": "markdown",
   "id": "8f98e9a2",
   "metadata": {},
   "source": [
    "### Parámetros\n",
    "\n",
    "* $C_{ij}: Costo\\ de\\ Perforar\\ el\\ pozo\\ i\\ en\\ el\\ año\\ j$\n",
    "* $U_{ij}: Utilidad\\ por\\ Perforar\\ el\\ pozo\\ i\\ en\\ el\\ año\\ j$\n",
    "* $P_{ik}: Cantidad\\ de\\ producción\\ del\\ pozo\\ i\\ según\\ la\\ estimación\\ k$\n",
    "* $R_{ih}: Cantidad\\ de\\ requerimiento\\ h\\ en\\ el\\ pozo\\ i$\n",
    "* $D_{j}: Compromiso\\ de\\ producción\\ en\\ barriles\\ diarios\\ en\\ el\\ año\\ j$\n",
    "* $A_{h}: Maximo\\ requerimiento\\ h\\ disponible\\ por\\ año$"
   ]
  },
  {
   "cell_type": "markdown",
   "id": "a30ddfef",
   "metadata": {},
   "source": [
    "### Variables de Decisión\n",
    "\n",
    "$x_{ij} : Decisión\\ si\\ se\\ excava\\ el\\ poso\\ i\\ en\\ el\\ año\\ j$"
   ]
  },
  {
   "cell_type": "markdown",
   "id": "e3ad43cb",
   "metadata": {},
   "source": [
    "### Restriciones\n",
    "1. No superar la cantidad de recursos disponibles por año\n",
    "$$\\Sigma_{i}\\Sigma_{j} x_{ij}R_{ih} \\leq A_{h},\\forall h \\in H$$\n",
    "2. El compromiso de producción anual debe satisfacer el nivel de producción de los pozos\n",
    "$$\\Sigma_{i} x_{ij}D_{j} \\leq \\Sigma_{i} x_{ij}P_{ik}, \\forall k \\in K, j \\in J$$"
   ]
  },
  {
   "cell_type": "markdown",
   "id": "afddd733",
   "metadata": {},
   "source": [
    "### Función Objetivo\n",
    "Incrementar la utilidad de la perforación de pozos \n",
    "$$Max z = \\Sigma_{i}\\Sigma_{j}x_{ij}(U_{ij}-C_{ij})$$"
   ]
  },
  {
   "cell_type": "markdown",
   "id": "0810b04b",
   "metadata": {},
   "source": [
    "## Implementación"
   ]
  },
  {
   "cell_type": "code",
   "execution_count": 1,
   "id": "a19384e3",
   "metadata": {},
   "outputs": [],
   "source": [
    "#Importando librería\n",
    "import pulp as lp"
   ]
  },
  {
   "cell_type": "markdown",
   "id": "b1b933a8",
   "metadata": {},
   "source": [
    "### Objetivo del modelo"
   ]
  },
  {
   "cell_type": "code",
   "execution_count": 3,
   "id": "94552989",
   "metadata": {},
   "outputs": [],
   "source": [
    "problema = lp.LpProblem(name='Perforar_pozo', sense=lp.LpMaximize)"
   ]
  },
  {
   "cell_type": "markdown",
   "id": "ce31ff87",
   "metadata": {},
   "source": [
    "### Conjuntos"
   ]
  },
  {
   "cell_type": "code",
   "execution_count": 5,
   "id": "b0f0c198",
   "metadata": {},
   "outputs": [],
   "source": [
    "#Pozos\n",
    "I = [\"Pozo_1\", \"Pozo_2\", \"Pozo_3\", \"Pozo_4\", \"Pozo_5\", \"Pozo_6\", \"Pozo_7\", \"Pozo_8\", \"Pozo_9\", \"Pozo_10\", \"Pozo_11\", \"Pozo_12\", \"Pozo_13\", \"Pozo_14\", \"Pozo_15\"]\n",
    "#Años\n",
    "J = [1,2,3,4,5,6,7,8,9,10]\n",
    "#Producción\n",
    "K = [\"Minima\", \"Mas_Probable\", \"Maxima\"]\n",
    "#Recurso\n",
    "H = [\"Operario\", \"Generador\"]"
   ]
  },
  {
   "cell_type": "markdown",
   "id": "0c7c586d",
   "metadata": {},
   "source": [
    "### Parámetros"
   ]
  },
  {
   "cell_type": "code",
   "execution_count": null,
   "id": "096cbf42",
   "metadata": {},
   "outputs": [],
   "source": [
    "a = {pozo: val for pozo, val in zip(I,)}"
   ]
  }
 ],
 "metadata": {
  "kernelspec": {
   "display_name": "Python 3 (ipykernel)",
   "language": "python",
   "name": "python3"
  },
  "language_info": {
   "codemirror_mode": {
    "name": "ipython",
    "version": 3
   },
   "file_extension": ".py",
   "mimetype": "text/x-python",
   "name": "python",
   "nbconvert_exporter": "python",
   "pygments_lexer": "ipython3",
   "version": "3.11.4"
  }
 },
 "nbformat": 4,
 "nbformat_minor": 5
}
