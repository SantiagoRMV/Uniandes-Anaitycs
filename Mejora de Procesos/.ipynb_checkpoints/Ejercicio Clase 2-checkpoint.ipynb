{
 "cells": [
  {
   "cell_type": "markdown",
   "id": "ed892906",
   "metadata": {},
   "source": [
    "# Mezcla de Canales Digitales\n",
    "El modelo desarrollado en el Caso 1 ha generado un significativo incremento en las ventas de la compañía. Por esta razón, la empresa ha decidido incluir otros canales de publicidad, ahora los canales disponibles son: Facebook, YouTube, Twitter, TikTok y LinkedIn. Para cada\n",
    "canal se ha estimado un incremento en ventas (en dólares) de 2, 3, 5, 4.5 y 2.9 por cada dólarinvertido, respectivamente. Así mismo, los canales tienen topes de inversión de 3,000, 4,000,2,000, 2,000 y 3,000 dólares, respectivamente. Ahora se cuenta con un presupuesto para inversión en canales digitales de 10,000 dólares. Similar al Caso 1, la inversión en Facebook debe representar por lo menos el 30% del total\n",
    "de la inversión.\n",
    "Formule matemáticamente un modelo de optimización indexado que maximice elincremento en ventas por la inversión en canales digitales, sujeto a los topes de inversión, el presupuesto total y la condición de inversión en Facebook. Sea riguroso(a) al definir conjuntos, parámetros, variables de decisión, restricciones y función objetivo."
   ]
  },
  {
   "cell_type": "markdown",
   "id": "b223ed6f",
   "metadata": {},
   "source": [
    "## Formulación"
   ]
  },
  {
   "cell_type": "markdown",
   "id": "8846ce40",
   "metadata": {},
   "source": [
    "### Conjuntos\n",
    "* $I = (Facebook, YouTube, Twitter, TicTok, LinkedIn)$"
   ]
  },
  {
   "cell_type": "markdown",
   "id": "c35f010f",
   "metadata": {},
   "source": [
    "### Parámetros\n",
    "* $T_{i} : Cantidad\\ máxima\\ a\\ invertir\\ en\\ cada\\ canal -> T = (3000, 4000, 2000, 2000, 3000)$\n",
    "* $P : Presupuesto\\ total -> 10.000$\n",
    "* $R : Proporcion\\ mínima\\ a\\ invertir\\ en\\ Facebook -> 0.3$ \n",
    "* $V: Incremento\\ en\\ ventas\\ por\\ cada\\ peso\\ invertido\\ en\\ el\\ canal -> V =(2, 3, 5, 4.5, 2,9)$"
   ]
  },
  {
   "cell_type": "markdown",
   "id": "c1940754",
   "metadata": {},
   "source": [
    "### Variables de decisión\n",
    "$$x_{i} : Cantidad\\ de\\ dinero\\ a\\ invertir\\ en\\ el\\ canal\\ i$$ "
   ]
  },
  {
   "cell_type": "markdown",
   "id": "763e18da",
   "metadata": {},
   "source": [
    "### Restricciones\n",
    "1. No superar el tope de inversión de cada canal\n",
    "$$x_{i} \\leq T_{i} $$\n",
    "2. No superar el tope del presupuesto total\n",
    "$$\\Sigma_{i} x_{i} \\leq P$$\n",
    "3. Respetar la proporción del presupuesto asignada a Facebook\n",
    "$$x_{1} \\geq R(\\Sigma_{i}x_{i})$$\n",
    "4. No negatividad de las variables\n",
    "$$x_{i} \\geq 0, \\forall i  \\in I$$\n"
   ]
  },
  {
   "cell_type": "markdown",
   "id": "352123a8",
   "metadata": {},
   "source": [
    "### Función Objetivo\n",
    "Incrementar las ventas por la inversión en los canales\n",
    "$$Max z = \\Sigma_{i}V_{i}x_{i} $$"
   ]
  },
  {
   "cell_type": "markdown",
   "id": "ab362b33",
   "metadata": {},
   "source": [
    "## Implementación"
   ]
  },
  {
   "cell_type": "code",
   "execution_count": 3,
   "id": "fd5a6c41",
   "metadata": {},
   "outputs": [],
   "source": [
    "# Importando librería\n",
    "import pulp as lp"
   ]
  },
  {
   "cell_type": "markdown",
   "id": "4bea86f3",
   "metadata": {},
   "source": [
    "### Objeto del modelo "
   ]
  },
  {
   "cell_type": "code",
   "execution_count": 6,
   "id": "aa126ee8",
   "metadata": {},
   "outputs": [],
   "source": [
    "problema = lp.LpProblem(name = \"Inversión_por_canal\", sense = lp.LpMaximize)"
   ]
  },
  {
   "cell_type": "markdown",
   "id": "df3a0458",
   "metadata": {},
   "source": [
    "### Variables de Decisión"
   ]
  },
  {
   "cell_type": "code",
   "execution_count": null,
   "id": "1b3e1954",
   "metadata": {},
   "outputs": [],
   "source": [
    "# Cantidad de dinero(en dolares $) a invertir en el canal i\n",
    "x_i = lp.LpVariable(\n",
    "    name = \"\",\n",
    "    lowBound = ,\n",
    "    upBound = ,\n",
    "    cat = lp.LpContinuous,\n",
    ")"
   ]
  },
  {
   "cell_type": "markdown",
   "id": "b63b5ef7",
   "metadata": {},
   "source": [
    "### Función objetivo"
   ]
  },
  {
   "cell_type": "code",
   "execution_count": null,
   "id": "f52ae7f9",
   "metadata": {},
   "outputs": [],
   "source": []
  },
  {
   "cell_type": "markdown",
   "id": "e985e289",
   "metadata": {},
   "source": [
    "### Restricciones"
   ]
  },
  {
   "cell_type": "code",
   "execution_count": null,
   "id": "be6f1197",
   "metadata": {},
   "outputs": [],
   "source": []
  },
  {
   "cell_type": "markdown",
   "id": "0ad9ff01",
   "metadata": {},
   "source": [
    "### Resolver el problema"
   ]
  },
  {
   "cell_type": "code",
   "execution_count": null,
   "id": "945080cc",
   "metadata": {},
   "outputs": [],
   "source": [
    "problema.solve()"
   ]
  },
  {
   "cell_type": "markdown",
   "id": "9549fb16",
   "metadata": {},
   "source": [
    "### Imprimir resultados"
   ]
  },
  {
   "cell_type": "code",
   "execution_count": null,
   "id": "e4759f39",
   "metadata": {},
   "outputs": [],
   "source": [
    "# Estado"
   ]
  },
  {
   "cell_type": "code",
   "execution_count": null,
   "id": "649f6166",
   "metadata": {},
   "outputs": [],
   "source": [
    "# Valor de la función objetivo"
   ]
  },
  {
   "cell_type": "code",
   "execution_count": null,
   "id": "a0f30602",
   "metadata": {},
   "outputs": [],
   "source": [
    "# Valores que toman las variables de decisión"
   ]
  }
 ],
 "metadata": {
  "kernelspec": {
   "display_name": "Python 3 (ipykernel)",
   "language": "python",
   "name": "python3"
  },
  "language_info": {
   "codemirror_mode": {
    "name": "ipython",
    "version": 3
   },
   "file_extension": ".py",
   "mimetype": "text/x-python",
   "name": "python",
   "nbconvert_exporter": "python",
   "pygments_lexer": "ipython3",
   "version": "3.11.4"
  }
 },
 "nbformat": 4,
 "nbformat_minor": 5
}
