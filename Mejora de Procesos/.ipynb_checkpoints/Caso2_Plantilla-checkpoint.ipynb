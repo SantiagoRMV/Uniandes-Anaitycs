{
 "cells": [
  {
   "cell_type": "markdown",
   "id": "f20a9c92",
   "metadata": {
    "id": "f20a9c92",
    "nbgrader": {
     "grade": false,
     "grade_id": "cell-6be0347b6c6fdde0",
     "locked": true,
     "schema_version": 3,
     "solution": false,
     "task": false
    }
   },
   "source": [
    "# Caso 2: mezcla de canales digitales\n",
    "\n",
    "---\n",
    "## Maestría en Inteligencia Analítica para la Toma de Decisiones (MIIA)\n",
    "\n",
    "* **Profesor**:\n",
    "    * *Andrés Medaglia*\n",
    "* **Asistentes**:\n",
    "    * *Carlos Arroyo*\n",
    "    * *Ariel Rojas*"
   ]
  },
  {
   "cell_type": "markdown",
   "id": "ff043a01",
   "metadata": {
    "id": "ff043a01",
    "nbgrader": {
     "grade": false,
     "grade_id": "cell-da6a7ef22d5a66a8",
     "locked": true,
     "schema_version": 3,
     "solution": false,
     "task": false
    }
   },
   "source": [
    "## Instrucciones generales\n",
    "\n",
    "El primer paso antes de resolver este laboratorio es leer y entender el **enunciado del caso**. Una vez tengas claro el caso, te explicamos la estructura de este laboratorio (los demás laboratorios siguen una estrucutra similar).\n",
    "\n",
    "Este laboratorio tiene las siguientes secciones:\n",
    "* **Formulación**: un breve resumen del modelo con notación matemática y descripción de sus componentes\n",
    "* **Importación de librerías**\n",
    "* **Creación de parámetros**\n",
    "* **Modelamiento**: aquí implementamos el modelo visto en la formulación (aquí encontrarás por lo general celdas de código que debes completar, ¡nosotros te guiaremos en el proceso!)\n",
    "* **Reporte de Resultados**: esta sección nos muestra las soluciones encontradas por el modelo y, en ocasiones, algunas visualizaciones interesantes para entenderlo mejor. (es posible que en ciertas prácticas debas completar algunas celdas también)\n",
    "\n",
    "Este tipo de actividades se evaluará sobre un total de 100 puntos. Las celdas calificables se distinguen por tener la instrucción `# Escribe tu código a continuación`. Antes de estas celdas  encontrarás instrucciones y consejos para resolver las preguntas, también el puntaje que le corresponde.\n",
    "\n",
    "¡Éxitos!"
   ]
  },
  {
   "cell_type": "markdown",
   "id": "c2274d15",
   "metadata": {
    "id": "c2274d15",
    "nbgrader": {
     "grade": false,
     "grade_id": "cell-c11ef687a2132a2b",
     "locked": true,
     "schema_version": 3,
     "solution": false,
     "task": false
    }
   },
   "source": [
    "## Formulación\n",
    "---\n",
    "\n",
    "Te presentamos la formulación del caso de la semana de forma resumida. Te recomendamos revisar la formulación una vez hayas leído el enunciado del caso. Es bueno que te familiarices con los elementos de la formulación antes de iniciar la implementación.\n",
    "\n",
    "### Conjuntos y Parámetros\n",
    ">#### **Conjuntos**\n",
    ">* $I$: conjunto de canales de mercadeo.\n",
    "\n",
    ">#### **Parámetros**\n",
    ">* $a_i:$ incremento en ventas por cada dólar invertido en el canal $i \\in I$\n",
    ">* $c_i:$ presupuesto máximo para invertir en el canal $i\\in I$\n",
    ">* $p:$ presupuesto total para la campaña\n",
    ">* $q:$ mínimo porcentaje de inversión en el canal Facebook\n",
    "\n",
    "### Variables de Decisión\n",
    "> $x_i:$ dinero a ser invertido (en USD) en el canal $i\\in I$\n",
    "\n",
    "\n",
    "### Restricciones\n",
    "> 1. Cada canal $i\\in I$ tiene un máximo posible de inversión estipulado $c_i$\n",
    ">> $x_i \\leq c_i, \\; \\forall i\\in I$\n",
    "\n",
    "> 2. El presupuesto global para la campaña es de $p$\n",
    ">> $\\sum_{i\\in I} x_i \\leq p$\n",
    "\n",
    "> 3. La inversión en las publicaciones promocionadas de Facebook debe seguir siendo superior a q (0.3) del total de inversión.\n",
    ">> $q*\\sum_{i\\in I}x_i \\leq x_{\\text{Facebook}}$\n",
    "\n",
    "> **Naturaleza de Variables**\n",
    ">>$x_i\\geq 0 , \\; \\forall i\\in I$\n",
    "\n",
    "### Función Objetivo\n",
    "> Maximizar el incremento en ventas dado por la inversión en canales de mercadeo.\n",
    ">> $\\max{ \\sum_{i\\in I} a_ix_i}$"
   ]
  },
  {
   "cell_type": "markdown",
   "id": "7cc377b3",
   "metadata": {
    "id": "7cc377b3",
    "nbgrader": {
     "grade": false,
     "grade_id": "cell-983ada4fc8bc8836",
     "locked": true,
     "schema_version": 3,
     "solution": false,
     "task": false
    }
   },
   "source": [
    "## Importación de librerías\n",
    "---\n",
    "En este curso usaremos el paquete/librería `pulp` en su versión 2.4. Este paquete proporciona un modelador de problemas lineales de optimización para Python. Su API permite crear variables, añadir restricciones y llamar optimizadores (gratuitos y pagos para resolver problemas). A través de este paquete se generan los archivos `LP`que son usados por los *optimizadores* para ejecutar los algoritmos de optimización. `pulp` utiliza por defecto el optimizador CBC que es mantenido por la comunidad de [COIN-OR](https://www.coin-or.org) y es de fuente libre. También puede ser usado con optimizadores pagos como Gurobi o CPLEX. Su alias para este curso el `lp`. Si deseas conocer más, puedes visitar:\n",
    ">**GitHub**: https://github.com/coin-or/pulp\n",
    "\n",
    ">**Documentación**: https://coin-or.github.io/pulp/\n",
    "\n",
    "La forma más fácil de instalar `pulp` es a través de PyPi ejecutando el comando de `pip`: ` python -m pip install pulp` en la consola. También está disponible en conda y [conda-forge](https://anaconda.org/conda-forge/pulp)\n",
    "\n",
    "Con el paquete `pulp` introduciremos métodos para crear diccionarios de variables (basados en conjuntos) y una forma fácil de formular expresiones que usan conjuntos en las sumas.\n",
    "\n",
    "> **Recuerda** que el alias de `pulp` es `lp` y que como estándar el nombre del objeto que guardará el problema de optimización se llamará `problema`."
   ]
  },
  {
   "cell_type": "code",
   "execution_count": 61,
   "id": "8be18161",
   "metadata": {
    "id": "8be18161",
    "nbgrader": {
     "grade": false,
     "grade_id": "cell-81bb7a6952a9e1b5",
     "locked": true,
     "schema_version": 3,
     "solution": false,
     "task": false
    }
   },
   "outputs": [],
   "source": [
    "import pulp as lp"
   ]
  },
  {
   "cell_type": "markdown",
   "id": "16aef1fd",
   "metadata": {
    "id": "16aef1fd",
    "nbgrader": {
     "grade": false,
     "grade_id": "cell-284326f1ee27ec51",
     "locked": true,
     "schema_version": 3,
     "solution": false,
     "task": false
    }
   },
   "source": [
    "## Creación de Parámetros\n",
    "---\n",
    "\n",
    "Para este caso nuestro único conjunto son los canales de mercadeo que escogeremos. Haremos una lista de Python donde guardaremos el nombre de cada canal."
   ]
  },
  {
   "cell_type": "markdown",
   "id": "de23518e",
   "metadata": {
    "id": "de23518e",
    "nbgrader": {
     "grade": false,
     "grade_id": "cell-ca8f0236477fa64a",
     "locked": true,
     "schema_version": 3,
     "solution": false,
     "task": false
    }
   },
   "source": [
    "### Conjuntos\n",
    "$I$: Conjunto de canales de mercadeo"
   ]
  },
  {
   "cell_type": "code",
   "execution_count": 62,
   "id": "cb80695c",
   "metadata": {
    "id": "cb80695c",
    "nbgrader": {
     "grade": false,
     "grade_id": "cell-df274dae63b7d25a",
     "locked": true,
     "schema_version": 3,
     "solution": false,
     "task": false
    }
   },
   "outputs": [],
   "source": [
    "I = [\"Facebook\", \"YouTube\", \"Twitter\", \"TikTok\", \"LinkedIn\"]"
   ]
  },
  {
   "cell_type": "markdown",
   "id": "4e45a000",
   "metadata": {
    "id": "4e45a000",
    "nbgrader": {
     "grade": false,
     "grade_id": "cell-35d881a070f59d12",
     "locked": true,
     "schema_version": 3,
     "solution": false,
     "task": false
    }
   },
   "source": [
    "### Parámetros\n",
    "* $a_i:$ Incremento en ventas por cada dólar invertido en el canal $i \\in I$\n",
    "* $c_i:$ Presupuesto máximo para invertir en el canal $i\\in I$\n",
    "* $p:$ Presupuesto total para la campaña\n",
    "* $q:$ Mínimo porcentaje de inversión en el canal Facebook\n"
   ]
  },
  {
   "cell_type": "markdown",
   "id": "36a441d6",
   "metadata": {
    "id": "36a441d6",
    "nbgrader": {
     "grade": false,
     "grade_id": "cell-ca40d34242cb874a",
     "locked": true,
     "schema_version": 3,
     "solution": false,
     "task": false
    }
   },
   "source": [
    "Para crear los parámetros construiremos diccionarios cuyas **llaves** correspondan los índices del conjunto y como **valores** el valor del parámetro correspondiente."
   ]
  },
  {
   "cell_type": "code",
   "execution_count": 124,
   "id": "95889ab2",
   "metadata": {
    "id": "95889ab2",
    "nbgrader": {
     "grade": false,
     "grade_id": "cell-014d17c13a6f6fef",
     "locked": true,
     "schema_version": 3,
     "solution": false,
     "task": false
    }
   },
   "outputs": [],
   "source": [
    "a = {canal: val for canal, val in zip(I, (2,5,3,4.5,2.9))} #Incremento en ventas por dolar invertido en cada canal\n",
    "c = {canal: val for canal, val in zip(I, (3000,4000,2000,2000,3000))} #Presupuesto máximo para invertir en cada canal\n",
    "p = 10000 #Presupuesto total para la campaña\n",
    "q = 0.3   #Mínimo porcentaje de inversión en el canal 'Facebook' (30%)"
   ]
  },
  {
   "cell_type": "markdown",
   "id": "1be1d1ee",
   "metadata": {
    "id": "1be1d1ee",
    "nbgrader": {
     "grade": false,
     "grade_id": "cell-00705cef00167fde",
     "locked": true,
     "schema_version": 3,
     "solution": false,
     "task": false
    }
   },
   "source": [
    "**Celda de Prueba (0 puntos)**\n",
    "\n",
    "Recomendación: Una buena práctica es explorar los datos de entrada del problema antes de empezar a implementarlo y resolverlo. Por ejemplo, uno podría entender el contexto los datos al graficarlos o explorando las tablas o estructuras en las que vienen.\n",
    "* **Esta celda no es calificable**"
   ]
  },
  {
   "cell_type": "code",
   "execution_count": 64,
   "id": "965c2fe2",
   "metadata": {
    "id": "965c2fe2"
   },
   "outputs": [
    {
     "data": {
      "text/plain": [
       "{'Facebook': 2, 'YouTube': 5, 'Twitter': 3, 'TikTok': 4.5, 'LinkedIn': 2.9}"
      ]
     },
     "execution_count": 64,
     "metadata": {},
     "output_type": "execute_result"
    }
   ],
   "source": [
    "### Aquí puedes explorar los parámetros\n",
    "a"
   ]
  },
  {
   "cell_type": "markdown",
   "id": "d300379a",
   "metadata": {
    "id": "d300379a",
    "nbgrader": {
     "grade": false,
     "grade_id": "cell-f27ba0db228d3286",
     "locked": true,
     "schema_version": 3,
     "solution": false,
     "task": false
    }
   },
   "source": [
    "## Modelado\n",
    "---"
   ]
  },
  {
   "cell_type": "markdown",
   "id": "4093858a",
   "metadata": {
    "id": "4093858a",
    "nbgrader": {
     "grade": false,
     "grade_id": "cell-c598d0df97aafe10",
     "locked": true,
     "schema_version": 3,
     "solution": false,
     "task": false
    }
   },
   "source": [
    "### Declaración del modelo\n",
    "El primer paso para desarrollar un problema de optimización en `pulp` es declarar el objeto `lp.LpProblem` en el cual podemos agregar variables, restricciones y la función objetivo. Como convención para todos los trabajos y entregas de este curso, este objeto se llamará `problema`. Este objeto nos permite añadir los componentes del problema de optimización.\n",
    "\n",
    "El método `lp.LpProblem()` crea un problema lineal de optimización."
   ]
  },
  {
   "cell_type": "markdown",
   "id": "773a5058",
   "metadata": {
    "id": "773a5058",
    "nbgrader": {
     "grade": false,
     "grade_id": "cell-d2044139bedbc8b0",
     "locked": true,
     "schema_version": 3,
     "solution": false,
     "task": false
    }
   },
   "source": [
    "**Pregunta 1 (10 puntos)**\n",
    "* Crea un objeto modelo en PuLP (`lp.LpProblem`) llamado `problema`\n",
    "* Indica el sentido de la optimización: maximizar o minimizar\n",
    "\n",
    "\n",
    "> **Recuerda** que el sentido se indica con el argumento `sense` en `lp.LpProblem()`, que toma valores `lp.LpMaximize` o `lp.LpMinimize`"
   ]
  },
  {
   "cell_type": "code",
   "execution_count": 116,
   "id": "3aa01791",
   "metadata": {
    "id": "3aa01791"
   },
   "outputs": [],
   "source": [
    "# Escribe tu código a continuación\n",
    "problema = lp.LpProblem('Aumentar_utilidades', lp.LpMaximize)"
   ]
  },
  {
   "cell_type": "markdown",
   "id": "0d64bca5",
   "metadata": {
    "id": "0d64bca5",
    "nbgrader": {
     "grade": false,
     "grade_id": "cell-55d47def8914e798",
     "locked": true,
     "schema_version": 3,
     "solution": false,
     "task": false
    }
   },
   "source": [
    "## Variables de decisión\n",
    "* $x_i:$ Dinero a ser invertido (en USD) en el canal de mercadeo $i\\in I$"
   ]
  },
  {
   "cell_type": "markdown",
   "id": "c9bf6fec",
   "metadata": {
    "id": "c9bf6fec",
    "nbgrader": {
     "grade": false,
     "grade_id": "cell-f83b2ae3f8095d8b",
     "locked": true,
     "schema_version": 3,
     "solution": false,
     "task": false
    }
   },
   "source": [
    "**Pregunta 2 (20 puntos)**\n",
    "\n",
    "* Crea las variables del modelo: `x`, usando el método `lp.LpVariable.dicts()`\n",
    "* Especifica el nombre de las variables como `'canales'` con el argumento `name`\n",
    "* Especifica los índices de las variables con el argumento `indexs` (aquí debes colocar el conjunto)\n",
    "* Especifica el tipo de variable con el argumento `cat` (continua: `lp.LpContinuous`, entera: `lp.LpInteger` o binaria: `lp.LpBinary`)\n",
    "* Especifica el límite inferior en 0 con el argumento `lowBound`\n",
    "\n",
    "> **Para crear una variable** usa el método `lp.LpVariable.dicts(name, indexs, lowBound=None, upBound=None, cat='Continuous')`\n",
    "\n",
    "> Donde:\n",
    "> - `name`: el nombre de la variable\n",
    "> - `indexs`: lista de las llaves que tendrá el diccionario de variables. Normalmente corresponde a los conjuntos\n",
    "> - `lowBound`: el límite inferior de la variable. Por defecto es `None`, esto es, el infinito negativo\n",
    "> - `upBound` : el límite superior de la variable. Por defecto es `None`, esto es, el infinito positivo\n",
    "> - `cat`: el tipo de variable: continua: `lp.LpContinuous`, entera: `lp.LpInteger` o binaria: `lp.LpBinary`\n"
   ]
  },
  {
   "cell_type": "code",
   "execution_count": 117,
   "id": "9bb235e8",
   "metadata": {
    "id": "9bb235e8"
   },
   "outputs": [],
   "source": [
    "# Escribe tu código a continuación\n",
    "x = lp.LpVariable.dicts(\n",
    "    name = 'canales',\n",
    "    indices = I,\n",
    "    lowBound = 0,\n",
    "    upBound = None,\n",
    "    cat = lp.LpContinuous,\n",
    "                          )"
   ]
  },
  {
   "cell_type": "markdown",
   "id": "2186fbb6",
   "metadata": {
    "id": "2186fbb6",
    "nbgrader": {
     "grade": false,
     "grade_id": "cell-29ed870d308e48c3",
     "locked": true,
     "schema_version": 3,
     "solution": false,
     "task": false
    }
   },
   "source": [
    "### Función Objetivo\n",
    "> Maximizar el incremento en ventas dado por la inversión en canales de mercadeo.\n",
    ">> $\\max{ \\sum_{i\\in I} a_ix_i}$\n"
   ]
  },
  {
   "cell_type": "markdown",
   "id": "47730433",
   "metadata": {
    "id": "47730433",
    "nbgrader": {
     "grade": false,
     "grade_id": "cell-aeda75d733860738",
     "locked": true,
     "schema_version": 3,
     "solution": false,
     "task": false
    }
   },
   "source": [
    "**Pregunta 3 (20 puntos)**\n",
    "* Crea la función objetivo y agregala al modelo `problema`. A continuación, te explicamos como se usan las sumatorias en `pulp`\n",
    "\n",
    "> **Recuerda** que para agregar una función objetivo o restricción a un modelo en pulp se usa la sintaxis: `<modelo> += <expresion>`\n",
    "\n",
    "> **Recuerda** que una función objetivo en `pulp` consiste en multiplicar variables de tipo `lp.pulp.Variable` (como `x`) por constantes así: `<variable>*<int|float>` y luego sumarlas o restarlas así: `<var1>*<const1> + <var2>*<const2>`\n",
    "\n",
    "> **Recuerda** que, para evitar escribir una sumatoria de muchos términos uno a uno, `pulp` permite crear sumatorias que recorran conjuntos siempre y cuando las variables esten indexadas (como `x`). Para esto, utiliza `lp.lpSum((<expresion> for <indices> in <conjuntos>))`.\n",
    "\n",
    "> **Ejemplo**:\n",
    ">> $ \\sum_{i \\in I}c_i x_i$\n",
    "es equivalente a `lp.lpSum((c[i]*x[i] for i in I))`"
   ]
  },
  {
   "cell_type": "code",
   "execution_count": 118,
   "id": "246cc54e",
   "metadata": {
    "id": "246cc54e"
   },
   "outputs": [],
   "source": [
    "# Escribe tu código a continuación\n",
    "problema += lp.lpSum((a[i]*x[i] for i in I))"
   ]
  },
  {
   "cell_type": "markdown",
   "id": "681948be",
   "metadata": {
    "id": "681948be",
    "nbgrader": {
     "grade": false,
     "grade_id": "cell-1edc2b7ebfaa0592",
     "locked": true,
     "schema_version": 3,
     "solution": false,
     "task": false
    }
   },
   "source": [
    "### Restricciones\n",
    "\n",
    "> **Recuerda** que para crear restricciones se debe usar la sintaxis: `<modelo> += <expresion_lado_izq> ==|>=|<= <expresion_lado_der>, 'Nombre_de_la_restriccion'`\n",
    "\n",
    "> **Recuerda** que las expresiones son combinaciones lineales de las variables, como: `<var1>*<const1> + <var2>*<const2>`\n",
    "\n",
    "> **Recuerda** que puedes usar `lp.lpSum()` para crear sumatorias (ver **Pregunta 3**)\n",
    "\n",
    "> **Recuerda** que para crear múltiples restricciones usando $\\forall i \\in I$, se debe utilizar la sintaxis:\n",
    ">>    * `for i in I:`\n",
    ">>       * `<restriccion>`\n",
    "\n",
    "> **Ejemplo**\n",
    ">> La siguiente restricción: $\\sum_{i \\in I} a_{ij} x_{ij} \\geq 1, \\; \\forall j \\in J$ es equivalente a:\n",
    ">>    * `for j in J:`\n",
    ">>        * `<modelo> += lp.lpSum((a[i,j]*x[i,j] for i in I)) >= 1, 'R1_'+str(j)`\n",
    "  \n",
    "> **Advertencia**: `pulp` no permite sobreescribir restricciones, entonces, si ya creaste una restricción y quieres crearla de nuevo para corregir algo, asegúrate de volver a crear el modelo `problema` desde el principio (nosotros haremos esto antes de calificar, no te preocupes)."
   ]
  },
  {
   "cell_type": "markdown",
   "id": "aee47a2d",
   "metadata": {
    "id": "aee47a2d",
    "nbgrader": {
     "grade": false,
     "grade_id": "cell-a3e8ec52fde98bf1",
     "locked": true,
     "schema_version": 3,
     "solution": false,
     "task": false
    }
   },
   "source": [
    "**Pregunta 4 (10 puntos)**\n",
    "\n",
    "* Crea la siguiente restricción, asignale el nombre `'R1_'+str(<indice_del_para_todo>)` y añadela al modelo:\n",
    "\n",
    "> 1. Cada canal $i\\in I$ tiene un máximo posible de inversión estipulado $c_i$\n",
    ">> $x_i \\leq c_i ,\\; \\forall i\\in I$"
   ]
  },
  {
   "cell_type": "code",
   "execution_count": 119,
   "id": "3fec66d9",
   "metadata": {
    "id": "3fec66d9"
   },
   "outputs": [],
   "source": [
    "# Escribe tu código a continuación\n",
    "for i in I:\n",
    "  problema += x[i] <= c[i] , 'Restricción 1.1'+str(i)"
   ]
  },
  {
   "cell_type": "markdown",
   "id": "ed5aa7c0",
   "metadata": {
    "id": "ed5aa7c0",
    "nbgrader": {
     "grade": false,
     "grade_id": "cell-8a13e7da68561b27",
     "locked": true,
     "schema_version": 3,
     "solution": false,
     "task": false
    }
   },
   "source": [
    "**Pregunta 5 (10 puntos)**\n",
    "\n",
    "* Crea la siguiente restricción, asignale el nombre `'R2'` y añadela al modelo:\n",
    "\n",
    "> 2. El presupuesto global para la campaña es de $p$\n",
    ">> $\\sum_{i\\in I} x_i \\leq p$"
   ]
  },
  {
   "cell_type": "code",
   "execution_count": 125,
   "id": "90346298",
   "metadata": {
    "id": "90346298"
   },
   "outputs": [],
   "source": [
    "# Escribe tu código a continuación\n",
    "problema += lp.lpSum((x[i] for i in I)) <= p, 'R2.1.3'"
   ]
  },
  {
   "cell_type": "markdown",
   "id": "32ec4f07",
   "metadata": {
    "id": "32ec4f07",
    "nbgrader": {
     "grade": false,
     "grade_id": "cell-f2c67311dfa41b29",
     "locked": true,
     "schema_version": 3,
     "solution": false,
     "task": false
    }
   },
   "source": [
    "**Pregunta 6 (10 puntos)**\n",
    "\n",
    "* Crea la siguiente restricción, asignale el nombre `'R3'` y añadela al modelo:\n",
    "\n",
    "> 3. La inversión en las publicaciones promocionadas de Facebook debe seguir siendo superior a q (0.3) del total de inversión.\n",
    ">> $q*\\sum_{i\\in I}x_i \\leq x_{\\text{Facebook}}$"
   ]
  },
  {
   "cell_type": "code",
   "execution_count": 121,
   "id": "ca048f6e",
   "metadata": {
    "id": "ca048f6e"
   },
   "outputs": [],
   "source": [
    "# Escribe tu código a continuación\n",
    "problema += q * lp.lpSum((x[i] for i in I)) <= x['Facebook'], 'Restriccion 3.1'"
   ]
  },
  {
   "cell_type": "markdown",
   "id": "b59170dd",
   "metadata": {
    "id": "b59170dd",
    "nbgrader": {
     "grade": false,
     "grade_id": "cell-cf88d6c16a47eb99",
     "locked": true,
     "schema_version": 3,
     "solution": false,
     "task": false
    }
   },
   "source": [
    "### Invocar el optimizador\n",
    "\n",
    "Ahora que el modelo está listo, viene la mejor parte: ¡Correr el modelo! La celda a continuación se encarga de llamar al optimizador de `pulp` y guardar las soluciones del modelo (si llega a optimalidad). Más adelante extraeremos la solución y otras métricas de interés del objeto `problema` y del diccionario de variables `x`."
   ]
  },
  {
   "cell_type": "code",
   "execution_count": 126,
   "id": "4c572d58",
   "metadata": {
    "id": "4c572d58",
    "nbgrader": {
     "grade": false,
     "grade_id": "cell-60cd456296f18550",
     "locked": true,
     "schema_version": 3,
     "solution": false,
     "task": false
    },
    "scrolled": true
   },
   "outputs": [
    {
     "name": "stdout",
     "output_type": "stream",
     "text": [
      "Welcome to the CBC MILP Solver \n",
      "Version: 2.10.3 \n",
      "Build Date: Dec 15 2019 \n",
      "\n",
      "command line - /Users/santiagoromero/anaconda3/envs/Maestria/lib/python3.11/site-packages/pulp/solverdir/cbc/osx/64/cbc /var/folders/cw/dvczbrmn4d7g1pplvzvyvc2h0000gn/T/03a340f167fe4ed585480dd02219101c-pulp.mps max timeMode elapsed branch printingOptions all solution /var/folders/cw/dvczbrmn4d7g1pplvzvyvc2h0000gn/T/03a340f167fe4ed585480dd02219101c-pulp.sol (default strategy 1)\n",
      "At line 2 NAME          MODEL\n",
      "At line 3 ROWS\n",
      "At line 13 COLUMNS\n",
      "At line 39 RHS\n",
      "At line 48 BOUNDS\n",
      "At line 49 ENDATA\n",
      "Problem MODEL has 8 rows, 5 columns and 20 elements\n",
      "Coin0008I MODEL read with 0 errors\n",
      "Option for timeMode changed from cpu to elapsed\n",
      "Presolve 2 (-6) rows, 5 (0) columns and 10 (-10) elements\n",
      "0  Obj -0 Dual inf 17.399995 (5)\n",
      "3  Obj 38000\n",
      "Optimal - objective value 38000\n",
      "After Postsolve, objective 38000, infeasibilities - dual 0 (0), primal 0 (0)\n",
      "Optimal objective 38000 - 3 iterations time 0.002, Presolve 0.00\n",
      "Option for printingOptions changed from normal to all\n",
      "Total time (CPU seconds):       0.00   (Wallclock seconds):       0.02\n",
      "\n"
     ]
    },
    {
     "data": {
      "text/plain": [
       "1"
      ]
     },
     "execution_count": 126,
     "metadata": {},
     "output_type": "execute_result"
    }
   ],
   "source": [
    "# Escribe tu código a continuación\n",
    "problema.solve()"
   ]
  },
  {
   "cell_type": "markdown",
   "id": "decaabe1",
   "metadata": {
    "id": "decaabe1",
    "nbgrader": {
     "grade": false,
     "grade_id": "cell-85de9af009c8d08b",
     "locked": true,
     "schema_version": 3,
     "solution": false,
     "task": false
    }
   },
   "source": [
    "## Reporte de resultados\n",
    "---"
   ]
  },
  {
   "cell_type": "markdown",
   "id": "682d2f62",
   "metadata": {
    "id": "682d2f62",
    "nbgrader": {
     "grade": false,
     "grade_id": "cell-d285cb65f019906c",
     "locked": true,
     "schema_version": 3,
     "solution": false,
     "task": false
    }
   },
   "source": [
    "**Estado del optimizador, función objetivo y otros indicadores**\n",
    "\n",
    "A continuación puede evaluar la función objetivo óptima además de el estado del optimizador.\n",
    "> **Recuerda** que al finalizar de correr el modelo, `<modelo>.status` tomará un valor de 1, -1, -2 o -3, que hace referencia a algún estado del optmizador:\n",
    "*  0 $\\rightarrow$ Sin Resolver: No se ha usado `<modelo>.solve()`\n",
    "*  1 $\\rightarrow$ Óptimo\n",
    "* -1 $\\rightarrow$ Infactible\n",
    "* -2 $\\rightarrow$ No acotado\n",
    "* -3 $\\rightarrow$ Otros\n",
    "\n",
    "> **Recuerda** que `lp.LpStatus` es un diccionario en PuLP que tiene como llaves los `status` del optimizador (número) en `<modelo>.status`, y para cada `status` contiene el estado del optimizador en palabras.\n",
    "\n",
    "> **Recuerda** que puedes inspeccionar el contenido de `lp.LpStatus`, simplemente corriendolo en una celda\n",
    "\n",
    "> **Recuerda** que `<modelo>.objective` contiene la **expresión** de la función objetivo, sin embargo, para conocer el valor de la función objetivo se debe reemplazar los valores de las variables en la solución dentro de esta expresión. Por fortuna, PuLP tiene una función que hace justo eso: `lp.value(<expresion>)`.\n",
    "\n"
   ]
  },
  {
   "cell_type": "code",
   "execution_count": 123,
   "id": "7708d4ff",
   "metadata": {
    "id": "7708d4ff",
    "nbgrader": {
     "grade": false,
     "grade_id": "cell-41b32445d41ad53d",
     "locked": true,
     "schema_version": 3,
     "solution": false,
     "task": false
    }
   },
   "outputs": [
    {
     "name": "stdout",
     "output_type": "stream",
     "text": [
      "El incremento en ventas debido a la campaña es =  38000.0\n"
     ]
    }
   ],
   "source": [
    "print(\"El incremento en ventas debido a la campaña es = \", lp.value(problema.objective))"
   ]
  },
  {
   "cell_type": "markdown",
   "id": "2ae47e87",
   "metadata": {
    "id": "2ae47e87",
    "nbgrader": {
     "grade": false,
     "grade_id": "cell-39272c986afd53f0",
     "locked": true,
     "schema_version": 3,
     "solution": false,
     "task": false
    }
   },
   "source": [
    "**Pregunta 7 (5 puntos)**\n",
    "\n",
    "Crea un diccionario llamado `resultados`.\n",
    "Coloca como **llaves** los diferentes canales en el conjunto $I$.\n",
    "Coloca como **valores** la cantidad de dinero a invertir en cada canal.\n",
    "\n",
    "Por ejemplo, el primer registro del diccionario se ve así: `\"Facebook\": 3000.0`\n",
    "\n",
    ">**Recuerde** que las variables `LpVariable` se almacenaron en un diccionario llamado `x` el cual tiene como llave el índice (del conjunto $I$) de la variable y como valor el objeto tipo `LpVariable`.\n",
    "\n",
    ">**Recuerde** que para obtener el valor actual de un objeto tipo `LpVariable`  puede usar su método `LpVariable.value()`."
   ]
  },
  {
   "cell_type": "code",
   "execution_count": 112,
   "id": "6af01956",
   "metadata": {
    "id": "6af01956",
    "scrolled": true
   },
   "outputs": [
    {
     "name": "stdout",
     "output_type": "stream",
     "text": [
      "{'Facebook': 3000.0, 'YouTube': 4000.0, 'Twitter': 1000.0, 'TikTok': 2000.0, 'LinkedIn': 0.0}\n"
     ]
    }
   ],
   "source": [
    "# Escribe tu código a continuación\n",
    "resultados = {\n",
    "    \"Facebook\": lp.LpVariable.value(x[\"Facebook\"]),\n",
    "    \"YouTube\": lp.LpVariable.value(x[\"YouTube\"]),\n",
    "    \"Twitter\": lp.LpVariable.value(x[\"Twitter\"]),\n",
    "    \"TikTok\": lp.LpVariable.value(x[\"TikTok\"]),\n",
    "    \"LinkedIn\": lp.LpVariable.value(x[\"LinkedIn\"]), \n",
    "}\n",
    "\n",
    "print(resultados)"
   ]
  },
  {
   "cell_type": "markdown",
   "id": "cf18b1f0",
   "metadata": {
    "id": "cf18b1f0"
   },
   "source": [
    "**Pregunta 8 (5 puntos)**"
   ]
  },
  {
   "cell_type": "markdown",
   "id": "37e9c0c8",
   "metadata": {
    "id": "37e9c0c8"
   },
   "source": [
    "* Importa el paquete matplotlib.pyplot bajo el alias plt.\n",
    "* Crea una lista llamada `y` donde guardes los **valores** de la cantidad de dinero a invertir en cada canal.\n",
    "* Usa el conjunto $I$ y la lista `y` para graficar el resultado."
   ]
  },
  {
   "cell_type": "code",
   "execution_count": 102,
   "id": "cb59033c",
   "metadata": {
    "id": "cb59033c"
   },
   "outputs": [
    {
     "data": {
      "image/png": "[encoded data removed]",
      "text/plain": [
       "<Figure size 200x200 with 1 Axes>"
      ]
     },
     "metadata": {},
     "output_type": "display_data"
    }
   ],
   "source": [
    "# Escribe tu código a continuación\n",
    "import matplotlib.pyplot as plt\n",
    "y = []\n",
    "for i in I:\n",
    "    y.append(lp.LpVariable.value(x[i]))\n",
    "\n",
    "plt.bar(I,y)\n",
    "plt.title('Cantidad de USD a invertir por canal')\n",
    "plt.xlabel('Canal')\n",
    "plt.ylabel('USD')\n",
    "plt.show()"
   ]
  },
  {
   "cell_type": "markdown",
   "id": "35219812",
   "metadata": {
    "id": "35219812"
   },
   "source": [
    "**Pregunta 9 (10 puntos)**"
   ]
  },
  {
   "cell_type": "markdown",
   "id": "a0e8eb98",
   "metadata": {
    "id": "a0e8eb98"
   },
   "source": [
    "¿Qué recomendación le darías a la empresa? Prueba alguna variación del presupuesto, explica y concluye.\n",
    "> Responde en esta celda...\n",
    "El aumento en presupuesto significaría ampliar la capacidad máxima de uno o varios canales (aumentar por si solo el presupuesto total sin considerar los topes de cada canal no cambia el resultado final). El modelo actual consume la totalidad del presupuesto de USD 10.000. Si se observa la gráfica anterior, el canal cuya mayor inversión se realiza es Youtube. De igual forma, si se evalua el modelo en un analisis de sensibilidad el canal Youtube cuenta con el mayor precio sombra con un valor de 2. Es decir que por cada dolar invertido se recupera el doble del valor. Por tal motivo recomendaría realizar disponibilizar una mayor cantidad de dinero a invertir en el canal de Youtube. "
   ]
  },
  {
   "cell_type": "markdown",
   "id": "1662ea80",
   "metadata": {
    "id": "1662ea80",
    "nbgrader": {
     "grade": false,
     "grade_id": "cell-f1d532ceea5fd199",
     "locked": true,
     "schema_version": 3,
     "solution": false,
     "task": false
    }
   },
   "source": [
    "### Fin del laboratorio\n",
    "---\n",
    "Cuando hayas finalizado las preguntas, debes enviarlo por el enlace disponible en Bloque Neón (**Desde el Jueves 17 de Agosto 11:59 hasta Martes 22 de Agosto a las 11:59**).La nota del laboratorio y su retroalimentación se tendrá disponible en Bloque Neón.\n",
    "¡Muchos éxitos!"
   ]
  }
 ],
 "metadata": {
  "celltoolbar": "Create Assignment",
  "colab": {
   "provenance": []
  },
  "kernelspec": {
   "display_name": "Python 3 (ipykernel)",
   "language": "python",
   "name": "python3"
  },
  "language_info": {
   "codemirror_mode": {
    "name": "ipython",
    "version": 3
   },
   "file_extension": ".py",
   "mimetype": "text/x-python",
   "name": "python",
   "nbconvert_exporter": "python",
   "pygments_lexer": "ipython3",
   "version": "3.11.4"
  },
  "vscode": {
   "interpreter": {
    "hash": "5544ca7e420cf96ebd726875ce015f13cfa63b01ebbe2244b2ea143f11e8e99c"
   }
  }
 },
 "nbformat": 4,
 "nbformat_minor": 5
}
