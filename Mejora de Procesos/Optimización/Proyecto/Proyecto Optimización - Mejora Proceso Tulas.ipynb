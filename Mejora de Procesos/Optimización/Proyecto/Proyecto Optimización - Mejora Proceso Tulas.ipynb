{
 "cells": [
  {
   "cell_type": "markdown",
   "id": "IvdrJip_7uoG",
   "metadata": {
    "deletable": false,
    "editable": false,
    "id": "IvdrJip_7uoG",
    "nbgrader": {
     "cell_type": "markdown",
     "checksum": "043e549dfc5158374a3a7f5dcebdd233",
     "grade": false,
     "grade_id": "cell-e8fa9269aba80c31",
     "locked": true,
     "schema_version": 3,
     "solution": false,
     "task": false
    },
    "tags": []
   },
   "source": [
    "# Caso 6: optimización de un portafolio de servicios\n",
    "\n",
    "---\n",
    "## Maestría en Inteligencia Analítica para la Toma de Decisiones\n",
    "\n",
    "\n",
    "* **Profesor**:\n",
    "    * *Andrés Medaglia*\n",
    "* **Asistentes**:\n",
    "    * *Ariel Rojas*\n",
    "    * *Carlos Arroyo*"
   ]
  },
  {
   "cell_type": "markdown",
   "id": "gOvxPHcJ7uoN",
   "metadata": {
    "deletable": false,
    "editable": false,
    "id": "gOvxPHcJ7uoN",
    "nbgrader": {
     "cell_type": "markdown",
     "checksum": "486034a6c34d5a768a484ab69c7ec3a4",
     "grade": false,
     "grade_id": "cell-056812357650677f",
     "locked": true,
     "schema_version": 3,
     "solution": false,
     "task": false
    }
   },
   "source": [
    "## Instrucciones generales\n",
    "\n",
    "El primer paso antes de resolver este laboratorio es leer y entender el **enunciado del caso**. Una vez tengas claro el caso, te explicamos la estructura de este laboratorio (los demás laboratorios siguen una estrucutra similar).\n",
    "\n",
    "Este laboratorio tiene las siguientes secciones:\n",
    "* **Formulación**: un breve resumen del modelo con notación matemática y descripción de sus componentes\n",
    "* **Importación de librerías**\n",
    "* **Creación de parámetros**\n",
    "* **Modelado**\n",
    "* **Reporte de Resultados**\n",
    "\n",
    "Este tipo de actividades se evaluará sobre un total de 100 puntos. Las celdas calificables se distinguen por tener la instrucción `# your code here`. Antes de estas celdas  encontrarás instrucciones y consejos para resolver las preguntas, también el puntaje que le corresponde.\n",
    "\n",
    "Ten en cuenta que este laboratorio está divido en dos partes. En una primera parte (preguntas 1 a 5) se formulará un modelo matemático como hemos venido haciendo en el curso. En una segunda parte (preguntas 6 a 9) se resolverá el mismo problema usando una librería especializada (Google OR-Tools).  \n",
    "\n",
    "¡Éxitos!"
   ]
  },
  {
   "cell_type": "markdown",
   "id": "sUjamrYt7uoO",
   "metadata": {
    "deletable": false,
    "editable": false,
    "id": "sUjamrYt7uoO",
    "nbgrader": {
     "cell_type": "markdown",
     "checksum": "4e5b1b0432676eea0a9ae304d2c2eadc",
     "grade": false,
     "grade_id": "cell-9fbd2d9c824c07a3",
     "locked": true,
     "schema_version": 3,
     "solution": false,
     "task": false
    },
    "tags": []
   },
   "source": [
    "## Formulación\n",
    "---\n",
    "\n",
    "Te presentamos la formulación del caso de la semana de forma resumida. Te recomendamos revisar la formulación una vez hayas leído el enunciado del caso. Es bueno que te familiarices con los elementos de la formulación antes de iniciar la implementación.\n",
    "\n",
    "### Parámetros\n",
    ">#### **Conjuntos**\n",
    ">* $N$: conjunto de nodos (productos actuales, productos nuevos, nodo ficticio)\n",
    ">* $A$: conjunto de arcos (**ofertas de migración**: producto actual a nuevo, **conteo**: producto nuevo a nodo ficticio)\n",
    ">\n",
    ">#### **Parámetros**\n",
    ">* $b_{i} = \\begin{cases} a_i, & \\text{si } i \\in N \\text{ es producto actual: clientes activos en este producto}\n",
    "    \\\\ 0, & \\text{si } i \\in N \\text{ es producto nuevo}\n",
    "    \\\\ -\\sum_{i}a_i, & \\text{si } i \\in N \\text{ es nodo ficticio: total de ofertas a los clientes en todos los productos} \\end{cases}$\n",
    ">\n",
    ">* $c_{ij} = \\begin{cases} p_{ij}r_{ij}, & \\text{si } (i,j) \\in A \\text{ es arco de producto actual a nuevo: (probabilidad de migración)*(incremento del cargo mensual)}\n",
    "    \\\\ 0, & \\text{si } (i,j) \\in A \\text{ es arco de producto nuevo a nodo ficticio} \\end{cases}$\n",
    ">\n",
    ">* $u_{ij} = \\begin{cases} \\infty, & \\text{si } (i,j) \\in A \\text{ es arco de producto actual a producto nuevo: no hay límite supuerior}\n",
    "    \\\\ 25000, & \\text{si } (i,j) \\in A \\text{ es arco de producto nuevo a nodo ficticio} \\end{cases}$\n",
    "\n",
    "### Variables de Decisión\n",
    ">* $x_{ij} = \\begin{cases} \\text{cantidad de clientes que se les ofrece migrar de } i \\in N \\text{ a } j \\in N, & \\text{si } (i,j) \\in A \\text{ es arco de producto actual a nuevo}\n",
    "    \\\\ \\text{total de clientes que se les ofrece migrar hacia el nuevo } i \\in N, & \\text{si } (i,j) \\in A \\text{ es arco de producto nuevo al nodo ficticio} \\end{cases}$\n",
    "    \n",
    "### Restricciones\n",
    "> 1. **Restricciones de balance**: las unidades que salgan de un nodo menos las unidades que entren al mismo deben ser iguales al parámetro $b_i$ de dicho nodo. En términos del problema, a todos los clientes, según sus productos actuales, se les deben hacer una oferta hacia los productos nuevos. Luego, las ofertas para los productos nuevos deben fluir hacia el nodo ficticio que se asegura que haya una oferta para todos los clientes.\n",
    ">> `# Para desarrollo del estudiante`\n",
    ":\n",
    "> 2. **Restricciones de cota**: las ofertas de migración a los nuevos productos no pueden superar el tope permitido.\n",
    ">> `# Para desarrollo del estudiante`\n",
    ">\n",
    "> 3. **Naturaleza de las variables**\n",
    ">> `# Para desarrollo del estudiante`\n",
    "\n",
    "> **Advertencia**: para esta primera formulación (Preguntas 1 a 5) se sigue la convención vista en el vídeo teórico para la oferta/demanda de cada nodo:\n",
    "\n",
    "> $b_{i} = \\begin{cases} > 0, & \\text{si } i \\in N \\text{ es un nodo de oferta}\n",
    "    \\\\ 0, & \\text{si } i \\in N \\text{ es un nodo de transbordo}\n",
    "    \\\\ < 0, & \\text{si } i \\in N \\text{ es un nodo de demanda} \\end{cases}$\n",
    "\n",
    "> Ten en cuenta que esta convención cambia en la segunda parte del laboratorio (Preguntas 6 a 9) debido a que usamos una librería especializada (Google OR-Tools). Más adelante, encontrarás una advertencia sobre este cambio (Pregunta 8).\n",
    "\n",
    "### Función Objetivo\n",
    "> Maximizar el incremento mensual total estimado luego de ofrecer las migraciones de productos a los clientes.\n",
    ">> `# Para desarrollo del estudiante`\n"
   ]
  },
  {
   "cell_type": "markdown",
   "id": "rytVUBFo7uoP",
   "metadata": {
    "deletable": false,
    "editable": false,
    "id": "rytVUBFo7uoP",
    "nbgrader": {
     "cell_type": "markdown",
     "checksum": "da51c557e0cf617f778b8cbac07676eb",
     "grade": false,
     "grade_id": "cell-db31881de45215f2",
     "locked": true,
     "schema_version": 3,
     "solution": false,
     "task": false
    },
    "tags": []
   },
   "source": [
    "## Importación de librerías\n",
    "---\n",
    "En esta práctica usaremos:\n",
    "* El paquete `pulp` permite crear modelos de optimización, crear variables, añadir restricciones y muchos más. Le asignamos el alias de `lp`.\n",
    "* El paquete `pandas` es muy útil para el análisis de datos en general. Le asignamos el alias de `pd`.\n"
   ]
  },
  {
   "cell_type": "code",
   "execution_count": null,
   "id": "aCsljgbU7uoP",
   "metadata": {
    "id": "aCsljgbU7uoP"
   },
   "outputs": [],
   "source": [
    "import pandas as pd\n",
    "import pulp as lp"
   ]
  },
  {
   "cell_type": "markdown",
   "id": "BNbRjV3k7uoQ",
   "metadata": {
    "deletable": false,
    "editable": false,
    "id": "BNbRjV3k7uoQ",
    "nbgrader": {
     "cell_type": "markdown",
     "checksum": "78a7bd81ac2577cc9406e7d6732b278e",
     "grade": false,
     "grade_id": "cell-685b1f71ce44c0b0",
     "locked": true,
     "schema_version": 3,
     "solution": false,
     "task": false
    },
    "tags": []
   },
   "source": [
    "## Creación de parámetros\n",
    "---\n",
    "\n",
    "Los datos que necesitamos para esta práctica se encuentran disponibles en el archivo `Soporte Caso 7.xlsx`. Ya se han procesado los datos del enunciado para tener la información en términos de **arcos** y **nodos**.\n",
    "\n",
    "Es **muy importante** resaltar cómo se manejaron las condiciones sobre las migraciones:\n",
    "* No se puede realizar ofertas de migración a productos con menos minutos\n",
    "* No se puede realizar ofertas de migración a productos con menor navegación\n",
    "* No se puede realizar ofertas de migración a productos con menor cargo mensual\n",
    "\n",
    "Puesto que el problema se formuló como una red, la forma más natural de cumplir estas condiciones es **eliminando los arcos** de aquellas migraciones que incumplan alguna de las condiciones. Esto es una práctica común cuando se hace formulación en redes y se hace durante la preparación de los datos, antes de resolver el modelo de optimización."
   ]
  },
  {
   "cell_type": "markdown",
   "id": "oYzgxzeB7uoR",
   "metadata": {
    "deletable": false,
    "editable": false,
    "id": "oYzgxzeB7uoR",
    "nbgrader": {
     "cell_type": "markdown",
     "checksum": "0b3e496ba0b46234189bc494119d7d94",
     "grade": false,
     "grade_id": "cell-139d636ca944c8b1",
     "locked": true,
     "schema_version": 3,
     "solution": false,
     "task": false
    },
    "tags": []
   },
   "source": [
    "### Lectura del archivo de soporte\n",
    "\n",
    "Importamos las hojas `Arcos` y `Nodos` del archivo `Soporte Caso 7.xlsx`, donde encontraremos los atributos que definimos en la formulación.\n",
    "\n",
    "Estas hojas son importadas como objetos `DataFrame` de `pandas`"
   ]
  },
  {
   "cell_type": "code",
   "execution_count": null,
   "id": "qkmy5s5Y7uoR",
   "metadata": {
    "deletable": false,
    "editable": false,
    "id": "qkmy5s5Y7uoR",
    "nbgrader": {
     "cell_type": "code",
     "checksum": "35e9a86bccc163670cc4ff3bd183f0d2",
     "grade": false,
     "grade_id": "cell-0d3ecf4a25b35eef",
     "locked": true,
     "schema_version": 3,
     "solution": false,
     "task": false
    },
    "tags": []
   },
   "outputs": [],
   "source": [
    "archivo = \"Soporte Caso 6.xlsx\"\n",
    "arcos = pd.read_excel(io=archivo, sheet_name=\"Arcos\")\n",
    "nodos = pd.read_excel(io=archivo, sheet_name=\"Nodos\")"
   ]
  },
  {
   "cell_type": "markdown",
   "id": "43jNN6Xh7uoS",
   "metadata": {
    "deletable": false,
    "editable": false,
    "id": "43jNN6Xh7uoS",
    "nbgrader": {
     "cell_type": "markdown",
     "checksum": "a2cd6e93466836edab688ee9910ef8dc",
     "grade": false,
     "grade_id": "cell-139d636ca944c8b5",
     "locked": true,
     "schema_version": 3,
     "solution": false,
     "task": false
    },
    "tags": []
   },
   "source": [
    "### Procesamiento de archivos de soporte\n",
    "\n",
    "En este paso, se crean los **Conjuntos** y **Parámetros** que se encuentran en los archivos de soporte.\n",
    "\n",
    "Cabe aclarar que los parámetros $c_{ij}$ ya contienen la multiplicación de las probabilidades $p_{ij}$ por la diferencia de cargos mensuales $r_{ij}$"
   ]
  },
  {
   "cell_type": "code",
   "execution_count": null,
   "id": "ALMGxDZ-7uoT",
   "metadata": {
    "deletable": false,
    "editable": false,
    "id": "ALMGxDZ-7uoT",
    "nbgrader": {
     "cell_type": "code",
     "checksum": "67b7816731c64874bafd93af8eee5dd3",
     "grade": false,
     "grade_id": "cell-844568c2d799a0b5",
     "locked": true,
     "schema_version": 3,
     "solution": false,
     "task": false
    }
   },
   "outputs": [],
   "source": [
    "# Nodos del grafo\n",
    "Nodos = list(nodos.i)\n",
    "\n",
    "# Arcos del grafo\n",
    "Arcos = [(str(row.i), row.j) for _, row in arcos.iterrows()]\n",
    "\n",
    "# Demanda/oferta de cada nodo\n",
    "b = {str(row.i): row.b for _, row in nodos.iterrows()}\n",
    "\n",
    "# Costo de cada arco\n",
    "c = {(str(row.i), row.j): round(row.c, 2) for _, row in arcos.iterrows()}\n",
    "\n",
    "# Flujo máximo de cada arco\n",
    "u = {(str(row.i), row.j): row.u for _, row in arcos.iterrows()}"
   ]
  },
  {
   "cell_type": "markdown",
   "id": "pEpvm-sf7uoU",
   "metadata": {
    "deletable": false,
    "editable": false,
    "id": "pEpvm-sf7uoU",
    "nbgrader": {
     "cell_type": "markdown",
     "checksum": "009575ea03143cde1dab01eaa1ec01e8",
     "grade": false,
     "grade_id": "cell-587d11a8eb6313b7",
     "locked": true,
     "schema_version": 3,
     "solution": false,
     "task": false
    }
   },
   "source": [
    "**Celda de prueba (0 puntos)**\n",
    "\n",
    "Es una buena práctica imprimir algunos objetos que contienen los parámetros en la consola luego de crearlos. De esta forma puedes corregir errores y familiarizarte con las estrucutras de datos que se van a utilizar. Puedes hacer estas pruebas en la celda a continuación.\n",
    "\n",
    "* **Esta celda no es calificable**"
   ]
  },
  {
   "cell_type": "code",
   "execution_count": null,
   "id": "JbNfDdXq7uoU",
   "metadata": {
    "id": "JbNfDdXq7uoU"
   },
   "outputs": [],
   "source": [
    "# Aquí puedes explorar los parámetros\n"
   ]
  },
  {
   "cell_type": "markdown",
   "id": "_vkUcX_S7uoU",
   "metadata": {
    "deletable": false,
    "editable": false,
    "id": "_vkUcX_S7uoU",
    "nbgrader": {
     "cell_type": "markdown",
     "checksum": "c4dd3c4455cf458fb1ea62d106d31f22",
     "grade": false,
     "grade_id": "cell-6a54ae7e4899ef1",
     "locked": true,
     "schema_version": 3,
     "solution": false,
     "task": false
    },
    "tags": []
   },
   "source": [
    "## Modelado\n",
    "---"
   ]
  },
  {
   "cell_type": "markdown",
   "id": "MToEevIE7uoU",
   "metadata": {
    "deletable": false,
    "editable": false,
    "id": "MToEevIE7uoU",
    "nbgrader": {
     "cell_type": "markdown",
     "checksum": "32046f7ed4b359dfe697449072da98c0",
     "grade": false,
     "grade_id": "cell-ebebd9c7c932a295",
     "locked": true,
     "schema_version": 3,
     "solution": false,
     "task": false
    }
   },
   "source": [
    "### Declaración del modelo"
   ]
  },
  {
   "cell_type": "markdown",
   "id": "gIxqr9sa7uoU",
   "metadata": {
    "deletable": false,
    "editable": false,
    "id": "gIxqr9sa7uoU",
    "nbgrader": {
     "cell_type": "markdown",
     "checksum": "f6383c5e4234ae66b804cff6a0647716",
     "grade": false,
     "grade_id": "cell-8516e22fa27f2003",
     "locked": true,
     "schema_version": 3,
     "solution": false,
     "task": false
    }
   },
   "source": [
    "**Pregunta 1 (5 puntos)**\n",
    "* Crea un objeto modelo en PuLP (`lp.LpProblem`) llamado `problema`\n",
    "* Indica el sentido de la optimización: maximizar o minimizar"
   ]
  },
  {
   "cell_type": "code",
   "execution_count": null,
   "id": "KPyh1Kp-7uoV",
   "metadata": {
    "deletable": false,
    "id": "KPyh1Kp-7uoV",
    "nbgrader": {
     "cell_type": "code",
     "checksum": "b0c527e786c9bac2249441df0284c7b2",
     "grade": false,
     "grade_id": "cell-fd80958f29b1ce79",
     "locked": false,
     "schema_version": 3,
     "solution": true,
     "task": false
    }
   },
   "outputs": [],
   "source": [
    "# your code here\n"
   ]
  },
  {
   "cell_type": "code",
   "execution_count": null,
   "id": "nQfAPwL_7uoV",
   "metadata": {
    "deletable": false,
    "editable": false,
    "id": "nQfAPwL_7uoV",
    "nbgrader": {
     "cell_type": "code",
     "checksum": "11018fa5e7c097ac3fa7a123027be203",
     "grade": true,
     "grade_id": "cell-9416bada00deeca6",
     "locked": true,
     "points": 5,
     "schema_version": 3,
     "solution": false,
     "task": false
    }
   },
   "outputs": [],
   "source": [
    "# Esta celda esta reservada para uso del equipo docente"
   ]
  },
  {
   "cell_type": "code",
   "execution_count": null,
   "id": "otl0Hmf_7uoV",
   "metadata": {
    "deletable": false,
    "editable": false,
    "id": "otl0Hmf_7uoV",
    "nbgrader": {
     "cell_type": "code",
     "checksum": "595a40a1b0472a9f42fccfcdb2ba8840",
     "grade": true,
     "grade_id": "cell-c803ed9be70b93f5",
     "locked": true,
     "points": 0,
     "schema_version": 3,
     "solution": false,
     "task": false
    }
   },
   "outputs": [],
   "source": [
    "# Esta celda esta reservada para uso del equipo docente"
   ]
  },
  {
   "cell_type": "markdown",
   "id": "BzJDihL87uoV",
   "metadata": {
    "deletable": false,
    "editable": false,
    "id": "BzJDihL87uoV",
    "nbgrader": {
     "cell_type": "markdown",
     "checksum": "aca0fe7a82e0fc983e3ad4939e33245b",
     "grade": false,
     "grade_id": "cell-032e2c76bf498b03",
     "locked": true,
     "schema_version": 3,
     "solution": false,
     "task": false
    }
   },
   "source": [
    "### Variables de decisión\n",
    "`# Para desarrollo del estudiante`"
   ]
  },
  {
   "cell_type": "markdown",
   "id": "8rYZpGOi7uoV",
   "metadata": {
    "deletable": false,
    "editable": false,
    "id": "8rYZpGOi7uoV",
    "nbgrader": {
     "cell_type": "markdown",
     "checksum": "0c7313a4347373e0ca50702d69c616ec",
     "grade": false,
     "grade_id": "cell-f65f0518e0ed7f83",
     "locked": true,
     "schema_version": 3,
     "solution": false,
     "task": false
    }
   },
   "source": [
    "**Pregunta 2 (10 puntos)**\n",
    "* Crea las variables del modelo: `x`, usando el método `lp.LpVariable.dicts()`\n",
    "* Especifica el nombre de la variable como `'flujo'` con el argumento `name`\n",
    "* Especifica los índices de las variables con el argumento `indexs`\n",
    "* Especifica el tipo de variable con el argumento `cat`\n",
    "* Especifica la cota inferior de las variables en 0"
   ]
  },
  {
   "cell_type": "code",
   "execution_count": null,
   "id": "Ymgt0RGq7uoV",
   "metadata": {
    "deletable": false,
    "id": "Ymgt0RGq7uoV",
    "nbgrader": {
     "cell_type": "code",
     "checksum": "ab5e00ae238ee7447e922f50d4ab63da",
     "grade": false,
     "grade_id": "cell-99a591a1d53d748a",
     "locked": false,
     "schema_version": 3,
     "solution": true,
     "task": false
    }
   },
   "outputs": [],
   "source": [
    "# your code here\n"
   ]
  },
  {
   "cell_type": "code",
   "execution_count": null,
   "id": "QMky-qJH7uoW",
   "metadata": {
    "deletable": false,
    "editable": false,
    "id": "QMky-qJH7uoW",
    "nbgrader": {
     "cell_type": "code",
     "checksum": "b0409a1d5b66b103d914b1415e3c0638",
     "grade": true,
     "grade_id": "cell-9466bada00deeca6",
     "locked": true,
     "points": 10,
     "schema_version": 3,
     "solution": false,
     "task": false
    }
   },
   "outputs": [],
   "source": [
    "# Esta celda esta reservada para uso del equipo docente"
   ]
  },
  {
   "cell_type": "code",
   "execution_count": null,
   "id": "lG4bLApM7uoW",
   "metadata": {
    "deletable": false,
    "editable": false,
    "id": "lG4bLApM7uoW",
    "nbgrader": {
     "cell_type": "code",
     "checksum": "64d543c6ce6e6cae036f16ea633e6a12",
     "grade": true,
     "grade_id": "cell-be539dab72a2d6cc",
     "locked": true,
     "points": 0,
     "schema_version": 3,
     "solution": false,
     "task": false
    }
   },
   "outputs": [],
   "source": [
    "# Esta celda esta reservada para uso del equipo docente"
   ]
  },
  {
   "cell_type": "markdown",
   "id": "8-tP3gfs7uoW",
   "metadata": {
    "deletable": false,
    "editable": false,
    "id": "8-tP3gfs7uoW",
    "nbgrader": {
     "cell_type": "markdown",
     "checksum": "5d1292af3dbc0addb5514a6b7d6ce9e3",
     "grade": false,
     "grade_id": "cell-747431c6a3556e72",
     "locked": true,
     "schema_version": 3,
     "solution": false,
     "task": false
    }
   },
   "source": [
    "### Función Objetivo\n",
    "\n",
    "> Maximizar el incremento mensual total esperado luego de ofrecer las migraciones de productos a los clientes.\n",
    ">> `# Para desarrollo del estudiante`"
   ]
  },
  {
   "cell_type": "markdown",
   "id": "K4y_Rklo7uoW",
   "metadata": {
    "deletable": false,
    "editable": false,
    "id": "K4y_Rklo7uoW",
    "nbgrader": {
     "cell_type": "markdown",
     "checksum": "558a484681703d7e536a8be14fcaaf0c",
     "grade": false,
     "grade_id": "cell-b64840b7a4a8e5db",
     "locked": true,
     "schema_version": 3,
     "solution": false,
     "task": false
    }
   },
   "source": [
    "**Pregunta 3 (10 puntos)**\n",
    "* Crea la función objetivo y agrégala al modelo `problema`"
   ]
  },
  {
   "cell_type": "code",
   "execution_count": null,
   "id": "lQkCYXl17uoX",
   "metadata": {
    "deletable": false,
    "id": "lQkCYXl17uoX",
    "nbgrader": {
     "cell_type": "code",
     "checksum": "8bb6f72a8c91aae0e34791c37280a20d",
     "grade": false,
     "grade_id": "cell-f5b0b482a6b58e84",
     "locked": false,
     "schema_version": 3,
     "solution": true,
     "task": false
    }
   },
   "outputs": [],
   "source": [
    "# your code here\n"
   ]
  },
  {
   "cell_type": "code",
   "execution_count": null,
   "id": "NrtK9w-G7uoX",
   "metadata": {
    "deletable": false,
    "editable": false,
    "id": "NrtK9w-G7uoX",
    "nbgrader": {
     "cell_type": "code",
     "checksum": "58b7787bd9e9fb5bb657d8fa4150fa8b",
     "grade": true,
     "grade_id": "cell-b515915c40556735",
     "locked": true,
     "points": 10,
     "schema_version": 3,
     "solution": false,
     "task": false
    }
   },
   "outputs": [],
   "source": [
    "# Esta celda esta reservada para uso del equipo docente"
   ]
  },
  {
   "cell_type": "code",
   "execution_count": null,
   "id": "h_SAzyFJ7uoX",
   "metadata": {
    "deletable": false,
    "editable": false,
    "id": "h_SAzyFJ7uoX",
    "nbgrader": {
     "cell_type": "code",
     "checksum": "06b793dae99e11f47e6c9da2acddadba",
     "grade": true,
     "grade_id": "cell-50cee558e7e712cc",
     "locked": true,
     "points": 0,
     "schema_version": 3,
     "solution": false,
     "task": false
    }
   },
   "outputs": [],
   "source": [
    "# Esta celda esta reservada para uso del equipo docente"
   ]
  },
  {
   "cell_type": "markdown",
   "id": "TP50r0GG7uoX",
   "metadata": {
    "deletable": false,
    "editable": false,
    "id": "TP50r0GG7uoX",
    "nbgrader": {
     "cell_type": "markdown",
     "checksum": "a3806f913035d2abb4ab5ac2c190e585",
     "grade": false,
     "grade_id": "cell-d6fa9f15b71fb4ce",
     "locked": true,
     "schema_version": 3,
     "solution": false,
     "task": false
    }
   },
   "source": [
    "### Restricciones\n",
    "\n",
    "____\n",
    "**Ejemplo**\n",
    "> La siguiente restricción: $\\sum_{i \\in I} a_{ij} x_{ij} \\geq 1, \\; \\forall j \\in J$ es equivalente a:\n",
    ">    * `for j in J:`\n",
    ">        * `model += lp.lpSum(a[i,j]*x[i,j] for i in I) >= 1, 'R1_'+str(j)`\n",
    "    \n",
    "**Advertencia**: En `pulp` no es recomendable sobreescribir restricciones, entonces, si ya creaste una restricción y quieres crearla de nuevo para corregir algo, asegúrate de volver a crear el modelo `problema` desde el principio. (Nosotros haremos esto antes de calificar, no te preocupes)"
   ]
  },
  {
   "cell_type": "markdown",
   "id": "OFvcse6L7uoY",
   "metadata": {
    "deletable": false,
    "editable": false,
    "id": "OFvcse6L7uoY",
    "nbgrader": {
     "cell_type": "markdown",
     "checksum": "9e581afa57369015235fd67204a35ea7",
     "grade": false,
     "grade_id": "cell-86c8f6a10453dfdb",
     "locked": true,
     "schema_version": 3,
     "solution": false,
     "task": false
    }
   },
   "source": [
    "**Pregunta 4 (20 puntos)**\n",
    "\n",
    "* Crea la siguiente restricción, asígnale el nombre `'R1_'+str(<indice_del_para_todo>)` y añádela al modelo:\n",
    "\n",
    "> 1. **Restricciones de balance**: las unidades que salgan de un nodo menos las unidades que entren al mismo deben ser iguales al parámetro $b_i$ de dicho nodo. En términos del problema, a todos los clientes, según sus productos actuales, se les deben hacer una oferta hacia los productos nuevos. Luego, las ofertas para los productos nuevos deben fluir hacia el nodo ficticio que se asegura que haya una oferta para todos los clientes.\n",
    ">> `# Para desarrollo del estudiante`\n",
    "\n",
    "* **Nota**: La creación de estas restricciones puede tomar algunos segundos\n",
    "\n",
    "* **Advertencia**: para esta primera formulación (Preguntas 1 a 5) se sigue la convención vista en el vídeo teórico para la oferta/demanda de cada nodo:\n",
    "\n",
    "> $b_{i} = \\begin{cases} > 0, & \\text{si } i \\in N \\text{ es un nodo de oferta}\n",
    "    \\\\ 0, & \\text{si } i \\in N \\text{ es un nodo de transbordo}\n",
    "    \\\\ < 0, & \\text{si } i \\in N \\text{ es un nodo de demanda} \\end{cases}$\n",
    "\n",
    "> Ten en cuenta que esta convención cambia en la segunda parte del laboratorio (Preguntas 6 a 9) debido a que usamos una librería especializada (Google OR-Tools). Más adelante, encontrarás una advertencia sobre este cambio (Pregunta 8)."
   ]
  },
  {
   "cell_type": "code",
   "execution_count": null,
   "id": "WNsjjykr7uoY",
   "metadata": {
    "deletable": false,
    "id": "WNsjjykr7uoY",
    "nbgrader": {
     "cell_type": "code",
     "checksum": "24246b7124defa857e6c60fd7178cc66",
     "grade": false,
     "grade_id": "cell-4a354a29e40b7fa1",
     "locked": false,
     "schema_version": 3,
     "solution": true,
     "task": false
    }
   },
   "outputs": [],
   "source": [
    "# your code here\n"
   ]
  },
  {
   "cell_type": "code",
   "execution_count": null,
   "id": "9AsS06-i7uoZ",
   "metadata": {
    "deletable": false,
    "editable": false,
    "id": "9AsS06-i7uoZ",
    "nbgrader": {
     "cell_type": "code",
     "checksum": "29b930e5870e8ffa88944b2619069444",
     "grade": true,
     "grade_id": "cell-0a9abc8dc51352eb",
     "locked": true,
     "points": 20,
     "schema_version": 3,
     "solution": false,
     "task": false
    }
   },
   "outputs": [],
   "source": [
    "# Esta celda esta reservada para uso del equipo docente"
   ]
  },
  {
   "cell_type": "markdown",
   "id": "08kFdI8E7uoZ",
   "metadata": {
    "deletable": false,
    "editable": false,
    "id": "08kFdI8E7uoZ",
    "nbgrader": {
     "cell_type": "markdown",
     "checksum": "d9f7b1a28bcf4091f98109470fd76193",
     "grade": false,
     "grade_id": "cell-96fe008cf9b06b73",
     "locked": true,
     "schema_version": 3,
     "solution": false,
     "task": false
    }
   },
   "source": [
    "**Pregunta 5 (5 puntos)**\n",
    "\n",
    "* Crea la siguiente restricción, asígnale el nombre `'R2_'+str(<indice_del_para_todo>)` y añádela al modelo:\n",
    "\n",
    "> 2. **Restricciones de cota**: las ofertas de migración a los nuevos productos no pueden superar el tope permitido.\n",
    ">> `# Para desarrollo del estudiante`\n",
    "\n",
    "**Nota:** en caso de usar arcos, no debes concatenar el origen y el destino. Trata el par $(i, j)$ como un único índice."
   ]
  },
  {
   "cell_type": "code",
   "execution_count": null,
   "id": "G3Y8v8V97uoZ",
   "metadata": {
    "deletable": false,
    "id": "G3Y8v8V97uoZ",
    "nbgrader": {
     "cell_type": "code",
     "checksum": "7c849b672d951ca5591d7af73c5d2f0c",
     "grade": false,
     "grade_id": "cell-ad150714164588cc",
     "locked": false,
     "schema_version": 3,
     "solution": true,
     "task": false
    }
   },
   "outputs": [],
   "source": [
    "# your code here\n"
   ]
  },
  {
   "cell_type": "code",
   "execution_count": null,
   "id": "jTwx4qxy7uoa",
   "metadata": {
    "deletable": false,
    "editable": false,
    "id": "jTwx4qxy7uoa",
    "nbgrader": {
     "cell_type": "code",
     "checksum": "c1d7deee455ac9a9c9261106cb4d0d9b",
     "grade": true,
     "grade_id": "cell-e59fa24cb6763298",
     "locked": true,
     "points": 5,
     "schema_version": 3,
     "solution": false,
     "task": false
    }
   },
   "outputs": [],
   "source": [
    "# Esta celda esta reservada para uso del equipo docente"
   ]
  },
  {
   "cell_type": "code",
   "execution_count": null,
   "id": "YNWqvqFm7uoa",
   "metadata": {
    "deletable": false,
    "editable": false,
    "id": "YNWqvqFm7uoa",
    "nbgrader": {
     "cell_type": "code",
     "checksum": "04327b129ede6156537a6f50dedace88",
     "grade": true,
     "grade_id": "cell-852cae9567dbdf14",
     "locked": true,
     "points": 0,
     "schema_version": 3,
     "solution": false,
     "task": false
    }
   },
   "outputs": [],
   "source": [
    "# Esta celda esta reservada para uso del equipo docente"
   ]
  },
  {
   "cell_type": "markdown",
   "id": "GRYuhDes7uoa",
   "metadata": {
    "deletable": false,
    "editable": false,
    "id": "GRYuhDes7uoa",
    "nbgrader": {
     "cell_type": "markdown",
     "checksum": "a729e898b79c4dd67605738555ce62bb",
     "grade": false,
     "grade_id": "cell-31445d212bcb279b",
     "locked": true,
     "schema_version": 3,
     "solution": false,
     "task": false
    }
   },
   "source": [
    "### Invocar el optimizador\n",
    "\n",
    "El modelo puede tomar algunos segundos en correr.\n",
    "Cabe resaltar que, a pesar de haber definido las variables como continuas, dada la estructura de red de la formulación y los parámetros enteros del problema ($b_i,u_{ij}$), podemos esperar soluciones enteras sin necesidad de recurrir a *Branch & Bound*! El modelo correrá en muy poco tiempo."
   ]
  },
  {
   "cell_type": "code",
   "execution_count": null,
   "id": "Hn5eSThb7uoa",
   "metadata": {
    "deletable": false,
    "editable": false,
    "id": "Hn5eSThb7uoa",
    "nbgrader": {
     "cell_type": "code",
     "checksum": "2eefbb4a03abf809cc80f715fcf64b7d",
     "grade": false,
     "grade_id": "cell-b924c09dcdd338ad",
     "locked": true,
     "schema_version": 3,
     "solution": false,
     "task": false
    }
   },
   "outputs": [],
   "source": [
    "print(lp.LpStatus[problema.solve()])"
   ]
  },
  {
   "cell_type": "markdown",
   "id": "8KLL1_kQ7uoa",
   "metadata": {
    "deletable": false,
    "editable": false,
    "id": "8KLL1_kQ7uoa",
    "nbgrader": {
     "cell_type": "markdown",
     "checksum": "6ce17df280f160726c71dc94accbf45b",
     "grade": false,
     "grade_id": "cell-b1766f2e759f8b12",
     "locked": true,
     "schema_version": 3,
     "solution": false,
     "task": false
    },
    "tags": []
   },
   "source": [
    "## Reporte de resultados\n",
    "---"
   ]
  },
  {
   "cell_type": "markdown",
   "id": "6DuZODKO7uol",
   "metadata": {
    "deletable": false,
    "editable": false,
    "id": "6DuZODKO7uol",
    "nbgrader": {
     "cell_type": "markdown",
     "checksum": "020fe0fe7b3b1c51e3adca8b2953eb9d",
     "grade": false,
     "grade_id": "cell-1422f3d782be0722",
     "locked": true,
     "schema_version": 3,
     "solution": false,
     "task": false
    }
   },
   "source": [
    "**Función objetivo**"
   ]
  },
  {
   "cell_type": "code",
   "execution_count": null,
   "id": "qyGdLCdC7uol",
   "metadata": {
    "deletable": false,
    "editable": false,
    "id": "qyGdLCdC7uol",
    "nbgrader": {
     "cell_type": "code",
     "checksum": "385ee6bcc18aa784f5f4e17023cbd060",
     "grade": false,
     "grade_id": "cell-183da130dfd9a1ed",
     "locked": true,
     "schema_version": 3,
     "solution": false,
     "task": false
    }
   },
   "outputs": [],
   "source": [
    "obj = lp.value(problema.objective)\n",
    "print(f\"\\nIngreso Adicional Mensual Esperado = {obj / 1e6: .3f} Millones de USD\")"
   ]
  },
  {
   "cell_type": "markdown",
   "id": "GNxJ3SNN7uom",
   "metadata": {
    "deletable": false,
    "editable": false,
    "id": "GNxJ3SNN7uom",
    "nbgrader": {
     "cell_type": "markdown",
     "checksum": "9b6f6f7a0f5fcdd5b642c4ba9afd290a",
     "grade": false,
     "grade_id": "cell-a555aa82ea3aa20c",
     "locked": true,
     "schema_version": 3,
     "solution": false,
     "task": false
    }
   },
   "source": [
    "**Número total de ofertas para cada producto del nuevo portafolio**"
   ]
  },
  {
   "cell_type": "code",
   "execution_count": null,
   "id": "9lqk4Zhz7uom",
   "metadata": {
    "deletable": false,
    "editable": false,
    "id": "9lqk4Zhz7uom",
    "nbgrader": {
     "cell_type": "code",
     "checksum": "809d41e036d6ad898adcc7d1b031964b",
     "grade": false,
     "grade_id": "cell-372f8a04f0dd45d7",
     "locked": true,
     "schema_version": 3,
     "solution": false,
     "task": false
    },
    "tags": []
   },
   "outputs": [],
   "source": [
    "total = {}\n",
    "for i in Nodos:\n",
    "    if i[-1] == \"_\":\n",
    "        val = x[i, \"Total\"].value()\n",
    "        total[i, \"Total\"] = val\n",
    "        print(f\"Producto {i} -> {val}\")"
   ]
  },
  {
   "cell_type": "markdown",
   "id": "hjUWVQ977uom",
   "metadata": {
    "deletable": false,
    "editable": false,
    "id": "hjUWVQ977uom",
    "nbgrader": {
     "cell_type": "markdown",
     "checksum": "e54b08d06d00365a5e7c3df723819f26",
     "grade": false,
     "grade_id": "cell-0254q0b1f475a1b0",
     "locked": true,
     "schema_version": 3,
     "solution": false,
     "task": false
    }
   },
   "source": [
    "**Ofertas a los clientes de los productos actuales**\n",
    "\n",
    "En el siguiente `DataFrame` se pueden consultar las ofertas que se hacen a los clientes de cada producto.\n",
    "En las **filas** se tienen los productos actuales y en las **columnas** se tienen los productos del nuevo portafolio.\n",
    "Cada celda puede ser:\n",
    "* `<int>`: El número indica la cantidad de ofertas del producto actual (fila) para migrar al producto del nuevo portafolio (columna)\n",
    "* `-`: Significa que no se hacen ofertas para esta migración (toma valor de $0$)\n",
    "* `X`: Significa que esta migración se eliminó por la condición sobre los minutos, navegación o cargo mensual."
   ]
  },
  {
   "cell_type": "code",
   "execution_count": null,
   "id": "VsS_HL5l7uom",
   "metadata": {
    "deletable": false,
    "editable": false,
    "id": "VsS_HL5l7uom",
    "nbgrader": {
     "cell_type": "code",
     "checksum": "44d158f30fe07943efccbb758c8d5063",
     "grade": false,
     "grade_id": "cell-ar28a5b61394b3cb",
     "locked": true,
     "schema_version": 3,
     "solution": false,
     "task": false
    }
   },
   "outputs": [],
   "source": [
    "matrix, matrix2 = [], []\n",
    "for i in [a for a in Nodos if ((a[-1] != \"_\") & (a != \"Total\"))]:\n",
    "    row, row2 = [], []\n",
    "    for j in [b for b in Nodos if b[-1] == \"_\"]:\n",
    "        e = (i, j)\n",
    "        if e in Arcos:\n",
    "            if x[e].value() > 0:\n",
    "                row.append(x[e].value())\n",
    "                row2.append(x[e].value())\n",
    "            else:\n",
    "                row.append(\"-\")\n",
    "                row2.append(0)\n",
    "        else:\n",
    "            row.append(\"X\")\n",
    "            row2.append(0)\n",
    "    matrix.append(row)\n",
    "    matrix2.append(row2)\n",
    "\n",
    "df = pd.DataFrame(\n",
    "    matrix,\n",
    "    index=[a for a in Nodos if ((a[-1] != \"_\") & (a != \"Total\"))],\n",
    "    columns=[b for b in Nodos if b[-1] == \"_\"],\n",
    ")\n",
    "df.head()"
   ]
  },
  {
   "cell_type": "markdown",
   "id": "SRjz-YtQ7uon",
   "metadata": {
    "deletable": false,
    "editable": false,
    "id": "SRjz-YtQ7uon",
    "nbgrader": {
     "cell_type": "markdown",
     "checksum": "3cfa3a50bfb1b13b88cee0b15041778e",
     "grade": false,
     "grade_id": "cell-599ae39d809ad096",
     "locked": true,
     "schema_version": 3,
     "solution": false,
     "task": false
    }
   },
   "source": [
    "**Productos actuales con ofertas a múltiples productos del nuevo portafolio**"
   ]
  },
  {
   "cell_type": "code",
   "execution_count": null,
   "id": "veuFiSZ27uon",
   "metadata": {
    "deletable": false,
    "editable": false,
    "id": "veuFiSZ27uon",
    "nbgrader": {
     "cell_type": "code",
     "checksum": "64c803c87fe472339683f796fd5060ea",
     "grade": false,
     "grade_id": "cell-16b5af86c924ad34",
     "locked": true,
     "schema_version": 3,
     "solution": false,
     "task": false
    }
   },
   "outputs": [],
   "source": [
    "a1, a2 = [], []\n",
    "for i, j in Arcos:\n",
    "    if j[-1] == \"_\":\n",
    "        if x[i, j].value() > 0 and x[i, j].value() != b[i]:\n",
    "            if i not in a1:\n",
    "                a1.append(i)\n",
    "            if j not in a2:\n",
    "                a2.append(j)\n",
    "df.loc[a1, a2]"
   ]
  },
  {
   "cell_type": "markdown",
   "id": "Bj1oeMso7uon",
   "metadata": {
    "deletable": false,
    "editable": false,
    "id": "Bj1oeMso7uon",
    "nbgrader": {
     "cell_type": "markdown",
     "checksum": "9c79210c247dd38479b114add6f598b3",
     "grade": false,
     "grade_id": "cell-fd6a91wb23723db3",
     "locked": true,
     "schema_version": 3,
     "solution": false,
     "task": false
    },
    "tags": []
   },
   "source": [
    "## Uso de Google OR-Tools\n",
    "---\n",
    "Queremos usar este problema para ilustrar el uso de herramientas diferentes a `PuLP` para resolver problemas con herramientas especializadas en menor tiempo.\n",
    "\n",
    "En este caso, tenemos un problema de **Flujo de costo mínimo**. Ya vimos que lo podemos resolver con las herramientas que hemos venido utilizando. Sin embargo, este problema se ha estudiado por varias disciplinas (e.g., teoría de grafos) y existen implementaciones en Python con mejoras algorítmicas sustanciales.\n",
    "\n",
    "**Google OR-Tools** es una API de acceso público de Google para resolver problemas de optimización. Cuentan con un algoritmo especializado en problemas de **Flujo de costo mínimo el cual** utilizaremos a continuación. Cuando usamos una nueva herramienta, es útil leer algo de documentación: https://developers.google.com/optimization/flow/mincostflow. Así conoceremos la forma correcta de entregarle los datos a nuestro algoritmo y qué comandos usar para construir el modelo."
   ]
  },
  {
   "cell_type": "markdown",
   "id": "mPXs6yPO7uon",
   "metadata": {
    "deletable": false,
    "editable": false,
    "id": "mPXs6yPO7uon",
    "nbgrader": {
     "cell_type": "markdown",
     "checksum": "6f89afae37c1ca7fba07487ce578f62e",
     "grade": false,
     "grade_id": "cell-4d1e6ec1708487f1",
     "locked": true,
     "schema_version": 3,
     "solution": false,
     "task": false
    }
   },
   "source": [
    "### Preprocesamiento\n",
    "\n",
    "El primer paso es procesar los datos al formato que espera nuestra herramienta.\n",
    "Luego de leer la documentación, comprobamos que debemos crear los nodos y arcos uno a uno con sus respectivos atributos y que los nodos solo pueden tener `int` como nombres, no se permite `str`. Por esto debemos crear dos diccionarios que nos permitan asignar nombres `int` a los nombres de los nodos que tenemos actualmente y viceversa:"
   ]
  },
  {
   "cell_type": "code",
   "execution_count": null,
   "id": "Yd_45yr87uon",
   "metadata": {
    "id": "Yd_45yr87uon"
   },
   "outputs": [],
   "source": [
    "nodos_dict = {i: name for name, i in enumerate(b.keys())}\n",
    "nodos_dict2 = {name: i for name, i in enumerate(b.keys())}"
   ]
  },
  {
   "cell_type": "markdown",
   "id": "Y-KUgNLL7uoo",
   "metadata": {
    "deletable": false,
    "editable": false,
    "id": "Y-KUgNLL7uoo",
    "nbgrader": {
     "cell_type": "markdown",
     "checksum": "605da5363d849a82b4583bc2b6a8d959",
     "grade": false,
     "grade_id": "cell-4fd1acefd3830fdb",
     "locked": true,
     "schema_version": 3,
     "solution": false,
     "task": false
    }
   },
   "source": [
    "Para facilitar la creación de nodos y arcos en esta herramienta, se deben crear listas de tuplas con los nombres y atributos de nodos y arcos.\n"
   ]
  },
  {
   "cell_type": "markdown",
   "id": "msfxpeGY7uoo",
   "metadata": {
    "deletable": false,
    "editable": false,
    "id": "msfxpeGY7uoo",
    "nbgrader": {
     "cell_type": "markdown",
     "checksum": "44bd93a90da1f96008ca644fdd35e288",
     "grade": false,
     "grade_id": "cell-28f6077cf2e00669",
     "locked": true,
     "schema_version": 3,
     "solution": false,
     "task": false
    }
   },
   "source": [
    "**Pregunta 6 (5 puntos)**\n",
    "\n",
    "* Crea una lista de nodos `lista_nodos` donde cada elemento debe ser una tupla `(nodos_dict[i], -b_i)`, que contiene el nombre codificado y el parámetro de oferta/demanda correspondiente de cada nodo\n",
    "\n",
    "> **Advertencia:** Nota que la tupla contiene a `-b_i` con signo negativo. Esto es porque las restricciones los signos de las restricciones de balance están invertidos en esta herramienta respecto a la formulación que hicimos anteriormente."
   ]
  },
  {
   "cell_type": "code",
   "execution_count": null,
   "id": "a1y1RYFG7uoo",
   "metadata": {
    "deletable": false,
    "id": "a1y1RYFG7uoo",
    "nbgrader": {
     "cell_type": "code",
     "checksum": "794e1f7a0b348b07fe0345c2497efec9",
     "grade": false,
     "grade_id": "cell-6a5e86c2a14014ec",
     "locked": false,
     "schema_version": 3,
     "solution": true,
     "task": false
    }
   },
   "outputs": [],
   "source": [
    "# your code here\n"
   ]
  },
  {
   "cell_type": "code",
   "execution_count": null,
   "id": "LllKiTGc7uoo",
   "metadata": {
    "deletable": false,
    "editable": false,
    "id": "LllKiTGc7uoo",
    "nbgrader": {
     "cell_type": "code",
     "checksum": "08f46193738b930e617a021d497a08ee",
     "grade": true,
     "grade_id": "cell-e59fa44cb6763298",
     "locked": true,
     "points": 5,
     "schema_version": 3,
     "solution": false,
     "task": false
    }
   },
   "outputs": [],
   "source": [
    "# Esta celda esta reservada para uso del equipo docente"
   ]
  },
  {
   "cell_type": "code",
   "execution_count": null,
   "id": "euHB28vT7uoo",
   "metadata": {
    "deletable": false,
    "editable": false,
    "id": "euHB28vT7uoo",
    "nbgrader": {
     "cell_type": "code",
     "checksum": "a123985a58dd7f43ff2e9da327cbd8b1",
     "grade": true,
     "grade_id": "cell-1642540721873c86",
     "locked": true,
     "points": 0,
     "schema_version": 3,
     "solution": false,
     "task": false
    }
   },
   "outputs": [],
   "source": [
    "# Esta celda esta reservada para uso del equipo docente"
   ]
  },
  {
   "cell_type": "markdown",
   "id": "fCbGVWIx7uoo",
   "metadata": {
    "deletable": false,
    "editable": false,
    "id": "fCbGVWIx7uoo",
    "nbgrader": {
     "cell_type": "markdown",
     "checksum": "43bf26ee10bdef003a45204d32f4965b",
     "grade": false,
     "grade_id": "cell-7ca803ac88d8e88b",
     "locked": true,
     "schema_version": 3,
     "solution": false,
     "task": false
    }
   },
   "source": [
    "**Pregunta 7 (10 puntos)**\n",
    "\n",
    "* Crea una lista de arcos `lista_arcos` donde cada elemento debe ser una tupla `(nodos_dict[i],nodos_dict[j],u_ij,-int(c_ij*100))`, que contiene el nombre codificado de los nodos del arco, la capacidad del arco y el costo unitario del arco respectivamente.\n",
    "\n",
    "> **Advertencia:** Nota que la tupla contiene a `-int(c_ij*100)`, en lugar de `c_ij`. Esto es por dos razones. Primero, el sentido del problema anterior era de maximización; el algoritmo que usaremos es por defecto de minimización. Notese que es equivalente maximizar un costo a minimizar el mismo costo con signo negativo. Esto explica el signo negativo. Segundo, OR-Tools no permite valores continuos `float` en el costo de los arcos. Por esto, debemos multiplicar por 100 para conservar los 2 decimales antes de convertir a `int`. Luego de resolver el problema, dividiremos nuevamente por esta cantidad para obtener el costo correcto sin perder decimales en el camino."
   ]
  },
  {
   "cell_type": "code",
   "execution_count": null,
   "id": "_o-o-k897uop",
   "metadata": {
    "deletable": false,
    "id": "_o-o-k897uop",
    "nbgrader": {
     "cell_type": "code",
     "checksum": "9e1b84bfa4718e2ff1aafa8b41752f30",
     "grade": false,
     "grade_id": "cell-0a76494d12120d1b",
     "locked": false,
     "schema_version": 3,
     "solution": true,
     "task": false
    }
   },
   "outputs": [],
   "source": [
    "# your code here\n"
   ]
  },
  {
   "cell_type": "code",
   "execution_count": null,
   "id": "corPwPe07uop",
   "metadata": {
    "deletable": false,
    "editable": false,
    "id": "corPwPe07uop",
    "nbgrader": {
     "cell_type": "code",
     "checksum": "9a0d9fcc06f5e4c19f82698cacf98833",
     "grade": true,
     "grade_id": "cell-e59fa44cb6713298",
     "locked": true,
     "points": 10,
     "schema_version": 3,
     "solution": false,
     "task": false
    }
   },
   "outputs": [],
   "source": [
    "# Esta celda esta reservada para uso del equipo docente"
   ]
  },
  {
   "cell_type": "code",
   "execution_count": null,
   "id": "cICKEozF7uop",
   "metadata": {
    "deletable": false,
    "editable": false,
    "id": "cICKEozF7uop",
    "nbgrader": {
     "cell_type": "code",
     "checksum": "cc2b2a76d8343440707b7df3e125a6aa",
     "grade": true,
     "grade_id": "cell-f22b150839821bae",
     "locked": true,
     "points": 0,
     "schema_version": 3,
     "solution": false,
     "task": false
    }
   },
   "outputs": [],
   "source": [
    "# Esta celda esta reservada para uso del equipo docente"
   ]
  },
  {
   "cell_type": "markdown",
   "id": "Tv_zcFO77uoq",
   "metadata": {
    "deletable": false,
    "editable": false,
    "id": "Tv_zcFO77uoq",
    "nbgrader": {
     "cell_type": "markdown",
     "checksum": "7601e11df8c9325063b4370ee0f8d556",
     "grade": false,
     "grade_id": "cell-70e869262e832d8b",
     "locked": true,
     "schema_version": 3,
     "solution": false,
     "task": false
    }
   },
   "source": [
    "### Modelado\n",
    "\n",
    "Para empezar, importamos la librería correspondiente y creamos el objeto modelo vacío."
   ]
  },
  {
   "cell_type": "code",
   "execution_count": null,
   "id": "cs5l16BT7uoq",
   "metadata": {
    "deletable": false,
    "editable": false,
    "id": "cs5l16BT7uoq",
    "nbgrader": {
     "cell_type": "code",
     "checksum": "6a5ea60e2881a4d3c45e9b8a53e40695",
     "grade": false,
     "grade_id": "cell-6b60d3f1ca179dd3",
     "locked": true,
     "schema_version": 3,
     "solution": false,
     "task": false
    }
   },
   "outputs": [],
   "source": [
    "from ortools.graph.python import min_cost_flow\n",
    "\n",
    "mcf = min_cost_flow.SimpleMinCostFlow()"
   ]
  },
  {
   "cell_type": "markdown",
   "id": "JZvm0SNo7uoq",
   "metadata": {
    "deletable": false,
    "editable": false,
    "id": "JZvm0SNo7uoq",
    "nbgrader": {
     "cell_type": "markdown",
     "checksum": "d9f7c6d177a17c8abe6441c837342802",
     "grade": false,
     "grade_id": "cell-6cd1b35bd216ccfd",
     "locked": true,
     "schema_version": 3,
     "solution": false,
     "task": false
    }
   },
   "source": [
    "**Pregunta 8 (15 puntos)**\n",
    "\n",
    "El siguiente paso es **crear los nodos**.\n",
    "\n",
    "Para esto se usará el método `mcf.set_node_supply(node, supply)`\n",
    "\n",
    "* Dentro de un bucle `for` recorre los elementos de `lista_nodos`. Por cada elemento usa el método `mcf.set_node_supply` y especifica los argumentos `node` y `supply` como el nombre codificado y el parámetro oferta/demanda respectivamente."
   ]
  },
  {
   "cell_type": "code",
   "execution_count": null,
   "id": "zLxH6l_E7uoq",
   "metadata": {
    "deletable": false,
    "id": "zLxH6l_E7uoq",
    "nbgrader": {
     "cell_type": "code",
     "checksum": "cf9317d825d915cee5ca7e57326d84fe",
     "grade": false,
     "grade_id": "cell-41937f288941afba",
     "locked": false,
     "schema_version": 3,
     "solution": true,
     "task": false
    }
   },
   "outputs": [],
   "source": [
    "# your code here\n"
   ]
  },
  {
   "cell_type": "code",
   "execution_count": null,
   "id": "F7csn2jH7uoq",
   "metadata": {
    "deletable": false,
    "editable": false,
    "id": "F7csn2jH7uoq",
    "nbgrader": {
     "cell_type": "code",
     "checksum": "91a1d1480f13c3c30c03ada53f0ab864",
     "grade": true,
     "grade_id": "cell-e19fa44cb6763298",
     "locked": true,
     "points": 15,
     "schema_version": 3,
     "solution": false,
     "task": false
    }
   },
   "outputs": [],
   "source": [
    "# Esta celda esta reservada para uso del equipo docente"
   ]
  },
  {
   "cell_type": "markdown",
   "id": "lSKrIi6J7uoq",
   "metadata": {
    "deletable": false,
    "editable": false,
    "id": "lSKrIi6J7uoq",
    "nbgrader": {
     "cell_type": "markdown",
     "checksum": "e600bc745be37393c47e475f4df36284",
     "grade": false,
     "grade_id": "cell-46385b0f93170141",
     "locked": true,
     "schema_version": 3,
     "solution": false,
     "task": false
    }
   },
   "source": [
    "**Pregunta 9 (20 puntos)**\n",
    "\n",
    "Ahora debemos **crear los arcos**.\n",
    "\n",
    "Para esto se usará el método `mcf.add_arc_with_capacity_and_unit_cost(head, tail, capacity, unit_cost)`\n",
    "\n",
    "* Dentro de un bucle `for` recorre los elementos de `lista_arcos`. Por cada elemento usa el método `mcf.add_arc_with_capacity_and_unit_cost` y especifica los argumentos `head`, `tail`, `capacity` y `unit_cost` como los nombres codificados de los nodos, la capacidad del arco y el costo unitario del arco respectivamente."
   ]
  },
  {
   "cell_type": "code",
   "execution_count": null,
   "id": "Q0AQahgY7uor",
   "metadata": {
    "deletable": false,
    "id": "Q0AQahgY7uor",
    "nbgrader": {
     "cell_type": "code",
     "checksum": "79969a9d1471bc4e4a41de4f5fe5e8f6",
     "grade": false,
     "grade_id": "cell-3f24705c57f03403",
     "locked": false,
     "schema_version": 3,
     "solution": true,
     "task": false
    }
   },
   "outputs": [],
   "source": [
    "# your code here\n"
   ]
  },
  {
   "cell_type": "code",
   "execution_count": null,
   "id": "PaACu6IY7uor",
   "metadata": {
    "deletable": false,
    "editable": false,
    "id": "PaACu6IY7uor",
    "nbgrader": {
     "cell_type": "code",
     "checksum": "d7e25e58e6eeb119eaaf486d71ab6852",
     "grade": true,
     "grade_id": "cell-e59fa43cb6763298",
     "locked": true,
     "points": 20,
     "schema_version": 3,
     "solution": false,
     "task": false
    }
   },
   "outputs": [],
   "source": [
    "# Esta celda esta reservada para uso del equipo docente"
   ]
  },
  {
   "cell_type": "code",
   "execution_count": null,
   "id": "zgr3WzpG7uor",
   "metadata": {
    "deletable": false,
    "editable": false,
    "id": "zgr3WzpG7uor",
    "nbgrader": {
     "cell_type": "code",
     "checksum": "a9d6df2978f1b430524c9f46073b4f9b",
     "grade": true,
     "grade_id": "cell-996bfaa5a540f14e",
     "locked": true,
     "points": 0,
     "schema_version": 3,
     "solution": false,
     "task": false
    }
   },
   "outputs": [],
   "source": [
    "# Esta celda esta reservada para uso del equipo docente"
   ]
  },
  {
   "cell_type": "markdown",
   "id": "0ujSlcZr7uor",
   "metadata": {
    "deletable": false,
    "editable": false,
    "id": "0ujSlcZr7uor",
    "nbgrader": {
     "cell_type": "markdown",
     "checksum": "ee4314b2b46ea2c2c2e0d4a33a313ca3",
     "grade": false,
     "grade_id": "cell-777647630b0c3c4c",
     "locked": true,
     "schema_version": 3,
     "solution": false,
     "task": false
    }
   },
   "source": [
    "¡Ahora solo queda invocar el algoritmo!"
   ]
  },
  {
   "cell_type": "code",
   "execution_count": null,
   "id": "Wd-g3pAf7uor",
   "metadata": {
    "deletable": false,
    "editable": false,
    "id": "Wd-g3pAf7uor",
    "nbgrader": {
     "cell_type": "code",
     "checksum": "e2ed7b17932ed6be817f056abbfe1508",
     "grade": false,
     "grade_id": "cell-0137a608faec67a4",
     "locked": true,
     "schema_version": 3,
     "solution": false,
     "task": false
    }
   },
   "outputs": [],
   "source": [
    "status = mcf.solve()\n",
    "print(status == mcf.OPTIMAL)"
   ]
  },
  {
   "cell_type": "markdown",
   "id": "5EERDEG17uos",
   "metadata": {
    "deletable": false,
    "editable": false,
    "id": "5EERDEG17uos",
    "nbgrader": {
     "cell_type": "markdown",
     "checksum": "6ac6e289dbfccf97f5fa7193fa1e26b5",
     "grade": false,
     "grade_id": "cell-7cf53289fde650b9",
     "locked": true,
     "schema_version": 3,
     "solution": false,
     "task": false
    }
   },
   "source": [
    "### Reporte de resultados"
   ]
  },
  {
   "cell_type": "markdown",
   "id": "MO5xBH1J7uos",
   "metadata": {
    "deletable": false,
    "editable": false,
    "id": "MO5xBH1J7uos",
    "nbgrader": {
     "cell_type": "markdown",
     "checksum": "16b924d02122826e23208422dacdda1b",
     "grade": false,
     "grade_id": "cell-d0c0edc2835bddff",
     "locked": true,
     "schema_version": 3,
     "solution": false,
     "task": false
    }
   },
   "source": [
    "Podemos verificar a continuación que el valor de la función objetivo es igual a la implementación anterior con `PuLP`."
   ]
  },
  {
   "cell_type": "markdown",
   "id": "4YaTKxbM7uos",
   "metadata": {
    "deletable": false,
    "editable": false,
    "id": "4YaTKxbM7uos",
    "nbgrader": {
     "cell_type": "markdown",
     "checksum": "c2ef99f85de8224fb44c3d8ef1e72933",
     "grade": false,
     "grade_id": "cell-1422f3d782b10722",
     "locked": true,
     "schema_version": 3,
     "solution": false,
     "task": false
    }
   },
   "source": [
    "**Función objetivo**"
   ]
  },
  {
   "cell_type": "code",
   "execution_count": null,
   "id": "MQ6Wx41Y7uos",
   "metadata": {
    "deletable": false,
    "editable": false,
    "id": "MQ6Wx41Y7uos",
    "nbgrader": {
     "cell_type": "code",
     "checksum": "71540695025641d6a9320349a35da672",
     "grade": false,
     "grade_id": "cell-a046aff0f9a0bd44",
     "locked": true,
     "schema_version": 3,
     "solution": false,
     "task": false
    }
   },
   "outputs": [],
   "source": [
    "obj = -mcf.optimal_cost() / 1e2\n",
    "print(f\"\\nIngreso Adicional Mensual Esperado = {obj / 1e6: .3f} Millones de USD\")"
   ]
  },
  {
   "cell_type": "markdown",
   "id": "I-ShLoDQ7uos",
   "metadata": {
    "deletable": false,
    "editable": false,
    "id": "I-ShLoDQ7uos",
    "nbgrader": {
     "cell_type": "markdown",
     "checksum": "a14c894f87a5f9972867f8f2b74c3cec",
     "grade": false,
     "grade_id": "cell-2c2fb80e771376f9",
     "locked": true,
     "schema_version": 3,
     "solution": false,
     "task": false
    }
   },
   "source": [
    "Antes de revisar los valores de las variables, decodificamos los flujos a los nombres que hemos venido usando anteriormente"
   ]
  },
  {
   "cell_type": "code",
   "execution_count": null,
   "id": "PIe8YH0_7uos",
   "metadata": {
    "deletable": false,
    "editable": false,
    "id": "PIe8YH0_7uos",
    "nbgrader": {
     "cell_type": "code",
     "checksum": "d30c4872d922d905b3072230a8f9dae7",
     "grade": false,
     "grade_id": "cell-f37b31099722d33b",
     "locked": true,
     "schema_version": 3,
     "solution": false,
     "task": false
    }
   },
   "outputs": [],
   "source": [
    "flow = {\n",
    "    (\n",
    "        nodos_dict2[mcf.head(arc)],\n",
    "        nodos_dict2[mcf.tail(arc)],\n",
    "    ): mcf.flow(arc)\n",
    "    for arc in range(mcf.num_arcs())\n",
    "}"
   ]
  },
  {
   "cell_type": "markdown",
   "id": "W6qYTbC57uot",
   "metadata": {
    "deletable": false,
    "editable": false,
    "id": "W6qYTbC57uot",
    "nbgrader": {
     "cell_type": "markdown",
     "checksum": "7f43f85d858ad19c5a70121f8e557294",
     "grade": false,
     "grade_id": "cell-12d56ee7e4d29a73",
     "locked": true,
     "schema_version": 3,
     "solution": false,
     "task": false
    }
   },
   "source": [
    "**Número total de ofertas para cada producto del nuevo portafolio**"
   ]
  },
  {
   "cell_type": "code",
   "execution_count": null,
   "id": "x5bwyOwJ7uot",
   "metadata": {
    "deletable": false,
    "editable": false,
    "id": "x5bwyOwJ7uot",
    "nbgrader": {
     "cell_type": "code",
     "checksum": "862d82f7890676862c3e7a66ca035114",
     "grade": false,
     "grade_id": "cell-fa2b750f032d7928",
     "locked": true,
     "schema_version": 3,
     "solution": false,
     "task": false
    },
    "tags": []
   },
   "outputs": [],
   "source": [
    "total = {}\n",
    "for i in Nodos:\n",
    "    if i[-1] == \"_\":\n",
    "        val = flow[i, \"Total\"]\n",
    "        total[i, \"Total\"] = val\n",
    "        print(f\"Producto {i} -> {val}\")"
   ]
  },
  {
   "cell_type": "markdown",
   "id": "TFcRqFKA7uot",
   "metadata": {
    "deletable": false,
    "editable": false,
    "id": "TFcRqFKA7uot",
    "nbgrader": {
     "cell_type": "markdown",
     "checksum": "1a082448571188e3a3b26071c534f914",
     "grade": false,
     "grade_id": "cell-0254q0b1f475a1b1",
     "locked": true,
     "schema_version": 3,
     "solution": false,
     "task": false
    }
   },
   "source": [
    "**Ofertas a los clientes de los productos actuales**"
   ]
  },
  {
   "cell_type": "code",
   "execution_count": null,
   "id": "msQBamBg7uov",
   "metadata": {
    "deletable": false,
    "editable": false,
    "id": "msQBamBg7uov",
    "nbgrader": {
     "cell_type": "code",
     "checksum": "ebffac2fd2591e8913f31d3332bc6791",
     "grade": false,
     "grade_id": "cell-ar28a5b62394b3cb",
     "locked": true,
     "schema_version": 3,
     "solution": false,
     "task": false
    }
   },
   "outputs": [],
   "source": [
    "matrix, matrix2 = [], []\n",
    "for i in [a for a in Nodos if ((a[-1] != \"_\") & (a != \"Total\"))]:\n",
    "    row, row2 = [], []\n",
    "    for j in [b for b in Nodos if b[-1] == \"_\"]:\n",
    "        e = (i, j)\n",
    "        if e in Arcos:\n",
    "            if flow[e] > 0:\n",
    "                row.append(flow[e])\n",
    "                row2.append(flow[e])\n",
    "            else:\n",
    "                row.append(\"-\")\n",
    "                row2.append(0)\n",
    "        else:\n",
    "            row.append(\"X\")\n",
    "            row2.append(0)\n",
    "    matrix.append(row)\n",
    "    matrix2.append(row2)\n",
    "\n",
    "df = pd.DataFrame(\n",
    "    matrix,\n",
    "    index=[a for a in Nodos if ((a[-1] != \"_\") & (a != \"Total\"))],\n",
    "    columns=[b for b in Nodos if b[-1] == \"_\"],\n",
    ")\n",
    "df.head()"
   ]
  },
  {
   "cell_type": "markdown",
   "id": "IYusDwnX7uov",
   "metadata": {
    "deletable": false,
    "editable": false,
    "id": "IYusDwnX7uov",
    "nbgrader": {
     "cell_type": "markdown",
     "checksum": "94cf65dfb257eee3b94178faf3500263",
     "grade": false,
     "grade_id": "cell-d919cfaeb89dad95",
     "locked": true,
     "schema_version": 3,
     "solution": false,
     "task": false
    }
   },
   "source": [
    "**Productos actuales con ofertas a múltiples productos del nuevo portafolio**"
   ]
  },
  {
   "cell_type": "code",
   "execution_count": null,
   "id": "RWpks4qP7uow",
   "metadata": {
    "deletable": false,
    "editable": false,
    "id": "RWpks4qP7uow",
    "nbgrader": {
     "cell_type": "code",
     "checksum": "ebf623d428253f8bf8307a89ede182d0",
     "grade": false,
     "grade_id": "cell-0ea7d11cf5522ebc",
     "locked": true,
     "schema_version": 3,
     "solution": false,
     "task": false
    }
   },
   "outputs": [],
   "source": [
    "a1, a2 = [], []\n",
    "for i, j in Arcos:\n",
    "    if j[-1] == \"_\":\n",
    "        if flow[i, j] > 0 and flow[i, j] != b[i]:\n",
    "            if i not in a1:\n",
    "                a1.append(i)\n",
    "            if j not in a2:\n",
    "                a2.append(j)\n",
    "df.loc[a1, a2]"
   ]
  },
  {
   "cell_type": "markdown",
   "id": "_bI6UV2X7uow",
   "metadata": {
    "deletable": false,
    "editable": false,
    "id": "_bI6UV2X7uow",
    "nbgrader": {
     "cell_type": "markdown",
     "checksum": "0a8243e9589aec9abb2b1fef0d21da5b",
     "grade": false,
     "grade_id": "cell-4d1d2b1cdc77bf07",
     "locked": true,
     "schema_version": 3,
     "solution": false,
     "task": false
    }
   },
   "source": [
    "### Fin del laboratorio\n",
    "---"
   ]
  }
 ],
 "metadata": {
  "colab": {
   "provenance": []
  },
  "kernelspec": {
   "display_name": "Python 3 (ipykernel)",
   "language": "python",
   "name": "python3"
  },
  "language_info": {
   "codemirror_mode": {
    "name": "ipython",
    "version": 3
   },
   "file_extension": ".py",
   "mimetype": "text/x-python",
   "name": "python",
   "nbconvert_exporter": "python",
   "pygments_lexer": "ipython3",
   "version": "3.11.4"
  },
  "toc-autonumbering": false,
  "toc-showcode": false,
  "toc-showmarkdowntxt": false,
  "toc-showtags": false
 },
 "nbformat": 4,
 "nbformat_minor": 5
}
