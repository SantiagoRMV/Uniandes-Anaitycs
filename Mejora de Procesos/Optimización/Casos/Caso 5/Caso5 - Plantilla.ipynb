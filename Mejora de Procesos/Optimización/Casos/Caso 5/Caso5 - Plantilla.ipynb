{
 "cells": [
  {
   "cell_type": "markdown",
   "metadata": {
    "deletable": false,
    "editable": false,
    "nbgrader": {
     "cell_type": "markdown",
     "checksum": "c5945f202d10dd9c0e8b340fa257a19e",
     "grade": false,
     "grade_id": "cell-e8fa9269aba80c31",
     "locked": true,
     "schema_version": 3,
     "solution": false,
     "task": false
    },
    "tags": []
   },
   "source": [
    "# Caso 5: localización de depósitos con múltiples objetivos\n",
    "\n",
    "---\n",
    "## Maestría en Inteligencia Analítica para la Toma de Decisiones\n",
    "\n",
    "* **Profesor**: \n",
    "    * *Andrés Medaglia*\n",
    "* **Asistentes**:\n",
    "    * *Ariel Rojas*\n",
    "    * *Carlos Arroyo*"
   ]
  },
  {
   "cell_type": "markdown",
   "metadata": {
    "deletable": false,
    "editable": false,
    "nbgrader": {
     "cell_type": "markdown",
     "checksum": "ebb59013dfab7a35732ba64dd5a6bb2c",
     "grade": false,
     "grade_id": "cell-056812357650677f",
     "locked": true,
     "schema_version": 3,
     "solution": false,
     "task": false
    }
   },
   "source": [
    "## Instrucciones generales\n",
    "\n",
    "El primer paso antes de resolver este laboratorio es leer y entender el **enunciado del caso**.\n",
    "\n",
    "Este laboratorio tiene las siguientes secciones: \n",
    "* **Formulación**: en este caso particular, definimos dos funciones objetivo $z_1$ y $z_2$\n",
    "* **Importación de librerías**\n",
    "* **Creación de parámetros**\n",
    "* **Modelado**: en esta práctica, haremos tres (3) implementaciones del mismo problema:\n",
    "    * **Minimización de costos**\n",
    "    * **Maximización de la satisfacción**\n",
    "    * **Maximización de la satisfacción con restricción de costos**\n",
    "* **Reporte de Resultados**\n",
    "\n",
    "Este tipo de actividades se evaluará sobre un total de 100 puntos. Las celdas calificables se distinguen por tener la instrucción `# your code here`. Antes de estas celdas encontrarás instrucciones y consejos para resolver las preguntas, también el puntaje que le corresponde.\n",
    "\n",
    "¡Éxitos!"
   ]
  },
  {
   "cell_type": "markdown",
   "metadata": {
    "deletable": false,
    "editable": false,
    "nbgrader": {
     "cell_type": "markdown",
     "checksum": "c40a96c1766b04be7cf3be354949b17e",
     "grade": false,
     "grade_id": "cell-9fbd2d9c824c07a3",
     "locked": true,
     "schema_version": 3,
     "solution": false,
     "task": false
    },
    "tags": []
   },
   "source": [
    "## Formulación\n",
    "---\n",
    "\n",
    "Te presentamos la formulación del caso de la semana de forma resumida. Te recomendamos revisar la formulación una vez hayas leído el enunciado del caso. Es bueno que te familiarices con los elementos de la formulación antes de iniciar la implementación.\n",
    "\n",
    "### Conjuntos y Parámetros\n",
    ">#### **Conjuntos**\n",
    ">* $I:$ Depósitos\n",
    ">* $J:$ Centros de acopio consolidados (CACs)\n",
    "\n",
    ">#### **Parámetros**\n",
    ">* $k_i:$ Capacidad del depósito $i \\in I$ (miles de toneladas por año)\n",
    ">* $f_i:$ Costo de operación del depósito $i \\in I$ (millones de pesos por año)\n",
    ">* $d_j:$ Producción proyectada del CAC $j\\in J$ (miles de tonaledas por año)\n",
    ">* $q:$ Costo anualizado (por cada mil toneladas por kilómetro) de transportar café\n",
    ">* $r:$ Distancia máxima (en kilómetros) entre el CAC y el depósito asignado para estar \"bien\" atendido\n",
    ">* $h_{ij}:$ Distancia (en kilómetros) entre el CAC $j \\in J$ y el depósito $i \\in I$\n",
    ">* $c_{ij}:$ Costo anualizado de atender el CAC $j\\in J$ con el depósito $i\\in I$ (Se calcula como: $c_{ij} = q\\cdot d_j \\cdot h_{ij}$)\n",
    "\n",
    "### Variables de Decisión\n",
    ">* $x_{ij}=\\begin{cases}1, & \\text{si el CAC } j \\in J \\text{ es atendido por el depósito } i \\in I \\\\0, & \\text{de lo contrario} \\end{cases}$\n",
    ">* $y_{i}=\\begin{cases} 1, & \\text{si se decide operar el depósito } i \\in I  \\\\ 0, & \\text{de lo contrario} \\end{cases}$\n",
    "    \n",
    "### Restricciones\n",
    ">1. Cada CAC debe ser atendido por un único depósito \n",
    ">>`# Para desarrollo del estudiante`\n",
    ">2. No se debe superar la capacidad de los depósitos y sólo se puede atender CACs desde un depósito si se decide operar el mismo.\n",
    ">>$\\sum_{j \\in J}d_{j}x_{ij} \\leq k_{i}y_{i}, \\; \\forall i \\in I$\n",
    "\n",
    "> **Naturaleza de variables**\n",
    ">>$x_{ij} \\in \\{0,1\\} , \\;\\forall i \\in I, j \\in J$\n",
    ">>\n",
    ">>$y_{i} \\in \\{0,1\\} , \\;\\forall i \\in I$\n",
    "\n",
    "### Función Objetivo\n",
    ">* Minimizar los costos totales de operación y transporte\n",
    ">>`# Para desarrollo del estudiante`\n",
    ">* Maximizar satisfacción de los CACs\n",
    ">>$\\max z_2 = \\sum_{j \\in J} d_{j} \\sum_{\\{i \\in I | h_{ij} \\leq r\\}} x_{ij}$"
   ]
  },
  {
   "cell_type": "markdown",
   "metadata": {
    "deletable": false,
    "editable": false,
    "nbgrader": {
     "cell_type": "markdown",
     "checksum": "e77523d0386dec4cf86bb24b5db989ee",
     "grade": false,
     "grade_id": "cell-db31881de45215f2",
     "locked": true,
     "schema_version": 3,
     "solution": false,
     "task": false
    },
    "tags": []
   },
   "source": [
    "## Importación de librerías\n",
    "---\n",
    "En esta práctica usaremos:\n",
    "* El paquete `pandas` es muy útil para el análisis de datos en general. Le asignamos el alias de `pd`.\n",
    "* El paquete `pulp` permite crear modelos de optimización, crear variables, añadir restricciones y muchos más. Le asignamos el alias de `lp`.\n",
    "* La función `distance` del módulo `geopy.distance` nos permite hallar fácilmente la distancia geodéisca en kilómetros entre dos pares de coordenadas de longitud y latitud.\n"
   ]
  },
  {
   "cell_type": "code",
   "execution_count": null,
   "metadata": {
    "deletable": false,
    "editable": false,
    "nbgrader": {
     "cell_type": "code",
     "checksum": "968e7a97e640121552eab72d27f67e49",
     "grade": false,
     "grade_id": "cell-dcd85834ed8974e2",
     "locked": true,
     "schema_version": 3,
     "solution": false,
     "task": false
    }
   },
   "outputs": [],
   "source": [
    "import pandas as pd\n",
    "import pulp as lp \n",
    "from geopy.distance import distance"
   ]
  },
  {
   "cell_type": "markdown",
   "metadata": {
    "deletable": false,
    "editable": false,
    "nbgrader": {
     "cell_type": "markdown",
     "checksum": "a12d0a18eb694704c51ec95412f33912",
     "grade": false,
     "grade_id": "cell-685b1f71ce44c0b0",
     "locked": true,
     "schema_version": 3,
     "solution": false,
     "task": false
    },
    "tags": []
   },
   "source": [
    "## Creación de Parámetros\n",
    "---"
   ]
  },
  {
   "cell_type": "markdown",
   "metadata": {
    "deletable": false,
    "editable": false,
    "nbgrader": {
     "cell_type": "markdown",
     "checksum": "c5e4307dcddbb5ebd09323e10521d15f",
     "grade": false,
     "grade_id": "cell-139d636ca944c8b1",
     "locked": true,
     "schema_version": 3,
     "solution": false,
     "task": false
    },
    "tags": []
   },
   "source": [
    "### Lectura del archivo de soporte\n",
    "\n",
    "Los datos que necesitamos para esta práctica se encuentran disponibles en el archivo `Soporte Caso 5.xlsx`.\n",
    "En este archivo encontraremos los mismo datos del enunciado.\n",
    "Importamos las hojas `CACs` y `Depositos` del archivo `Soporte Caso 5.xlsx`.\n",
    "Estas hojas son importadas como objetos `DataFrame` de `pandas`."
   ]
  },
  {
   "cell_type": "code",
   "execution_count": null,
   "metadata": {
    "deletable": false,
    "editable": false,
    "nbgrader": {
     "cell_type": "code",
     "checksum": "a8e7c222bce6cd6cd6a4cad7b75c25a0",
     "grade": false,
     "grade_id": "cell-b71c43103154fc50",
     "locked": true,
     "schema_version": 3,
     "solution": false,
     "task": false
    }
   },
   "outputs": [],
   "source": [
    "cacs = pd.read_excel('Soporte Caso 5.xlsx', sheet_name='CACs')\n",
    "depositos = pd.read_excel('Soporte Caso 5.xlsx', sheet_name='Depositos')"
   ]
  },
  {
   "cell_type": "markdown",
   "metadata": {
    "deletable": false,
    "editable": false,
    "nbgrader": {
     "cell_type": "markdown",
     "checksum": "ddb683fcd067e61b5219bf3af0cb8ca0",
     "grade": false,
     "grade_id": "cell-139d636ca944c8b5",
     "locked": true,
     "schema_version": 3,
     "solution": false,
     "task": false
    },
    "tags": []
   },
   "source": [
    "### Procesamiento de archivos de soporte\n",
    "\n",
    "En este paso, se crean los **Conjuntos** y **Parámetros**.\n",
    "Es necesario dejar todo expresado en términos de listas y diccionarios para facilitar la implementación del modelo en PuLP. Adicionalmente, debemos procesar las coordenadas de longitud y latitud para obtener las distancias entre CACs y Depósitos."
   ]
  },
  {
   "cell_type": "code",
   "execution_count": null,
   "metadata": {
    "deletable": false,
    "editable": false,
    "nbgrader": {
     "cell_type": "code",
     "checksum": "2901074fb2d19889ae8372dabab5d01a",
     "grade": false,
     "grade_id": "cell-129120ef2d648b1c",
     "locked": true,
     "schema_version": 3,
     "solution": false,
     "task": false
    }
   },
   "outputs": [],
   "source": [
    "I = depositos.Municipio.to_list()\n",
    "J = cacs.Municipio.to_list()\n",
    "\n",
    "capacidad = {row[\"Municipio\"]: row[\"Capacidad\"] for _, row in depositos.iterrows()}\n",
    "costo_fijo = {row[\"Municipio\"]: row[\"CostoFijo\"] for _, row in depositos.iterrows()}\n",
    "depositos_lat_lon = {\n",
    "    row[\"Municipio\"]: (row[\"Latitud\"], row[\"Longitud\"])\n",
    "    for _, row in depositos.iterrows()\n",
    "}\n",
    "\n",
    "produccion = {row[\"Municipio\"]: row[\"Produccion\"] for _, row in cacs.iterrows()}\n",
    "cacs_lat_lon = {\n",
    "    row[\"Municipio\"]: (row[\"Latitud\"], row[\"Longitud\"]) for _, row in cacs.iterrows()\n",
    "}\n",
    "\n",
    "q = 90  # Pesos anualizados por cada mil toneladas de café por kilómetro\n",
    "r = 125  # Kilómetros\n",
    "\n",
    "distancia = {\n",
    "    (i, j): distance(depositos_lat_lon[i], cacs_lat_lon[j]).kilometers\n",
    "    for i in I\n",
    "    for j in J\n",
    "}"
   ]
  },
  {
   "cell_type": "markdown",
   "metadata": {
    "deletable": false,
    "editable": false,
    "nbgrader": {
     "cell_type": "markdown",
     "checksum": "9aa084c74e8cbc1c632c14cb44057768",
     "grade": false,
     "grade_id": "cell-b64840b7a4a8e765",
     "locked": true,
     "schema_version": 3,
     "solution": false,
     "task": false
    }
   },
   "source": [
    "**Pregunta 1 (10 puntos)**\n",
    "\n",
    "* Crea el parámetro de costo de transporte $c_{ij}$ en un diccionario llamado `costo_transporte`\n",
    "* Las **llaves** de este diccionario deben ser los pares $(i,j)$, es decir, (depósitos, CACs)\n",
    "* Los **valores** de este diccionario deben ser los costos de transporte definidos en la formulación"
   ]
  },
  {
   "cell_type": "code",
   "execution_count": null,
   "metadata": {
    "deletable": false,
    "nbgrader": {
     "cell_type": "code",
     "checksum": "7ace47a35e9aa142856f6dd57eb90b0e",
     "grade": false,
     "grade_id": "cell-9bda0a507f1608f9",
     "locked": false,
     "schema_version": 3,
     "solution": true,
     "task": false
    }
   },
   "outputs": [],
   "source": [
    "# your code here\n"
   ]
  },
  {
   "cell_type": "code",
   "execution_count": null,
   "metadata": {
    "deletable": false,
    "editable": false,
    "nbgrader": {
     "cell_type": "code",
     "checksum": "429084434a0e36a2cc7cccc3324b0a0b",
     "grade": true,
     "grade_id": "cell-b515915c40556731",
     "locked": true,
     "points": 10,
     "schema_version": 3,
     "solution": false,
     "task": false
    }
   },
   "outputs": [],
   "source": [
    "# Esta celda esta reservada para uso del equipo docente"
   ]
  },
  {
   "cell_type": "code",
   "execution_count": null,
   "metadata": {
    "deletable": false,
    "editable": false,
    "nbgrader": {
     "cell_type": "code",
     "checksum": "59ef53a0503406d82820dbda8d165a2a",
     "grade": true,
     "grade_id": "cell-50cee558e7e712c1",
     "locked": true,
     "points": 0,
     "schema_version": 3,
     "solution": false,
     "task": false
    }
   },
   "outputs": [],
   "source": [
    "# Esta celda esta reservada para uso del equipo docente"
   ]
  },
  {
   "cell_type": "markdown",
   "metadata": {
    "deletable": false,
    "editable": false,
    "nbgrader": {
     "cell_type": "markdown",
     "checksum": "5c74d30c478e268e2c0e3e51085875d1",
     "grade": false,
     "grade_id": "cell-587d11a8eb6313b7",
     "locked": true,
     "schema_version": 3,
     "solution": false,
     "task": false
    }
   },
   "source": [
    "**Celda de Prueba (0 puntos)**\n",
    "\n",
    "Es una buena práctica imprimir algunos objetos que contienen los parámetros en la consola luego de crearlos. De esta forma puedes corregir errores y familiarizarte con las estructuras de datos que se van a utilizar. Puedes hacer estas pruebas en la celda a continuación.\n",
    "\n",
    "* **Esta celda no es calificable**"
   ]
  },
  {
   "cell_type": "code",
   "execution_count": null,
   "metadata": {
    "deletable": false,
    "nbgrader": {
     "cell_type": "code",
     "checksum": "25f27b8b92dea8d416c878370396d33f",
     "grade": false,
     "grade_id": "cell-0f16cc686e01a467",
     "locked": false,
     "schema_version": 3,
     "solution": true,
     "task": false
    }
   },
   "outputs": [],
   "source": [
    "# your code here\n"
   ]
  },
  {
   "cell_type": "markdown",
   "metadata": {
    "deletable": false,
    "editable": false,
    "nbgrader": {
     "cell_type": "markdown",
     "checksum": "c51cd89ea989db35cbafafdd8b4ccc97",
     "grade": false,
     "grade_id": "cell-6a54ae7e4891ef1",
     "locked": true,
     "schema_version": 3,
     "solution": false,
     "task": false
    },
    "tags": []
   },
   "source": [
    "## Modelado - Minimización de costos ($z_1$)\n",
    "---"
   ]
  },
  {
   "cell_type": "markdown",
   "metadata": {
    "deletable": false,
    "editable": false,
    "nbgrader": {
     "cell_type": "markdown",
     "checksum": "6a8119d511615690ed8093c2a7cad0ed",
     "grade": false,
     "grade_id": "cell-ebebd9c7cd32a295",
     "locked": true,
     "schema_version": 3,
     "solution": false,
     "task": false
    }
   },
   "source": [
    "### Declaración del modelo"
   ]
  },
  {
   "cell_type": "code",
   "execution_count": null,
   "metadata": {
    "deletable": false,
    "editable": false,
    "nbgrader": {
     "cell_type": "code",
     "checksum": "24167b7e3f9202ad350adc095909ff78",
     "grade": false,
     "grade_id": "cell-002b5f2f8d48ab75",
     "locked": true,
     "schema_version": 3,
     "solution": false,
     "task": false
    }
   },
   "outputs": [],
   "source": [
    "problema = lp.LpProblem(sense=lp.LpMinimize)"
   ]
  },
  {
   "cell_type": "markdown",
   "metadata": {
    "deletable": false,
    "editable": false,
    "nbgrader": {
     "cell_type": "markdown",
     "checksum": "46ebb6ab16ca108eda7a3d9e45ce55a7",
     "grade": false,
     "grade_id": "cell-032e2c76bf498b03",
     "locked": true,
     "schema_version": 3,
     "solution": false,
     "task": false
    }
   },
   "source": [
    "### Variables de Decisión\n",
    "\n",
    ">* $x_{ij}=\\begin{cases}1, & \\text{si el CAC } j \\in J \\text{ es atendido por el depósito } i \\in I \\\\0, & \\text{de lo contrario} \\end{cases}$\n",
    ">* $y_{i}=\\begin{cases} 1, & \\text{si se decide operar el depósito } i \\in I  \\\\ 0, & \\text{de lo contrario} \\end{cases}$"
   ]
  },
  {
   "cell_type": "code",
   "execution_count": null,
   "metadata": {
    "deletable": false,
    "editable": false,
    "nbgrader": {
     "cell_type": "code",
     "checksum": "984d457555dc70dcb7499a0216585c71",
     "grade": false,
     "grade_id": "cell-9e07b020c37c0b86",
     "locked": true,
     "schema_version": 3,
     "solution": false,
     "task": false
    }
   },
   "outputs": [],
   "source": [
    "x = lp.LpVariable.dicts(\"atender\", [(i, j) for i in I for j in J], lowBound = 0, cat=lp.LpBinary)\n",
    "y = lp.LpVariable.dicts(\"operar\", I, lowBound = 0, cat=lp.LpBinary)"
   ]
  },
  {
   "cell_type": "markdown",
   "metadata": {
    "deletable": false,
    "editable": false,
    "nbgrader": {
     "cell_type": "markdown",
     "checksum": "0952c00ca019e950ad87dec3d2825e90",
     "grade": false,
     "grade_id": "cell-747431c6a1556e72",
     "locked": true,
     "schema_version": 3,
     "solution": false,
     "task": false
    }
   },
   "source": [
    "### Función Objetivo\n",
    "Minimizar los costos totales de operación y transporte\n",
    ">`# Para desarrollo del estudiante`"
   ]
  },
  {
   "cell_type": "markdown",
   "metadata": {
    "deletable": false,
    "editable": false,
    "nbgrader": {
     "cell_type": "markdown",
     "checksum": "ffb10829da279be639080512c8de06ef",
     "grade": false,
     "grade_id": "cell-b64840b7a4a8q5db",
     "locked": true,
     "schema_version": 3,
     "solution": false,
     "task": false
    }
   },
   "source": [
    "**Pregunta 2 (10 puntos)**\n",
    "* Crea la función objetivo y agrégala al modelo `problema`\n",
    "\n",
    "> **Ejemplo**:\n",
    ">> $ \\sum_{i \\in I}c_i x_i$\n",
    "es equivalente a `lp.lpSum(c[i]*x[i] for i in I)`"
   ]
  },
  {
   "cell_type": "code",
   "execution_count": null,
   "metadata": {
    "deletable": false,
    "nbgrader": {
     "cell_type": "code",
     "checksum": "e4a4c28eb5e7e13d4ada45113fc208a8",
     "grade": false,
     "grade_id": "cell-34fd2b9e55234291",
     "locked": false,
     "schema_version": 3,
     "solution": true,
     "task": false
    }
   },
   "outputs": [],
   "source": [
    "# your code here\n"
   ]
  },
  {
   "cell_type": "code",
   "execution_count": null,
   "metadata": {
    "deletable": false,
    "editable": false,
    "nbgrader": {
     "cell_type": "code",
     "checksum": "e82e99bb20133ebc7e1d7297cd1e0853",
     "grade": true,
     "grade_id": "cell-b515915c40556732",
     "locked": true,
     "points": 10,
     "schema_version": 3,
     "solution": false,
     "task": false
    }
   },
   "outputs": [],
   "source": [
    "# Esta celda esta reservada para uso del equipo docente"
   ]
  },
  {
   "cell_type": "code",
   "execution_count": null,
   "metadata": {
    "deletable": false,
    "editable": false,
    "nbgrader": {
     "cell_type": "code",
     "checksum": "a6623f962d5b7e2d38b693d6b1159614",
     "grade": true,
     "grade_id": "cell-50cee558e7e712ca",
     "locked": true,
     "points": 0,
     "schema_version": 3,
     "solution": false,
     "task": false
    }
   },
   "outputs": [],
   "source": [
    "# Esta celda esta reservada para uso del equipo docente"
   ]
  },
  {
   "cell_type": "markdown",
   "metadata": {
    "deletable": false,
    "editable": false,
    "nbgrader": {
     "cell_type": "markdown",
     "checksum": "de96b00849711fbf318afdc8d4379d7c",
     "grade": false,
     "grade_id": "cell-dxfa9f15b71fb4ce",
     "locked": true,
     "schema_version": 3,
     "solution": false,
     "task": false
    }
   },
   "source": [
    "### Restricciones\n",
    "\n",
    "____\n",
    "**Ejemplo**\n",
    "> La siguiente restricción: $\\sum_{i \\in I} a_{ij} x_{ij} \\geq 1, \\; \\forall j \\in J$ es equivalente a:\n",
    ">    * `for j in J:`\n",
    ">        * `model += lp.lpSum(a[i,j]*x[i,j] for i in I) >= 1, 'R1_'+str(j)`\n",
    "    \n",
    "**Advertencia**: En `pulp` no es recomendable sobreescribir restricciones, entonces, si ya creaste una restricción y quieres crearla de nuevo para corregir algo, asegúrate de volver a crear el modelo `problema` desde el principio. (Nosotros haremos esto antes de calificar, no te preocupes)"
   ]
  },
  {
   "cell_type": "markdown",
   "metadata": {
    "deletable": false,
    "editable": false,
    "nbgrader": {
     "cell_type": "markdown",
     "checksum": "97f6d83ae453802c17850ff6d101b305",
     "grade": false,
     "grade_id": "cell-86c8f6a10453d254",
     "locked": true,
     "schema_version": 3,
     "solution": false,
     "task": false
    }
   },
   "source": [
    "**Pregunta 3 (10 puntos)**\n",
    "\n",
    "* Crea la siguiente restricción, asígnale el nombre `'R1_'+str(<indice_del_para_todo>)` y añádela al modelo:\n",
    ">1. Cada CAC debe ser atendido por un único depósito\n",
    ">>`# Para desarrollo del estudiante`"
   ]
  },
  {
   "cell_type": "code",
   "execution_count": null,
   "metadata": {
    "deletable": false,
    "nbgrader": {
     "cell_type": "code",
     "checksum": "475e0e783d347aa8030b612a0319c1a3",
     "grade": false,
     "grade_id": "cell-da58bf936e584f95",
     "locked": false,
     "schema_version": 3,
     "solution": true,
     "task": false
    }
   },
   "outputs": [],
   "source": [
    "# your code here\n"
   ]
  },
  {
   "cell_type": "code",
   "execution_count": null,
   "metadata": {
    "deletable": false,
    "editable": false,
    "nbgrader": {
     "cell_type": "code",
     "checksum": "22b8ececf8df67ec2fd19fe105e9d508",
     "grade": true,
     "grade_id": "cell-0a9abc8dc51352eb",
     "locked": true,
     "points": 10,
     "schema_version": 3,
     "solution": false,
     "task": false
    }
   },
   "outputs": [],
   "source": [
    "# Esta celda esta reservada para uso del equipo docente"
   ]
  },
  {
   "cell_type": "markdown",
   "metadata": {
    "deletable": false,
    "editable": false,
    "nbgrader": {
     "cell_type": "markdown",
     "checksum": "e781e398bb3d929ef9c22520becfae90",
     "grade": false,
     "grade_id": "cell-96fe008cf9b26b73",
     "locked": true,
     "schema_version": 3,
     "solution": false,
     "task": false
    }
   },
   "source": [
    "**Pregunta 4 (5 puntos)**\n",
    "\n",
    "* Crea la siguiente restricción, asígnale el nombre `'R2_'+str(<indice_del_para_todo>)` y añádela al modelo:\n",
    ">2. No se debe superar la capacidad de los depósitos y sólo se puede atender CACs desde un depósito si se decide operar el mismo.\n",
    ">>$\\sum_{j \\in J}d_{j}x_{ij} \\leq k_{i}y_{i}, \\; \\forall i \\in I$"
   ]
  },
  {
   "cell_type": "code",
   "execution_count": null,
   "metadata": {
    "deletable": false,
    "nbgrader": {
     "cell_type": "code",
     "checksum": "52080ff3666dbc4231e3082244833032",
     "grade": false,
     "grade_id": "cell-c63aca7f0b8a12ed",
     "locked": false,
     "schema_version": 3,
     "solution": true,
     "task": false
    }
   },
   "outputs": [],
   "source": [
    "# your code here\n"
   ]
  },
  {
   "cell_type": "code",
   "execution_count": null,
   "metadata": {
    "deletable": false,
    "editable": false,
    "nbgrader": {
     "cell_type": "code",
     "checksum": "a65e19c9c5aeb73b31c6f68ceb7d263b",
     "grade": true,
     "grade_id": "cell-e59fa47cb6763298",
     "locked": true,
     "points": 5,
     "schema_version": 3,
     "solution": false,
     "task": false
    }
   },
   "outputs": [],
   "source": [
    "# Esta celda esta reservada para uso del equipo docente"
   ]
  },
  {
   "cell_type": "code",
   "execution_count": null,
   "metadata": {
    "deletable": false,
    "editable": false,
    "nbgrader": {
     "cell_type": "code",
     "checksum": "8547fa7f03f25a232d31011ca6993ecb",
     "grade": true,
     "grade_id": "cell-3cc704f2884c4717",
     "locked": true,
     "points": 0,
     "schema_version": 3,
     "solution": false,
     "task": false
    }
   },
   "outputs": [],
   "source": [
    "# Esta celda esta reservada para uso del equipo docente"
   ]
  },
  {
   "cell_type": "markdown",
   "metadata": {
    "deletable": false,
    "editable": false,
    "nbgrader": {
     "cell_type": "markdown",
     "checksum": "426ce3368c8eb47c013feea454cb6624",
     "grade": false,
     "grade_id": "cell-31445d212bcb279b",
     "locked": true,
     "schema_version": 3,
     "solution": false,
     "task": false
    }
   },
   "source": [
    "### Invocar el optimizador"
   ]
  },
  {
   "cell_type": "code",
   "execution_count": null,
   "metadata": {
    "deletable": false,
    "editable": false,
    "nbgrader": {
     "cell_type": "code",
     "checksum": "9a78198e37470a72f53b0dfd843784a1",
     "grade": false,
     "grade_id": "cell-b921c09dcdd338ad",
     "locked": true,
     "schema_version": 3,
     "solution": false,
     "task": false
    }
   },
   "outputs": [],
   "source": [
    "print(lp.LpStatus[problema.solve()])"
   ]
  },
  {
   "cell_type": "markdown",
   "metadata": {
    "deletable": false,
    "editable": false,
    "nbgrader": {
     "cell_type": "markdown",
     "checksum": "bf89e6e79e2ab4a546f73693ace4f30d",
     "grade": false,
     "grade_id": "cell-b1766f2e759f8r12",
     "locked": true,
     "schema_version": 3,
     "solution": false,
     "task": false
    },
    "tags": []
   },
   "source": [
    "## Reporte de resultados - Minimización de costos ($z_1$)\n",
    "---"
   ]
  },
  {
   "cell_type": "markdown",
   "metadata": {
    "deletable": false,
    "editable": false,
    "nbgrader": {
     "cell_type": "markdown",
     "checksum": "8a16e2801d386d15eda2b3cf4e98e1a1",
     "grade": false,
     "grade_id": "cell-1422f3d782be3722",
     "locked": true,
     "schema_version": 3,
     "solution": false,
     "task": false
    }
   },
   "source": [
    "**Función objetivo $z_1$**"
   ]
  },
  {
   "cell_type": "code",
   "execution_count": null,
   "metadata": {
    "deletable": false,
    "editable": false,
    "nbgrader": {
     "cell_type": "code",
     "checksum": "91624587b5f177dad8fd6029d3ee3d88",
     "grade": false,
     "grade_id": "cell-139a6bf5358c9cf9",
     "locked": true,
     "schema_version": 3,
     "solution": false,
     "task": false
    }
   },
   "outputs": [],
   "source": [
    "z1 = lp.value(problema.objective)\n",
    "min_costo = z1\n",
    "print(f\"Costo Total: ${z1: .2f}\")\n",
    "print(f\"Costo Total Relativo al Mínimo Costo: {z1/min_costo*100: .2f}%\")"
   ]
  },
  {
   "cell_type": "markdown",
   "metadata": {
    "deletable": false,
    "editable": false,
    "nbgrader": {
     "cell_type": "markdown",
     "checksum": "8d2677eb14ce56f3b48a8099e3e88494",
     "grade": false,
     "grade_id": "cell-1422f3d782be0722",
     "locked": true,
     "schema_version": 3,
     "solution": false,
     "task": false
    }
   },
   "source": [
    "**Función objetivo $z_2$**"
   ]
  },
  {
   "cell_type": "markdown",
   "metadata": {
    "deletable": false,
    "editable": false,
    "nbgrader": {
     "cell_type": "markdown",
     "checksum": "dc4d6da39e4f4d033aeb77a4a1a84cc3",
     "grade": false,
     "grade_id": "cell-96fe008cf9b36b73",
     "locked": true,
     "schema_version": 3,
     "solution": false,
     "task": false
    }
   },
   "source": [
    "**Pregunta 5 (5 puntos)**\n",
    "\n",
    "* Guarda en una variable `z2` el valor de la satisfacción total dado por la expresión:\n",
    "> $z_2 = \\sum_{j \\in J} d_{j} \\sum_{\\{i \\in I | h_{ij} \\leq r\\}} x_{ij}$\n",
    "\n",
    "**Recuerda que** en PuLP puedes usar la función `lp.value(<expresion>)` para evaluar una expresión, reemplazando los valores de las variables por aquellos de la solución óptima. Esta función sólo debe ser llamada luego de usar `<modelo>.solve()` y haber obtenido una solución óptima."
   ]
  },
  {
   "cell_type": "code",
   "execution_count": null,
   "metadata": {
    "deletable": false,
    "nbgrader": {
     "cell_type": "code",
     "checksum": "f85f62ac605389c0327fec6700f2d77d",
     "grade": false,
     "grade_id": "cell-35a066a21350ffe3",
     "locked": false,
     "schema_version": 3,
     "solution": true,
     "task": false
    },
    "tags": []
   },
   "outputs": [],
   "source": [
    "# your code here\n"
   ]
  },
  {
   "cell_type": "code",
   "execution_count": null,
   "metadata": {
    "deletable": false,
    "editable": false,
    "nbgrader": {
     "cell_type": "code",
     "checksum": "8a0b4f79642e49e8c36d8ea4e7b9052f",
     "grade": false,
     "grade_id": "cell-5dc7fdf8e9374a71",
     "locked": true,
     "schema_version": 3,
     "solution": false,
     "task": false
    }
   },
   "outputs": [],
   "source": [
    "print(f\"Satisfacción Total:{z2: .2f}\")\n",
    "print(\n",
    "    f\"Satisfacción Total Relativa al Total de Producción: {z2 / sum(produccion.values()) * 100 :.2f}%\"\n",
    ")"
   ]
  },
  {
   "cell_type": "code",
   "execution_count": null,
   "metadata": {
    "deletable": false,
    "editable": false,
    "nbgrader": {
     "cell_type": "code",
     "checksum": "c415a5af569807aadd83cc04a0ac7d7d",
     "grade": true,
     "grade_id": "cell-e59fa44cbs763298",
     "locked": true,
     "points": 5,
     "schema_version": 3,
     "solution": false,
     "task": false
    }
   },
   "outputs": [],
   "source": [
    "# Esta celda esta reservada para uso del equipo docente"
   ]
  },
  {
   "cell_type": "markdown",
   "metadata": {
    "deletable": false,
    "editable": false,
    "nbgrader": {
     "cell_type": "markdown",
     "checksum": "689df29c75271c97f0e4efa1e8545817",
     "grade": false,
     "grade_id": "cell-0254q0b1f475a1b0",
     "locked": true,
     "schema_version": 3,
     "solution": false,
     "task": false
    }
   },
   "source": [
    "**Depósitos en operación**"
   ]
  },
  {
   "cell_type": "code",
   "execution_count": null,
   "metadata": {
    "deletable": false,
    "editable": false,
    "nbgrader": {
     "cell_type": "code",
     "checksum": "5a8ba2af9cf42591037057f6ef8a0139",
     "grade": false,
     "grade_id": "cell-ar2815b62394b3cb",
     "locked": true,
     "schema_version": 3,
     "solution": false,
     "task": false
    }
   },
   "outputs": [],
   "source": [
    "print(\"Se decidió operar\", sum(y[i].value() for i in I), \"depósitos\")"
   ]
  },
  {
   "cell_type": "markdown",
   "metadata": {
    "deletable": false,
    "editable": false,
    "nbgrader": {
     "cell_type": "markdown",
     "checksum": "6640cd9a5113f39b702cc96a391c5ac1",
     "grade": false,
     "grade_id": "cell-70fdce0425b8c78d",
     "locked": true,
     "schema_version": 3,
     "solution": false,
     "task": false
    }
   },
   "source": [
    "**Asignación de CACs a Depósitos**"
   ]
  },
  {
   "cell_type": "code",
   "execution_count": null,
   "metadata": {
    "deletable": false,
    "editable": false,
    "nbgrader": {
     "cell_type": "code",
     "checksum": "7603cfe046f3dc47571c92151e404f7b",
     "grade": false,
     "grade_id": "cell-5afd5d7ce2a74e13",
     "locked": true,
     "schema_version": 3,
     "solution": false,
     "task": false
    },
    "tags": []
   },
   "outputs": [],
   "source": [
    "matrix = []\n",
    "for j in J:\n",
    "    row = []\n",
    "    for i in I:\n",
    "        if y[i].value() == 1:\n",
    "            if x[i,j].value() == 1:\n",
    "                row.append('X')\n",
    "            elif x[i,j].value() == 0:\n",
    "                row.append('-')\n",
    "            else:\n",
    "                row.append('Error')\n",
    "    matrix.append(row)\n",
    "    \n",
    "df = pd.DataFrame(matrix, index=J, columns=[i for i in I if y[i].value() == 1])\n",
    "df.head(10)"
   ]
  },
  {
   "cell_type": "markdown",
   "metadata": {
    "deletable": false,
    "editable": false,
    "nbgrader": {
     "cell_type": "markdown",
     "checksum": "40232635d72dd55ae9653b0d3847f71e",
     "grade": false,
     "grade_id": "cell-fd6a91wb23723db3",
     "locked": true,
     "schema_version": 3,
     "solution": false,
     "task": false
    },
    "tags": []
   },
   "source": [
    "### Visualizaciones\n",
    "---"
   ]
  },
  {
   "cell_type": "markdown",
   "metadata": {
    "deletable": false,
    "editable": false,
    "nbgrader": {
     "cell_type": "markdown",
     "checksum": "45f44120702e2dc1d4950ab585e8ac8f",
     "grade": false,
     "grade_id": "cell-8zd8e0c4992d661d",
     "locked": true,
     "schema_version": 3,
     "solution": false,
     "task": false
    }
   },
   "source": [
    "**Mapa de la asignación**"
   ]
  },
  {
   "cell_type": "code",
   "execution_count": null,
   "metadata": {
    "deletable": false,
    "editable": false,
    "nbgrader": {
     "cell_type": "code",
     "checksum": "88d898e9cdb1b7742bc97fd136f94146",
     "grade": false,
     "grade_id": "cell-227ef642b93fcc89",
     "locked": true,
     "schema_version": 3,
     "solution": false,
     "task": false
    },
    "tags": []
   },
   "outputs": [],
   "source": [
    "# Para los mapas\n",
    "import folium\n",
    "# Para los marcadores de los mapas\n",
    "from folium.plugins import BeautifyIcon\n",
    "\n",
    "m = folium.Map(location=[6.2, -74.5], tiles=\"OpenStreetMap\", zoom_start=6)\n",
    "\n",
    "for j, lat_lon in cacs_lat_lon.items():\n",
    "    folium.Marker(\n",
    "        location=lat_lon,\n",
    "        tooltip=j,\n",
    "        icon=BeautifyIcon(\n",
    "            icon=\"circle\",\n",
    "            inner_icon_style=\"color:blue;font-size:7px;opacity:0.9;position: relative;top:-0.5px;\",\n",
    "            background_color=\"transparent\",\n",
    "            border_color=\"transparent\",\n",
    "        ),\n",
    "    ).add_to(m)\n",
    "for i, lat_lon in depositos_lat_lon.items():\n",
    "    if y[i].value() > 0:\n",
    "        folium.Marker(\n",
    "            location=lat_lon,\n",
    "            tooltip=i,\n",
    "            icon=BeautifyIcon(\n",
    "                icon=\"caret-up\",\n",
    "                inner_icon_style=\"color:red;font-size:20px;opacity:0.9;position: relative;top:-4.5px;\",\n",
    "                background_color=\"transparent\",\n",
    "                border_color=\"transparent\",\n",
    "            ),\n",
    "        ).add_to(m)\n",
    "\n",
    "red = [(i, j) for i in I for j in J if x[i, j].value() > 0]\n",
    "for i, j in red:\n",
    "    folium.PolyLine(\n",
    "        [depositos_lat_lon[i], cacs_lat_lon[j]], color=\"black\", weight=1, opacity=1\n",
    "    ).add_to(m)\n",
    "\n",
    "m"
   ]
  },
  {
   "cell_type": "markdown",
   "metadata": {
    "deletable": false,
    "editable": false,
    "nbgrader": {
     "cell_type": "markdown",
     "checksum": "920a891bdbc38ececa18241f1cdd4818",
     "grade": false,
     "grade_id": "cell-6a54ae7r4899ef1",
     "locked": true,
     "schema_version": 3,
     "solution": false,
     "task": false
    },
    "tags": []
   },
   "source": [
    "## Modelado - Maximización de satisfacción ($z_2$)\n",
    "---\n",
    "A continuación queremos explorar el cambio en las funciones objetivo $z_1$ y $z_2$ cuando se prioriza $z_2$. Las restricciones y variables del problema permanecen igual, pero la solución cambiará."
   ]
  },
  {
   "cell_type": "markdown",
   "metadata": {
    "deletable": false,
    "editable": false,
    "nbgrader": {
     "cell_type": "markdown",
     "checksum": "15dfc78316232a3e09c9359756803ae6",
     "grade": false,
     "grade_id": "cell-ebebd1c7c932a295",
     "locked": true,
     "schema_version": 3,
     "solution": false,
     "task": false
    }
   },
   "source": [
    "### Declaración del modelo"
   ]
  },
  {
   "cell_type": "code",
   "execution_count": null,
   "metadata": {
    "deletable": false,
    "editable": false,
    "nbgrader": {
     "cell_type": "code",
     "checksum": "196e1a1ff59d9fb94492d3c9f3410c86",
     "grade": false,
     "grade_id": "cell-090036dcdc0ef3f5",
     "locked": true,
     "schema_version": 3,
     "solution": false,
     "task": false
    }
   },
   "outputs": [],
   "source": [
    "problema = lp.LpProblem(sense=lp.LpMaximize)"
   ]
  },
  {
   "cell_type": "markdown",
   "metadata": {
    "deletable": false,
    "editable": false,
    "nbgrader": {
     "cell_type": "markdown",
     "checksum": "eb61c63ba98c29faee9e180818b4320e",
     "grade": false,
     "grade_id": "cell-03qe2c76bf498b03",
     "locked": true,
     "schema_version": 3,
     "solution": false,
     "task": false
    }
   },
   "source": [
    "### Variables de Decisión\n",
    "\n",
    ">* $x_{ij}=\\begin{cases}1, & \\text{si el CAC } j \\in J \\text{ es atendido por el depósito } i \\in I \\\\0, & \\text{de lo contrario} \\end{cases}$\n",
    ">* $y_{i}=\\begin{cases} 1, & \\text{si se decide operar el depósito } i \\in I  \\\\ 0, & \\text{de lo contrario} \\end{cases}$"
   ]
  },
  {
   "cell_type": "code",
   "execution_count": null,
   "metadata": {
    "deletable": false,
    "editable": false,
    "nbgrader": {
     "cell_type": "code",
     "checksum": "5a40e8e043fc58195063fdaad07a406d",
     "grade": false,
     "grade_id": "cell-4a47e1acc9b7910a",
     "locked": true,
     "schema_version": 3,
     "solution": false,
     "task": false
    }
   },
   "outputs": [],
   "source": [
    "x = lp.LpVariable.dicts('atender', [(i,j) for i in I for j in J], cat=lp.LpBinary)\n",
    "y = lp.LpVariable.dicts('operar', I, cat=lp.LpBinary)"
   ]
  },
  {
   "cell_type": "markdown",
   "metadata": {
    "deletable": false,
    "editable": false,
    "nbgrader": {
     "cell_type": "markdown",
     "checksum": "29cb22d6eea9df3d898509e825f0ebbd",
     "grade": false,
     "grade_id": "cell-7r7431c6a3556e72",
     "locked": true,
     "schema_version": 3,
     "solution": false,
     "task": false
    }
   },
   "source": [
    "### Función Objetivo\n",
    "Maximizar satisfacción de los CACs\n",
    ">$\\max z_2 = \\sum_{j \\in J} d_{j} \\sum_{\\{i \\in I | h_{ij} \\leq r\\}} x_{ij}.$\n",
    "\n",
    "Esta expresión es equivalente a:\n",
    ">$\\max z_2 = \\sum_{j \\in J} \\sum_{\\{i \\in I | h_{ij} \\leq r\\}}d_{j} x_{ij}.$"
   ]
  },
  {
   "cell_type": "markdown",
   "metadata": {
    "deletable": false,
    "editable": false,
    "nbgrader": {
     "cell_type": "markdown",
     "checksum": "f354f1b47ff3faca67bf19346fff3a4b",
     "grade": false,
     "grade_id": "cell-b64840b7a4a8e12b",
     "locked": true,
     "schema_version": 3,
     "solution": false,
     "task": false
    }
   },
   "source": [
    "**Pregunta 6 (5 puntos)**\n",
    "* Crea la función objetivo y agrégala al modelo `problema`\n",
    "\n",
    "> **Ejemplo**:\n",
    ">> $ \\sum_{i \\in I}c_i x_i$\n",
    "es equivalente a `lp.lpSum(c[i]*x[i] for i in I)`"
   ]
  },
  {
   "cell_type": "code",
   "execution_count": null,
   "metadata": {
    "deletable": false,
    "nbgrader": {
     "cell_type": "code",
     "checksum": "f0d94687e44a502898f535e0bc6dd740",
     "grade": false,
     "grade_id": "cell-2c972918af49b576",
     "locked": false,
     "schema_version": 3,
     "solution": true,
     "task": false
    }
   },
   "outputs": [],
   "source": [
    "# your code here\n"
   ]
  },
  {
   "cell_type": "code",
   "execution_count": null,
   "metadata": {
    "deletable": false,
    "editable": false,
    "nbgrader": {
     "cell_type": "code",
     "checksum": "ba27c34262fa492db6e11e361e9532d3",
     "grade": true,
     "grade_id": "cell-b515915c40556734",
     "locked": true,
     "points": 5,
     "schema_version": 3,
     "solution": false,
     "task": false
    }
   },
   "outputs": [],
   "source": [
    "# Esta celda esta reservada para uso del equipo docente"
   ]
  },
  {
   "cell_type": "code",
   "execution_count": null,
   "metadata": {
    "deletable": false,
    "editable": false,
    "nbgrader": {
     "cell_type": "code",
     "checksum": "06b793dae99e11f47e6c9da2acddadba",
     "grade": true,
     "grade_id": "cell-50cee558e7e712cc",
     "locked": true,
     "points": 0,
     "schema_version": 3,
     "solution": false,
     "task": false
    }
   },
   "outputs": [],
   "source": [
    "# Esta celda esta reservada para uso del equipo docente"
   ]
  },
  {
   "cell_type": "markdown",
   "metadata": {
    "deletable": false,
    "editable": false,
    "nbgrader": {
     "cell_type": "markdown",
     "checksum": "ee0aad698aeb874dcf1af5e3cc4dfa0a",
     "grade": false,
     "grade_id": "cell-d6fa9f15b71fb4ce",
     "locked": true,
     "schema_version": 3,
     "solution": false,
     "task": false
    }
   },
   "source": [
    "### Restricciones\n",
    "____"
   ]
  },
  {
   "cell_type": "markdown",
   "metadata": {
    "deletable": false,
    "editable": false,
    "nbgrader": {
     "cell_type": "markdown",
     "checksum": "078003e9d34875a2942a7d262df44b6e",
     "grade": false,
     "grade_id": "cell-86c8f6a10453dfdb",
     "locked": true,
     "schema_version": 3,
     "solution": false,
     "task": false
    }
   },
   "source": [
    "**Pregunta 7 (10 puntos)**\n",
    "\n",
    "* Crea la siguiente restricción, asígnale el nombre `'R1_'+str(<indice_del_para_todo>)` y añádela al modelo:\n",
    ">1. Cada CAC debe ser atendido por un único depósito\n",
    ">>`# Para desarrollo del estudiante`"
   ]
  },
  {
   "cell_type": "code",
   "execution_count": null,
   "metadata": {
    "deletable": false,
    "nbgrader": {
     "cell_type": "code",
     "checksum": "9425048242af3b5624f67e80a296c619",
     "grade": false,
     "grade_id": "cell-9e56db5c756de945",
     "locked": false,
     "schema_version": 3,
     "solution": true,
     "task": false
    }
   },
   "outputs": [],
   "source": [
    "# your code here\n"
   ]
  },
  {
   "cell_type": "code",
   "execution_count": null,
   "metadata": {
    "deletable": false,
    "editable": false,
    "nbgrader": {
     "cell_type": "code",
     "checksum": "d8067a905e777e7021d709ce3c5fce20",
     "grade": true,
     "grade_id": "cell-0a9abc8vc51352eb",
     "locked": true,
     "points": 10,
     "schema_version": 3,
     "solution": false,
     "task": false
    }
   },
   "outputs": [],
   "source": [
    "# Esta celda esta reservada para uso del equipo docente"
   ]
  },
  {
   "cell_type": "markdown",
   "metadata": {
    "deletable": false,
    "editable": false,
    "nbgrader": {
     "cell_type": "markdown",
     "checksum": "67cd269a8133769230dd7705a9687021",
     "grade": false,
     "grade_id": "cell-96fe008cf9b46b73",
     "locked": true,
     "schema_version": 3,
     "solution": false,
     "task": false
    }
   },
   "source": [
    "**Pregunta 8 (5 puntos)**\n",
    "\n",
    "* Crea la siguiente restricción, asígnale el nombre `'R2_'+str(<indice_del_para_todo>)` y añádela al modelo:\n",
    ">2. No se debe superar la capacidad de los depósitos y sólo se puede atender CACs desde un depósito si se decide operar el mismo.\n",
    ">>$\\sum_{j \\in J}d_{j}x_{ij} \\leq k_{i}y_{i}, \\; \\forall i \\in I$"
   ]
  },
  {
   "cell_type": "code",
   "execution_count": null,
   "metadata": {
    "deletable": false,
    "nbgrader": {
     "cell_type": "code",
     "checksum": "508824f1071fb2b83d383d00137331d2",
     "grade": false,
     "grade_id": "cell-966cec8c0c1194c7",
     "locked": false,
     "schema_version": 3,
     "solution": true,
     "task": false
    }
   },
   "outputs": [],
   "source": [
    "# your code here\n"
   ]
  },
  {
   "cell_type": "code",
   "execution_count": null,
   "metadata": {
    "deletable": false,
    "editable": false,
    "nbgrader": {
     "cell_type": "code",
     "checksum": "32ae463ac1efa932d31f5b41630531cc",
     "grade": true,
     "grade_id": "cell-e59fa44cd6763298",
     "locked": true,
     "points": 5,
     "schema_version": 3,
     "solution": false,
     "task": false
    }
   },
   "outputs": [],
   "source": [
    "# Esta celda esta reservada para uso del equipo docente"
   ]
  },
  {
   "cell_type": "code",
   "execution_count": null,
   "metadata": {
    "deletable": false,
    "editable": false,
    "nbgrader": {
     "cell_type": "code",
     "checksum": "bebfc6cb0615ebbb2de92c2a4f3f0d58",
     "grade": true,
     "grade_id": "cell-852cce9567dbdf14",
     "locked": true,
     "points": 0,
     "schema_version": 3,
     "solution": false,
     "task": false
    }
   },
   "outputs": [],
   "source": [
    "# Esta celda esta reservada para uso del equipo docente"
   ]
  },
  {
   "cell_type": "markdown",
   "metadata": {
    "deletable": false,
    "editable": false,
    "nbgrader": {
     "cell_type": "markdown",
     "checksum": "bc8890f10a421ccaf28398235ed8b2ac",
     "grade": false,
     "grade_id": "cell-31445d21cbcb279b",
     "locked": true,
     "schema_version": 3,
     "solution": false,
     "task": false
    }
   },
   "source": [
    "### Invocar el optimizador"
   ]
  },
  {
   "cell_type": "code",
   "execution_count": null,
   "metadata": {
    "deletable": false,
    "editable": false,
    "nbgrader": {
     "cell_type": "code",
     "checksum": "cae6624fa6b384ffe35dfdfb76438462",
     "grade": false,
     "grade_id": "cell-b924c09dczd338ad",
     "locked": true,
     "schema_version": 3,
     "solution": false,
     "task": false
    }
   },
   "outputs": [],
   "source": [
    "print(lp.LpStatus[problema.solve()])"
   ]
  },
  {
   "cell_type": "markdown",
   "metadata": {
    "deletable": false,
    "editable": false,
    "nbgrader": {
     "cell_type": "markdown",
     "checksum": "5d98899ae75b4c9993f96b03fb383168",
     "grade": false,
     "grade_id": "cell-b1766f2e759f8b12",
     "locked": true,
     "schema_version": 3,
     "solution": false,
     "task": false
    },
    "tags": []
   },
   "source": [
    "## Reporte de resultados - Maximización de satisfacción ($z_2$)\n",
    "---"
   ]
  },
  {
   "cell_type": "markdown",
   "metadata": {
    "deletable": false,
    "editable": false,
    "nbgrader": {
     "cell_type": "markdown",
     "checksum": "3e0af781c9a3730fdf4544e24278b561",
     "grade": false,
     "grade_id": "cell-1422f3d782be0732",
     "locked": true,
     "schema_version": 3,
     "solution": false,
     "task": false
    }
   },
   "source": [
    "**Función objetivo $z_1$**"
   ]
  },
  {
   "cell_type": "markdown",
   "metadata": {
    "deletable": false,
    "editable": false,
    "nbgrader": {
     "cell_type": "markdown",
     "checksum": "163e7be4451caf583d8c860287ee9c98",
     "grade": false,
     "grade_id": "cell-96fe008cf9b56b73",
     "locked": true,
     "schema_version": 3,
     "solution": false,
     "task": false
    }
   },
   "source": [
    "**Pregunta 9 (5 puntos)**\n",
    "\n",
    "* Guarda en una variable `z1` el valor del costo total de operación y transporte:\n",
    ">`# Para desarrollo del estudiante`\n",
    "\n",
    "**Recuerda que** en PuLP puedes usar la función `lp.value(<expresion>)` para evaluar una expresión, reemplazando los valores de las variables por aquellos de la solución óptima. Esta función sólo debe ser llamada luego de usar `<modelo>.solve()` y haber obtenido una solución óptima."
   ]
  },
  {
   "cell_type": "code",
   "execution_count": null,
   "metadata": {
    "deletable": false,
    "nbgrader": {
     "cell_type": "code",
     "checksum": "e1df1d9b5dbaac10f2e0a93062cbab66",
     "grade": false,
     "grade_id": "cell-01024d3712d24ce2",
     "locked": false,
     "schema_version": 3,
     "solution": true,
     "task": false
    }
   },
   "outputs": [],
   "source": [
    "# your code here\n"
   ]
  },
  {
   "cell_type": "code",
   "execution_count": null,
   "metadata": {
    "deletable": false,
    "editable": false,
    "nbgrader": {
     "cell_type": "code",
     "checksum": "ce2c3dfe0dfbca31f5eb9668c3209c1d",
     "grade": false,
     "grade_id": "cell-ed0376990523568d",
     "locked": true,
     "schema_version": 3,
     "solution": false,
     "task": false
    }
   },
   "outputs": [],
   "source": [
    "print(f\"Costo Total: ${z1: .2f}\")\n",
    "print(f\"Costo Total Relativo al Mínimo Costo: {z1 / min_costo * 100: .2f}%\")"
   ]
  },
  {
   "cell_type": "code",
   "execution_count": null,
   "metadata": {
    "deletable": false,
    "editable": false,
    "nbgrader": {
     "cell_type": "code",
     "checksum": "08f46193738b930e617a021d497a08ee",
     "grade": true,
     "grade_id": "cell-e59fa44cb6763298",
     "locked": true,
     "points": 5,
     "schema_version": 3,
     "solution": false,
     "task": false
    }
   },
   "outputs": [],
   "source": [
    "# Esta celda esta reservada para uso del equipo docente"
   ]
  },
  {
   "cell_type": "markdown",
   "metadata": {
    "deletable": false,
    "editable": false,
    "nbgrader": {
     "cell_type": "markdown",
     "checksum": "e56d9a6ff336abf51fb72897cc5dc2c7",
     "grade": false,
     "grade_id": "cell-1422f3d782be1722",
     "locked": true,
     "schema_version": 3,
     "solution": false,
     "task": false
    }
   },
   "source": [
    "**Función objetivo $z_2$**"
   ]
  },
  {
   "cell_type": "code",
   "execution_count": null,
   "metadata": {
    "deletable": false,
    "editable": false,
    "nbgrader": {
     "cell_type": "code",
     "checksum": "dee7284acd3a4a1186363c41e3568a97",
     "grade": false,
     "grade_id": "cell-c14374f494476de8",
     "locked": true,
     "schema_version": 3,
     "solution": false,
     "task": false
    },
    "tags": []
   },
   "outputs": [],
   "source": [
    "z2 = lp.value(problema.objective)\n",
    "print(f\"Satisfacción Total: {z2: .2f}\")\n",
    "print(\n",
    "    f\"Satisfacción Total Relativa al Total de Producción: {z2 / sum(produccion.values()) * 100: .2f}%\"\n",
    ")"
   ]
  },
  {
   "cell_type": "markdown",
   "metadata": {
    "deletable": false,
    "editable": false,
    "nbgrader": {
     "cell_type": "markdown",
     "checksum": "06ee12f53ac4d5bf53c38791dab4416d",
     "grade": false,
     "grade_id": "cell-0654q0b1f475a1b0",
     "locked": true,
     "schema_version": 3,
     "solution": false,
     "task": false
    }
   },
   "source": [
    "**Depósitos en operación**"
   ]
  },
  {
   "cell_type": "code",
   "execution_count": null,
   "metadata": {
    "deletable": false,
    "editable": false,
    "nbgrader": {
     "cell_type": "code",
     "checksum": "d48db4b2401ea7e277801ef2094cd0c8",
     "grade": false,
     "grade_id": "cell-ar28a5b62394b3vb",
     "locked": true,
     "schema_version": 3,
     "solution": false,
     "task": false
    }
   },
   "outputs": [],
   "source": [
    "print(\"Se decidió operar\", sum([y[i].value() for i in I]), \"depósitos\")"
   ]
  },
  {
   "cell_type": "markdown",
   "metadata": {
    "deletable": false,
    "editable": false,
    "nbgrader": {
     "cell_type": "markdown",
     "checksum": "cbd9b657182f78193990cd50b9438f66",
     "grade": false,
     "grade_id": "cell-14b4e7d5562ba435",
     "locked": true,
     "schema_version": 3,
     "solution": false,
     "task": false
    }
   },
   "source": [
    "**Asignación de CACs a Depósitos**"
   ]
  },
  {
   "cell_type": "code",
   "execution_count": null,
   "metadata": {
    "deletable": false,
    "editable": false,
    "nbgrader": {
     "cell_type": "code",
     "checksum": "8348e46b3e42ddd7b4749fef5bddc7e3",
     "grade": false,
     "grade_id": "cell-dae48dc346185c2d",
     "locked": true,
     "schema_version": 3,
     "solution": false,
     "task": false
    },
    "tags": []
   },
   "outputs": [],
   "source": [
    "matrix = []\n",
    "for j in J:\n",
    "    row = []\n",
    "    for i in I:\n",
    "        if y[i].value() == 1:\n",
    "            if x[i, j].value() == 1:\n",
    "                row.append(\"X\")\n",
    "            elif x[i, j].value() == 0:\n",
    "                row.append(\"-\")\n",
    "            else:\n",
    "                row.append(\"Error\")\n",
    "    matrix.append(row)\n",
    "\n",
    "df = pd.DataFrame(matrix, index=J, columns=[i for i in I if y[i].value() == 1])\n",
    "df.head(10)"
   ]
  },
  {
   "cell_type": "markdown",
   "metadata": {
    "deletable": false,
    "editable": false,
    "nbgrader": {
     "cell_type": "markdown",
     "checksum": "7d145f4589fe4d211584517ff2a7c129",
     "grade": false,
     "grade_id": "cell-fd6a91wb237233b3",
     "locked": true,
     "schema_version": 3,
     "solution": false,
     "task": false
    },
    "tags": []
   },
   "source": [
    "### Visualizaciones\n",
    "---"
   ]
  },
  {
   "cell_type": "markdown",
   "metadata": {
    "deletable": false,
    "editable": false,
    "nbgrader": {
     "cell_type": "markdown",
     "checksum": "dbfc686b5b06c16edfd12e542b3dea69",
     "grade": false,
     "grade_id": "cell-81d8e0c4992d661d",
     "locked": true,
     "schema_version": 3,
     "solution": false,
     "task": false
    }
   },
   "source": [
    "**Mapa de la asignación**"
   ]
  },
  {
   "cell_type": "code",
   "execution_count": null,
   "metadata": {
    "deletable": false,
    "editable": false,
    "nbgrader": {
     "cell_type": "code",
     "checksum": "6952db76fa0e83036a3a95a6b2b975fd",
     "grade": false,
     "grade_id": "cell-e0434b1743bef065",
     "locked": true,
     "schema_version": 3,
     "solution": false,
     "task": false
    }
   },
   "outputs": [],
   "source": [
    "m = folium.Map(location=[6.2, -74.5], tiles=\"OpenStreetMap\", zoom_start=6)\n",
    "\n",
    "for j, lat_lon in cacs_lat_lon.items():\n",
    "    folium.Marker(\n",
    "        location=lat_lon,\n",
    "        tooltip=j,\n",
    "        icon=BeautifyIcon(\n",
    "            icon=\"circle\",\n",
    "            inner_icon_style=\"color:blue;font-size:7px;opacity:0.9;position: relative;top:-0.5px;\",\n",
    "            background_color=\"transparent\",\n",
    "            border_color=\"transparent\",\n",
    "        ),\n",
    "    ).add_to(m)\n",
    "for i, lat_lon in depositos_lat_lon.items():\n",
    "    if y[i].value() > 0:\n",
    "        folium.Marker(\n",
    "            location=lat_lon,\n",
    "            tooltip=i,\n",
    "            icon=BeautifyIcon(\n",
    "                icon=\"caret-up\",\n",
    "                inner_icon_style=\"color:red;font-size:20px;opacity:0.9;position: relative;top:-4.5px;\",\n",
    "                background_color=\"transparent\",\n",
    "                border_color=\"transparent\",\n",
    "            ),\n",
    "        ).add_to(m)\n",
    "\n",
    "red = [(i, j) for i in I for j in J if x[i, j].value() > 0]\n",
    "for i, j in red:\n",
    "    folium.PolyLine(\n",
    "        [depositos_lat_lon[i], cacs_lat_lon[j]], color=\"black\", weight=1, opacity=1\n",
    "    ).add_to(m)\n",
    "\n",
    "m"
   ]
  },
  {
   "cell_type": "markdown",
   "metadata": {
    "deletable": false,
    "editable": false,
    "nbgrader": {
     "cell_type": "markdown",
     "checksum": "c31fa3b5a778839a0269e15cfdad760c",
     "grade": false,
     "grade_id": "cell-6a54ae7e4899ef1",
     "locked": true,
     "schema_version": 3,
     "solution": false,
     "task": false
    },
    "tags": []
   },
   "source": [
    "## Modelado - Maximización de satisfacción ($z_2$) con restricción de costos ($z_1$)\n",
    "---\n",
    "Por último, queremos encontrar un solución intermedia entre la que minimiza los costos y la que maximiza la satisfacción. Hay varias maneras de hacer esto. La que vamos a implementar es colocar una restricción sobre los costos $z_1$ que esté entre los valores obtenidos en los dos casos anteriores.\n",
    "\n",
    "Recordemos que al minimizar los costos, se obtuvo un costo total de 4,318,336.74. Este costo será nuestro punto de referencia. No podemos obtener un costo menor a este. Por otro lado, al maximizar la satisfacción, obtuvimos un costo de 4,837,569.38. Así que en el peor de los casos, el costo es aproximadamente 12.02% mayor al primer caso. Entonces, para obtener una solución intermedia, debemos escoger un umbral entre estos dos valores para crear una restricción sobre los costos. Una posibilidad es restringir que el costo total $z_1$ sea a lo sumo 2% mayor que el mejor costo mientras se maximiza la satisfacción $z_2$. "
   ]
  },
  {
   "cell_type": "markdown",
   "metadata": {
    "deletable": false,
    "editable": false,
    "nbgrader": {
     "cell_type": "markdown",
     "checksum": "32046f7ed4b359dfe697449072da98c0",
     "grade": false,
     "grade_id": "cell-ebebd9c7c932a295",
     "locked": true,
     "schema_version": 3,
     "solution": false,
     "task": false
    }
   },
   "source": [
    "### Declaración del modelo"
   ]
  },
  {
   "cell_type": "code",
   "execution_count": null,
   "metadata": {
    "deletable": false,
    "editable": false,
    "nbgrader": {
     "cell_type": "code",
     "checksum": "7b2653ee50bef3978c2996301cf260a6",
     "grade": false,
     "grade_id": "cell-e645f555d90ee099",
     "locked": true,
     "schema_version": 3,
     "solution": false,
     "task": false
    }
   },
   "outputs": [],
   "source": [
    "problema = lp.LpProblem(sense=lp.LpMaximize)"
   ]
  },
  {
   "cell_type": "markdown",
   "metadata": {
    "deletable": false,
    "editable": false,
    "nbgrader": {
     "cell_type": "markdown",
     "checksum": "962ac4fce55e3827c59e6a60edf6d310",
     "grade": false,
     "grade_id": "cell-032e2w76bf498b03",
     "locked": true,
     "schema_version": 3,
     "solution": false,
     "task": false
    }
   },
   "source": [
    "### Variables de Decisión\n",
    "\n",
    ">* $x_{ij}=\\begin{cases}1, & \\text{si el CAC } j \\in J \\text{ es atendido por el depósito } i \\in I \\\\0, & \\text{de lo contrario} \\end{cases}$\n",
    ">* $y_{i}=\\begin{cases} 1, & \\text{Si se decide operar el depósito } i \\in I  \\\\ 0, & \\text{de lo contrario} \\end{cases}$"
   ]
  },
  {
   "cell_type": "code",
   "execution_count": null,
   "metadata": {
    "deletable": false,
    "editable": false,
    "nbgrader": {
     "cell_type": "code",
     "checksum": "4f07b5ebc5fb596df9b227092669db0d",
     "grade": false,
     "grade_id": "cell-9bf0f83733355950",
     "locked": true,
     "schema_version": 3,
     "solution": false,
     "task": false
    }
   },
   "outputs": [],
   "source": [
    "x = lp.LpVariable.dicts(\"atender\", [(i, j) for i in I for j in J], cat=lp.LpBinary)\n",
    "y = lp.LpVariable.dicts(\"operar\", I, cat=lp.LpBinary)"
   ]
  },
  {
   "cell_type": "markdown",
   "metadata": {
    "deletable": false,
    "editable": false,
    "nbgrader": {
     "cell_type": "markdown",
     "checksum": "d75463cfa004fbb56cdc138a8a4be2c4",
     "grade": false,
     "grade_id": "cell-747431c6a3556e72",
     "locked": true,
     "schema_version": 3,
     "solution": false,
     "task": false
    }
   },
   "source": [
    "### Función Objetivo\n",
    "Maximizar satisfacción de los CACs\n",
    ">$\\max z_2 = \\sum_{j \\in J} d_{j} \\sum_{\\{i \\in I | h_{ij} \\leq r\\}} x_{ij}$"
   ]
  },
  {
   "cell_type": "markdown",
   "metadata": {
    "deletable": false,
    "editable": false,
    "nbgrader": {
     "cell_type": "markdown",
     "checksum": "ceffa0df72b9faee88db8e2f1820fbd6",
     "grade": false,
     "grade_id": "cell-b64840b7a4a8e54b",
     "locked": true,
     "schema_version": 3,
     "solution": false,
     "task": false
    }
   },
   "source": [
    "**Pregunta 10 (5 puntos)**\n",
    "* Crea la función objetivo y agrégala al modelo `problema`\n",
    "\n",
    "> **Ejemplo**:\n",
    ">> $ \\sum_{i \\in I}c_i x_i$\n",
    "es equivalente a `lp.lpSum(c[i]*x[i] for i in I)`"
   ]
  },
  {
   "cell_type": "code",
   "execution_count": null,
   "metadata": {
    "deletable": false,
    "nbgrader": {
     "cell_type": "code",
     "checksum": "1bfd79697b21ddcff64a61ce5589bfa0",
     "grade": false,
     "grade_id": "cell-9471499d1b32f16c",
     "locked": false,
     "schema_version": 3,
     "solution": true,
     "task": false
    }
   },
   "outputs": [],
   "source": [
    "# your code here\n"
   ]
  },
  {
   "cell_type": "code",
   "execution_count": null,
   "metadata": {
    "deletable": false,
    "editable": false,
    "nbgrader": {
     "cell_type": "code",
     "checksum": "07d3d8078c44de994f3a2e6499c74f19",
     "grade": true,
     "grade_id": "cell-b515915c40556735",
     "locked": true,
     "points": 5,
     "schema_version": 3,
     "solution": false,
     "task": false
    }
   },
   "outputs": [],
   "source": [
    "# Esta celda esta reservada para uso del equipo docente"
   ]
  },
  {
   "cell_type": "code",
   "execution_count": null,
   "metadata": {
    "deletable": false,
    "editable": false,
    "nbgrader": {
     "cell_type": "code",
     "checksum": "32d026cd9a6079704764e6394ebe3232",
     "grade": true,
     "grade_id": "cell-50cee558e7e712ct",
     "locked": true,
     "points": 0,
     "schema_version": 3,
     "solution": false,
     "task": false
    }
   },
   "outputs": [],
   "source": [
    "# Esta celda esta reservada para uso del equipo docente"
   ]
  },
  {
   "cell_type": "markdown",
   "metadata": {
    "deletable": false,
    "editable": false,
    "nbgrader": {
     "cell_type": "markdown",
     "checksum": "1d3fdfd2c23f65bfad59a1fe1990818e",
     "grade": false,
     "grade_id": "cell-b6fa9f15b71fb4ce",
     "locked": true,
     "schema_version": 3,
     "solution": false,
     "task": false
    }
   },
   "source": [
    "### Restricciones\n",
    "____"
   ]
  },
  {
   "cell_type": "markdown",
   "metadata": {
    "deletable": false,
    "editable": false,
    "nbgrader": {
     "cell_type": "markdown",
     "checksum": "127301cc72011a25f89ac6fa54027eb4",
     "grade": false,
     "grade_id": "cell-86c8f6az0453dfdb",
     "locked": true,
     "schema_version": 3,
     "solution": false,
     "task": false
    }
   },
   "source": [
    "**Pregunta 11 (10 puntos)**\n",
    "\n",
    "* Crea la siguiente restricción, asígnale el nombre `'R1_'+str(<indice_del_para_todo>)` y añádela al modelo:\n",
    ">1. Cada CAC debe ser atendido por un único depósito\n",
    ">>`# Para desarrollo del estudiante`"
   ]
  },
  {
   "cell_type": "code",
   "execution_count": null,
   "metadata": {
    "deletable": false,
    "nbgrader": {
     "cell_type": "code",
     "checksum": "fa19e326414cf034c62e6b5730a4f3f4",
     "grade": false,
     "grade_id": "cell-a1199fe5724a4d08",
     "locked": false,
     "schema_version": 3,
     "solution": true,
     "task": false
    }
   },
   "outputs": [],
   "source": [
    "# your code here\n"
   ]
  },
  {
   "cell_type": "code",
   "execution_count": null,
   "metadata": {
    "deletable": false,
    "editable": false,
    "nbgrader": {
     "cell_type": "code",
     "checksum": "ecb46d413079cfe42941ec8e2ca00597",
     "grade": true,
     "grade_id": "cell-0a9abc8sc51352eb",
     "locked": true,
     "points": 10,
     "schema_version": 3,
     "solution": false,
     "task": false
    }
   },
   "outputs": [],
   "source": [
    "# Esta celda esta reservada para uso del equipo docente"
   ]
  },
  {
   "cell_type": "markdown",
   "metadata": {
    "deletable": false,
    "editable": false,
    "nbgrader": {
     "cell_type": "markdown",
     "checksum": "9edeebf5129604daa93c61721543ac25",
     "grade": false,
     "grade_id": "cell-96fe008cf9b66b73",
     "locked": true,
     "schema_version": 3,
     "solution": false,
     "task": false
    }
   },
   "source": [
    "**Pregunta 12 (5 puntos)**\n",
    "\n",
    "* Crea la siguiente restricción, asígnale el nombre `'R2_'+str(<indice_del_para_todo>)` y añádela al modelo:\n",
    ">2. No se debe superar la capacidad de los depósitos y sólo se puede atender CACs desde un depósito si se decide operar el mismo.\n",
    ">>$\\sum_{j \\in J}d_{j}x_{ij} \\leq k_{i}y_{i}, \\; \\forall i \\in I$"
   ]
  },
  {
   "cell_type": "code",
   "execution_count": null,
   "metadata": {
    "deletable": false,
    "nbgrader": {
     "cell_type": "code",
     "checksum": "7a70ec1d2a472b4bf6d8950290b2e31d",
     "grade": false,
     "grade_id": "cell-c2243ba0fd1f085e",
     "locked": false,
     "schema_version": 3,
     "solution": true,
     "task": false
    }
   },
   "outputs": [],
   "source": [
    "# your code here\n"
   ]
  },
  {
   "cell_type": "code",
   "execution_count": null,
   "metadata": {
    "deletable": false,
    "editable": false,
    "nbgrader": {
     "cell_type": "code",
     "checksum": "eb230efea136c2e24578f0666f813e77",
     "grade": true,
     "grade_id": "cell-e19fa44cb6763298",
     "locked": true,
     "points": 5,
     "schema_version": 3,
     "solution": false,
     "task": false
    }
   },
   "outputs": [],
   "source": [
    "# Esta celda esta reservada para uso del equipo docente"
   ]
  },
  {
   "cell_type": "markdown",
   "metadata": {
    "deletable": false,
    "editable": false,
    "nbgrader": {
     "cell_type": "markdown",
     "checksum": "6bad20d1d37e4fe06763505bc1138422",
     "grade": false,
     "grade_id": "cell-96fe008cf9b06b73",
     "locked": true,
     "schema_version": 3,
     "solution": false,
     "task": false
    }
   },
   "source": [
    "**Pregunta 13 (10 puntos)**\n",
    "\n",
    "* Crea la siguiente restricción, asígnale el nombre `'R3'` y añádela al modelo:\n",
    ">El costo total no debe superar en más de un 2% al mejor costo obtenido.\n",
    ">>`# Para desarrollo del estudiante` \n",
    "\n",
    "**Nota:** Utiliza el valor `z1_` a continuación como el mejor costo obtenido. Inclúyelo en la restricción según sea conveniente."
   ]
  },
  {
   "cell_type": "code",
   "execution_count": null,
   "metadata": {
    "deletable": false,
    "editable": false,
    "nbgrader": {
     "cell_type": "code",
     "checksum": "e1b1dc91326eb2a45854f2ff99a8d840",
     "grade": false,
     "grade_id": "cell-c773841c94606406",
     "locked": true,
     "schema_version": 3,
     "solution": false,
     "task": false
    }
   },
   "outputs": [],
   "source": [
    "z1_ = 4318336.74"
   ]
  },
  {
   "cell_type": "code",
   "execution_count": null,
   "metadata": {
    "deletable": false,
    "nbgrader": {
     "cell_type": "code",
     "checksum": "de1724a5f0f3712f99d31776d4e3f5a3",
     "grade": false,
     "grade_id": "cell-356d88831a3310d8",
     "locked": false,
     "schema_version": 3,
     "solution": true,
     "task": false
    }
   },
   "outputs": [],
   "source": [
    "# your code here\n"
   ]
  },
  {
   "cell_type": "code",
   "execution_count": null,
   "metadata": {
    "deletable": false,
    "editable": false,
    "nbgrader": {
     "cell_type": "code",
     "checksum": "685c310934a90b862c88d0ca5400a871",
     "grade": true,
     "grade_id": "cell-e592a44cb6763298",
     "locked": true,
     "points": 10,
     "schema_version": 3,
     "solution": false,
     "task": false
    }
   },
   "outputs": [],
   "source": [
    "# Esta celda esta reservada para uso del equipo docente"
   ]
  },
  {
   "cell_type": "code",
   "execution_count": null,
   "metadata": {
    "deletable": false,
    "editable": false,
    "nbgrader": {
     "cell_type": "code",
     "checksum": "04327b129ede6156537a6f50dedace88",
     "grade": true,
     "grade_id": "cell-852cae9567dbdf14",
     "locked": true,
     "points": 0,
     "schema_version": 3,
     "solution": false,
     "task": false
    }
   },
   "outputs": [],
   "source": [
    "# Esta celda esta reservada para uso del equipo docente"
   ]
  },
  {
   "cell_type": "markdown",
   "metadata": {
    "deletable": false,
    "editable": false,
    "nbgrader": {
     "cell_type": "markdown",
     "checksum": "81f638635e5653744a44807e000b9c99",
     "grade": false,
     "grade_id": "cell-31945d212bcb279b",
     "locked": true,
     "schema_version": 3,
     "solution": false,
     "task": false
    }
   },
   "source": [
    "### Invocar el optimizador"
   ]
  },
  {
   "cell_type": "code",
   "execution_count": null,
   "metadata": {
    "deletable": false,
    "editable": false,
    "nbgrader": {
     "cell_type": "code",
     "checksum": "2eefbb4a03abf809cc80f715fcf64b7d",
     "grade": false,
     "grade_id": "cell-b924c09dcdd338ad",
     "locked": true,
     "schema_version": 3,
     "solution": false,
     "task": false
    }
   },
   "outputs": [],
   "source": [
    "print(lp.LpStatus[problema.solve()])"
   ]
  },
  {
   "cell_type": "markdown",
   "metadata": {
    "deletable": false,
    "editable": false,
    "nbgrader": {
     "cell_type": "markdown",
     "checksum": "cca9f7a72d1af950dd8161b2ccaa7fda",
     "grade": false,
     "grade_id": "cell-b1766f2e759f1b12",
     "locked": true,
     "schema_version": 3,
     "solution": false,
     "task": false
    },
    "tags": []
   },
   "source": [
    "## Reporte de resultados - Maximización de satisfacción ($z_2$) con restricción de costos ($z_1$)\n",
    "---"
   ]
  },
  {
   "cell_type": "markdown",
   "metadata": {
    "deletable": false,
    "editable": false,
    "nbgrader": {
     "cell_type": "markdown",
     "checksum": "5579e070eb85b06f664598e7f33f3a7a",
     "grade": false,
     "grade_id": "cell-1422f3d782be0721",
     "locked": true,
     "schema_version": 3,
     "solution": false,
     "task": false
    }
   },
   "source": [
    "**Función objetivo $z_1$**"
   ]
  },
  {
   "cell_type": "markdown",
   "metadata": {
    "deletable": false,
    "editable": false,
    "nbgrader": {
     "cell_type": "markdown",
     "checksum": "70daeabc81f88e141496b346d414538e",
     "grade": false,
     "grade_id": "cell-96fe008cf9b16b73",
     "locked": true,
     "schema_version": 3,
     "solution": false,
     "task": false
    }
   },
   "source": [
    "**Pregunta 14 (5 puntos)**\n",
    "\n",
    "* Guarda en una variable `z1` el valor del costo total de operación y transporte:\n",
    ">`# Para desarrollo del estudiante`\n",
    "\n",
    "**Recuerda que** en PuLP puedes usar la función `lp.value(<expresion>)` para evaluar una expresión, reemplazando los valores de las variables por aquellos de la solución óptima. Esta función sólo debe ser llamada luego de usar `<modelo>.solve()` y haber obtenido una solución óptima."
   ]
  },
  {
   "cell_type": "code",
   "execution_count": null,
   "metadata": {
    "deletable": false,
    "nbgrader": {
     "cell_type": "code",
     "checksum": "f6699f9fd4a58b4de1111daf3a6b1601",
     "grade": false,
     "grade_id": "cell-ad2773f613837358",
     "locked": false,
     "schema_version": 3,
     "solution": true,
     "task": false
    }
   },
   "outputs": [],
   "source": [
    "# your code here\n"
   ]
  },
  {
   "cell_type": "code",
   "execution_count": null,
   "metadata": {
    "deletable": false,
    "editable": false,
    "nbgrader": {
     "cell_type": "code",
     "checksum": "02d859b78c10ef8efffb0fcce80850ac",
     "grade": false,
     "grade_id": "cell-2b7db3f121adc6b9",
     "locked": true,
     "schema_version": 3,
     "solution": false,
     "task": false
    }
   },
   "outputs": [],
   "source": [
    "print(f\"Costo Total: ${z1: .2f}\")\n",
    "print(f\"Costo Total Relativo al Mínimo Costo: {z1 / min_costo * 100: .2f}%\")"
   ]
  },
  {
   "cell_type": "code",
   "execution_count": null,
   "metadata": {
    "deletable": false,
    "editable": false,
    "nbgrader": {
     "cell_type": "code",
     "checksum": "6ab227ded533bf31addadbf6b2e3c6b2",
     "grade": true,
     "grade_id": "cell-e59fa43cb6763298",
     "locked": true,
     "points": 5,
     "schema_version": 3,
     "solution": false,
     "task": false
    }
   },
   "outputs": [],
   "source": [
    "# Esta celda esta reservada para uso del equipo docente"
   ]
  },
  {
   "cell_type": "markdown",
   "metadata": {
    "deletable": false,
    "editable": false,
    "nbgrader": {
     "cell_type": "markdown",
     "checksum": "182c44a90eb3020302321cf7aa079b88",
     "grade": false,
     "grade_id": "cell-1422f3d782be0822",
     "locked": true,
     "schema_version": 3,
     "solution": false,
     "task": false
    }
   },
   "source": [
    "**Función objetivo $z_2$**"
   ]
  },
  {
   "cell_type": "code",
   "execution_count": null,
   "metadata": {
    "deletable": false,
    "editable": false,
    "nbgrader": {
     "cell_type": "code",
     "checksum": "722f304f49677a262d2c064d1edb86f5",
     "grade": false,
     "grade_id": "cell-fd7681ab20f708ae",
     "locked": true,
     "schema_version": 3,
     "solution": false,
     "task": false
    },
    "tags": []
   },
   "outputs": [],
   "source": [
    "z2 = lp.value(problema.objective)\n",
    "print(f\"Satisfacción Total: {z2: .2f}\")\n",
    "print(f\"Satisfacción Total Relativa al Total de Producción: {z2 / sum(produccion.values()) * 100: .2f}%\")"
   ]
  },
  {
   "cell_type": "markdown",
   "metadata": {
    "deletable": false,
    "editable": false,
    "nbgrader": {
     "cell_type": "markdown",
     "checksum": "9e7f32e86af720cf979456cb3faf15b4",
     "grade": false,
     "grade_id": "cell-0154q0b1f475a1b0",
     "locked": true,
     "schema_version": 3,
     "solution": false,
     "task": false
    }
   },
   "source": [
    "**Depósitos en operación**"
   ]
  },
  {
   "cell_type": "code",
   "execution_count": null,
   "metadata": {
    "deletable": false,
    "editable": false,
    "nbgrader": {
     "cell_type": "code",
     "checksum": "4c7257e0d977b6444c06e3656b90d90c",
     "grade": false,
     "grade_id": "cell-ar28a5b62394b3cb",
     "locked": true,
     "schema_version": 3,
     "solution": false,
     "task": false
    }
   },
   "outputs": [],
   "source": [
    "print(\"Se decidió operar\", sum(y[i].value() for i in I), \"depósitos\")"
   ]
  },
  {
   "cell_type": "markdown",
   "metadata": {
    "deletable": false,
    "editable": false,
    "nbgrader": {
     "cell_type": "markdown",
     "checksum": "d0c00dca9a70f32e2c82a9242d5d9ac1",
     "grade": false,
     "grade_id": "cell-183b9ba1bf5f8615",
     "locked": true,
     "schema_version": 3,
     "solution": false,
     "task": false
    }
   },
   "source": [
    "**Asignación de CACs a Depósitos**"
   ]
  },
  {
   "cell_type": "code",
   "execution_count": null,
   "metadata": {
    "deletable": false,
    "editable": false,
    "nbgrader": {
     "cell_type": "code",
     "checksum": "58b12be4973dd94281727b2b639be879",
     "grade": false,
     "grade_id": "cell-0084c684d30878a9",
     "locked": true,
     "schema_version": 3,
     "solution": false,
     "task": false
    },
    "tags": []
   },
   "outputs": [],
   "source": [
    "matrix = []\n",
    "for j in J:\n",
    "    row = []\n",
    "    for i in I:\n",
    "        if y[i].value() == 1:\n",
    "            if x[i, j].value() == 1:\n",
    "                row.append(\"X\")\n",
    "            elif x[i, j].value() == 0:\n",
    "                row.append(\"-\")\n",
    "            else:\n",
    "                row.append(\"Error\")\n",
    "    matrix.append(row)\n",
    "\n",
    "df = pd.DataFrame(matrix, index=J, columns=[i for i in I if y[i].value() == 1])\n",
    "df.head(10)"
   ]
  },
  {
   "cell_type": "markdown",
   "metadata": {
    "deletable": false,
    "editable": false,
    "nbgrader": {
     "cell_type": "markdown",
     "checksum": "fd6db03eff207951b42112d37a0af71e",
     "grade": false,
     "grade_id": "cell-fd6a9awb23723db3",
     "locked": true,
     "schema_version": 3,
     "solution": false,
     "task": false
    },
    "tags": []
   },
   "source": [
    "### Visualizaciones\n",
    "---"
   ]
  },
  {
   "cell_type": "markdown",
   "metadata": {
    "deletable": false,
    "editable": false,
    "nbgrader": {
     "cell_type": "markdown",
     "checksum": "131622da03068213f857fe645383fa6a",
     "grade": false,
     "grade_id": "cell-81d8e0c49a2d661d",
     "locked": true,
     "schema_version": 3,
     "solution": false,
     "task": false
    }
   },
   "source": [
    "**Mapa de la asignación**"
   ]
  },
  {
   "cell_type": "code",
   "execution_count": null,
   "metadata": {
    "deletable": false,
    "editable": false,
    "nbgrader": {
     "cell_type": "code",
     "checksum": "a5554a0336f13e576024d48b7d723118",
     "grade": false,
     "grade_id": "cell-c9eac5548f4ace6d",
     "locked": true,
     "schema_version": 3,
     "solution": false,
     "task": false
    }
   },
   "outputs": [],
   "source": [
    "m = folium.Map(location=[6.2, -74.5], tiles=\"OpenStreetMap\", zoom_start=6)\n",
    "\n",
    "for j, lat_lon in cacs_lat_lon.items():\n",
    "    folium.Marker(\n",
    "        location=lat_lon,\n",
    "        tooltip=j,\n",
    "        icon=BeautifyIcon(\n",
    "            icon=\"circle\",\n",
    "            inner_icon_style=\"color:blue;font-size:7px;opacity:0.9;position: relative;top:-0.5px;\",\n",
    "            background_color=\"transparent\",\n",
    "            border_color=\"transparent\",\n",
    "        ),\n",
    "    ).add_to(m)\n",
    "\n",
    "for i, lat_lon in depositos_lat_lon.items():\n",
    "    if y[i].value() > 0:\n",
    "        folium.Marker(\n",
    "            location=lat_lon,\n",
    "            tooltip=i,\n",
    "            icon=BeautifyIcon(\n",
    "                icon=\"caret-up\",\n",
    "                inner_icon_style=\"color:red;font-size:20px;opacity:0.9;position: relative;top:-4.5px;\",\n",
    "                background_color=\"transparent\",\n",
    "                border_color=\"transparent\",\n",
    "            ),\n",
    "        ).add_to(m)\n",
    "\n",
    "red = [(i, j) for i in I for j in J if x[i, j].value() > 0]\n",
    "for i, j in red:\n",
    "    folium.PolyLine(\n",
    "        [depositos_lat_lon[i], cacs_lat_lon[j]], color=\"black\", weight=1, opacity=1\n",
    "    ).add_to(m)\n",
    "m"
   ]
  },
  {
   "cell_type": "markdown",
   "metadata": {
    "deletable": false,
    "editable": false,
    "jp-MarkdownHeadingCollapsed": true,
    "nbgrader": {
     "cell_type": "markdown",
     "checksum": "f199b2eda9aa3675d639fba6627d7414",
     "grade": false,
     "grade_id": "cell-dfe6410f73ff4470",
     "locked": true,
     "schema_version": 3,
     "solution": false,
     "task": false
    },
    "tags": []
   },
   "source": [
    "### Reflexión\n",
    "---\n",
    "¿De qué forma podrías obtener soluciones intermedias adicionales? ¿Podrías presentarlas gráficamente como una frontera de Pareto? ¿Si tuvieras que recomendar alguna solución, con qué criterio la escogerías?"
   ]
  },
  {
   "cell_type": "markdown",
   "metadata": {
    "deletable": false,
    "editable": false,
    "nbgrader": {
     "cell_type": "markdown",
     "checksum": "e48da0e10c374dc5df65a82c12661384",
     "grade": false,
     "grade_id": "cell-f183f5842fb59b1a",
     "locked": true,
     "schema_version": 3,
     "solution": false,
     "task": false
    },
    "tags": []
   },
   "source": [
    "### Fin del laboratorio\n",
    "---\n",
    "¡Muchos éxitos!"
   ]
  }
 ],
 "metadata": {
  "kernelspec": {
   "display_name": "Python 3",
   "language": "python",
   "name": "python3"
  },
  "language_info": {
   "codemirror_mode": {
    "name": "ipython",
    "version": 3
   },
   "file_extension": ".py",
   "mimetype": "text/x-python",
   "name": "python",
   "nbconvert_exporter": "python",
   "pygments_lexer": "ipython3",
   "version": "3.7.6"
  }
 },
 "nbformat": 4,
 "nbformat_minor": 4
}
