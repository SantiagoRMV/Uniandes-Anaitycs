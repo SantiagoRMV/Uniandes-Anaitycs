{
 "cells": [
  {
   "cell_type": "markdown",
   "id": "qEoAXAkhbaNo",
   "metadata": {
    "deletable": false,
    "editable": false,
    "id": "qEoAXAkhbaNo",
    "nbgrader": {
     "cell_type": "markdown",
     "checksum": "d9e0eb27050d4fbc60f5ba8428ba9893",
     "grade": false,
     "grade_id": "cell-e8fa9269aba80c31",
     "locked": true,
     "schema_version": 3,
     "solution": false,
     "task": false
    },
    "tags": []
   },
   "source": [
    "# Caso 4: selección y programación de proyectos II\n",
    "\n",
    "---\n",
    "## Maestría en Inteligencia Analítica para la Toma de Decisiones\n",
    "\n",
    "* **Profesor**:\n",
    "    * *Andrés Medaglia*\n",
    "* **Asistentes**:\n",
    "    * *Ariel Rojas*\n",
    "    * *Carlos Arroyo*"
   ]
  },
  {
   "cell_type": "markdown",
   "id": "azedKUAxbaNs",
   "metadata": {
    "deletable": false,
    "editable": false,
    "id": "azedKUAxbaNs",
    "nbgrader": {
     "cell_type": "markdown",
     "checksum": "b59ff137d8fe980db37e3dd03b287534",
     "grade": false,
     "grade_id": "cell-056812357650677f",
     "locked": true,
     "schema_version": 3,
     "solution": false,
     "task": false
    }
   },
   "source": [
    "## Instrucciones generales\n",
    "\n",
    "El primer paso antes de resolver este laboratorio es leer y entender el **enunciado del caso**. Una vez tengas claro el caso, te explicamos la estructura de este laboratorio (los demás laboratorios siguen una estructura similar).\n",
    "\n",
    "Este laboratorio tiene las siguientes secciones:\n",
    "* **Formulación**: un breve resumen del modelo con notación matemática y descripción de sus componentes\n",
    "* **Importación de librerías**\n",
    "* **Creación de parámetros**\n",
    "* **Modelado**: aquí implementamos el modelo visto en la formulación (aquí encontrarás por lo general celdas de código que debes completar, ¡nosotros te guiaremos en el proceso!)\n",
    "* **Reporte de resultados**: esta sección nos muestra las soluciones encontradas por el modelo y, en ocasiones, algunas visualizaciones interesantes para entenderlo mejor. (es posible que en ciertas prácticas debas completar algunas celdas también)\n",
    "\n",
    "Este tipo de actividades se evaluará sobre un total de 100 puntos. Las celdas calificables se distinguen por tener la instrucción `# your code here`. Antes de estas celdas  encontrarás instrucciones y consejos para resolver las preguntas, también el puntaje que le corresponde.\n",
    "\n",
    "¡Éxitos!"
   ]
  },
  {
   "cell_type": "markdown",
   "id": "7ANSyL0DbaNt",
   "metadata": {
    "deletable": false,
    "editable": false,
    "id": "7ANSyL0DbaNt",
    "nbgrader": {
     "cell_type": "markdown",
     "checksum": "08d79ef86da5fcc7789cd27939b6fd0c",
     "grade": false,
     "grade_id": "cell-9fbd2d9c824c07a3",
     "locked": true,
     "schema_version": 3,
     "solution": false,
     "task": false
    },
    "tags": []
   },
   "source": [
    "## Formulación\n",
    "---\n",
    "\n",
    "Te presentamos la formulación del caso de la semana de forma resumida. Te recomendamos revisar la formulación una vez hayas leído el enunciado del caso. Es bueno que te familiarices con los elementos de la formulación antes de iniciar la implementación.\n",
    "\n",
    "### Conjuntos y parámetros\n",
    ">#### **Conjuntos**\n",
    ">* $P$: conjunto de pozos candidatos\n",
    ">* $T$: conjunto de periodos (años) en el horizonte de planeación\n",
    "\n",
    ">#### **Parámetros**\n",
    ">* $n$: máximo número de pozos a perforar en el horizonte de planeación\n",
    ">* $b$: presupuesto total de la compañía para la realización de proyectos (millones de USD)\n",
    ">* $s$: número de operarios disponibles por año\n",
    ">* $u$: número de generadores disponibles por año\n",
    ">* $p_i$: promedio diario (miles de barriles) de crudo producido en el pozo $i\\in P$\n",
    ">* $o_i$: número de operarios requeridos para perforar el pozo $i\\in P$\n",
    ">* $g_i$: número generadores requeridos para perforar el pozo $i\\in P$\n",
    ">* $m_t$: meta de producción (miles de barriles) promedio diario para el año $t\\in T$\n",
    ">* $v_{it}$: utilidad por perforar el pozo $i\\in P$ en el año $t\\in T$ (millones de USD)\n",
    ">* $c_{it}$: costo por perforar el pozo $i\\in P$ en el año $t\\in T$ (millones de USD)\n",
    "\n",
    "\n",
    "### Variables de decisión\n",
    "> $x_{it} = \\begin{cases}1, & \\text{si el pozo} \\, i\\in P \\text{ se perfora en el año} \\, t\\in T \\\\ 0, & \\text{de lo contrario}\\end{cases}$\n",
    "\n",
    "### Restricciones\n",
    "> 1. Un proyecto se hace máximo una vez dentro del horizonte de planeación\n",
    ">> $\\sum_{t\\in T}x_{it} \\, \\leq \\, 1, \\; \\forall i\\in P$\n",
    "> 2. La inversión total no puede superar el presupuesto\n",
    ">>$\\sum_{t\\in T}\\sum_{i\\in P}c_{it}x_{it} \\, \\leq \\, b$\n",
    "> 3. Las metas de producción (en miles de barriles diarios) deben ser cumplidas\n",
    ">>$\\sum_{i\\in P}p_i x_{it} \\, \\geq \\, m_t \\; \\forall t\\in T$\n",
    "> 4. No se debe exceder la cantidad de operarios disponibles\n",
    ">> $\\sum_{i\\in P}o_i x_{it} \\leq s, \\;\\; \\forall t\\in T$\n",
    "> 5. No se debe exceder la cantidad de generadores disponibles\n",
    ">> $\\sum_{i\\in P}g_i x_{it} \\leq u, \\;\\; \\forall t\\in T$\n",
    "> 6. No se debe exceder la cantidad de pozos perforados impuesta por el gobierno\n",
    ">> $\\sum_{t\\in T}\\sum_{i\\in P}x_{it} \\, \\leq \\, n$\n",
    ">\n",
    "> **Naturaleza de las variables**\n",
    ">> $x_{it} \\in \\{0,1\\}, \\; \\forall i\\in P, t\\in T$\n",
    ">\n",
    ">#### Nuevas restricciones\n",
    "> 7. Petroco tendrá disponibles 12 millones USD para invertir en la perforación de pozos cada año. El dinero que no sea invertido estará disponible para la operación de los siguientes años. Adicionalmente, la junta directiva ha aprobado que el 5% de las utilidades de un año sean reinvertidas en los años siguientes\n",
    ">\n",
    ">> A. Inventario del primer periodo\n",
    ">>> $I_1 = 12 - \\sum_{i\\in P}c_{i,1}x_{i,1}$\n",
    ">\n",
    ">> B. Inventario de los siguientes periodos\n",
    ">>> *# Para desarrollo del estudiante*\n",
    ">\n",
    ">> **Naturaleza de las variables**\n",
    ">>> $I_t$: presupuesto (en millones de USD) que queda para invertir en periodos siguientes, al final del año $t\\in T$\n",
    ">>> $I_t \\geq 0, \\; \\forall t\\in T$\n",
    ">\n",
    "> 8. Petroco tiene la opción de no cumplir las metas de producción sujeto a una penalización. Por cada 1,000 barriles que no se produzcan de la meta diaria a lo largo del año, Petroco deberá pagar anualmente 17 millones USD\n",
    ">\n",
    ">> Nueva funcion objetivo\n",
    ">>> *# Para desarrollo del estudiante*\n",
    ">\n",
    ">> A. Nueva restricción de metas de producción\n",
    ">>> *# Para desarrollo del estudiante*\n",
    ">\n",
    ">> **Naturaleza de las variables**\n",
    ">>> $m_t^-$: cantidad (en miles de barriles promedio diarios) de crudo por la cual se incumplió la meta del año $t\\in T$\n",
    ">>> $m_t^- \\geq 0, \\; \\forall t\\in T$\n",
    ">\n",
    "> 9. La Vicepresidencia ha decidido entrenar nuevos operarios en cada año, esto se debe reflejar en los operarios utilizados\n",
    ">> $d_t$: operarios disponibles en el año $t\\in T$ (antes eran 6 en cada año)\n",
    ">>\n",
    ">>> *# Para desarrollo del estudiante*\n",
    "\n",
    "\n",
    "### Función objetivo\n",
    "> Maximizar las utilidades totales por perforar pozos durante el horizonte de pleaneación\n",
    ">> $\\max \\; \\sum_{t\\in T}\\sum_{i\\in P}v_{it}x_{it}$"
   ]
  },
  {
   "cell_type": "markdown",
   "id": "Im2a3qeVbaNu",
   "metadata": {
    "deletable": false,
    "editable": false,
    "id": "Im2a3qeVbaNu",
    "nbgrader": {
     "cell_type": "markdown",
     "checksum": "d2a894af9cffbb75dbfd7e5ec5ce9f59",
     "grade": false,
     "grade_id": "cell-db31881de45215f2",
     "locked": true,
     "schema_version": 3,
     "solution": false,
     "task": false
    },
    "tags": []
   },
   "source": [
    "## Importación de librerías\n",
    "---\n",
    "Antes de empezar, es necesario importar los paquetes que vamos a utilizar durante la práctica:\n",
    "* El paquete `pulp` permite crear modelos de optimización, crear variables, añadir restricciones y muchos más. Le asignamos el alias de `lp`.\n",
    "* El paquete `pandas` es muy útil para el análisis de datos en general. Le asignamos el alias de `pd`.\n",
    "* El paquete `matplotlib.pyplot` es muy útil para gráficar. Le asignamos el alias de `plt`.\n",
    "\n",
    "A lo largo del código, puedes corroborar que se usan estos paquetes cuando veas un objeto o método que empiece con los alias `lp`, `pd` o `plt`."
   ]
  },
  {
   "cell_type": "code",
   "execution_count": 1,
   "id": "2vsPOdCobaNv",
   "metadata": {
    "deletable": false,
    "editable": false,
    "id": "2vsPOdCobaNv",
    "nbgrader": {
     "cell_type": "code",
     "checksum": "6aa40e6ce923f500b7fe556315de6662",
     "grade": false,
     "grade_id": "cell-8e960069c708e13f",
     "locked": true,
     "schema_version": 3,
     "solution": false,
     "task": false
    },
    "tags": []
   },
   "outputs": [
    {
     "name": "stderr",
     "output_type": "stream",
     "text": [
      "/var/folders/cw/dvczbrmn4d7g1pplvzvyvc2h0000gn/T/ipykernel_19830/2672345391.py:6: MatplotlibDeprecationWarning: The seaborn styles shipped by Matplotlib are deprecated since 3.6, as they no longer correspond to the styles shipped by seaborn. However, they will remain available as 'seaborn-v0_8-<style>'. Alternatively, directly use the seaborn API instead.\n",
      "  plt.style.use('seaborn')\n"
     ]
    }
   ],
   "source": [
    "import matplotlib.pyplot as plt\n",
    "import pandas as pd\n",
    "import pulp as lp\n",
    "\n",
    "%config InlineBackend.figure_format='retina'\n",
    "plt.style.use('seaborn')"
   ]
  },
  {
   "cell_type": "markdown",
   "id": "aHwXVK_6baNw",
   "metadata": {
    "deletable": false,
    "editable": false,
    "id": "aHwXVK_6baNw",
    "nbgrader": {
     "cell_type": "markdown",
     "checksum": "dfc0f6b396fbbc2ea0135eeed1725dba",
     "grade": false,
     "grade_id": "cell-685b1f71ce44c0b0",
     "locked": true,
     "schema_version": 3,
     "solution": false,
     "task": false
    },
    "tags": []
   },
   "source": [
    "## Creación de conjuntos y parámetros\n",
    "---"
   ]
  },
  {
   "cell_type": "markdown",
   "id": "V0ACJpK5baNx",
   "metadata": {
    "deletable": false,
    "editable": false,
    "id": "V0ACJpK5baNx",
    "nbgrader": {
     "cell_type": "markdown",
     "checksum": "9e9fc7c05f51300c1f563693a91c16b2",
     "grade": false,
     "grade_id": "cell-139d636ca944c8b5",
     "locked": true,
     "schema_version": 3,
     "solution": false,
     "task": false
    }
   },
   "source": [
    "### Conjuntos\n",
    "\n",
    "Para el Caso 4, usaremos los mismos conjuntos del Caso 3"
   ]
  },
  {
   "cell_type": "code",
   "execution_count": 2,
   "id": "8tfdv5qMbaNx",
   "metadata": {
    "deletable": false,
    "editable": false,
    "id": "8tfdv5qMbaNx",
    "nbgrader": {
     "cell_type": "code",
     "checksum": "ae53fb49f250ef2416304afdf6f4ef27",
     "grade": false,
     "grade_id": "cell-c957b1754670e292",
     "locked": true,
     "schema_version": 3,
     "solution": false,
     "task": false
    }
   },
   "outputs": [],
   "source": [
    "# Conjunto de pozos\n",
    "Pozos = [\n",
    "    \"DELE B-1\",\n",
    "    \"EL MORRO-1\",\n",
    "    \"FLORENA A-5\",\n",
    "    \"FLORENA C-6\",\n",
    "    \"FLORENA N-2\",\n",
    "    \"FLORENA N-4 ST\",\n",
    "    \"FLORENA-T8\",\n",
    "    \"PAUTO J-6\",\n",
    "    \"PAUTO M4\",\n",
    "    \"PAUTO M-5\",\n",
    "    \"PAUTO SUR B-1\",\n",
    "    \"PAUTO SUR C-2\",\n",
    "    \"PAUTO-1\",\n",
    "    \"VOLCANERA A-1\",\n",
    "    \"VOLCANERA C-2\",\n",
    "]\n",
    "\n",
    "# Conjunto de años\n",
    "Tiempos = range(1, 11)  # No incluye 11\n",
    "\n",
    "# Conjunto de tuplas (pozo, año)\n",
    "Pozo_x_Tiempo = [(i, t) for i in Pozos for t in Tiempos]"
   ]
  },
  {
   "cell_type": "markdown",
   "id": "4eQnK7pabaNy",
   "metadata": {
    "deletable": false,
    "editable": false,
    "id": "4eQnK7pabaNy",
    "nbgrader": {
     "cell_type": "markdown",
     "checksum": "9c43fb85dd2416adfb3f6372859c4b04",
     "grade": false,
     "grade_id": "cell-1f708cd5f28d33b1",
     "locked": true,
     "schema_version": 3,
     "solution": false,
     "task": false
    }
   },
   "source": [
    "### Parámetros"
   ]
  },
  {
   "cell_type": "code",
   "execution_count": 3,
   "id": "aUGpT_ALbaNz",
   "metadata": {
    "deletable": false,
    "editable": false,
    "id": "aUGpT_ALbaNz",
    "nbgrader": {
     "cell_type": "code",
     "checksum": "fbf721dda1ec5604240223124c46e8f9",
     "grade": false,
     "grade_id": "cell-deee949a6bafd760",
     "locked": true,
     "schema_version": 3,
     "solution": false,
     "task": false
    },
    "tags": []
   },
   "outputs": [],
   "source": [
    "# Parámetros no indexados\n",
    "presupuesto = 120  # Presupuesto máximo\n",
    "maxProyectos = 12  # Máximo número de proyectos a realizar - restricción ambiental\n",
    "maxOperarios = 6  # Máximo número de operarios por año\n",
    "maxGeneradores = 6  # Máximo número de generadores por año\n",
    "\n",
    "# Parámetros indexados en años\n",
    "metas = {  # tiempo: meta (miles de barriles por día)\n",
    "    1: 3,\n",
    "    2: 4,\n",
    "    3: 5,\n",
    "    4: 4,\n",
    "    5: 5,\n",
    "    6: 3,\n",
    "    7: 5,\n",
    "    8: 4,\n",
    "    9: 4,\n",
    "    10: 6,\n",
    "}\n",
    "\n",
    "# Parámetros indexados en los pozos (abajo se separan en diccionarios diferentes)\n",
    "dataPozos = {  # pozo: prod.minima, prod.moda, prod.máxima, operarios, generadores\n",
    "    \"DELE B-1\": [1, 3, 4, 3, 3],\n",
    "    \"EL MORRO-1\": [3, 4, 6, 2, 3],\n",
    "    \"FLORENA A-5\": [3, 6, 7, 4, 2],\n",
    "    \"FLORENA C-6\": [1, 3, 6, 4, 3],\n",
    "    \"FLORENA N-2\": [4, 6, 10, 3, 2],\n",
    "    \"FLORENA N-4 ST\": [1, 4, 6, 4, 3],\n",
    "    \"FLORENA-T8\": [2, 4, 8, 2, 2],\n",
    "    \"PAUTO J-6\": [2, 3, 5, 3, 2],\n",
    "    \"PAUTO M4\": [3, 5, 7, 3, 3],\n",
    "    \"PAUTO M-5\": [1, 4, 8, 4, 2],\n",
    "    \"PAUTO SUR B-1\": [4, 5, 7, 2, 4],\n",
    "    \"PAUTO SUR C-2\": [4, 6, 8, 3, 3],\n",
    "    \"PAUTO-1\": [3, 5, 8, 3, 2],\n",
    "    \"VOLCANERA A-1\": [4, 5, 9, 2, 3],\n",
    "    \"VOLCANERA C-2\": [2, 5, 7, 2, 2],\n",
    "}\n",
    "\n",
    "# Parámetros indexados en los pozos y los años (abajo se separan en diccionarios diferentes)\n",
    "dataPozoAño = {  # (pozo, año):   costo utilidad\n",
    "    (\"DELE B-1\", 1): [13, 14],\n",
    "    (\"EL MORRO-1\", 1): [21, 81],\n",
    "    (\"FLORENA A-5\", 1): [8, 81],\n",
    "    (\"FLORENA C-6\", 1): [7, 93],\n",
    "    (\"FLORENA N-2\", 1): [3, 26],\n",
    "    (\"FLORENA N-4 ST\", 1): [23, 77],\n",
    "    (\"FLORENA-T8\", 1): [6, 88],\n",
    "    (\"PAUTO J-6\", 1): [2, 13],\n",
    "    (\"PAUTO M4\", 1): [9, 57],\n",
    "    (\"PAUTO M-5\", 1): [12, 34],\n",
    "    (\"PAUTO SUR B-1\", 1): [2, 10],\n",
    "    (\"PAUTO SUR C-2\", 1): [21, 20],\n",
    "    (\"PAUTO-1\", 1): [12, 43],\n",
    "    (\"VOLCANERA A-1\", 1): [16, 51],\n",
    "    (\"VOLCANERA C-2\", 1): [22, 44],\n",
    "    (\"DELE B-1\", 2): [25, 55],\n",
    "    (\"EL MORRO-1\", 2): [9, 54],\n",
    "    (\"FLORENA A-5\", 2): [15, 70],\n",
    "    (\"FLORENA C-6\", 2): [14, 40],\n",
    "    (\"FLORENA N-2\", 2): [23, 65],\n",
    "    (\"FLORENA N-4 ST\", 2): [5, 55],\n",
    "    (\"FLORENA-T8\", 2): [10, 24],\n",
    "    (\"PAUTO J-6\", 2): [23, 92],\n",
    "    (\"PAUTO M4\", 2): [10, 58],\n",
    "    (\"PAUTO M-5\", 2): [3, 26],\n",
    "    (\"PAUTO SUR B-1\", 2): [16, 72],\n",
    "    (\"PAUTO SUR C-2\", 2): [11, 39],\n",
    "    (\"PAUTO-1\", 2): [2, 57],\n",
    "    (\"VOLCANERA A-1\", 2): [15, 51],\n",
    "    (\"VOLCANERA C-2\", 2): [8, 45],\n",
    "    (\"DELE B-1\", 3): [17, 74],\n",
    "    (\"EL MORRO-1\", 3): [22, 23],\n",
    "    (\"FLORENA A-5\", 3): [12, 44],\n",
    "    (\"FLORENA C-6\", 3): [11, 31],\n",
    "    (\"FLORENA N-2\", 3): [7, 53],\n",
    "    (\"FLORENA N-4 ST\", 3): [12, 71],\n",
    "    (\"FLORENA-T8\", 3): [12, 80],\n",
    "    (\"PAUTO J-6\", 3): [17, 22],\n",
    "    (\"PAUTO M4\", 3): [14, 59],\n",
    "    (\"PAUTO M-5\", 3): [15, 34],\n",
    "    (\"PAUTO SUR B-1\", 3): [24, 88],\n",
    "    (\"PAUTO SUR C-2\", 3): [25, 61],\n",
    "    (\"PAUTO-1\", 3): [8, 46],\n",
    "    (\"VOLCANERA A-1\", 3): [14, 33],\n",
    "    (\"VOLCANERA C-2\", 3): [17, 15],\n",
    "    (\"DELE B-1\", 4): [19, 75],\n",
    "    (\"EL MORRO-1\", 4): [6, 70],\n",
    "    (\"FLORENA A-5\", 4): [23, 18],\n",
    "    (\"FLORENA C-6\", 4): [16, 36],\n",
    "    (\"FLORENA N-2\", 4): [14, 44],\n",
    "    (\"FLORENA N-4 ST\", 4): [18, 34],\n",
    "    (\"FLORENA-T8\", 4): [6, 22],\n",
    "    (\"PAUTO J-6\", 4): [20, 30],\n",
    "    (\"PAUTO M4\", 4): [5, 93],\n",
    "    (\"PAUTO M-5\", 4): [7, 68],\n",
    "    (\"PAUTO SUR B-1\", 4): [25, 12],\n",
    "    (\"PAUTO SUR C-2\", 4): [13, 75],\n",
    "    (\"PAUTO-1\", 4): [12, 56],\n",
    "    (\"VOLCANERA A-1\", 4): [10, 16],\n",
    "    (\"VOLCANERA C-2\", 4): [6, 11],\n",
    "    (\"DELE B-1\", 5): [7, 54],\n",
    "    (\"EL MORRO-1\", 5): [8, 58],\n",
    "    (\"FLORENA A-5\", 5): [22, 15],\n",
    "    (\"FLORENA C-6\", 5): [17, 29],\n",
    "    (\"FLORENA N-2\", 5): [20, 95],\n",
    "    (\"FLORENA N-4 ST\", 5): [17, 32],\n",
    "    (\"FLORENA-T8\", 5): [10, 91],\n",
    "    (\"PAUTO J-6\", 5): [6, 29],\n",
    "    (\"PAUTO M4\", 5): [6, 72],\n",
    "    (\"PAUTO M-5\", 5): [25, 91],\n",
    "    (\"PAUTO SUR B-1\", 5): [21, 95],\n",
    "    (\"PAUTO SUR C-2\", 5): [15, 63],\n",
    "    (\"PAUTO-1\", 5): [17, 64],\n",
    "    (\"VOLCANERA A-1\", 5): [12, 54],\n",
    "    (\"VOLCANERA C-2\", 5): [17, 19],\n",
    "    (\"DELE B-1\", 6): [10, 84],\n",
    "    (\"EL MORRO-1\", 6): [13, 48],\n",
    "    (\"FLORENA A-5\", 6): [9, 10],\n",
    "    (\"FLORENA C-6\", 6): [25, 32],\n",
    "    (\"FLORENA N-2\", 6): [17, 92],\n",
    "    (\"FLORENA N-4 ST\", 6): [25, 21],\n",
    "    (\"FLORENA-T8\", 6): [5, 62],\n",
    "    (\"PAUTO J-6\", 6): [23, 28],\n",
    "    (\"PAUTO M4\", 6): [22, 87],\n",
    "    (\"PAUTO M-5\", 6): [7, 97],\n",
    "    (\"PAUTO SUR B-1\", 6): [25, 88],\n",
    "    (\"PAUTO SUR C-2\", 6): [19, 88],\n",
    "    (\"PAUTO-1\", 6): [4, 66],\n",
    "    (\"VOLCANERA A-1\", 6): [6, 32],\n",
    "    (\"VOLCANERA C-2\", 6): [5, 2],\n",
    "    (\"DELE B-1\", 7): [12, 94],\n",
    "    (\"EL MORRO-1\", 7): [3, 45],\n",
    "    (\"FLORENA A-5\", 7): [19, 15],\n",
    "    (\"FLORENA C-6\", 7): [4, 40],\n",
    "    (\"FLORENA N-2\", 7): [6, 103],\n",
    "    (\"FLORENA N-4 ST\", 7): [21, 9],\n",
    "    (\"FLORENA-T8\", 7): [13, 63],\n",
    "    (\"PAUTO J-6\", 7): [8, 25],\n",
    "    (\"PAUTO M4\", 7): [15, 94],\n",
    "    (\"PAUTO M-5\", 7): [8, 113],\n",
    "    (\"PAUTO SUR B-1\", 7): [10, 99],\n",
    "    (\"PAUTO SUR C-2\", 7): [12, 100],\n",
    "    (\"PAUTO-1\", 7): [3, 70],\n",
    "    (\"VOLCANERA A-1\", 7): [12, 29],\n",
    "    (\"VOLCANERA C-2\", 7): [7, 13],\n",
    "    (\"DELE B-1\", 8): [23, 104],\n",
    "    (\"EL MORRO-1\", 8): [13, 42],\n",
    "    (\"FLORENA A-5\", 8): [16, 21],\n",
    "    (\"FLORENA C-6\", 8): [7, 48],\n",
    "    (\"FLORENA N-2\", 8): [4, 94],\n",
    "    (\"FLORENA N-4 ST\", 8): [11, 5],\n",
    "    (\"FLORENA-T8\", 8): [20, 63],\n",
    "    (\"PAUTO J-6\", 8): [15, 22],\n",
    "    (\"PAUTO M4\", 8): [22, 100],\n",
    "    (\"PAUTO M-5\", 8): [21, 129],\n",
    "    (\"PAUTO SUR B-1\", 8): [19, 110],\n",
    "    (\"PAUTO SUR C-2\", 8): [14, 113],\n",
    "    (\"PAUTO-1\", 8): [15, 74],\n",
    "    (\"VOLCANERA A-1\", 8): [8, 27],\n",
    "    (\"VOLCANERA C-2\", 8): [19, 20],\n",
    "    (\"DELE B-1\", 9): [8, 114],\n",
    "    (\"EL MORRO-1\", 9): [23, 39],\n",
    "    (\"FLORENA A-5\", 9): [2, 25],\n",
    "    (\"FLORENA C-6\", 9): [23, 56],\n",
    "    (\"FLORENA N-2\", 9): [23, 87],\n",
    "    (\"FLORENA N-4 ST\", 9): [20, 10],\n",
    "    (\"FLORENA-T8\", 9): [11, 63],\n",
    "    (\"PAUTO J-6\", 9): [20, 19],\n",
    "    (\"PAUTO M4\", 9): [8, 107],\n",
    "    (\"PAUTO M-5\", 9): [15, 144],\n",
    "    (\"PAUTO SUR B-1\", 9): [12, 121],\n",
    "    (\"PAUTO SUR C-2\", 9): [6, 120],\n",
    "    (\"PAUTO-1\", 9): [2, 78],\n",
    "    (\"VOLCANERA A-1\", 9): [5, 33],\n",
    "    (\"VOLCANERA C-2\", 9): [25, 24],\n",
    "    (\"DELE B-1\", 10): [14, 124],\n",
    "    (\"EL MORRO-1\", 10): [19, 36],\n",
    "    (\"FLORENA A-5\", 10): [22, 32],\n",
    "    (\"FLORENA C-6\", 10): [13, 50],\n",
    "    (\"FLORENA N-2\", 10): [20, 80],\n",
    "    (\"FLORENA N-4 ST\", 10): [16, 8],\n",
    "    (\"FLORENA-T8\", 10): [9, 64],\n",
    "    (\"PAUTO J-6\", 10): [7, 16],\n",
    "    (\"PAUTO M4\", 10): [15, 113],\n",
    "    (\"PAUTO M-5\", 10): [10, 160],\n",
    "    (\"PAUTO SUR B-1\", 10): [5, 132],\n",
    "    (\"PAUTO SUR C-2\", 10): [2, 115],\n",
    "    (\"PAUTO-1\", 10): [16, 82],\n",
    "    (\"VOLCANERA A-1\", 10): [25, 40],\n",
    "    (\"VOLCANERA C-2\", 10): [18, 32],\n",
    "}\n",
    "\n",
    "# Separando datos en diccionarios independientes (comparten las misma llaves)\n",
    "(prodMin, prodModa, prodMax, operarios, generadores) = lp.splitDict(dataPozos)\n",
    "(costo, utilidad) = lp.splitDict(dataPozoAño)"
   ]
  },
  {
   "cell_type": "markdown",
   "id": "EQWO9iFgbaN0",
   "metadata": {
    "deletable": false,
    "editable": false,
    "id": "EQWO9iFgbaN0",
    "nbgrader": {
     "cell_type": "markdown",
     "checksum": "009575ea03143cde1dab01eaa1ec01e8",
     "grade": false,
     "grade_id": "cell-587d11a8eb6313b7",
     "locked": true,
     "schema_version": 3,
     "solution": false,
     "task": false
    }
   },
   "source": [
    "**Celda de prueba (0 puntos)**\n",
    "\n",
    "Es una buena práctica imprimir algunos objetos que contienen los parámetros en la consola luego de crearlos. De esta forma puedes corregir errores y familiarizarte con las estrucutras de datos que se van a utilizar. Puedes hacer estas pruebas en la celda a continuación.\n",
    "\n",
    "* **Esta celda no es calificable**"
   ]
  },
  {
   "cell_type": "code",
   "execution_count": 4,
   "id": "ds1B2YpcbaN0",
   "metadata": {
    "id": "ds1B2YpcbaN0"
   },
   "outputs": [],
   "source": [
    "# Aquí puedes explorar los parámetros\n"
   ]
  },
  {
   "cell_type": "markdown",
   "id": "Z_lIOB_DbaN0",
   "metadata": {
    "deletable": false,
    "editable": false,
    "id": "Z_lIOB_DbaN0",
    "nbgrader": {
     "cell_type": "markdown",
     "checksum": "c4dd3c4455cf458fb1ea62d106d31f22",
     "grade": false,
     "grade_id": "cell-6a54ae7e4899ef1",
     "locked": true,
     "schema_version": 3,
     "solution": false,
     "task": false
    },
    "tags": []
   },
   "source": [
    "## Modelado\n",
    "---"
   ]
  },
  {
   "cell_type": "markdown",
   "id": "5bVHGeMkbaN1",
   "metadata": {
    "deletable": false,
    "editable": false,
    "id": "5bVHGeMkbaN1",
    "nbgrader": {
     "cell_type": "markdown",
     "checksum": "4147917a9b6562a3f5cd55ae3c2b0ba1",
     "grade": false,
     "grade_id": "cell-6a525ae7e4899ef1",
     "locked": true,
     "schema_version": 3,
     "solution": false,
     "task": false
    },
    "tags": []
   },
   "source": [
    "### Caso base\n",
    "\n",
    "Esta práctica computacional tiene algo diferente a las demás. Queremos probrar varios modelos de optimización usando una estructura similar, pero añadiendo y removiendo algunas restricciones en cada variante. En primer lugar, plantearemos el **caso base** que incluye las restricciones y variables originales del problema. Una vez terminado el **caso base**, procederemos a crear las restricciones y variables adicionales.\n",
    "\n",
    "**Importante**: dado que PuLP no permite sobreescribir restricciones, para crear las diferentes variantes del **caso base** deberás crear el modelo desde el principio e ir añadiendo sólo las restricciones que corresponden a cada variante. Sin embargo, cuando vayamos a calificar esta práctica, nosotros nos encargaremos de correrla en el orden correcto. ¡Tú solo debes seguir las intrucciones de cada pregunta!"
   ]
  },
  {
   "cell_type": "markdown",
   "id": "EO7luUDFbaN1",
   "metadata": {
    "deletable": false,
    "editable": false,
    "id": "EO7luUDFbaN1",
    "nbgrader": {
     "cell_type": "markdown",
     "checksum": "32046f7ed4b359dfe697449072da98c0",
     "grade": false,
     "grade_id": "cell-ebebd9c7c932a295",
     "locked": true,
     "schema_version": 3,
     "solution": false,
     "task": false
    }
   },
   "source": [
    "### Declaración del modelo"
   ]
  },
  {
   "cell_type": "markdown",
   "id": "JtMmSkLSbaN1",
   "metadata": {
    "deletable": false,
    "editable": false,
    "id": "JtMmSkLSbaN1",
    "nbgrader": {
     "cell_type": "markdown",
     "checksum": "fcc460e28fef43e049a849b5f3a7c5dd",
     "grade": false,
     "grade_id": "cell-8516e22fa27f2003",
     "locked": true,
     "schema_version": 3,
     "solution": false,
     "task": false
    }
   },
   "source": [
    "**Pregunta 1 (5 puntos)**\n",
    "* Crea un objeto modelo en PuLP (`lp.LpProblem`) llamado `problema`\n",
    "* Indica el sentido de la optimización: maximizar o minimizar\n",
    "\n",
    "> **Recuerda** que el sentido se indica con el argmuento `sense` en `lp.LpProblem()`, que toma valores `lp.LpMaximize` o `lp.LpMinimize`"
   ]
  },
  {
   "cell_type": "code",
   "execution_count": 4,
   "id": "RlyyQwY8baN1",
   "metadata": {
    "deletable": false,
    "id": "RlyyQwY8baN1",
    "nbgrader": {
     "cell_type": "code",
     "checksum": "524dfaa95902f158265d70d7b13ea006",
     "grade": false,
     "grade_id": "cell-354e5a064254b00d",
     "locked": false,
     "schema_version": 3,
     "solution": true,
     "task": false
    }
   },
   "outputs": [],
   "source": [
    "# your code here\n",
    "problema = lp.LpProblem('Maximizar_utilidad', lp.LpMaximize)"
   ]
  },
  {
   "cell_type": "code",
   "execution_count": 6,
   "id": "YRCUBU6ZbaN2",
   "metadata": {
    "deletable": false,
    "editable": false,
    "id": "YRCUBU6ZbaN2",
    "nbgrader": {
     "cell_type": "code",
     "checksum": "11018fa5e7c097ac3fa7a123027be203",
     "grade": true,
     "grade_id": "cell-9416bada00deeca6",
     "locked": true,
     "points": 5,
     "schema_version": 3,
     "solution": false,
     "task": false
    }
   },
   "outputs": [],
   "source": [
    "# Esta celda esta reservada para uso del equipo docente"
   ]
  },
  {
   "cell_type": "code",
   "execution_count": 7,
   "id": "D0ZwwueIbaN2",
   "metadata": {
    "deletable": false,
    "editable": false,
    "id": "D0ZwwueIbaN2",
    "nbgrader": {
     "cell_type": "code",
     "checksum": "595a40a1b0472a9f42fccfcdb2ba8840",
     "grade": true,
     "grade_id": "cell-c803ed9be70b93f5",
     "locked": true,
     "points": 0,
     "schema_version": 3,
     "solution": false,
     "task": false
    }
   },
   "outputs": [],
   "source": [
    "# Esta celda esta reservada para uso del equipo docente"
   ]
  },
  {
   "cell_type": "markdown",
   "id": "SEJ4JbpNbaN6",
   "metadata": {
    "deletable": false,
    "editable": false,
    "id": "SEJ4JbpNbaN6",
    "nbgrader": {
     "cell_type": "markdown",
     "checksum": "c6a294c359fd74f16947ba9aa853fbff",
     "grade": false,
     "grade_id": "cell-032e2c76bf498b03",
     "locked": true,
     "schema_version": 3,
     "solution": false,
     "task": false
    }
   },
   "source": [
    "### Variables de decisión\n",
    "\n",
    ">* $x_{it} = \\begin{cases}1, & \\text{si el pozo} \\, i\\in P \\text{ se perfora en el año} \\, t\\in T \\\\ 0, & \\text{de lo contrario}\\end{cases} $\n"
   ]
  },
  {
   "cell_type": "markdown",
   "id": "Ic7nNCvsbaN6",
   "metadata": {
    "deletable": false,
    "editable": false,
    "id": "Ic7nNCvsbaN6",
    "nbgrader": {
     "cell_type": "markdown",
     "checksum": "ee11027bf48fa9fed846ab1b6df24fc7",
     "grade": false,
     "grade_id": "cell-f65f0518e0ed7f83",
     "locked": true,
     "schema_version": 3,
     "solution": false,
     "task": false
    }
   },
   "source": [
    "**Pregunta 2 (5 puntos)**\n",
    "* Crea las variables del modelo: `x`, usando el método `lp.LpVariable.dicts()`.\n",
    "* Especifica el nombre de las variables como `perforar` con el argumento `name`.\n",
    "* Especifica el conjunto sobre el cual está indexado la variable con el argumento `indexs`.\n",
    "* Especifica el límite inferior en 0 con el argumento `lowBound`.\n",
    "* Especifica el tipo de variable con el argumento `cat` (continua: `lp.LpContinuous`, entera: `lp.LpInteger` o binaria: `lp.LpBinary`)"
   ]
  },
  {
   "cell_type": "code",
   "execution_count": 5,
   "id": "p0jsOA_8baN6",
   "metadata": {
    "deletable": false,
    "id": "p0jsOA_8baN6",
    "nbgrader": {
     "cell_type": "code",
     "checksum": "6af97b6f1401f12937c61ebd26ff5784",
     "grade": false,
     "grade_id": "cell-adb2f63eecf97f2a",
     "locked": false,
     "schema_version": 3,
     "solution": true,
     "task": false
    }
   },
   "outputs": [],
   "source": [
    "# your code here\n",
    "x = lp.LpVariable.dicts(\n",
    "    name = 'Perforar',\n",
    "    indices = Pozo_x_Tiempo,\n",
    "    lowBound = 0,\n",
    "    cat = lp.LpBinary\n",
    ")"
   ]
  },
  {
   "cell_type": "code",
   "execution_count": 9,
   "id": "al8F5oAUbaN7",
   "metadata": {
    "deletable": false,
    "editable": false,
    "id": "al8F5oAUbaN7",
    "nbgrader": {
     "cell_type": "code",
     "checksum": "9e1522e8d12b48d3c4f32dbb71d3170f",
     "grade": true,
     "grade_id": "cell-9466bada00deeca6",
     "locked": true,
     "points": 5,
     "schema_version": 3,
     "solution": false,
     "task": false
    }
   },
   "outputs": [],
   "source": [
    "# Esta celda esta reservada para uso del equipo docente"
   ]
  },
  {
   "cell_type": "code",
   "execution_count": 10,
   "id": "s0xtXHYtbaN7",
   "metadata": {
    "deletable": false,
    "editable": false,
    "id": "s0xtXHYtbaN7",
    "nbgrader": {
     "cell_type": "code",
     "checksum": "64d543c6ce6e6cae036f16ea633e6a12",
     "grade": true,
     "grade_id": "cell-be539dab72a2d6cc",
     "locked": true,
     "points": 0,
     "schema_version": 3,
     "solution": false,
     "task": false
    }
   },
   "outputs": [],
   "source": [
    "# Esta celda esta reservada para uso del equipo docente"
   ]
  },
  {
   "cell_type": "markdown",
   "id": "GAkfl_bNbaN7",
   "metadata": {
    "deletable": false,
    "editable": false,
    "id": "GAkfl_bNbaN7",
    "nbgrader": {
     "cell_type": "markdown",
     "checksum": "45188cbf111ed5456a3e776a1f3714e4",
     "grade": false,
     "grade_id": "cell-747431c6a3556e72",
     "locked": true,
     "schema_version": 3,
     "solution": false,
     "task": false
    }
   },
   "source": [
    "### Función objetivo\n",
    "\n",
    "> Maximizar las utilidades totales por perforar pozos durante el horizonte de pleaneación\n",
    ">> $\\max \\; \\sum_{i\\in P}\\sum_{t \\in T}v_{it}x_{it}$"
   ]
  },
  {
   "cell_type": "markdown",
   "id": "Yk40ONDcbaN8",
   "metadata": {
    "deletable": false,
    "editable": false,
    "id": "Yk40ONDcbaN8",
    "nbgrader": {
     "cell_type": "markdown",
     "checksum": "d062fadcb841c82e4605b67949adf3ba",
     "grade": false,
     "grade_id": "cell-b64840b7a4a8e5db",
     "locked": true,
     "schema_version": 3,
     "solution": false,
     "task": false
    }
   },
   "source": [
    "**Pregunta 3 (5 puntos)**\n",
    "* Crea la función objetivo y agrégala al modelo `problema`\n",
    "\n",
    "> **Recuerda** que para agregar una función objetivo o restricción a un modelo en pulp se usa la sintaxis: `<modelo> += <expresion>`\n",
    "\n",
    "> **Recuerda** que una función objetivo en `pulp` consiste en multiplicar variables de tipo `lp.pulp.Variable` (como `x`) por constantes así: `<variable>*<int|float>` y luego sumarlas o restarlas así: `<var1>*<const1> + <var2>*<const2>`\n",
    "\n",
    "> **Recuerda** que, para evitar escribir una sumatoria de muchos términos uno a uno, `pulp` permite crear sumatorias que recorran conjuntos siempre y cuando las variables esten indexadas (como `x`). Para esto, utiliza `lp.lpSum(<expresion> for <indices> in <conjuntos)`.\n",
    "\n",
    "> **Ejemplo**:\n",
    ">> $ \\sum_{i \\in I}c_i x_i$\n",
    "es equivalente a `lp.lpSum(c[i]*x[i] for i in I)`"
   ]
  },
  {
   "cell_type": "code",
   "execution_count": 6,
   "id": "agdXNnDobaN8",
   "metadata": {
    "deletable": false,
    "id": "agdXNnDobaN8",
    "nbgrader": {
     "cell_type": "code",
     "checksum": "e8fafcb2f166d56817aa9ac30a2f22b9",
     "grade": false,
     "grade_id": "cell-8dd2dde5b7c44372",
     "locked": false,
     "schema_version": 3,
     "solution": true,
     "task": false
    }
   },
   "outputs": [],
   "source": [
    "# your code here\n",
    "problema += lp.lpSum(utilidad[i,t]*x[i,t] for i in Pozos for t in Tiempos),\"Utilidad esperada\""
   ]
  },
  {
   "cell_type": "code",
   "execution_count": 12,
   "id": "x8GXVbQhbaN8",
   "metadata": {
    "deletable": false,
    "editable": false,
    "id": "x8GXVbQhbaN8",
    "nbgrader": {
     "cell_type": "code",
     "checksum": "07d3d8078c44de994f3a2e6499c74f19",
     "grade": true,
     "grade_id": "cell-b515915c40556735",
     "locked": true,
     "points": 5,
     "schema_version": 3,
     "solution": false,
     "task": false
    }
   },
   "outputs": [],
   "source": [
    "# Esta celda esta reservada para uso del equipo docente"
   ]
  },
  {
   "cell_type": "code",
   "execution_count": 13,
   "id": "Nk5x7mcFbaN8",
   "metadata": {
    "deletable": false,
    "editable": false,
    "id": "Nk5x7mcFbaN8",
    "nbgrader": {
     "cell_type": "code",
     "checksum": "06b793dae99e11f47e6c9da2acddadba",
     "grade": true,
     "grade_id": "cell-50cee558e7e712cc",
     "locked": true,
     "points": 0,
     "schema_version": 3,
     "solution": false,
     "task": false
    }
   },
   "outputs": [],
   "source": [
    "# Esta celda esta reservada para uso del equipo docente"
   ]
  },
  {
   "cell_type": "markdown",
   "id": "I4e2-uMabaN8",
   "metadata": {
    "deletable": false,
    "editable": false,
    "id": "I4e2-uMabaN8",
    "nbgrader": {
     "cell_type": "markdown",
     "checksum": "f39cefcd49b02056188cd290b2234f64",
     "grade": false,
     "grade_id": "cell-d6fa9f15b71fb4ce",
     "locked": true,
     "schema_version": 3,
     "solution": false,
     "task": false
    }
   },
   "source": [
    "### Restricciones\n",
    "\n",
    "____\n",
    "\n",
    "**Consejos para preguntas 4 a 12**\n",
    "\n",
    "> **Recuerda** que para crear restricciones se debe usar la sintaxis: `<modelo> += <expresion_lado_izq> ==|>=|<= <expresion_lado_der>, 'Nombre_de_la_restriccion'`\n",
    "\n",
    "> **Recuerda** que las expresiones son combinaciones lineales de las variables, como: `<var1>*<const1> + <var2>*<const2>`\n",
    "\n",
    "> **Recuerda** que puedes usar `lp.lpSum()` para crear sumatorias (ver **Pregunta 3**)\n",
    "\n",
    "> **Recuerda** que para crear múltiples restricciones usando $\\forall i \\in I$, se debe utilizar la sintaxis:\n",
    ">>    * `for i in I:`\n",
    ">>       * `<restriccion>`\n",
    "\n",
    "> **Ejemplo**\n",
    ">> La siguiente restricción: $\\sum_{i \\in I} a_{ij} x_{ij} \\geq 1, \\; \\forall j \\in J$ es equivalente a:\n",
    ">>    * `for j in J:`\n",
    ">>        * `model += lp.lpSum((a[i,j]*x[i,j] for i in I)) >= 1, 'R1_'+str(j)`\n",
    "    \n",
    "> **Advertencia**: En `pulp` no es recomendable sobreescribir restricciones, entonces, si ya creaste una restricción y quieres crearla de nuevo para corregir algo, asegurate de volver a crear el modelo `problema` desde el principio. (Nosotros haremos esto antes de calificar, no te preocupes)"
   ]
  },
  {
   "cell_type": "markdown",
   "id": "oCWTawz7baN9",
   "metadata": {
    "deletable": false,
    "editable": false,
    "id": "oCWTawz7baN9",
    "nbgrader": {
     "cell_type": "markdown",
     "checksum": "9b404b58e8bf908f93811fcbfcede038",
     "grade": false,
     "grade_id": "cell-86c8f6a10453dfdb",
     "locked": true,
     "schema_version": 3,
     "solution": false,
     "task": false
    }
   },
   "source": [
    "**Pregunta 4 (5 puntos)**\n",
    "\n",
    "* Crea la siguiente restricción, asígnale el nombre `'R1_'+str(<indice_del_para_todo>)` y añádela al modelo:\n",
    "\n",
    "> 1. Un proyecto se hace máximo una vez dentro del horizonte de planeación\n",
    ">> $\\sum_{t\\in T}x_{it} \\, \\leq \\, 1, \\; \\forall i\\in P$"
   ]
  },
  {
   "cell_type": "code",
   "execution_count": 7,
   "id": "6FqwLBA_baN9",
   "metadata": {
    "deletable": false,
    "id": "6FqwLBA_baN9",
    "nbgrader": {
     "cell_type": "code",
     "checksum": "ea61de9c4b17461f16c537cf3a49908d",
     "grade": false,
     "grade_id": "cell-ccdde61ae7c40e48",
     "locked": false,
     "schema_version": 3,
     "solution": true,
     "task": false
    }
   },
   "outputs": [],
   "source": [
    "# your code here\n",
    "for i in Pozos:\n",
    "    problema += lp.lpSum(x[i,t] for t in Tiempos) <= 1, 'R1_'+str(i)"
   ]
  },
  {
   "cell_type": "code",
   "execution_count": 15,
   "id": "BoEtB1BYbaN9",
   "metadata": {
    "deletable": false,
    "editable": false,
    "id": "BoEtB1BYbaN9",
    "nbgrader": {
     "cell_type": "code",
     "checksum": "236251c3f62ba355d36f2ff2d6c6c792",
     "grade": true,
     "grade_id": "cell-0a9abc8dc51352eb",
     "locked": true,
     "points": 5,
     "schema_version": 3,
     "solution": false,
     "task": false
    }
   },
   "outputs": [],
   "source": [
    "# Esta celda esta reservada para uso del equipo docente"
   ]
  },
  {
   "cell_type": "markdown",
   "id": "Knf-ZVCJbaN9",
   "metadata": {
    "deletable": false,
    "editable": false,
    "id": "Knf-ZVCJbaN9",
    "nbgrader": {
     "cell_type": "markdown",
     "checksum": "22d687133f55df1a695127c7bfe31906",
     "grade": false,
     "grade_id": "cell-96fe008cf9b06b73",
     "locked": true,
     "schema_version": 3,
     "solution": false,
     "task": false
    }
   },
   "source": [
    "**Pregunta 5 (5 puntos)**\n",
    "\n",
    "* Crea la siguiente restricción, asígnale el nombre `'R2'` y añádela al modelo:\n",
    "\n",
    "> 2. La inversión total no puede superar el presupuesto\n",
    ">>$\\sum_{i \\in P}\\sum_{t\\in T}c_{it}x_{it} \\, \\leq \\, b$"
   ]
  },
  {
   "cell_type": "code",
   "execution_count": 8,
   "id": "22L8cNl4baN-",
   "metadata": {
    "deletable": false,
    "id": "22L8cNl4baN-",
    "nbgrader": {
     "cell_type": "code",
     "checksum": "3268652c0a65ae3b76b0a18cd9d0cec6",
     "grade": false,
     "grade_id": "cell-b6c3bb06ff5d06be",
     "locked": false,
     "schema_version": 3,
     "solution": true,
     "task": false
    }
   },
   "outputs": [],
   "source": [
    "# your code here\n",
    "problema += lp.lpSum(costo[i,t]*x[i,t] for i in Pozos for t in Tiempos) <= presupuesto, 'R2'"
   ]
  },
  {
   "cell_type": "code",
   "execution_count": 17,
   "id": "TSajNyWUbaN-",
   "metadata": {
    "deletable": false,
    "editable": false,
    "id": "TSajNyWUbaN-",
    "nbgrader": {
     "cell_type": "code",
     "checksum": "08f46193738b930e617a021d497a08ee",
     "grade": true,
     "grade_id": "cell-e59fa44cb6763298",
     "locked": true,
     "points": 5,
     "schema_version": 3,
     "solution": false,
     "task": false
    }
   },
   "outputs": [],
   "source": [
    "# Esta celda esta reservada para uso del equipo docente"
   ]
  },
  {
   "cell_type": "markdown",
   "id": "2evIO11FbaN-",
   "metadata": {
    "deletable": false,
    "editable": false,
    "id": "2evIO11FbaN-",
    "nbgrader": {
     "cell_type": "markdown",
     "checksum": "888dfdc7ddadd782bb13879751c3ea11",
     "grade": false,
     "grade_id": "cell-bde27939d3333898",
     "locked": true,
     "schema_version": 3,
     "solution": false,
     "task": false
    }
   },
   "source": [
    "**Pregunta 6 (5 puntos)**\n",
    "\n",
    "* Crea la siguiente restricción, asignale el nombre `'R3_'+str(<indice_del_para_todo>)` y añadela al modelo:\n",
    "\n",
    "> 3. Las metas de producción (en miles de barriles diarios) deben ser cumplidas\n",
    ">>$\\sum_{i\\in P}p_i x_{it} \\, \\geq \\, m_t \\; \\forall t\\in T$\n",
    "\n",
    "> **Recuerda** que el parámetro $p_i$ es el promedio diario (miles de barriles) de crudo producidos en el pozo $i\\in P$. Por esta razón, en la restricción tendrás que usar los parámetros `prodMin`, `prodModa`, y `prodMax` para calcular este promedio. Revisa el vídeo 'Formulación del caso'.   "
   ]
  },
  {
   "cell_type": "code",
   "execution_count": 9,
   "id": "bzC1jR8abaN-",
   "metadata": {
    "deletable": false,
    "id": "bzC1jR8abaN-",
    "nbgrader": {
     "cell_type": "code",
     "checksum": "c30ac9989213f1578dfc3d8b0fc6a770",
     "grade": false,
     "grade_id": "cell-0a7a3b8a02f0e0b8",
     "locked": false,
     "schema_version": 3,
     "solution": true,
     "task": false
    }
   },
   "outputs": [],
   "source": [
    "# your code here\n",
    "for t in Tiempos:\n",
    "    problema += lp.lpSum(((prodModa[i]+prodMax[i]+prodMin[i])/3)*x[i,t] for i in Pozos) >= metas[t], 'R3_'+str(t)"
   ]
  },
  {
   "cell_type": "code",
   "execution_count": 19,
   "id": "3_EjVhMVbaN-",
   "metadata": {
    "deletable": false,
    "editable": false,
    "id": "3_EjVhMVbaN-",
    "nbgrader": {
     "cell_type": "code",
     "checksum": "5d029d0aba0441254cb95f3d70d7c6cb",
     "grade": true,
     "grade_id": "cell-c24e6bdf2493be04",
     "locked": true,
     "points": 5,
     "schema_version": 3,
     "solution": false,
     "task": false
    }
   },
   "outputs": [],
   "source": [
    "# Esta celda esta reservada para uso del equipo docente"
   ]
  },
  {
   "cell_type": "markdown",
   "id": "_PAshEdJbaOA",
   "metadata": {
    "deletable": false,
    "editable": false,
    "id": "_PAshEdJbaOA",
    "nbgrader": {
     "cell_type": "markdown",
     "checksum": "3d9834fa2f8b380ad21a2a2b5a735193",
     "grade": false,
     "grade_id": "cell-bad95a65c799ba78",
     "locked": true,
     "schema_version": 3,
     "solution": false,
     "task": false
    }
   },
   "source": [
    "**Pregunta 7 (5 puntos)**\n",
    "\n",
    "* Crea la siguiente restricción, asígnale el nombre `'R4_'+str(<indice_del_para_todo>)` y añádela al modelo:\n",
    "\n",
    "> 4. No se debe exceder la cantidad de operarios disponibles\n",
    ">> $\\sum_{i\\in P}o_i x_{it} \\leq s, \\;\\; \\forall t\\in T$"
   ]
  },
  {
   "cell_type": "code",
   "execution_count": 8,
   "id": "Z-k-r3sEbaOA",
   "metadata": {
    "deletable": false,
    "editable": false,
    "id": "Z-k-r3sEbaOA",
    "nbgrader": {
     "cell_type": "code",
     "checksum": "03d11507f247517648850990fdf38b1b",
     "grade": false,
     "grade_id": "cell-4c7ddac982ceae30",
     "locked": true,
     "schema_version": 3,
     "solution": false,
     "task": false
    }
   },
   "outputs": [],
   "source": [
    "# Esta instrucción sirve para generar una visualización personalizada de este caso en el Reporte de Resultados\n",
    "# Corre esta celda si no estás analizando el escenario 4 del caso relacionado con el número de operarios\n",
    "caso_operarios = False"
   ]
  },
  {
   "cell_type": "code",
   "execution_count": 9,
   "id": "1cY77qkZbaOA",
   "metadata": {
    "deletable": false,
    "id": "1cY77qkZbaOA",
    "nbgrader": {
     "cell_type": "code",
     "checksum": "b199f0a4ee23610541e18dac1c57f1d1",
     "grade": false,
     "grade_id": "cell-12ca0b7eb2a93a2a",
     "locked": false,
     "schema_version": 3,
     "solution": true,
     "task": false
    }
   },
   "outputs": [],
   "source": [
    "# your code here\n",
    "for t in Tiempos:\n",
    "    problema += lp.lpSum(operarios[i]*x[i,t] for i in Pozos) <= maxOperarios, 'R4_'+str(t)"
   ]
  },
  {
   "cell_type": "code",
   "execution_count": 22,
   "id": "5IeNGX6BbaOA",
   "metadata": {
    "deletable": false,
    "editable": false,
    "id": "5IeNGX6BbaOA",
    "nbgrader": {
     "cell_type": "code",
     "checksum": "e48ff1963106413558ee5ce3dfb54f3a",
     "grade": true,
     "grade_id": "cell-08448c5744ffd0e1",
     "locked": true,
     "points": 5,
     "schema_version": 3,
     "solution": false,
     "task": false
    }
   },
   "outputs": [],
   "source": [
    "# Esta celda esta reservada para uso del equipo docente"
   ]
  },
  {
   "cell_type": "markdown",
   "id": "Dw_06u13baOB",
   "metadata": {
    "deletable": false,
    "editable": false,
    "id": "Dw_06u13baOB",
    "nbgrader": {
     "cell_type": "markdown",
     "checksum": "803039f7a43d81eca5909bcadd9227d6",
     "grade": false,
     "grade_id": "cell-1bed1cfefc5b0e25",
     "locked": true,
     "schema_version": 3,
     "solution": false,
     "task": false
    }
   },
   "source": [
    "**Pregunta 8 (5 puntos)**\n",
    "\n",
    "* Crea la siguiente restricción, asígnale el nombre `'R5_'+str(<indice_del_para_todo>)` y añádela al modelo:\n",
    "\n",
    "> 5. No se debe exceder la cantidad de generadores disponibles\n",
    ">> $\\sum_{i\\in P}g_i x_{it} \\leq u, \\;\\; \\forall t\\in T$"
   ]
  },
  {
   "cell_type": "code",
   "execution_count": 10,
   "id": "dCtLg_i1baOB",
   "metadata": {
    "deletable": false,
    "id": "dCtLg_i1baOB",
    "nbgrader": {
     "cell_type": "code",
     "checksum": "f04625ae8f4277620b14e8764a23d638",
     "grade": false,
     "grade_id": "cell-6e0d0543a8b2758c",
     "locked": false,
     "schema_version": 3,
     "solution": true,
     "task": false
    }
   },
   "outputs": [],
   "source": [
    "# your code here\n",
    "for t in Tiempos:\n",
    "    problema += lp.lpSum(generadores[i]*x[i,t] for i in Pozos) <= maxGeneradores, 'R5_'+str(t)"
   ]
  },
  {
   "cell_type": "code",
   "execution_count": 24,
   "id": "NZWo56NmbaOB",
   "metadata": {
    "deletable": false,
    "editable": false,
    "id": "NZWo56NmbaOB",
    "nbgrader": {
     "cell_type": "code",
     "checksum": "eebf3f0edf0568dd66940003460aa011",
     "grade": true,
     "grade_id": "cell-58213a8a06adae62",
     "locked": true,
     "points": 5,
     "schema_version": 3,
     "solution": false,
     "task": false
    }
   },
   "outputs": [],
   "source": [
    "# Esta celda esta reservada para uso del equipo docente"
   ]
  },
  {
   "cell_type": "markdown",
   "id": "ydKmfw5bbaOB",
   "metadata": {
    "deletable": false,
    "editable": false,
    "id": "ydKmfw5bbaOB",
    "nbgrader": {
     "cell_type": "markdown",
     "checksum": "7613e1af9cb92bfbe0630372e1b472a9",
     "grade": false,
     "grade_id": "cell-1e377c21dc88f88e",
     "locked": true,
     "schema_version": 3,
     "solution": false,
     "task": false
    }
   },
   "source": [
    "**Pregunta 9 (5 puntos)**\n",
    "\n",
    "* Crea la siguiente restricción, asígnale el nombre `'R6'` y añádela al modelo:\n",
    "\n",
    "> 6. No se debe exceder la cantidad de pozos perforados impuesta por el gobierno\n",
    ">> $\\sum_{t\\in T}\\sum_{i\\in P}x_{it} \\, \\leq \\, n$"
   ]
  },
  {
   "cell_type": "code",
   "execution_count": 11,
   "id": "oKOmUygGbaOB",
   "metadata": {
    "deletable": false,
    "id": "oKOmUygGbaOB",
    "nbgrader": {
     "cell_type": "code",
     "checksum": "c03dde00ba681d1dbedcf2c112c6e344",
     "grade": false,
     "grade_id": "cell-b0777f96ebe78bfc",
     "locked": false,
     "schema_version": 3,
     "solution": true,
     "task": false
    }
   },
   "outputs": [],
   "source": [
    "# your code here\n",
    "problema += lp.lpSum(x[i,t] for t in Tiempos for i in Pozos) <= maxProyectos, 'R6'"
   ]
  },
  {
   "cell_type": "code",
   "execution_count": 26,
   "id": "dx1TjLJIbaOB",
   "metadata": {
    "deletable": false,
    "editable": false,
    "id": "dx1TjLJIbaOB",
    "nbgrader": {
     "cell_type": "code",
     "checksum": "1dbcd263ff886bf42a2548f18e060df0",
     "grade": true,
     "grade_id": "cell-c14e6bdf2493be04",
     "locked": true,
     "points": 5,
     "schema_version": 3,
     "solution": false,
     "task": false
    }
   },
   "outputs": [],
   "source": [
    "# Esta celda esta reservada para uso del equipo docente"
   ]
  },
  {
   "cell_type": "markdown",
   "id": "qcv3J6aNbaOC",
   "metadata": {
    "deletable": false,
    "editable": false,
    "id": "qcv3J6aNbaOC",
    "nbgrader": {
     "cell_type": "markdown",
     "checksum": "7e4c4dd96cbb9d84bd761efe625b6173",
     "grade": false,
     "grade_id": "cell-df04dc5fe0ea870c",
     "locked": true,
     "schema_version": 3,
     "solution": false,
     "task": false
    }
   },
   "source": [
    "### Nuevas restricciones\n",
    "\n",
    "Las restricciones que vamos a construir a continuación pueden usar nuevas variables, pueden sobreescribir la función objetivo o reemplazar restricciones ya existentes.\n",
    "\n",
    "Para motivos de calificación, sólo debes seguir las instrucciones de cada pregunta y responder en las celdas. Sin embargo, para corroborar cómo cambian las soluciones para las distintas variantes del problema, se deben correr sólo algunas celdas del caso base y algunas de las nuevas restricciones. Cuando completes esta sección y llegues al **Reporte de resultados** te daremos instrucciones adicionales para que corras las celdas en el orden correcto y puedas comprobar las soluciones (esto no afecta la calificación, sólo queremos que experimentes diferentes variantes del problema)"
   ]
  },
  {
   "cell_type": "markdown",
   "id": "Bb6j_hVebaOC",
   "metadata": {
    "deletable": false,
    "editable": false,
    "id": "Bb6j_hVebaOC",
    "nbgrader": {
     "cell_type": "markdown",
     "checksum": "6651d717588738ba7d208802afea1a96",
     "grade": false,
     "grade_id": "cell-6be118ba8d07bbea",
     "locked": true,
     "schema_version": 3,
     "solution": false,
     "task": false
    }
   },
   "source": [
    "**Pregunta 10 (20 puntos)**\n",
    "\n",
    "* Crea las variables de inventario `I`, asignando correctamente los índices, naturaleza de variables, límite inferior en 0 y nombre `inventario`.\n",
    "* Crea la restricción del primer periodo, asígnale el nombre `'R7A'` y añádela al modelo.\n",
    "* Crea las restricciones de los periodos siguientes, asignales el nombre `'R7B_'+str(<indice_del_para_todo>)` y añádelas al modelo.\n",
    "\n",
    "> 7. **Para este escenario, Petroco no manejará un presupuesto global**, sino que ahora tendrá disponibles 12 millones USD para invertir en la perforación de pozos cada año. El dinero que no sea invertido estará disponible para la operación de los siguientes años. Adicionalmente, la junta directiva ha aprobado que el 5% de las utilidades de un año sean reinvertidas en los años siguientes.\n",
    ">\n",
    ">> A. Inventario del primer periodo\n",
    ">>> $I_1 = 12 - \\sum_{i\\in P}c_{i,1}x_{i,1}$\n",
    ">\n",
    ">> B. Inventario de los siguientes periodos\n",
    ">>> *# Para desarrollo del estudiante*\n",
    ">\n",
    ">> **Naturaleza de las variables**\n",
    ">>> $I_t$: presupuesto (en millones de USD) que queda para invertir en periodos siguientes, al final del año $t\\in T$\n",
    ">>> $I_t \\geq 0, \\; \\forall t\\in T$"
   ]
  },
  {
   "cell_type": "code",
   "execution_count": 11,
   "id": "ybVVtGPKbaOC",
   "metadata": {
    "deletable": false,
    "id": "ybVVtGPKbaOC",
    "nbgrader": {
     "cell_type": "code",
     "checksum": "9f6af4de69d225c5c158fc1c344e8ebd",
     "grade": false,
     "grade_id": "cell-75002e39032cd6af",
     "locked": false,
     "schema_version": 3,
     "solution": true,
     "task": false
    }
   },
   "outputs": [],
   "source": [
    "# your code here\n",
    "I = lp.LpVariable.dicts(name='I', indices=Tiempos, lowBound=0, cat=lp.LpContinuous)\n",
    "\n",
    "presupuesto_anual = presupuesto//len(Tiempos)\n",
    "#Restriccion primer periodo\n",
    "problema += I[1] == presupuesto_anual - lp.lpSum(costo[i,1]*x[i,1] for i in Pozos), 'R7A'\n",
    "\n",
    "#Restricciones siguientes periodos\n",
    "for t in Tiempos: \n",
    "    if t > 1:\n",
    "        problema += I[t] == I[t-1] + presupuesto_anual + 0.05*(lp.lpSum(utilidad[i,t-1]*x[i,t-1] for i in Pozos)) - lp.lpSum(costo[i,t]*x[i,t] for i in Pozos), 'R7B_'+str(t)"
   ]
  },
  {
   "cell_type": "code",
   "execution_count": 28,
   "id": "KDxAnDoUbaOC",
   "metadata": {
    "deletable": false,
    "editable": false,
    "id": "KDxAnDoUbaOC",
    "nbgrader": {
     "cell_type": "code",
     "checksum": "c5ea67506fefcf9d4120aa96b8e45c1c",
     "grade": true,
     "grade_id": "cell-f3eaa32d19c1d955",
     "locked": true,
     "points": 20,
     "schema_version": 3,
     "solution": false,
     "task": false
    }
   },
   "outputs": [],
   "source": [
    "# Esta celda esta reservada para uso del equipo docente"
   ]
  },
  {
   "cell_type": "markdown",
   "id": "eqAoFROFbaOC",
   "metadata": {
    "deletable": false,
    "editable": false,
    "id": "eqAoFROFbaOC",
    "nbgrader": {
     "cell_type": "markdown",
     "checksum": "42ae7d9774c524a7953e8adc2e37dfd7",
     "grade": false,
     "grade_id": "cell-124bpda0e0eb9d74",
     "locked": true,
     "schema_version": 3,
     "solution": false,
     "task": false
    }
   },
   "source": [
    "**Pregunta 11 (20 puntos)**\n",
    "\n",
    "* Crea las variables de holgura `m_`, asignando correctamente los índices, naturaleza de variables, límite inferior en 0 y nombre `'holgura'`\n",
    "* Crea la nueva función objetivo del modelo.\n",
    "* Crea las nuevas restricciones de metas de producción, asígnales el nombre `'R8A_'+str(<indice_del_para_todo>)` y añádelas al modelo.\n",
    "\n",
    "> 8. Petroco tiene la opción de no cumplir las metas de producción sujeto a una penalización. Por cada 1,000 barriles que no se produzcan de la meta diaria a lo largo del año, Petroco deberá pagar anualmente 17 millones USD\n",
    ">\n",
    ">> Nueva funcion objetivo\n",
    ">>> *# Para desarrollo del estudiante*\n",
    ">\n",
    ">> A. Nueva restricción de metas de producción\n",
    ">>> *# Para desarrollo del estudiante*\n",
    ">\n",
    ">> **Naturaleza de las variables**\n",
    ">>> $m_t^-$: cantidad (en miles de barriles promedio diarios) de crudo por la cual se incumplió la meta del año $t\\in T$\n",
    ">>> $m_t^- \\geq 0, \\; \\forall t\\in T$\n",
    "\n",
    "> **Recuerda** que para validar si Petroco cumple las metas de producción, se debe utilizar el parámetro $p_{i}$ que corresponde al promedio diario (miles de barriles) de crudo producido en el pozo $i \\in P$. Por esta razón, en la restricción tendrás que usar los parámetros `prodMin`, `prodModa`, y `prodMax` para calcular este promedio.  \n"
   ]
  },
  {
   "cell_type": "code",
   "execution_count": 12,
   "id": "pVADlnC0baOD",
   "metadata": {
    "deletable": false,
    "id": "pVADlnC0baOD",
    "nbgrader": {
     "cell_type": "code",
     "checksum": "22ea4569fd09cf5ae3a8d4e7b21cbe89",
     "grade": false,
     "grade_id": "cell-e3c7180e3c967fda",
     "locked": false,
     "schema_version": 3,
     "solution": true,
     "task": false
    }
   },
   "outputs": [],
   "source": [
    "# your code here\n",
    "#Nueva variable m_\n",
    "m_ = lp.LpVariable.dicts(name='holgura', indices=Tiempos, lowBound=0, cat=lp.LpContinuous)\n",
    "\n",
    "#Nueva Función Objetivo del modelo\n",
    "costo_penalizacion = 17 #En millones de barriles\n",
    "problema += lp.lpSum(utilidad[i,t]*x[i,t] for i in Pozos for t in Tiempos) - lp.lpSum(costo_penalizacion*m_[t] for t in Tiempos), 'Utilidad_con_holgura'\n",
    "\n",
    "#Restricciones de metas de producción\n",
    "for t in Tiempos:\n",
    "    problema += lp.lpSum((prodMax[i]+prodMin[i]+prodModa[i]/3)*x[i,t] for i in Pozos) + m_[t] >= metas[t], 'R8A_'+str(t)"
   ]
  },
  {
   "cell_type": "code",
   "execution_count": 30,
   "id": "A1KzTI_wbaOD",
   "metadata": {
    "deletable": false,
    "editable": false,
    "id": "A1KzTI_wbaOD",
    "nbgrader": {
     "cell_type": "code",
     "checksum": "5684b792d7661167454141d5443b4781",
     "grade": true,
     "grade_id": "cell-1746af9317824r09",
     "locked": true,
     "points": 20,
     "schema_version": 3,
     "solution": false,
     "task": false
    }
   },
   "outputs": [],
   "source": [
    "# Esta celda esta reservada para uso del equipo docente"
   ]
  },
  {
   "cell_type": "markdown",
   "id": "DkiUWQs5baOD",
   "metadata": {
    "deletable": false,
    "editable": false,
    "id": "DkiUWQs5baOD",
    "nbgrader": {
     "cell_type": "markdown",
     "checksum": "e4afa7d299f4b8111b49dc43353f35d1",
     "grade": false,
     "grade_id": "cell-324apda0e0eb9d74",
     "locked": true,
     "schema_version": 3,
     "solution": false,
     "task": false
    }
   },
   "source": [
    "**Pregunta 12 (15 puntos)**\n",
    "\n",
    "* Crea la siguiente restricción, asígnale el nombre `'R9_'+str(<indice_del_para_todo>)` y añádela al modelo:\n",
    "\n",
    "> 9. La Vicepresidencia ha decidido entrenar nuevos operarios en cada año, esto se debe reflejar en los operarios utilizados\n",
    ">> $d_t$: operarios disponibles en el año $t\\in T$ (antes eran 6 en cada año)\n",
    ">>\n",
    ">> *# Para desarrollo del estudiante*"
   ]
  },
  {
   "cell_type": "code",
   "execution_count": 12,
   "id": "FpwCexi1baOD",
   "metadata": {
    "deletable": false,
    "editable": false,
    "id": "FpwCexi1baOD",
    "nbgrader": {
     "cell_type": "code",
     "checksum": "f5dbab1ed74dc6da66643620ed948485",
     "grade": false,
     "grade_id": "cell-cf48bb599989a675",
     "locked": true,
     "schema_version": 3,
     "solution": false,
     "task": false
    }
   },
   "outputs": [],
   "source": [
    "# Nuevos parametros (Creacion de d_t)\n",
    "operariosDisp = {1: 8, 2: 8, 3: 9, 4: 9, 5: 9, 6: 10, 7: 10, 8: 10, 9: 11, 10: 11}\n",
    "# Esta instrucción sirve para generar una visualización personalizada de este escenario en el Reporte de Resultados\n",
    "caso_operarios = True"
   ]
  },
  {
   "cell_type": "code",
   "execution_count": 13,
   "id": "SYAEd9krbaOD",
   "metadata": {
    "deletable": false,
    "id": "SYAEd9krbaOD",
    "nbgrader": {
     "cell_type": "code",
     "checksum": "eb1246aa047ba6c9f2c30fd8b4202aec",
     "grade": false,
     "grade_id": "cell-d9761c29ba43e43b",
     "locked": false,
     "schema_version": 3,
     "solution": true,
     "task": false
    }
   },
   "outputs": [],
   "source": [
    "# your code here\n",
    "for t in Tiempos:\n",
    "    problema += lp.lpSum(operarios[i]*x[i,t] for i in Pozos) <= operariosDisp[t], 'R9_'+str(t)"
   ]
  },
  {
   "cell_type": "code",
   "execution_count": 33,
   "id": "937jYMdZbaOE",
   "metadata": {
    "deletable": false,
    "editable": false,
    "id": "937jYMdZbaOE",
    "nbgrader": {
     "cell_type": "code",
     "checksum": "85aa784aecdf916e05fec4cb1da0165e",
     "grade": true,
     "grade_id": "cell-1746ac9317824r09",
     "locked": true,
     "points": 15,
     "schema_version": 3,
     "solution": false,
     "task": false
    }
   },
   "outputs": [],
   "source": [
    "# Esta celda esta reservada para uso del equipo docente"
   ]
  },
  {
   "cell_type": "code",
   "execution_count": 34,
   "id": "zW6IZkB3baOE",
   "metadata": {
    "deletable": false,
    "editable": false,
    "id": "zW6IZkB3baOE",
    "nbgrader": {
     "cell_type": "code",
     "checksum": "04327b129ede6156537a6f50dedace88",
     "grade": true,
     "grade_id": "cell-852cae9567dbdf14",
     "locked": true,
     "points": 0,
     "schema_version": 3,
     "solution": false,
     "task": false
    }
   },
   "outputs": [],
   "source": [
    "# Esta celda esta reservada para uso del equipo docente"
   ]
  },
  {
   "cell_type": "markdown",
   "id": "RAE6aZo8baOE",
   "metadata": {
    "deletable": false,
    "editable": false,
    "id": "RAE6aZo8baOE",
    "nbgrader": {
     "cell_type": "markdown",
     "checksum": "ab4bf127d369a2d39f4c10941896327b",
     "grade": false,
     "grade_id": "cell-31445d212bcb279b",
     "locked": true,
     "schema_version": 3,
     "solution": false,
     "task": false
    }
   },
   "source": [
    "### Invocar el optimizador\n",
    "\n",
    "En esta práctica, vamos a correr varias veces el modelo. En **Reporte de resultados** encontrarás las instrucciones."
   ]
  },
  {
   "cell_type": "code",
   "execution_count": 14,
   "id": "naQIC5ovbaOE",
   "metadata": {
    "deletable": false,
    "editable": false,
    "id": "naQIC5ovbaOE",
    "nbgrader": {
     "cell_type": "code",
     "checksum": "81b40dd693a3f27ef94f769e18b58789",
     "grade": false,
     "grade_id": "cell-b924c09dcdd338ad",
     "locked": true,
     "schema_version": 3,
     "solution": false,
     "task": false
    }
   },
   "outputs": [
    {
     "name": "stdout",
     "output_type": "stream",
     "text": [
      "Welcome to the CBC MILP Solver \n",
      "Version: 2.10.3 \n",
      "Build Date: Dec 15 2019 \n",
      "\n",
      "command line - /Users/santiagoromero/anaconda3/envs/Maestria/lib/python3.11/site-packages/pulp/solverdir/cbc/osx/64/cbc /var/folders/cw/dvczbrmn4d7g1pplvzvyvc2h0000gn/T/dd5a5c4d77844c2fa9a722fc242e0dba-pulp.mps max timeMode elapsed branch printingOptions all solution /var/folders/cw/dvczbrmn4d7g1pplvzvyvc2h0000gn/T/dd5a5c4d77844c2fa9a722fc242e0dba-pulp.sol (default strategy 1)\n",
      "At line 2 NAME          MODEL\n",
      "At line 3 ROWS\n",
      "At line 52 COLUMNS\n",
      "At line 1403 RHS\n",
      "At line 1451 BOUNDS\n",
      "At line 1602 ENDATA\n",
      "Problem MODEL has 47 rows, 150 columns and 900 elements\n",
      "Coin0008I MODEL read with 0 errors\n",
      "Option for timeMode changed from cpu to elapsed\n",
      "Continuous objective value is 1215.26 - 0.00 seconds\n",
      "Cgl0008I 15 inequality constraints converted to equality constraints\n",
      "Cgl0005I 15 SOS with 165 members\n",
      "Cgl0004I processed model has 47 rows, 165 columns (165 integer (165 of which binary)) and 915 elements\n",
      "Cutoff increment increased from 1e-05 to 0.9999\n",
      "Cbc0038I Initial state - 14 integers unsatisfied sum - 2.65556\n",
      "Cbc0038I Pass   1: suminf.    1.00000 (4) obj. -1183.77 iterations 17\n",
      "Cbc0038I Pass   2: suminf.    1.00000 (4) obj. -1171.43 iterations 9\n",
      "Cbc0038I Pass   3: suminf.    0.83333 (4) obj. -1165.93 iterations 6\n",
      "Cbc0038I Pass   4: suminf.    1.00000 (4) obj. -1171.43 iterations 7\n",
      "Cbc0038I Pass   5: suminf.    4.12088 (16) obj. -875.166 iterations 29\n",
      "Cbc0038I Pass   6: suminf.    0.68889 (4) obj. -875.811 iterations 20\n",
      "Cbc0038I Pass   7: suminf.    0.26667 (4) obj. -864.6 iterations 7\n",
      "Cbc0038I Pass   8: suminf.    0.13333 (2) obj. -864.533 iterations 12\n",
      "Cbc0038I Pass   9: suminf.    0.55556 (2) obj. -830.444 iterations 10\n",
      "Cbc0038I Pass  10: suminf.    2.15635 (15) obj. -761.722 iterations 23\n",
      "Cbc0038I Pass  11: suminf.    0.73056 (4) obj. -770.528 iterations 18\n",
      "Cbc0038I Pass  12: suminf.    0.83333 (3) obj. -798.667 iterations 21\n",
      "Cbc0038I Pass  13: suminf.    0.30000 (3) obj. -813.683 iterations 8\n",
      "Cbc0038I Pass  14: suminf.    0.30000 (3) obj. -813.683 iterations 2\n",
      "Cbc0038I Pass  15: suminf.    0.16667 (2) obj. -838.333 iterations 7\n",
      "Cbc0038I Pass  16: suminf.    0.16667 (2) obj. -838.333 iterations 2\n",
      "Cbc0038I Pass  17: suminf.    0.13333 (2) obj. -851.933 iterations 4\n",
      "Cbc0038I Pass  18: suminf.    2.19343 (9) obj. -702.719 iterations 32\n",
      "Cbc0038I Pass  19: suminf.    0.84444 (5) obj. -685.556 iterations 16\n",
      "Cbc0038I Pass  20: suminf.    0.66667 (2) obj. -702 iterations 12\n",
      "Cbc0038I Solution found of -709\n",
      "Cbc0038I Rounding solution of -817 is better than previous of -709\n",
      "\n",
      "Cbc0038I Before mini branch and bound, 93 integers at bound fixed and 6 continuous\n",
      "Cbc0038I Full problem 47 rows 165 columns, reduced to 45 rows 55 columns\n",
      "Cbc0038I Mini branch and bound improved solution from -817 to -1064 (0.08 seconds)\n",
      "Cbc0038I Round again with cutoff of -1078.41\n",
      "Cbc0038I Reduced cost fixing fixed 1 variables on major pass 2\n",
      "Cbc0038I Pass  21: suminf.    1.00000 (4) obj. -1183.77 iterations 0\n",
      "Cbc0038I Pass  22: suminf.    1.00000 (4) obj. -1171.43 iterations 7\n",
      "Cbc0038I Pass  23: suminf.    0.83333 (4) obj. -1165.93 iterations 5\n",
      "Cbc0038I Pass  24: suminf.    1.00000 (4) obj. -1171.43 iterations 6\n",
      "Cbc0038I Pass  25: suminf.    3.04926 (15) obj. -1078.41 iterations 27\n",
      "Cbc0038I Pass  26: suminf.    0.66667 (4) obj. -1108.55 iterations 23\n",
      "Cbc0038I Pass  27: suminf.    0.80182 (5) obj. -1078.41 iterations 19\n",
      "Cbc0038I Pass  28: suminf.    0.46342 (4) obj. -1078.41 iterations 7\n",
      "Cbc0038I Pass  29: suminf.    1.54087 (5) obj. -1078.41 iterations 26\n",
      "Cbc0038I Pass  30: suminf.    0.79429 (2) obj. -1078.41 iterations 6\n",
      "Cbc0038I Pass  31: suminf.    0.66667 (2) obj. -1084 iterations 16\n",
      "Cbc0038I Pass  32: suminf.    0.66667 (4) obj. -1108.55 iterations 5\n",
      "Cbc0038I Pass  33: suminf.    0.80182 (5) obj. -1078.41 iterations 16\n",
      "Cbc0038I Pass  34: suminf.    0.46342 (4) obj. -1078.41 iterations 6\n",
      "Cbc0038I Pass  35: suminf.    1.54087 (5) obj. -1078.41 iterations 23\n",
      "Cbc0038I Pass  36: suminf.    0.79429 (2) obj. -1078.41 iterations 3\n",
      "Cbc0038I Pass  37: suminf.    0.66667 (2) obj. -1084 iterations 20\n",
      "Cbc0038I Pass  38: suminf.    0.66667 (4) obj. -1108.55 iterations 5\n",
      "Cbc0038I Pass  39: suminf.    0.80182 (5) obj. -1078.41 iterations 19\n",
      "Cbc0038I Pass  40: suminf.    0.46342 (4) obj. -1078.41 iterations 5\n",
      "Cbc0038I Pass  41: suminf.    1.54087 (5) obj. -1078.41 iterations 25\n",
      "Cbc0038I Pass  42: suminf.    0.79429 (2) obj. -1078.41 iterations 7\n",
      "Cbc0038I Pass  43: suminf.    0.66667 (2) obj. -1084 iterations 21\n",
      "Cbc0038I Pass  44: suminf.    0.66667 (4) obj. -1108.55 iterations 3\n",
      "Cbc0038I Pass  45: suminf.    0.80182 (5) obj. -1078.41 iterations 16\n",
      "Cbc0038I Pass  46: suminf.    0.46342 (4) obj. -1078.41 iterations 6\n",
      "Cbc0038I Pass  47: suminf.    1.54087 (5) obj. -1078.41 iterations 25\n",
      "Cbc0038I Pass  48: suminf.    0.79429 (2) obj. -1078.41 iterations 5\n",
      "Cbc0038I Pass  49: suminf.    0.66667 (2) obj. -1084 iterations 21\n",
      "Cbc0038I Pass  50: suminf.    0.66667 (4) obj. -1108.55 iterations 6\n",
      "Cbc0038I No solution found this major pass\n",
      "Cbc0038I Before mini branch and bound, 115 integers at bound fixed and 7 continuous\n",
      "Cbc0038I Full problem 47 rows 165 columns, reduced to 31 rows 30 columns\n",
      "Cbc0038I Mini branch and bound did not improve solution (0.10 seconds)\n",
      "Cbc0038I After 0.10 seconds - Feasibility pump exiting with objective of -1064 - took 0.07 seconds\n",
      "Cbc0012I Integer solution of -1064 found by feasibility pump after 0 iterations and 0 nodes (0.10 seconds)\n",
      "Cbc0012I Integer solution of -1143 found by DiveCoefficient after 104 iterations and 0 nodes (0.27 seconds)\n",
      "Cbc0031I 9 added rows had average density of 59.777778\n",
      "Cbc0013I At root node, 9 cuts changed objective from -1199.0778 to -1143 in 8 passes\n",
      "Cbc0014I Cut generator 0 (Probing) - 2 row cuts average 2.0 elements, 0 column cuts (0 active)  in 0.004 seconds - new frequency is -100\n",
      "Cbc0014I Cut generator 1 (Gomory) - 68 row cuts average 143.9 elements, 0 column cuts (0 active)  in 0.002 seconds - new frequency is 1\n",
      "Cbc0014I Cut generator 2 (Knapsack) - 9 row cuts average 10.9 elements, 0 column cuts (0 active)  in 0.003 seconds - new frequency is 1\n",
      "Cbc0014I Cut generator 3 (Clique) - 0 row cuts average 0.0 elements, 0 column cuts (0 active)  in 0.000 seconds - new frequency is -100\n",
      "Cbc0014I Cut generator 4 (MixedIntegerRounding2) - 18 row cuts average 77.6 elements, 0 column cuts (0 active)  in 0.002 seconds - new frequency is 1\n",
      "Cbc0014I Cut generator 5 (FlowCover) - 0 row cuts average 0.0 elements, 0 column cuts (0 active)  in 0.000 seconds - new frequency is -100\n",
      "Cbc0014I Cut generator 6 (TwoMirCuts) - 78 row cuts average 133.9 elements, 0 column cuts (0 active)  in 0.010 seconds - new frequency is 1\n",
      "Cbc0014I Cut generator 7 (ZeroHalf) - 8 row cuts average 133.5 elements, 0 column cuts (0 active)  in 0.078 seconds - new frequency is 1\n",
      "Cbc0001I Search completed - best objective -1143, took 104 iterations and 0 nodes (0.27 seconds)\n",
      "Cbc0035I Maximum depth 0, 8 variables fixed on reduced cost\n",
      "Cuts at root nod"
     ]
    },
    {
     "data": {
      "text/plain": [
       "1"
      ]
     },
     "execution_count": 14,
     "metadata": {},
     "output_type": "execute_result"
    },
    {
     "name": "stdout",
     "output_type": "stream",
     "text": [
      "e changed objective from -1199.08 to -1143\n",
      "Probing was tried 8 times and created 2 cuts of which 0 were active after adding rounds of cuts (0.004 seconds)\n",
      "Gomory was tried 8 times and created 68 cuts of which 0 were active after adding rounds of cuts (0.002 seconds)\n",
      "Knapsack was tried 8 times and created 9 cuts of which 0 were active after adding rounds of cuts (0.003 seconds)\n",
      "Clique was tried 8 times and created 0 cuts of which 0 were active after adding rounds of cuts (0.000 seconds)\n",
      "MixedIntegerRounding2 was tried 8 times and created 18 cuts of which 0 were active after adding rounds of cuts (0.002 seconds)\n",
      "FlowCover was tried 8 times and created 0 cuts of which 0 were active after adding rounds of cuts (0.000 seconds)\n",
      "TwoMirCuts was tried 8 times and created 78 cuts of which 0 were active after adding rounds of cuts (0.010 seconds)\n",
      "ZeroHalf was tried 8 times and created 8 cuts of which 0 were active after adding rounds of cuts (0.078 seconds)\n",
      "\n",
      "Result - Optimal solution found\n",
      "\n",
      "Objective value:                1143.00000000\n",
      "Enumerated nodes:               0\n",
      "Total iterations:               104\n",
      "Time (CPU seconds):             0.19\n",
      "Time (Wallclock seconds):       0.28\n",
      "\n",
      "Option for printingOptions changed from normal to all\n",
      "Total time (CPU seconds):       0.20   (Wallclock seconds):       0.29\n",
      "\n"
     ]
    }
   ],
   "source": [
    "problema.solve()"
   ]
  },
  {
   "cell_type": "markdown",
   "id": "XT6rZ7n5baOE",
   "metadata": {
    "deletable": false,
    "editable": false,
    "id": "XT6rZ7n5baOE",
    "nbgrader": {
     "cell_type": "markdown",
     "checksum": "f98ad1bbee9eea8aea04526524fa8d85",
     "grade": false,
     "grade_id": "cell-b1766f2e759f8b12",
     "locked": true,
     "schema_version": 3,
     "solution": false,
     "task": false
    },
    "tags": []
   },
   "source": [
    "## Reporte de resultados\n",
    "---\n",
    "Como hemos dicho anteriormente, este problema tiene algunas variantes. Las celdas de esta sección te permiten comprobar y visualizar rápidamente las soluciones. Después de correr (`problema.solve()`) en una variante, puedes venir a esta sección y correr las celdas para comprobar las soluciones!\n",
    "\n",
    "Estas son las variantes del problema:\n",
    "* Caso **Base** cambio en los Recursos: **Preguntas 1 a 9** luego `problema.solve()`\n",
    "  * Para que lo tengas de referencia, el valor de la función objetivo de esta variante es: $1124\n",
    "* Caso con inventarios: **Preguntas 1 a 4 y 6 a 10** luego `problema.solve()`\n",
    "* Caso con metas de producción flexibles: **Preguntas 1, 2, 4, 5, 7, 8, 9 y 11** luego `problema.solve()`\n",
    "* Caso con operarios variables en cada año: **Preguntas 1 a 6, 8, 9 y 12** luego `problema.solve()`"
   ]
  },
  {
   "cell_type": "markdown",
   "id": "pef0ebxqbaOE",
   "metadata": {
    "deletable": false,
    "editable": false,
    "id": "pef0ebxqbaOE",
    "nbgrader": {
     "cell_type": "markdown",
     "checksum": "6aed93c3b3a03d6ae9785cda7926825b",
     "grade": false,
     "grade_id": "cell-1422f3d782be0722",
     "locked": true,
     "schema_version": 3,
     "solution": false,
     "task": false
    }
   },
   "source": [
    "**Estado del optimizador, función objetivo y otros indicadores**"
   ]
  },
  {
   "cell_type": "code",
   "execution_count": 15,
   "id": "Qn-k0dhUbaOF",
   "metadata": {
    "id": "Qn-k0dhUbaOF"
   },
   "outputs": [
    {
     "name": "stdout",
     "output_type": "stream",
     "text": [
      "Estado (optimizador): Optimal\n",
      "\n",
      "Utilidad total = $ 1143.0\n",
      "\n",
      "Inversión total = $ 118.0\n",
      "\n"
     ]
    }
   ],
   "source": [
    "# Imprimir estado final del optimizador\n",
    "print(\"Estado (optimizador):\", lp.LpStatus[problema.status], end=\"\\n\")\n",
    "\n",
    "# Valor óptimo del portafolio de Petroco\n",
    "print(\"\\nUtilidad total = $\", lp.value(problema.objective))\n",
    "\n",
    "# Inversión\n",
    "print(\n",
    "    \"\\nInversión total = $\",\n",
    "    sum(costo[i, t] * lp.value(x[i, t]) for i, t in Pozo_x_Tiempo),\n",
    "    end=\"\\n\\n\",\n",
    ")"
   ]
  },
  {
   "cell_type": "markdown",
   "id": "Mcrvs-IQbaOF",
   "metadata": {
    "deletable": false,
    "editable": false,
    "id": "Mcrvs-IQbaOF",
    "nbgrader": {
     "cell_type": "markdown",
     "checksum": "5649ff7a1c06ddd14dacf2a81239efdf",
     "grade": false,
     "grade_id": "cell-0254q0b1f475a1b0",
     "locked": true,
     "schema_version": 3,
     "solution": false,
     "task": false
    }
   },
   "source": [
    "**Pozos a perforar en cada año**"
   ]
  },
  {
   "cell_type": "code",
   "execution_count": 16,
   "id": "9x_4M1fEbaOF",
   "metadata": {
    "deletable": false,
    "editable": false,
    "id": "9x_4M1fEbaOF",
    "nbgrader": {
     "cell_type": "code",
     "checksum": "71ecb71b66247262c42f33cff995c45f",
     "grade": false,
     "grade_id": "cell-ar28a5b62394b3cb",
     "locked": true,
     "schema_version": 3,
     "solution": false,
     "task": false
    }
   },
   "outputs": [
    {
     "data": {
      "text/html": [
       "<div>\n",
       "<style scoped>\n",
       "    .dataframe tbody tr th:only-of-type {\n",
       "        vertical-align: middle;\n",
       "    }\n",
       "\n",
       "    .dataframe tbody tr th {\n",
       "        vertical-align: top;\n",
       "    }\n",
       "\n",
       "    .dataframe thead th {\n",
       "        text-align: right;\n",
       "    }\n",
       "</style>\n",
       "<table border=\"1\" class=\"dataframe\">\n",
       "  <thead>\n",
       "    <tr style=\"text-align: right;\">\n",
       "      <th></th>\n",
       "      <th>1</th>\n",
       "      <th>2</th>\n",
       "      <th>3</th>\n",
       "      <th>4</th>\n",
       "      <th>5</th>\n",
       "      <th>6</th>\n",
       "      <th>7</th>\n",
       "      <th>8</th>\n",
       "      <th>9</th>\n",
       "      <th>10</th>\n",
       "    </tr>\n",
       "  </thead>\n",
       "  <tbody>\n",
       "    <tr>\n",
       "      <th>DELE B-1</th>\n",
       "      <td>0.0</td>\n",
       "      <td>0.0</td>\n",
       "      <td>0.0</td>\n",
       "      <td>0.0</td>\n",
       "      <td>0.0</td>\n",
       "      <td>0.0</td>\n",
       "      <td>0.0</td>\n",
       "      <td>0.0</td>\n",
       "      <td>0.0</td>\n",
       "      <td>1.0</td>\n",
       "    </tr>\n",
       "    <tr>\n",
       "      <th>EL MORRO-1</th>\n",
       "      <td>0.0</td>\n",
       "      <td>0.0</td>\n",
       "      <td>0.0</td>\n",
       "      <td>1.0</td>\n",
       "      <td>0.0</td>\n",
       "      <td>0.0</td>\n",
       "      <td>0.0</td>\n",
       "      <td>0.0</td>\n",
       "      <td>0.0</td>\n",
       "      <td>0.0</td>\n",
       "    </tr>\n",
       "    <tr>\n",
       "      <th>FLORENA A-5</th>\n",
       "      <td>0.0</td>\n",
       "      <td>1.0</td>\n",
       "      <td>0.0</td>\n",
       "      <td>0.0</td>\n",
       "      <td>0.0</td>\n",
       "      <td>0.0</td>\n",
       "      <td>0.0</td>\n",
       "      <td>0.0</td>\n",
       "      <td>0.0</td>\n",
       "      <td>0.0</td>\n",
       "    </tr>\n",
       "    <tr>\n",
       "      <th>FLORENA C-6</th>\n",
       "      <td>1.0</td>\n",
       "      <td>0.0</td>\n",
       "      <td>0.0</td>\n",
       "      <td>0.0</td>\n",
       "      <td>0.0</td>\n",
       "      <td>0.0</td>\n",
       "      <td>0.0</td>\n",
       "      <td>0.0</td>\n",
       "      <td>0.0</td>\n",
       "      <td>0.0</td>\n",
       "    </tr>\n",
       "    <tr>\n",
       "      <th>FLORENA N-2</th>\n",
       "      <td>0.0</td>\n",
       "      <td>0.0</td>\n",
       "      <td>0.0</td>\n",
       "      <td>0.0</td>\n",
       "      <td>0.0</td>\n",
       "      <td>0.0</td>\n",
       "      <td>1.0</td>\n",
       "      <td>0.0</td>\n",
       "      <td>0.0</td>\n",
       "      <td>0.0</td>\n",
       "    </tr>\n",
       "    <tr>\n",
       "      <th>FLORENA N-4 ST</th>\n",
       "      <td>0.0</td>\n",
       "      <td>0.0</td>\n",
       "      <td>1.0</td>\n",
       "      <td>0.0</td>\n",
       "      <td>0.0</td>\n",
       "      <td>0.0</td>\n",
       "      <td>0.0</td>\n",
       "      <td>0.0</td>\n",
       "      <td>0.0</td>\n",
       "      <td>0.0</td>\n",
       "    </tr>\n",
       "    <tr>\n",
       "      <th>FLORENA-T8</th>\n",
       "      <td>0.0</td>\n",
       "      <td>0.0</td>\n",
       "      <td>1.0</td>\n",
       "      <td>0.0</td>\n",
       "      <td>0.0</td>\n",
       "      <td>0.0</td>\n",
       "      <td>0.0</td>\n",
       "      <td>0.0</td>\n",
       "      <td>0.0</td>\n",
       "      <td>0.0</td>\n",
       "    </tr>\n",
       "    <tr>\n",
       "      <th>PAUTO J-6</th>\n",
       "      <td>0.0</td>\n",
       "      <td>0.0</td>\n",
       "      <td>0.0</td>\n",
       "      <td>0.0</td>\n",
       "      <td>0.0</td>\n",
       "      <td>0.0</td>\n",
       "      <td>0.0</td>\n",
       "      <td>0.0</td>\n",
       "      <td>0.0</td>\n",
       "      <td>0.0</td>\n",
       "    </tr>\n",
       "    <tr>\n",
       "      <th>PAUTO M4</th>\n",
       "      <td>0.0</td>\n",
       "      <td>0.0</td>\n",
       "      <td>0.0</td>\n",
       "      <td>0.0</td>\n",
       "      <td>1.0</td>\n",
       "      <td>0.0</td>\n",
       "      <td>0.0</td>\n",
       "      <td>0.0</td>\n",
       "      <td>0.0</td>\n",
       "      <td>0.0</td>\n",
       "    </tr>\n",
       "    <tr>\n",
       "      <th>PAUTO M-5</th>\n",
       "      <td>0.0</td>\n",
       "      <td>0.0</td>\n",
       "      <td>0.0</td>\n",
       "      <td>0.0</td>\n",
       "      <td>0.0</td>\n",
       "      <td>0.0</td>\n",
       "      <td>0.0</td>\n",
       "      <td>0.0</td>\n",
       "      <td>0.0</td>\n",
       "      <td>1.0</td>\n",
       "    </tr>\n",
       "    <tr>\n",
       "      <th>PAUTO SUR B-1</th>\n",
       "      <td>0.0</td>\n",
       "      <td>0.0</td>\n",
       "      <td>0.0</td>\n",
       "      <td>0.0</td>\n",
       "      <td>0.0</td>\n",
       "      <td>0.0</td>\n",
       "      <td>0.0</td>\n",
       "      <td>0.0</td>\n",
       "      <td>1.0</td>\n",
       "      <td>0.0</td>\n",
       "    </tr>\n",
       "    <tr>\n",
       "      <th>PAUTO SUR C-2</th>\n",
       "      <td>0.0</td>\n",
       "      <td>0.0</td>\n",
       "      <td>0.0</td>\n",
       "      <td>0.0</td>\n",
       "      <td>0.0</td>\n",
       "      <td>0.0</td>\n",
       "      <td>0.0</td>\n",
       "      <td>1.0</td>\n",
       "      <td>0.0</td>\n",
       "      <td>0.0</td>\n",
       "    </tr>\n",
       "    <tr>\n",
       "      <th>PAUTO-1</th>\n",
       "      <td>0.0</td>\n",
       "      <td>0.0</td>\n",
       "      <td>0.0</td>\n",
       "      <td>0.0</td>\n",
       "      <td>0.0</td>\n",
       "      <td>1.0</td>\n",
       "      <td>0.0</td>\n",
       "      <td>0.0</td>\n",
       "      <td>0.0</td>\n",
       "      <td>0.0</td>\n",
       "    </tr>\n",
       "    <tr>\n",
       "      <th>VOLCANERA A-1</th>\n",
       "      <td>0.0</td>\n",
       "      <td>0.0</td>\n",
       "      <td>0.0</td>\n",
       "      <td>0.0</td>\n",
       "      <td>0.0</td>\n",
       "      <td>0.0</td>\n",
       "      <td>0.0</td>\n",
       "      <td>0.0</td>\n",
       "      <td>0.0</td>\n",
       "      <td>0.0</td>\n",
       "    </tr>\n",
       "    <tr>\n",
       "      <th>VOLCANERA C-2</th>\n",
       "      <td>0.0</td>\n",
       "      <td>0.0</td>\n",
       "      <td>0.0</td>\n",
       "      <td>0.0</td>\n",
       "      <td>0.0</td>\n",
       "      <td>0.0</td>\n",
       "      <td>0.0</td>\n",
       "      <td>0.0</td>\n",
       "      <td>0.0</td>\n",
       "      <td>0.0</td>\n",
       "    </tr>\n",
       "  </tbody>\n",
       "</table>\n",
       "</div>"
      ],
      "text/plain": [
       "                 1    2    3    4    5    6    7    8    9    10\n",
       "DELE B-1        0.0  0.0  0.0  0.0  0.0  0.0  0.0  0.0  0.0  1.0\n",
       "EL MORRO-1      0.0  0.0  0.0  1.0  0.0  0.0  0.0  0.0  0.0  0.0\n",
       "FLORENA A-5     0.0  1.0  0.0  0.0  0.0  0.0  0.0  0.0  0.0  0.0\n",
       "FLORENA C-6     1.0  0.0  0.0  0.0  0.0  0.0  0.0  0.0  0.0  0.0\n",
       "FLORENA N-2     0.0  0.0  0.0  0.0  0.0  0.0  1.0  0.0  0.0  0.0\n",
       "FLORENA N-4 ST  0.0  0.0  1.0  0.0  0.0  0.0  0.0  0.0  0.0  0.0\n",
       "FLORENA-T8      0.0  0.0  1.0  0.0  0.0  0.0  0.0  0.0  0.0  0.0\n",
       "PAUTO J-6       0.0  0.0  0.0  0.0  0.0  0.0  0.0  0.0  0.0  0.0\n",
       "PAUTO M4        0.0  0.0  0.0  0.0  1.0  0.0  0.0  0.0  0.0  0.0\n",
       "PAUTO M-5       0.0  0.0  0.0  0.0  0.0  0.0  0.0  0.0  0.0  1.0\n",
       "PAUTO SUR B-1   0.0  0.0  0.0  0.0  0.0  0.0  0.0  0.0  1.0  0.0\n",
       "PAUTO SUR C-2   0.0  0.0  0.0  0.0  0.0  0.0  0.0  1.0  0.0  0.0\n",
       "PAUTO-1         0.0  0.0  0.0  0.0  0.0  1.0  0.0  0.0  0.0  0.0\n",
       "VOLCANERA A-1   0.0  0.0  0.0  0.0  0.0  0.0  0.0  0.0  0.0  0.0\n",
       "VOLCANERA C-2   0.0  0.0  0.0  0.0  0.0  0.0  0.0  0.0  0.0  0.0"
      ]
     },
     "execution_count": 16,
     "metadata": {},
     "output_type": "execute_result"
    }
   ],
   "source": [
    "# Imprimir producción cada año\n",
    "matriz = []\n",
    "for i in Pozos:\n",
    "    fila = []  # Cada fila contiene la información de un pozo\n",
    "    for t in Tiempos:\n",
    "        if lp.value(x[i, t]) > 0:\n",
    "            fila.append(lp.value(x[i, t]))\n",
    "        else:\n",
    "            fila.append(lp.value(x[i, t]))\n",
    "    matriz.append(fila)\n",
    "\n",
    "pd.DataFrame(matriz, index=Pozos, columns=Tiempos)"
   ]
  },
  {
   "cell_type": "markdown",
   "id": "nJY-t-hlbaOF",
   "metadata": {
    "deletable": false,
    "editable": false,
    "id": "nJY-t-hlbaOF",
    "nbgrader": {
     "cell_type": "markdown",
     "checksum": "f22d05020ea88e46007a9a959a5e1d10",
     "grade": false,
     "grade_id": "cell-0254e0b1f475a1b0",
     "locked": true,
     "schema_version": 3,
     "solution": false,
     "task": false
    }
   },
   "source": [
    "**Producción, operarios y generadores utilizados en cada año**"
   ]
  },
  {
   "cell_type": "code",
   "execution_count": 17,
   "id": "TpFXRd0GbaOF",
   "metadata": {
    "deletable": false,
    "editable": false,
    "id": "TpFXRd0GbaOF",
    "nbgrader": {
     "cell_type": "code",
     "checksum": "a27275e9428b98241ce8bc7974066be9",
     "grade": false,
     "grade_id": "cell-af28a5b62394b3cb",
     "locked": true,
     "schema_version": 3,
     "solution": false,
     "task": false
    }
   },
   "outputs": [
    {
     "data": {
      "text/html": [
       "<div>\n",
       "<style scoped>\n",
       "    .dataframe tbody tr th:only-of-type {\n",
       "        vertical-align: middle;\n",
       "    }\n",
       "\n",
       "    .dataframe tbody tr th {\n",
       "        vertical-align: top;\n",
       "    }\n",
       "\n",
       "    .dataframe thead th {\n",
       "        text-align: right;\n",
       "    }\n",
       "</style>\n",
       "<table border=\"1\" class=\"dataframe\">\n",
       "  <thead>\n",
       "    <tr style=\"text-align: right;\">\n",
       "      <th></th>\n",
       "      <th>Produccion</th>\n",
       "      <th>Operarios</th>\n",
       "      <th>Generadores</th>\n",
       "    </tr>\n",
       "    <tr>\n",
       "      <th>Año</th>\n",
       "      <th></th>\n",
       "      <th></th>\n",
       "      <th></th>\n",
       "    </tr>\n",
       "  </thead>\n",
       "  <tbody>\n",
       "    <tr>\n",
       "      <th>1</th>\n",
       "      <td>3.3</td>\n",
       "      <td>4.0</td>\n",
       "      <td>3.0</td>\n",
       "    </tr>\n",
       "    <tr>\n",
       "      <th>2</th>\n",
       "      <td>5.3</td>\n",
       "      <td>4.0</td>\n",
       "      <td>2.0</td>\n",
       "    </tr>\n",
       "    <tr>\n",
       "      <th>3</th>\n",
       "      <td>8.3</td>\n",
       "      <td>6.0</td>\n",
       "      <td>5.0</td>\n",
       "    </tr>\n",
       "    <tr>\n",
       "      <th>4</th>\n",
       "      <td>4.3</td>\n",
       "      <td>2.0</td>\n",
       "      <td>3.0</td>\n",
       "    </tr>\n",
       "    <tr>\n",
       "      <th>5</th>\n",
       "      <td>5.0</td>\n",
       "      <td>3.0</td>\n",
       "      <td>3.0</td>\n",
       "    </tr>\n",
       "    <tr>\n",
       "      <th>6</th>\n",
       "      <td>5.3</td>\n",
       "      <td>3.0</td>\n",
       "      <td>2.0</td>\n",
       "    </tr>\n",
       "    <tr>\n",
       "      <th>7</th>\n",
       "      <td>6.7</td>\n",
       "      <td>3.0</td>\n",
       "      <td>2.0</td>\n",
       "    </tr>\n",
       "    <tr>\n",
       "      <th>8</th>\n",
       "      <td>6.0</td>\n",
       "      <td>3.0</td>\n",
       "      <td>3.0</td>\n",
       "    </tr>\n",
       "    <tr>\n",
       "      <th>9</th>\n",
       "      <td>5.3</td>\n",
       "      <td>2.0</td>\n",
       "      <td>4.0</td>\n",
       "    </tr>\n",
       "    <tr>\n",
       "      <th>10</th>\n",
       "      <td>7.0</td>\n",
       "      <td>7.0</td>\n",
       "      <td>5.0</td>\n",
       "    </tr>\n",
       "  </tbody>\n",
       "</table>\n",
       "</div>"
      ],
      "text/plain": [
       "     Produccion  Operarios  Generadores\n",
       "Año                                    \n",
       "1           3.3        4.0          3.0\n",
       "2           5.3        4.0          2.0\n",
       "3           8.3        6.0          5.0\n",
       "4           4.3        2.0          3.0\n",
       "5           5.0        3.0          3.0\n",
       "6           5.3        3.0          2.0\n",
       "7           6.7        3.0          2.0\n",
       "8           6.0        3.0          3.0\n",
       "9           5.3        2.0          4.0\n",
       "10          7.0        7.0          5.0"
      ]
     },
     "execution_count": 17,
     "metadata": {},
     "output_type": "execute_result"
    }
   ],
   "source": [
    "# Imprimir producción cada año\n",
    "prodProm = {i: (prodMin[i]+prodModa[i]+prodMax[i])/3 for i in Pozos}\n",
    "\n",
    "pr = {t: round(sum((prodProm[i]*lp.value(x[i,t]) for i in Pozos)),1) for t in Tiempos}\n",
    "op = {t: sum(operarios[i]*lp.value(x[i,t]) for i in Pozos) for t in Tiempos}\n",
    "gen = {t: sum(generadores[i]*lp.value(x[i,t]) for i in Pozos) for t in Tiempos}\n",
    "\n",
    "resumen = pd.DataFrame([pr, op, gen]).transpose()\n",
    "resumen.columns=['Produccion', 'Operarios', 'Generadores']\n",
    "resumen.index.name = 'Año'\n",
    "resumen"
   ]
  },
  {
   "cell_type": "markdown",
   "id": "kgx1c8VsbaOF",
   "metadata": {
    "deletable": false,
    "editable": false,
    "id": "kgx1c8VsbaOF",
    "nbgrader": {
     "cell_type": "markdown",
     "checksum": "40232635d72dd55ae9653b0d3847f71e",
     "grade": false,
     "grade_id": "cell-fd6a91wb23723db3",
     "locked": true,
     "schema_version": 3,
     "solution": false,
     "task": false
    },
    "tags": []
   },
   "source": [
    "### Visualizaciones\n",
    "---"
   ]
  },
  {
   "cell_type": "markdown",
   "id": "ng4umfnpbaOG",
   "metadata": {
    "deletable": false,
    "editable": false,
    "id": "ng4umfnpbaOG",
    "nbgrader": {
     "cell_type": "markdown",
     "checksum": "d6b513a7212a37f98bb70490ba8f6a7a",
     "grade": false,
     "grade_id": "cell-81d8e0c4992d661d",
     "locked": true,
     "schema_version": 3,
     "solution": false,
     "task": false
    }
   },
   "source": [
    "**Metas de producción**"
   ]
  },
  {
   "cell_type": "code",
   "execution_count": 18,
   "id": "hGablG0ibaOG",
   "metadata": {
    "deletable": false,
    "editable": false,
    "id": "hGablG0ibaOG",
    "nbgrader": {
     "cell_type": "code",
     "checksum": "74946c6e41ccbb974555b3b64f7651d8",
     "grade": false,
     "grade_id": "cell-a31affd66d80a167",
     "locked": true,
     "schema_version": 3,
     "solution": false,
     "task": false
    }
   },
   "outputs": [
    {
     "data": {
      "image/png": "[encoded data removed]",
      "text/plain": [
       "<Figure size 800x550 with 1 Axes>"
      ]
     },
     "metadata": {
      "image/png": {
       "height": 506,
       "width": 677
      }
     },
     "output_type": "display_data"
    }
   ],
   "source": [
    "plt.bar(Tiempos, pr.values(), color=\"green\", label=\"Produccion\")\n",
    "plt.bar(Tiempos, metas.values(), color=\"red\", label=\"Meta\")\n",
    "plt.bar(Tiempos, [val - 0.25 for val in metas.values()], color=\"green\")\n",
    "\n",
    "plt.legend()\n",
    "plt.xlabel(\"Año\")\n",
    "plt.ylabel(\"Miles de barriles\")\n",
    "plt.title(\"Cumplimiento de metas de producción\")\n",
    "\n",
    "plt.show()"
   ]
  },
  {
   "cell_type": "markdown",
   "id": "EcV26YiBbaOG",
   "metadata": {
    "deletable": false,
    "editable": false,
    "id": "EcV26YiBbaOG",
    "nbgrader": {
     "cell_type": "markdown",
     "checksum": "ef8fdea8877251a0068ac407e67da561",
     "grade": false,
     "grade_id": "cell-83d8e0c4992d661d",
     "locked": true,
     "schema_version": 3,
     "solution": false,
     "task": false
    }
   },
   "source": [
    "**Uso de operarios**"
   ]
  },
  {
   "cell_type": "code",
   "execution_count": 19,
   "id": "47zQ1bTibaOG",
   "metadata": {
    "deletable": false,
    "editable": false,
    "id": "47zQ1bTibaOG",
    "nbgrader": {
     "cell_type": "code",
     "checksum": "ec022d6d3315c681f8e729d9a5afa369",
     "grade": false,
     "grade_id": "cell-a35affd66d80a167",
     "locked": true,
     "schema_version": 3,
     "solution": false,
     "task": false
    }
   },
   "outputs": [
    {
     "data": {
      "image/png": "[encoded data removed]",
      "text/plain": [
       "<Figure size 800x550 with 1 Axes>"
      ]
     },
     "metadata": {
      "image/png": {
       "height": 506,
       "width": 684
      }
     },
     "output_type": "display_data"
    }
   ],
   "source": [
    "plt.bar(Tiempos, op.values(), color=\"blue\", alpha=0.5, label=\"Utilizados\")\n",
    "if caso_operarios:\n",
    "    plt.plot(\n",
    "        Tiempos,\n",
    "        list(operariosDisp.values()),\n",
    "        color=\"red\",\n",
    "        label=\"Disponibles\",\n",
    "        linestyle=\"-\",\n",
    "        marker=\"o\",\n",
    "    )\n",
    "else:\n",
    "    plt.plot(\n",
    "        range(0, 12),\n",
    "        [maxOperarios] * (len(Tiempos) + 2),\n",
    "        color=\"red\",\n",
    "        label=\"Disponibles\",\n",
    "    )\n",
    "\n",
    "plt.legend()\n",
    "plt.ylim(0, 12)\n",
    "plt.xlabel(\"Año\")\n",
    "plt.ylabel(\"Operarios\")\n",
    "plt.title(\"Operarios utilizados por año\")\n",
    "\n",
    "plt.show()"
   ]
  },
  {
   "cell_type": "markdown",
   "id": "cL9BXTXQbaOG",
   "metadata": {
    "deletable": false,
    "editable": false,
    "id": "cL9BXTXQbaOG",
    "nbgrader": {
     "cell_type": "markdown",
     "checksum": "de59a5ebea978ea5a8d8bf12d537dc43",
     "grade": false,
     "grade_id": "cell-fdf2c0c658101178",
     "locked": true,
     "schema_version": 3,
     "solution": false,
     "task": false
    }
   },
   "source": [
    "**Uso de generadores**"
   ]
  },
  {
   "cell_type": "code",
   "execution_count": 20,
   "id": "kI1IfyEQbaOG",
   "metadata": {
    "deletable": false,
    "editable": false,
    "id": "kI1IfyEQbaOG",
    "nbgrader": {
     "cell_type": "code",
     "checksum": "be5e50e3e95b3a09cf55cb4bde2b9b33",
     "grade": false,
     "grade_id": "cell-9a3fd75cb096702f",
     "locked": true,
     "schema_version": 3,
     "solution": false,
     "task": false
    }
   },
   "outputs": [
    {
     "data": {
      "image/png": "[encoded data removed]",
      "text/plain": [
       "<Figure size 800x550 with 1 Axes>"
      ]
     },
     "metadata": {
      "image/png": {
       "height": 506,
       "width": 684
      }
     },
     "output_type": "display_data"
    }
   ],
   "source": [
    "plt.bar(Tiempos, gen.values(), color=\"blue\", alpha=0.5, label=\"Utilizados\")\n",
    "plt.plot(\n",
    "    range(0, 12),\n",
    "    [maxGeneradores] * (len(Tiempos) + 2),\n",
    "    color=\"red\",\n",
    "    label=\"Disponibles\",\n",
    ")\n",
    "\n",
    "plt.legend()\n",
    "plt.ylim(0, 12)\n",
    "plt.xlabel(\"Año\")\n",
    "plt.ylabel(\"Generadores\")\n",
    "plt.title(\"Generadores utilizados por año\")\n",
    "\n",
    "plt.show()"
   ]
  },
  {
   "cell_type": "markdown",
   "id": "xxJHtrPKnfRJ",
   "metadata": {
    "id": "xxJHtrPKnfRJ"
   },
   "source": [
    "**ANÁLISIS DE RESULTADOS**\n",
    "\n",
    "Las siguientes celdas son calificables\n"
   ]
  },
  {
   "cell_type": "markdown",
   "id": "WwXWwMu5lmIR",
   "metadata": {
    "id": "WwXWwMu5lmIR"
   },
   "source": [
    "## Caso 1\n",
    "\n",
    "*Una vez esté listo el modelo, responder las siguientes preguntas:  ¿Qué pozos deberían ser perforados y en qué periodo teniendo en cuenta estas nuevas condiciones?\n",
    "¿Cuánto sería la utilidad esperada? ¿Cuánto sería la inversión? ¿Cómo se comporta el uso de recursos a\n",
    "través del horizonte de planeación?*"
   ]
  },
  {
   "cell_type": "code",
   "execution_count": 21,
   "id": "99188994",
   "metadata": {
    "scrolled": false
   },
   "outputs": [
    {
     "name": "stdout",
     "output_type": "stream",
     "text": [
      "Pozos perforados en año 1\n",
      "FLORENA C-6\n",
      "\n",
      "\n",
      "Pozos perforados en año 2\n",
      "FLORENA A-5\n",
      "\n",
      "\n",
      "Pozos perforados en año 3\n",
      "PAUTO-1\n",
      "\n",
      "\n",
      "Pozos perforados en año 4\n",
      "EL MORRO-1\n",
      "\n",
      "\n",
      "Pozos perforados en año 5\n",
      "VOLCANERA A-1\n",
      "\n",
      "\n",
      "Pozos perforados en año 6\n",
      "FLORENA-T8\n",
      "\n",
      "\n",
      "Pozos perforados en año 7\n",
      "FLORENA N-2\n",
      "\n",
      "\n",
      "Pozos perforados en año 8\n",
      "PAUTO SUR C-2\n",
      "\n",
      "\n",
      "Pozos perforados en año 9\n",
      "DELE B-1\n",
      "\n",
      "\n",
      "PAUTO M4\n",
      "\n",
      "\n",
      "Pozos perforados en año 10\n",
      "PAUTO M-5\n",
      "\n",
      "\n",
      "PAUTO SUR B-1\n",
      "\n",
      "\n"
     ]
    }
   ],
   "source": [
    "##CELDA 42\n",
    "#¿Qué pozos deberían ser perforados y en qué periodo teniendo en cuenta estas nuevas condiciones?\n",
    "pozos = []\n",
    "for t in Tiempos:\n",
    "    print('Pozos perforados en año', t)\n",
    "    for i in Pozos:\n",
    "        if lp.value(x[i,t]) > 0:\n",
    "            pozos.append(i)\n",
    "            print(i)\n",
    "            print('\\n')"
   ]
  },
  {
   "cell_type": "code",
   "execution_count": 22,
   "id": "3dca1647",
   "metadata": {},
   "outputs": [
    {
     "name": "stdout",
     "output_type": "stream",
     "text": [
      "Utilidad esperada = $ 1124.0\n",
      "Inversión total = $ 104.0\n"
     ]
    }
   ],
   "source": [
    "#¿Cuánto sería la utilidad esperada? \n",
    "utilidad_esperada = sum(utilidad[i,t]*lp.value(x[i,t]) for i,t in Pozo_x_Tiempo)\n",
    "print(\"Utilidad esperada = $\", utilidad_esperada)\n",
    "\n",
    "#¿Cuánto sería la inversión?\n",
    "inversion = sum(costo[i,t]*lp.value(x[i,t]) for i,t in Pozo_x_Tiempo)\n",
    "print(\"Inversión total = $\", inversion)"
   ]
  },
  {
   "cell_type": "markdown",
   "id": "gnLDtgANmIRf",
   "metadata": {
    "id": "gnLDtgANmIRf"
   },
   "source": [
    "**Responder aquí ...**\n",
    "\n",
    "a) ¿Qué pozos deberían ser perforados y en qué periodo teniendo en cuenta estas nuevas condiciones?\n",
    "   RTA: ver CELDA 42\n",
    "\n",
    "b) ¿Cuánto sería la utilidad esperada? \n",
    "   RTA: Utilidad esperada = $ 1124.0\n",
    "\n",
    "c) ¿Cuánto sería la inversión?   \n",
    "   RTA: Inversión = $ 104.0\n",
    "   \n",
    "d) ¿Cómo se comporta el uso de recursos a través del horizonte de planeación?\n",
    "   RTA: \n",
    ">   1) Operarios:\n",
    "      * Los operarios solo son utilizados en su disponibilidad completa unicamente en los dos ultimos años de todo el horizonte de planeación. \n",
    "      * Los primeros 8 años nunca se utilizan mas de 4. Solo en los últimos 2 periodos de tiempo se incrementa el numero debido a que en la planeación de perforación son en estos periodos donde se perforan más pozos a comparación de años anteriores\n",
    "\n",
    ">   2) Generadores:\n",
    "       * Los generadores presentan un comportamiento similar a los operarios. Se mantiene un uso relativamente uniforme en los primeros 4 años, pero luego en los últimos 2 años se incrementa el uso al tope disponible. Por la misma razón por la que se incrementa el uso de operarios en esos dos periodos.\n"
   ]
  },
  {
   "cell_type": "markdown",
   "id": "KGmv5DScmOUt",
   "metadata": {
    "id": "KGmv5DScmOUt"
   },
   "source": [
    "## Caso 2\n",
    "\n",
    "*Una vez esté listo el modelo, responder las siguientes preguntas:  ¿Cómo cambia la solución respecto al\n",
    "escenario base?*"
   ]
  },
  {
   "cell_type": "code",
   "execution_count": 20,
   "id": "7393898d",
   "metadata": {},
   "outputs": [
    {
     "name": "stdout",
     "output_type": "stream",
     "text": [
      "Utilidad esperada = $ 1124.0\n",
      "Inversión total = $ 110.0\n"
     ]
    }
   ],
   "source": [
    "#¿Cuánto sería la utilidad esperada? \n",
    "utilidad_esperada = sum(utilidad[i,t]*lp.value(x[i,t]) for i,t in Pozo_x_Tiempo)\n",
    "print(\"Utilidad esperada = $\", utilidad_esperada)\n",
    "\n",
    "#¿Cuánto sería la inversión?\n",
    "inversion = sum(costo[i,t]*lp.value(x[i,t]) for i,t in Pozo_x_Tiempo)\n",
    "print(\"Inversión total = $\", inversion)"
   ]
  },
  {
   "cell_type": "code",
   "execution_count": 21,
   "id": "0f28a5c2",
   "metadata": {},
   "outputs": [
    {
     "name": "stdout",
     "output_type": "stream",
     "text": [
      "Pozos perforados en año 1\n",
      "FLORENA C-6\n",
      "\n",
      "\n",
      "Pozos perforados en año 2\n",
      "FLORENA A-5\n",
      "\n",
      "\n",
      "Pozos perforados en año 3\n",
      "PAUTO-1\n",
      "\n",
      "\n",
      "Pozos perforados en año 4\n",
      "EL MORRO-1\n",
      "\n",
      "\n",
      "Pozos perforados en año 5\n",
      "VOLCANERA A-1\n",
      "\n",
      "\n",
      "Pozos perforados en año 6\n",
      "FLORENA-T8\n",
      "\n",
      "\n",
      "Pozos perforados en año 7\n",
      "FLORENA N-2\n",
      "\n",
      "\n",
      "Pozos perforados en año 8\n",
      "PAUTO M4\n",
      "\n",
      "\n",
      "Pozos perforados en año 9\n",
      "DELE B-1\n",
      "\n",
      "\n",
      "PAUTO SUR C-2\n",
      "\n",
      "\n",
      "Pozos perforados en año 10\n",
      "PAUTO M-5\n",
      "\n",
      "\n",
      "PAUTO SUR B-1\n",
      "\n",
      "\n"
     ]
    }
   ],
   "source": [
    "##CELDA 42\n",
    "#¿Qué pozos deberían ser perforados y en qué periodo teniendo en cuenta estas nuevas condiciones?\n",
    "pozos = []\n",
    "for t in Tiempos:\n",
    "    print('Pozos perforados en año', t)\n",
    "    for i in Pozos:\n",
    "        if lp.value(x[i,t]) > 0:\n",
    "            pozos.append(i)\n",
    "            print(i)\n",
    "            print('\\n')"
   ]
  },
  {
   "cell_type": "code",
   "execution_count": 30,
   "id": "b643dd2c",
   "metadata": {},
   "outputs": [
    {
     "name": "stdout",
     "output_type": "stream",
     "text": [
      "    1     2      3      4      5      6      7     8     9     10\n",
      "0  5.0  6.65  14.15  22.45  25.95  35.65  44.75  39.9  42.9  51.6\n"
     ]
    }
   ],
   "source": [
    "matriz = {}\n",
    "inventarios = []\n",
    "df = pd.DataFrame()\n",
    "\n",
    "for t in Tiempos:\n",
    "    inventarios.append(I[t].value())\n",
    "\n",
    "for columna, valor in zip(Tiempos, inventarios):\n",
    "    df[columna] = [valor]\n",
    "    \n",
    "print(df)"
   ]
  },
  {
   "cell_type": "markdown",
   "id": "Io6s_lwlmUdw",
   "metadata": {
    "id": "Io6s_lwlmUdw"
   },
   "source": [
    "**Responder aquí ...**\n",
    "\n",
    "Con respecto al escenario base se tenian los siguientes resultados:\n",
    "1) Utilidad esperada  =  1124, el valor se mantiene con respecto al base\n",
    "2) Inversión total  =  104, con el nuevo modelo se incrementa la inversión a 110\n",
    "\n",
    ">Distribuir la inversión en años iguales e incluir un porcentaje de la utilidad del periodo anterior genera el mismo resultado que tener todo un valor de inversión a lo largo del horizonte de planeación a excepción que se incrementa la inversión en USD 6 Millones.\n",
    "\n",
    ">La cantidad de pozos a perforar se mantiene en 11, sin embargo cambian en los periodos 8 y 9, lo que implicaria el morivo en el aumento de la inversión\n",
    "\n",
    "No se justifica realizar los cambios propuestos en el modelo puesto que no generan un valor agregado y si producen mas costos de inversión"
   ]
  },
  {
   "cell_type": "markdown",
   "id": "z94tAzoMmcH7",
   "metadata": {
    "id": "z94tAzoMmcH7"
   },
   "source": [
    "## Caso 3\n",
    "\n",
    "*Una vez esté listo el modelo, responder las siguientes preguntas:  ¿qué recomendación le daría al vicepresidente? ¿Por qué?*"
   ]
  },
  {
   "cell_type": "code",
   "execution_count": 20,
   "id": "7c07e169",
   "metadata": {},
   "outputs": [
    {
     "name": "stdout",
     "output_type": "stream",
     "text": [
      "Utilidad esperada = $ 1212.0\n",
      "Inversión total = $ 113.0\n"
     ]
    }
   ],
   "source": [
    "#¿Cuánto sería la utilidad esperada? \n",
    "utilidad_esperada = sum(utilidad[i,t]*lp.value(x[i,t]) for i,t in Pozo_x_Tiempo)\n",
    "print(\"Utilidad esperada = $\", utilidad_esperada)\n",
    "\n",
    "#¿Cuánto sería la inversión?\n",
    "inversion = sum(costo[i,t]*lp.value(x[i,t]) for i,t in Pozo_x_Tiempo)\n",
    "print(\"Inversión total = $\", inversion)"
   ]
  },
  {
   "cell_type": "markdown",
   "id": "SbVw676NmwnV",
   "metadata": {
    "id": "SbVw676NmwnV"
   },
   "source": [
    "**Responder aquí ...**\n",
    "\n",
    "Con respecto al escenario base se tenian los siguientes resultados:\n",
    "1) Utilidad esperada  =  1124, con el nuevo modelo se incrementa a 1212\n",
    "2) Inversión total  =  104, con el nuevo modelo se incrementa la inversión a 113\n",
    "\n",
    "Aparentemente la utilidad aumenta considerablemente en 12%, sin embargo la inversión tambien crece en un 11%\n",
    "> Para validar que tan eficiente en terminos de beneficio para la empresa se podria realizar una evaluación del ROI en cada escenario\n",
    ">> $$ROI = \\frac{Utilidad}{Costo de Inversion}$$\n",
    "\n",
    "Es asi como el ROI para cada escenario es el siguiente:\n",
    "\n",
    "* ROI escenario base: 1124 / 104 = 10.8\n",
    "* ROI nuevo modelo: 1212 / 112 = 10.7\n",
    ">En terminos porcentuales, el retorno de la inversión es totalmente positiva para la empresa, sin embargo el nuevo modelo genera un ROI menor por 0.1 con respecto al ROI base. \n",
    "\n",
    "Dado que el cambio es poco significativo entre los dos escenarios y el vicepresidente quiere contemplar la posibilidad de no lograr alcanzar la meta, se puede implementar el nuevo modelo sobre el base"
   ]
  },
  {
   "cell_type": "markdown",
   "id": "nJId6fLimxxo",
   "metadata": {
    "id": "nJId6fLimxxo"
   },
   "source": [
    "## Caso 4\n",
    "\n",
    "*Una vez esté listo el modelo, responder las siguientes preguntas:¿Qué pozos deberían ser perforados y en qué periodo teniendo en cuenta estos cambios en los operarios?\n",
    "¿Cuánto sería la utilidad esperada? ¿Cuánto sería la inversión? ¿Cómo se comporta el uso de recursos a\n",
    "través del horizonte de planeación?*"
   ]
  },
  {
   "cell_type": "code",
   "execution_count": 22,
   "id": "6d36fec5",
   "metadata": {},
   "outputs": [
    {
     "name": "stdout",
     "output_type": "stream",
     "text": [
      "Pozos perforados en año 1\n",
      "FLORENA C-6\n",
      "\n",
      "\n",
      "Pozos perforados en año 2\n",
      "FLORENA A-5\n",
      "\n",
      "\n",
      "Pozos perforados en año 3\n",
      "FLORENA N-4 ST\n",
      "\n",
      "\n",
      "FLORENA-T8\n",
      "\n",
      "\n",
      "Pozos perforados en año 4\n",
      "EL MORRO-1\n",
      "\n",
      "\n",
      "Pozos perforados en año 5\n",
      "PAUTO M4\n",
      "\n",
      "\n",
      "Pozos perforados en año 6\n",
      "PAUTO-1\n",
      "\n",
      "\n",
      "Pozos perforados en año 7\n",
      "FLORENA N-2\n",
      "\n",
      "\n",
      "Pozos perforados en año 8\n",
      "PAUTO SUR C-2\n",
      "\n",
      "\n",
      "Pozos perforados en año 9\n",
      "PAUTO SUR B-1\n",
      "\n",
      "\n",
      "Pozos perforados en año 10\n",
      "DELE B-1\n",
      "\n",
      "\n",
      "PAUTO M-5\n",
      "\n",
      "\n"
     ]
    }
   ],
   "source": [
    "#¿Qué pozos deberían ser perforados y en qué periodo teniendo en cuenta estos cambios en los operarios?\n",
    "pozos = []\n",
    "for t in Tiempos:\n",
    "    print('Pozos perforados en año', t)\n",
    "    for i in Pozos:\n",
    "        if lp.value(x[i,t]) > 0:\n",
    "            pozos.append(i)\n",
    "            print(i)\n",
    "            print('\\n')"
   ]
  },
  {
   "cell_type": "code",
   "execution_count": 21,
   "id": "babef074",
   "metadata": {},
   "outputs": [
    {
     "name": "stdout",
     "output_type": "stream",
     "text": [
      "Utilidad esperada = $ 1143.0\n",
      "Inversión total = $ 118.0\n"
     ]
    }
   ],
   "source": [
    "#¿Cuánto sería la utilidad esperada? \n",
    "utilidad_esperada = sum(utilidad[i,t]*lp.value(x[i,t]) for i,t in Pozo_x_Tiempo)\n",
    "print(\"Utilidad esperada = $\", utilidad_esperada)\n",
    "\n",
    "#¿Cuánto sería la inversión?\n",
    "inversion = sum(costo[i,t]*lp.value(x[i,t]) for i,t in Pozo_x_Tiempo)\n",
    "print(\"Inversión total = $\", inversion)"
   ]
  },
  {
   "cell_type": "code",
   "execution_count": 23,
   "id": "cee3e40d",
   "metadata": {},
   "outputs": [
    {
     "data": {
      "image/png": "[encoded data removed]",
      "text/plain": [
       "<Figure size 800x550 with 1 Axes>"
      ]
     },
     "metadata": {
      "image/png": {
       "height": 506,
       "width": 684
      }
     },
     "output_type": "display_data"
    }
   ],
   "source": [
    "plt.bar(Tiempos, op.values(), color=\"blue\", alpha=0.5, label=\"Utilizados\")\n",
    "if caso_operarios:\n",
    "    plt.plot(\n",
    "        Tiempos,\n",
    "        list(operariosDisp.values()),\n",
    "        color=\"red\",\n",
    "        label=\"Disponibles\",\n",
    "        linestyle=\"-\",\n",
    "        marker=\"o\",\n",
    "    )\n",
    "else:\n",
    "    plt.plot(\n",
    "        range(0, 12),\n",
    "        [maxOperarios] * (len(Tiempos) + 2),\n",
    "        color=\"red\",\n",
    "        label=\"Disponibles\",\n",
    "    )\n",
    "\n",
    "plt.legend()\n",
    "plt.ylim(0, 12)\n",
    "plt.xlabel(\"Año\")\n",
    "plt.ylabel(\"Operarios\")\n",
    "plt.title(\"Operarios utilizados por año\")\n",
    "\n",
    "plt.show()"
   ]
  },
  {
   "cell_type": "markdown",
   "id": "INM13zMNmu3O",
   "metadata": {
    "id": "INM13zMNmu3O"
   },
   "source": [
    "**Responder aquí ...**\n",
    "\n",
    "Con respecto al escenario base se tenian los siguientes resultados:\n",
    "1) Utilidad esperada  =  1124, con el nuevo modelo se incrementa a 1143\n",
    "2) Inversión total  =  104, con el nuevo modelo se incrementa la inversión a 118\n",
    "\n",
    "Es asi como el ROI para cada escenario es el siguiente:\n",
    "\n",
    "* ROI escenario base: 1124 / 104 = 10.8\n",
    "* ROI nuevo modelo: 1143 / 118 = 9.7\n",
    "\n",
    ">En terminos porcentuales, el retorno de la inversión es totalmente positiva para la empresa, sin embargo el nuevo modelo genera un ROI menor por 1.1 con respecto al ROI base.\n",
    "\n",
    "La disposición de los operarios nunca llega a ser usada completamente, unicamente el los periodos 5 y 10 son altamente usados y aún asi no logra opcupar la disponibildad completa.\n",
    "\n",
    "Dado que el ROI en el nuevo escenario es menor al ROI base, a pesar de incrementar la utilidad generada, sugeriria no realizar estos cambios al modelo y permanecer en el modelo base."
   ]
  },
  {
   "cell_type": "markdown",
   "id": "gPWfuARabaOH",
   "metadata": {
    "deletable": false,
    "editable": false,
    "id": "gPWfuARabaOH",
    "nbgrader": {
     "cell_type": "markdown",
     "checksum": "54241a12210afba1fe4b2ba3a32d97a7",
     "grade": false,
     "grade_id": "cell-2fe5051c526bb342",
     "locked": true,
     "schema_version": 3,
     "solution": false,
     "task": false
    }
   },
   "source": [
    "## Opcional (0 puntos)\n",
    "\n",
    "*Una vez esté listo el modelo, puedes cambiar los valores de los parámetros a continuación para verificar como cambian las soluciones y la función objetivo. Para esto debes correr nuevamente las celdas que crean el modelo desde el principio*"
   ]
  },
  {
   "cell_type": "code",
   "execution_count": 42,
   "id": "Mg1HFlT2baOH",
   "metadata": {
    "id": "Mg1HFlT2baOH"
   },
   "outputs": [],
   "source": [
    "# Parámetros modificables\n",
    "presupuesto = 120  # Presupuesto máximo\n",
    "maxProyectos = 12  # Máximo número de proyectos a realizar - restricción ambiental\n",
    "maxOperarios = 6  # Máximo número de operarios por año\n",
    "maxGeneradores = 6  # Máximo número de generadores por año"
   ]
  },
  {
   "cell_type": "markdown",
   "id": "ZWIAmVUPbaOH",
   "metadata": {
    "id": "ZWIAmVUPbaOH"
   },
   "source": [
    "**Reflexión**: ¿Tienen sentido los cambios en las soluciones y el valor de la función objetivo para cada variante del problema? ¿Puedes explicar porqué ocurren estos cambios?"
   ]
  },
  {
   "cell_type": "markdown",
   "id": "IdRoBsUGbaOH",
   "metadata": {
    "id": "IdRoBsUGbaOH"
   },
   "source": [
    "### Fin del laboratorio\n",
    "---\n",
    "\n",
    "¡Muchos éxitos!"
   ]
  }
 ],
 "metadata": {
  "colab": {
   "provenance": []
  },
  "kernelspec": {
   "display_name": "Python 3 (ipykernel)",
   "language": "python",
   "name": "python3"
  },
  "language_info": {
   "codemirror_mode": {
    "name": "ipython",
    "version": 3
   },
   "file_extension": ".py",
   "mimetype": "text/x-python",
   "name": "python",
   "nbconvert_exporter": "python",
   "pygments_lexer": "ipython3",
   "version": "3.11.4"
  },
  "toc-autonumbering": false,
  "toc-showcode": false,
  "toc-showmarkdowntxt": false,
  "toc-showtags": false
 },
 "nbformat": 4,
 "nbformat_minor": 5
}
